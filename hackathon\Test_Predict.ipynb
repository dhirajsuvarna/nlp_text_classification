{
  "nbformat": 4,
  "nbformat_minor": 0,
  "metadata": {
    "colab": {
      "name": "Test_Predict .ipynb",
      "provenance": [],
      "include_colab_link": true
    },
    "kernelspec": {
      "name": "python3",
      "display_name": "Python 3"
    }
  },
  "cells": [
    {
      "cell_type": "markdown",
      "metadata": {
        "id": "view-in-github",
        "colab_type": "text"
      },
      "source": [
        "<a href=\"https://colab.research.google.com/github/dhirajsuvarna/nlp_text_classification/blob/master/hackathon%5CTest_Predict.ipynb\" target=\"_parent\"><img src=\"https://colab.research.google.com/assets/colab-badge.svg\" alt=\"Open In Colab\"/></a>"
      ]
    },
    {
      "cell_type": "code",
      "metadata": {
        "id": "hhHv09RZ2u5e",
        "colab_type": "code",
        "colab": {
          "base_uri": "https://localhost:8080/",
          "height": 122
        },
        "outputId": "8a4376b6-a780-43a2-ed0e-6647226748e6"
      },
      "source": [
        "from google.colab import drive\n",
        "drive.mount('/content/drive')"
      ],
      "execution_count": 1,
      "outputs": [
        {
          "output_type": "stream",
          "text": [
            "Go to this URL in a browser: https://accounts.google.com/o/oauth2/auth?client_id=947318989803-6bn6qk8qdgf4n4g3pfee6491hc0brc4i.apps.googleusercontent.com&redirect_uri=urn%3aietf%3awg%3aoauth%3a2.0%3aoob&response_type=code&scope=email%20https%3a%2f%2fwww.googleapis.com%2fauth%2fdocs.test%20https%3a%2f%2fwww.googleapis.com%2fauth%2fdrive%20https%3a%2f%2fwww.googleapis.com%2fauth%2fdrive.photos.readonly%20https%3a%2f%2fwww.googleapis.com%2fauth%2fpeopleapi.readonly\n",
            "\n",
            "Enter your authorization code:\n",
            "··········\n",
            "Mounted at /content/drive\n"
          ],
          "name": "stdout"
        }
      ]
    },
    {
      "cell_type": "code",
      "metadata": {
        "id": "EZghCMv76bUJ",
        "colab_type": "code",
        "colab": {}
      },
      "source": [
        "from fastai.text import *\n",
        "import html\n",
        "\n",
        "df_test = pd.read_csv('/content/drive/My Drive/Projects/AnalyticsHackathon/NLP_02_Test_Set_Prediction_user.csv')\n",
        "\n",
        "df_test['review'] = df_test['review'].apply(html.unescape)"
      ],
      "execution_count": 0,
      "outputs": []
    },
    {
      "cell_type": "code",
      "metadata": {
        "id": "t69Eyi6O6rOk",
        "colab_type": "code",
        "colab": {
          "base_uri": "https://localhost:8080/",
          "height": 17
        },
        "outputId": "0df8f4bb-a2a1-444c-d076-aa4406bd4d0e"
      },
      "source": [
        "\n",
        "learn_clas_fwd = load_learner('/content/drive/My Drive/Projects/AnalyticsHackathon', 'learned_classifer_try_2_fwd.pkl')\n",
        "learn_clas_bwd = load_learner('/content/drive/My Drive/Projects/AnalyticsHackathon', 'learned_classifer_try_2_bwd.pkl')"
      ],
      "execution_count": 5,
      "outputs": [
        {
          "output_type": "display_data",
          "data": {
            "text/html": [
              ""
            ],
            "text/plain": [
              "<IPython.core.display.HTML object>"
            ]
          },
          "metadata": {
            "tags": []
          }
        },
        {
          "output_type": "display_data",
          "data": {
            "text/html": [
              ""
            ],
            "text/plain": [
              "<IPython.core.display.HTML object>"
            ]
          },
          "metadata": {
            "tags": []
          }
        },
        {
          "output_type": "display_data",
          "data": {
            "text/html": [
              ""
            ],
            "text/plain": [
              "<IPython.core.display.HTML object>"
            ]
          },
          "metadata": {
            "tags": []
          }
        },
        {
          "output_type": "display_data",
          "data": {
            "text/html": [
              ""
            ],
            "text/plain": [
              "<IPython.core.display.HTML object>"
            ]
          },
          "metadata": {
            "tags": []
          }
        }
      ]
    },
    {
      "cell_type": "code",
      "metadata": {
        "id": "FeOriYbe7Liv",
        "colab_type": "code",
        "colab": {}
      },
      "source": [
        "def predict_condition(review):\n",
        "  pred_condition_fwd, y_fwd, pred_tensor_fwd   = learn_clas_fwd.predict(review)\n",
        "  pred_condition_bwd, y_bwd, pred_tensor_bwd   = learn_clas_bwd.predict(review)\n",
        "  final_pred_tensor = (pred_tensor_fwd + pred_tensor_bwd) / 2\n",
        "  condition_id = np.argmax(final_pred_tensor, axis=0)\n",
        "  pred_condition = learn_clas_fwd.data.classes[condition_id]\n",
        "  return pred_condition"
      ],
      "execution_count": 0,
      "outputs": []
    },
    {
      "cell_type": "code",
      "metadata": {
        "id": "VrDu-HNS7LTs",
        "colab_type": "code",
        "colab": {}
      },
      "source": [
        "df_test['predicted_condition'] = df_test.apply(lambda x: predict_condition(x['review']), axis=1)"
      ],
      "execution_count": 0,
      "outputs": []
    },
    {
      "cell_type": "code",
      "metadata": {
        "id": "KOl55fEZ7rso",
        "colab_type": "code",
        "colab": {}
      },
      "source": [
        "df_test.to_csv('test_prediction.csv')"
      ],
      "execution_count": 0,
      "outputs": []
    },
    {
      "cell_type": "code",
      "metadata": {
        "id": "cxp3fWmv7_M1",
        "colab_type": "code",
        "colab": {
          "base_uri": "https://localhost:8080/",
          "height": 669
        },
        "outputId": "0b093b13-ac16-4b51-e545-73089b70c362"
      },
      "source": [
        "df_test.head(20)"
      ],
      "execution_count": 13,
      "outputs": [
        {
          "output_type": "execute_result",
          "data": {
            "text/html": [
              "<div>\n",
              "<style scoped>\n",
              "    .dataframe tbody tr th:only-of-type {\n",
              "        vertical-align: middle;\n",
              "    }\n",
              "\n",
              "    .dataframe tbody tr th {\n",
              "        vertical-align: top;\n",
              "    }\n",
              "\n",
              "    .dataframe thead th {\n",
              "        text-align: right;\n",
              "    }\n",
              "</style>\n",
              "<table border=\"1\" class=\"dataframe\">\n",
              "  <thead>\n",
              "    <tr style=\"text-align: right;\">\n",
              "      <th></th>\n",
              "      <th>Unnamed: 0</th>\n",
              "      <th>ItemId</th>\n",
              "      <th>review</th>\n",
              "      <th>predicted_condition</th>\n",
              "    </tr>\n",
              "  </thead>\n",
              "  <tbody>\n",
              "    <tr>\n",
              "      <th>0</th>\n",
              "      <td>0</td>\n",
              "      <td>1</td>\n",
              "      <td>\"I've tried a few antidepressants these years ...</td>\n",
              "      <td>Depression</td>\n",
              "    </tr>\n",
              "    <tr>\n",
              "      <th>1</th>\n",
              "      <td>1</td>\n",
              "      <td>2</td>\n",
              "      <td>\"I feel hungry before I want food now. I reall...</td>\n",
              "      <td>Weight Loss</td>\n",
              "    </tr>\n",
              "    <tr>\n",
              "      <th>2</th>\n",
              "      <td>2</td>\n",
              "      <td>3</td>\n",
              "      <td>\"I have been on this birth control for one cyc...</td>\n",
              "      <td>Birth Control</td>\n",
              "    </tr>\n",
              "    <tr>\n",
              "      <th>3</th>\n",
              "      <td>3</td>\n",
              "      <td>4</td>\n",
              "      <td>\"A doctor in the ER prescribed me 200 mg of Pr...</td>\n",
              "      <td>Narcolepsy</td>\n",
              "    </tr>\n",
              "    <tr>\n",
              "      <th>4</th>\n",
              "      <td>4</td>\n",
              "      <td>5</td>\n",
              "      <td>\"So I was on Ginanvi for about 3 months before...</td>\n",
              "      <td>Birth Control</td>\n",
              "    </tr>\n",
              "    <tr>\n",
              "      <th>5</th>\n",
              "      <td>5</td>\n",
              "      <td>6</td>\n",
              "      <td>\"This medication helped me  sleep, but eventua...</td>\n",
              "      <td>Anxiety</td>\n",
              "    </tr>\n",
              "    <tr>\n",
              "      <th>6</th>\n",
              "      <td>6</td>\n",
              "      <td>7</td>\n",
              "      <td>\"Have been on Actos for almost a year, gained ...</td>\n",
              "      <td>Diabetes, Type 2</td>\n",
              "    </tr>\n",
              "    <tr>\n",
              "      <th>7</th>\n",
              "      <td>7</td>\n",
              "      <td>8</td>\n",
              "      <td>\"Been a heavy drinker for over 6 years since a...</td>\n",
              "      <td>Alcohol Dependence</td>\n",
              "    </tr>\n",
              "    <tr>\n",
              "      <th>8</th>\n",
              "      <td>8</td>\n",
              "      <td>9</td>\n",
              "      <td>\"One more day! I hope the infection don't come...</td>\n",
              "      <td>Chlamydia Infection</td>\n",
              "    </tr>\n",
              "    <tr>\n",
              "      <th>9</th>\n",
              "      <td>9</td>\n",
              "      <td>10</td>\n",
              "      <td>\"Yes, this medication does work wonders, at fi...</td>\n",
              "      <td>ADHD</td>\n",
              "    </tr>\n",
              "    <tr>\n",
              "      <th>10</th>\n",
              "      <td>10</td>\n",
              "      <td>11</td>\n",
              "      <td>\"Since I was on the trials I put 6+ months but...</td>\n",
              "      <td>Diabetes, Type 1</td>\n",
              "    </tr>\n",
              "    <tr>\n",
              "      <th>11</th>\n",
              "      <td>11</td>\n",
              "      <td>12</td>\n",
              "      <td>\"I was prescribed Bactrim for a kidney infecti...</td>\n",
              "      <td>Kidney Infections</td>\n",
              "    </tr>\n",
              "    <tr>\n",
              "      <th>12</th>\n",
              "      <td>12</td>\n",
              "      <td>13</td>\n",
              "      <td>\"Started out yesterday at 242 and this morning...</td>\n",
              "      <td>Weight Loss</td>\n",
              "    </tr>\n",
              "    <tr>\n",
              "      <th>13</th>\n",
              "      <td>13</td>\n",
              "      <td>14</td>\n",
              "      <td>\"For uncontrolled nausea and vomiting that has...</td>\n",
              "      <td>Nausea/Vomiting</td>\n",
              "    </tr>\n",
              "    <tr>\n",
              "      <th>14</th>\n",
              "      <td>14</td>\n",
              "      <td>15</td>\n",
              "      <td>\"AAA ointment. it like... gives you wolverine ...</td>\n",
              "      <td>Bacterial Skin Infection</td>\n",
              "    </tr>\n",
              "    <tr>\n",
              "      <th>15</th>\n",
              "      <td>15</td>\n",
              "      <td>16</td>\n",
              "      <td>\"I am a 72 year old male that had a kidney rem...</td>\n",
              "      <td>Renal Cell Carcinoma</td>\n",
              "    </tr>\n",
              "    <tr>\n",
              "      <th>16</th>\n",
              "      <td>16</td>\n",
              "      <td>17</td>\n",
              "      <td>\"Make sure you drink more than 8 ozs of water ...</td>\n",
              "      <td>Constipation</td>\n",
              "    </tr>\n",
              "    <tr>\n",
              "      <th>17</th>\n",
              "      <td>17</td>\n",
              "      <td>18</td>\n",
              "      <td>\"Valtrex is fantastic if used correctly for co...</td>\n",
              "      <td>Cold Sores</td>\n",
              "    </tr>\n",
              "    <tr>\n",
              "      <th>18</th>\n",
              "      <td>18</td>\n",
              "      <td>19</td>\n",
              "      <td>\"I take metoprolol tartrate not metoprolol wit...</td>\n",
              "      <td>Urinary Tract Infection</td>\n",
              "    </tr>\n",
              "    <tr>\n",
              "      <th>19</th>\n",
              "      <td>19</td>\n",
              "      <td>20</td>\n",
              "      <td>\"Woke up in the middle of the night with a hor...</td>\n",
              "      <td>Cough</td>\n",
              "    </tr>\n",
              "  </tbody>\n",
              "</table>\n",
              "</div>"
            ],
            "text/plain": [
              "    Unnamed: 0  ...       predicted_condition\n",
              "0            0  ...                Depression\n",
              "1            1  ...               Weight Loss\n",
              "2            2  ...             Birth Control\n",
              "3            3  ...                Narcolepsy\n",
              "4            4  ...             Birth Control\n",
              "5            5  ...                   Anxiety\n",
              "6            6  ...          Diabetes, Type 2\n",
              "7            7  ...        Alcohol Dependence\n",
              "8            8  ...       Chlamydia Infection\n",
              "9            9  ...                      ADHD\n",
              "10          10  ...          Diabetes, Type 1\n",
              "11          11  ...         Kidney Infections\n",
              "12          12  ...               Weight Loss\n",
              "13          13  ...           Nausea/Vomiting\n",
              "14          14  ...  Bacterial Skin Infection\n",
              "15          15  ...      Renal Cell Carcinoma\n",
              "16          16  ...              Constipation\n",
              "17          17  ...                Cold Sores\n",
              "18          18  ...   Urinary Tract Infection\n",
              "19          19  ...                     Cough\n",
              "\n",
              "[20 rows x 4 columns]"
            ]
          },
          "metadata": {
            "tags": []
          },
          "execution_count": 13
        }
      ]
    }
  ]
}