{
  "nbformat": 4,
  "nbformat_minor": 0,
  "metadata": {
    "colab": {
      "name": "NLP-ULMFit-IMDB-Example.ipynb",
      "provenance": [],
      "collapsed_sections": [],
      "include_colab_link": true
    },
    "kernelspec": {
      "name": "python3",
      "display_name": "Python 3"
    },
    "accelerator": "GPU"
  },
  "cells": [
    {
      "cell_type": "markdown",
      "metadata": {
        "id": "view-in-github",
        "colab_type": "text"
      },
      "source": [
        "<a href=\"https://colab.research.google.com/github/dhirajsuvarna/nlp_text_classification/blob/master/learning/NLP_ULMFit_IMDB_Example.ipynb\" target=\"_parent\"><img src=\"https://colab.research.google.com/assets/colab-badge.svg\" alt=\"Open In Colab\"/></a>"
      ]
    },
    {
      "cell_type": "markdown",
      "metadata": {
        "id": "6B1ZDGD5XyjX"
      },
      "source": [
        "# Sentiment Analysis - IMDB\n",
        "\n",
        "Reference code - https://github.com/fastai/course-nlp/blob/master/review-nlp-transfer.ipynb\n",
        "\n",
        "This notebook uses `version 1` for `fastai`"
      ]
    },
    {
      "cell_type": "code",
      "metadata": {
        "id": "b-ET8Hy1FRN0"
      },
      "source": [
        "from fastai.text import *"
      ],
      "execution_count": 88,
      "outputs": []
    },
    {
      "cell_type": "code",
      "metadata": {
        "id": "aYpZTmCfBWf8",
        "outputId": "9bc9c166-a13c-45f7-dee5-68133f54464e",
        "colab": {
          "base_uri": "https://localhost:8080/",
          "height": 35
        }
      },
      "source": [
        "# recent version of fastai is 2.* - which needs to be installed in the colab seperately \n",
        "import fastai\n",
        "fastai.__version__"
      ],
      "execution_count": 89,
      "outputs": [
        {
          "output_type": "execute_result",
          "data": {
            "application/vnd.google.colaboratory.intrinsic+json": {
              "type": "string"
            },
            "text/plain": [
              "'1.0.61'"
            ]
          },
          "metadata": {},
          "execution_count": 89
        }
      ]
    },
    {
      "cell_type": "markdown",
      "metadata": {
        "id": "LAWTJddtk1Pi"
      },
      "source": [
        "## Get the data of IMDB \n",
        "\n",
        "This is a sample version of the IMDB dataset"
      ]
    },
    {
      "cell_type": "code",
      "metadata": {
        "id": "gNz-O50tk9hB",
        "colab": {
          "base_uri": "https://localhost:8080/"
        },
        "outputId": "cf73aa33-c9e2-4236-9a81-af78852a4bbb"
      },
      "source": [
        "print(f\"imdb sample path: {URLs.IMDB_SAMPLE}\")\n",
        "path = untar_data(URLs.IMDB_SAMPLE)\n",
        "print(f\"path:{path}\")"
      ],
      "execution_count": 90,
      "outputs": [
        {
          "output_type": "stream",
          "name": "stdout",
          "text": [
            "imdb sample path: http://files.fast.ai/data/examples/imdb_sample\n",
            "path:/root/.fastai/data/imdb_sample\n"
          ]
        }
      ]
    },
    {
      "cell_type": "code",
      "metadata": {
        "id": "rP31vVhjmeg5",
        "colab": {
          "base_uri": "https://localhost:8080/"
        },
        "outputId": "6f1473e5-e753-41c9-9729-1d1e8b97d2f0"
      },
      "source": [
        "df = pd.read_csv(path/'texts.csv')\n",
        "print(df.head(5))\n",
        "print(df.shape)\n"
      ],
      "execution_count": 91,
      "outputs": [
        {
          "output_type": "stream",
          "name": "stdout",
          "text": [
            "      label                                               text  is_valid\n",
            "0  negative  Un-bleeping-believable! Meg Ryan doesn't even ...     False\n",
            "1  positive  This is a extremely well-made film. The acting...     False\n",
            "2  negative  Every once in a long while a movie will come a...     False\n",
            "3  positive  Name just says it all. I watched this movie wi...     False\n",
            "4  negative  This movie succeeds at being one of the most u...     False\n",
            "(1000, 3)\n"
          ]
        }
      ]
    },
    {
      "cell_type": "code",
      "metadata": {
        "id": "FImzuJMY_20M",
        "outputId": "a4f6090a-a531-41cb-dcc0-7d62bfb4d190",
        "colab": {
          "base_uri": "https://localhost:8080/"
        }
      },
      "source": [
        "# Train and Validation split in the dataset\n",
        "print(df[df['is_valid'] == True].shape)\n",
        "print(df[df['is_valid'] == False].shape)"
      ],
      "execution_count": 92,
      "outputs": [
        {
          "output_type": "stream",
          "name": "stdout",
          "text": [
            "(200, 3)\n",
            "(800, 3)\n"
          ]
        }
      ]
    },
    {
      "cell_type": "code",
      "metadata": {
        "id": "PGgQsf9Ntbyp",
        "colab": {
          "base_uri": "https://localhost:8080/",
          "height": 88
        },
        "outputId": "63d2df59-a9ea-4b11-980b-fb4fbf914be5"
      },
      "source": [
        "# TextLMDataBunch isn't supported by fastai v2 \n",
        "\n",
        "data_lm = TextLMDataBunch.from_csv(path, 'texts.csv')\n",
        "print(type(data_lm))\n",
        "# print(data_lm)\n",
        "\n"
      ],
      "execution_count": 93,
      "outputs": [
        {
          "output_type": "display_data",
          "data": {
            "text/html": [
              ""
            ],
            "text/plain": [
              "<IPython.core.display.HTML object>"
            ]
          },
          "metadata": {}
        },
        {
          "output_type": "stream",
          "name": "stderr",
          "text": [
            "/usr/local/lib/python3.7/dist-packages/fastai/core.py:302: VisibleDeprecationWarning: Creating an ndarray from ragged nested sequences (which is a list-or-tuple of lists-or-tuples-or ndarrays with different lengths or shapes) is deprecated. If you meant to do this, you must specify 'dtype=object' when creating the ndarray\n",
            "  return np.array(a, dtype=dtype, **kwargs)\n"
          ]
        },
        {
          "output_type": "display_data",
          "data": {
            "text/html": [
              ""
            ],
            "text/plain": [
              "<IPython.core.display.HTML object>"
            ]
          },
          "metadata": {}
        },
        {
          "output_type": "stream",
          "name": "stdout",
          "text": [
            "<class 'fastai.text.data.TextLMDataBunch'>\n"
          ]
        }
      ]
    },
    {
      "cell_type": "markdown",
      "metadata": {
        "id": "bqbVlDZ7C-tD"
      },
      "source": [
        "**`TextLMDataBunch.from_csv`**\n",
        "\n",
        "Create a TextDataBunch from texts in csv files. kwargs are passed to the dataloader creation.\n",
        "\n",
        "This method will look for csv_name, and optionally a test csv file, in path. These will be opened with header, using delimiter. You can specify which are the text_cols and label_cols; by default a single label column is assumed to come before a single text column. If your csv has no header, you must specify these as indices. If you're training a language model and don't have labels, you must specify the text_cols. If there are several text_cols, the texts will be concatenated together with an optional field token. If there are several label_cols, the labels will be assumed to be one-hot encoded and classes will default to label_cols (you can ignore that argument for a language model). label_delim can be used to specify the separator between multiple labels in a column.\n",
        "\n",
        "You can pass a tokenizer to be used to parse the texts into tokens and/or a specific vocab for the numericalization step (if you are building a classifier from a language model you fine-tuned for instance). Otherwise you can specify parameters such as max_vocab, min_freq, chunksize for the Tokenizer and Numericalizer (processors). Other parameters (e.g. bs, val_bs and num_workers, etc.) will be passed to LabelLists.databunch() documentation) (see the LM data and classifier data sections for more info).\n"
      ]
    },
    {
      "cell_type": "code",
      "metadata": {
        "id": "KxmOTxLFCEP_"
      },
      "source": [
        "data_lm.save('data_lm_export.pkl')"
      ],
      "execution_count": 94,
      "outputs": []
    },
    {
      "cell_type": "code",
      "metadata": {
        "id": "wL1Q3xSh9uhk"
      },
      "source": [
        "bs=64"
      ],
      "execution_count": 95,
      "outputs": []
    },
    {
      "cell_type": "code",
      "metadata": {
        "id": "TZOUJx2J9wV3"
      },
      "source": [
        "data_lm = load_data(path, 'data_lm_export.pkl', bs=bs)\n"
      ],
      "execution_count": 96,
      "outputs": []
    },
    {
      "cell_type": "code",
      "metadata": {
        "id": "zmKKnyZQWsVB"
      },
      "source": [
        "torch.cuda.set_device(0)"
      ],
      "execution_count": 126,
      "outputs": []
    },
    {
      "cell_type": "code",
      "metadata": {
        "id": "guqvbjyo99Jb"
      },
      "source": [
        "learn_lm = language_model_learner(data_lm, AWD_LSTM, drop_mult=0.5).to_fp16()\n"
      ],
      "execution_count": 130,
      "outputs": []
    },
    {
      "cell_type": "code",
      "metadata": {
        "id": "LKC_qcOpD2_b",
        "outputId": "c9cccc7a-603e-4f37-eaa4-8f57d035a961",
        "colab": {
          "base_uri": "https://localhost:8080/",
          "height": 80
        }
      },
      "source": [
        "learn_lm.fit_one_cycle(1, slice(1e-2))\n"
      ],
      "execution_count": 131,
      "outputs": [
        {
          "output_type": "display_data",
          "data": {
            "text/html": [
              "<table border=\"1\" class=\"dataframe\">\n",
              "  <thead>\n",
              "    <tr style=\"text-align: left;\">\n",
              "      <th>epoch</th>\n",
              "      <th>train_loss</th>\n",
              "      <th>valid_loss</th>\n",
              "      <th>accuracy</th>\n",
              "      <th>time</th>\n",
              "    </tr>\n",
              "  </thead>\n",
              "  <tbody>\n",
              "    <tr>\n",
              "      <td>0</td>\n",
              "      <td>4.333601</td>\n",
              "      <td>3.910637</td>\n",
              "      <td>0.284747</td>\n",
              "      <td>00:32</td>\n",
              "    </tr>\n",
              "  </tbody>\n",
              "</table>"
            ],
            "text/plain": [
              "<IPython.core.display.HTML object>"
            ]
          },
          "metadata": {}
        }
      ]
    },
    {
      "cell_type": "code",
      "metadata": {
        "id": "i5HJrupKERpu",
        "outputId": "d225a4eb-cd4a-4dc9-a311-36b2da68b199",
        "colab": {
          "base_uri": "https://localhost:8080/",
          "height": 1000
        }
      },
      "source": [
        "learn_lm.unfreeze()\n",
        "learn_lm.fit_one_cycle(5, slice(1e-4,1e-2))"
      ],
      "execution_count": 132,
      "outputs": [
        {
          "output_type": "display_data",
          "data": {
            "text/html": [
              "<table border=\"1\" class=\"dataframe\">\n",
              "  <thead>\n",
              "    <tr style=\"text-align: left;\">\n",
              "      <th>epoch</th>\n",
              "      <th>train_loss</th>\n",
              "      <th>valid_loss</th>\n",
              "      <th>accuracy</th>\n",
              "      <th>time</th>\n",
              "    </tr>\n",
              "  </thead>\n",
              "  <tbody>\n",
              "    <tr>\n",
              "      <td>0</td>\n",
              "      <td>3.963475</td>\n",
              "      <td>3.844701</td>\n",
              "      <td>0.290283</td>\n",
              "      <td>00:40</td>\n",
              "    </tr>\n",
              "    <tr>\n",
              "      <td>1</td>\n",
              "      <td>3.798450</td>\n",
              "      <td>3.861188</td>\n",
              "      <td>0.287232</td>\n",
              "      <td>00:40</td>\n",
              "    </tr>\n",
              "    <tr>\n",
              "      <td>2</td>\n",
              "      <td>3.467994</td>\n",
              "      <td>3.895121</td>\n",
              "      <td>0.285372</td>\n",
              "      <td>00:40</td>\n",
              "    </tr>\n",
              "    <tr>\n",
              "      <td>3</td>\n",
              "      <td>3.079474</td>\n",
              "      <td>3.954618</td>\n",
              "      <td>0.280476</td>\n",
              "      <td>00:40</td>\n",
              "    </tr>\n",
              "    <tr>\n",
              "      <td>4</td>\n",
              "      <td>2.805176</td>\n",
              "      <td>3.977736</td>\n",
              "      <td>0.280833</td>\n",
              "      <td>00:40</td>\n",
              "    </tr>\n",
              "  </tbody>\n",
              "</table>"
            ],
            "text/plain": [
              "<IPython.core.display.HTML object>"
            ]
          },
          "metadata": {}
        },
        {
          "output_type": "stream",
          "name": "stderr",
          "text": [
            "/usr/local/lib/python3.7/dist-packages/torch/nn/modules/module.py:1702: UserWarning: The .grad attribute of a Tensor that is not a leaf Tensor is being accessed. Its .grad attribute won't be populated during autograd.backward(). If you indeed want the gradient for a non-leaf Tensor, use .retain_grad() on the non-leaf Tensor. If you access the non-leaf Tensor by mistake, make sure you access the leaf Tensor instead. See github.com/pytorch/pytorch/pull/30531 for more information.\n",
            "  if p.grad is not None:\n",
            "/usr/local/lib/python3.7/dist-packages/torch/nn/modules/module.py:1702: UserWarning: The .grad attribute of a Tensor that is not a leaf Tensor is being accessed. Its .grad attribute won't be populated during autograd.backward(). If you indeed want the gradient for a non-leaf Tensor, use .retain_grad() on the non-leaf Tensor. If you access the non-leaf Tensor by mistake, make sure you access the leaf Tensor instead. See github.com/pytorch/pytorch/pull/30531 for more information.\n",
            "  if p.grad is not None:\n",
            "/usr/local/lib/python3.7/dist-packages/torch/nn/modules/module.py:1702: UserWarning: The .grad attribute of a Tensor that is not a leaf Tensor is being accessed. Its .grad attribute won't be populated during autograd.backward(). If you indeed want the gradient for a non-leaf Tensor, use .retain_grad() on the non-leaf Tensor. If you access the non-leaf Tensor by mistake, make sure you access the leaf Tensor instead. See github.com/pytorch/pytorch/pull/30531 for more information.\n",
            "  if p.grad is not None:\n",
            "/usr/local/lib/python3.7/dist-packages/torch/nn/modules/module.py:1702: UserWarning: The .grad attribute of a Tensor that is not a leaf Tensor is being accessed. Its .grad attribute won't be populated during autograd.backward(). If you indeed want the gradient for a non-leaf Tensor, use .retain_grad() on the non-leaf Tensor. If you access the non-leaf Tensor by mistake, make sure you access the leaf Tensor instead. See github.com/pytorch/pytorch/pull/30531 for more information.\n",
            "  if p.grad is not None:\n",
            "/usr/local/lib/python3.7/dist-packages/torch/nn/modules/module.py:1702: UserWarning: The .grad attribute of a Tensor that is not a leaf Tensor is being accessed. Its .grad attribute won't be populated during autograd.backward(). If you indeed want the gradient for a non-leaf Tensor, use .retain_grad() on the non-leaf Tensor. If you access the non-leaf Tensor by mistake, make sure you access the leaf Tensor instead. See github.com/pytorch/pytorch/pull/30531 for more information.\n",
            "  if p.grad is not None:\n",
            "/usr/local/lib/python3.7/dist-packages/torch/nn/modules/module.py:1702: UserWarning: The .grad attribute of a Tensor that is not a leaf Tensor is being accessed. Its .grad attribute won't be populated during autograd.backward(). If you indeed want the gradient for a non-leaf Tensor, use .retain_grad() on the non-leaf Tensor. If you access the non-leaf Tensor by mistake, make sure you access the leaf Tensor instead. See github.com/pytorch/pytorch/pull/30531 for more information.\n",
            "  if p.grad is not None:\n",
            "/usr/local/lib/python3.7/dist-packages/torch/nn/modules/module.py:1702: UserWarning: The .grad attribute of a Tensor that is not a leaf Tensor is being accessed. Its .grad attribute won't be populated during autograd.backward(). If you indeed want the gradient for a non-leaf Tensor, use .retain_grad() on the non-leaf Tensor. If you access the non-leaf Tensor by mistake, make sure you access the leaf Tensor instead. See github.com/pytorch/pytorch/pull/30531 for more information.\n",
            "  if p.grad is not None:\n",
            "/usr/local/lib/python3.7/dist-packages/torch/nn/modules/module.py:1702: UserWarning: The .grad attribute of a Tensor that is not a leaf Tensor is being accessed. Its .grad attribute won't be populated during autograd.backward(). If you indeed want the gradient for a non-leaf Tensor, use .retain_grad() on the non-leaf Tensor. If you access the non-leaf Tensor by mistake, make sure you access the leaf Tensor instead. See github.com/pytorch/pytorch/pull/30531 for more information.\n",
            "  if p.grad is not None:\n",
            "/usr/local/lib/python3.7/dist-packages/torch/nn/modules/module.py:1702: UserWarning: The .grad attribute of a Tensor that is not a leaf Tensor is being accessed. Its .grad attribute won't be populated during autograd.backward(). If you indeed want the gradient for a non-leaf Tensor, use .retain_grad() on the non-leaf Tensor. If you access the non-leaf Tensor by mistake, make sure you access the leaf Tensor instead. See github.com/pytorch/pytorch/pull/30531 for more information.\n",
            "  if p.grad is not None:\n",
            "/usr/local/lib/python3.7/dist-packages/torch/nn/modules/module.py:1702: UserWarning: The .grad attribute of a Tensor that is not a leaf Tensor is being accessed. Its .grad attribute won't be populated during autograd.backward(). If you indeed want the gradient for a non-leaf Tensor, use .retain_grad() on the non-leaf Tensor. If you access the non-leaf Tensor by mistake, make sure you access the leaf Tensor instead. See github.com/pytorch/pytorch/pull/30531 for more information.\n",
            "  if p.grad is not None:\n",
            "/usr/local/lib/python3.7/dist-packages/torch/nn/modules/module.py:1702: UserWarning: The .grad attribute of a Tensor that is not a leaf Tensor is being accessed. Its .grad attribute won't be populated during autograd.backward(). If you indeed want the gradient for a non-leaf Tensor, use .retain_grad() on the non-leaf Tensor. If you access the non-leaf Tensor by mistake, make sure you access the leaf Tensor instead. See github.com/pytorch/pytorch/pull/30531 for more information.\n",
            "  if p.grad is not None:\n",
            "/usr/local/lib/python3.7/dist-packages/torch/nn/modules/module.py:1702: UserWarning: The .grad attribute of a Tensor that is not a leaf Tensor is being accessed. Its .grad attribute won't be populated during autograd.backward(). If you indeed want the gradient for a non-leaf Tensor, use .retain_grad() on the non-leaf Tensor. If you access the non-leaf Tensor by mistake, make sure you access the leaf Tensor instead. See github.com/pytorch/pytorch/pull/30531 for more information.\n",
            "  if p.grad is not None:\n",
            "/usr/local/lib/python3.7/dist-packages/torch/nn/modules/module.py:1702: UserWarning: The .grad attribute of a Tensor that is not a leaf Tensor is being accessed. Its .grad attribute won't be populated during autograd.backward(). If you indeed want the gradient for a non-leaf Tensor, use .retain_grad() on the non-leaf Tensor. If you access the non-leaf Tensor by mistake, make sure you access the leaf Tensor instead. See github.com/pytorch/pytorch/pull/30531 for more information.\n",
            "  if p.grad is not None:\n",
            "/usr/local/lib/python3.7/dist-packages/torch/nn/modules/module.py:1702: UserWarning: The .grad attribute of a Tensor that is not a leaf Tensor is being accessed. Its .grad attribute won't be populated during autograd.backward(). If you indeed want the gradient for a non-leaf Tensor, use .retain_grad() on the non-leaf Tensor. If you access the non-leaf Tensor by mistake, make sure you access the leaf Tensor instead. See github.com/pytorch/pytorch/pull/30531 for more information.\n",
            "  if p.grad is not None:\n",
            "/usr/local/lib/python3.7/dist-packages/torch/nn/modules/module.py:1702: UserWarning: The .grad attribute of a Tensor that is not a leaf Tensor is being accessed. Its .grad attribute won't be populated during autograd.backward(). If you indeed want the gradient for a non-leaf Tensor, use .retain_grad() on the non-leaf Tensor. If you access the non-leaf Tensor by mistake, make sure you access the leaf Tensor instead. See github.com/pytorch/pytorch/pull/30531 for more information.\n",
            "  if p.grad is not None:\n",
            "/usr/local/lib/python3.7/dist-packages/torch/nn/modules/module.py:1702: UserWarning: The .grad attribute of a Tensor that is not a leaf Tensor is being accessed. Its .grad attribute won't be populated during autograd.backward(). If you indeed want the gradient for a non-leaf Tensor, use .retain_grad() on the non-leaf Tensor. If you access the non-leaf Tensor by mistake, make sure you access the leaf Tensor instead. See github.com/pytorch/pytorch/pull/30531 for more information.\n",
            "  if p.grad is not None:\n",
            "/usr/local/lib/python3.7/dist-packages/torch/nn/modules/module.py:1702: UserWarning: The .grad attribute of a Tensor that is not a leaf Tensor is being accessed. Its .grad attribute won't be populated during autograd.backward(). If you indeed want the gradient for a non-leaf Tensor, use .retain_grad() on the non-leaf Tensor. If you access the non-leaf Tensor by mistake, make sure you access the leaf Tensor instead. See github.com/pytorch/pytorch/pull/30531 for more information.\n",
            "  if p.grad is not None:\n",
            "/usr/local/lib/python3.7/dist-packages/torch/nn/modules/module.py:1702: UserWarning: The .grad attribute of a Tensor that is not a leaf Tensor is being accessed. Its .grad attribute won't be populated during autograd.backward(). If you indeed want the gradient for a non-leaf Tensor, use .retain_grad() on the non-leaf Tensor. If you access the non-leaf Tensor by mistake, make sure you access the leaf Tensor instead. See github.com/pytorch/pytorch/pull/30531 for more information.\n",
            "  if p.grad is not None:\n",
            "/usr/local/lib/python3.7/dist-packages/torch/nn/modules/module.py:1702: UserWarning: The .grad attribute of a Tensor that is not a leaf Tensor is being accessed. Its .grad attribute won't be populated during autograd.backward(). If you indeed want the gradient for a non-leaf Tensor, use .retain_grad() on the non-leaf Tensor. If you access the non-leaf Tensor by mistake, make sure you access the leaf Tensor instead. See github.com/pytorch/pytorch/pull/30531 for more information.\n",
            "  if p.grad is not None:\n",
            "/usr/local/lib/python3.7/dist-packages/torch/nn/modules/module.py:1702: UserWarning: The .grad attribute of a Tensor that is not a leaf Tensor is being accessed. Its .grad attribute won't be populated during autograd.backward(). If you indeed want the gradient for a non-leaf Tensor, use .retain_grad() on the non-leaf Tensor. If you access the non-leaf Tensor by mistake, make sure you access the leaf Tensor instead. See github.com/pytorch/pytorch/pull/30531 for more information.\n",
            "  if p.grad is not None:\n",
            "/usr/local/lib/python3.7/dist-packages/torch/nn/modules/module.py:1702: UserWarning: The .grad attribute of a Tensor that is not a leaf Tensor is being accessed. Its .grad attribute won't be populated during autograd.backward(). If you indeed want the gradient for a non-leaf Tensor, use .retain_grad() on the non-leaf Tensor. If you access the non-leaf Tensor by mistake, make sure you access the leaf Tensor instead. See github.com/pytorch/pytorch/pull/30531 for more information.\n",
            "  if p.grad is not None:\n",
            "/usr/local/lib/python3.7/dist-packages/torch/nn/modules/module.py:1702: UserWarning: The .grad attribute of a Tensor that is not a leaf Tensor is being accessed. Its .grad attribute won't be populated during autograd.backward(). If you indeed want the gradient for a non-leaf Tensor, use .retain_grad() on the non-leaf Tensor. If you access the non-leaf Tensor by mistake, make sure you access the leaf Tensor instead. See github.com/pytorch/pytorch/pull/30531 for more information.\n",
            "  if p.grad is not None:\n",
            "/usr/local/lib/python3.7/dist-packages/torch/nn/modules/module.py:1702: UserWarning: The .grad attribute of a Tensor that is not a leaf Tensor is being accessed. Its .grad attribute won't be populated during autograd.backward(). If you indeed want the gradient for a non-leaf Tensor, use .retain_grad() on the non-leaf Tensor. If you access the non-leaf Tensor by mistake, make sure you access the leaf Tensor instead. See github.com/pytorch/pytorch/pull/30531 for more information.\n",
            "  if p.grad is not None:\n",
            "/usr/local/lib/python3.7/dist-packages/torch/nn/modules/module.py:1702: UserWarning: The .grad attribute of a Tensor that is not a leaf Tensor is being accessed. Its .grad attribute won't be populated during autograd.backward(). If you indeed want the gradient for a non-leaf Tensor, use .retain_grad() on the non-leaf Tensor. If you access the non-leaf Tensor by mistake, make sure you access the leaf Tensor instead. See github.com/pytorch/pytorch/pull/30531 for more information.\n",
            "  if p.grad is not None:\n",
            "/usr/local/lib/python3.7/dist-packages/torch/nn/modules/module.py:1702: UserWarning: The .grad attribute of a Tensor that is not a leaf Tensor is being accessed. Its .grad attribute won't be populated during autograd.backward(). If you indeed want the gradient for a non-leaf Tensor, use .retain_grad() on the non-leaf Tensor. If you access the non-leaf Tensor by mistake, make sure you access the leaf Tensor instead. See github.com/pytorch/pytorch/pull/30531 for more information.\n",
            "  if p.grad is not None:\n",
            "/usr/local/lib/python3.7/dist-packages/torch/nn/modules/module.py:1702: UserWarning: The .grad attribute of a Tensor that is not a leaf Tensor is being accessed. Its .grad attribute won't be populated during autograd.backward(). If you indeed want the gradient for a non-leaf Tensor, use .retain_grad() on the non-leaf Tensor. If you access the non-leaf Tensor by mistake, make sure you access the leaf Tensor instead. See github.com/pytorch/pytorch/pull/30531 for more information.\n",
            "  if p.grad is not None:\n",
            "/usr/local/lib/python3.7/dist-packages/torch/nn/modules/module.py:1702: UserWarning: The .grad attribute of a Tensor that is not a leaf Tensor is being accessed. Its .grad attribute won't be populated during autograd.backward(). If you indeed want the gradient for a non-leaf Tensor, use .retain_grad() on the non-leaf Tensor. If you access the non-leaf Tensor by mistake, make sure you access the leaf Tensor instead. See github.com/pytorch/pytorch/pull/30531 for more information.\n",
            "  if p.grad is not None:\n",
            "/usr/local/lib/python3.7/dist-packages/torch/nn/modules/module.py:1702: UserWarning: The .grad attribute of a Tensor that is not a leaf Tensor is being accessed. Its .grad attribute won't be populated during autograd.backward(). If you indeed want the gradient for a non-leaf Tensor, use .retain_grad() on the non-leaf Tensor. If you access the non-leaf Tensor by mistake, make sure you access the leaf Tensor instead. See github.com/pytorch/pytorch/pull/30531 for more information.\n",
            "  if p.grad is not None:\n",
            "/usr/local/lib/python3.7/dist-packages/torch/nn/modules/module.py:1702: UserWarning: The .grad attribute of a Tensor that is not a leaf Tensor is being accessed. Its .grad attribute won't be populated during autograd.backward(). If you indeed want the gradient for a non-leaf Tensor, use .retain_grad() on the non-leaf Tensor. If you access the non-leaf Tensor by mistake, make sure you access the leaf Tensor instead. See github.com/pytorch/pytorch/pull/30531 for more information.\n",
            "  if p.grad is not None:\n",
            "/usr/local/lib/python3.7/dist-packages/torch/nn/modules/module.py:1702: UserWarning: The .grad attribute of a Tensor that is not a leaf Tensor is being accessed. Its .grad attribute won't be populated during autograd.backward(). If you indeed want the gradient for a non-leaf Tensor, use .retain_grad() on the non-leaf Tensor. If you access the non-leaf Tensor by mistake, make sure you access the leaf Tensor instead. See github.com/pytorch/pytorch/pull/30531 for more information.\n",
            "  if p.grad is not None:\n",
            "/usr/local/lib/python3.7/dist-packages/torch/nn/modules/module.py:1702: UserWarning: The .grad attribute of a Tensor that is not a leaf Tensor is being accessed. Its .grad attribute won't be populated during autograd.backward(). If you indeed want the gradient for a non-leaf Tensor, use .retain_grad() on the non-leaf Tensor. If you access the non-leaf Tensor by mistake, make sure you access the leaf Tensor instead. See github.com/pytorch/pytorch/pull/30531 for more information.\n",
            "  if p.grad is not None:\n",
            "/usr/local/lib/python3.7/dist-packages/torch/nn/modules/module.py:1702: UserWarning: The .grad attribute of a Tensor that is not a leaf Tensor is being accessed. Its .grad attribute won't be populated during autograd.backward(). If you indeed want the gradient for a non-leaf Tensor, use .retain_grad() on the non-leaf Tensor. If you access the non-leaf Tensor by mistake, make sure you access the leaf Tensor instead. See github.com/pytorch/pytorch/pull/30531 for more information.\n",
            "  if p.grad is not None:\n",
            "/usr/local/lib/python3.7/dist-packages/torch/nn/modules/module.py:1702: UserWarning: The .grad attribute of a Tensor that is not a leaf Tensor is being accessed. Its .grad attribute won't be populated during autograd.backward(). If you indeed want the gradient for a non-leaf Tensor, use .retain_grad() on the non-leaf Tensor. If you access the non-leaf Tensor by mistake, make sure you access the leaf Tensor instead. See github.com/pytorch/pytorch/pull/30531 for more information.\n",
            "  if p.grad is not None:\n",
            "/usr/local/lib/python3.7/dist-packages/torch/nn/modules/module.py:1702: UserWarning: The .grad attribute of a Tensor that is not a leaf Tensor is being accessed. Its .grad attribute won't be populated during autograd.backward(). If you indeed want the gradient for a non-leaf Tensor, use .retain_grad() on the non-leaf Tensor. If you access the non-leaf Tensor by mistake, make sure you access the leaf Tensor instead. See github.com/pytorch/pytorch/pull/30531 for more information.\n",
            "  if p.grad is not None:\n",
            "/usr/local/lib/python3.7/dist-packages/torch/nn/modules/module.py:1702: UserWarning: The .grad attribute of a Tensor that is not a leaf Tensor is being accessed. Its .grad attribute won't be populated during autograd.backward(). If you indeed want the gradient for a non-leaf Tensor, use .retain_grad() on the non-leaf Tensor. If you access the non-leaf Tensor by mistake, make sure you access the leaf Tensor instead. See github.com/pytorch/pytorch/pull/30531 for more information.\n",
            "  if p.grad is not None:\n",
            "/usr/local/lib/python3.7/dist-packages/torch/nn/modules/module.py:1702: UserWarning: The .grad attribute of a Tensor that is not a leaf Tensor is being accessed. Its .grad attribute won't be populated during autograd.backward(). If you indeed want the gradient for a non-leaf Tensor, use .retain_grad() on the non-leaf Tensor. If you access the non-leaf Tensor by mistake, make sure you access the leaf Tensor instead. See github.com/pytorch/pytorch/pull/30531 for more information.\n",
            "  if p.grad is not None:\n",
            "/usr/local/lib/python3.7/dist-packages/torch/nn/modules/module.py:1702: UserWarning: The .grad attribute of a Tensor that is not a leaf Tensor is being accessed. Its .grad attribute won't be populated during autograd.backward(). If you indeed want the gradient for a non-leaf Tensor, use .retain_grad() on the non-leaf Tensor. If you access the non-leaf Tensor by mistake, make sure you access the leaf Tensor instead. See github.com/pytorch/pytorch/pull/30531 for more information.\n",
            "  if p.grad is not None:\n",
            "/usr/local/lib/python3.7/dist-packages/torch/nn/modules/module.py:1702: UserWarning: The .grad attribute of a Tensor that is not a leaf Tensor is being accessed. Its .grad attribute won't be populated during autograd.backward(). If you indeed want the gradient for a non-leaf Tensor, use .retain_grad() on the non-leaf Tensor. If you access the non-leaf Tensor by mistake, make sure you access the leaf Tensor instead. See github.com/pytorch/pytorch/pull/30531 for more information.\n",
            "  if p.grad is not None:\n",
            "/usr/local/lib/python3.7/dist-packages/torch/nn/modules/module.py:1702: UserWarning: The .grad attribute of a Tensor that is not a leaf Tensor is being accessed. Its .grad attribute won't be populated during autograd.backward(). If you indeed want the gradient for a non-leaf Tensor, use .retain_grad() on the non-leaf Tensor. If you access the non-leaf Tensor by mistake, make sure you access the leaf Tensor instead. See github.com/pytorch/pytorch/pull/30531 for more information.\n",
            "  if p.grad is not None:\n",
            "/usr/local/lib/python3.7/dist-packages/torch/nn/modules/module.py:1702: UserWarning: The .grad attribute of a Tensor that is not a leaf Tensor is being accessed. Its .grad attribute won't be populated during autograd.backward(). If you indeed want the gradient for a non-leaf Tensor, use .retain_grad() on the non-leaf Tensor. If you access the non-leaf Tensor by mistake, make sure you access the leaf Tensor instead. See github.com/pytorch/pytorch/pull/30531 for more information.\n",
            "  if p.grad is not None:\n",
            "/usr/local/lib/python3.7/dist-packages/torch/nn/modules/module.py:1702: UserWarning: The .grad attribute of a Tensor that is not a leaf Tensor is being accessed. Its .grad attribute won't be populated during autograd.backward(). If you indeed want the gradient for a non-leaf Tensor, use .retain_grad() on the non-leaf Tensor. If you access the non-leaf Tensor by mistake, make sure you access the leaf Tensor instead. See github.com/pytorch/pytorch/pull/30531 for more information.\n",
            "  if p.grad is not None:\n",
            "/usr/local/lib/python3.7/dist-packages/torch/nn/modules/module.py:1702: UserWarning: The .grad attribute of a Tensor that is not a leaf Tensor is being accessed. Its .grad attribute won't be populated during autograd.backward(). If you indeed want the gradient for a non-leaf Tensor, use .retain_grad() on the non-leaf Tensor. If you access the non-leaf Tensor by mistake, make sure you access the leaf Tensor instead. See github.com/pytorch/pytorch/pull/30531 for more information.\n",
            "  if p.grad is not None:\n",
            "/usr/local/lib/python3.7/dist-packages/torch/nn/modules/module.py:1702: UserWarning: The .grad attribute of a Tensor that is not a leaf Tensor is being accessed. Its .grad attribute won't be populated during autograd.backward(). If you indeed want the gradient for a non-leaf Tensor, use .retain_grad() on the non-leaf Tensor. If you access the non-leaf Tensor by mistake, make sure you access the leaf Tensor instead. See github.com/pytorch/pytorch/pull/30531 for more information.\n",
            "  if p.grad is not None:\n",
            "/usr/local/lib/python3.7/dist-packages/torch/nn/modules/module.py:1702: UserWarning: The .grad attribute of a Tensor that is not a leaf Tensor is being accessed. Its .grad attribute won't be populated during autograd.backward(). If you indeed want the gradient for a non-leaf Tensor, use .retain_grad() on the non-leaf Tensor. If you access the non-leaf Tensor by mistake, make sure you access the leaf Tensor instead. See github.com/pytorch/pytorch/pull/30531 for more information.\n",
            "  if p.grad is not None:\n",
            "/usr/local/lib/python3.7/dist-packages/torch/nn/modules/module.py:1702: UserWarning: The .grad attribute of a Tensor that is not a leaf Tensor is being accessed. Its .grad attribute won't be populated during autograd.backward(). If you indeed want the gradient for a non-leaf Tensor, use .retain_grad() on the non-leaf Tensor. If you access the non-leaf Tensor by mistake, make sure you access the leaf Tensor instead. See github.com/pytorch/pytorch/pull/30531 for more information.\n",
            "  if p.grad is not None:\n",
            "/usr/local/lib/python3.7/dist-packages/torch/nn/modules/module.py:1702: UserWarning: The .grad attribute of a Tensor that is not a leaf Tensor is being accessed. Its .grad attribute won't be populated during autograd.backward(). If you indeed want the gradient for a non-leaf Tensor, use .retain_grad() on the non-leaf Tensor. If you access the non-leaf Tensor by mistake, make sure you access the leaf Tensor instead. See github.com/pytorch/pytorch/pull/30531 for more information.\n",
            "  if p.grad is not None:\n",
            "/usr/local/lib/python3.7/dist-packages/torch/nn/modules/module.py:1702: UserWarning: The .grad attribute of a Tensor that is not a leaf Tensor is being accessed. Its .grad attribute won't be populated during autograd.backward(). If you indeed want the gradient for a non-leaf Tensor, use .retain_grad() on the non-leaf Tensor. If you access the non-leaf Tensor by mistake, make sure you access the leaf Tensor instead. See github.com/pytorch/pytorch/pull/30531 for more information.\n",
            "  if p.grad is not None:\n",
            "/usr/local/lib/python3.7/dist-packages/torch/nn/modules/module.py:1702: UserWarning: The .grad attribute of a Tensor that is not a leaf Tensor is being accessed. Its .grad attribute won't be populated during autograd.backward(). If you indeed want the gradient for a non-leaf Tensor, use .retain_grad() on the non-leaf Tensor. If you access the non-leaf Tensor by mistake, make sure you access the leaf Tensor instead. See github.com/pytorch/pytorch/pull/30531 for more information.\n",
            "  if p.grad is not None:\n",
            "/usr/local/lib/python3.7/dist-packages/torch/nn/modules/module.py:1702: UserWarning: The .grad attribute of a Tensor that is not a leaf Tensor is being accessed. Its .grad attribute won't be populated during autograd.backward(). If you indeed want the gradient for a non-leaf Tensor, use .retain_grad() on the non-leaf Tensor. If you access the non-leaf Tensor by mistake, make sure you access the leaf Tensor instead. See github.com/pytorch/pytorch/pull/30531 for more information.\n",
            "  if p.grad is not None:\n",
            "/usr/local/lib/python3.7/dist-packages/torch/nn/modules/module.py:1702: UserWarning: The .grad attribute of a Tensor that is not a leaf Tensor is being accessed. Its .grad attribute won't be populated during autograd.backward(). If you indeed want the gradient for a non-leaf Tensor, use .retain_grad() on the non-leaf Tensor. If you access the non-leaf Tensor by mistake, make sure you access the leaf Tensor instead. See github.com/pytorch/pytorch/pull/30531 for more information.\n",
            "  if p.grad is not None:\n",
            "/usr/local/lib/python3.7/dist-packages/torch/nn/modules/module.py:1702: UserWarning: The .grad attribute of a Tensor that is not a leaf Tensor is being accessed. Its .grad attribute won't be populated during autograd.backward(). If you indeed want the gradient for a non-leaf Tensor, use .retain_grad() on the non-leaf Tensor. If you access the non-leaf Tensor by mistake, make sure you access the leaf Tensor instead. See github.com/pytorch/pytorch/pull/30531 for more information.\n",
            "  if p.grad is not None:\n",
            "/usr/local/lib/python3.7/dist-packages/torch/nn/modules/module.py:1702: UserWarning: The .grad attribute of a Tensor that is not a leaf Tensor is being accessed. Its .grad attribute won't be populated during autograd.backward(). If you indeed want the gradient for a non-leaf Tensor, use .retain_grad() on the non-leaf Tensor. If you access the non-leaf Tensor by mistake, make sure you access the leaf Tensor instead. See github.com/pytorch/pytorch/pull/30531 for more information.\n",
            "  if p.grad is not None:\n",
            "/usr/local/lib/python3.7/dist-packages/torch/nn/modules/module.py:1702: UserWarning: The .grad attribute of a Tensor that is not a leaf Tensor is being accessed. Its .grad attribute won't be populated during autograd.backward(). If you indeed want the gradient for a non-leaf Tensor, use .retain_grad() on the non-leaf Tensor. If you access the non-leaf Tensor by mistake, make sure you access the leaf Tensor instead. See github.com/pytorch/pytorch/pull/30531 for more information.\n",
            "  if p.grad is not None:\n",
            "/usr/local/lib/python3.7/dist-packages/torch/nn/modules/module.py:1702: UserWarning: The .grad attribute of a Tensor that is not a leaf Tensor is being accessed. Its .grad attribute won't be populated during autograd.backward(). If you indeed want the gradient for a non-leaf Tensor, use .retain_grad() on the non-leaf Tensor. If you access the non-leaf Tensor by mistake, make sure you access the leaf Tensor instead. See github.com/pytorch/pytorch/pull/30531 for more information.\n",
            "  if p.grad is not None:\n",
            "/usr/local/lib/python3.7/dist-packages/torch/nn/modules/module.py:1702: UserWarning: The .grad attribute of a Tensor that is not a leaf Tensor is being accessed. Its .grad attribute won't be populated during autograd.backward(). If you indeed want the gradient for a non-leaf Tensor, use .retain_grad() on the non-leaf Tensor. If you access the non-leaf Tensor by mistake, make sure you access the leaf Tensor instead. See github.com/pytorch/pytorch/pull/30531 for more information.\n",
            "  if p.grad is not None:\n",
            "/usr/local/lib/python3.7/dist-packages/torch/nn/modules/module.py:1702: UserWarning: The .grad attribute of a Tensor that is not a leaf Tensor is being accessed. Its .grad attribute won't be populated during autograd.backward(). If you indeed want the gradient for a non-leaf Tensor, use .retain_grad() on the non-leaf Tensor. If you access the non-leaf Tensor by mistake, make sure you access the leaf Tensor instead. See github.com/pytorch/pytorch/pull/30531 for more information.\n",
            "  if p.grad is not None:\n",
            "/usr/local/lib/python3.7/dist-packages/torch/nn/modules/module.py:1702: UserWarning: The .grad attribute of a Tensor that is not a leaf Tensor is being accessed. Its .grad attribute won't be populated during autograd.backward(). If you indeed want the gradient for a non-leaf Tensor, use .retain_grad() on the non-leaf Tensor. If you access the non-leaf Tensor by mistake, make sure you access the leaf Tensor instead. See github.com/pytorch/pytorch/pull/30531 for more information.\n",
            "  if p.grad is not None:\n",
            "/usr/local/lib/python3.7/dist-packages/torch/nn/modules/module.py:1702: UserWarning: The .grad attribute of a Tensor that is not a leaf Tensor is being accessed. Its .grad attribute won't be populated during autograd.backward(). If you indeed want the gradient for a non-leaf Tensor, use .retain_grad() on the non-leaf Tensor. If you access the non-leaf Tensor by mistake, make sure you access the leaf Tensor instead. See github.com/pytorch/pytorch/pull/30531 for more information.\n",
            "  if p.grad is not None:\n",
            "/usr/local/lib/python3.7/dist-packages/torch/nn/modules/module.py:1702: UserWarning: The .grad attribute of a Tensor that is not a leaf Tensor is being accessed. Its .grad attribute won't be populated during autograd.backward(). If you indeed want the gradient for a non-leaf Tensor, use .retain_grad() on the non-leaf Tensor. If you access the non-leaf Tensor by mistake, make sure you access the leaf Tensor instead. See github.com/pytorch/pytorch/pull/30531 for more information.\n",
            "  if p.grad is not None:\n",
            "/usr/local/lib/python3.7/dist-packages/torch/nn/modules/module.py:1702: UserWarning: The .grad attribute of a Tensor that is not a leaf Tensor is being accessed. Its .grad attribute won't be populated during autograd.backward(). If you indeed want the gradient for a non-leaf Tensor, use .retain_grad() on the non-leaf Tensor. If you access the non-leaf Tensor by mistake, make sure you access the leaf Tensor instead. See github.com/pytorch/pytorch/pull/30531 for more information.\n",
            "  if p.grad is not None:\n",
            "/usr/local/lib/python3.7/dist-packages/torch/nn/modules/module.py:1702: UserWarning: The .grad attribute of a Tensor that is not a leaf Tensor is being accessed. Its .grad attribute won't be populated during autograd.backward(). If you indeed want the gradient for a non-leaf Tensor, use .retain_grad() on the non-leaf Tensor. If you access the non-leaf Tensor by mistake, make sure you access the leaf Tensor instead. See github.com/pytorch/pytorch/pull/30531 for more information.\n",
            "  if p.grad is not None:\n",
            "/usr/local/lib/python3.7/dist-packages/torch/nn/modules/module.py:1702: UserWarning: The .grad attribute of a Tensor that is not a leaf Tensor is being accessed. Its .grad attribute won't be populated during autograd.backward(). If you indeed want the gradient for a non-leaf Tensor, use .retain_grad() on the non-leaf Tensor. If you access the non-leaf Tensor by mistake, make sure you access the leaf Tensor instead. See github.com/pytorch/pytorch/pull/30531 for more information.\n",
            "  if p.grad is not None:\n",
            "/usr/local/lib/python3.7/dist-packages/torch/nn/modules/module.py:1702: UserWarning: The .grad attribute of a Tensor that is not a leaf Tensor is being accessed. Its .grad attribute won't be populated during autograd.backward(). If you indeed want the gradient for a non-leaf Tensor, use .retain_grad() on the non-leaf Tensor. If you access the non-leaf Tensor by mistake, make sure you access the leaf Tensor instead. See github.com/pytorch/pytorch/pull/30531 for more information.\n",
            "  if p.grad is not None:\n",
            "/usr/local/lib/python3.7/dist-packages/torch/nn/modules/module.py:1702: UserWarning: The .grad attribute of a Tensor that is not a leaf Tensor is being accessed. Its .grad attribute won't be populated during autograd.backward(). If you indeed want the gradient for a non-leaf Tensor, use .retain_grad() on the non-leaf Tensor. If you access the non-leaf Tensor by mistake, make sure you access the leaf Tensor instead. See github.com/pytorch/pytorch/pull/30531 for more information.\n",
            "  if p.grad is not None:\n",
            "/usr/local/lib/python3.7/dist-packages/torch/nn/modules/module.py:1702: UserWarning: The .grad attribute of a Tensor that is not a leaf Tensor is being accessed. Its .grad attribute won't be populated during autograd.backward(). If you indeed want the gradient for a non-leaf Tensor, use .retain_grad() on the non-leaf Tensor. If you access the non-leaf Tensor by mistake, make sure you access the leaf Tensor instead. See github.com/pytorch/pytorch/pull/30531 for more information.\n",
            "  if p.grad is not None:\n",
            "/usr/local/lib/python3.7/dist-packages/torch/nn/modules/module.py:1702: UserWarning: The .grad attribute of a Tensor that is not a leaf Tensor is being accessed. Its .grad attribute won't be populated during autograd.backward(). If you indeed want the gradient for a non-leaf Tensor, use .retain_grad() on the non-leaf Tensor. If you access the non-leaf Tensor by mistake, make sure you access the leaf Tensor instead. See github.com/pytorch/pytorch/pull/30531 for more information.\n",
            "  if p.grad is not None:\n",
            "/usr/local/lib/python3.7/dist-packages/torch/nn/modules/module.py:1702: UserWarning: The .grad attribute of a Tensor that is not a leaf Tensor is being accessed. Its .grad attribute won't be populated during autograd.backward(). If you indeed want the gradient for a non-leaf Tensor, use .retain_grad() on the non-leaf Tensor. If you access the non-leaf Tensor by mistake, make sure you access the leaf Tensor instead. See github.com/pytorch/pytorch/pull/30531 for more information.\n",
            "  if p.grad is not None:\n",
            "/usr/local/lib/python3.7/dist-packages/torch/nn/modules/module.py:1702: UserWarning: The .grad attribute of a Tensor that is not a leaf Tensor is being accessed. Its .grad attribute won't be populated during autograd.backward(). If you indeed want the gradient for a non-leaf Tensor, use .retain_grad() on the non-leaf Tensor. If you access the non-leaf Tensor by mistake, make sure you access the leaf Tensor instead. See github.com/pytorch/pytorch/pull/30531 for more information.\n",
            "  if p.grad is not None:\n",
            "/usr/local/lib/python3.7/dist-packages/torch/nn/modules/module.py:1702: UserWarning: The .grad attribute of a Tensor that is not a leaf Tensor is being accessed. Its .grad attribute won't be populated during autograd.backward(). If you indeed want the gradient for a non-leaf Tensor, use .retain_grad() on the non-leaf Tensor. If you access the non-leaf Tensor by mistake, make sure you access the leaf Tensor instead. See github.com/pytorch/pytorch/pull/30531 for more information.\n",
            "  if p.grad is not None:\n",
            "/usr/local/lib/python3.7/dist-packages/torch/nn/modules/module.py:1702: UserWarning: The .grad attribute of a Tensor that is not a leaf Tensor is being accessed. Its .grad attribute won't be populated during autograd.backward(). If you indeed want the gradient for a non-leaf Tensor, use .retain_grad() on the non-leaf Tensor. If you access the non-leaf Tensor by mistake, make sure you access the leaf Tensor instead. See github.com/pytorch/pytorch/pull/30531 for more information.\n",
            "  if p.grad is not None:\n",
            "/usr/local/lib/python3.7/dist-packages/torch/nn/modules/module.py:1702: UserWarning: The .grad attribute of a Tensor that is not a leaf Tensor is being accessed. Its .grad attribute won't be populated during autograd.backward(). If you indeed want the gradient for a non-leaf Tensor, use .retain_grad() on the non-leaf Tensor. If you access the non-leaf Tensor by mistake, make sure you access the leaf Tensor instead. See github.com/pytorch/pytorch/pull/30531 for more information.\n",
            "  if p.grad is not None:\n",
            "/usr/local/lib/python3.7/dist-packages/torch/nn/modules/module.py:1702: UserWarning: The .grad attribute of a Tensor that is not a leaf Tensor is being accessed. Its .grad attribute won't be populated during autograd.backward(). If you indeed want the gradient for a non-leaf Tensor, use .retain_grad() on the non-leaf Tensor. If you access the non-leaf Tensor by mistake, make sure you access the leaf Tensor instead. See github.com/pytorch/pytorch/pull/30531 for more information.\n",
            "  if p.grad is not None:\n",
            "/usr/local/lib/python3.7/dist-packages/torch/nn/modules/module.py:1702: UserWarning: The .grad attribute of a Tensor that is not a leaf Tensor is being accessed. Its .grad attribute won't be populated during autograd.backward(). If you indeed want the gradient for a non-leaf Tensor, use .retain_grad() on the non-leaf Tensor. If you access the non-leaf Tensor by mistake, make sure you access the leaf Tensor instead. See github.com/pytorch/pytorch/pull/30531 for more information.\n",
            "  if p.grad is not None:\n",
            "/usr/local/lib/python3.7/dist-packages/torch/nn/modules/module.py:1702: UserWarning: The .grad attribute of a Tensor that is not a leaf Tensor is being accessed. Its .grad attribute won't be populated during autograd.backward(). If you indeed want the gradient for a non-leaf Tensor, use .retain_grad() on the non-leaf Tensor. If you access the non-leaf Tensor by mistake, make sure you access the leaf Tensor instead. See github.com/pytorch/pytorch/pull/30531 for more information.\n",
            "  if p.grad is not None:\n",
            "/usr/local/lib/python3.7/dist-packages/torch/nn/modules/module.py:1702: UserWarning: The .grad attribute of a Tensor that is not a leaf Tensor is being accessed. Its .grad attribute won't be populated during autograd.backward(). If you indeed want the gradient for a non-leaf Tensor, use .retain_grad() on the non-leaf Tensor. If you access the non-leaf Tensor by mistake, make sure you access the leaf Tensor instead. See github.com/pytorch/pytorch/pull/30531 for more information.\n",
            "  if p.grad is not None:\n",
            "/usr/local/lib/python3.7/dist-packages/torch/nn/modules/module.py:1702: UserWarning: The .grad attribute of a Tensor that is not a leaf Tensor is being accessed. Its .grad attribute won't be populated during autograd.backward(). If you indeed want the gradient for a non-leaf Tensor, use .retain_grad() on the non-leaf Tensor. If you access the non-leaf Tensor by mistake, make sure you access the leaf Tensor instead. See github.com/pytorch/pytorch/pull/30531 for more information.\n",
            "  if p.grad is not None:\n",
            "/usr/local/lib/python3.7/dist-packages/torch/nn/modules/module.py:1702: UserWarning: The .grad attribute of a Tensor that is not a leaf Tensor is being accessed. Its .grad attribute won't be populated during autograd.backward(). If you indeed want the gradient for a non-leaf Tensor, use .retain_grad() on the non-leaf Tensor. If you access the non-leaf Tensor by mistake, make sure you access the leaf Tensor instead. See github.com/pytorch/pytorch/pull/30531 for more information.\n",
            "  if p.grad is not None:\n",
            "/usr/local/lib/python3.7/dist-packages/torch/nn/modules/module.py:1702: UserWarning: The .grad attribute of a Tensor that is not a leaf Tensor is being accessed. Its .grad attribute won't be populated during autograd.backward(). If you indeed want the gradient for a non-leaf Tensor, use .retain_grad() on the non-leaf Tensor. If you access the non-leaf Tensor by mistake, make sure you access the leaf Tensor instead. See github.com/pytorch/pytorch/pull/30531 for more information.\n",
            "  if p.grad is not None:\n",
            "/usr/local/lib/python3.7/dist-packages/torch/nn/modules/module.py:1702: UserWarning: The .grad attribute of a Tensor that is not a leaf Tensor is being accessed. Its .grad attribute won't be populated during autograd.backward(). If you indeed want the gradient for a non-leaf Tensor, use .retain_grad() on the non-leaf Tensor. If you access the non-leaf Tensor by mistake, make sure you access the leaf Tensor instead. See github.com/pytorch/pytorch/pull/30531 for more information.\n",
            "  if p.grad is not None:\n",
            "/usr/local/lib/python3.7/dist-packages/torch/nn/modules/module.py:1702: UserWarning: The .grad attribute of a Tensor that is not a leaf Tensor is being accessed. Its .grad attribute won't be populated during autograd.backward(). If you indeed want the gradient for a non-leaf Tensor, use .retain_grad() on the non-leaf Tensor. If you access the non-leaf Tensor by mistake, make sure you access the leaf Tensor instead. See github.com/pytorch/pytorch/pull/30531 for more information.\n",
            "  if p.grad is not None:\n",
            "/usr/local/lib/python3.7/dist-packages/torch/nn/modules/module.py:1702: UserWarning: The .grad attribute of a Tensor that is not a leaf Tensor is being accessed. Its .grad attribute won't be populated during autograd.backward(). If you indeed want the gradient for a non-leaf Tensor, use .retain_grad() on the non-leaf Tensor. If you access the non-leaf Tensor by mistake, make sure you access the leaf Tensor instead. See github.com/pytorch/pytorch/pull/30531 for more information.\n",
            "  if p.grad is not None:\n",
            "/usr/local/lib/python3.7/dist-packages/torch/nn/modules/module.py:1702: UserWarning: The .grad attribute of a Tensor that is not a leaf Tensor is being accessed. Its .grad attribute won't be populated during autograd.backward(). If you indeed want the gradient for a non-leaf Tensor, use .retain_grad() on the non-leaf Tensor. If you access the non-leaf Tensor by mistake, make sure you access the leaf Tensor instead. See github.com/pytorch/pytorch/pull/30531 for more information.\n",
            "  if p.grad is not None:\n",
            "/usr/local/lib/python3.7/dist-packages/torch/nn/modules/module.py:1702: UserWarning: The .grad attribute of a Tensor that is not a leaf Tensor is being accessed. Its .grad attribute won't be populated during autograd.backward(). If you indeed want the gradient for a non-leaf Tensor, use .retain_grad() on the non-leaf Tensor. If you access the non-leaf Tensor by mistake, make sure you access the leaf Tensor instead. See github.com/pytorch/pytorch/pull/30531 for more information.\n",
            "  if p.grad is not None:\n",
            "/usr/local/lib/python3.7/dist-packages/torch/nn/modules/module.py:1702: UserWarning: The .grad attribute of a Tensor that is not a leaf Tensor is being accessed. Its .grad attribute won't be populated during autograd.backward(). If you indeed want the gradient for a non-leaf Tensor, use .retain_grad() on the non-leaf Tensor. If you access the non-leaf Tensor by mistake, make sure you access the leaf Tensor instead. See github.com/pytorch/pytorch/pull/30531 for more information.\n",
            "  if p.grad is not None:\n",
            "/usr/local/lib/python3.7/dist-packages/torch/nn/modules/module.py:1702: UserWarning: The .grad attribute of a Tensor that is not a leaf Tensor is being accessed. Its .grad attribute won't be populated during autograd.backward(). If you indeed want the gradient for a non-leaf Tensor, use .retain_grad() on the non-leaf Tensor. If you access the non-leaf Tensor by mistake, make sure you access the leaf Tensor instead. See github.com/pytorch/pytorch/pull/30531 for more information.\n",
            "  if p.grad is not None:\n",
            "/usr/local/lib/python3.7/dist-packages/torch/nn/modules/module.py:1702: UserWarning: The .grad attribute of a Tensor that is not a leaf Tensor is being accessed. Its .grad attribute won't be populated during autograd.backward(). If you indeed want the gradient for a non-leaf Tensor, use .retain_grad() on the non-leaf Tensor. If you access the non-leaf Tensor by mistake, make sure you access the leaf Tensor instead. See github.com/pytorch/pytorch/pull/30531 for more information.\n",
            "  if p.grad is not None:\n",
            "/usr/local/lib/python3.7/dist-packages/torch/nn/modules/module.py:1702: UserWarning: The .grad attribute of a Tensor that is not a leaf Tensor is being accessed. Its .grad attribute won't be populated during autograd.backward(). If you indeed want the gradient for a non-leaf Tensor, use .retain_grad() on the non-leaf Tensor. If you access the non-leaf Tensor by mistake, make sure you access the leaf Tensor instead. See github.com/pytorch/pytorch/pull/30531 for more information.\n",
            "  if p.grad is not None:\n",
            "/usr/local/lib/python3.7/dist-packages/torch/nn/modules/module.py:1702: UserWarning: The .grad attribute of a Tensor that is not a leaf Tensor is being accessed. Its .grad attribute won't be populated during autograd.backward(). If you indeed want the gradient for a non-leaf Tensor, use .retain_grad() on the non-leaf Tensor. If you access the non-leaf Tensor by mistake, make sure you access the leaf Tensor instead. See github.com/pytorch/pytorch/pull/30531 for more information.\n",
            "  if p.grad is not None:\n",
            "/usr/local/lib/python3.7/dist-packages/torch/nn/modules/module.py:1702: UserWarning: The .grad attribute of a Tensor that is not a leaf Tensor is being accessed. Its .grad attribute won't be populated during autograd.backward(). If you indeed want the gradient for a non-leaf Tensor, use .retain_grad() on the non-leaf Tensor. If you access the non-leaf Tensor by mistake, make sure you access the leaf Tensor instead. See github.com/pytorch/pytorch/pull/30531 for more information.\n",
            "  if p.grad is not None:\n",
            "/usr/local/lib/python3.7/dist-packages/torch/nn/modules/module.py:1702: UserWarning: The .grad attribute of a Tensor that is not a leaf Tensor is being accessed. Its .grad attribute won't be populated during autograd.backward(). If you indeed want the gradient for a non-leaf Tensor, use .retain_grad() on the non-leaf Tensor. If you access the non-leaf Tensor by mistake, make sure you access the leaf Tensor instead. See github.com/pytorch/pytorch/pull/30531 for more information.\n",
            "  if p.grad is not None:\n",
            "/usr/local/lib/python3.7/dist-packages/torch/nn/modules/module.py:1702: UserWarning: The .grad attribute of a Tensor that is not a leaf Tensor is being accessed. Its .grad attribute won't be populated during autograd.backward(). If you indeed want the gradient for a non-leaf Tensor, use .retain_grad() on the non-leaf Tensor. If you access the non-leaf Tensor by mistake, make sure you access the leaf Tensor instead. See github.com/pytorch/pytorch/pull/30531 for more information.\n",
            "  if p.grad is not None:\n",
            "/usr/local/lib/python3.7/dist-packages/torch/nn/modules/module.py:1702: UserWarning: The .grad attribute of a Tensor that is not a leaf Tensor is being accessed. Its .grad attribute won't be populated during autograd.backward(). If you indeed want the gradient for a non-leaf Tensor, use .retain_grad() on the non-leaf Tensor. If you access the non-leaf Tensor by mistake, make sure you access the leaf Tensor instead. See github.com/pytorch/pytorch/pull/30531 for more information.\n",
            "  if p.grad is not None:\n",
            "/usr/local/lib/python3.7/dist-packages/torch/nn/modules/module.py:1702: UserWarning: The .grad attribute of a Tensor that is not a leaf Tensor is being accessed. Its .grad attribute won't be populated during autograd.backward(). If you indeed want the gradient for a non-leaf Tensor, use .retain_grad() on the non-leaf Tensor. If you access the non-leaf Tensor by mistake, make sure you access the leaf Tensor instead. See github.com/pytorch/pytorch/pull/30531 for more information.\n",
            "  if p.grad is not None:\n",
            "/usr/local/lib/python3.7/dist-packages/torch/nn/modules/module.py:1702: UserWarning: The .grad attribute of a Tensor that is not a leaf Tensor is being accessed. Its .grad attribute won't be populated during autograd.backward(). If you indeed want the gradient for a non-leaf Tensor, use .retain_grad() on the non-leaf Tensor. If you access the non-leaf Tensor by mistake, make sure you access the leaf Tensor instead. See github.com/pytorch/pytorch/pull/30531 for more information.\n",
            "  if p.grad is not None:\n",
            "/usr/local/lib/python3.7/dist-packages/torch/nn/modules/module.py:1702: UserWarning: The .grad attribute of a Tensor that is not a leaf Tensor is being accessed. Its .grad attribute won't be populated during autograd.backward(). If you indeed want the gradient for a non-leaf Tensor, use .retain_grad() on the non-leaf Tensor. If you access the non-leaf Tensor by mistake, make sure you access the leaf Tensor instead. See github.com/pytorch/pytorch/pull/30531 for more information.\n",
            "  if p.grad is not None:\n",
            "/usr/local/lib/python3.7/dist-packages/torch/nn/modules/module.py:1702: UserWarning: The .grad attribute of a Tensor that is not a leaf Tensor is being accessed. Its .grad attribute won't be populated during autograd.backward(). If you indeed want the gradient for a non-leaf Tensor, use .retain_grad() on the non-leaf Tensor. If you access the non-leaf Tensor by mistake, make sure you access the leaf Tensor instead. See github.com/pytorch/pytorch/pull/30531 for more information.\n",
            "  if p.grad is not None:\n",
            "/usr/local/lib/python3.7/dist-packages/torch/nn/modules/module.py:1702: UserWarning: The .grad attribute of a Tensor that is not a leaf Tensor is being accessed. Its .grad attribute won't be populated during autograd.backward(). If you indeed want the gradient for a non-leaf Tensor, use .retain_grad() on the non-leaf Tensor. If you access the non-leaf Tensor by mistake, make sure you access the leaf Tensor instead. See github.com/pytorch/pytorch/pull/30531 for more information.\n",
            "  if p.grad is not None:\n",
            "/usr/local/lib/python3.7/dist-packages/torch/nn/modules/module.py:1702: UserWarning: The .grad attribute of a Tensor that is not a leaf Tensor is being accessed. Its .grad attribute won't be populated during autograd.backward(). If you indeed want the gradient for a non-leaf Tensor, use .retain_grad() on the non-leaf Tensor. If you access the non-leaf Tensor by mistake, make sure you access the leaf Tensor instead. See github.com/pytorch/pytorch/pull/30531 for more information.\n",
            "  if p.grad is not None:\n",
            "/usr/local/lib/python3.7/dist-packages/torch/nn/modules/module.py:1702: UserWarning: The .grad attribute of a Tensor that is not a leaf Tensor is being accessed. Its .grad attribute won't be populated during autograd.backward(). If you indeed want the gradient for a non-leaf Tensor, use .retain_grad() on the non-leaf Tensor. If you access the non-leaf Tensor by mistake, make sure you access the leaf Tensor instead. See github.com/pytorch/pytorch/pull/30531 for more information.\n",
            "  if p.grad is not None:\n",
            "/usr/local/lib/python3.7/dist-packages/torch/nn/modules/module.py:1702: UserWarning: The .grad attribute of a Tensor that is not a leaf Tensor is being accessed. Its .grad attribute won't be populated during autograd.backward(). If you indeed want the gradient for a non-leaf Tensor, use .retain_grad() on the non-leaf Tensor. If you access the non-leaf Tensor by mistake, make sure you access the leaf Tensor instead. See github.com/pytorch/pytorch/pull/30531 for more information.\n",
            "  if p.grad is not None:\n",
            "/usr/local/lib/python3.7/dist-packages/torch/nn/modules/module.py:1702: UserWarning: The .grad attribute of a Tensor that is not a leaf Tensor is being accessed. Its .grad attribute won't be populated during autograd.backward(). If you indeed want the gradient for a non-leaf Tensor, use .retain_grad() on the non-leaf Tensor. If you access the non-leaf Tensor by mistake, make sure you access the leaf Tensor instead. See github.com/pytorch/pytorch/pull/30531 for more information.\n",
            "  if p.grad is not None:\n",
            "/usr/local/lib/python3.7/dist-packages/torch/nn/modules/module.py:1702: UserWarning: The .grad attribute of a Tensor that is not a leaf Tensor is being accessed. Its .grad attribute won't be populated during autograd.backward(). If you indeed want the gradient for a non-leaf Tensor, use .retain_grad() on the non-leaf Tensor. If you access the non-leaf Tensor by mistake, make sure you access the leaf Tensor instead. See github.com/pytorch/pytorch/pull/30531 for more information.\n",
            "  if p.grad is not None:\n",
            "/usr/local/lib/python3.7/dist-packages/torch/nn/modules/module.py:1702: UserWarning: The .grad attribute of a Tensor that is not a leaf Tensor is being accessed. Its .grad attribute won't be populated during autograd.backward(). If you indeed want the gradient for a non-leaf Tensor, use .retain_grad() on the non-leaf Tensor. If you access the non-leaf Tensor by mistake, make sure you access the leaf Tensor instead. See github.com/pytorch/pytorch/pull/30531 for more information.\n",
            "  if p.grad is not None:\n",
            "/usr/local/lib/python3.7/dist-packages/torch/nn/modules/module.py:1702: UserWarning: The .grad attribute of a Tensor that is not a leaf Tensor is being accessed. Its .grad attribute won't be populated during autograd.backward(). If you indeed want the gradient for a non-leaf Tensor, use .retain_grad() on the non-leaf Tensor. If you access the non-leaf Tensor by mistake, make sure you access the leaf Tensor instead. See github.com/pytorch/pytorch/pull/30531 for more information.\n",
            "  if p.grad is not None:\n",
            "/usr/local/lib/python3.7/dist-packages/torch/nn/modules/module.py:1702: UserWarning: The .grad attribute of a Tensor that is not a leaf Tensor is being accessed. Its .grad attribute won't be populated during autograd.backward(). If you indeed want the gradient for a non-leaf Tensor, use .retain_grad() on the non-leaf Tensor. If you access the non-leaf Tensor by mistake, make sure you access the leaf Tensor instead. See github.com/pytorch/pytorch/pull/30531 for more information.\n",
            "  if p.grad is not None:\n",
            "/usr/local/lib/python3.7/dist-packages/torch/nn/modules/module.py:1702: UserWarning: The .grad attribute of a Tensor that is not a leaf Tensor is being accessed. Its .grad attribute won't be populated during autograd.backward(). If you indeed want the gradient for a non-leaf Tensor, use .retain_grad() on the non-leaf Tensor. If you access the non-leaf Tensor by mistake, make sure you access the leaf Tensor instead. See github.com/pytorch/pytorch/pull/30531 for more information.\n",
            "  if p.grad is not None:\n",
            "/usr/local/lib/python3.7/dist-packages/torch/nn/modules/module.py:1702: UserWarning: The .grad attribute of a Tensor that is not a leaf Tensor is being accessed. Its .grad attribute won't be populated during autograd.backward(). If you indeed want the gradient for a non-leaf Tensor, use .retain_grad() on the non-leaf Tensor. If you access the non-leaf Tensor by mistake, make sure you access the leaf Tensor instead. See github.com/pytorch/pytorch/pull/30531 for more information.\n",
            "  if p.grad is not None:\n",
            "/usr/local/lib/python3.7/dist-packages/torch/nn/modules/module.py:1702: UserWarning: The .grad attribute of a Tensor that is not a leaf Tensor is being accessed. Its .grad attribute won't be populated during autograd.backward(). If you indeed want the gradient for a non-leaf Tensor, use .retain_grad() on the non-leaf Tensor. If you access the non-leaf Tensor by mistake, make sure you access the leaf Tensor instead. See github.com/pytorch/pytorch/pull/30531 for more information.\n",
            "  if p.grad is not None:\n",
            "/usr/local/lib/python3.7/dist-packages/torch/nn/modules/module.py:1702: UserWarning: The .grad attribute of a Tensor that is not a leaf Tensor is being accessed. Its .grad attribute won't be populated during autograd.backward(). If you indeed want the gradient for a non-leaf Tensor, use .retain_grad() on the non-leaf Tensor. If you access the non-leaf Tensor by mistake, make sure you access the leaf Tensor instead. See github.com/pytorch/pytorch/pull/30531 for more information.\n",
            "  if p.grad is not None:\n",
            "/usr/local/lib/python3.7/dist-packages/torch/nn/modules/module.py:1702: UserWarning: The .grad attribute of a Tensor that is not a leaf Tensor is being accessed. Its .grad attribute won't be populated during autograd.backward(). If you indeed want the gradient for a non-leaf Tensor, use .retain_grad() on the non-leaf Tensor. If you access the non-leaf Tensor by mistake, make sure you access the leaf Tensor instead. See github.com/pytorch/pytorch/pull/30531 for more information.\n",
            "  if p.grad is not None:\n",
            "/usr/local/lib/python3.7/dist-packages/torch/nn/modules/module.py:1702: UserWarning: The .grad attribute of a Tensor that is not a leaf Tensor is being accessed. Its .grad attribute won't be populated during autograd.backward(). If you indeed want the gradient for a non-leaf Tensor, use .retain_grad() on the non-leaf Tensor. If you access the non-leaf Tensor by mistake, make sure you access the leaf Tensor instead. See github.com/pytorch/pytorch/pull/30531 for more information.\n",
            "  if p.grad is not None:\n",
            "/usr/local/lib/python3.7/dist-packages/torch/nn/modules/module.py:1702: UserWarning: The .grad attribute of a Tensor that is not a leaf Tensor is being accessed. Its .grad attribute won't be populated during autograd.backward(). If you indeed want the gradient for a non-leaf Tensor, use .retain_grad() on the non-leaf Tensor. If you access the non-leaf Tensor by mistake, make sure you access the leaf Tensor instead. See github.com/pytorch/pytorch/pull/30531 for more information.\n",
            "  if p.grad is not None:\n",
            "/usr/local/lib/python3.7/dist-packages/torch/nn/modules/module.py:1702: UserWarning: The .grad attribute of a Tensor that is not a leaf Tensor is being accessed. Its .grad attribute won't be populated during autograd.backward(). If you indeed want the gradient for a non-leaf Tensor, use .retain_grad() on the non-leaf Tensor. If you access the non-leaf Tensor by mistake, make sure you access the leaf Tensor instead. See github.com/pytorch/pytorch/pull/30531 for more information.\n",
            "  if p.grad is not None:\n",
            "/usr/local/lib/python3.7/dist-packages/torch/nn/modules/module.py:1702: UserWarning: The .grad attribute of a Tensor that is not a leaf Tensor is being accessed. Its .grad attribute won't be populated during autograd.backward(). If you indeed want the gradient for a non-leaf Tensor, use .retain_grad() on the non-leaf Tensor. If you access the non-leaf Tensor by mistake, make sure you access the leaf Tensor instead. See github.com/pytorch/pytorch/pull/30531 for more information.\n",
            "  if p.grad is not None:\n",
            "/usr/local/lib/python3.7/dist-packages/torch/nn/modules/module.py:1702: UserWarning: The .grad attribute of a Tensor that is not a leaf Tensor is being accessed. Its .grad attribute won't be populated during autograd.backward(). If you indeed want the gradient for a non-leaf Tensor, use .retain_grad() on the non-leaf Tensor. If you access the non-leaf Tensor by mistake, make sure you access the leaf Tensor instead. See github.com/pytorch/pytorch/pull/30531 for more information.\n",
            "  if p.grad is not None:\n",
            "/usr/local/lib/python3.7/dist-packages/torch/nn/modules/module.py:1702: UserWarning: The .grad attribute of a Tensor that is not a leaf Tensor is being accessed. Its .grad attribute won't be populated during autograd.backward(). If you indeed want the gradient for a non-leaf Tensor, use .retain_grad() on the non-leaf Tensor. If you access the non-leaf Tensor by mistake, make sure you access the leaf Tensor instead. See github.com/pytorch/pytorch/pull/30531 for more information.\n",
            "  if p.grad is not None:\n",
            "/usr/local/lib/python3.7/dist-packages/torch/nn/modules/module.py:1702: UserWarning: The .grad attribute of a Tensor that is not a leaf Tensor is being accessed. Its .grad attribute won't be populated during autograd.backward(). If you indeed want the gradient for a non-leaf Tensor, use .retain_grad() on the non-leaf Tensor. If you access the non-leaf Tensor by mistake, make sure you access the leaf Tensor instead. See github.com/pytorch/pytorch/pull/30531 for more information.\n",
            "  if p.grad is not None:\n",
            "/usr/local/lib/python3.7/dist-packages/torch/nn/modules/module.py:1702: UserWarning: The .grad attribute of a Tensor that is not a leaf Tensor is being accessed. Its .grad attribute won't be populated during autograd.backward(). If you indeed want the gradient for a non-leaf Tensor, use .retain_grad() on the non-leaf Tensor. If you access the non-leaf Tensor by mistake, make sure you access the leaf Tensor instead. See github.com/pytorch/pytorch/pull/30531 for more information.\n",
            "  if p.grad is not None:\n",
            "/usr/local/lib/python3.7/dist-packages/torch/nn/modules/module.py:1702: UserWarning: The .grad attribute of a Tensor that is not a leaf Tensor is being accessed. Its .grad attribute won't be populated during autograd.backward(). If you indeed want the gradient for a non-leaf Tensor, use .retain_grad() on the non-leaf Tensor. If you access the non-leaf Tensor by mistake, make sure you access the leaf Tensor instead. See github.com/pytorch/pytorch/pull/30531 for more information.\n",
            "  if p.grad is not None:\n",
            "/usr/local/lib/python3.7/dist-packages/torch/nn/modules/module.py:1702: UserWarning: The .grad attribute of a Tensor that is not a leaf Tensor is being accessed. Its .grad attribute won't be populated during autograd.backward(). If you indeed want the gradient for a non-leaf Tensor, use .retain_grad() on the non-leaf Tensor. If you access the non-leaf Tensor by mistake, make sure you access the leaf Tensor instead. See github.com/pytorch/pytorch/pull/30531 for more information.\n",
            "  if p.grad is not None:\n",
            "/usr/local/lib/python3.7/dist-packages/torch/nn/modules/module.py:1702: UserWarning: The .grad attribute of a Tensor that is not a leaf Tensor is being accessed. Its .grad attribute won't be populated during autograd.backward(). If you indeed want the gradient for a non-leaf Tensor, use .retain_grad() on the non-leaf Tensor. If you access the non-leaf Tensor by mistake, make sure you access the leaf Tensor instead. See github.com/pytorch/pytorch/pull/30531 for more information.\n",
            "  if p.grad is not None:\n",
            "/usr/local/lib/python3.7/dist-packages/torch/nn/modules/module.py:1702: UserWarning: The .grad attribute of a Tensor that is not a leaf Tensor is being accessed. Its .grad attribute won't be populated during autograd.backward(). If you indeed want the gradient for a non-leaf Tensor, use .retain_grad() on the non-leaf Tensor. If you access the non-leaf Tensor by mistake, make sure you access the leaf Tensor instead. See github.com/pytorch/pytorch/pull/30531 for more information.\n",
            "  if p.grad is not None:\n",
            "/usr/local/lib/python3.7/dist-packages/torch/nn/modules/module.py:1702: UserWarning: The .grad attribute of a Tensor that is not a leaf Tensor is being accessed. Its .grad attribute won't be populated during autograd.backward(). If you indeed want the gradient for a non-leaf Tensor, use .retain_grad() on the non-leaf Tensor. If you access the non-leaf Tensor by mistake, make sure you access the leaf Tensor instead. See github.com/pytorch/pytorch/pull/30531 for more information.\n",
            "  if p.grad is not None:\n",
            "/usr/local/lib/python3.7/dist-packages/torch/nn/modules/module.py:1702: UserWarning: The .grad attribute of a Tensor that is not a leaf Tensor is being accessed. Its .grad attribute won't be populated during autograd.backward(). If you indeed want the gradient for a non-leaf Tensor, use .retain_grad() on the non-leaf Tensor. If you access the non-leaf Tensor by mistake, make sure you access the leaf Tensor instead. See github.com/pytorch/pytorch/pull/30531 for more information.\n",
            "  if p.grad is not None:\n",
            "/usr/local/lib/python3.7/dist-packages/torch/nn/modules/module.py:1702: UserWarning: The .grad attribute of a Tensor that is not a leaf Tensor is being accessed. Its .grad attribute won't be populated during autograd.backward(). If you indeed want the gradient for a non-leaf Tensor, use .retain_grad() on the non-leaf Tensor. If you access the non-leaf Tensor by mistake, make sure you access the leaf Tensor instead. See github.com/pytorch/pytorch/pull/30531 for more information.\n",
            "  if p.grad is not None:\n",
            "/usr/local/lib/python3.7/dist-packages/torch/nn/modules/module.py:1702: UserWarning: The .grad attribute of a Tensor that is not a leaf Tensor is being accessed. Its .grad attribute won't be populated during autograd.backward(). If you indeed want the gradient for a non-leaf Tensor, use .retain_grad() on the non-leaf Tensor. If you access the non-leaf Tensor by mistake, make sure you access the leaf Tensor instead. See github.com/pytorch/pytorch/pull/30531 for more information.\n",
            "  if p.grad is not None:\n",
            "/usr/local/lib/python3.7/dist-packages/torch/nn/modules/module.py:1702: UserWarning: The .grad attribute of a Tensor that is not a leaf Tensor is being accessed. Its .grad attribute won't be populated during autograd.backward(). If you indeed want the gradient for a non-leaf Tensor, use .retain_grad() on the non-leaf Tensor. If you access the non-leaf Tensor by mistake, make sure you access the leaf Tensor instead. See github.com/pytorch/pytorch/pull/30531 for more information.\n",
            "  if p.grad is not None:\n",
            "/usr/local/lib/python3.7/dist-packages/torch/nn/modules/module.py:1702: UserWarning: The .grad attribute of a Tensor that is not a leaf Tensor is being accessed. Its .grad attribute won't be populated during autograd.backward(). If you indeed want the gradient for a non-leaf Tensor, use .retain_grad() on the non-leaf Tensor. If you access the non-leaf Tensor by mistake, make sure you access the leaf Tensor instead. See github.com/pytorch/pytorch/pull/30531 for more information.\n",
            "  if p.grad is not None:\n",
            "/usr/local/lib/python3.7/dist-packages/torch/nn/modules/module.py:1702: UserWarning: The .grad attribute of a Tensor that is not a leaf Tensor is being accessed. Its .grad attribute won't be populated during autograd.backward(). If you indeed want the gradient for a non-leaf Tensor, use .retain_grad() on the non-leaf Tensor. If you access the non-leaf Tensor by mistake, make sure you access the leaf Tensor instead. See github.com/pytorch/pytorch/pull/30531 for more information.\n",
            "  if p.grad is not None:\n",
            "/usr/local/lib/python3.7/dist-packages/torch/nn/modules/module.py:1702: UserWarning: The .grad attribute of a Tensor that is not a leaf Tensor is being accessed. Its .grad attribute won't be populated during autograd.backward(). If you indeed want the gradient for a non-leaf Tensor, use .retain_grad() on the non-leaf Tensor. If you access the non-leaf Tensor by mistake, make sure you access the leaf Tensor instead. See github.com/pytorch/pytorch/pull/30531 for more information.\n",
            "  if p.grad is not None:\n",
            "/usr/local/lib/python3.7/dist-packages/torch/nn/modules/module.py:1702: UserWarning: The .grad attribute of a Tensor that is not a leaf Tensor is being accessed. Its .grad attribute won't be populated during autograd.backward(). If you indeed want the gradient for a non-leaf Tensor, use .retain_grad() on the non-leaf Tensor. If you access the non-leaf Tensor by mistake, make sure you access the leaf Tensor instead. See github.com/pytorch/pytorch/pull/30531 for more information.\n",
            "  if p.grad is not None:\n",
            "/usr/local/lib/python3.7/dist-packages/torch/nn/modules/module.py:1702: UserWarning: The .grad attribute of a Tensor that is not a leaf Tensor is being accessed. Its .grad attribute won't be populated during autograd.backward(). If you indeed want the gradient for a non-leaf Tensor, use .retain_grad() on the non-leaf Tensor. If you access the non-leaf Tensor by mistake, make sure you access the leaf Tensor instead. See github.com/pytorch/pytorch/pull/30531 for more information.\n",
            "  if p.grad is not None:\n",
            "/usr/local/lib/python3.7/dist-packages/torch/nn/modules/module.py:1702: UserWarning: The .grad attribute of a Tensor that is not a leaf Tensor is being accessed. Its .grad attribute won't be populated during autograd.backward(). If you indeed want the gradient for a non-leaf Tensor, use .retain_grad() on the non-leaf Tensor. If you access the non-leaf Tensor by mistake, make sure you access the leaf Tensor instead. See github.com/pytorch/pytorch/pull/30531 for more information.\n",
            "  if p.grad is not None:\n",
            "/usr/local/lib/python3.7/dist-packages/torch/nn/modules/module.py:1702: UserWarning: The .grad attribute of a Tensor that is not a leaf Tensor is being accessed. Its .grad attribute won't be populated during autograd.backward(). If you indeed want the gradient for a non-leaf Tensor, use .retain_grad() on the non-leaf Tensor. If you access the non-leaf Tensor by mistake, make sure you access the leaf Tensor instead. See github.com/pytorch/pytorch/pull/30531 for more information.\n",
            "  if p.grad is not None:\n",
            "/usr/local/lib/python3.7/dist-packages/torch/nn/modules/module.py:1702: UserWarning: The .grad attribute of a Tensor that is not a leaf Tensor is being accessed. Its .grad attribute won't be populated during autograd.backward(). If you indeed want the gradient for a non-leaf Tensor, use .retain_grad() on the non-leaf Tensor. If you access the non-leaf Tensor by mistake, make sure you access the leaf Tensor instead. See github.com/pytorch/pytorch/pull/30531 for more information.\n",
            "  if p.grad is not None:\n",
            "/usr/local/lib/python3.7/dist-packages/torch/nn/modules/module.py:1702: UserWarning: The .grad attribute of a Tensor that is not a leaf Tensor is being accessed. Its .grad attribute won't be populated during autograd.backward(). If you indeed want the gradient for a non-leaf Tensor, use .retain_grad() on the non-leaf Tensor. If you access the non-leaf Tensor by mistake, make sure you access the leaf Tensor instead. See github.com/pytorch/pytorch/pull/30531 for more information.\n",
            "  if p.grad is not None:\n",
            "/usr/local/lib/python3.7/dist-packages/torch/nn/modules/module.py:1702: UserWarning: The .grad attribute of a Tensor that is not a leaf Tensor is being accessed. Its .grad attribute won't be populated during autograd.backward(). If you indeed want the gradient for a non-leaf Tensor, use .retain_grad() on the non-leaf Tensor. If you access the non-leaf Tensor by mistake, make sure you access the leaf Tensor instead. See github.com/pytorch/pytorch/pull/30531 for more information.\n",
            "  if p.grad is not None:\n",
            "/usr/local/lib/python3.7/dist-packages/torch/nn/modules/module.py:1702: UserWarning: The .grad attribute of a Tensor that is not a leaf Tensor is being accessed. Its .grad attribute won't be populated during autograd.backward(). If you indeed want the gradient for a non-leaf Tensor, use .retain_grad() on the non-leaf Tensor. If you access the non-leaf Tensor by mistake, make sure you access the leaf Tensor instead. See github.com/pytorch/pytorch/pull/30531 for more information.\n",
            "  if p.grad is not None:\n",
            "/usr/local/lib/python3.7/dist-packages/torch/nn/modules/module.py:1702: UserWarning: The .grad attribute of a Tensor that is not a leaf Tensor is being accessed. Its .grad attribute won't be populated during autograd.backward(). If you indeed want the gradient for a non-leaf Tensor, use .retain_grad() on the non-leaf Tensor. If you access the non-leaf Tensor by mistake, make sure you access the leaf Tensor instead. See github.com/pytorch/pytorch/pull/30531 for more information.\n",
            "  if p.grad is not None:\n",
            "/usr/local/lib/python3.7/dist-packages/torch/nn/modules/module.py:1702: UserWarning: The .grad attribute of a Tensor that is not a leaf Tensor is being accessed. Its .grad attribute won't be populated during autograd.backward(). If you indeed want the gradient for a non-leaf Tensor, use .retain_grad() on the non-leaf Tensor. If you access the non-leaf Tensor by mistake, make sure you access the leaf Tensor instead. See github.com/pytorch/pytorch/pull/30531 for more information.\n",
            "  if p.grad is not None:\n",
            "/usr/local/lib/python3.7/dist-packages/torch/nn/modules/module.py:1702: UserWarning: The .grad attribute of a Tensor that is not a leaf Tensor is being accessed. Its .grad attribute won't be populated during autograd.backward(). If you indeed want the gradient for a non-leaf Tensor, use .retain_grad() on the non-leaf Tensor. If you access the non-leaf Tensor by mistake, make sure you access the leaf Tensor instead. See github.com/pytorch/pytorch/pull/30531 for more information.\n",
            "  if p.grad is not None:\n",
            "/usr/local/lib/python3.7/dist-packages/torch/nn/modules/module.py:1702: UserWarning: The .grad attribute of a Tensor that is not a leaf Tensor is being accessed. Its .grad attribute won't be populated during autograd.backward(). If you indeed want the gradient for a non-leaf Tensor, use .retain_grad() on the non-leaf Tensor. If you access the non-leaf Tensor by mistake, make sure you access the leaf Tensor instead. See github.com/pytorch/pytorch/pull/30531 for more information.\n",
            "  if p.grad is not None:\n",
            "/usr/local/lib/python3.7/dist-packages/torch/nn/modules/module.py:1702: UserWarning: The .grad attribute of a Tensor that is not a leaf Tensor is being accessed. Its .grad attribute won't be populated during autograd.backward(). If you indeed want the gradient for a non-leaf Tensor, use .retain_grad() on the non-leaf Tensor. If you access the non-leaf Tensor by mistake, make sure you access the leaf Tensor instead. See github.com/pytorch/pytorch/pull/30531 for more information.\n",
            "  if p.grad is not None:\n",
            "/usr/local/lib/python3.7/dist-packages/torch/nn/modules/module.py:1702: UserWarning: The .grad attribute of a Tensor that is not a leaf Tensor is being accessed. Its .grad attribute won't be populated during autograd.backward(). If you indeed want the gradient for a non-leaf Tensor, use .retain_grad() on the non-leaf Tensor. If you access the non-leaf Tensor by mistake, make sure you access the leaf Tensor instead. See github.com/pytorch/pytorch/pull/30531 for more information.\n",
            "  if p.grad is not None:\n",
            "/usr/local/lib/python3.7/dist-packages/torch/nn/modules/module.py:1702: UserWarning: The .grad attribute of a Tensor that is not a leaf Tensor is being accessed. Its .grad attribute won't be populated during autograd.backward(). If you indeed want the gradient for a non-leaf Tensor, use .retain_grad() on the non-leaf Tensor. If you access the non-leaf Tensor by mistake, make sure you access the leaf Tensor instead. See github.com/pytorch/pytorch/pull/30531 for more information.\n",
            "  if p.grad is not None:\n",
            "/usr/local/lib/python3.7/dist-packages/torch/nn/modules/module.py:1702: UserWarning: The .grad attribute of a Tensor that is not a leaf Tensor is being accessed. Its .grad attribute won't be populated during autograd.backward(). If you indeed want the gradient for a non-leaf Tensor, use .retain_grad() on the non-leaf Tensor. If you access the non-leaf Tensor by mistake, make sure you access the leaf Tensor instead. See github.com/pytorch/pytorch/pull/30531 for more information.\n",
            "  if p.grad is not None:\n",
            "/usr/local/lib/python3.7/dist-packages/torch/nn/modules/module.py:1702: UserWarning: The .grad attribute of a Tensor that is not a leaf Tensor is being accessed. Its .grad attribute won't be populated during autograd.backward(). If you indeed want the gradient for a non-leaf Tensor, use .retain_grad() on the non-leaf Tensor. If you access the non-leaf Tensor by mistake, make sure you access the leaf Tensor instead. See github.com/pytorch/pytorch/pull/30531 for more information.\n",
            "  if p.grad is not None:\n",
            "/usr/local/lib/python3.7/dist-packages/torch/nn/modules/module.py:1702: UserWarning: The .grad attribute of a Tensor that is not a leaf Tensor is being accessed. Its .grad attribute won't be populated during autograd.backward(). If you indeed want the gradient for a non-leaf Tensor, use .retain_grad() on the non-leaf Tensor. If you access the non-leaf Tensor by mistake, make sure you access the leaf Tensor instead. See github.com/pytorch/pytorch/pull/30531 for more information.\n",
            "  if p.grad is not None:\n",
            "/usr/local/lib/python3.7/dist-packages/torch/nn/modules/module.py:1702: UserWarning: The .grad attribute of a Tensor that is not a leaf Tensor is being accessed. Its .grad attribute won't be populated during autograd.backward(). If you indeed want the gradient for a non-leaf Tensor, use .retain_grad() on the non-leaf Tensor. If you access the non-leaf Tensor by mistake, make sure you access the leaf Tensor instead. See github.com/pytorch/pytorch/pull/30531 for more information.\n",
            "  if p.grad is not None:\n",
            "/usr/local/lib/python3.7/dist-packages/torch/nn/modules/module.py:1702: UserWarning: The .grad attribute of a Tensor that is not a leaf Tensor is being accessed. Its .grad attribute won't be populated during autograd.backward(). If you indeed want the gradient for a non-leaf Tensor, use .retain_grad() on the non-leaf Tensor. If you access the non-leaf Tensor by mistake, make sure you access the leaf Tensor instead. See github.com/pytorch/pytorch/pull/30531 for more information.\n",
            "  if p.grad is not None:\n",
            "/usr/local/lib/python3.7/dist-packages/torch/nn/modules/module.py:1702: UserWarning: The .grad attribute of a Tensor that is not a leaf Tensor is being accessed. Its .grad attribute won't be populated during autograd.backward(). If you indeed want the gradient for a non-leaf Tensor, use .retain_grad() on the non-leaf Tensor. If you access the non-leaf Tensor by mistake, make sure you access the leaf Tensor instead. See github.com/pytorch/pytorch/pull/30531 for more information.\n",
            "  if p.grad is not None:\n",
            "/usr/local/lib/python3.7/dist-packages/torch/nn/modules/module.py:1702: UserWarning: The .grad attribute of a Tensor that is not a leaf Tensor is being accessed. Its .grad attribute won't be populated during autograd.backward(). If you indeed want the gradient for a non-leaf Tensor, use .retain_grad() on the non-leaf Tensor. If you access the non-leaf Tensor by mistake, make sure you access the leaf Tensor instead. See github.com/pytorch/pytorch/pull/30531 for more information.\n",
            "  if p.grad is not None:\n",
            "/usr/local/lib/python3.7/dist-packages/torch/nn/modules/module.py:1702: UserWarning: The .grad attribute of a Tensor that is not a leaf Tensor is being accessed. Its .grad attribute won't be populated during autograd.backward(). If you indeed want the gradient for a non-leaf Tensor, use .retain_grad() on the non-leaf Tensor. If you access the non-leaf Tensor by mistake, make sure you access the leaf Tensor instead. See github.com/pytorch/pytorch/pull/30531 for more information.\n",
            "  if p.grad is not None:\n",
            "/usr/local/lib/python3.7/dist-packages/torch/nn/modules/module.py:1702: UserWarning: The .grad attribute of a Tensor that is not a leaf Tensor is being accessed. Its .grad attribute won't be populated during autograd.backward(). If you indeed want the gradient for a non-leaf Tensor, use .retain_grad() on the non-leaf Tensor. If you access the non-leaf Tensor by mistake, make sure you access the leaf Tensor instead. See github.com/pytorch/pytorch/pull/30531 for more information.\n",
            "  if p.grad is not None:\n",
            "/usr/local/lib/python3.7/dist-packages/torch/nn/modules/module.py:1702: UserWarning: The .grad attribute of a Tensor that is not a leaf Tensor is being accessed. Its .grad attribute won't be populated during autograd.backward(). If you indeed want the gradient for a non-leaf Tensor, use .retain_grad() on the non-leaf Tensor. If you access the non-leaf Tensor by mistake, make sure you access the leaf Tensor instead. See github.com/pytorch/pytorch/pull/30531 for more information.\n",
            "  if p.grad is not None:\n",
            "/usr/local/lib/python3.7/dist-packages/torch/nn/modules/module.py:1702: UserWarning: The .grad attribute of a Tensor that is not a leaf Tensor is being accessed. Its .grad attribute won't be populated during autograd.backward(). If you indeed want the gradient for a non-leaf Tensor, use .retain_grad() on the non-leaf Tensor. If you access the non-leaf Tensor by mistake, make sure you access the leaf Tensor instead. See github.com/pytorch/pytorch/pull/30531 for more information.\n",
            "  if p.grad is not None:\n",
            "/usr/local/lib/python3.7/dist-packages/torch/nn/modules/module.py:1702: UserWarning: The .grad attribute of a Tensor that is not a leaf Tensor is being accessed. Its .grad attribute won't be populated during autograd.backward(). If you indeed want the gradient for a non-leaf Tensor, use .retain_grad() on the non-leaf Tensor. If you access the non-leaf Tensor by mistake, make sure you access the leaf Tensor instead. See github.com/pytorch/pytorch/pull/30531 for more information.\n",
            "  if p.grad is not None:\n",
            "/usr/local/lib/python3.7/dist-packages/torch/nn/modules/module.py:1702: UserWarning: The .grad attribute of a Tensor that is not a leaf Tensor is being accessed. Its .grad attribute won't be populated during autograd.backward(). If you indeed want the gradient for a non-leaf Tensor, use .retain_grad() on the non-leaf Tensor. If you access the non-leaf Tensor by mistake, make sure you access the leaf Tensor instead. See github.com/pytorch/pytorch/pull/30531 for more information.\n",
            "  if p.grad is not None:\n",
            "/usr/local/lib/python3.7/dist-packages/torch/nn/modules/module.py:1702: UserWarning: The .grad attribute of a Tensor that is not a leaf Tensor is being accessed. Its .grad attribute won't be populated during autograd.backward(). If you indeed want the gradient for a non-leaf Tensor, use .retain_grad() on the non-leaf Tensor. If you access the non-leaf Tensor by mistake, make sure you access the leaf Tensor instead. See github.com/pytorch/pytorch/pull/30531 for more information.\n",
            "  if p.grad is not None:\n",
            "/usr/local/lib/python3.7/dist-packages/torch/nn/modules/module.py:1702: UserWarning: The .grad attribute of a Tensor that is not a leaf Tensor is being accessed. Its .grad attribute won't be populated during autograd.backward(). If you indeed want the gradient for a non-leaf Tensor, use .retain_grad() on the non-leaf Tensor. If you access the non-leaf Tensor by mistake, make sure you access the leaf Tensor instead. See github.com/pytorch/pytorch/pull/30531 for more information.\n",
            "  if p.grad is not None:\n",
            "/usr/local/lib/python3.7/dist-packages/torch/nn/modules/module.py:1702: UserWarning: The .grad attribute of a Tensor that is not a leaf Tensor is being accessed. Its .grad attribute won't be populated during autograd.backward(). If you indeed want the gradient for a non-leaf Tensor, use .retain_grad() on the non-leaf Tensor. If you access the non-leaf Tensor by mistake, make sure you access the leaf Tensor instead. See github.com/pytorch/pytorch/pull/30531 for more information.\n",
            "  if p.grad is not None:\n",
            "/usr/local/lib/python3.7/dist-packages/torch/nn/modules/module.py:1702: UserWarning: The .grad attribute of a Tensor that is not a leaf Tensor is being accessed. Its .grad attribute won't be populated during autograd.backward(). If you indeed want the gradient for a non-leaf Tensor, use .retain_grad() on the non-leaf Tensor. If you access the non-leaf Tensor by mistake, make sure you access the leaf Tensor instead. See github.com/pytorch/pytorch/pull/30531 for more information.\n",
            "  if p.grad is not None:\n",
            "/usr/local/lib/python3.7/dist-packages/torch/nn/modules/module.py:1702: UserWarning: The .grad attribute of a Tensor that is not a leaf Tensor is being accessed. Its .grad attribute won't be populated during autograd.backward(). If you indeed want the gradient for a non-leaf Tensor, use .retain_grad() on the non-leaf Tensor. If you access the non-leaf Tensor by mistake, make sure you access the leaf Tensor instead. See github.com/pytorch/pytorch/pull/30531 for more information.\n",
            "  if p.grad is not None:\n",
            "/usr/local/lib/python3.7/dist-packages/torch/nn/modules/module.py:1702: UserWarning: The .grad attribute of a Tensor that is not a leaf Tensor is being accessed. Its .grad attribute won't be populated during autograd.backward(). If you indeed want the gradient for a non-leaf Tensor, use .retain_grad() on the non-leaf Tensor. If you access the non-leaf Tensor by mistake, make sure you access the leaf Tensor instead. See github.com/pytorch/pytorch/pull/30531 for more information.\n",
            "  if p.grad is not None:\n",
            "/usr/local/lib/python3.7/dist-packages/torch/nn/modules/module.py:1702: UserWarning: The .grad attribute of a Tensor that is not a leaf Tensor is being accessed. Its .grad attribute won't be populated during autograd.backward(). If you indeed want the gradient for a non-leaf Tensor, use .retain_grad() on the non-leaf Tensor. If you access the non-leaf Tensor by mistake, make sure you access the leaf Tensor instead. See github.com/pytorch/pytorch/pull/30531 for more information.\n",
            "  if p.grad is not None:\n",
            "/usr/local/lib/python3.7/dist-packages/torch/nn/modules/module.py:1702: UserWarning: The .grad attribute of a Tensor that is not a leaf Tensor is being accessed. Its .grad attribute won't be populated during autograd.backward(). If you indeed want the gradient for a non-leaf Tensor, use .retain_grad() on the non-leaf Tensor. If you access the non-leaf Tensor by mistake, make sure you access the leaf Tensor instead. See github.com/pytorch/pytorch/pull/30531 for more information.\n",
            "  if p.grad is not None:\n",
            "/usr/local/lib/python3.7/dist-packages/torch/nn/modules/module.py:1702: UserWarning: The .grad attribute of a Tensor that is not a leaf Tensor is being accessed. Its .grad attribute won't be populated during autograd.backward(). If you indeed want the gradient for a non-leaf Tensor, use .retain_grad() on the non-leaf Tensor. If you access the non-leaf Tensor by mistake, make sure you access the leaf Tensor instead. See github.com/pytorch/pytorch/pull/30531 for more information.\n",
            "  if p.grad is not None:\n",
            "/usr/local/lib/python3.7/dist-packages/torch/nn/modules/module.py:1702: UserWarning: The .grad attribute of a Tensor that is not a leaf Tensor is being accessed. Its .grad attribute won't be populated during autograd.backward(). If you indeed want the gradient for a non-leaf Tensor, use .retain_grad() on the non-leaf Tensor. If you access the non-leaf Tensor by mistake, make sure you access the leaf Tensor instead. See github.com/pytorch/pytorch/pull/30531 for more information.\n",
            "  if p.grad is not None:\n",
            "/usr/local/lib/python3.7/dist-packages/torch/nn/modules/module.py:1702: UserWarning: The .grad attribute of a Tensor that is not a leaf Tensor is being accessed. Its .grad attribute won't be populated during autograd.backward(). If you indeed want the gradient for a non-leaf Tensor, use .retain_grad() on the non-leaf Tensor. If you access the non-leaf Tensor by mistake, make sure you access the leaf Tensor instead. See github.com/pytorch/pytorch/pull/30531 for more information.\n",
            "  if p.grad is not None:\n",
            "/usr/local/lib/python3.7/dist-packages/torch/nn/modules/module.py:1702: UserWarning: The .grad attribute of a Tensor that is not a leaf Tensor is being accessed. Its .grad attribute won't be populated during autograd.backward(). If you indeed want the gradient for a non-leaf Tensor, use .retain_grad() on the non-leaf Tensor. If you access the non-leaf Tensor by mistake, make sure you access the leaf Tensor instead. See github.com/pytorch/pytorch/pull/30531 for more information.\n",
            "  if p.grad is not None:\n",
            "/usr/local/lib/python3.7/dist-packages/torch/nn/modules/module.py:1702: UserWarning: The .grad attribute of a Tensor that is not a leaf Tensor is being accessed. Its .grad attribute won't be populated during autograd.backward(). If you indeed want the gradient for a non-leaf Tensor, use .retain_grad() on the non-leaf Tensor. If you access the non-leaf Tensor by mistake, make sure you access the leaf Tensor instead. See github.com/pytorch/pytorch/pull/30531 for more information.\n",
            "  if p.grad is not None:\n",
            "/usr/local/lib/python3.7/dist-packages/torch/nn/modules/module.py:1702: UserWarning: The .grad attribute of a Tensor that is not a leaf Tensor is being accessed. Its .grad attribute won't be populated during autograd.backward(). If you indeed want the gradient for a non-leaf Tensor, use .retain_grad() on the non-leaf Tensor. If you access the non-leaf Tensor by mistake, make sure you access the leaf Tensor instead. See github.com/pytorch/pytorch/pull/30531 for more information.\n",
            "  if p.grad is not None:\n",
            "/usr/local/lib/python3.7/dist-packages/torch/nn/modules/module.py:1702: UserWarning: The .grad attribute of a Tensor that is not a leaf Tensor is being accessed. Its .grad attribute won't be populated during autograd.backward(). If you indeed want the gradient for a non-leaf Tensor, use .retain_grad() on the non-leaf Tensor. If you access the non-leaf Tensor by mistake, make sure you access the leaf Tensor instead. See github.com/pytorch/pytorch/pull/30531 for more information.\n",
            "  if p.grad is not None:\n",
            "/usr/local/lib/python3.7/dist-packages/torch/nn/modules/module.py:1702: UserWarning: The .grad attribute of a Tensor that is not a leaf Tensor is being accessed. Its .grad attribute won't be populated during autograd.backward(). If you indeed want the gradient for a non-leaf Tensor, use .retain_grad() on the non-leaf Tensor. If you access the non-leaf Tensor by mistake, make sure you access the leaf Tensor instead. See github.com/pytorch/pytorch/pull/30531 for more information.\n",
            "  if p.grad is not None:\n",
            "/usr/local/lib/python3.7/dist-packages/torch/nn/modules/module.py:1702: UserWarning: The .grad attribute of a Tensor that is not a leaf Tensor is being accessed. Its .grad attribute won't be populated during autograd.backward(). If you indeed want the gradient for a non-leaf Tensor, use .retain_grad() on the non-leaf Tensor. If you access the non-leaf Tensor by mistake, make sure you access the leaf Tensor instead. See github.com/pytorch/pytorch/pull/30531 for more information.\n",
            "  if p.grad is not None:\n",
            "/usr/local/lib/python3.7/dist-packages/torch/nn/modules/module.py:1702: UserWarning: The .grad attribute of a Tensor that is not a leaf Tensor is being accessed. Its .grad attribute won't be populated during autograd.backward(). If you indeed want the gradient for a non-leaf Tensor, use .retain_grad() on the non-leaf Tensor. If you access the non-leaf Tensor by mistake, make sure you access the leaf Tensor instead. See github.com/pytorch/pytorch/pull/30531 for more information.\n",
            "  if p.grad is not None:\n",
            "/usr/local/lib/python3.7/dist-packages/torch/nn/modules/module.py:1702: UserWarning: The .grad attribute of a Tensor that is not a leaf Tensor is being accessed. Its .grad attribute won't be populated during autograd.backward(). If you indeed want the gradient for a non-leaf Tensor, use .retain_grad() on the non-leaf Tensor. If you access the non-leaf Tensor by mistake, make sure you access the leaf Tensor instead. See github.com/pytorch/pytorch/pull/30531 for more information.\n",
            "  if p.grad is not None:\n",
            "/usr/local/lib/python3.7/dist-packages/torch/nn/modules/module.py:1702: UserWarning: The .grad attribute of a Tensor that is not a leaf Tensor is being accessed. Its .grad attribute won't be populated during autograd.backward(). If you indeed want the gradient for a non-leaf Tensor, use .retain_grad() on the non-leaf Tensor. If you access the non-leaf Tensor by mistake, make sure you access the leaf Tensor instead. See github.com/pytorch/pytorch/pull/30531 for more information.\n",
            "  if p.grad is not None:\n",
            "/usr/local/lib/python3.7/dist-packages/torch/nn/modules/module.py:1702: UserWarning: The .grad attribute of a Tensor that is not a leaf Tensor is being accessed. Its .grad attribute won't be populated during autograd.backward(). If you indeed want the gradient for a non-leaf Tensor, use .retain_grad() on the non-leaf Tensor. If you access the non-leaf Tensor by mistake, make sure you access the leaf Tensor instead. See github.com/pytorch/pytorch/pull/30531 for more information.\n",
            "  if p.grad is not None:\n",
            "/usr/local/lib/python3.7/dist-packages/torch/nn/modules/module.py:1702: UserWarning: The .grad attribute of a Tensor that is not a leaf Tensor is being accessed. Its .grad attribute won't be populated during autograd.backward(). If you indeed want the gradient for a non-leaf Tensor, use .retain_grad() on the non-leaf Tensor. If you access the non-leaf Tensor by mistake, make sure you access the leaf Tensor instead. See github.com/pytorch/pytorch/pull/30531 for more information.\n",
            "  if p.grad is not None:\n",
            "/usr/local/lib/python3.7/dist-packages/torch/nn/modules/module.py:1702: UserWarning: The .grad attribute of a Tensor that is not a leaf Tensor is being accessed. Its .grad attribute won't be populated during autograd.backward(). If you indeed want the gradient for a non-leaf Tensor, use .retain_grad() on the non-leaf Tensor. If you access the non-leaf Tensor by mistake, make sure you access the leaf Tensor instead. See github.com/pytorch/pytorch/pull/30531 for more information.\n",
            "  if p.grad is not None:\n",
            "/usr/local/lib/python3.7/dist-packages/torch/nn/modules/module.py:1702: UserWarning: The .grad attribute of a Tensor that is not a leaf Tensor is being accessed. Its .grad attribute won't be populated during autograd.backward(). If you indeed want the gradient for a non-leaf Tensor, use .retain_grad() on the non-leaf Tensor. If you access the non-leaf Tensor by mistake, make sure you access the leaf Tensor instead. See github.com/pytorch/pytorch/pull/30531 for more information.\n",
            "  if p.grad is not None:\n",
            "/usr/local/lib/python3.7/dist-packages/torch/nn/modules/module.py:1702: UserWarning: The .grad attribute of a Tensor that is not a leaf Tensor is being accessed. Its .grad attribute won't be populated during autograd.backward(). If you indeed want the gradient for a non-leaf Tensor, use .retain_grad() on the non-leaf Tensor. If you access the non-leaf Tensor by mistake, make sure you access the leaf Tensor instead. See github.com/pytorch/pytorch/pull/30531 for more information.\n",
            "  if p.grad is not None:\n",
            "/usr/local/lib/python3.7/dist-packages/torch/nn/modules/module.py:1702: UserWarning: The .grad attribute of a Tensor that is not a leaf Tensor is being accessed. Its .grad attribute won't be populated during autograd.backward(). If you indeed want the gradient for a non-leaf Tensor, use .retain_grad() on the non-leaf Tensor. If you access the non-leaf Tensor by mistake, make sure you access the leaf Tensor instead. See github.com/pytorch/pytorch/pull/30531 for more information.\n",
            "  if p.grad is not None:\n",
            "/usr/local/lib/python3.7/dist-packages/torch/nn/modules/module.py:1702: UserWarning: The .grad attribute of a Tensor that is not a leaf Tensor is being accessed. Its .grad attribute won't be populated during autograd.backward(). If you indeed want the gradient for a non-leaf Tensor, use .retain_grad() on the non-leaf Tensor. If you access the non-leaf Tensor by mistake, make sure you access the leaf Tensor instead. See github.com/pytorch/pytorch/pull/30531 for more information.\n",
            "  if p.grad is not None:\n",
            "/usr/local/lib/python3.7/dist-packages/torch/nn/modules/module.py:1702: UserWarning: The .grad attribute of a Tensor that is not a leaf Tensor is being accessed. Its .grad attribute won't be populated during autograd.backward(). If you indeed want the gradient for a non-leaf Tensor, use .retain_grad() on the non-leaf Tensor. If you access the non-leaf Tensor by mistake, make sure you access the leaf Tensor instead. See github.com/pytorch/pytorch/pull/30531 for more information.\n",
            "  if p.grad is not None:\n",
            "/usr/local/lib/python3.7/dist-packages/torch/nn/modules/module.py:1702: UserWarning: The .grad attribute of a Tensor that is not a leaf Tensor is being accessed. Its .grad attribute won't be populated during autograd.backward(). If you indeed want the gradient for a non-leaf Tensor, use .retain_grad() on the non-leaf Tensor. If you access the non-leaf Tensor by mistake, make sure you access the leaf Tensor instead. See github.com/pytorch/pytorch/pull/30531 for more information.\n",
            "  if p.grad is not None:\n",
            "/usr/local/lib/python3.7/dist-packages/torch/nn/modules/module.py:1702: UserWarning: The .grad attribute of a Tensor that is not a leaf Tensor is being accessed. Its .grad attribute won't be populated during autograd.backward(). If you indeed want the gradient for a non-leaf Tensor, use .retain_grad() on the non-leaf Tensor. If you access the non-leaf Tensor by mistake, make sure you access the leaf Tensor instead. See github.com/pytorch/pytorch/pull/30531 for more information.\n",
            "  if p.grad is not None:\n",
            "/usr/local/lib/python3.7/dist-packages/torch/nn/modules/module.py:1702: UserWarning: The .grad attribute of a Tensor that is not a leaf Tensor is being accessed. Its .grad attribute won't be populated during autograd.backward(). If you indeed want the gradient for a non-leaf Tensor, use .retain_grad() on the non-leaf Tensor. If you access the non-leaf Tensor by mistake, make sure you access the leaf Tensor instead. See github.com/pytorch/pytorch/pull/30531 for more information.\n",
            "  if p.grad is not None:\n",
            "/usr/local/lib/python3.7/dist-packages/torch/nn/modules/module.py:1702: UserWarning: The .grad attribute of a Tensor that is not a leaf Tensor is being accessed. Its .grad attribute won't be populated during autograd.backward(). If you indeed want the gradient for a non-leaf Tensor, use .retain_grad() on the non-leaf Tensor. If you access the non-leaf Tensor by mistake, make sure you access the leaf Tensor instead. See github.com/pytorch/pytorch/pull/30531 for more information.\n",
            "  if p.grad is not None:\n",
            "/usr/local/lib/python3.7/dist-packages/torch/nn/modules/module.py:1702: UserWarning: The .grad attribute of a Tensor that is not a leaf Tensor is being accessed. Its .grad attribute won't be populated during autograd.backward(). If you indeed want the gradient for a non-leaf Tensor, use .retain_grad() on the non-leaf Tensor. If you access the non-leaf Tensor by mistake, make sure you access the leaf Tensor instead. See github.com/pytorch/pytorch/pull/30531 for more information.\n",
            "  if p.grad is not None:\n",
            "/usr/local/lib/python3.7/dist-packages/torch/nn/modules/module.py:1702: UserWarning: The .grad attribute of a Tensor that is not a leaf Tensor is being accessed. Its .grad attribute won't be populated during autograd.backward(). If you indeed want the gradient for a non-leaf Tensor, use .retain_grad() on the non-leaf Tensor. If you access the non-leaf Tensor by mistake, make sure you access the leaf Tensor instead. See github.com/pytorch/pytorch/pull/30531 for more information.\n",
            "  if p.grad is not None:\n",
            "/usr/local/lib/python3.7/dist-packages/torch/nn/modules/module.py:1702: UserWarning: The .grad attribute of a Tensor that is not a leaf Tensor is being accessed. Its .grad attribute won't be populated during autograd.backward(). If you indeed want the gradient for a non-leaf Tensor, use .retain_grad() on the non-leaf Tensor. If you access the non-leaf Tensor by mistake, make sure you access the leaf Tensor instead. See github.com/pytorch/pytorch/pull/30531 for more information.\n",
            "  if p.grad is not None:\n",
            "/usr/local/lib/python3.7/dist-packages/torch/nn/modules/module.py:1702: UserWarning: The .grad attribute of a Tensor that is not a leaf Tensor is being accessed. Its .grad attribute won't be populated during autograd.backward(). If you indeed want the gradient for a non-leaf Tensor, use .retain_grad() on the non-leaf Tensor. If you access the non-leaf Tensor by mistake, make sure you access the leaf Tensor instead. See github.com/pytorch/pytorch/pull/30531 for more information.\n",
            "  if p.grad is not None:\n",
            "/usr/local/lib/python3.7/dist-packages/torch/nn/modules/module.py:1702: UserWarning: The .grad attribute of a Tensor that is not a leaf Tensor is being accessed. Its .grad attribute won't be populated during autograd.backward(). If you indeed want the gradient for a non-leaf Tensor, use .retain_grad() on the non-leaf Tensor. If you access the non-leaf Tensor by mistake, make sure you access the leaf Tensor instead. See github.com/pytorch/pytorch/pull/30531 for more information.\n",
            "  if p.grad is not None:\n",
            "/usr/local/lib/python3.7/dist-packages/torch/nn/modules/module.py:1702: UserWarning: The .grad attribute of a Tensor that is not a leaf Tensor is being accessed. Its .grad attribute won't be populated during autograd.backward(). If you indeed want the gradient for a non-leaf Tensor, use .retain_grad() on the non-leaf Tensor. If you access the non-leaf Tensor by mistake, make sure you access the leaf Tensor instead. See github.com/pytorch/pytorch/pull/30531 for more information.\n",
            "  if p.grad is not None:\n",
            "/usr/local/lib/python3.7/dist-packages/torch/nn/modules/module.py:1702: UserWarning: The .grad attribute of a Tensor that is not a leaf Tensor is being accessed. Its .grad attribute won't be populated during autograd.backward(). If you indeed want the gradient for a non-leaf Tensor, use .retain_grad() on the non-leaf Tensor. If you access the non-leaf Tensor by mistake, make sure you access the leaf Tensor instead. See github.com/pytorch/pytorch/pull/30531 for more information.\n",
            "  if p.grad is not None:\n",
            "/usr/local/lib/python3.7/dist-packages/torch/nn/modules/module.py:1702: UserWarning: The .grad attribute of a Tensor that is not a leaf Tensor is being accessed. Its .grad attribute won't be populated during autograd.backward(). If you indeed want the gradient for a non-leaf Tensor, use .retain_grad() on the non-leaf Tensor. If you access the non-leaf Tensor by mistake, make sure you access the leaf Tensor instead. See github.com/pytorch/pytorch/pull/30531 for more information.\n",
            "  if p.grad is not None:\n",
            "/usr/local/lib/python3.7/dist-packages/torch/nn/modules/module.py:1702: UserWarning: The .grad attribute of a Tensor that is not a leaf Tensor is being accessed. Its .grad attribute won't be populated during autograd.backward(). If you indeed want the gradient for a non-leaf Tensor, use .retain_grad() on the non-leaf Tensor. If you access the non-leaf Tensor by mistake, make sure you access the leaf Tensor instead. See github.com/pytorch/pytorch/pull/30531 for more information.\n",
            "  if p.grad is not None:\n",
            "/usr/local/lib/python3.7/dist-packages/torch/nn/modules/module.py:1702: UserWarning: The .grad attribute of a Tensor that is not a leaf Tensor is being accessed. Its .grad attribute won't be populated during autograd.backward(). If you indeed want the gradient for a non-leaf Tensor, use .retain_grad() on the non-leaf Tensor. If you access the non-leaf Tensor by mistake, make sure you access the leaf Tensor instead. See github.com/pytorch/pytorch/pull/30531 for more information.\n",
            "  if p.grad is not None:\n",
            "/usr/local/lib/python3.7/dist-packages/torch/nn/modules/module.py:1702: UserWarning: The .grad attribute of a Tensor that is not a leaf Tensor is being accessed. Its .grad attribute won't be populated during autograd.backward(). If you indeed want the gradient for a non-leaf Tensor, use .retain_grad() on the non-leaf Tensor. If you access the non-leaf Tensor by mistake, make sure you access the leaf Tensor instead. See github.com/pytorch/pytorch/pull/30531 for more information.\n",
            "  if p.grad is not None:\n",
            "/usr/local/lib/python3.7/dist-packages/torch/nn/modules/module.py:1702: UserWarning: The .grad attribute of a Tensor that is not a leaf Tensor is being accessed. Its .grad attribute won't be populated during autograd.backward(). If you indeed want the gradient for a non-leaf Tensor, use .retain_grad() on the non-leaf Tensor. If you access the non-leaf Tensor by mistake, make sure you access the leaf Tensor instead. See github.com/pytorch/pytorch/pull/30531 for more information.\n",
            "  if p.grad is not None:\n",
            "/usr/local/lib/python3.7/dist-packages/torch/nn/modules/module.py:1702: UserWarning: The .grad attribute of a Tensor that is not a leaf Tensor is being accessed. Its .grad attribute won't be populated during autograd.backward(). If you indeed want the gradient for a non-leaf Tensor, use .retain_grad() on the non-leaf Tensor. If you access the non-leaf Tensor by mistake, make sure you access the leaf Tensor instead. See github.com/pytorch/pytorch/pull/30531 for more information.\n",
            "  if p.grad is not None:\n",
            "/usr/local/lib/python3.7/dist-packages/torch/nn/modules/module.py:1702: UserWarning: The .grad attribute of a Tensor that is not a leaf Tensor is being accessed. Its .grad attribute won't be populated during autograd.backward(). If you indeed want the gradient for a non-leaf Tensor, use .retain_grad() on the non-leaf Tensor. If you access the non-leaf Tensor by mistake, make sure you access the leaf Tensor instead. See github.com/pytorch/pytorch/pull/30531 for more information.\n",
            "  if p.grad is not None:\n",
            "/usr/local/lib/python3.7/dist-packages/torch/nn/modules/module.py:1702: UserWarning: The .grad attribute of a Tensor that is not a leaf Tensor is being accessed. Its .grad attribute won't be populated during autograd.backward(). If you indeed want the gradient for a non-leaf Tensor, use .retain_grad() on the non-leaf Tensor. If you access the non-leaf Tensor by mistake, make sure you access the leaf Tensor instead. See github.com/pytorch/pytorch/pull/30531 for more information.\n",
            "  if p.grad is not None:\n",
            "/usr/local/lib/python3.7/dist-packages/torch/nn/modules/module.py:1702: UserWarning: The .grad attribute of a Tensor that is not a leaf Tensor is being accessed. Its .grad attribute won't be populated during autograd.backward(). If you indeed want the gradient for a non-leaf Tensor, use .retain_grad() on the non-leaf Tensor. If you access the non-leaf Tensor by mistake, make sure you access the leaf Tensor instead. See github.com/pytorch/pytorch/pull/30531 for more information.\n",
            "  if p.grad is not None:\n",
            "/usr/local/lib/python3.7/dist-packages/torch/nn/modules/module.py:1702: UserWarning: The .grad attribute of a Tensor that is not a leaf Tensor is being accessed. Its .grad attribute won't be populated during autograd.backward(). If you indeed want the gradient for a non-leaf Tensor, use .retain_grad() on the non-leaf Tensor. If you access the non-leaf Tensor by mistake, make sure you access the leaf Tensor instead. See github.com/pytorch/pytorch/pull/30531 for more information.\n",
            "  if p.grad is not None:\n",
            "/usr/local/lib/python3.7/dist-packages/torch/nn/modules/module.py:1702: UserWarning: The .grad attribute of a Tensor that is not a leaf Tensor is being accessed. Its .grad attribute won't be populated during autograd.backward(). If you indeed want the gradient for a non-leaf Tensor, use .retain_grad() on the non-leaf Tensor. If you access the non-leaf Tensor by mistake, make sure you access the leaf Tensor instead. See github.com/pytorch/pytorch/pull/30531 for more information.\n",
            "  if p.grad is not None:\n",
            "/usr/local/lib/python3.7/dist-packages/torch/nn/modules/module.py:1702: UserWarning: The .grad attribute of a Tensor that is not a leaf Tensor is being accessed. Its .grad attribute won't be populated during autograd.backward(). If you indeed want the gradient for a non-leaf Tensor, use .retain_grad() on the non-leaf Tensor. If you access the non-leaf Tensor by mistake, make sure you access the leaf Tensor instead. See github.com/pytorch/pytorch/pull/30531 for more information.\n",
            "  if p.grad is not None:\n",
            "/usr/local/lib/python3.7/dist-packages/torch/nn/modules/module.py:1702: UserWarning: The .grad attribute of a Tensor that is not a leaf Tensor is being accessed. Its .grad attribute won't be populated during autograd.backward(). If you indeed want the gradient for a non-leaf Tensor, use .retain_grad() on the non-leaf Tensor. If you access the non-leaf Tensor by mistake, make sure you access the leaf Tensor instead. See github.com/pytorch/pytorch/pull/30531 for more information.\n",
            "  if p.grad is not None:\n",
            "/usr/local/lib/python3.7/dist-packages/torch/nn/modules/module.py:1702: UserWarning: The .grad attribute of a Tensor that is not a leaf Tensor is being accessed. Its .grad attribute won't be populated during autograd.backward(). If you indeed want the gradient for a non-leaf Tensor, use .retain_grad() on the non-leaf Tensor. If you access the non-leaf Tensor by mistake, make sure you access the leaf Tensor instead. See github.com/pytorch/pytorch/pull/30531 for more information.\n",
            "  if p.grad is not None:\n",
            "/usr/local/lib/python3.7/dist-packages/torch/nn/modules/module.py:1702: UserWarning: The .grad attribute of a Tensor that is not a leaf Tensor is being accessed. Its .grad attribute won't be populated during autograd.backward(). If you indeed want the gradient for a non-leaf Tensor, use .retain_grad() on the non-leaf Tensor. If you access the non-leaf Tensor by mistake, make sure you access the leaf Tensor instead. See github.com/pytorch/pytorch/pull/30531 for more information.\n",
            "  if p.grad is not None:\n",
            "/usr/local/lib/python3.7/dist-packages/torch/nn/modules/module.py:1702: UserWarning: The .grad attribute of a Tensor that is not a leaf Tensor is being accessed. Its .grad attribute won't be populated during autograd.backward(). If you indeed want the gradient for a non-leaf Tensor, use .retain_grad() on the non-leaf Tensor. If you access the non-leaf Tensor by mistake, make sure you access the leaf Tensor instead. See github.com/pytorch/pytorch/pull/30531 for more information.\n",
            "  if p.grad is not None:\n",
            "/usr/local/lib/python3.7/dist-packages/torch/nn/modules/module.py:1702: UserWarning: The .grad attribute of a Tensor that is not a leaf Tensor is being accessed. Its .grad attribute won't be populated during autograd.backward(). If you indeed want the gradient for a non-leaf Tensor, use .retain_grad() on the non-leaf Tensor. If you access the non-leaf Tensor by mistake, make sure you access the leaf Tensor instead. See github.com/pytorch/pytorch/pull/30531 for more information.\n",
            "  if p.grad is not None:\n",
            "/usr/local/lib/python3.7/dist-packages/torch/nn/modules/module.py:1702: UserWarning: The .grad attribute of a Tensor that is not a leaf Tensor is being accessed. Its .grad attribute won't be populated during autograd.backward(). If you indeed want the gradient for a non-leaf Tensor, use .retain_grad() on the non-leaf Tensor. If you access the non-leaf Tensor by mistake, make sure you access the leaf Tensor instead. See github.com/pytorch/pytorch/pull/30531 for more information.\n",
            "  if p.grad is not None:\n",
            "/usr/local/lib/python3.7/dist-packages/torch/nn/modules/module.py:1702: UserWarning: The .grad attribute of a Tensor that is not a leaf Tensor is being accessed. Its .grad attribute won't be populated during autograd.backward(). If you indeed want the gradient for a non-leaf Tensor, use .retain_grad() on the non-leaf Tensor. If you access the non-leaf Tensor by mistake, make sure you access the leaf Tensor instead. See github.com/pytorch/pytorch/pull/30531 for more information.\n",
            "  if p.grad is not None:\n",
            "/usr/local/lib/python3.7/dist-packages/torch/nn/modules/module.py:1702: UserWarning: The .grad attribute of a Tensor that is not a leaf Tensor is being accessed. Its .grad attribute won't be populated during autograd.backward(). If you indeed want the gradient for a non-leaf Tensor, use .retain_grad() on the non-leaf Tensor. If you access the non-leaf Tensor by mistake, make sure you access the leaf Tensor instead. See github.com/pytorch/pytorch/pull/30531 for more information.\n",
            "  if p.grad is not None:\n",
            "/usr/local/lib/python3.7/dist-packages/torch/nn/modules/module.py:1702: UserWarning: The .grad attribute of a Tensor that is not a leaf Tensor is being accessed. Its .grad attribute won't be populated during autograd.backward(). If you indeed want the gradient for a non-leaf Tensor, use .retain_grad() on the non-leaf Tensor. If you access the non-leaf Tensor by mistake, make sure you access the leaf Tensor instead. See github.com/pytorch/pytorch/pull/30531 for more information.\n",
            "  if p.grad is not None:\n",
            "/usr/local/lib/python3.7/dist-packages/torch/nn/modules/module.py:1702: UserWarning: The .grad attribute of a Tensor that is not a leaf Tensor is being accessed. Its .grad attribute won't be populated during autograd.backward(). If you indeed want the gradient for a non-leaf Tensor, use .retain_grad() on the non-leaf Tensor. If you access the non-leaf Tensor by mistake, make sure you access the leaf Tensor instead. See github.com/pytorch/pytorch/pull/30531 for more information.\n",
            "  if p.grad is not None:\n",
            "/usr/local/lib/python3.7/dist-packages/torch/nn/modules/module.py:1702: UserWarning: The .grad attribute of a Tensor that is not a leaf Tensor is being accessed. Its .grad attribute won't be populated during autograd.backward(). If you indeed want the gradient for a non-leaf Tensor, use .retain_grad() on the non-leaf Tensor. If you access the non-leaf Tensor by mistake, make sure you access the leaf Tensor instead. See github.com/pytorch/pytorch/pull/30531 for more information.\n",
            "  if p.grad is not None:\n",
            "/usr/local/lib/python3.7/dist-packages/torch/nn/modules/module.py:1702: UserWarning: The .grad attribute of a Tensor that is not a leaf Tensor is being accessed. Its .grad attribute won't be populated during autograd.backward(). If you indeed want the gradient for a non-leaf Tensor, use .retain_grad() on the non-leaf Tensor. If you access the non-leaf Tensor by mistake, make sure you access the leaf Tensor instead. See github.com/pytorch/pytorch/pull/30531 for more information.\n",
            "  if p.grad is not None:\n",
            "/usr/local/lib/python3.7/dist-packages/torch/nn/modules/module.py:1702: UserWarning: The .grad attribute of a Tensor that is not a leaf Tensor is being accessed. Its .grad attribute won't be populated during autograd.backward(). If you indeed want the gradient for a non-leaf Tensor, use .retain_grad() on the non-leaf Tensor. If you access the non-leaf Tensor by mistake, make sure you access the leaf Tensor instead. See github.com/pytorch/pytorch/pull/30531 for more information.\n",
            "  if p.grad is not None:\n",
            "/usr/local/lib/python3.7/dist-packages/torch/nn/modules/module.py:1702: UserWarning: The .grad attribute of a Tensor that is not a leaf Tensor is being accessed. Its .grad attribute won't be populated during autograd.backward(). If you indeed want the gradient for a non-leaf Tensor, use .retain_grad() on the non-leaf Tensor. If you access the non-leaf Tensor by mistake, make sure you access the leaf Tensor instead. See github.com/pytorch/pytorch/pull/30531 for more information.\n",
            "  if p.grad is not None:\n",
            "/usr/local/lib/python3.7/dist-packages/torch/nn/modules/module.py:1702: UserWarning: The .grad attribute of a Tensor that is not a leaf Tensor is being accessed. Its .grad attribute won't be populated during autograd.backward(). If you indeed want the gradient for a non-leaf Tensor, use .retain_grad() on the non-leaf Tensor. If you access the non-leaf Tensor by mistake, make sure you access the leaf Tensor instead. See github.com/pytorch/pytorch/pull/30531 for more information.\n",
            "  if p.grad is not None:\n",
            "/usr/local/lib/python3.7/dist-packages/torch/nn/modules/module.py:1702: UserWarning: The .grad attribute of a Tensor that is not a leaf Tensor is being accessed. Its .grad attribute won't be populated during autograd.backward(). If you indeed want the gradient for a non-leaf Tensor, use .retain_grad() on the non-leaf Tensor. If you access the non-leaf Tensor by mistake, make sure you access the leaf Tensor instead. See github.com/pytorch/pytorch/pull/30531 for more information.\n",
            "  if p.grad is not None:\n",
            "/usr/local/lib/python3.7/dist-packages/torch/nn/modules/module.py:1702: UserWarning: The .grad attribute of a Tensor that is not a leaf Tensor is being accessed. Its .grad attribute won't be populated during autograd.backward(). If you indeed want the gradient for a non-leaf Tensor, use .retain_grad() on the non-leaf Tensor. If you access the non-leaf Tensor by mistake, make sure you access the leaf Tensor instead. See github.com/pytorch/pytorch/pull/30531 for more information.\n",
            "  if p.grad is not None:\n",
            "/usr/local/lib/python3.7/dist-packages/torch/nn/modules/module.py:1702: UserWarning: The .grad attribute of a Tensor that is not a leaf Tensor is being accessed. Its .grad attribute won't be populated during autograd.backward(). If you indeed want the gradient for a non-leaf Tensor, use .retain_grad() on the non-leaf Tensor. If you access the non-leaf Tensor by mistake, make sure you access the leaf Tensor instead. See github.com/pytorch/pytorch/pull/30531 for more information.\n",
            "  if p.grad is not None:\n",
            "/usr/local/lib/python3.7/dist-packages/torch/nn/modules/module.py:1702: UserWarning: The .grad attribute of a Tensor that is not a leaf Tensor is being accessed. Its .grad attribute won't be populated during autograd.backward(). If you indeed want the gradient for a non-leaf Tensor, use .retain_grad() on the non-leaf Tensor. If you access the non-leaf Tensor by mistake, make sure you access the leaf Tensor instead. See github.com/pytorch/pytorch/pull/30531 for more information.\n",
            "  if p.grad is not None:\n",
            "/usr/local/lib/python3.7/dist-packages/torch/nn/modules/module.py:1702: UserWarning: The .grad attribute of a Tensor that is not a leaf Tensor is being accessed. Its .grad attribute won't be populated during autograd.backward(). If you indeed want the gradient for a non-leaf Tensor, use .retain_grad() on the non-leaf Tensor. If you access the non-leaf Tensor by mistake, make sure you access the leaf Tensor instead. See github.com/pytorch/pytorch/pull/30531 for more information.\n",
            "  if p.grad is not None:\n",
            "/usr/local/lib/python3.7/dist-packages/torch/nn/modules/module.py:1702: UserWarning: The .grad attribute of a Tensor that is not a leaf Tensor is being accessed. Its .grad attribute won't be populated during autograd.backward(). If you indeed want the gradient for a non-leaf Tensor, use .retain_grad() on the non-leaf Tensor. If you access the non-leaf Tensor by mistake, make sure you access the leaf Tensor instead. See github.com/pytorch/pytorch/pull/30531 for more information.\n",
            "  if p.grad is not None:\n",
            "/usr/local/lib/python3.7/dist-packages/torch/nn/modules/module.py:1702: UserWarning: The .grad attribute of a Tensor that is not a leaf Tensor is being accessed. Its .grad attribute won't be populated during autograd.backward(). If you indeed want the gradient for a non-leaf Tensor, use .retain_grad() on the non-leaf Tensor. If you access the non-leaf Tensor by mistake, make sure you access the leaf Tensor instead. See github.com/pytorch/pytorch/pull/30531 for more information.\n",
            "  if p.grad is not None:\n",
            "/usr/local/lib/python3.7/dist-packages/torch/nn/modules/module.py:1702: UserWarning: The .grad attribute of a Tensor that is not a leaf Tensor is being accessed. Its .grad attribute won't be populated during autograd.backward(). If you indeed want the gradient for a non-leaf Tensor, use .retain_grad() on the non-leaf Tensor. If you access the non-leaf Tensor by mistake, make sure you access the leaf Tensor instead. See github.com/pytorch/pytorch/pull/30531 for more information.\n",
            "  if p.grad is not None:\n",
            "/usr/local/lib/python3.7/dist-packages/torch/nn/modules/module.py:1702: UserWarning: The .grad attribute of a Tensor that is not a leaf Tensor is being accessed. Its .grad attribute won't be populated during autograd.backward(). If you indeed want the gradient for a non-leaf Tensor, use .retain_grad() on the non-leaf Tensor. If you access the non-leaf Tensor by mistake, make sure you access the leaf Tensor instead. See github.com/pytorch/pytorch/pull/30531 for more information.\n",
            "  if p.grad is not None:\n",
            "/usr/local/lib/python3.7/dist-packages/torch/nn/modules/module.py:1702: UserWarning: The .grad attribute of a Tensor that is not a leaf Tensor is being accessed. Its .grad attribute won't be populated during autograd.backward(). If you indeed want the gradient for a non-leaf Tensor, use .retain_grad() on the non-leaf Tensor. If you access the non-leaf Tensor by mistake, make sure you access the leaf Tensor instead. See github.com/pytorch/pytorch/pull/30531 for more information.\n",
            "  if p.grad is not None:\n",
            "/usr/local/lib/python3.7/dist-packages/torch/nn/modules/module.py:1702: UserWarning: The .grad attribute of a Tensor that is not a leaf Tensor is being accessed. Its .grad attribute won't be populated during autograd.backward(). If you indeed want the gradient for a non-leaf Tensor, use .retain_grad() on the non-leaf Tensor. If you access the non-leaf Tensor by mistake, make sure you access the leaf Tensor instead. See github.com/pytorch/pytorch/pull/30531 for more information.\n",
            "  if p.grad is not None:\n",
            "/usr/local/lib/python3.7/dist-packages/torch/nn/modules/module.py:1702: UserWarning: The .grad attribute of a Tensor that is not a leaf Tensor is being accessed. Its .grad attribute won't be populated during autograd.backward(). If you indeed want the gradient for a non-leaf Tensor, use .retain_grad() on the non-leaf Tensor. If you access the non-leaf Tensor by mistake, make sure you access the leaf Tensor instead. See github.com/pytorch/pytorch/pull/30531 for more information.\n",
            "  if p.grad is not None:\n",
            "/usr/local/lib/python3.7/dist-packages/torch/nn/modules/module.py:1702: UserWarning: The .grad attribute of a Tensor that is not a leaf Tensor is being accessed. Its .grad attribute won't be populated during autograd.backward(). If you indeed want the gradient for a non-leaf Tensor, use .retain_grad() on the non-leaf Tensor. If you access the non-leaf Tensor by mistake, make sure you access the leaf Tensor instead. See github.com/pytorch/pytorch/pull/30531 for more information.\n",
            "  if p.grad is not None:\n",
            "/usr/local/lib/python3.7/dist-packages/torch/nn/modules/module.py:1702: UserWarning: The .grad attribute of a Tensor that is not a leaf Tensor is being accessed. Its .grad attribute won't be populated during autograd.backward(). If you indeed want the gradient for a non-leaf Tensor, use .retain_grad() on the non-leaf Tensor. If you access the non-leaf Tensor by mistake, make sure you access the leaf Tensor instead. See github.com/pytorch/pytorch/pull/30531 for more information.\n",
            "  if p.grad is not None:\n",
            "/usr/local/lib/python3.7/dist-packages/torch/nn/modules/module.py:1702: UserWarning: The .grad attribute of a Tensor that is not a leaf Tensor is being accessed. Its .grad attribute won't be populated during autograd.backward(). If you indeed want the gradient for a non-leaf Tensor, use .retain_grad() on the non-leaf Tensor. If you access the non-leaf Tensor by mistake, make sure you access the leaf Tensor instead. See github.com/pytorch/pytorch/pull/30531 for more information.\n",
            "  if p.grad is not None:\n",
            "/usr/local/lib/python3.7/dist-packages/torch/nn/modules/module.py:1702: UserWarning: The .grad attribute of a Tensor that is not a leaf Tensor is being accessed. Its .grad attribute won't be populated during autograd.backward(). If you indeed want the gradient for a non-leaf Tensor, use .retain_grad() on the non-leaf Tensor. If you access the non-leaf Tensor by mistake, make sure you access the leaf Tensor instead. See github.com/pytorch/pytorch/pull/30531 for more information.\n",
            "  if p.grad is not None:\n",
            "/usr/local/lib/python3.7/dist-packages/torch/nn/modules/module.py:1702: UserWarning: The .grad attribute of a Tensor that is not a leaf Tensor is being accessed. Its .grad attribute won't be populated during autograd.backward(). If you indeed want the gradient for a non-leaf Tensor, use .retain_grad() on the non-leaf Tensor. If you access the non-leaf Tensor by mistake, make sure you access the leaf Tensor instead. See github.com/pytorch/pytorch/pull/30531 for more information.\n",
            "  if p.grad is not None:\n",
            "/usr/local/lib/python3.7/dist-packages/torch/nn/modules/module.py:1702: UserWarning: The .grad attribute of a Tensor that is not a leaf Tensor is being accessed. Its .grad attribute won't be populated during autograd.backward(). If you indeed want the gradient for a non-leaf Tensor, use .retain_grad() on the non-leaf Tensor. If you access the non-leaf Tensor by mistake, make sure you access the leaf Tensor instead. See github.com/pytorch/pytorch/pull/30531 for more information.\n",
            "  if p.grad is not None:\n",
            "/usr/local/lib/python3.7/dist-packages/torch/nn/modules/module.py:1702: UserWarning: The .grad attribute of a Tensor that is not a leaf Tensor is being accessed. Its .grad attribute won't be populated during autograd.backward(). If you indeed want the gradient for a non-leaf Tensor, use .retain_grad() on the non-leaf Tensor. If you access the non-leaf Tensor by mistake, make sure you access the leaf Tensor instead. See github.com/pytorch/pytorch/pull/30531 for more information.\n",
            "  if p.grad is not None:\n",
            "/usr/local/lib/python3.7/dist-packages/torch/nn/modules/module.py:1702: UserWarning: The .grad attribute of a Tensor that is not a leaf Tensor is being accessed. Its .grad attribute won't be populated during autograd.backward(). If you indeed want the gradient for a non-leaf Tensor, use .retain_grad() on the non-leaf Tensor. If you access the non-leaf Tensor by mistake, make sure you access the leaf Tensor instead. See github.com/pytorch/pytorch/pull/30531 for more information.\n",
            "  if p.grad is not None:\n",
            "/usr/local/lib/python3.7/dist-packages/torch/nn/modules/module.py:1702: UserWarning: The .grad attribute of a Tensor that is not a leaf Tensor is being accessed. Its .grad attribute won't be populated during autograd.backward(). If you indeed want the gradient for a non-leaf Tensor, use .retain_grad() on the non-leaf Tensor. If you access the non-leaf Tensor by mistake, make sure you access the leaf Tensor instead. See github.com/pytorch/pytorch/pull/30531 for more information.\n",
            "  if p.grad is not None:\n",
            "/usr/local/lib/python3.7/dist-packages/torch/nn/modules/module.py:1702: UserWarning: The .grad attribute of a Tensor that is not a leaf Tensor is being accessed. Its .grad attribute won't be populated during autograd.backward(). If you indeed want the gradient for a non-leaf Tensor, use .retain_grad() on the non-leaf Tensor. If you access the non-leaf Tensor by mistake, make sure you access the leaf Tensor instead. See github.com/pytorch/pytorch/pull/30531 for more information.\n",
            "  if p.grad is not None:\n",
            "/usr/local/lib/python3.7/dist-packages/torch/nn/modules/module.py:1702: UserWarning: The .grad attribute of a Tensor that is not a leaf Tensor is being accessed. Its .grad attribute won't be populated during autograd.backward(). If you indeed want the gradient for a non-leaf Tensor, use .retain_grad() on the non-leaf Tensor. If you access the non-leaf Tensor by mistake, make sure you access the leaf Tensor instead. See github.com/pytorch/pytorch/pull/30531 for more information.\n",
            "  if p.grad is not None:\n",
            "/usr/local/lib/python3.7/dist-packages/torch/nn/modules/module.py:1702: UserWarning: The .grad attribute of a Tensor that is not a leaf Tensor is being accessed. Its .grad attribute won't be populated during autograd.backward(). If you indeed want the gradient for a non-leaf Tensor, use .retain_grad() on the non-leaf Tensor. If you access the non-leaf Tensor by mistake, make sure you access the leaf Tensor instead. See github.com/pytorch/pytorch/pull/30531 for more information.\n",
            "  if p.grad is not None:\n",
            "/usr/local/lib/python3.7/dist-packages/torch/nn/modules/module.py:1702: UserWarning: The .grad attribute of a Tensor that is not a leaf Tensor is being accessed. Its .grad attribute won't be populated during autograd.backward(). If you indeed want the gradient for a non-leaf Tensor, use .retain_grad() on the non-leaf Tensor. If you access the non-leaf Tensor by mistake, make sure you access the leaf Tensor instead. See github.com/pytorch/pytorch/pull/30531 for more information.\n",
            "  if p.grad is not None:\n",
            "/usr/local/lib/python3.7/dist-packages/torch/nn/modules/module.py:1702: UserWarning: The .grad attribute of a Tensor that is not a leaf Tensor is being accessed. Its .grad attribute won't be populated during autograd.backward(). If you indeed want the gradient for a non-leaf Tensor, use .retain_grad() on the non-leaf Tensor. If you access the non-leaf Tensor by mistake, make sure you access the leaf Tensor instead. See github.com/pytorch/pytorch/pull/30531 for more information.\n",
            "  if p.grad is not None:\n",
            "/usr/local/lib/python3.7/dist-packages/torch/nn/modules/module.py:1702: UserWarning: The .grad attribute of a Tensor that is not a leaf Tensor is being accessed. Its .grad attribute won't be populated during autograd.backward(). If you indeed want the gradient for a non-leaf Tensor, use .retain_grad() on the non-leaf Tensor. If you access the non-leaf Tensor by mistake, make sure you access the leaf Tensor instead. See github.com/pytorch/pytorch/pull/30531 for more information.\n",
            "  if p.grad is not None:\n",
            "/usr/local/lib/python3.7/dist-packages/torch/nn/modules/module.py:1702: UserWarning: The .grad attribute of a Tensor that is not a leaf Tensor is being accessed. Its .grad attribute won't be populated during autograd.backward(). If you indeed want the gradient for a non-leaf Tensor, use .retain_grad() on the non-leaf Tensor. If you access the non-leaf Tensor by mistake, make sure you access the leaf Tensor instead. See github.com/pytorch/pytorch/pull/30531 for more information.\n",
            "  if p.grad is not None:\n",
            "/usr/local/lib/python3.7/dist-packages/torch/nn/modules/module.py:1702: UserWarning: The .grad attribute of a Tensor that is not a leaf Tensor is being accessed. Its .grad attribute won't be populated during autograd.backward(). If you indeed want the gradient for a non-leaf Tensor, use .retain_grad() on the non-leaf Tensor. If you access the non-leaf Tensor by mistake, make sure you access the leaf Tensor instead. See github.com/pytorch/pytorch/pull/30531 for more information.\n",
            "  if p.grad is not None:\n",
            "/usr/local/lib/python3.7/dist-packages/torch/nn/modules/module.py:1702: UserWarning: The .grad attribute of a Tensor that is not a leaf Tensor is being accessed. Its .grad attribute won't be populated during autograd.backward(). If you indeed want the gradient for a non-leaf Tensor, use .retain_grad() on the non-leaf Tensor. If you access the non-leaf Tensor by mistake, make sure you access the leaf Tensor instead. See github.com/pytorch/pytorch/pull/30531 for more information.\n",
            "  if p.grad is not None:\n",
            "/usr/local/lib/python3.7/dist-packages/torch/nn/modules/module.py:1702: UserWarning: The .grad attribute of a Tensor that is not a leaf Tensor is being accessed. Its .grad attribute won't be populated during autograd.backward(). If you indeed want the gradient for a non-leaf Tensor, use .retain_grad() on the non-leaf Tensor. If you access the non-leaf Tensor by mistake, make sure you access the leaf Tensor instead. See github.com/pytorch/pytorch/pull/30531 for more information.\n",
            "  if p.grad is not None:\n",
            "/usr/local/lib/python3.7/dist-packages/torch/nn/modules/module.py:1702: UserWarning: The .grad attribute of a Tensor that is not a leaf Tensor is being accessed. Its .grad attribute won't be populated during autograd.backward(). If you indeed want the gradient for a non-leaf Tensor, use .retain_grad() on the non-leaf Tensor. If you access the non-leaf Tensor by mistake, make sure you access the leaf Tensor instead. See github.com/pytorch/pytorch/pull/30531 for more information.\n",
            "  if p.grad is not None:\n",
            "/usr/local/lib/python3.7/dist-packages/torch/nn/modules/module.py:1702: UserWarning: The .grad attribute of a Tensor that is not a leaf Tensor is being accessed. Its .grad attribute won't be populated during autograd.backward(). If you indeed want the gradient for a non-leaf Tensor, use .retain_grad() on the non-leaf Tensor. If you access the non-leaf Tensor by mistake, make sure you access the leaf Tensor instead. See github.com/pytorch/pytorch/pull/30531 for more information.\n",
            "  if p.grad is not None:\n",
            "/usr/local/lib/python3.7/dist-packages/torch/nn/modules/module.py:1702: UserWarning: The .grad attribute of a Tensor that is not a leaf Tensor is being accessed. Its .grad attribute won't be populated during autograd.backward(). If you indeed want the gradient for a non-leaf Tensor, use .retain_grad() on the non-leaf Tensor. If you access the non-leaf Tensor by mistake, make sure you access the leaf Tensor instead. See github.com/pytorch/pytorch/pull/30531 for more information.\n",
            "  if p.grad is not None:\n",
            "/usr/local/lib/python3.7/dist-packages/torch/nn/modules/module.py:1702: UserWarning: The .grad attribute of a Tensor that is not a leaf Tensor is being accessed. Its .grad attribute won't be populated during autograd.backward(). If you indeed want the gradient for a non-leaf Tensor, use .retain_grad() on the non-leaf Tensor. If you access the non-leaf Tensor by mistake, make sure you access the leaf Tensor instead. See github.com/pytorch/pytorch/pull/30531 for more information.\n",
            "  if p.grad is not None:\n",
            "/usr/local/lib/python3.7/dist-packages/torch/nn/modules/module.py:1702: UserWarning: The .grad attribute of a Tensor that is not a leaf Tensor is being accessed. Its .grad attribute won't be populated during autograd.backward(). If you indeed want the gradient for a non-leaf Tensor, use .retain_grad() on the non-leaf Tensor. If you access the non-leaf Tensor by mistake, make sure you access the leaf Tensor instead. See github.com/pytorch/pytorch/pull/30531 for more information.\n",
            "  if p.grad is not None:\n",
            "/usr/local/lib/python3.7/dist-packages/torch/nn/modules/module.py:1702: UserWarning: The .grad attribute of a Tensor that is not a leaf Tensor is being accessed. Its .grad attribute won't be populated during autograd.backward(). If you indeed want the gradient for a non-leaf Tensor, use .retain_grad() on the non-leaf Tensor. If you access the non-leaf Tensor by mistake, make sure you access the leaf Tensor instead. See github.com/pytorch/pytorch/pull/30531 for more information.\n",
            "  if p.grad is not None:\n",
            "/usr/local/lib/python3.7/dist-packages/torch/nn/modules/module.py:1702: UserWarning: The .grad attribute of a Tensor that is not a leaf Tensor is being accessed. Its .grad attribute won't be populated during autograd.backward(). If you indeed want the gradient for a non-leaf Tensor, use .retain_grad() on the non-leaf Tensor. If you access the non-leaf Tensor by mistake, make sure you access the leaf Tensor instead. See github.com/pytorch/pytorch/pull/30531 for more information.\n",
            "  if p.grad is not None:\n",
            "/usr/local/lib/python3.7/dist-packages/torch/nn/modules/module.py:1702: UserWarning: The .grad attribute of a Tensor that is not a leaf Tensor is being accessed. Its .grad attribute won't be populated during autograd.backward(). If you indeed want the gradient for a non-leaf Tensor, use .retain_grad() on the non-leaf Tensor. If you access the non-leaf Tensor by mistake, make sure you access the leaf Tensor instead. See github.com/pytorch/pytorch/pull/30531 for more information.\n",
            "  if p.grad is not None:\n",
            "/usr/local/lib/python3.7/dist-packages/torch/nn/modules/module.py:1702: UserWarning: The .grad attribute of a Tensor that is not a leaf Tensor is being accessed. Its .grad attribute won't be populated during autograd.backward(). If you indeed want the gradient for a non-leaf Tensor, use .retain_grad() on the non-leaf Tensor. If you access the non-leaf Tensor by mistake, make sure you access the leaf Tensor instead. See github.com/pytorch/pytorch/pull/30531 for more information.\n",
            "  if p.grad is not None:\n",
            "/usr/local/lib/python3.7/dist-packages/torch/nn/modules/module.py:1702: UserWarning: The .grad attribute of a Tensor that is not a leaf Tensor is being accessed. Its .grad attribute won't be populated during autograd.backward(). If you indeed want the gradient for a non-leaf Tensor, use .retain_grad() on the non-leaf Tensor. If you access the non-leaf Tensor by mistake, make sure you access the leaf Tensor instead. See github.com/pytorch/pytorch/pull/30531 for more information.\n",
            "  if p.grad is not None:\n",
            "/usr/local/lib/python3.7/dist-packages/torch/nn/modules/module.py:1702: UserWarning: The .grad attribute of a Tensor that is not a leaf Tensor is being accessed. Its .grad attribute won't be populated during autograd.backward(). If you indeed want the gradient for a non-leaf Tensor, use .retain_grad() on the non-leaf Tensor. If you access the non-leaf Tensor by mistake, make sure you access the leaf Tensor instead. See github.com/pytorch/pytorch/pull/30531 for more information.\n",
            "  if p.grad is not None:\n",
            "/usr/local/lib/python3.7/dist-packages/torch/nn/modules/module.py:1702: UserWarning: The .grad attribute of a Tensor that is not a leaf Tensor is being accessed. Its .grad attribute won't be populated during autograd.backward(). If you indeed want the gradient for a non-leaf Tensor, use .retain_grad() on the non-leaf Tensor. If you access the non-leaf Tensor by mistake, make sure you access the leaf Tensor instead. See github.com/pytorch/pytorch/pull/30531 for more information.\n",
            "  if p.grad is not None:\n",
            "/usr/local/lib/python3.7/dist-packages/torch/nn/modules/module.py:1702: UserWarning: The .grad attribute of a Tensor that is not a leaf Tensor is being accessed. Its .grad attribute won't be populated during autograd.backward(). If you indeed want the gradient for a non-leaf Tensor, use .retain_grad() on the non-leaf Tensor. If you access the non-leaf Tensor by mistake, make sure you access the leaf Tensor instead. See github.com/pytorch/pytorch/pull/30531 for more information.\n",
            "  if p.grad is not None:\n",
            "/usr/local/lib/python3.7/dist-packages/torch/nn/modules/module.py:1702: UserWarning: The .grad attribute of a Tensor that is not a leaf Tensor is being accessed. Its .grad attribute won't be populated during autograd.backward(). If you indeed want the gradient for a non-leaf Tensor, use .retain_grad() on the non-leaf Tensor. If you access the non-leaf Tensor by mistake, make sure you access the leaf Tensor instead. See github.com/pytorch/pytorch/pull/30531 for more information.\n",
            "  if p.grad is not None:\n",
            "/usr/local/lib/python3.7/dist-packages/torch/nn/modules/module.py:1702: UserWarning: The .grad attribute of a Tensor that is not a leaf Tensor is being accessed. Its .grad attribute won't be populated during autograd.backward(). If you indeed want the gradient for a non-leaf Tensor, use .retain_grad() on the non-leaf Tensor. If you access the non-leaf Tensor by mistake, make sure you access the leaf Tensor instead. See github.com/pytorch/pytorch/pull/30531 for more information.\n",
            "  if p.grad is not None:\n",
            "/usr/local/lib/python3.7/dist-packages/torch/nn/modules/module.py:1702: UserWarning: The .grad attribute of a Tensor that is not a leaf Tensor is being accessed. Its .grad attribute won't be populated during autograd.backward(). If you indeed want the gradient for a non-leaf Tensor, use .retain_grad() on the non-leaf Tensor. If you access the non-leaf Tensor by mistake, make sure you access the leaf Tensor instead. See github.com/pytorch/pytorch/pull/30531 for more information.\n",
            "  if p.grad is not None:\n",
            "/usr/local/lib/python3.7/dist-packages/torch/nn/modules/module.py:1702: UserWarning: The .grad attribute of a Tensor that is not a leaf Tensor is being accessed. Its .grad attribute won't be populated during autograd.backward(). If you indeed want the gradient for a non-leaf Tensor, use .retain_grad() on the non-leaf Tensor. If you access the non-leaf Tensor by mistake, make sure you access the leaf Tensor instead. See github.com/pytorch/pytorch/pull/30531 for more information.\n",
            "  if p.grad is not None:\n",
            "/usr/local/lib/python3.7/dist-packages/torch/nn/modules/module.py:1702: UserWarning: The .grad attribute of a Tensor that is not a leaf Tensor is being accessed. Its .grad attribute won't be populated during autograd.backward(). If you indeed want the gradient for a non-leaf Tensor, use .retain_grad() on the non-leaf Tensor. If you access the non-leaf Tensor by mistake, make sure you access the leaf Tensor instead. See github.com/pytorch/pytorch/pull/30531 for more information.\n",
            "  if p.grad is not None:\n",
            "/usr/local/lib/python3.7/dist-packages/torch/nn/modules/module.py:1702: UserWarning: The .grad attribute of a Tensor that is not a leaf Tensor is being accessed. Its .grad attribute won't be populated during autograd.backward(). If you indeed want the gradient for a non-leaf Tensor, use .retain_grad() on the non-leaf Tensor. If you access the non-leaf Tensor by mistake, make sure you access the leaf Tensor instead. See github.com/pytorch/pytorch/pull/30531 for more information.\n",
            "  if p.grad is not None:\n",
            "/usr/local/lib/python3.7/dist-packages/torch/nn/modules/module.py:1702: UserWarning: The .grad attribute of a Tensor that is not a leaf Tensor is being accessed. Its .grad attribute won't be populated during autograd.backward(). If you indeed want the gradient for a non-leaf Tensor, use .retain_grad() on the non-leaf Tensor. If you access the non-leaf Tensor by mistake, make sure you access the leaf Tensor instead. See github.com/pytorch/pytorch/pull/30531 for more information.\n",
            "  if p.grad is not None:\n",
            "/usr/local/lib/python3.7/dist-packages/torch/nn/modules/module.py:1702: UserWarning: The .grad attribute of a Tensor that is not a leaf Tensor is being accessed. Its .grad attribute won't be populated during autograd.backward(). If you indeed want the gradient for a non-leaf Tensor, use .retain_grad() on the non-leaf Tensor. If you access the non-leaf Tensor by mistake, make sure you access the leaf Tensor instead. See github.com/pytorch/pytorch/pull/30531 for more information.\n",
            "  if p.grad is not None:\n",
            "/usr/local/lib/python3.7/dist-packages/torch/nn/modules/module.py:1702: UserWarning: The .grad attribute of a Tensor that is not a leaf Tensor is being accessed. Its .grad attribute won't be populated during autograd.backward(). If you indeed want the gradient for a non-leaf Tensor, use .retain_grad() on the non-leaf Tensor. If you access the non-leaf Tensor by mistake, make sure you access the leaf Tensor instead. See github.com/pytorch/pytorch/pull/30531 for more information.\n",
            "  if p.grad is not None:\n",
            "/usr/local/lib/python3.7/dist-packages/torch/nn/modules/module.py:1702: UserWarning: The .grad attribute of a Tensor that is not a leaf Tensor is being accessed. Its .grad attribute won't be populated during autograd.backward(). If you indeed want the gradient for a non-leaf Tensor, use .retain_grad() on the non-leaf Tensor. If you access the non-leaf Tensor by mistake, make sure you access the leaf Tensor instead. See github.com/pytorch/pytorch/pull/30531 for more information.\n",
            "  if p.grad is not None:\n",
            "/usr/local/lib/python3.7/dist-packages/torch/nn/modules/module.py:1702: UserWarning: The .grad attribute of a Tensor that is not a leaf Tensor is being accessed. Its .grad attribute won't be populated during autograd.backward(). If you indeed want the gradient for a non-leaf Tensor, use .retain_grad() on the non-leaf Tensor. If you access the non-leaf Tensor by mistake, make sure you access the leaf Tensor instead. See github.com/pytorch/pytorch/pull/30531 for more information.\n",
            "  if p.grad is not None:\n",
            "/usr/local/lib/python3.7/dist-packages/torch/nn/modules/module.py:1702: UserWarning: The .grad attribute of a Tensor that is not a leaf Tensor is being accessed. Its .grad attribute won't be populated during autograd.backward(). If you indeed want the gradient for a non-leaf Tensor, use .retain_grad() on the non-leaf Tensor. If you access the non-leaf Tensor by mistake, make sure you access the leaf Tensor instead. See github.com/pytorch/pytorch/pull/30531 for more information.\n",
            "  if p.grad is not None:\n",
            "/usr/local/lib/python3.7/dist-packages/torch/nn/modules/module.py:1702: UserWarning: The .grad attribute of a Tensor that is not a leaf Tensor is being accessed. Its .grad attribute won't be populated during autograd.backward(). If you indeed want the gradient for a non-leaf Tensor, use .retain_grad() on the non-leaf Tensor. If you access the non-leaf Tensor by mistake, make sure you access the leaf Tensor instead. See github.com/pytorch/pytorch/pull/30531 for more information.\n",
            "  if p.grad is not None:\n",
            "/usr/local/lib/python3.7/dist-packages/torch/nn/modules/module.py:1702: UserWarning: The .grad attribute of a Tensor that is not a leaf Tensor is being accessed. Its .grad attribute won't be populated during autograd.backward(). If you indeed want the gradient for a non-leaf Tensor, use .retain_grad() on the non-leaf Tensor. If you access the non-leaf Tensor by mistake, make sure you access the leaf Tensor instead. See github.com/pytorch/pytorch/pull/30531 for more information.\n",
            "  if p.grad is not None:\n",
            "/usr/local/lib/python3.7/dist-packages/torch/nn/modules/module.py:1702: UserWarning: The .grad attribute of a Tensor that is not a leaf Tensor is being accessed. Its .grad attribute won't be populated during autograd.backward(). If you indeed want the gradient for a non-leaf Tensor, use .retain_grad() on the non-leaf Tensor. If you access the non-leaf Tensor by mistake, make sure you access the leaf Tensor instead. See github.com/pytorch/pytorch/pull/30531 for more information.\n",
            "  if p.grad is not None:\n",
            "/usr/local/lib/python3.7/dist-packages/torch/nn/modules/module.py:1702: UserWarning: The .grad attribute of a Tensor that is not a leaf Tensor is being accessed. Its .grad attribute won't be populated during autograd.backward(). If you indeed want the gradient for a non-leaf Tensor, use .retain_grad() on the non-leaf Tensor. If you access the non-leaf Tensor by mistake, make sure you access the leaf Tensor instead. See github.com/pytorch/pytorch/pull/30531 for more information.\n",
            "  if p.grad is not None:\n",
            "/usr/local/lib/python3.7/dist-packages/torch/nn/modules/module.py:1702: UserWarning: The .grad attribute of a Tensor that is not a leaf Tensor is being accessed. Its .grad attribute won't be populated during autograd.backward(). If you indeed want the gradient for a non-leaf Tensor, use .retain_grad() on the non-leaf Tensor. If you access the non-leaf Tensor by mistake, make sure you access the leaf Tensor instead. See github.com/pytorch/pytorch/pull/30531 for more information.\n",
            "  if p.grad is not None:\n",
            "/usr/local/lib/python3.7/dist-packages/torch/nn/modules/module.py:1702: UserWarning: The .grad attribute of a Tensor that is not a leaf Tensor is being accessed. Its .grad attribute won't be populated during autograd.backward(). If you indeed want the gradient for a non-leaf Tensor, use .retain_grad() on the non-leaf Tensor. If you access the non-leaf Tensor by mistake, make sure you access the leaf Tensor instead. See github.com/pytorch/pytorch/pull/30531 for more information.\n",
            "  if p.grad is not None:\n",
            "/usr/local/lib/python3.7/dist-packages/torch/nn/modules/module.py:1702: UserWarning: The .grad attribute of a Tensor that is not a leaf Tensor is being accessed. Its .grad attribute won't be populated during autograd.backward(). If you indeed want the gradient for a non-leaf Tensor, use .retain_grad() on the non-leaf Tensor. If you access the non-leaf Tensor by mistake, make sure you access the leaf Tensor instead. See github.com/pytorch/pytorch/pull/30531 for more information.\n",
            "  if p.grad is not None:\n",
            "/usr/local/lib/python3.7/dist-packages/torch/nn/modules/module.py:1702: UserWarning: The .grad attribute of a Tensor that is not a leaf Tensor is being accessed. Its .grad attribute won't be populated during autograd.backward(). If you indeed want the gradient for a non-leaf Tensor, use .retain_grad() on the non-leaf Tensor. If you access the non-leaf Tensor by mistake, make sure you access the leaf Tensor instead. See github.com/pytorch/pytorch/pull/30531 for more information.\n",
            "  if p.grad is not None:\n",
            "/usr/local/lib/python3.7/dist-packages/torch/nn/modules/module.py:1702: UserWarning: The .grad attribute of a Tensor that is not a leaf Tensor is being accessed. Its .grad attribute won't be populated during autograd.backward(). If you indeed want the gradient for a non-leaf Tensor, use .retain_grad() on the non-leaf Tensor. If you access the non-leaf Tensor by mistake, make sure you access the leaf Tensor instead. See github.com/pytorch/pytorch/pull/30531 for more information.\n",
            "  if p.grad is not None:\n",
            "/usr/local/lib/python3.7/dist-packages/torch/nn/modules/module.py:1702: UserWarning: The .grad attribute of a Tensor that is not a leaf Tensor is being accessed. Its .grad attribute won't be populated during autograd.backward(). If you indeed want the gradient for a non-leaf Tensor, use .retain_grad() on the non-leaf Tensor. If you access the non-leaf Tensor by mistake, make sure you access the leaf Tensor instead. See github.com/pytorch/pytorch/pull/30531 for more information.\n",
            "  if p.grad is not None:\n"
          ]
        }
      ]
    },
    {
      "cell_type": "code",
      "metadata": {
        "id": "UjfK8aGPF5QU",
        "colab": {
          "base_uri": "https://localhost:8080/",
          "height": 52
        },
        "outputId": "f29c3f27-4715-4407-c93b-0b65ce976ca4"
      },
      "source": [
        "learn_lm.predict(\"this movie sucks big time\", n_words=25)"
      ],
      "execution_count": 133,
      "outputs": [
        {
          "output_type": "execute_result",
          "data": {
            "application/vnd.google.colaboratory.intrinsic+json": {
              "type": "string"
            },
            "text/plain": [
              "'this movie sucks big time , there is as much though about education and re - education . As i say , Survivor seems to not have been'"
            ]
          },
          "metadata": {},
          "execution_count": 133
        }
      ]
    },
    {
      "cell_type": "code",
      "metadata": {
        "id": "C0fND4uvFWHK",
        "outputId": "66e9cd9f-dba8-44a6-af15-d9083abf33b5",
        "colab": {
          "base_uri": "https://localhost:8080/",
          "height": 35
        }
      },
      "source": [
        "learn_lm.predict(\"i ate a hot\", n_words=5)"
      ],
      "execution_count": 134,
      "outputs": [
        {
          "output_type": "execute_result",
          "data": {
            "application/vnd.google.colaboratory.intrinsic+json": {
              "type": "string"
            },
            "text/plain": [
              "'i ate a hot chick , large blah enough'"
            ]
          },
          "metadata": {},
          "execution_count": 134
        }
      ]
    },
    {
      "cell_type": "code",
      "metadata": {
        "id": "kI3GMnXTNsEs"
      },
      "source": [
        "learn_lm.save('ft')\n",
        "learn_lm.save_encoder('ft_enc')"
      ],
      "execution_count": 135,
      "outputs": []
    },
    {
      "cell_type": "code",
      "metadata": {
        "id": "i5ySmy6TFz5s",
        "outputId": "123b01c3-eea5-4de1-ac9c-adfcf0f6352c",
        "colab": {
          "base_uri": "https://localhost:8080/"
        }
      },
      "source": [
        "# location above files are saved\n",
        "!ls /root/.fastai/data/imdb_sample/models"
      ],
      "execution_count": 105,
      "outputs": [
        {
          "output_type": "stream",
          "name": "stdout",
          "text": [
            "ft_enc.pth  ft.pth\n"
          ]
        }
      ]
    },
    {
      "cell_type": "code",
      "metadata": {
        "id": "fIl2bNRrkyrM",
        "colab": {
          "base_uri": "https://localhost:8080/"
        },
        "outputId": "47270385-80e4-40b6-ca4b-6d758623dd21"
      },
      "source": [
        "#print(data_lm.train_ds.vocab)\n",
        "print(data_lm.vocab.itos)"
      ],
      "execution_count": 106,
      "outputs": [
        {
          "output_type": "stream",
          "name": "stdout",
          "text": [
            "['xxunk', 'xxpad', 'xxbos', 'xxeos', 'xxfld', 'xxmaj', 'xxup', 'xxrep', 'xxwrep', 'the', ',', '.', 'and', 'a', 'of', 'to', 'is', 'it', 'in', 'i', 'that', 'this', '\"', \"'s\", '-', '\\n \\n ', 'was', 'as', 'for', 'movie', 'with', 'but', 'film', ')', 'you', '(', 'on', \"n't\", 'are', 'not', 'his', 'he', 'have', 'be', 'one', 'they', 'at', 'all', 'by', 'an', 'from', 'like', 'so', 'who', '!', 'there', 'if', 'just', 'her', 'about', 'or', 'out', \"'\", 'do', 'some', 'has', 'what', 'good', 'more', 'when', '?', 'up', 'she', 'very', 'no', 'their', 'would', 'time', 'were', 'even', 'story', 'really', 'my', 'can', 'had', 'which', 'only', 'see', 'me', '...', ':', 'did', 'we', 'bad', 'into', 'than', 'does', 'well', 'will', 'also', 'first', 'get', 'other', 'people', 'its', 'because', 'could', 'how', 'much', 'been', 'most', 'any', 'make', 'great', 'two', 'made', 'them', '/', 'him', 'then', 'after', 'way', 'too', 'never', 'acting', 'think', ';', 'films', 'better', 'movies', 'character', 'little', 'watch', 'life', 'being', 'where', 'love', 'man', 'many', 'over', 'plot', 'your', 'characters', 'here', 'best', 'end', 'seen', 'know', 'scenes', 'something', 'should', 'through', 'ever', 'say', 'show', 'while', 'such', 'off', 'still', 'back', 'go', 'these', 'scene', 'those', 'though', 'before', 'real', 'why', 'years', 'new', 'watching', 'quite', '10', 'thing', 'actors', 'old', 'actually', 'same', 'nothing', \"'ve\", \"'m\", 'between', '--', 'now', '&', 'makes', 'going', 'look', 'part', 'action', 'work', 'few', 'want', \"'re\", 'pretty', 'find', '*', 'around', 'fact', 'funny', 'director', 'another', 'down', 'without', 'again', 'seems', 'enough', 'both', 'world', 'cast', 'lot', 'point', 'us', 'bit', 'series', 'ca', 'original', 'almost', 'whole', 'got', 'must', 'own', 'every', 'may', 'things', 'thought', 'might', 'probably', 'horror', 'big', 'interesting', 'however', \"'ll\", 'least', 'gets', 'family', 'come', 'each', 'young', 'true', 'feel', 'times', 'right', 'role', 'hard', 'away', 'making', 'day', 'comes', 'fun', 'kind', 'minutes', 'script', 'take', 'girl', 'done', 'always', 'place', 'guy', 'looks', 'saw', 'someone', 'anything', 'shows', 'last', 'long', 'tv', 'american', 'course', 'goes', 'yet', 'far', 'give', 'effects', 'simply', \"'d\", 'book', 'set', '4', 'actor', 'comedy', 'trying', 'star', 'although', 'left', 'together', 'worth', 'takes', 'audience', 'music', 'found', 'shot', 'once', 'believe', 'looking', 'our', 'screen', 'performance', 'ending', 'especially', 'watched', 'sure', 'having', 'since', 'rest', 'sense', 'said', 'special', 'three', '\\x96', 'men', 'worst', 'black', 'dvd', 'wife', '2', 'women', 'john', 'friends', 'instead', 'woman', 'played', 'am', 'read', 'high', 'different', 'plays', 'version', 'everyone', 'put', 'low', 'budget', 'anyone', 'second', 'father', 'main', 'rather', 'poor', 'during', 'next', 'later', 'seem', 'production', 'job', '1', 'maybe', 'boring', 'beautiful', 'completely', 'video', 'performances', 'perhaps', 'others', 'terrible', 'lost', 'war', 'death', 'let', 'couple', 'less', 'half', 'liked', 'start', 'year', 'nice', 'either', 'reason', 'else', 'night', 'house', 'mind', 'kids', 'top', 'need', 'robert', 'try', 'problem', 'fan', 'episode', 'piece', 'play', 'sex', 'wrong', '5', 'girls', 'idea', 'everything', 'entire', 'tell', 'camera', 'came', 'along', 'excellent', 'remember', '3', 'kill', 'often', 'money', 'given', 'throughout', 'sound', 'until', 'case', 'keep', 'town', 'full', 'yes', 'style', 'name', 'called', 'picture', 'help', 'drama', 'fans', 'eyes', 'leave', 'use', 'hollywood', '..', 'moments', 'under', 'definitely', 'used', 'live', 'dialogue', 'late', 'hand', 'already', 'enjoy', 'cinema', 'boy', 'worse', 'stars', 'supposed', 'white', 'attempt', 'awful', 'felt', 'quality', 'fine', 'truly', 'classic', 'writing', 'friend', 'lines', 'small', 'mean', 'getting', 'itself', 'english', 'parts', 'absolutely', 'son', 'home', 'doing', 'child', 'himself', 'despite', 'hope', 'seeing', 'oh', 'blood', 'early', 'james', 'entertaining', 'sort', 'unfortunately', 'lives', 'king', 'able', 'close', 'recommend', 'written', 'history', 'past', 'face', 'title', 'overall', 'gives', 'person', 'matter', 'days', 'waste', 'decent', 'says', 'mother', 'genre', 'turn', 'dull', 'become', 'line', 'heard', 'care', 'word', 'anyway', 'guys', 'car', 'except', 'humor', 'based', 'short', 'tries', 'sometimes', 'wo', 'lead', 'five', 'wonderful', 'beginning', 'daughter', 'flick', 'brilliant', 'light', 'against', 'guess', 'dead', 'killer', 'told', 'sister', 'direction', 'self', 'violence', 'gore', 'human', 'wonder', 'exactly', 'evil', 'hero', 'turns', 'feeling', 'side', 'city', 'god', 'behind', 'works', 'head', 'wants', 'run', 'documentary', 'stupid', 'went', 'dark', 'thinking', 'wanted', 'school', 'viewer', 'cheap', 'release', 'certainly', 'children', 'follow', 'game', 'loved', 'laugh', 'playing', 'local', 'themselves', 'final', 'highly', 'killed', 'ago', 'voice', 'hit', 'lack', 'opinion', 'tells', 'shown', 'red', 'starts', 'level', 'soon', 'roles', 'eye', 'seemed', 'etc', 'relationship', 'enjoyed', 'supporting', 'modern', 'non', 'finally', 'turned', 'several', 'ridiculous', 'view', 'expect', 'interest', 'usually', 'novel', 'perfect', 'slow', 'crap', 'review', 'problems', 'serious', 'saying', 'paul', 'nearly', 'filmed', 'took', 'yourself', 'group', 'mostly', 'example', 'events', 'please', 'hour', 'happens', 'victor', 'de', 'upon', 'ben', 'power', 'order', 'moment', 'gave', 'falls', 'using', 'tale', 'score', 'lady', 'including', 'sad', 'alone', 'episodes', 'general', 'shots', 'number', 'heart', 'horrible', 'george', 'cinematography', 'room', 'mr.', 'simple', 'totally', 'type', 'ok', 'lake', 'becomes', 'editing', 'country', 'sets', 'convincing', 'bunch', 'working', 'huge', 'clearly', 'stories', '7', 'amazing', 'writer', 'dance', 'age', 'living', 'fight', 'body', 'four', 'michael', 'secret', 'similar', 'sexual', 'straight', 'bring', 'art', 'possible', 'today', 'weak', 'water', 'boys', 'apparently', 'somewhat', 'romance', 'york', 'nature', 'talking', 'steve', 'seriously', 'obviously', 'ones', 'myself', 'greatest', 'brother', 'oscar', 'stage', 'woods', 'extremely', 'female', 'wish', 'particularly', 'create', 'happened', 'husband', 'british', 'romantic', 'particular', 'experience', 'knew', 'needs', 'stuff', 'ways', 'japanese', 'cover', 'leads', 'earth', 'finds', 'knows', 'change', 'features', 'subject', 'happy', '6', 'coming', 'difficult', 'spent', 'happen', 'involved', 'ends', 'gone', 'none', 'figure', 'b', 'chance', 'theme', 'kid', 'understand', 'effort', 'released', 'moving', 'chase', 'within', 'team', 'became', 'monster', 'directed', 'mention', 'beyond', 'typical', 're', 'whether', 'recently', 'favorite', 'obvious', 'taken', 'hell', 'doubt', 'killing', 'mentioned', 'major', 'fall', 'easily', 'save', 'across', 'actress', 'form', 'jokes', 'surprised', '8', 'words', 'easy', 'western', 'zombie', 'feature', 'ten', 'cgi', 'luke', 'truth', 'twist', 'herself', 'parents', 'imagine', 'gay', 'disappointed', 'complete', 'talent', 'add', 'devil', 'keeps', 'future', 'hardly', 'talk', 'footage', 'act', 'lee', 'silly', 'list', 'fantastic', 'material', 'strange', 'above', 'due', 'tom', 'usual', 'sit', 'decided', 'rent', 'attention', 'strong', 'whatever', 'named', 'suspense', 'audiences', 'taking', 'indian', 'scary', 'forget', 'certain', 'kept', 'screenplay', 'towards', 'career', 'business', 'points', 'avoid', 'cheesy', 'science', 'door', 'interested', 'enjoyable', 'reality', 'space', 'apart', 'plenty', 'entertainment', 'looked', 'realistic', 'bourne', 'stay', 'known', 'important', 'stop', 'davis', 'setting', 'box', 'hilarious', 'note', 'actual', 'move', 'dialog', 'stand', 'portrayed', 'laughs', 'clear', 'bill', 'jim', 'opening', 'blob', 'soundtrack', '80', 'call', 'christmas', 'company', 'whose', 'richard', 'attempts', 'jane', 'started', 'allen', 'musical', 'giving', 'cut', 'forced', 'thriller', 'predictable', 'lots', 'means', 'break', 'dream', 'dancing', 'sequences', 'former', 'feels', 'average', 'french', 'homer', 'dad', 'rich', 'deal', 'unique', 'dr.', 'indeed', 'question', 'police', 'cool', 'tried', 'died', 'mess', 'rating', 'deserves', 'remake', 'buy', 'adaptation', 'leading', 'west', 'storyline', 'message', 'surprisingly', 'basic', 'caught', 'language', 'television', 'sadly', 'comic', 'south', 'viewing', 'hours', 'baby', 'begin', 'slasher', 'era', 'basically', 'hold', 'showing', 'gun', 'la', 'near', 'single', 'tension', 'possibly', 'david', 'appear', 'missing', 'rock', 'song', 'premise', 'brothers', 'street', 'cold', 'decides', 'crazy', 'beauty', '20', 'emotional', 'viewers', 'america', 'society', 'fairly', 'jack', 'al', 'porn', 'sequence', 'alive', 'third', 'vargas', 'sorry', 'hear', 'meets', 'middle', 'weird', 'german', 'design', 'meaning', 'die', 'elements', 'fake', 'agree', 'sequel', 'pain', 'incredibly', 'directing', 'somehow', 'shop', 'helps', 'period', 'deep', 'fire', 'building', 'crime', 'minute', 'social', 'comment', 'explain', 'flat', 'lame', 'hair', 'public', 'values', 'murder', 'outside', 'cry', 'crew', 'married', 'accent', 'involving', 'casting', 'running', 'project', 'slightly', 'songs', 'further', 'miss', 'eventually', 'unless', 'follows', 'sounds', 'purpose', 'dramatic', 'needed', 'considering', 'mystery', 'believable', 'ability', 'normal', 'comments', 'honestly', 'martin', 'older', 'male', 'stunning', 'tone', 'stick', 'fast', 'clever', 'annoying', 'air', 'agent', 'popular', 'reading', 'narrative', 'kate', 'appears', 'rated', 'nudity', 'nick', 'hands', 'focus', 'dreams', 'among', 'century', 'shooting', 'kills', 'suddenly', 'cartoon', 'writers', 'development', 'value', 'acted', 'win', 'laughing', 'makers', 'begins', 'earlier', 'nor', 'members', 'russian', 'brought', 'total', 'singing', 'joe', 'following', 'office', 'telling', '+', 'barely', 'positive', 'realize', 'image', '30', 'sick', 'creepy', 'waiting', 'road', 'dressed', 'grace', 'bizarre', '15', 'pace', 'ask', 'puts', 'onto', 'thrown', 'arthur', 'large', 'present', 'okay', 'costumes', 'free', 'ghost', 'directors', 'producers', 'concept', 'grade', 'touching', 'runs', 'taste', 'peter', 'recent', 'manages', 'hot', 'intelligence', 'epic', 'burns', 'credit', 'mark', 'pick', 'expectations', 'sitting', 'aware', 'hate', 'willing', 'numerous', 'evening', 'heavy', 'wait', 'front', 'trash', 'jones', 'adventure', 'unlike', 'badly', 'successful', 'revenge', '9', 'previous', 'natural', 'intended', 'animation', 'plain', 'meet', 'somewhere', 'thanks', 'noir', 'moves', 'sam', 'claim', 'return', 'conflict', 'pointless', 'perfectly', 'scott', 'learn', 'commentary', 'situation', 'asks', 'plus', 'filled', 'cat', 'forward', 'control', '%', 'bother', 'poorly', 'kevin', 'loud', 'considered', 'six', 'glad', 'expected', 'built', 'impressive', 'recommended', 'professional', 'leaves', 'ex', 'photography', 'silent', 'post', 'open', 'impact', 'food', 'limited', 'hey', 'wondering', 'animated', 'aspects', 'copy', 'battle', 'besides', 'otherwise', 'drive', 'allow', 'africa', 'biko', 'track', 'bored', 'season', 'terms', 'touch', 'share', 'literally', 'powerful', 'wells', 'continuity', 'cause', 'brings', 'escape', '$', 'various', 'government', 'sexy', 'movement', 'personal', 'doctor', 'background', 'mediocre', 'addition', 'developed', 'worked', 'wrote', 'months', 'loving', 'relationships', 'radio', 'admit', 'inside', 'window', 'mysterious', 'sight', 'turning', 'meant', 'wanting', 'pilot', 'expecting', 'struggle', 'violent', 'wasted', 'memorable', 'villain', 'shame', 'situations', 'evidence', 'dog', 'sci', 'fi', 'wild', 'sees', 'baseball', 'redeeming', 'army', 'fanfan', 'missed', 'trouble', 'naschy', 'yeah', 'tony', 'store', 'credits', 'fantasy', 'quickly', 'ideas', 'vision', 'sub', 'effective', 'william', 'versions', 'success', 'deserve', 'filming', 'animals', 'african', 'disappointment', 'fox', 'changed', 'motion', 'creature', 'theatrical', 'joey', 'latter', 'failed', 'pass', 'party', 'rubbish', 'apartment', 'prince', 'standing', 'leaving', 'speaking', 'zombies', 'common', 'met', 'channel', 'wooden', 'speak', 'born', 'neither', 'joke', 'emotions', 'dying', 'actresses', 's', 'edge', 'perspective', 'result', 'cult', 'showed', 'depth', 'longer', 'beautifully', 'zero', 'pieces', 'famous', 'historical', 'media', 'spoilers', 'freedom', 'willie', 'masterpiece', 'ship', 'brooks', 'odd', 'lose', 'cooper', 'martial', 'mine', 'trip', 'painful', 'childhood', 'steven', 'compared', 'cute', 'anybody', 'garbage', 'imdb', 'rental', 'support', 'location', 'respect', 'murdered', 'brief', 'williams', 'computer', 'excuse', 'vhs', 'locations', 'surprise', 'ugly', 'remains', 'aside', 'ended', 'machine', 'wearing', 'clothes', 'likes', 'makeup', 'mad', 'genius', 'surely', 'event', 'superior', 'beat', 'industry', 'talented', 'cross', 'charm', 'smith', 'washington', 'immediately', 'treasure', 'sky', 'regard', 'force', 'demons', 'creative', 'serial', '90', 'changes', 'details', 'class', 'merely', 'state', 'blue', 'existence', 'humour', 'vampire', 'vampires', 'church', 'brutal', '50', 'feelings', 'site', 'starring', 'bland', 'japan', 'arts', 'wars', 'franchise', 'filmmakers', 'attack', 'plan', 'gold', 'fair', 'land', 'forever', 'current', 'award', 'colors', 'superb', 'solid', 'chris', 'reviews', 'johnny', 'law', 'walk', 'jackson', 'visual', 'astaire', 'crater', 'effect', 'efforts', 'heroine', 'students', 'suggest', 'manner', 'adds', 'captain', 'check', 'received', 'band', 'claire', 'happening', 'identity', 'match', 'dies', 'twenty', 'fell', 'laughter', 'co', 'connection', 'news', 'choice', 'scenery', 'fiction', 'thank', 'lovers', 'winning', 'names', 'frank', 'honest', 'ultimately', 'charles', 'extreme', 'lies', 'charming', 'contains', 'flaws', 'seven', 'issues', 'warning', 'information', 'rare', 'responsible', 'henry', 'friendship', 'teenager', 'community', 'biggest', 'wow', 'images', 'soldiers', 'incredible', 'catch', 'answer', 'books', 'savage', 'stays', 'nicely', 'captured', 'lewis', 'managed', 'likable', 'intelligent', 'bought', 'extras', 'fails', 'chemistry', 'length', 'driving', 'won', 'hall', 'van', 'deserved', 'lying', 'animal', 'legend', 'seagal', 'pure', 'girlfriend', 'thinks', 'candy', 'awesome', 'offer', 'spot', 'personally', 'shirt', 'appeal', 'apparent', 'friday', 'spoiler', 'alien', 'station', 'system', 'bloody', 'color', 'approach', 'pleasure', 'sign', 'student', 'picked', 'recall', 'summer', 'walking', 'warn', 'stewart', 'studio', 'spirit', 'standard', 'pathetic', 'teen', 'reach', 'producer', 'comedies', 'thin', 'entirely', 'boss', 'texas', 'fate', 'write', 'provide', 'confusing', 'whom', 'followed', 'weeks', 'island', 'include', 'humorous', 'stands', 'ground', 'reviewers', 'aspect', 'forgotten', 'tend', 'pacing', 'lover', 'ladies', 'questions', 'falling', 'emotion', '1970s', 'prove', 'stephen', 'loose', 'claims', 'castle', 'conclusion', 'political', 'knowing', 'appeared', 'cars', 'roger', 'themes', 'whatsoever', 'valentine', 'gangster', 'negative', 'hurt', 'justice', 'witch', 'amount', 'trailer', 'mood', 'adult', 'italian', 'fame', 'fellow', 'count', 'opportunity', 'villains', 'reasons', 'context', 'week', 'impression', 'ms.', 'serbian', 'rate', 'national', 'spend', 'soderbergh', 'grew', 'loves', 'twice', 'trust', 'anywhere', 'junior', 'fear', 'u.s.', 'added', 'presence', 'hardy', 'steal', 'wise', 'enemy', 'reminiscent', 'equally', 'edited', 'promising', 'soul', 'consider', 'jason', 'super', 'places', 'fool', 'everybody', 'lugosi', 'somebody', 'impossible', 'stuck', 'continues', 'keeping', 'powers', 'lighting', 'hill', 'batman', 'destroyed', 'appearance', 'semi', 'direct', 'sweet', 'journey', 'inspired', 'artistic', 'dennis', 'nowhere', 'hits', 'memory', 'likely', 'brian', 'tough', 'suicide', 'mouth', 'decade', 'exact', 'fashion', 'unusual', 'finding', 'states', 'welcome', 'jump', 'lovely', 'member', 'wilson', 'amusing', 'standards', 'taylor', 'bottom', 'dirty', 'naked', 'according', 'lets', 'culture', 'leader', 'majority', 'fred', 'teenage', 'portrayal', 'adam', 'date', 'proves', 'games', 'crash', 'survive', 'laughable', 'skip', 'train', 'religious', 'ryan', 'deals', 'began', 'angles', 'thousands', '100', 'danes', '\\x85 ', 'introduced', 'louis', 'pleasant', 'christian', 'bed', 'central', 'forgot', 'magic', 'jean', 'afraid', 'cinematic', 'appreciate', 'gilliam', 'blonde', 'ann', 'hanks', 'daughters', 'subtle', 'judy', 'princess', 'pull', 'carradine', 'thus', 'johnson', 'evelyn', 'geisha', 'scorsese', 'jabba', 'massive', 'bob', 'confused', 'neighborhood', 'allowed', 'fully', 'available', 'starting', 'weight', 'extra', 'par', 'compelling', '1970', 'rarely', 'shocking', 'fifteen', 'ultimatum', 'cia', 'ordinary', 'bond', 'tarzan', 'heads', 'sheriff', 'mary', 'popcorn', 'horribly', 'acceptable', 'pulled', 'offering', 'sucks', 'concerned', 'heck', 'unbelievable', 'attractive', 'field', 'soap', 'opera', 'jr.', 'outstanding', 'hunter', '70', 'f', 'reveal', 'detail', 'disappointing', 'understanding', 'deliberately', 'ray', 'massacre', 'levels', 'created', 'club', 'andy', 'refuses', 'pay', 'phone', 'artist', 'toward', 'bloodbath', 'awkward', 'victims', 'touches', 'hoping', 'rescue', 'moral', 'described', 'marriage', 'marry', 'opposite', 'essentially', 'ill', 'dealing', 'unnecessary', 'mob', 'mask', 'suffer', 'soldier', 'torn', 'o', 'discovered', 'ass', 'keaton', 'mistake', 'personality', 'boat', 'hopefully', 'presented', 'experiences', 'slowly', 'campy', 'racism', 'paxton', 'studios', 'guns', 'han', 'tragic', 'utter', 'treat', 'decide', 'lacks', 'terribly', 'chinese', 'niro', 'double', 'mistaken', 'bringing', 'bits', 'produced', 'rule', 'modesty', 'x', 'ahead', 'sent', 'uses', 'innocent', 'ready', 'ii', 'finest', 'alex', 'victim', 'faces', 'gorgeous', 'mainly', 'ballet', 'howard', 'younger', 'device', 'advice', 'paid', 'deliver', 'border', 'climax', 'snakes', 'blacks', 'redgrave', 'vanessa', 'inner', 'hated', 'serves', 'constantly', 'seemingly', 'throw', 'ed', 'wood', 'disgusting', 'desperate', 'fascinating', 'blown', 'funniest', 'saved', 'college', 'jeff', 'morning', 'exploitation', 'unlikely', 'generally', 'theater', 'folks', 'laughed', 'england', 'model', 'angry', 'spy', 'miles', 'returns', 'hospital', 'moore', 'collection', 'amateurish', 'joy', 'foreign', 'execution', 'scream', 'chose', 'packed', 'dynamic', 'ruined', 'logic', 'feet', 'eat', 'skits', 'sake', 'frankly', 'finish', 'prison', 'alfred', 'engaging', 'learns', 'dear', 'nt', 'sheer', 'realism', 'exception', 'survivors', 'search', 'twists', 'provides', 'atmosphere', 'empty', 'player', 'cynical', 'fresh', 'green', 'grandmother', 'provided', 'becoming', 'proper', 'price', 'record', 'featured', 'commercials', 'disaster', 'pulls', 'boyfriend', 'enters', 'normally', 'sheets', 'statement', 'golden', 'worthwhile', 'doom', 'grand', 'faith', 'potential', 'accept', 'ups', 'leon', 'wives', 'enemies', 'kennedy', 'absolute', 'focused', 'blame', 'finished', 'military', 'author', 'apartheid', 'familiar', 'seconds', 'planet', 'accidentally', 'realized', 'traditional', 'fighting', 'maria', 'authentic', 'capture', 'pile', 'forgettable', 'compare', 'impressed', 'thoroughly', 'murders', 'wind', 'camp', 'carrying', 'lord', 'killings', 'jobs', 'floor', 'delivers', 'cuts', 'explanation', 'complex', 'consequences', 'grown', 'brain', '12', 'morality', 'entertain', 'smile', 'curious', 'quick', 'angels', 'diamond', 'village', 'source', 'disturbing', 'haunting', 'melodrama', 'extraordinary', 'riding', 'step', 'ring', 'below', 'stevenson', 'adventures', 'nevertheless', 'drunk', 'caused', 'variety', 'growing', 'utterly', 'moved', 'memories', 'bear', 'bugs', 'gang', 'facts', 'aliens', 'paint', 'nazi', 'newman', 'rape', 'formula', 'caprica', 'rangers', 'catholic', 'knowledge', 'latino', 'hugh', 'cheech', 'mass', 'rambo', 'dinosaur', 'hanzo', 'jackman', 'favourite', 'tears', 'kitty', 'foot', 'hanging', 'spoiled', 'clichéd', 'sitcom', 'fortunately', 'native', 'resolution', 'round', 'physical', 'tracy', 'desert', 'fit', 'laurel', 'amongst', 'imagination', 'ironically', 'strongly', 'graphic', 'workers', 'lacking', 'inept', 'million', 'listen', 'minor', 'disguise', 'africans', 'nude', 'combination', 'difference', 'hint', 'universal', 'torture', 'sucked', 'insult', 'gary', 'mission', 'remind', 'product', 'terrific', 'comparison', 'suppose', 'jail', 'possibility', 'asked', 'mr', 'proud', 'desire', 'insight', 'cost', 'flawed', 'combined', 'necessary', 'fail', 'consists', 'suspect', 'focuses', 'cop', 'loses', 'anthony', 'behavior', 'meeting', 'shock', 'committed', 'dig', 'suffers', 'succeeds', 'worthy', 'wedding', 'sat', 'prostitute', 'ellen', 'anna', 'damn', 'enter', 'flicks', '40', 'plant', 'promise', '1980s', 'warm', 'visually', 'satisfying', 'miserably', 'clichés', 'correct', 'endearing', 'opens', 'bet', 'pair', 'independent', 'appropriate', 'tim', 'substance', 'talents', 'aka', 'competent', 'winner', '#', 'teenagers', 'destined', 'drawn', 'results', 'unfortunate', 'delivered', 'relate', 'views', 'gundam', 'contain', 'philosophy', 'visuals', 'craft', 'mixed', 'nasty', 'comical', 'spielberg', 'glory', 'wall', 'fu', 'kick', 'sticks', 'viewed', 'stone', '11', 'training', 'held', 'interviews', 'psychological', 'relation', 'enjoying', 'rogers', 'recognize', 'lily', 'religion', 'chapter', 'unrealistic', 'ride', 'granted', 'handled', 'donald', 'trailers', 'bridge', 'generation', 'mankind', 'americans', 'yawn', 'd', 'rise', 'pity', 'sexually', 'spectacular', 'oil', 'gory', 'ice', 'sword', 'chest', 'topless', 'gags', 'dubbed', 'noticed', 'weapon', 'burned', 'obsessed', 'anne', 'lifetime', 'strength', 'quiet', 'visit', 'rocket', 'discover', 'nutcracker', 'fairy', 'renting', 'occasionally', 'celebrity', 'ultimate', 'treatment', 'choose', 'briefly', 'vietnam', 'favor', 'steals', 'north', 'los', 'remembered', 'core', 'heavily', 'che', 'spanish', 'exciting', 'chong', 'tall', 'flying', 'streep', '`', 'titanic', 'moag', 'gon', 'na', 'sits', 'daily', 'meanwhile', 'circumstances', 'rings', 'clara', 'giant', 'gordon', 'toy', 'tongue', 'invisible', 'endless', 'chief', 'magnificent', 'speech', 'technical', 'damon', 'weapons', 'reminded', 'bothered', 'rolling', 'hip', 'sleep', 'unknown', 'boris', 'karloff', 'holding', 'accident', 'offers', 'stayed', 'harris', 'european', 'graphics', 'hotel', 'environment', 'technically', 'beast', 'mid', 'handsome', 'lovable', 'nurse', 'painfully', 'prequel', 'asking', 'winter', 'description', 'fictional', 'whenever', 'believes', 'wonderfully', 'regular', 'depicted', 'affected', 'duty', 'honor', 'bruce', 'cage', 'thousand', 'twilight', 'required', 'mix', 'holes', 'network', 'mom', 'twisted', 'directs', 'lived', 'conversation', 'roll', 'forces', 'cavemen', 'race', 'keys', 'excited', 'san', 'lie', 'carol', 'seek', 'remotely', 'eating', 'celluloid', 'darkness', 'kim', 'pointed', 'everywhere', 'burke', 'adults', 'treated', 'united', 'europe', 'thoughts', 'passing', 'jessica', 'thomas', 'clean', 'passion', 'suited', 'theory', 'random', 'letter', 'describe', 'complain', 'page', 'eddie', 'india', 'loyalty', 'executed', 'foul', 'drink', 'breaks', 'hidden', 'constructed', 'saving', 'paper', 'drinking', 'backwards', 'comedic', 'vehicle', 'duvall', 'theatre', 'assume', 'gem', 'glenn', 'everyday', 'christina', 'develops', 'pilots', 'battles', 'carry', \"don't\", 'numbers', 'attempted', 'convinced', 'stupidity', 'beach', 'emperor', 'genuine', 'guessing', 'pal', 'doc', 'teens', 'simon', 'tragedy', 'academy', 'develop', 'judge', 'section', 'guard', 'fbi', 'private', 'calvin', 'california', 'crowd', 'shallow', 'nobody', 'test', 'albert', 'moon', 'rain', 'ancient', 'chosen', 'surfing', 'holds', 'deadly', 'defeat', 'elsewhere', 'rented', 'accents', 'included', 'tunes', 't', 'pre', 'whilst', 'australian', 'pop', 'harry', '1950s', 'gross', 'tight', 'claustrophobic', 'foster', 'believing', 'resembles', 'clark', 'actions', 'bomb', 'faithful', '3d', 'rachel', 'irish', 'sympathy', 'culkin', 'london', 'intriguing', 'adapted', 'killers', 'christopher', 'scared', 'cruise', 'retired', 'capable', 'g', 'soccer', 'steps', 'press', 'false', 'mildred', 'build', 'benjamin', 'anti', 'appreciated', 'gray', 'sea', 'harsh', 'jesus', 'buying', 'account', 'campbell', 'peace', 'dire', 'ai', 'luck', 'tommy', 'till', 'europeans', 'explains', 'emma', 'bar', 'shakespeare', 'bound', 'appearing', 'melting', 'gene', 'mitch', 'whites', 'meryl', 'alison', 'matrix', 'weather', 'azumi', 'bey', 'moores', 'raising', 'sayuri', 'chairman', 'bug', 'youth', 'starred', 'wear', 'stops', 'jackie', 'hang', 'regret', 'cliché', 'rights', 'mraovich', 'market', 'ensemble', 'tape', 'billy', 'skin', 'crappy', 'sequels', 'mexican', 'involves', 'eve', 'palace', 'visits', 'incidentally', 'routine', 'cameron', 'technology', 'machines', 'matt', 'quest', 'seeks', 'yesterday', 'inspiring', 'helped', 'sympathetic', 'genuinely', 'struggles', 'overlook', 'join', 'splendid', 'glimpse', 'attacked', 'ruin', 'partly', 'grandfather', 'spirited', 'solely', '0', 'rip', 'warned', 'compelled', 'fat', 'frame', 'protagonist', 'spike', 'guessed', 'teacher', 'ignorance', 'successfully', 'bbc', 'murphy', 'couch', 'emphasis', 'queen', 'kline', 'jeffrey', 'bette', 'cares', 'rose', 'liners', 'president', 'featuring', 'dumb', 'laid', 'month', 'kralik', 'ludicrous', 'jimmy', 'driven', 'loss', 'bright', 'served', 'lips', 'surprises', 'finale', 'improbable', 'specific', 'comparisons', 'prime', 'plots', 'spite', 'sisters', 'babe', 'coal', 'lennon', 'involvement', 'bore', 'cutting', 'primarily', 'rooney', 'smart', 'allows', 'drives', 'todd', 'luckily', 'alright', 'flesh', 'conversations', 'existent', 'highlight', '1990', 'abuse', 'deeply', 'claimed', 'simpson', 'revealing', 'demille', 'argument', 'carries', 'flashback', 'cardboard', 'grant', 'experienced', 'tired', 'snl', 'dick', 'convey', 'parker', 'simplicity', 'frustrated', 'gunga', 'din', 'suck', 'beloved', 'energy', 'humans', 'racist', 'attacks', 'basis', 'explicit', 'novels', 'contemporary', 'draw', 'ominous', 'urban', 'attitude', 'chases', 'guts', 'dahmer', 'lion', 'projects', 'cousin', 'uk', 'productions', 'emotionally', 'category', 'innocence', 'el', 'meaningful', 'handed', 'belief', 'chewbacca', 'poster', 'hopes', 'proved', 'notice', 'plane', 'reunion', 'anymore', 'busy', 'learning', '2004', 'heston', '2001', 'rookie', 'twin', 'complicated', 'purple', 'sons', 'key', 'union', 'stanley', 'performed', 'respective', 'rainy', 'choreography', 'gotten', 'hype', 'fly', 'multi', 'stellar', 'influence', 'jungle', 'saturday', 'troops', 'temple', 'cameos', 'send', 'unintentionally', 'tense', 'remaining', 'embarrassing', 'failures', 'drug', 'freak', '80s', 'deaths', 'downright', 'supposedly', 'repeat', 'washed', 'ages', 'closely', 'reduced', 'intentionally', 'text', 'fill', 'relief', 'individual', 'hunt', 'remote', 'chilling', 'chick', 'ingrid', 'artificial', 'speed', 'locked', '1958', 'scare', 'afternoon', 'idiot', 'east', 'shining', 'btk', 'gina', 'audio', 'edward', 'initial', 'accurate', 'photographed', 'uninteresting', 'magazine', 'matthau', 'scientist', 'martians', 'destruction', 'serbs', 'documentaries', 'denzel', 'attempting', 'kung', 'bodies', 'hearts', 'redemption', 'hole', 'bonus', 'screaming', 'blind', 'shoot', 'football', 'mendes', 'medical', 'confusion', 'curly', 'nicholson', 'developing', 'shirley', 'area', 'rules', 'affair', 'bsg', 'includes', 'dentist', 'nightmare', 'picks', 'razor', 'cagney', 'obligatory', 'downhill', 'miyazaki', 'boyle', 'bonanza', 'whitaker', 'suitors', 'iii', 'grave', 'march', 'learned', 'critics', 'pictures', 'october', 'peckinpah', 'sidney', 'scripted', 'israel', 'dana', 'haunted', 'ninja', 'blanks', 'frodo', 'kazuhiro', 'kharis', 'sajani', 'colony', 'stooges', 'vader', 'nostalgia', 'grim', 'repeated', 'underrated', 'michelle', 'wwii', 'eric', 'yelling', 'conspiracy', 'grow', 'aging', 'awfully', 'active', 'thankfully', 'offensive', 'junk', 'piano', 'ought', 'crafted', 'survives', 'splatter', 'board', 'virtual', 'judging', 'satan', 'santa', 'court', '1974', '\\x85', 'antics', 'doll', 'nope', 'striking', 'contrast', 'laughably', 'ideal', 'relevant', 'lacked', 'slight', 'awe', 'nail', 'noticeable', 'considers', '45', 'hence', 'friendly', 'code', 'appealing', 'cities', 'alas', 'embarrassingly', 'stolen', 'rob', 'hungarian', 'definite', 'messed', 'surface', 'tradition', 'portraying', 'sally', 'celeste', 'wreck', 'awry', 'funnier', 'screenwriter', 'bank', 'jar', 'crude', 'alleged', 'matuschek', 'nine', 'hired', 'letters', 'passed', 'felix', 'abrupt', 'proving', 'broken', 'vivid', 'lucky', 'accomplish', 'mere', 'officer', 'neo', 'searching', 'zone', 'billed', 'countless', 'drawing', 'absence', 'helen', 'contrived', 'justify', 'detective', 'reveals', 'manage', 'confident', 'imagined', 'reaction', 'process', 'brooklyn', 'hood', 'answers', 'switches', 'jazz', 'adrian', 'francisco', 'park', 'spell', 'realizes', 'calling', 'z', 'internet', 'nuclear', 'gruesome', 'seeking', 'scripts', 'attract', 'refreshing', 'astonishing', 'paperhouse', 'experiencing', 'immensely', 'enjoys', 'viewings', 'bargain', 'entertained', 'sum', 'movements', 'absurd', 'structure', 'dated', 'threat', 'classics', 'witty', 'meadows', 'julie', 'worthless', 'centers', 'changing', 'pacino', 'greater', 'gratuitous', 'practically', 'corny', 'matters', 'heroes', 'arms', 'deputy', 'lower', 'breaking', 'ultra', 'angle', 'anita', 'caring', 'inevitable', 'involve', 'principle', 'investigate', 'push', 'recommendation', 'therefore', 'worry', 'shortly', 'mirror', 'burning', 'hearted', '60', 'exotic', 'express', 'horrific', 'memoirs', 'disagree', 'shoes', 'notch', 'react', 'individuals', 'armed', 'sides', 'suit', 'satisfy', 'dramas', 'horrors', 'discussing', 'fffc', 'irrelevant', 'nonsense', 'pseudo', 'uneven', 'tedious', 'lesson', 'revealed', 'disbelief', 'relatively', 'mindless', 'seat', 'beer', 'dawn', 'gypsy', 'ladder', 'traveling', 'hearing', 'steel', 'crimes', 'depressing', 'owners', 'metal', 'nose', 'flaw', 'gandhi', 'destiny', 'shed', 'stylized', 'stunt', 'joan', 'usa', 'strip', 'ford', 'grey', 'experiment', 'morris', 'disc', 'mtv', 'sports', 'hudson', 'solo', 'web', 'soft', 'repetitive', 'solve', 'remarkably', 'festival', 'thirty', 'bitter', 'raise', 'master', 'patient', 'occasional', 'creating', 'cabin', 'judd', 'broadcast', 'delightful', 'flair', 'alice', 'weekend', 'drugs', 'perform', 'shall', 'dornhelm', 'brendan', 'donnison', 'tarantino', 'properly', 'wake', 'nowadays', 'russia', 'hitchhiker', 'segment', 'elderly', 'dorothy', 'ratings', 'mormon', 'placed', 'conventions', 'irritating', 'kidnapped', 'nominated', 'designs', 'degree', 'patrick', 'adopted', 'meat', 'insulting', 'similarly', 'explosions', 'fed', 'seventies', 'mansion', 'jon', 'disconcerting', 'danger', 'hundreds', '1964', '1972', 'melodramatic', 'franco', 'daring', 'wallace', 'reb', 'identical', 'scifi', 'decisions', 'highest', 'selfish', 'failure', 'lincoln', 'health', 'recognizable', 'errors', 'reporter', 'stock', '1973', 'secondly', 'raider', 'tapes', 'adeline', 'enthusiasm', 'proof', 'ms', 'haig', 'research', 'unexpected', 'philip', 'letting', '1960', '1980', 'mcqueen', 'dan', 'performers', 'argue', 'clips', 'worlds', 'apply', 'disease', 'rural', 'narrator', 'precious', 'muslims', 'suffered', 'surrounding', 'woody', 'et', 'report', 'giallo', 'fabulous', 'pet', 'douglas', 'ian', 'dollars', 'costs', 'rooms', 'mountain', 'perdition', 'security', 'goers', 'phillip', 'exposed', 'tiresome', 'countries', 'bucks', 'widmark', 'reference', 'plans', 'blatantly', 'barbara', 'trilogy', 'reactor', 'warriors', 'shu', 'qi', 'bike', 'muertos', 'accepted', 'liz', 'oddly', 'der', 'excitement', 'divided', 'separated', 'failing', 'brilliantly', 'cents', 'smooth', 'uncle', 'misery', 'provoking', 'ewan', 'greatly', 'urge', 'clues', 'bears', 'jonathan', 'bands', 'fights', 'sheila', 'kyle', 'nel', 'mummy', 'navy', 'hag', 'bravo', 'attend', 'grendel', 'beowulf', 'embarrassed', 'troubled', 'reader', 'zhang', 'editor', 'dangerous', 'wolf', 'igor', 'miners', 'coalwood', 'rukh', 'radiation', 'scheme', 'carried', 'comics', 'hazing', 'rises', 'throws', 'sport', 'andré', 'mickey', 'overly', 'pixar', 'kibbutz', 'katsu', 'stereotypical', 'hackenstein', 'offside', 'gillian', 'elvira', 'roddy', 'thieves', 'osa', 'melissa', 'grasshoppers', 'johansson', 'leia', 'lanisha', 'acquired', 'blew', 'consistent', 'table', 'reads', 'newspaper', 'breakfast', 'insert', 'angel', 'faced', 'talks', 'basement', 'hates', 'complaint', 'pays', 'jamie', 'grab', 'loser', 'importance', 'r', 'dee', 'classes', 'static', 'brains', 'boom', 'kinda', 'related', '[', ']', 'st.', 'merry', 'sing', 'magician', 'amusingly', 'prone', 'delivery', 'program', 'guilty', 'passionate', 'reports', 'montage', '21st', '30s', 'staring', 'cheated', 'block', 'predecessors', 'weakest', 'complaints', 'julia', 'humanity', 'sean', 'transformed', 'pulse', 'knife', 'attached', 'holt', 'elephant', 'graveyard', 'shoots', 'wasting', 'largely', 'insane', 'poe', 'casper', 'borrowed', 'boogeyman', 'goofy', 'sounded', 'handful', 'h', 'm', 'improved', 'postcard', 'buster', 'combat', 'intentions', 'players', 'pulp', 'legends', 'romero', '1999', 'stereotypes', 'toilet', 'reluctant', 'cared', 'outcome', 'slapstick', 'center', 'discovering', 'shine', 'sorts', 'fisher', 'corpse', 'superhero', 'unfunny', 'root', 'overcome', 'carlito', 'corner', 'margaret', 'arrives', 'co.', 'opened', 'comeuppance', 'ambitious', 'snow', 'persona', 'c', 'underneath', 'creation', 'cash', 'filmmaker', 'goal', 'integrity', 'interestingly', 'liberal', 'tons', 'westerns', '1948', 'moody', 'specially', 'surreal', 'explaining', 'colour', 'transformation', 'element', 'significant', 'originality', '70s', 'earl', 'wacky', 'siblings', 'possibilities', 'blowing', 'jared', '1976', 'personalities', 'intimate', 'groups', 'undoubtedly', 'objective', 'alternate', 'listening', 'witnessed', 'ensues', 'manhattan', 'dawson', 'kane', 'ear', 'psychic', 'rampage', 'sounding', 'understatement', 'content', 'struck', 'finger', 'charlotte', 'owner', 'marc', 'interpretation', 'types', 'balls', 'idiotic', 'hardcore', 'biased', 'presents', 'jealousy', 'lights', 'mannered', 'performer', 'mrs.', 'accounts', 'wayne', 'pat', 'butt', 'tie', 'spin', 'clothing', 'paintings', 'previously', 'endure', 'whoever', 'captivating', 'monsters', 'honesty', 'rank', 'creatures', 'tanya', 'vengeance', 'amy', 'fingers', 'buddies', 'appropriately', 'technique', 'jet', 'closer', 'priest', 'fodder', 'fallen', 'desired', 'trial', 'baldwin', 'p.s.', 'tear', 'underground', 'civil', 'statements', 'calls', 'adding', 'rush', 'analysis', 'domino', 'causes', 'stages', 'suffering', 'escapes', 'chased', 'chasing', 'incompetent', 'mentally', 'odds', 'painted', 'lam', 'li', 'anytime', 'jerry', 'stealing', 'status', 'pole', 'swimming', 'bon', 'meaningless', 'curiosity', 'i.e.', 'aftermath', 'user', 'void', 'river', 'propaganda', 'captive', 'wondered', 'tortured', 'universe', 'politics', 'spoil', 'unfold', 'mobile', 'heaven', 'forest', 'romp', 'destroy', 'pretentious', 'paced', 'catchy', 'spoken', 'ebert', 'concerns', 'method', 'potter', 'immediate', 'lessons', 'designed', 'afterwards', 'slashers', 'clock', 'flacks', 'higher', 'destroying', 'button', 'sinister', 'disfigured', 'outrageous', 'acid', 'topic', '14', 'jr', 'stumbled', 'collective', 'landscape', 'jules', 'believed', 'smoke', 'fortier', 'superficial', 'roy', 'silver', 'sharp', 'trail', 'disappear', 'threatened', 'management', 'pun', 'dedicated', 'patients', 'portray', 'buff', 'disappoint', 'heights', 'matthew', 'debut', 'vote', 'payne', 'confrontation', 'sensitive', 'limit', 'blair', 'comfortable', 'atrocious', 'damsel', 'grasp', 'hide', 'illiterate', 'someday', 'revolution', 'u', 'shooter', 'iraq', 'malone', 'burn', 'warrior', 'dozens', 'miserable', 'aired', 'natasha', 'flashbacks', 'malcolm', 'blank', 'gripping', 'primary', 'baker', 'introduction', 'threw', 'scientists', 'criminal', 'phantom', 'convicted', 'lawyer', 'unconvincing', 'incarnation', 'behave', 'explosion', 'exist', 'paris', 'string', 'mildly', 'creep', 'trapped', 'checking', 'constant', 'displayed', 'mature', 'carefully', 'titled', 'expedition', 'salt', 'decades', 'stood', 'detailed', 'ran', 'careers', 'creates', 'print', 'crisp', 'sloppy', 'borrow', 'lands', 'expression', 'orders', 'cases', 'grows', 'generic', 'watchable', 'politician', 'secure', 'travel', 'principal', 'frightening', 'dose', 'scares', 'robin', 'secretary', 'awards', 'homosexual', 'dean', 'slaves', 'effectively', 'guards', 'gothic', 'erotic', 'translation', 'holiday', 'hoffman', 'florida', 'barry', 'strictly', 'bart', 'stale', 'whereas', 'ghosts', 'mistakes', 'indians', 'fought', 'led', 'flynn', 'meatball', 'industrial', 'infected', 'kicking', 'presumably', 'pulling', 'shoddy', 'narrated', 'picking', 'tied', 'ruthless', 'don', 'jeremy', 'domestic', 'romanian', 'sin', 'shocked', 'putting', 'france', 'gerard', 'cancer', 'popularity', 'spots', 'russ', 'stiff', 'dialogs', '2006', 'nation', 'service', 'multiple', 'prepared', 'relating', 'sleeping', 'asleep', 'peoples', 'remain', 'receive', 'supernatural', 'numbing', 'convince', 'h.', 'facial', 'prey', 'undead', 'independence', 'avoided', 'kinds', 'uninspired', 'photographer', 'qualities', 'praise', 'stanwyck', 'credibility', 'annoyed', 'blandings', 'muriel', 'loy', 'ho', 'cheaply', 'substitute', 'poetry', 'shades', 'per', 'doors', 'enjoyment', 'witness', 'listed', 'sentimental', 'daniel', 'elegant', 'china', 'waitress', 'needless', 'bullets', 'teeth', 'intense', 'cruel', 'sinatra', 'blow', 'conservative', 'hunting', 'fashioned', 'bo', 'succeeded', 'shouting', 'repeating', 'assault', 'mini', 'austen', 'kelly', 'disney', 'shell', 'acts', 'jumps', 'infamous', 'discovers', 'palma', 'peralta', 'screening', 'bashing', '25', 'covered', 'manga', 'psycho', 'occurred', 'breath', 'duc', 'dressing', 'captures', '98', 'apartments', 'duel', 'beats', 'masters', \"you're\", 'providing', 'part2', 'raised', 'germany', 'ginger', 'circus', 'rocks', 'studying', 'chamberlain', 'inhabitants', 'chair', 'blah', 'visiting', 'samurai', 'mayeda', 'diner', 'associated', 'ogre', 'ireland', 'term', 'weaker', 'saxon', 'reached', 'nasa', 'merit', 'opposed', '50s', 'courage', 'mcgregor', 'protée', 'suits', 'frosty', 'esther', 'edith', 'edie', 'yanos', 'fiery', 'halfway', 'commercial', 'hickam', 'rockets', 'introduces', 'journalist', 'importantly', 'dancy', 'alienate', 'pegg', 'blaise', 'misguided', 'summary', 'shadow', 'notable', 'noam', 'ashwar', 'tin', 'manipulated', 'reminds', 'bassenger', 'trek', 'valerie', 'troma', 'richardson', 'battlestar', 'amazed', 'lindy', 'leachman', 'data', 'tara', 'caan', 'ruby', 'laboratory', 'restored', 'darryl', 'aaron', 'iran', 'tolkien', 'fatal', 't.k.', 'sivan', 'sixteen', 'cécile', 'frost', 'johnsons', 'genova', 'partition', 'jedi', 'yoda', 'bless', 'veteran', 'promiscuous', 'donna', 'naive', 'oversexed', 'purely', 'hook', 'visconti', 'arrested', 'warped', 'synopsis', 'sleazy', 'miscast', 'mason', '60s', 'sunday', 'pleased', 'intact', 'realised', 'internal', 'campus', 'university', 'references', 'ah', 'hunted', 'suspenseful', 'obscure', 'garish', 'resemble', 'lonely', 'wrapped', 'trio', 'causing', 'juvenile', 'entering', 'godard', 'ruins', 'mistress', 'scientific', 'stirring', 'sir', 'futuristic', 'exists', 'quietly', 'latest', 'chain', 'silence', 'devoid', 'lions', 'crocodile', 'larger', 'costume', 'ears', 'wears', 'bikini', 'mountains', 'nearby', 'thick', 'stan', 'raven', 's.', 'edmond', 'controlled', 'billing', 'techniques', 'predecessor', 'discussion', 'eats', 'presentation', 'entry', 'mel', 'skirts', 'darker', 'cinematographer', 'ad', 'studies', 'dollar', 'burt', 'distributed', 'beliefs', 'legendary', 'ridiculously', 'indie', 'saves', 'employed', 'losing', 'entered', 'crisis', 'arrival', 'ego', 'croc', 'skit', 'robs', 'slap', 'reputation', '99', 'jay', 'forgets', 'spending', 'protagonists', 'cigarette', 'souls', 'minds', 'base', 'morgan', 'sidekick', 'joseph', 'subsequent', 'manager', 'dinner', 'closing', 'jealous', 'breakdown', 'lubitsch', 'hung', 'expense', 'merits', 'allowing', 'spectacle', 'conscience', 'betrayal', 'recorded', 'strikes', 'coincidences', 'confront', 'rod', 'deserted', 'gender', 'drag', 'appalling', 'plague', 'retirement', 'suspicious', 'construction', 'ambition', 'dreadfully', 'innovative', 'appearances', 'dysfunctional', 'mystical', '1956', 'convertible', 'turner', 'warner', 'acclaimed', 'temper', 'continue', 'agrees', 'othello', 'colman', 'winters', 'approached', 'mccartney', 'broke', 'storytelling', 'priceless', 'geniuses', 'realm', 'jonestown', 'profound', 'viva', 'videos', 'hackneyed', 'indulgent', 'format', 'max', 'cell', 'gallery', 'bearing', 'revelation', 'gradually', 'taxi', 'commit', 'stated', '1993', 'resembling', 'schlock', 'insipid', 'bold', 'basinger', 'guarantee', 'gangs', 'drawings', 'wishes', 'cherish', 'glass', '8th', 'fest', 'outfits', 'b.', 'crusade', 'alcohol', 'dress', 'pointing', 'victorian', 'thief', 'education', 'feminist', 'hiring', 'intellectual', 'wrenching', 'dry', 'ease', 'phelps', 'fired', 'wealth', 'luxury', 'ferrell', 'fault', 'host', 'dragged', 'boeing', 'warren', 'beatty', 'achieve', 'disturbed', 'pertinent', 'denial', 'lay', 'spends', 'motivated', 'imagery', 'exceptionally', 'thrilling', 'pie', 'liking', '19th', 'garris', 'neck', 'target', 'injured', 'lip', 'attraction', 'motives', 'menacing', 'vicious', 'ron', 'abilities', 'cheek', 'jarring', 'sentiment', 'uneducated', 'educated', 'hopkins', 'plaything', 'swedish', 'frontal', 'showcase', 'harvey', 'convoluted', 'fatty', 'psychiatrist', 'surgery', 'wonders', 'backs', 'ringo', 'watches', 'diane', 'raines', 'jolie', 'standout', 'thirteen', 'morbid', 'implication', 'realities', 'extended', 'pivotal', 'population', 'experimental', 'bernie', 'scale', 'fleet', 'realistically', 'anime', 'spelled', 'contact', 'routines', 'mild', 'flow', 'floating', 'disjointed', 'morse', 'penn', 'garner', 'orlando', 'seduce', 'garden', 'locale', 'breathing', 'thrills', 'paranoia', 'reasonable', 'informed', 'indiana', 'idiots', 'pants', 'noble', 'stretch', 'legs', 'joker', 'marty', 'abandoned', '13th', 'stress', 'deanna', 'bullying', 'marie', 'brutally', 'size', 'sammy', '1933', 'drew', 'dwelling', 'engine', 'expressions', 'chaos', 'miraculously', 'separate', 'similarities', 'devine', 'nolan', 'pioneers', 'kicks', 'heels', 'museum', 'figures', 'blames', 'dislike', 'legal', 'satire', 'dogma', 'poke', 'mcconaughey', 'doyle', 'visited', 'assigned', 'installment', '2007', 'del', 'writes', 'susan', 'charlie', 'suggests', 'traffic', 'programs', 'spiritual', 'southern', 'seldom', 'racial', 'skeptical', 'connections', 'lush', 'item', 'fonda', 'unable', 'worried', 'buildings', 'charge', 'steam', 'pitch', 'unrelated', 'concert', 'expert', 'premiere', 'rotten', 'mentions', 'buddy', 'barrel', 'bleak', 'arrogant', 'slimy', 'gathering', 'morals', 'lightweight', 'teach', 'meg', 'forgive', 'replay', 'wanna', 'study', 'puppy', 'firing', 'suspects', 'parody', 'maintain', 'corruption', 'burst', 'dealt', 'differences', 'nelson', 'stronger', 'enigmatic', 'rambling', 'alike', 'e', 'hong', 'kong', 'uncredited', 'carter', 'voyna', 'mir', '1968', 'screened', 'russians', 'epics', 'drawbacks', 'joined', 'losers', 'fits', 'justified', 'sophisticated', 'ridden', 'schaech', 'eastwood', 'salvage', 'anthology', 'outing', 'cringe', 'lively', 'raft', 'inane', 'ugh', 'mysteriously', 'ironic', 'occasion', 'exercise', 'conceived', 'intensity', 'contrary', 'weaves', 'bent', 'hopeless', 'excessive', 'hk', 'pushes', 'wave', 'fireworks', 'polish', 'fortune', 'identities', 'cleverly', 'steady', 'examples', 'robot', 'farm', 'henderson', 'promptly', 'owe', 'primitive', 'zoe', 'safe', 'breathtaking', 'producing', '1959', 'capote', 'organs', '20th', 'engage', 'pitt', 'chills', 'fourth', 'atmospheric', 'tracks', 'partner', 'forcing', 'shy', 'plight', 'skills', 'astronaut', 'settle', 'screenwriters', 'monkeys', 'tank', 'gas', 'louque', 'cambodia', 'gain', 'unrecognizable', 'classy', 'ranks', 'sturges', 'sappy', 'bush', 'grinch', 'con', 'promised', 'desperation', 'vincent', 'radar', 'saddles', 'controversial', 'vulgar', 'replaced', 'confederate', 'dancer', 'ha', 'continued', 'instantly', 'depiction', 'backdrop', 'flawless', 'benefit', 'staged', 'accomplished', 'oliver', 'lyrics', 'broadway', 'blues', 'houses', 'cup', 'overdone', 'automatic', 'explained', 'tessari', 'wire', 'qualifies', 'sudden', 'families', 'godfather', '1960s', 'occurs', 'beings', 'bare', 'ignorant', 'truthful', 'forwards', 'shared', 'blunt', 'polite', 'cruelty', 'dogs', 'choking', 'lollobrigida', 'stunts', 'charismatic', 'tulipe', 'masses', 'atlantis', 'empire', 'j.', 'commander', 'lloyd', 'aged', 'walter', 'physically', 'foolish', 'flop', 'critical', 'reagan', 'rapidly', 'pretends', 'inform', 'freddy', 'k', 'celebrated', 'balanchine', 'olivier', 'mouse', 'brad', 'leslie', 'nomination', 'staying', 'drop', 'aunt', 'prisoner', 'adaption', 'globe', 'rubber', 'display', 'encounters', 'conviction', 'yugoslavia', 'throwing', 'nazis', 'georgia', 'strangely', 'absurdity', 'nineties', 'inspector', 'matched', 'abusive', 'purchase', 'grin', 'voices', 'negatives', 'suave', 'path', 'typically', 'teaching', 'taught', 'dropped', 'decision', 'handle', 'executives', 'parnell', 'regarding', 'thread', 'wide', 'aforementioned', 'elevator', 'recognition', 'underdeveloped', 'headed', 'terrain', 'singer', 'chime', 'earned', 'chainsaw', 'grainy', 'unfolds', 'subtext', 'guilt', 'revolves', 'craig', 'loulou', 'berlin', 'hitler', 'secrets', 'returning', 'vets', 'vet', 'afford', 'tour', 'laura', 'encounter', 'natives', 'dreadful', 'crotch', 'wished', 'refined', '1936', 'clue', 'grotesque', 'nights', 'vice', 'ambiance', 'attracted', 'hairy', 'document', 'terrorist', 'darn', 'tune', 'eternity', 'invincible', 'corporate', 'streets', 'agents', 'microfiche', 'communist', 'unpleasant', 'gulfax', 'bigger', 'evans', 'fosters', 'rot', 'showdown', 'spades', 'repeatedly', 'pia', 'landscapes', 'suitable', 'lucy', 'samantha', 'orphanage', 'digital', 'harmony', 'aiming', 'jovi', 'vampiress', 'snake', 'beating', 'temptation', 'perception', 'ruth', 'label', 'beverly', 'hills', 'alan', 'cheating', 'wing', 'witnesses', 'keith', 'pleasures', 'sticking', 'clinton', 'jews', 'paying', 'limits', 'covers', 'covering', 'walls', 'renaissance', 'glaring', 'punch', 'disappeared', 'scores', 'colin', 'hoped', 'transfixed', 'hides', 'columns', 'cook', 'atrocity', 'pretense', 'bollywood', 'remarks', 'territory', 'pedro', 'clint', 'rebel', 'website', 'alongside', 'planning', 'sadistic', 'wretched', 'indication', 'darren', 'stinker', 'sold', 'corrupt', 'precisely', 'educational', 'shares', 'improve', 'lena', 'dub', 'gracie', '3rd', 'mental', 'directions', 'criticize', 'royal', 'katie', 'frequently', 'swept', 'waited', 'sirk', '1963', 'walks', 'refuse', 'vs.', 'eerie', 'scariest', 'enormous', 'affect', 'wardrobe', 'geico', 'lesbian', 'pernell', 'gunfights', 'hundred', 'dutch', 'calm', 'kay', 'fart', 'mates', 'excruciatingly', 'immature', 'sho', 'youthful', 'evidently', 'catalog', 'responsibility', 'rednecks', 'derek', 'ingredients', 'timeless', 'dare', 'omar', 'hop', 'poem', 'crown', 'innovation', 'wings', 'randomly', 'fifty', 'rick', 'breasts', 'likewise', 'ricci', 'sadness', 'returned', 'yimou', 'operation', 'smmf', 'quentin', 'dragon', 'punches', 'stir', 'lighthearted', 'snowman', 'choreographed', 'abysmal', 'minded', 'pitiful', 'fare', 'adequate', 'olga', 'mines', 'models', 'composed', 'frequent', 'tooth', 'directly', 'hat', 'sherry', 'murderer', 'touched', 'sunrise', 'supported', 'morgue', 'oates', 'saga', 'preferred', 'blooded', 'implausible', 'distant', 'violated', 'interview', 'coaster', 'equivalent', 'barney', 'claymation', 'meteor', 'egg', 'downbeat', 'wolves', 'foxes', 'bloom', 'heroic', 'lucienne', 'dozen', 'exceptions', 'habit', 'choices', 'vixen', 'gavin', 'meyer', 'credible', 'furthermore', 'fist', 'virtually', 'improvised', 'gummer', 'discovery', 'vaudeville', 'senile', 'sarah', ':)', 'asylum', 'hawke', 'determine', 'tulip', 'forth', 'keller', 'imitation', 'tremors', 'predict', 'saint', 'maher', 'capitalism', 'astro', 'irony', 'ueto', 'mockumentary', 'studs', 'gable', 'professor', '1930', 'bakshi', 'noll', 'region', 'nino', 'vicky', 'portrays', 'argonne', 'oak', 'ridge', 'corporation', 'league', 'royston', 'vasey', 'paquin', 'pg', 'satanic', 'stiller', 'hindus', 'flik', 'esp', 'sheeta', 'pains', 'lou', 'ghetto', 'hellborn', 'puerto', 'drummond', 'ifans', 'ebts', 'hazel', 'phil', 'darling', 'hmmm', 'rushes', 'neighbor', 'trees', 'circle', 'weirdo', 'rude', 'leo', 'peaceful', 'hysterical', 'cain', 'resulting', '1981', 'sensual', 'remakes', 'petty', 'innocently', 'shelf', 'bait', 'promote', 'assembled', 'posing', 'fields', 'transition', 'priests', 'profanity', 'rub', 'virus', 'demon', 'fx', 'marines', 'maker', 'apes', 'dimension', 'proceedings', 'claus', 'wackiness', 'reel', 'acquire', 'wizard', 'gained', 'excess', 'shenanigans', 'projected', 'counts', 'bay', 'nerves', 'walked', 'everytown', 'attacking', 'titles', 'redeemed', 'raymond', 'concludes', 'progress', 'severely', 'proudly', 'experts', 'amanda', 'peet', 'supremacy', 'tops', 'spotlight', 'chalk', 'greengrass', 'electric', 'generate', 'pierce', 'bean', 'regrets', 'resources', 'drags', 'ape', '1932', 'varied', 'tribes', 'forty', 'jaws', 'ivory', 'deathbed', 'maureen', 'mustache', 'tyler', 'marilyn', 'anger', 'rewarded', 'planned', 'collaboration', 'quarters', 'vollins', 'aid', 'edgar', 'recreate', 'mall', 'visible', 'blatant', 'stereotype', 'coleman', 'ditched', 'international', 'espionage', 'budapest', 'canadian', 'c-', 'inventive', 'heaton', 'parable', 'evident', 'betsy', 'notes', 'maturity', 'admiration', 'interactions', 'marginally', 'anderson', 'unaware', '1950', 'hilarity', 'forties', 'niece', 'craven', 'deaf', 'barnes', 'rid', 'delight', 'carrie', 'spoof', 'beg', 'resulted', 'sank', 'participating', 'porno', 'guzman', '1975', 'scenarios', 'contained', 'warming', 'clash', 'sell', 'bickering', 'pimp', 'du', 'righteous', 'promoted', 'position', 'hungary', 'realises', 'stormy', 'insults', 'nervous', '22', 'famously', 'dreamy', 'kudos', 'achievement', 'concentrate', 'bio', 'posters', 'b5', 'vaguely', 'greed', 'nicolas', 'hopper', 'correctly', 'labeled', 'timing', 'basketball', 'approaching', 'earnest', 'manipulative', 'seth', 'christine', 'cinderella', 'murderous', \"o'brien\", 'whit', 'pleasantly', 'lindsay', 'consequently', 'beatles', 'informative', 'counterparts', 'n', 'masterfully', 'requisite', 'dandy', 'defined', 'sincere', 'destructive', 'via', 'tackling', 'gecko', 'ripped', 'aimed', 'ta', 'hum', 'screwed', 'contractor', 'unhappy', 'entice', 'buscemi', 'kiss', 'rosario', 'coaxes', 'hurting', 'packs', 'insists', 'aim', 'mullet', 'goodbye', 'technological', 'advances', '500', 'clueless', 'housewife', 'dropping', 'lapses', 'jerk', 'toys', 'thrillers', 'helpless', 'reviewer', 'manipulating', 'affecting', 'hans', 'zimmer', 'elliot', 'brilliance', 'daisy', 'graves', '1922', 'recklessness', 'meighan', 'goodness', 'woeful', 'arm', 'chewing', 'excellence', 'attained', 'setup', 'schemes', 'shearer', 'cary', 'ward', 'gigolo', 'fiancée', 'bathroom', 'knock', 'essence', 'sponge', 'voyager', 'contract', 'janet', 'leigh', 'duds', 'pushing', 'buttons', 'signed', 'girlfriends', 'slept', 'guest', 'difficulty', 'triangle', 'casts', 'airport', 'madonna', 'nacho', 'smiling', 'afterward', 'ohio', 'nuances', 'ness', 'hindsight', 'powerfully', 'terrorism', 'goldblum', 'tendency', 'broad', 'stahl', 'finch', 'legion', 'camaraderie', 'sacrifice', 'sleepwalkers', 'carnage', 'hungry', 'amick', 'crush', 'adorable', 'bites', 'welcomed', 'stabs', 'bone', 'brady', 'crippled', 'dim', 'clive', 'barker', 'tobe', 'deranged', 'lick', 'demented', 'mouthed', 'neglect', 'gossip', 'celebration', 'undertext', 'prostitutes', 'object', 'backgrounds', 'cultural', 'jennifer', 'unlikable', 'un', 'horny', 'exploit', 'sleaze', 'undertones', 'tame', 'benefited', 'ya', 'abigail', 'greg', 'baptist', 'atheist', 'timothy', 'arbuckle', 'guaranteed', 'staff', 'paradise', 'shi', 'sue', 'loaded', 'token', 'nonetheless', 'requires', 'resorting', 'molly', 'autobiographical', '1949', 'ticket', 'exploring', 'deeper', 'medium', 'technicolor', 'preached', 'session', 'uncomfortable', 'thru', 'ourselves', 'zeon', 'secretly', 'pocket', 'sweeping', 'tragedies', 'devastating', 'conveys', 'closest', 'affects', 'proportions', 'guitar', 'freshman', 'rave', 'hallway', 'coupled', 'tea', 'mortensen', 'crawl', 'bronson', 'tricks', 'tango', 'learnt', 'suspension', 'yellow', 'bath', 'incidental', 'violin', 'convention', 'lucas', 'establishing', 'shoulder', 'bronze', 'accompanied', 'brave', 'panic', 'apologize', 'nerd', 'sporting', 'occur', 'switching', 'slaughter', 'factor', 'traumatic', 'alicia', 'christensen', 'balance', 'columbia', 'deathly', 'decidedly', 'slaughterhouse', 'obnoxious', '2009', 'bulk', 'seats', 'global', 'trials', 'slamming', 'trace', 'gaming', 'wtc', 'upper', 'casualty', 'risk', 'profiler', 'evaluate', 'prefer', 'cookie', 'canyon', 'pamela', 'collar', 'knockout', 'munster', 'wax', 'tritter', 'gruff', 'vindictiveness', 'authority', 'backdrops', 'skins', 'wesley', 'boothe', 'widow', 'remarkable', 'describes', 'leap', 'illness', 'organization', 'distress', 'laws', 'votes', 'inspirational', 'horses', 'shopping', 'verge', 'fragile', 'relaxed', 'furious', 'factory', '90s', 'pool', 'awhile', 'logo', 'copies', 'musician', 'tad', 'quotable', 'apollonia', 'stadium', 'cherry', 'featurette', 'stack', 'bacall', 'chops', 'hadley', 'emerging', 'widowed', 'bombs', 'dvds', 'homage', 'deemed', 'unimaginative', 'dubbing', 'italy', 'incident', 'brandon', 'pops', 'prisoners', 'coca', 'marching', 'flashing', 'begun', 'breast', 'foxx', 'comedian', 'notably', 'biz', 'cyborg', 'populated', 'demonic', 'blond', '18', 'masterpieces', 'deepest', 'sand', 'athletic', 'sharply', 'russell', 'morally', 'robbed', 'buzz', 'amateurs', 'irritated', '2nd', 'thailand', 'yankee', 'hank', 'beckinsale', 'walker', 'citizens', 'remembering', 'spoiling', 'narration', 'evokes', 'vividly', 'steer', 'foreigners', 'trashy', 'gornick', 'unbearably', 'dialogues', 'messages', 'glowing', 'speeches', 'avenger', 'platform', 'gooey', 'pressed', 'wealthy', 'inferior', 'characterization', 'andrew', 'thumbs', 'struggling', 'pushed', 'produce', 'professors', 'tap', 'ant', 'lds', 'smoked', 'punk', 'drunken', 'jerks', 'belong', 'readers', 'wholly', 'rapid', 'origins', 'e.g.', 'fever', 'flag', 'esque', 'sole', 'survivor', 'noises', 'climatic', 'neglected', 'sorcery', 'rampant', 'retarded', 'd-', 'sh!t', 'inventor', 'fluff', 'rendition', 'phenomenal', 'abound', 'photo', 'drums', 'insultingly', 'circles', 'bible', 'instance', 'complaining', 'developments', 'hints', 'gate', 'mercifully', 'silliness', 'truck', 'reactions', 'occasions', 'voiced', 'inspiration', 'shortcomings', 'virtuous', 'vonnegut', 'harrison', 'inadvertently', 'frozen', 'supportive', 'kansas', 'convicts', 'senses', 'blake', 'punishment', 'load', 'rejected', 'assistant', 'useful', 'observed', 'elliott', 'cape', 'terrifying', 'ties', 'harder', 'upset', 'burton', 'chimp', 'upside', 'threats', 'trained', 'concerning', 'switch', 'unbelievably', 'hypnotized', 'mabuse', 'testament', 'regain', 'compound', 'greyson', '1957', 'revolt', 'currently', 'bald', 'preston', 'healthy', 'christians', 'cu', 'creativity', 'mike', 'pursuit', 'hustler', 'dustin', 'survival', 'symbolic', 'sunshine', 'midnight', 'poignant', 'quote', 'mia', 'billions', 'notorious', 'blazing', 'carbon', 'von', 'assumed', 'edition', 'suspend', 'greedy', 'ashley', 'theaters', 'scrooge', 'stopped', 'buffalo', 'selling', 'porter', 'april', 'pardon', 'occupied', 'creator', 'textbook', 'duo', 'succeed', 'satisfied', 'subplot', 'outlandish', 'weaponry', 'mode', 'lit', 'rely', 'driveway', 'property', 'function', 'newport', 'abruptly', 'delon', 'pray', 'gunman', 'yarn', 'directorial', 'automatically', 'minimum', 'stomach', 'mac', 'shaped', 'kik', 'frustration', 'kiki', 'firstly', 'connect', 'announced', 'hometown', 'happily', 'philipe', 'farmer', 'hay', 'recruits', 'stepping', 'truffaut', 'admired', 'sings', 'previews', 'shrek', 'natured', 'rourke', 'dave', 'conditions', 'dreyfuss', 'incorrect', 'filler', 'draws', 'onstage', 'macaulay', 'discreet', 'distracting', '1986', 'cap', 'bert', 'baryshnikov', 'sofa', '---', 'hears', 'cole', 'sending', 'abc', 'lasted', 'favorites', 'jansen', 'delicate', 'bars', 'jails', 'damme', 'oldest', 'loads', 'framing', 'exploits', 'stopping', 'bullet', 'expects', 'coherent', 'g.', '1900', '1920s', 'noted', 'landmark', 'victory', 'curate', 'cheerful', 'increasingly', 'distorted', 'radical', 'represented', 'professionals', 'genocide', 'slovenians', 'slovenia', 'yna', 'outraged', 'accusations', 'vukovar', 'committing', 'ethnic', 'misleading', 'bosnian', 'borders', 'pro', 'sought', 'gut', 'respects', 'resolved', 'undeveloped', 'slack', '17', 'wet', 'swords', 'rider', 'thaw', 'robinson', 'deceased', 'fletcher', 'connected', 'minimal', 'lisa', 'stylish', 'trademarks', 'females', 'intention', 'asset', 'illogical', 'recognized', 'benny', 'myrna', 'marshall', 'connecticut', 'supply', 'grip', 'ham', 'distinct', 'hinted', 'bunker', 'ammo', 'varying', 'silently', 'faster', 'sickness', 'defend', 'passes', 'translated', 'continuously', 'gaps', 'brando', 'shaky', 'bones', 'interludes', 'padding', 'sympathize', 'hilariously', 'summed', 'gangsters', 'miller', 'crossing', 'criticism', 'sullivan', 'colored', 'reflect', 'doubts', 'nolte', 'specifically', 'persons', 'despair', 'compares', 'tacky', 'delves', 'sync', 'mentality', 'regardless', 'healing', 'official', 'deserving', 'abducted', 'kidnappers', 'inhabited', 'sacrifices', 'ransom', 'fog', 'bondage', 'pale', 'impudent', 'steiner', 'francis', 'induce', 'slut', 'lure', 'phillips', 'realizing', 'outdated', 'fiend', 'commentator', 'continent', 'nymphomaniac', 'holmes', 'ball', '1979', 'stalking', 'hers', 'perspectives', 'ragged', 'edges', 'illustrate', 'cops', 'department', 'kubrick', 'ingenious', 'beneath', 'sparse', 'mocking', 'agency', 'provoke', 'lately', 'chavez', 'manipulate', 'peters', 'maggie', 'understandable', 'subjected', 'prospect', 'illustrious', 'glued', 'anticipated', 'boils', 'youtube', 'pearl', 'melt', 'rough', 'germs', 'malaria', 'eager', 'marxist', 'decapitated', 'chan', 'remove', 'emerge', 'elementary', 'explosive', 'reward', 'leather', 'transparent', 'zoey', 'slim', 'farther', 'obsessive', 'rage', 'catholics', 'helicopter', 'stranger', 'blade', 'inappropriate', 'stacy', 'county', 'captivated', 'thoughtful', 'om', 'portions', 'topics', 'precise', 'pathos', 'lane', 'mount', 'storm', 'assassination', 'servant', 'cable', 'farce', 'switzerland', 'recording', 'doomed', 'nuns', 'bacon', 'moronic', 'owen', 'gladys', 'griffith', 'patience', 'swear', 'leaning', 'refers', 'shook', 'relic', 'misconceptions', 'inevitably', 'representation', 'episodic', 'helpful', 'telescope', 'illustrated', 'summarize', 'plastic', 'bedroom', 'releases', 'edgy', 'examined', 'lawrence', 'yuma', 'alternately', 'replacement', 'adams', 'misses', 'credited', 'equipment', 'storyboard', '1940s', 'ollie', 'parallel', 'rear', 'noise', 'casino', 'michell', 'reid', 'rosie', 'che(2008', 'task', 'challenge', 'stratton', 'australia', 'peasants', 'part1', 'outlook', 'deltoro', 'excruciating', 'latinos', 'societies', 'booth', 'weakness', 'mechanics', 'unforgettable', 'quaint', 'swell', 'beek', 'literal', 'funhouse', 'ocean', 'lili', '1930s', 'dictator', 'versa', 'household', 'exceptional', 'friendships', 'snap', 'glenda', 'displays', 'christie', 'smaller', 'patsy', 'filling', 'misunderstandings', 'judgmental', 'fitting', 'rounding', 'rats', 'bumbling', 'crain', 'companion', 'drift', 'sprinkled', 'aborigines', 'oppressive', 'practice', 'huh', 'amazingly', 'lara', 'col', 'lends', 'stinks', 'association', 'hiding', 'faust', 'blocker', 'hoss', 'patriarch', 'unfair', 'conductor', 'devoted', 'comforting', 'naval', 'explanations', 'hostel', 'contextual', 'referred', 'hotter', 'speaks', 'feminine', 'sentences', 'highlights', 'semblance', 'stacking', 'wildly', 'kisses', '=', 'deliverance', 'rhys', 'eastern', 'acceptance', 'roommates', 'accessible', 'moonstruck', 'apology', 'ira', 'protestant', 'disgust', 'cards', 'denying', 'disappears', 'voyage', 'principals', 'bravado', 'relations', 'tribute', 'vacation', 'plantation', 'christ', 'tuned', 'suggestion', 'dash', 'split', 'wore', 'issue', 'brand', 'originally', 'recover', 'heat', 'dances', 'deck', 'horrendous', 'demme', 'mst3', 'linked', 'driver', 'mae', 'arcane', 'filmmaking', 'article', '1990s', 'contemplating', 'drops', '1.5hrs', 'cuba', 'nephew', 'heartfelt', 'reese', 'rightly', 'superman', 'conveying', 'range', 'asian', 'subpar', 'crack', 'menace', 'achieved', 'knightly', 'guinea', 'pig', 'receives', 'testing', 'cafeteria', 'thoughtlessness', 'colonialism', '35', 'segments', 'shape', 'beales', 'exploitative', 'condition', 'criterion', 'hire', 'pursued', 'werewolf', 'stumbles', 'preposterous', 'neatly', 'challenges', 'codes', 'civilization', 'motions', \"o'dell\", 'replies', 'nerdy', 'riley', 'encourages', 'attenborough', 'penelope', 'sandrich', 'depression', 'sailor', 'bake', 'enjoyably', 'brunette', 'meteorite', 'drake', 'colbert', 'vanilla', 'comprised', 'enlightened', 'mariner', 'angeles', 'prohibition', 'diplomat', 'undermine', 'trade', 'upcoming', 'patterns', 'peak', 'bridges', 'dude', 'cringeworthy', 'pullman', 'hailed', 'enterprise', 'riveting', 'travesty', 'hines', 'sellers', 'screw', 'millionaire', 'buffs', 'coma', 'citizen', 'countryside', 'mushrooms', 'shake', 'admirable', 'males', 'rockwell', 'tidy', 'ish', 'mournful', 'penguins', 'titular', 'indulge', 'disturb', 'stabbing', 'wes', 'della', 'miracle', \"'em\", 'reaching', 'assassin', 'ashamed', 'chronicles', '1971', 'qualified', 'understood', 'harold', 'priyadarshan', 'briggs', 'pack', 'yours', 'vain', 'dish', 'thugs', 'cartoons', 'stumbling', 'crying', 'lowe', 'arnie', 'aquatic', 'oklahoma', 'wakes', 'rebar', 'burr', 'debenning', 'boobs', 'coast', 'louise', 'cries', 'affection', 'expose', 'q', 'gettaway', 'winstone', 'jeepers', 'creepers', 'ads', 'generous', 'telly', '1996', 'distance', 'walken', 'neat', 'hating', 'dolls', 'triumph', 'actuality', 'hallan', 'practical', 'koltai', 'sentimentality', 'mothers', 'eileen', 'atkins', 'woven', 'helmer', 'grudge', 'balcony', 'gellar', 'asia', 'hokey', 'nagra', 'reloaded', 'thereof', 'heartbreaking', 'ethan', 'cloris', 'valuable', 'surprising', 'sibrel', 'undermines', 'combine', 'romances', 'barrymore', 'cartouche', 'clair', 'comparable', 'threatening', 'fitzgerald', 'faults', 'nicholas', 'lopez', 'significantly', 'fling', 'thunderbird', 'sore', 'hunters', 'stein', 'patriotic', 'demands', 'worrying', 'powell', 'pregnant', 'grass', 'elite', 'locken', 'brotherhood', 'sterling', 'clumsy', 'arrive', 'auction', 'adoption', 'rooted', 'sins', 'boredom', 'sparks', 'gosha', 'pride', 'breed', 'alarm', 'heist', 'lumet', 'marisa', 'spells', 'dumber', 'goyôkiba', 'harlow', 'digger', 'climb', 'seduced', 'upbringing', 'frightened', 'declare', 'spice', 'millions', 'defense', 'sneak', 'pen', 'preparing', 'commando', 'accepts', 'decline', 'explores', 'sesame', 'useless', 'threads', 'frankie', 'hamilton', 'surfer', 'kicked', 'cajuns', 'capacity', 'rains', 'presume', 'bowl', 'daddy', 'sollett', 'tighter', 'parade', 'cusack', 'duff', 'landed', 'tastes', 'moms', 'dagger', 'kitten', 'chicago', 'zinn', 'archives', 'tubbs', 'portuguese', 'compliment', 'safari', 'e.', 'exaggeration', 'wayan', 'graham', 'conventional', 'congorilla', 'yada', 'kolchack', 'mariscal', 'infierno', 'baron', 'vs', 'mameha', 'patron', 'shaved', 'pakistan', 'prevalent', 'closed', 'scoop', 'filmography', 'spatial', 'thematics', 'lift', 'shrine', 'lupino', 'mandy', 'r2', 'c3po', 'chewie', 'gather', 'texans', 'pazu', 'rumors', 'fuzzy', 'rehearsal', 'penguin', 'clerics', 'fontaine', 'gambling', 'hodiak', 'pintilie', 'algy', 'fiennes', 'monstervision', 'prices', 'rates', 'britain', 'wins', 'tyrannical', 'skinny', 'placing', 'kindly', 'ritual', 'disco', 'kelso', 'cheerleader', 'foreigner', 'joking', 'noticing', 'bite', 'prospective', 'calamai', 'girotti', 'sensibilities', 'anyhow', 'definitive', 'praised', 'dime', 'file', 'angered', 'exceedingly', 'package', 'gabel', 'rack', 'irresponsible', 'nakedness', 'purposely', 'bolton', 'fuss', 'schmaltzy', 'constitutional', '79', 'vcr', 'maxwell', 'scoggins', 'cinemax', 'spaceship', 'intruder', 'ariel', 'fantasies', 'padded', 'innuendo', 'muster', 'bang', 'cardona', '1969', '1977', 'murray', 'virtue', 'reds', 'essential', 'nutshell', 'celestial', 'accompanying', 'famed', 'hopping', 'mumbling', 'gibberish', 'render', 'anachronistic', 'dracula', 'pad', 'horned', 'mischief', 'exiting', 'hmm', 'strokes', 'contempt', 'outsiders', 'planes', 'height', 'prediction', 'marred', 'expressionist', 'seductive', 'barbarism', 'elevated', 'aircraft', 'massey', 'expressed', 'dragnet', 'commitment', 'ingenuity', 'fronts', 'assassins', 'psyched', 'link', 'authorities', 'boggling', '150', 'robots', 'headquarters', 'camcorder', 'stiles', 'signature', 'reserve', 'interpol', 'poignancy', 'longing', 'brosnan', 'screams', 'smallest', 'forge', 'tempted', 'karma', 'intercourse', 'spins', 'elephants', 'distinction', 'fellows', 'underwater', 'flickering', 'glimpses', 'weismuller', 'swim', 'loincloth', 'bats', 'vendetta', 'whiny', 'ski', 'guru', 'engaged', 'samuel', 'enlists', 'bateman', 'shifts', 'shift', 'ranked', 'inexplicably', 'fanatic', 'cried', 'careless', 'mish', 'mash', 'pasting', 'labor', 'swearing', 'donuts', 'legitimate', 'harlequin', 'canada', 'ummmph', 'proclaim', 'ps', 'foreground', 'adjust', 'myth', 'flatly', 'basics', 'inconsistent', 'kramer', 'cliff', 'flushed', 'mysticism', 'astonishingly', 'dignity', 'purposes', 'margo', 'happiness', 'vulnerable', 'misadventures', 'cori', 'ensuing', 'mute', 'downey', 'cathy', 'montana', 'happenstance', 'goldberg', 'confidant', 'nails', 'doctors', '1982', 'farting', 'eaten', 'vince', 'rhymer', 'rotting', 'olds', 'scientologists', 'repellent', 'nicest', 'hernandez', 'luis', 'sweetest', 'oddest', 'innate', 'novak', 'sullavan', 'auspicious', 'meetings', 'plotline', 'expertly', 'fatherly', 'hugo', 'pirovitch', 'bressart', 'errand', 'unpretentious', 'lovebirds', 'fledged', 'boyish', 'equate', 'sincerity', 'fares', 'meek', 'loyal', 'wallet', 'lavish', 'meticulous', \"you've\", 'mail', 'detract', 'harm', 'impeccable', 'layers', 'peel', 'reflection', 'staggering', 'elude', 'characteristics', 'declaration', 'devotion', 'peck', 'fearless', 'tempered', 'ordered', 'babylon', '1940', 'madre', 'ranges', 'dwight', 'yoakam', 'ordinarily', 'intervenes', 'grips', 'nightmarish', 'disguised', 'postscript', 'golf', 'confined', '24', 'distinguishes', 'emoting', 'formulaic', 'inherit', 'heiress', 'thrilled', 'thursday', 'cadillac', 'stepmother', 'waters', 'isle', 'cukor', 'distinctive', 'ronald', 'deed', 'faultless', 'collins', 'sawyer', 'bissell', 'fascination', 'quinn', 'hogg', 'biography', 'stardom', 'giants', 'messy', 'abundance', 'minimally', 'admission', 'album', 'warhols', 'exploration', 'volatile', 'exceeded', 'prejudice', 'midget', 'caveman', 'resorted', 'insurance', 'laughlin', 'vivah', 'kapoor', 'tivo', 'yorkers', 'ronde', 'peeing', 'aroused', 'roof', 'confesses', 'praises', 'promises', 'groin', 'smitten', '1000', 'lunch', 'bench', 'shtick', 'tomorrow', 'arriving', 'rolls', 'untrue', 'redneck', 'blast', '93', 'jaw', 'racially', 'diverse', 'balanced', 'sadism', 'tormentors', 'phrase', 'connecting', 'cd', 'puzzle', 'spiers', 'hammy', 'exhilarating', 'classroom', 'arthouse', 'invite', 'absorb', 'savor', 'strike', 'bins', 'wondrous', 'shameful', 'suspicions', 'duke', 'denver', 'cecil', 'decadent', 'regeneration', 'district', 'attorney', 'skill', 'piles', 'furs', 'gesturing', 'twitching', 'enlivened', 'lois', 'naturally', 'tearful', 'moralizing', 'card', 'moralistic', 'drones', 'stance', 'rome', 'unknowing', 'archaic', 'placement', 'handling', 'voted', 'penal', '1942', 'divorce', 'eventual', 'separation', 'estranged', 'divorced', 'husbands', 'colorless', 'sanders', 'pose', 'furniture', 'sexiness', 'fires', 'irving', 'miniver', 'mega', 'mrs', 'burnt', 'altogether', '40s', 'dud', 'tattoo', 'mannerisms', 'diaz', 'offs', 'hijack', 'improvement', 'airplane', 'flight', 'vigalondo', 'min', 'fay', 'continuation', 'outright', 'pleasing', 'decently', 'psychotic', 'shootings', 'respecting', 'marketed', 'penis', 'floors', 'january', 'bearer', 'extend', 'abiding', 'attain', 'credentials', 'willingness', 'passionately', 'mayhem', 'nomadic', 'sights', 'surrender', 'suspecting', 'charmer', 'virgins', 'feeding', 'mama', 'krige', 'mädchen', 'displaying', 'bitch', 'wipes', 'corn', 'unconscious', 'tosses', 'stabbed', 'fence', 'cats', 'hooper', 'officers', 'photograph', 'complexity', 'overdrive', 'prejudices', 'grievances', 'superiority', 'overweight', 'languages', 'funded', 'eyebrow', 'forehead', 'meal', 'appallingly', 'exaggerations', 'behaviour', 'customs', 'thinly', 'veiled', 'incest', 'heavier', 'subway', 'crazed', 'terrorists', 'uber', 'ascribe', 'islam', 'interviewing', 'christianity', 'sirhan', 'scenario', 'existential', 'yourselves', 'cope', 'cure', 'awakens', '200', 'contemporaries', 'raiders', 'ark', 'bruckheimer', 'idealized', 'elusive', 'eleanor', 'angelina', 'giovanni', 'ribisi', 'wary', 'drivers', 'cinematographic', 'a+', 'cappy', 'checks', 'olivia', 'd`abo', 'unseen', 'wander', 'keen', 'goods', 'horse', 'confess', 'alec', 'discussions', 'wound', 'supports', 'apologizing', 'proclaims', 'inexcusable', 'fabrication', 'portrait', 'civilian', 'staples', 'ova', 'scattered', 'surpasses', 'craving', 'mandatory', 'preference', 'caucasian', 'instilling', 'impress', 'battlefield', 'funky', 'avenue', 'lynch', 'blended', 'dragging', 'stroke', 'unpredictable', 'admitted', 'overwhelming', 'virginity', 'cloak', 'psychedelic', 'kamikaze', 'laced', 'viggo', 'convict', 'ostensibly', 'inflection', 'dimensional', 'photogenic', 'prominently', 'veterans', 'turgid', 'wobbly', 'comfort', 'council', 'grants', 'measure', 'badness', 'baggy', 'furry', 'carpeting', 'deny', 'baths', 'raunchy', 'bergman', 'drugged', 'fortunate', 'jumped', 'legacy', 'abomination', 'archenemy', '_', 'sheet', 'ely', 'leaping', 'brick', 'blasting', 'pistol', 'smack', 'paramount', 'woke', 'printed', 'jocks', 'pranks', 'jester', 'represent', 'foes', 'blockbuster', 'glamour', 'f.', 'philipps', 'psyche', 'dramatics', 'aggression', 'comparing', 'snarling', 'charlton', 'mantegna', 'circumstance', 'significance', 'marks', 'consciousness', 'september', 'firefighter', 'arrived', 'collapsed', 'cameras', 'turmoil', 'phase', 'rubble', 'recreated', 'witnessing', 'safety', 'arguing', 'frazee', 'riders', 'sage', '~', 'strauss', 'reed', 'goodman', 'gwynne', 'sid', 'caesar', 'yvonne', 'carlo', 'herman', 'grandpa', 'terrorize', 'continuing', 'freeze', 'widely', 'tent', 'dust', 'requests', 'meiks', \"o'leary\", 'brazilian', 'mão', 'diabo', 'distributor', 'eight', 'brazil', 'harilal', 'chubby', 'aids', 'fears', 'reminding', 'strict', 'kidding', 'nonstop', 'asimov', 'rescued', 'afterthought', 'pondering', 'kinkade', \"o'clock\", 'banal', 'northwest', 'fishing', 'congested', 'insights', 'achieves', 'goals', 'posses', 'waterbury', 'collectors', 'mainstream', '2003', 'stream', 'screens', 'novelty', 'sherriff', 'intrigued', 'nondescript', 'inadequate', 'muttering', 'narcissistic', 'barring', 'clarence', 'bird', 'loren', 'columbine', 'diary', 'pipe', 'mclaglen', 'skywalker', 'r2-d2', 'raj', 'kissing', 'matinee', 'greeted', 'unwatchable', 'contest', 'exploding', 'reeks', 'adored', 'avengers', 'idol', 'tracking', 'kruger', 'horrifying', '2000', 'lovingly', 'ricky', 'toothless', 'fathers', 'teams', 'epps', 'pert', 'blink', 'netflix', 'litter', 'housekeeper', 'misplaced', 'props', 'contributing', 'exchange', 'antonioni', 'distraction', 'alienation', 'materialism', 'goldsworthy', 'expressing', 'fundamentally', 'gentle', 'inability', 'outdoors', 'gift', 'visions', 'utmost', 'wandering', 'disgraceful', 'sequal', 'w', 'sarcasm', 'saddest', 'reservations', 'ideally', 'imaginable', 'rivals', 'excellently', 'denouement', 'i.q.', 'dreamgirls', 'glorified', 'portion', 'momentum', 'formless', 'condon', 'caliber', 'grease', 'graduation', 'darlene', 'busted', 'smuggling', '33', 'endings', 'owning', 'beckinsales', ';)', 'brokedown', 'bezukhov', 'lean', 'scarecrow', 'insomnia', 'bolkonsky', 'unimpressive', 'turd', 'exaggerated', 'uncomfortably', 'flowing', 'dramatically', 'salary', 'deteriorated', 'extent', 'ours', 'homophobic', 'pretending', 'kissed', 'perfection', 'brushes', 'loosely', 'woodenhead', 'avenge', 'waffle', 'touchy', 'overbearing', 'suitably', 'factors', 'headache', 'grisly', 'commendably', 'lock', 'smoking', 'heading', 'lurking', 'afoul', 'spiteful', 'nobodies', 'alarming', 'chords', 'onwards', 'endlessly', 'courtesy', 'shia', 'encourage', 'j.p.', 'heavenly', 'knox', 'danny', 'glover', 'pitcher', 'strays', 'landon', 'drilling', 'threatens', 'utah', 'stare', 'catered', 'mormons', 'borderline', 'unbearable', 'sewn', 'tolerance', 'wounds', 'clyde', 'flashy', 'stereotyped', 'dishonest', 'chooses', 'whining', 'kings', 'victimized', 'rescues', 'banality', 'lucio', 'fulci', 'charisma', 'illiteracy', 'tool', 'toned', 'swallow', 'thompson', 'dodgy', 'dern', 'calendar', 'tripod', 'sufficient', 'lensman', 'kiddie', 'harvester', 'unharvested', 'dumping', 'silage', 'crops', 'grain', 'lifted', 'plunges', 'shrieks', 'shout', 'd.j.', 'graffiti', 'exploded', 'emphasizes', 'naïve', 'outline', 'showtime', 'rendered', 'tripe', 'fixing', 'hepburn', 'gilbert', 'artifacts', 'vault', 'walmart', 'ashes', 'amid', 'palm', 'vermont', 'estate', 'perry', 'drove', 'quincy', 'capital', 'nominees', 'raises', 'standpoint', 'homo', 'eroticism', 'interaction', 'audiard', 'ignored', 'progressively', 'gesture', 'spooky', 'marsden', 'speedman', 'challenging', 'apathetic', 'momentarily', 'smacks', 'pretension', 'soapy', 'concern', 'muscle', 'plausible', 'wahlberg', 'chuck', 'metaphorically', 'fiasco', 'likelihood', 'simultaneously', 'knuckle', 'preparation', 'jagger', 'hairdo', 'announces', 'engagement', '3000', 'zombification', 'agar', 'embraces', 'artistry', 'formed', 'borrows', 'madge', 'madeline', '1943', 'rainbow', '1988', '28', '2002', 'bottle', 'translate', 'dilemma', 'curse', 'nations', 'nu', 'ler', 'maintaining', 'delirious', 'intrinsic', 'inhabits', 'alternative', 'voigt', 'foremost', 'gritty', 'cowboy', 'm*a*s*h', 'jordan', 'bros.', 'trivia', 'introduce', 'crouse', 'illinois', 'townsfolk', 'aplenty', 'uncaring', 'drone', 'applauded', 'scripting', 'c.', 'hickok', 'a.', 'virginia', 'errol', 'request', 'presidency', 'pope', 'monroe', 'yamamoto', 'commenting', 'homicidal', 'transform', 'amemiya', 'necroborgs', 'stunningly', 'usage', 'transforms', 'iron', 'satirical', 'shamefully', 'migenes', 'adaptations', 'gestures', 'psychobabble', 'parked', 'tree', 'zoom', 'chrysler', 'dozed', 'alain', 'swift', 'laconic', 'refused', 'retire', 'bury', 'hatchet', 'automobile', 'yard', 'crushed', 'compositions', 'competently', 'ax', 'claiming', 'selected', 'unsettling', 'sumpter', 'pan', 'issued', 'sentence', 'paychecks', 'sandu', 'tudor', 'piercing', 'stardust', 'eleven', 'wichita', 'anal', 'confession', 'confessed', 'methods', 'indulged', 'recreation', 'corpses', 'regiment', 'uniform', 'recruiting', 'sergeant', 'charges', 'pompadour', 'blouses', 'irreverent', 'rogue', 'swordfights', 'roofs', 'joyous', 'optimistic', 'iconic', 'francois', 'pages', 'graceful', 'dreamed', 'sworn', 'luc', 'detest', 'targets', 'pointlessness', 'angst', 'cineastes', 'brag', 'maverick', 'claudia', 'helga', 'sinclair', 'detectives', 'hid', 'formidable', 'hatred', 'huston', 'tamblyn', 'farrel', 'slackers', 'respectively', 'exam', 'unlikeable', 'schwartzman', 'ram', 'stunned', 'leadership', 'begs', 'namely', 'travels', 'rituals', 'verdict', 'elm', 'norm', 'playboy', 'jilted', 'uniformly', 'raw', 'disdain', 'atlanta', 'assure', 'rendering', 'laurence', 'overrated', 'drosselmeyer', 'unsophisticated', 'relish', 'wig', 'amateurishly', 'haley', 'sugar', 'plum', 'additional', 'tchaikovsky', 'loathe', 'terry', 'willis', 'prevent', '1995', 'harmless', 'stowe', 'cheering', 'zelda', 'trinity', 'youngest', 'betrayed', 'deciding', 'koteas', 'roots', 'realization', 'prolonged', 'neil', 'ross', 'cheaper', 'entertainers', 'instant', 'lifeless', 'knocked', 'milk', 'pointlessly', 'fruitless', 'denmark', 'carnosaurs', 'dinosaurs', 'commandos', 'invented', '2005', 'positively', 'seminal', 'literature', 'catching', 'immunity', 'widescreen', 'lengths', 'sepia', 'variations', 'martian', 'resist', 'dwell', 'affliction', 'senseless', 'insufferable', 'lasts', 'builds', 'hunky', 'kaufman', 'w.', 'bernard', 'competitors', 'hallucinations', 'fascinated', 'interviewed', 'accused', 'croatia', 'serbia', 'conflicts', 'mentioning', 'seattle', 'civilians', 'yugoslav', 'holocaust', 'bombed', 'muslim', 'macedonians', 'radicals', 'understands', 'neutral', 'vile', 'befriends', 'spread', 'rivers', 'aesthetic', 'legally', 'disorganized', 'primed', 'molested', 'dudley', 'compromise', 'awesomely', 'nagging', 'pier', 'impeccably', 'horseback', 'chopped', 'imprisoned', 'similarity', 'spouts', 'veers', 'traumatised', 'shoulders', 'wrongs', 'hardened', 'irs', 'frustrations', 'unravel', 'cheapest', '-vessel', 'poop', 'envy', 'questioning', 'artistically', 'roberts', 'scorpion', 'tail', 'martino', 'argento', \"'cause\", 'murderers', 'hilton', 'modine', 'sematary', 'toddler', 'gage', 'cemetery', 'differs', 'sickening', 'hounds', 'shocker', 'difficulties', 'moss', 'hart', 'shelly', 'pit', 'err', 'corners', 'connie', 'advertising', 'executive', 'financial', 'gung', 'heed', 'buys', 'dealer', 'sucking', 'zis', 'architect', 'reginald', 'escalating', 'appointed', 'wham', 'spam', 'pink', 'jacket', 'attentions', 'blameless', 'forgetting', 'mishaps', 'shade', 'stealth', 'rounded', 'leaders', 'creators', 'helping', 'gunshots', 'stab', 'alluded', 'artillery', 'predator', 'amounts', 'fiends', 'shut', 'hallways', 'warmth', 'spawned', 'vertical', 'jumping', 'paulsen', 'luxurious', 'rushton', 'crashes', 'passage', 'starship', 'sara', 'implications', 'marlon', 'subconscious', 'decorated', 'epilepsy', 'decoration', 'sanity', 'putrid', 'referring', 'unwisely', 'parking', 'redundant', 'bitching', 'incoherent', 'kit', 'indicate', 'fangoria', 'cake', 'getaway', 'delights', 'expensive', 'participate', 'wirtanen', 'regime', 'acknowledge', 'haunts', 'patriot', 'surrounds', 'se', 'wholeheartedly', 'horrid', \"i'm\", '23', 'unit', 'clunker', 'buchfellner', 'worship', 'lurks', 'murky', 'zooms', 'fisted', 'hurry', '1934', 'frivolous', 'cockney', 'unclear', 'shuddering', 'repetition', 'strongest', 'curiously', 'despises', 'masochistic', 'enslaved', 'champagne', 'hunchback', 'picnic', 'gorilla', 'visceral', 'kilmer', 'dylan', 'boogie', 'wonderland', 'nastiest', 'unharmed', 'steaming', 'garland', 'striesand', 'peaked', 'bogdanovich', 'gag', 'fur', 'chilly', 'styles', 'sweater', 'soil', 'b&w', 'goofs', 'performs', 'byplay', 'awaiting', 'polar', 'refrigerator', 'd.', 'spine', 'scatman', 'crothers', 'palance', 'exterior', 'physique', 'pattern', 'holster', 'shakespearian', 'regal', 'unwise', 'unnerving', 'reels', 'contradict', 'thorsen', 'manipulation', 'coups', 'marine', 'opposing', 'filter', 'economy', 'pockets', 'noses', 'traced', 'moe', 'thelma', 'ritter', 'coburn', 'lawman', 'describing', 'akin', 'vinny', 'liquid', 'afro', 'gossipy', 'family-', 'facility', 'housing', 'lumbering', 'humble', 'dv', 'newer', 'zulu', 'planted', '400', '10,000', 'conclude', 'rickety', 'theories', 'zadora', 'ineptly', 'soo', 'windshield', 'hbo', '1991', 'ruts', 'chi', 'haunt', 'unscathed', 'shone', 'moderate', 'eighties', 'agencies', 'attackers', 'vanished', 'blackmailed', 'tricked', 'glorious', 'defeated', 'favour', 'carpenter', 'dusk', 'dawn\"-audience', 'jover', 'avoiding', 'murnau', 'expressive', 'fills', 'oft', 'thespian', 'besotted', 'investigating', 'garson', 'blessed', 'gaining', 'mitchell', 'abuses', 'brooke', 'intricacies', 'bonaparte', 'mixture', 'marked', 'rebane', 'eccentric', 'incomprehensible', 'pornographic', 'dickinson', 'caine', 'admits', 'unfulfilled', 'suggested', 'intrusive', 'shower', 'dogtown', 'surfed', 'halla', 'bol', 'rang', 'basanti', 'mentor', 'santoshi', 'indulges', 'abortion', 'infidelity', 'juggling', 'imo', 'listener', 'beside', 'montgomery', 'hurts', 'es', 'einmal', 'das', 'reproduction', 'tasteful', 'coverage', 'oxygen', 'investment', 'pedestrian', 'plods', 'cadence', 'ceilings', 'impractical', 'marvellous', 'animators', 'explore', 'stylistic', 'sumptuous', 'graphically', 'farnham', 'cohorts', 'comeback', 'starry', 'belt', 'swapping', 'phoned', 'mcshane', 'farell', 'selma', 'hayek', '-and', 'worn', 'affleck', 'walthall', 'egan', 'kindness', 'd.w.', '13', 'graduates', 'finer', 'dancers', 'rohmer', 'aristocratic', 'emerges', 'staunch', 'assembly', 'equality', 'maid', 'justification', 'keenly', 'madness', 'existing', 'searched', 'servants', 'incapable', 'amply', 'indonesian', 'necessity', 'bowls', 'surge', 'shops', 'debuted', 'designer', 'tiny', 'challenged', 'premises', 'initiation', 'busby', 'scar', 'spaghetti', 'flavor', 'sanchez', 'cadavers', 'collect', 'exchanging', 'conniving', 'saloon', 'pepe', 'reasonably', 'henchman', 'anticipation', 'gunfight', 'retreat', 'consist', 'parties', 'cameraman', 'ti', 'sfx', 'roach', 'offered', 'rko', 'royale', 'davies', 'sydney', 'excuses', 'diabolical', 'biopic', 'chunks', 'unaccountably', 'imposing', 'ignoring', 'speakers', 'incongruous', 'basing', 'guevara', 'allotted', 'assignment', 'revolutionaries', 'telegraphed', 'castro', 'officials', 'cinemas', 'sorely', 'campaign', 'bolivia', 'travelogue', 'painting', 'interminable', 'shockingly', 'terminator', 'implausibility', 'strengthens', 'charley', 'wraps', 'lwr', 'racing', 'motorcycle', 'largest', 'burgi', 'cos', 'searing', 'mourning', 'schrader', 'doris', 'rosenstrasse', 'alert', 'gestapo', 'jewish', 'lohde', 'riemann', 'inhumanity', 'retelling', 'detracted', 'lighter', 'teaming', 'wodehouse', 'preview', 'missions', 'poverty', 'damita', 'brokeback', 'misogyny', 'arrow', 'cradled', 'tables', 'captors', 'businessman', 'metallica', 'wayside', 'arguments', 'easier', 'tails', 'thirties', 'masted', 'bates', 'i.', 'venturing', 'cunning', 'whimsy', 'longed', 'affluent', 'boyhood', 'womanizing', 'torch', 'lurch', 'trend', 'articles', 'changeling', 'inviting', 'invited', 'lab', 'remained', 'fancy', 'spill', 'beans', 'assumptions', 'tribal', 'uh', 'ambiguous', 'sums', 'argues', 'gargantuan', 'declares', 'polished', 'canceled', 'combines', 'outtakes', 'leg', 'descent', 'chad', 'fractured', 'sexuality', 'lorne', 'greene', 'replace', '1965', 'preachy', 'counter', 'hawaii', 'chances', 'officially', 'choir', 'jewel', 'd&d', 'airships', 'blimps', 'considerably', '5,000', 'fond', 'meanings', 'happier', 'default', 'fellini', 'bachelor', 'zealand', 'glances', 'condescending', 'aura', 'advised', 'ing', 'tones', 'vapid', 'indistinguishable', 'upstage', 'intrigue', 'gifts', 'caressing', 'winded', 'addressed', 'commend', 'staggeringly', 'magazines', 'bow', 'arguably', '17th', 'shogun', 'kosugi', 'tenchu', 'strife', 'pans', 'arises', 'birds', 'pretentiousness', 'defendants', 'intelligently', 'accented', 'memorized', 'distributors', 'intro', 'edits', 'amateur', 'accuracy', 'macho', 'cloney', 'pledge', 'stafford', 'heritage', 'agnostic', 'karl', 'flock', 'sheep', 'shattered', 'bailey', 'thee', 'chalice', 'embracing', 'shimmering', 'mecca', 'growth', 'confidence', 'assured', 'lifelong', 'impatient', 'toss', 'selection', 'appreciation', 'lunatic', 'yankees', 'drown', 'preacher', 'jezebel', 'disrobing', 'contests', 'wrought', 'greatness', 'error', 'roses', 'banks', 'siege', 'chastity', 'stacey', 'helmets', 'trivial', 'marina', 'hrothgar', 'facilitate', 'distract', 'encouraged', 'retain', 'shred', 'physics', 'artisans', 'unferth', 'astounding', 'timed', 'inherited', 'recessive', 'scratches', 'bleed', 'clinic', 'smell', 'coffee', 'scotch', 'sober', 'assist', 'sends', 'orbit', 'saturn', 'colonel', 'monty', 'python', 'peaks', 'consideration', 'wickedly', 'degrees', 'addicted', 'whitney', 'vaulted', 'atlantic', 'users', 'cologne', 'followers', 'promotional', 'squarely', 'larry', 'melancholy', 'techno', 'latin', 'brainer', 'bolan', 'whimsical', 'starr', 'dani', 'august', 'overlooked', 'conveyed', 'superheroes', 'underwhelming', 'diana', 'amazon', 'crossed', 'expanded', 'caution', 'mian', 'mai', 'ziyi', 'tung', 'vitality', 'inn', 'wirework', 'arrows', 'climbing', 'await', 'paltrow', 'intentioned', 'northam', 'poise', 'nobility', 'revolver', 'monologue', 'colonial', 'bosses', 'oblivious', 'impressionable', 'december', 'richly', 'wholesome', 'holidays', 'pumped', 'insensitive', 'disconnected', 'cloud', 'insanely', 'mortal', 'subtitles', 'rhonda', 'dubious', 'despicable', 'madison', 'maysles', 'rivera', 'gardens', 'yorker', 'richest', 'bouvier', 'lasting', 'opinions', 'protector', 'alosio', 'biker', 'signs', 'portrayals', 'rooftop', 'dalmar', 'ivanna', 'experiments', 'cells', 'char', 'broiled', 'arch', 'lybbert', 'hopalong', 'grungy', 'volckman', 'karas', 'monochrome', 'imitate', 'sources', 'slightest', 'ashore', 'penned', 'secondary', 'parisian', 'records', 'jake', 'gyllenhaal', 'satellite', 'shaft', 'signal', 'elvis', 'sherman', 'foreman', 'natalie', 'creek', 'scholarship', 'determination', 'contrasts', 'symbolize', 'grays', 'guided', 'towns', 'harassment', 'shantytown', 'publish', 'manuscript', 'zimbabwe', 'banned', 'unleashes', 'jenifer', 'drain', 'jock', 'stripper', 'duties', '1935', 'knees', 'partners', 'hostess', 'ballroom', 'harriet', 'hilliard', 'bilge', 'screwball', 'monkey', 'audition', 'drinks', 'clashing', 'bela', 'janos', 'poisoned', 'curing', 'frances', 'lawton', 'fury', 'claudette', 'vance', ':-)', 'vocal', 'monotone', '1962', 'bomber', 'garcia', 'chandler', 'clooney', 'tube', 'nap', 'spare', 'limbs', 'shemp', 'deliciously', 'goof', 'alley', 'apologies', 'infused', 'contemplate', 'fated', 'ethereal', 'gentlemen', 'bothering', 'tiger', 'toby', 'restless', 'olsen', 'kirsten', 'dunst', 'sophie', 'alienated', 'rom', 'com', 'brigade', 'coffin', 'revival', 'deservedly', 'obscurity', 'kensett', 'overstatement', 'uli', 'nauseous', 'stole', 'carrey', 'morale', 'enthusiastic', 'horner', 'willy', \"o'donnell\", 'imagining', 'commendable', 'judgment', 'resonance', 'paternal', 'culled', 'motif', 'hangs', 'conrad', 'splattered', 'malevolent', 'jude', 'insomniac', 'awake', 'penny', 'warnings', 'millennium', 'joked', 'prepare', 'mans', 'scotland', 'northern', 'stilted', 'flies', 'net', 'spout', 'hg', 'someplace', 'elizabeth', 'thumb', 'dedication', 'interpretive', 'sopranos', 'safely', 'comatose', 'salesman', 'option', 'confirmed', 'a.j.', 'carmella', 'approaches', 'marries', 'roller', 'fungicide', 'unleashing', 'film\"-makers', 'imbeciles', 'manically', 'attaching', 'fuse', 'explodes', 'envelope', 'bicycle', 'pump', '1984', 'laziness', 'stupidly', 'inaccurate', 'ate', 'digest', 'macy', 'jeter', 'rites', 'crossbreed', 'freezer', 'outer', 'admittedly', 'plesiosaur', 'wreak', 'havoc', 'superheating', 'resting', 'dino', 'strangers', 'liquor', 'booze', 'forms', 'hicks', 'intentional', 'renard', 'bertille', 'noel', 'establish', 'seasons', 'amusement', 'notions', 'undergone', 'wrap', 'clip', 'scope', 'farcical', 'hastily', 'hateful', 'spaces', 'undone', 'gushing', 'controller', 'spared', 'refer', 'esquire', 'y', 'staircase', 'enigma', 'artists', 'exhibition', 'sandler', 'dumped', 'sunset', 'rigid', '90210', '16', 'realise', 'lined', 'wrinkles', 'shorts', 'kissy', 'bursting', 'coloured', 'torturing', 'setups', 'unscrupulous', 'khan', 'influenced', 'brazenly', 'swayze', 'netherlands', 'curl', 'sack', 'beaton', 'stalker', 'bagman', 'prom', 'finely', 'courageous', 'surviving', 'spilled', 'pour', 'fetish', 'chaplin', 'reflects', 'socio', 'tangible', 'callahan', 'couples', 'lerner', 'clumsily', 'robber', 'carole', 'lombard', 'talky', 'oriented', 'minus', 'recite', 'marvelous', 'spacey', 'prototype', 'arid', 'midwestern', 'updated', 'spree', 'admire', 'vic', 'warden', 'illegal', 'shady', 'sweeps', 'sunny', 'inevitability', 'repelled', 'humbly', 'grabovsky', 'reconciliation', 'alienating', 'miraculous', 'rival', 'undying', 'juxtaposed', 'serve', 'wimp', 'ingratiating', 'chop', 'etched', 'mears', 'mile', 'remembers', 'shootouts', 'purist', \"c'mon\", 'outdoor', 'moth', 'slows', 'generations', 'copying', 'tearing', 'concrete', 'starved', 'terror', 'adequately', 'slapped', 'hooker', 'hallucination', 'deleted', 'askey', 'octane', 'motley', 'railway', 'bach', 'offbeat', 'solitude', 'realms', 'artsy', 'frantic', 'sentinel', 'cristina', 'portal', 'vatican', 'ava', 'gardner', 'ferrer', 'berenger', 'orbach', 'possessed', 'imaginative', 'eyebrows', 'seduction', 'haddock', '68', 'shocks', 'cuban', 'communism', 'trite', 'tasteless', 'trunk', 'hammer', 'lousy', 'defence', 'restaurant', 'shines', 'iris', 'investigation', 'commission', 'investigated', 'sung', 'andrews', 'olin', 'centre', 'elaborate', 'disorder', 'il', 'untergang', 'mamie', 'selfless', 'foregoing', 'natassia', 'warehouse', 'port', 'mathau', 'grumpy', 'messing', 'disappearance', 'affectionately', 'ineptness', 'ju', 'tokyo', 'chim', 'predictably', 'karen', 'slayer', 'godzilla', 'enhancements', 'competitive', 'scheduled', 'inc.', 'devotee', 'philosophical', 'firmly', 'mixing', 'imitating', 'gonzalo', 'unexpectedly', 'berth', 'capturing', 'wider', 'instincts', 'lest', 'judged', 'wright', 'tremendous', 'eli', 'wallach', 'unsatisfying', 'intestines', 'faked', 'replacing', 'map', 'response', 'irrefutable', 'economically', 'penance', 'dates', 'hacked', 'originals', 'skipping', 'georges', 'roquevert', 'philippe', '1951', 'sample', 'marcel', 'programming', 'tentative', 'screenings', 'bardot', 'grandparents', 'disappearing', 'peculiar', 'marthe', 'reverand', 'martha', 'dara', 'tomanovich', 'kirkland', 'emphasize', 'bel', 'tremor', 'overacting', \"i'll\", 'applaud', 'behaviors', 'todays', 'bafta', 'damaged', 'limp', 'lackluster', 'eminently', 'dynamics', 'thunderbirds', 'lian', 'chu', 'gwizdo', 'hires', 'contender', '2008', 'expelled', 'prejudiced', 'politically', 'deem', 'orwellian', 'secular', 'unwillingness', 'efficiently', 'impressively', 'framework', 'ludicrously', 'balsam', 'squeeze', 'goings', 'gil', 'orchestral', 'wisecracks', 'banter', 'fable', 'exposes', 'acquainted', 'motivation', 'bets', 'traditionally', 'lazy', 'sluggish', 'ships', 'ninjas', 'heflin', 'nielsen', 'temporary', 'wheeler', 'doorman', 'snappy', 'kibbutzim', 'entrance', 'socialist', 'zen', 'coasted', 'boil', 'bee', 'shintaro', 'palette', 'violet', 'restores', 'drastically', 'absurdism', 'transcend', 'staging', 'initially', 'karate', 'fish', 'waterfalls', 'villages', 'ryuhei', 'kitamura', 'interplay', 'characterisation', 'aya', 'chiaki', 'kuriyama', 'notion', 'hyperbole', '250', 'insider', 'pov', 'recounting', 'loudly', 'diners', 'candies', 'choreographer', 'circuit', 'perrine', 'finance', 'decency', 'rewrites', 'neutered', 'hanzô', 'constable', 'assistants', 'occurrence', 'trains', 'camping', 'yells', 'doorstep', 'severed', 'automobiles', 'crooked', 'marrying', 'milland', 'rung', 'motive', 'advance', 'favors', 'owed', 'distracted', 'bitten', 'chico', 'nietszche', 'declared', 'donor', 'recipient', 'militaries', 'discipline', 'unfathomable', 'monteith', 'thereby', 'tag', 'immersed', 'leonardo', 'dicaprio', 'emanating', 'restrain', 'stakes', 'slice', 'naturalism', 'lads', 'marvelously', 'smoothly', 'unfolding', 'marleen', 'attic', 'turkey', 'pumping', 'stallone', 'quotient', 'sweat', 'covert', 'mias', 'vietnamese', 'extract', 'introspective', 'relies', 'wraiths', 'cheery', 'derived', 'irresistible', 'aggressive', 'rené', 'minority', 'scape', 'holroyd', 'queenie', 'lemmon', 'shep', 'bride', 'lust', 'blush', 'westfront', '1918', 'settings', 'wwi', 'blabber', 'elmo', 'reject', 's.s.', 'taping', 'recession', 'watanabe', 'personifies', 'brash', 'overshadows', 'affable', 'cornball', 'surfers', 'sundance', 'waves', 'adrenaline', 'choosing', 'heroines', 'schmid', 'dirt', 'overseas', 'banning', 'tomb', 'andoheb', 'caretaker', 'fiancé', 'kidnap', 'isobel', 'bannings', 'antagonist', 'robotboy', 'southeast', 'congressman', 'damned', 'ned', 'quaid', 'dourif', '911', 'operator', 'yea', 'entitled', 'bu', 'exchanges', 'efficient', 'blackie', 'cassandra', 'peterson', 'fixation', 'forbidden', 'critic', 'seventeen', 'rasuk', 'rodriguez', 'arise', 'grandma', 'latina', 'complimented', 'indoor', 'ethnicity', 'teeny', 'sharing', 'bittersweet', 'sabotaged', 'grits', 'prophetic', 'heyday', 'exaggerating', 'hilary', 'hauser(cusack', 'tomeii', 'operating', 'patter', 'gromit', 'rita', 'twins', 'tattooed', 'corri', 'blinds', 'grabs', 'decor', 'sybil', 'danning', 'opus', 'cream', 'gals', 'brainwashed', 'belinda', 'mayne', 'advise', 'antoine', 'depardieu', 'deneuve', 'morocco', 'backward', \"l'art\", 'agreed', '1947', 'weinberg', 'tenth', 'materials', 'simpler', 's-50', 'k-25', 'established', 'november', 'carbide', 'prussia', '1902', 'principles', 'applications', 'führer', '1983', 'unquestionably', 'boxing', 'opponent', 'truthfully', 'attitudes', 'sketch', 'moreover', 'pauline', 'chinnery', 'lays', 'colours', 'matches', 'slang', 'definition', 'flames', 'ishtar', 'niel', 'dresses', 'surrounded', 'nun', 'lynn', 'absurdly', 'babies', 'cooking', 'spun', 'tenant', 'subjects', 'muir', 'drills', 'mcgavin', 'electrical', 'r.i.p.', 'gilles', 'lancré', 'faint', 'rickshaw', 'domergue', 'demand', 'winds', 'depicting', 'autobiography', 'texan', 'toying', 'surfaces', 'opportunities', 'codger', 'debts', 'paste', 'bell', 'mechanical', 'funeral', 'pretend', 'quit', 'pirate', 'comrades', 'unintentional', 'sachs', 'respectable', 't.v', 'cab', 'harvest', 'kimmel', 'urmila', 'hats', 'burying', 'hulk', 'identify', 'antz', 'bosox', 'scarlett', 'advertised', 'figured', 'dutta', 'hitchcock', 'pg-13', 'hancock', 'fearing', 'oozes', 'suprematy', 'patriots', 'tanger', 'agenda', 'thrill', 'antwone', 'antonella', 'ríos', 'commented', 'millimeter', 'cerebral', 'leisen', 'syndicate', 'unknowingly', 'uni', 'reliving', 'bigfoot', 'alliance', 'slave', 'sarlacc', 'obi', 'wan', 'exploitive', 'concepts', 'idiocy', 'ants', 'knocks', 'astounded', 'sun', 'kerry', 'joycelyn', 'sophomore', 'steppers', 'terrell', 'blend', 'voters', 'unintelligible', 'wrestler', 'hayao', 'resolve', 'mmpr', 'cliched', 'ada', 'nonsensical', 'luring', 'proceeds', 'spitting', 'accepting', 'dale', 'castaways', 'backyard', 'carson', 'scalpel', 'kidd', 'flo', 'healy', 'brat', 'mpaa', 'gooding', 'gunfire', 'scored', 'stimulating', 'viola', 'bishop', 'stasi', 'resident', 'prosthetics', 'cons', 'rican', 'ricans', 'guarding', 'gateway', 'archdiocese', 'astor', 'lancaster', 'jenna', 'crashing', 'rms', 'niki', 'ardelean', 'tenny', 'phyllis', 'berkoff', 'hoechlin', 'sorta', 'files', 'mcdowall', 'prostate', 'smudge', 'spurlock', \"d'abo\", 'amitabh', 'xxfake']\n"
          ]
        }
      ]
    },
    {
      "cell_type": "code",
      "metadata": {
        "id": "X6S-QRmsNx_c",
        "colab": {
          "base_uri": "https://localhost:8080/",
          "height": 139
        },
        "outputId": "f6e2d296-8cbf-4a24-a822-f5736f8456dd"
      },
      "source": [
        "data_clas = TextClasDataBunch.from_csv(path, 'texts.csv', vocab=data_lm.train_ds.vocab, bs=32)\n",
        "print(type(data_clas))\n",
        "# print(data_clas)\n"
      ],
      "execution_count": 136,
      "outputs": [
        {
          "output_type": "display_data",
          "data": {
            "text/html": [
              ""
            ],
            "text/plain": [
              "<IPython.core.display.HTML object>"
            ]
          },
          "metadata": {}
        },
        {
          "output_type": "stream",
          "name": "stderr",
          "text": [
            "/usr/local/lib/python3.7/dist-packages/fastai/core.py:302: VisibleDeprecationWarning: Creating an ndarray from ragged nested sequences (which is a list-or-tuple of lists-or-tuples-or ndarrays with different lengths or shapes) is deprecated. If you meant to do this, you must specify 'dtype=object' when creating the ndarray\n",
            "  return np.array(a, dtype=dtype, **kwargs)\n"
          ]
        },
        {
          "output_type": "display_data",
          "data": {
            "text/html": [
              ""
            ],
            "text/plain": [
              "<IPython.core.display.HTML object>"
            ]
          },
          "metadata": {}
        },
        {
          "output_type": "stream",
          "name": "stdout",
          "text": [
            "<class 'fastai.text.data.TextClasDataBunch'>\n"
          ]
        },
        {
          "output_type": "stream",
          "name": "stderr",
          "text": [
            "/usr/local/lib/python3.7/dist-packages/numpy/core/_asarray.py:83: VisibleDeprecationWarning: Creating an ndarray from ragged nested sequences (which is a list-or-tuple of lists-or-tuples-or ndarrays with different lengths or shapes) is deprecated. If you meant to do this, you must specify 'dtype=object' when creating the ndarray\n",
            "  return array(a, dtype, copy=False, order=order)\n",
            "<string>:6: VisibleDeprecationWarning: Creating an ndarray from ragged nested sequences (which is a list-or-tuple of lists-or-tuples-or ndarrays with different lengths or shapes) is deprecated. If you meant to do this, you must specify 'dtype=object' when creating the ndarray\n"
          ]
        }
      ]
    },
    {
      "cell_type": "code",
      "metadata": {
        "id": "CeS8g9frE574"
      },
      "source": [
        "data_clas.save('data_clas_export.pkl')"
      ],
      "execution_count": 137,
      "outputs": []
    },
    {
      "cell_type": "code",
      "metadata": {
        "id": "ABq5_Mk4E7sO",
        "outputId": "7c4d94c4-d414-4915-9728-a4aed7bee33d",
        "colab": {
          "base_uri": "https://localhost:8080/"
        }
      },
      "source": [
        "data_clas = load_data(path, 'data_clas_export.pkl', bs=bs)\n"
      ],
      "execution_count": 138,
      "outputs": [
        {
          "output_type": "stream",
          "name": "stderr",
          "text": [
            "/usr/local/lib/python3.7/dist-packages/numpy/core/_asarray.py:83: VisibleDeprecationWarning: Creating an ndarray from ragged nested sequences (which is a list-or-tuple of lists-or-tuples-or ndarrays with different lengths or shapes) is deprecated. If you meant to do this, you must specify 'dtype=object' when creating the ndarray\n",
            "  return array(a, dtype, copy=False, order=order)\n",
            "<string>:6: VisibleDeprecationWarning: Creating an ndarray from ragged nested sequences (which is a list-or-tuple of lists-or-tuples-or ndarrays with different lengths or shapes) is deprecated. If you meant to do this, you must specify 'dtype=object' when creating the ndarray\n"
          ]
        }
      ]
    },
    {
      "cell_type": "code",
      "metadata": {
        "id": "dvpo3BUzE9uW",
        "outputId": "454d1c96-26e8-41d8-bafc-e74aad136bc1",
        "colab": {
          "base_uri": "https://localhost:8080/"
        }
      },
      "source": [
        "learn_c = text_classifier_learner(data_clas, AWD_LSTM, drop_mult=0.5).to_fp16()\n",
        "learn_c.load_encoder('ft_enc')"
      ],
      "execution_count": 139,
      "outputs": [
        {
          "output_type": "execute_result",
          "data": {
            "text/plain": [
              "RNNLearner(data=TextClasDataBunch;\n",
              "\n",
              "Train: LabelList (799 items)\n",
              "x: TextList\n",
              "xxbos xxmaj evil xxmaj breed is a very strange slasher flick that is unfortunately no good . xxmaj the beginning of the film seems promising but overall it 's a disaster . xxmaj the dialogue is pretty bad but not near as bad as the acting . xxmaj the acting is brutal and unbearable . xxmaj most of the characters deliver there lines horribly and even if that is on purpose the method does n't work because the characters become annoying . xxmaj some of the kills are innovative but it took far too long to get to them . xxmaj after about a half hour through the movie we get the first death ( other than in the xxunk then almost every other character is smoked within the next five minutes . xxmaj the movie then turned into sort of a spoof with ridiculous looking characters , unrealistic karate like fights , and a scene in which a man gets his intestines pulled out of his xxunk . xxmaj none of it is funny it 's just plain ridiculous . xxmaj the film then becomes ultra gory and ultra pointless . xxmaj most of the characters are clichéd even for slasher standards and are as solid as xxunk left on the counter for 5 days . xxmaj evil xxmaj breed is n't even laughably bad therefore it fails in it 's main task . xxmaj watch xxmaj texas xxmaj chainsaw xxmaj massacre , xxmaj just xxmaj before xxmaj dawn , or xxmaj see xxmaj no xxmaj evil for a real slasher .,xxbos a friend once asked me to read a screenplay of his that had been xxunk by a movie studio . xxmaj to say it was one of the most inept and insipid scripts i 'd ever read would be a bold understatement . xxmaj yet i never told him this . xxmaj why ? xxmaj because in a world where films like \" xxmaj while xxmaj she xxmaj was xxmaj out \" can be green - xxunk and attract an xxmaj xxunk winning star like xxmaj kim xxmaj basinger , a screenplay lacking in character , content and common sense is no guarantee that it wo n't sell . \n",
              " \n",
              "  xxmaj as so many other reviewers have pointed out , \" xxmaj while xxmaj she xxmaj was xxmaj out \" is a dreadfully under - written xxmaj woman - in - xxmaj xxunk film that has xxunk housewife xxmaj basinger hunted by four unlikely xxunk on xxmaj christmas xxmaj eve . xxmaj every xxunk is legitimate , from the weak dialog and bad acting to the jaw - dropping lapses of logic , but xxmaj basinger is such an interesting actress and the premise is not without promise . xxmaj here are a couple of things that struck me : \n",
              " \n",
              "  1 ) i do n't care how much we are supposed to think her husband is a jerk , the house xxup is a mess with toys . xxmaj since when did it become child abuse to make kids pick up after themselves ? \n",
              " \n",
              "  2 ) xxmaj racially diverse gangs are rare everywhere except xxmaj hollywood , where they are usually the only racially balanced groups on screen . \n",
              " \n",
              "  3 ) xxmaj sure the film is stupid . xxmaj but so are the countless \" thrillers \" i 've sat through where the women are portrayed as xxunk , helpless victims of male sadism . xxmaj stupid or not , i found it refreshing to see a woman getting the best of her tormentors . \n",
              " \n",
              "  4 ) i xxup loved the ending ! \n",
              " \n",
              "  5 ) xxmaj though an earlier reviewer xxunk this phrase , i really xxup do think this film should be xxunk \" xxmaj the xxmaj red xxmaj xxunk of xxmaj doom . \",xxbos i had heard some not too good things about this movie and had probably seen the low score here at imdb and that 's why i had avoided it . xxmaj today they showed xxmaj vanilla xxmaj sky on xxup tv and as i had nothing better to do ... and as it turned out , i would have had a hard time finding anything better to do . xxmaj vanilla xxmaj sky is a frightening , sad and touching movie , actually one of the best i 've seen in a while . i was surprised by how i was affected watching it . xxmaj it 's hard to explain , but during the movie your feelings towards the characters and your perception of what is going on changes and it 's quite an emotional journey . xxmaj vanilla xxmaj sky really touched me in a way that is very rare for a movie , or any media for that matter . \n",
              " \n",
              "  i really recommend everyone to watch this movie . xxmaj regardless of what you have heard about it .,xxbos xxmaj without doubt xxmaj beat xxmaj street is the best film about the xxunk scene . xxmaj everything about it is spot on , the clothes ( xxunk music and most importantly the dancing ! xxmaj the storyline is basic , but hey what s there to tell a story about ? xxmaj the whole point of the film is to show what kids of that moment in time were doing , what xxunk to them . xxmaj it shows that teenagers in general are good , all that xxunk to these everyday kids was music , dancing and friendship . xxmaj having watched the xxup dvd recently i was xxunk surprised how well it had stood the test of time ! xxmaj the clothes did n't look dated ( possibly because xxmaj xxunk is now having a massive xxunk music still sounds fresh , and the dancing is still captivating to watch . a film anyone 10 - 25 years of age should see as part of their youth culture .,xxbos xxmaj in 17th xxmaj century xxmaj japan , there lived a samurai who would set the standard for the ages . xxmaj his name was xxmaj mayeda . xxmaj he is sent on an epic journey across the world to acquire 5,000 xxunk from the xxmaj king of xxmaj xxunk . xxmaj whilst at sea a violent storm xxunk their precious gold intended to buy the weapons and almost takes their lives . xxmaj mayeda must battle all odds to survive and the secure the fate of his beloved xxmaj japan . xxmaj shogun xxmaj mayeda is a multi million dollar action adventure epic set across three xxunk . \n",
              " \n",
              "  xxmaj starring cinema legends xxmaj sho xxmaj kosugi ( xxmaj tenchu : xxmaj stealth xxmaj assassins ) , xxmaj christopher xxmaj lee ( xxmaj star xxmaj wars , xxmaj lord of the xxmaj rings xxmaj trilogy ) , xxmaj john xxmaj rhys xxmaj davies ( xxmaj lord of the xxmaj rings xxmaj trilogy , xxmaj indiana xxmaj jones xxmaj trilogy ) and xxmaj xxunk xxmaj xxunk ( xxmaj the xxmaj seven xxmaj samurai , xxmaj xxunk of xxmaj blood ) , xxmaj shogun xxmaj mayeda ( xxmaj xxunk ) is a film masterpiece . \n",
              " \n",
              "  xxmaj the xxmaj xxunk winning stunt team bought to the screen by xxmaj bob xxmaj xxunk bring exciting battle / action sequences such as the opening battle against the xxmaj eastern army , the attack on xxmaj mayeda 's ship carrying priceless xxunk and the final confrontation between xxmaj sho xxmaj kosugi and xxmaj david xxmaj xxunk . a fine musical score by famed xxunk xxmaj john xxmaj scott is also present . xxmaj director xxmaj sho xxmaj xxunk was not even nominated for an xxmaj oscar for this film which deals with the emotional strife such as the death of xxmaj xxunk family , the search for love and acceptance after xxunk , all of which is dealt with extremely well . xxmaj highly recommended cinematic masterpiece . \n",
              " \n",
              "  xxmaj please note : xxmaj all of the above is opposite for the film in question .\n",
              "y: CategoryList\n",
              "negative,negative,positive,positive,negative\n",
              "Path: /root/.fastai/data/imdb_sample;\n",
              "\n",
              "Valid: LabelList (201 items)\n",
              "x: TextList\n",
              "xxbos xxmaj if you ever see a stand up comedy movie this is the one . xxmaj you will laugh nonstop if you have any sense of humor at all . xxmaj this is a once in a lifetime performance from a once in a lifetime performer . xxmaj this is a stand up standard .,xxbos xxmaj of the three titles from xxmaj xxunk xxmaj franco to find their way onto the xxmaj official xxup xxunk xxmaj video xxmaj nasty list ( xxmaj devil xxmaj hunter , xxmaj bloody xxmaj moon and xxmaj women xxmaj behind xxmaj bars ) this is perhaps the least deserving of xxunk , being a dreadfully dull jungle clunker enlivened only very slightly by a little inept gore , a gratuitous rape scene , and loads of nudity . \n",
              " \n",
              "  xxmaj gorgeous blonde xxmaj xxunk xxmaj buchfellner plays movie star xxmaj laura xxmaj xxunk who is abducted by a gang of ruthless kidnappers and taken to a remote xxunk island inhabited by a savage xxunk who worship the ' devil god ' that lurks in the jungle ( a big , naked , xxunk - xxunk native who likes to eat the hearts of xxunk female sacrifices ) . \n",
              " \n",
              "  xxmaj employed by xxmaj laura 's agent to deliver a $ xxunk ransom , brave xxunk xxmaj peter xxmaj xxunk ( xxmaj al xxmaj xxunk ) and his xxmaj vietnam vet pilot pal travel to the island , but encounter trouble when the bad guys attempt a double - cross . xxmaj during the confusion , xxmaj laura escapes into the jungle , but runs straight into the arms of the island 's natives , who offer her up to their god . \n",
              " \n",
              "  xxmaj franco directs in his usual xxunk style and loads this laughable effort with his usual dreadful trademarks : crap gore , murky cinematography , rapid zooms , numerous crotch shots , out of focus imagery , awful sound effects , and ham - fisted editing . xxmaj the result is a dire mess that is a real struggle to sit through from start to finish ( xxmaj it took me a couple of xxunk to finish the thing ) , and even the sight of the xxunk xxmaj buchfellner in all of her natural glory ai n't enough to make me xxunk this film in a hurry .,xxbos xxmaj this movie succeeds at being one of the most unique movies you 've seen . xxmaj however this comes from the fact that you ca n't make heads or tails of this mess . xxmaj it almost seems as a series of challenges set up to determine whether or not you are willing to walk out of the movie and give up the money you just paid . xxmaj if you do n't want to feel xxunk you 'll sit through this horrible film and develop a real sense of pity for the actors involved , they 've all seen better days , but then you realize they actually got paid quite a bit of money to do this and you 'll lose pity for them just like you 've already done for the film . i ca n't go on enough about this horrible movie , its almost something that xxmaj ed xxmaj wood would have made and in that case it surely would have been his masterpiece . \n",
              " \n",
              "  xxmaj to start you are forced to sit through an opening dialogue the likes of which you 've never seen / heard , this thing has got to be five minutes long . xxmaj on top of that it is narrated , as to suggest that you the viewer can not read . xxmaj then we meet xxmaj mr. xxmaj xxunk and the xxunk of terrible lines gets xxunk , it is as if he is operating solely to get lines on to the movie poster tag line . xxmaj soon we meet xxmaj stephen xxmaj xxunk , who i typically enjoy ) and he does his best not to drown in this but ultimately he does . xxmaj then comes the ultimate insult , xxmaj tara xxmaj reid playing an intelligent role , oh help us ! xxmaj tara xxmaj reid is not a very talented actress and somehow she xxunk gets roles in movies , in my opinion though she should stick to movies of the xxmaj american pie type . \n",
              " \n",
              "  xxmaj all in all you just may want to see this for yourself when it comes out on video , i know that i got a kick out of it , i mean lets all be honest here , sometimes its comforting to xxunk in the shortcomings of others .,xxbos xxmaj this has got to be the worst horror movie i have ever seen . i remember watching it years ago when it initially came out on video and for some strange reason i thought i enjoyed it . xxmaj so , like an idiot , i ran out to purchase the xxup dvd once it was released ... what a tragic mistake ! i wo n't even bother to go into the plot because it is so transparent that you can see right through it anyhow . i am a fan of xxmaj xxunk xxmaj gordon xxmaj lewis so i am xxunk to cheesy gore effects and bad acting but these people take this to a whole different level . xxmaj it is almost as if they are intentionally trying to make the worst movie xxunk possible ... if that was their goal , they xxunk . xxmaj if they intended to make a film that was supposed to scare you or make you believe in any way , shape , or form that it is real then they failed ... xxup miserably ! xxmaj avoid this movie ... read the plot synopsis and you 've seen it !,xxbos xxmaj he now has a name , an identity , some memories and a a lost girlfriend . xxmaj all he wanted was to disappear , but still , they traced him and destroyed the world he hardly built . xxmaj now he wants some explanation , and to get ride of the people how made him what he is . xxmaj yeah , xxmaj jason xxmaj bourne is back , and this time , he 's here with a vengeance . \n",
              " \n",
              "  xxup ok , this movie does n't have the most xxunk script in the world , but its thematics are very clever and ask some serious questions about our society . xxmaj of course , like every xxmaj xxunk movie since the end of the 90 's , \" xxmaj the xxmaj bourne xxmaj suprematy \" is a super - heroes story . xxmaj jason xxmaj bourne is a xxmaj captain - xxmaj america project - like , who 's gone completely wrong . xxmaj in the first movie , the hero discovered his abilities and he accepted them in the second one . xxmaj he now fights against what he considers like evil , after a person close to him has been killed ( his girlfriend in \" xxmaj suprematy \" ) by them . xxmaj that 's all a part of the super - hero story , including a character with ( realistic but still impressive : he almost invincible ) super powers . \n",
              " \n",
              "  xxmaj and the interesting point is that the evil he fights all across the world ( there 's no xxunk in the xxmaj bourne 's movies , characters are going from one continent to another in the blink of an eye ) , is , as in the best seasons of \" 24 \" , an xxmaj american enemy , who 's beliefs that he fight for the good of his country completely blinds him . xxmaj funny how \" mad patriots \" are now the xxup xxunk enemies of xxunk xxmaj hollywood 's stories . \n",
              " \n",
              "  xxmaj beside all those interesting thematics , the movie is n't flawless : the feminine character of xxmaj xxunk xxmaj xxunk is for now on completely useless and the direction is quite xxunk when it comes to dialogs scenes . xxmaj but all that does n't really matter , for \" xxmaj the xxmaj bourne xxmaj ultimatum \" is an action movie . xxmaj and the action scenes are rather impressive . \n",
              " \n",
              "  xxmaj everyone here is talking about the \" xxmaj xxunk scene \" and the \" xxmaj tanger pursuit \" and everyone 's right . i particularly enjoyed the fight in xxmaj tanger , that reminds my in its exaggeration and xxunk the works of xxmaj xxunk xxmaj xxunk . xxmaj visually inventive scenes , lots of intelligent action parts and a good reflection on xxmaj american 's contemporary thematics : \" xxmaj the xxmaj bourne xxmaj ultimatum \" is definitely the best movie of the series and a very interesting and original action flick .\n",
              "y: CategoryList\n",
              "positive,negative,negative,negative,positive\n",
              "Path: /root/.fastai/data/imdb_sample;\n",
              "\n",
              "Test: None, model=SequentialRNN(\n",
              "  (0): MultiBatchEncoder(\n",
              "    (module): AWD_LSTM(\n",
              "      (encoder): Embedding(8904, 400, padding_idx=1)\n",
              "      (encoder_dp): EmbeddingDropout(\n",
              "        (emb): Embedding(8904, 400, padding_idx=1)\n",
              "      )\n",
              "      (rnns): ModuleList(\n",
              "        (0): WeightDropout(\n",
              "          (module): LSTM(400, 1152, batch_first=True)\n",
              "        )\n",
              "        (1): WeightDropout(\n",
              "          (module): LSTM(1152, 1152, batch_first=True)\n",
              "        )\n",
              "        (2): WeightDropout(\n",
              "          (module): LSTM(1152, 400, batch_first=True)\n",
              "        )\n",
              "      )\n",
              "      (input_dp): RNNDropout()\n",
              "      (hidden_dps): ModuleList(\n",
              "        (0): RNNDropout()\n",
              "        (1): RNNDropout()\n",
              "        (2): RNNDropout()\n",
              "      )\n",
              "    )\n",
              "  )\n",
              "  (1): PoolingLinearClassifier(\n",
              "    (layers): Sequential(\n",
              "      (0): BatchNorm1d(1200, eps=1e-05, momentum=0.1, affine=True, track_running_stats=True)\n",
              "      (1): Dropout(p=0.2, inplace=False)\n",
              "      (2): Linear(in_features=1200, out_features=50, bias=True)\n",
              "      (3): ReLU(inplace=True)\n",
              "      (4): BatchNorm1d(50, eps=1e-05, momentum=0.1, affine=True, track_running_stats=True)\n",
              "      (5): Dropout(p=0.1, inplace=False)\n",
              "      (6): Linear(in_features=50, out_features=2, bias=True)\n",
              "    )\n",
              "  )\n",
              "), opt_func=functools.partial(<class 'torch.optim.adam.Adam'>, betas=(0.9, 0.99)), loss_func=FlattenedLoss of CrossEntropyLoss(), metrics=[<function accuracy at 0x7fd5c4f5a3b0>], true_wd=True, bn_wd=True, wd=0.01, train_bn=True, path=PosixPath('/root/.fastai/data/imdb_sample'), model_dir='models', callback_fns=[functools.partial(<class 'fastai.basic_train.Recorder'>, add_time=True, silent=False)], callbacks=[RNNTrainer\n",
              "learn: ...\n",
              "alpha: 2.0\n",
              "beta: 1.0, MixedPrecision\n",
              "learn: ...\n",
              "loss_scale: 65536\n",
              "max_noskip: 1000\n",
              "dynamic: True\n",
              "clip: None\n",
              "flat_master: False\n",
              "max_scale: 16777216\n",
              "loss_fp32: True], layer_groups=[Sequential(\n",
              "  (0): Embedding(8904, 400, padding_idx=1)\n",
              "  (1): EmbeddingDropout(\n",
              "    (emb): Embedding(8904, 400, padding_idx=1)\n",
              "  )\n",
              "), Sequential(\n",
              "  (0): WeightDropout(\n",
              "    (module): LSTM(400, 1152, batch_first=True)\n",
              "  )\n",
              "  (1): RNNDropout()\n",
              "), Sequential(\n",
              "  (0): WeightDropout(\n",
              "    (module): LSTM(1152, 1152, batch_first=True)\n",
              "  )\n",
              "  (1): RNNDropout()\n",
              "), Sequential(\n",
              "  (0): WeightDropout(\n",
              "    (module): LSTM(1152, 400, batch_first=True)\n",
              "  )\n",
              "  (1): RNNDropout()\n",
              "), Sequential(\n",
              "  (0): PoolingLinearClassifier(\n",
              "    (layers): Sequential(\n",
              "      (0): BatchNorm1d(1200, eps=1e-05, momentum=0.1, affine=True, track_running_stats=True)\n",
              "      (1): Dropout(p=0.2, inplace=False)\n",
              "      (2): Linear(in_features=1200, out_features=50, bias=True)\n",
              "      (3): ReLU(inplace=True)\n",
              "      (4): BatchNorm1d(50, eps=1e-05, momentum=0.1, affine=True, track_running_stats=True)\n",
              "      (5): Dropout(p=0.1, inplace=False)\n",
              "      (6): Linear(in_features=50, out_features=2, bias=True)\n",
              "    )\n",
              "  )\n",
              ")], add_time=True, silent=False)"
            ]
          },
          "metadata": {},
          "execution_count": 139
        }
      ]
    },
    {
      "cell_type": "code",
      "metadata": {
        "id": "YZnwUycBOEpc"
      },
      "source": [
        "# data_clas.show_batch()"
      ],
      "execution_count": 111,
      "outputs": []
    },
    {
      "cell_type": "code",
      "metadata": {
        "id": "S2b_Yy-vOPCs",
        "colab": {
          "base_uri": "https://localhost:8080/",
          "height": 151
        },
        "outputId": "c0bdcd9f-0486-4c10-969e-6f1ee81f7476"
      },
      "source": [
        "learn_c.fit_one_cycle(1, 1e-2)"
      ],
      "execution_count": 140,
      "outputs": [
        {
          "output_type": "display_data",
          "data": {
            "text/html": [
              "<table border=\"1\" class=\"dataframe\">\n",
              "  <thead>\n",
              "    <tr style=\"text-align: left;\">\n",
              "      <th>epoch</th>\n",
              "      <th>train_loss</th>\n",
              "      <th>valid_loss</th>\n",
              "      <th>accuracy</th>\n",
              "      <th>time</th>\n",
              "    </tr>\n",
              "  </thead>\n",
              "  <tbody>\n",
              "    <tr>\n",
              "      <td>0</td>\n",
              "      <td>0.632630</td>\n",
              "      <td>0.594487</td>\n",
              "      <td>0.716418</td>\n",
              "      <td>00:16</td>\n",
              "    </tr>\n",
              "  </tbody>\n",
              "</table>"
            ],
            "text/plain": [
              "<IPython.core.display.HTML object>"
            ]
          },
          "metadata": {}
        },
        {
          "output_type": "stream",
          "name": "stderr",
          "text": [
            "/usr/local/lib/python3.7/dist-packages/numpy/core/_asarray.py:83: VisibleDeprecationWarning: Creating an ndarray from ragged nested sequences (which is a list-or-tuple of lists-or-tuples-or ndarrays with different lengths or shapes) is deprecated. If you meant to do this, you must specify 'dtype=object' when creating the ndarray\n",
            "  return array(a, dtype, copy=False, order=order)\n",
            "<string>:6: VisibleDeprecationWarning: Creating an ndarray from ragged nested sequences (which is a list-or-tuple of lists-or-tuples-or ndarrays with different lengths or shapes) is deprecated. If you meant to do this, you must specify 'dtype=object' when creating the ndarray\n"
          ]
        }
      ]
    },
    {
      "cell_type": "code",
      "metadata": {
        "id": "QUaHSekaVa3d",
        "colab": {
          "base_uri": "https://localhost:8080/",
          "height": 1000
        },
        "outputId": "439382c8-08a9-45f4-8354-af0fdc074f27"
      },
      "source": [
        "learn_c.unfreeze()\n",
        "learn_c.fit_one_cycle(3, slice(1e-4, 1e-2))"
      ],
      "execution_count": 141,
      "outputs": [
        {
          "output_type": "display_data",
          "data": {
            "text/html": [
              "<table border=\"1\" class=\"dataframe\">\n",
              "  <thead>\n",
              "    <tr style=\"text-align: left;\">\n",
              "      <th>epoch</th>\n",
              "      <th>train_loss</th>\n",
              "      <th>valid_loss</th>\n",
              "      <th>accuracy</th>\n",
              "      <th>time</th>\n",
              "    </tr>\n",
              "  </thead>\n",
              "  <tbody>\n",
              "    <tr>\n",
              "      <td>0</td>\n",
              "      <td>0.474546</td>\n",
              "      <td>0.437509</td>\n",
              "      <td>0.865672</td>\n",
              "      <td>00:43</td>\n",
              "    </tr>\n",
              "    <tr>\n",
              "      <td>1</td>\n",
              "      <td>0.413244</td>\n",
              "      <td>0.329415</td>\n",
              "      <td>0.870647</td>\n",
              "      <td>00:45</td>\n",
              "    </tr>\n",
              "    <tr>\n",
              "      <td>2</td>\n",
              "      <td>0.339283</td>\n",
              "      <td>0.319156</td>\n",
              "      <td>0.860696</td>\n",
              "      <td>00:41</td>\n",
              "    </tr>\n",
              "  </tbody>\n",
              "</table>"
            ],
            "text/plain": [
              "<IPython.core.display.HTML object>"
            ]
          },
          "metadata": {}
        },
        {
          "output_type": "stream",
          "name": "stderr",
          "text": [
            "/usr/local/lib/python3.7/dist-packages/numpy/core/_asarray.py:83: VisibleDeprecationWarning: Creating an ndarray from ragged nested sequences (which is a list-or-tuple of lists-or-tuples-or ndarrays with different lengths or shapes) is deprecated. If you meant to do this, you must specify 'dtype=object' when creating the ndarray\n",
            "  return array(a, dtype, copy=False, order=order)\n",
            "<string>:6: VisibleDeprecationWarning: Creating an ndarray from ragged nested sequences (which is a list-or-tuple of lists-or-tuples-or ndarrays with different lengths or shapes) is deprecated. If you meant to do this, you must specify 'dtype=object' when creating the ndarray\n",
            "/usr/local/lib/python3.7/dist-packages/torch/nn/modules/module.py:1702: UserWarning: The .grad attribute of a Tensor that is not a leaf Tensor is being accessed. Its .grad attribute won't be populated during autograd.backward(). If you indeed want the gradient for a non-leaf Tensor, use .retain_grad() on the non-leaf Tensor. If you access the non-leaf Tensor by mistake, make sure you access the leaf Tensor instead. See github.com/pytorch/pytorch/pull/30531 for more information.\n",
            "  if p.grad is not None:\n",
            "/usr/local/lib/python3.7/dist-packages/torch/nn/modules/module.py:1702: UserWarning: The .grad attribute of a Tensor that is not a leaf Tensor is being accessed. Its .grad attribute won't be populated during autograd.backward(). If you indeed want the gradient for a non-leaf Tensor, use .retain_grad() on the non-leaf Tensor. If you access the non-leaf Tensor by mistake, make sure you access the leaf Tensor instead. See github.com/pytorch/pytorch/pull/30531 for more information.\n",
            "  if p.grad is not None:\n",
            "/usr/local/lib/python3.7/dist-packages/torch/nn/modules/module.py:1702: UserWarning: The .grad attribute of a Tensor that is not a leaf Tensor is being accessed. Its .grad attribute won't be populated during autograd.backward(). If you indeed want the gradient for a non-leaf Tensor, use .retain_grad() on the non-leaf Tensor. If you access the non-leaf Tensor by mistake, make sure you access the leaf Tensor instead. See github.com/pytorch/pytorch/pull/30531 for more information.\n",
            "  if p.grad is not None:\n",
            "/usr/local/lib/python3.7/dist-packages/torch/nn/modules/module.py:1702: UserWarning: The .grad attribute of a Tensor that is not a leaf Tensor is being accessed. Its .grad attribute won't be populated during autograd.backward(). If you indeed want the gradient for a non-leaf Tensor, use .retain_grad() on the non-leaf Tensor. If you access the non-leaf Tensor by mistake, make sure you access the leaf Tensor instead. See github.com/pytorch/pytorch/pull/30531 for more information.\n",
            "  if p.grad is not None:\n",
            "/usr/local/lib/python3.7/dist-packages/torch/nn/modules/module.py:1702: UserWarning: The .grad attribute of a Tensor that is not a leaf Tensor is being accessed. Its .grad attribute won't be populated during autograd.backward(). If you indeed want the gradient for a non-leaf Tensor, use .retain_grad() on the non-leaf Tensor. If you access the non-leaf Tensor by mistake, make sure you access the leaf Tensor instead. See github.com/pytorch/pytorch/pull/30531 for more information.\n",
            "  if p.grad is not None:\n",
            "/usr/local/lib/python3.7/dist-packages/torch/nn/modules/module.py:1702: UserWarning: The .grad attribute of a Tensor that is not a leaf Tensor is being accessed. Its .grad attribute won't be populated during autograd.backward(). If you indeed want the gradient for a non-leaf Tensor, use .retain_grad() on the non-leaf Tensor. If you access the non-leaf Tensor by mistake, make sure you access the leaf Tensor instead. See github.com/pytorch/pytorch/pull/30531 for more information.\n",
            "  if p.grad is not None:\n",
            "/usr/local/lib/python3.7/dist-packages/torch/nn/modules/module.py:1702: UserWarning: The .grad attribute of a Tensor that is not a leaf Tensor is being accessed. Its .grad attribute won't be populated during autograd.backward(). If you indeed want the gradient for a non-leaf Tensor, use .retain_grad() on the non-leaf Tensor. If you access the non-leaf Tensor by mistake, make sure you access the leaf Tensor instead. See github.com/pytorch/pytorch/pull/30531 for more information.\n",
            "  if p.grad is not None:\n",
            "/usr/local/lib/python3.7/dist-packages/torch/nn/modules/module.py:1702: UserWarning: The .grad attribute of a Tensor that is not a leaf Tensor is being accessed. Its .grad attribute won't be populated during autograd.backward(). If you indeed want the gradient for a non-leaf Tensor, use .retain_grad() on the non-leaf Tensor. If you access the non-leaf Tensor by mistake, make sure you access the leaf Tensor instead. See github.com/pytorch/pytorch/pull/30531 for more information.\n",
            "  if p.grad is not None:\n",
            "/usr/local/lib/python3.7/dist-packages/torch/nn/modules/module.py:1702: UserWarning: The .grad attribute of a Tensor that is not a leaf Tensor is being accessed. Its .grad attribute won't be populated during autograd.backward(). If you indeed want the gradient for a non-leaf Tensor, use .retain_grad() on the non-leaf Tensor. If you access the non-leaf Tensor by mistake, make sure you access the leaf Tensor instead. See github.com/pytorch/pytorch/pull/30531 for more information.\n",
            "  if p.grad is not None:\n",
            "/usr/local/lib/python3.7/dist-packages/torch/nn/modules/module.py:1702: UserWarning: The .grad attribute of a Tensor that is not a leaf Tensor is being accessed. Its .grad attribute won't be populated during autograd.backward(). If you indeed want the gradient for a non-leaf Tensor, use .retain_grad() on the non-leaf Tensor. If you access the non-leaf Tensor by mistake, make sure you access the leaf Tensor instead. See github.com/pytorch/pytorch/pull/30531 for more information.\n",
            "  if p.grad is not None:\n",
            "/usr/local/lib/python3.7/dist-packages/torch/nn/modules/module.py:1702: UserWarning: The .grad attribute of a Tensor that is not a leaf Tensor is being accessed. Its .grad attribute won't be populated during autograd.backward(). If you indeed want the gradient for a non-leaf Tensor, use .retain_grad() on the non-leaf Tensor. If you access the non-leaf Tensor by mistake, make sure you access the leaf Tensor instead. See github.com/pytorch/pytorch/pull/30531 for more information.\n",
            "  if p.grad is not None:\n",
            "/usr/local/lib/python3.7/dist-packages/torch/nn/modules/module.py:1702: UserWarning: The .grad attribute of a Tensor that is not a leaf Tensor is being accessed. Its .grad attribute won't be populated during autograd.backward(). If you indeed want the gradient for a non-leaf Tensor, use .retain_grad() on the non-leaf Tensor. If you access the non-leaf Tensor by mistake, make sure you access the leaf Tensor instead. See github.com/pytorch/pytorch/pull/30531 for more information.\n",
            "  if p.grad is not None:\n",
            "/usr/local/lib/python3.7/dist-packages/numpy/core/_asarray.py:83: VisibleDeprecationWarning: Creating an ndarray from ragged nested sequences (which is a list-or-tuple of lists-or-tuples-or ndarrays with different lengths or shapes) is deprecated. If you meant to do this, you must specify 'dtype=object' when creating the ndarray\n",
            "  return array(a, dtype, copy=False, order=order)\n",
            "<string>:6: VisibleDeprecationWarning: Creating an ndarray from ragged nested sequences (which is a list-or-tuple of lists-or-tuples-or ndarrays with different lengths or shapes) is deprecated. If you meant to do this, you must specify 'dtype=object' when creating the ndarray\n",
            "/usr/local/lib/python3.7/dist-packages/torch/nn/modules/module.py:1702: UserWarning: The .grad attribute of a Tensor that is not a leaf Tensor is being accessed. Its .grad attribute won't be populated during autograd.backward(). If you indeed want the gradient for a non-leaf Tensor, use .retain_grad() on the non-leaf Tensor. If you access the non-leaf Tensor by mistake, make sure you access the leaf Tensor instead. See github.com/pytorch/pytorch/pull/30531 for more information.\n",
            "  if p.grad is not None:\n",
            "/usr/local/lib/python3.7/dist-packages/torch/nn/modules/module.py:1702: UserWarning: The .grad attribute of a Tensor that is not a leaf Tensor is being accessed. Its .grad attribute won't be populated during autograd.backward(). If you indeed want the gradient for a non-leaf Tensor, use .retain_grad() on the non-leaf Tensor. If you access the non-leaf Tensor by mistake, make sure you access the leaf Tensor instead. See github.com/pytorch/pytorch/pull/30531 for more information.\n",
            "  if p.grad is not None:\n",
            "/usr/local/lib/python3.7/dist-packages/torch/nn/modules/module.py:1702: UserWarning: The .grad attribute of a Tensor that is not a leaf Tensor is being accessed. Its .grad attribute won't be populated during autograd.backward(). If you indeed want the gradient for a non-leaf Tensor, use .retain_grad() on the non-leaf Tensor. If you access the non-leaf Tensor by mistake, make sure you access the leaf Tensor instead. See github.com/pytorch/pytorch/pull/30531 for more information.\n",
            "  if p.grad is not None:\n",
            "/usr/local/lib/python3.7/dist-packages/torch/nn/modules/module.py:1702: UserWarning: The .grad attribute of a Tensor that is not a leaf Tensor is being accessed. Its .grad attribute won't be populated during autograd.backward(). If you indeed want the gradient for a non-leaf Tensor, use .retain_grad() on the non-leaf Tensor. If you access the non-leaf Tensor by mistake, make sure you access the leaf Tensor instead. See github.com/pytorch/pytorch/pull/30531 for more information.\n",
            "  if p.grad is not None:\n",
            "/usr/local/lib/python3.7/dist-packages/torch/nn/modules/module.py:1702: UserWarning: The .grad attribute of a Tensor that is not a leaf Tensor is being accessed. Its .grad attribute won't be populated during autograd.backward(). If you indeed want the gradient for a non-leaf Tensor, use .retain_grad() on the non-leaf Tensor. If you access the non-leaf Tensor by mistake, make sure you access the leaf Tensor instead. See github.com/pytorch/pytorch/pull/30531 for more information.\n",
            "  if p.grad is not None:\n",
            "/usr/local/lib/python3.7/dist-packages/torch/nn/modules/module.py:1702: UserWarning: The .grad attribute of a Tensor that is not a leaf Tensor is being accessed. Its .grad attribute won't be populated during autograd.backward(). If you indeed want the gradient for a non-leaf Tensor, use .retain_grad() on the non-leaf Tensor. If you access the non-leaf Tensor by mistake, make sure you access the leaf Tensor instead. See github.com/pytorch/pytorch/pull/30531 for more information.\n",
            "  if p.grad is not None:\n",
            "/usr/local/lib/python3.7/dist-packages/torch/nn/modules/module.py:1702: UserWarning: The .grad attribute of a Tensor that is not a leaf Tensor is being accessed. Its .grad attribute won't be populated during autograd.backward(). If you indeed want the gradient for a non-leaf Tensor, use .retain_grad() on the non-leaf Tensor. If you access the non-leaf Tensor by mistake, make sure you access the leaf Tensor instead. See github.com/pytorch/pytorch/pull/30531 for more information.\n",
            "  if p.grad is not None:\n",
            "/usr/local/lib/python3.7/dist-packages/torch/nn/modules/module.py:1702: UserWarning: The .grad attribute of a Tensor that is not a leaf Tensor is being accessed. Its .grad attribute won't be populated during autograd.backward(). If you indeed want the gradient for a non-leaf Tensor, use .retain_grad() on the non-leaf Tensor. If you access the non-leaf Tensor by mistake, make sure you access the leaf Tensor instead. See github.com/pytorch/pytorch/pull/30531 for more information.\n",
            "  if p.grad is not None:\n",
            "/usr/local/lib/python3.7/dist-packages/torch/nn/modules/module.py:1702: UserWarning: The .grad attribute of a Tensor that is not a leaf Tensor is being accessed. Its .grad attribute won't be populated during autograd.backward(). If you indeed want the gradient for a non-leaf Tensor, use .retain_grad() on the non-leaf Tensor. If you access the non-leaf Tensor by mistake, make sure you access the leaf Tensor instead. See github.com/pytorch/pytorch/pull/30531 for more information.\n",
            "  if p.grad is not None:\n",
            "/usr/local/lib/python3.7/dist-packages/torch/nn/modules/module.py:1702: UserWarning: The .grad attribute of a Tensor that is not a leaf Tensor is being accessed. Its .grad attribute won't be populated during autograd.backward(). If you indeed want the gradient for a non-leaf Tensor, use .retain_grad() on the non-leaf Tensor. If you access the non-leaf Tensor by mistake, make sure you access the leaf Tensor instead. See github.com/pytorch/pytorch/pull/30531 for more information.\n",
            "  if p.grad is not None:\n",
            "/usr/local/lib/python3.7/dist-packages/torch/nn/modules/module.py:1702: UserWarning: The .grad attribute of a Tensor that is not a leaf Tensor is being accessed. Its .grad attribute won't be populated during autograd.backward(). If you indeed want the gradient for a non-leaf Tensor, use .retain_grad() on the non-leaf Tensor. If you access the non-leaf Tensor by mistake, make sure you access the leaf Tensor instead. See github.com/pytorch/pytorch/pull/30531 for more information.\n",
            "  if p.grad is not None:\n",
            "/usr/local/lib/python3.7/dist-packages/torch/nn/modules/module.py:1702: UserWarning: The .grad attribute of a Tensor that is not a leaf Tensor is being accessed. Its .grad attribute won't be populated during autograd.backward(). If you indeed want the gradient for a non-leaf Tensor, use .retain_grad() on the non-leaf Tensor. If you access the non-leaf Tensor by mistake, make sure you access the leaf Tensor instead. See github.com/pytorch/pytorch/pull/30531 for more information.\n",
            "  if p.grad is not None:\n",
            "/usr/local/lib/python3.7/dist-packages/numpy/core/_asarray.py:83: VisibleDeprecationWarning: Creating an ndarray from ragged nested sequences (which is a list-or-tuple of lists-or-tuples-or ndarrays with different lengths or shapes) is deprecated. If you meant to do this, you must specify 'dtype=object' when creating the ndarray\n",
            "  return array(a, dtype, copy=False, order=order)\n",
            "<string>:6: VisibleDeprecationWarning: Creating an ndarray from ragged nested sequences (which is a list-or-tuple of lists-or-tuples-or ndarrays with different lengths or shapes) is deprecated. If you meant to do this, you must specify 'dtype=object' when creating the ndarray\n",
            "/usr/local/lib/python3.7/dist-packages/torch/nn/modules/module.py:1702: UserWarning: The .grad attribute of a Tensor that is not a leaf Tensor is being accessed. Its .grad attribute won't be populated during autograd.backward(). If you indeed want the gradient for a non-leaf Tensor, use .retain_grad() on the non-leaf Tensor. If you access the non-leaf Tensor by mistake, make sure you access the leaf Tensor instead. See github.com/pytorch/pytorch/pull/30531 for more information.\n",
            "  if p.grad is not None:\n",
            "/usr/local/lib/python3.7/dist-packages/torch/nn/modules/module.py:1702: UserWarning: The .grad attribute of a Tensor that is not a leaf Tensor is being accessed. Its .grad attribute won't be populated during autograd.backward(). If you indeed want the gradient for a non-leaf Tensor, use .retain_grad() on the non-leaf Tensor. If you access the non-leaf Tensor by mistake, make sure you access the leaf Tensor instead. See github.com/pytorch/pytorch/pull/30531 for more information.\n",
            "  if p.grad is not None:\n",
            "/usr/local/lib/python3.7/dist-packages/torch/nn/modules/module.py:1702: UserWarning: The .grad attribute of a Tensor that is not a leaf Tensor is being accessed. Its .grad attribute won't be populated during autograd.backward(). If you indeed want the gradient for a non-leaf Tensor, use .retain_grad() on the non-leaf Tensor. If you access the non-leaf Tensor by mistake, make sure you access the leaf Tensor instead. See github.com/pytorch/pytorch/pull/30531 for more information.\n",
            "  if p.grad is not None:\n",
            "/usr/local/lib/python3.7/dist-packages/torch/nn/modules/module.py:1702: UserWarning: The .grad attribute of a Tensor that is not a leaf Tensor is being accessed. Its .grad attribute won't be populated during autograd.backward(). If you indeed want the gradient for a non-leaf Tensor, use .retain_grad() on the non-leaf Tensor. If you access the non-leaf Tensor by mistake, make sure you access the leaf Tensor instead. See github.com/pytorch/pytorch/pull/30531 for more information.\n",
            "  if p.grad is not None:\n",
            "/usr/local/lib/python3.7/dist-packages/torch/nn/modules/module.py:1702: UserWarning: The .grad attribute of a Tensor that is not a leaf Tensor is being accessed. Its .grad attribute won't be populated during autograd.backward(). If you indeed want the gradient for a non-leaf Tensor, use .retain_grad() on the non-leaf Tensor. If you access the non-leaf Tensor by mistake, make sure you access the leaf Tensor instead. See github.com/pytorch/pytorch/pull/30531 for more information.\n",
            "  if p.grad is not None:\n",
            "/usr/local/lib/python3.7/dist-packages/torch/nn/modules/module.py:1702: UserWarning: The .grad attribute of a Tensor that is not a leaf Tensor is being accessed. Its .grad attribute won't be populated during autograd.backward(). If you indeed want the gradient for a non-leaf Tensor, use .retain_grad() on the non-leaf Tensor. If you access the non-leaf Tensor by mistake, make sure you access the leaf Tensor instead. See github.com/pytorch/pytorch/pull/30531 for more information.\n",
            "  if p.grad is not None:\n",
            "/usr/local/lib/python3.7/dist-packages/torch/nn/modules/module.py:1702: UserWarning: The .grad attribute of a Tensor that is not a leaf Tensor is being accessed. Its .grad attribute won't be populated during autograd.backward(). If you indeed want the gradient for a non-leaf Tensor, use .retain_grad() on the non-leaf Tensor. If you access the non-leaf Tensor by mistake, make sure you access the leaf Tensor instead. See github.com/pytorch/pytorch/pull/30531 for more information.\n",
            "  if p.grad is not None:\n",
            "/usr/local/lib/python3.7/dist-packages/torch/nn/modules/module.py:1702: UserWarning: The .grad attribute of a Tensor that is not a leaf Tensor is being accessed. Its .grad attribute won't be populated during autograd.backward(). If you indeed want the gradient for a non-leaf Tensor, use .retain_grad() on the non-leaf Tensor. If you access the non-leaf Tensor by mistake, make sure you access the leaf Tensor instead. See github.com/pytorch/pytorch/pull/30531 for more information.\n",
            "  if p.grad is not None:\n",
            "/usr/local/lib/python3.7/dist-packages/torch/nn/modules/module.py:1702: UserWarning: The .grad attribute of a Tensor that is not a leaf Tensor is being accessed. Its .grad attribute won't be populated during autograd.backward(). If you indeed want the gradient for a non-leaf Tensor, use .retain_grad() on the non-leaf Tensor. If you access the non-leaf Tensor by mistake, make sure you access the leaf Tensor instead. See github.com/pytorch/pytorch/pull/30531 for more information.\n",
            "  if p.grad is not None:\n",
            "/usr/local/lib/python3.7/dist-packages/torch/nn/modules/module.py:1702: UserWarning: The .grad attribute of a Tensor that is not a leaf Tensor is being accessed. Its .grad attribute won't be populated during autograd.backward(). If you indeed want the gradient for a non-leaf Tensor, use .retain_grad() on the non-leaf Tensor. If you access the non-leaf Tensor by mistake, make sure you access the leaf Tensor instead. See github.com/pytorch/pytorch/pull/30531 for more information.\n",
            "  if p.grad is not None:\n",
            "/usr/local/lib/python3.7/dist-packages/torch/nn/modules/module.py:1702: UserWarning: The .grad attribute of a Tensor that is not a leaf Tensor is being accessed. Its .grad attribute won't be populated during autograd.backward(). If you indeed want the gradient for a non-leaf Tensor, use .retain_grad() on the non-leaf Tensor. If you access the non-leaf Tensor by mistake, make sure you access the leaf Tensor instead. See github.com/pytorch/pytorch/pull/30531 for more information.\n",
            "  if p.grad is not None:\n",
            "/usr/local/lib/python3.7/dist-packages/torch/nn/modules/module.py:1702: UserWarning: The .grad attribute of a Tensor that is not a leaf Tensor is being accessed. Its .grad attribute won't be populated during autograd.backward(). If you indeed want the gradient for a non-leaf Tensor, use .retain_grad() on the non-leaf Tensor. If you access the non-leaf Tensor by mistake, make sure you access the leaf Tensor instead. See github.com/pytorch/pytorch/pull/30531 for more information.\n",
            "  if p.grad is not None:\n"
          ]
        }
      ]
    },
    {
      "cell_type": "markdown",
      "metadata": {
        "id": "S4ZGWEWcYlrt"
      },
      "source": [
        "## Predictions"
      ]
    },
    {
      "cell_type": "code",
      "metadata": {
        "id": "QsFQRbrPP6Ce",
        "colab": {
          "base_uri": "https://localhost:8080/"
        },
        "outputId": "12cc1bb7-db19-4d27-d810-cc7896aeef28"
      },
      "source": [
        "review = \"This was a ok.\"\n",
        "pred_cls, pred_idx, confidence_score = learn_c.predict(review)\n",
        "print(f\"{pred_cls.obj} | {pred_idx}: {confidence_score}\")\n"
      ],
      "execution_count": 142,
      "outputs": [
        {
          "output_type": "stream",
          "name": "stdout",
          "text": [
            "positive | 1: tensor([0.2850, 0.7150])\n"
          ]
        }
      ]
    },
    {
      "cell_type": "code",
      "metadata": {
        "id": "vqiDuqXZlyFQ",
        "colab": {
          "base_uri": "https://localhost:8080/"
        },
        "outputId": "874fe312-0ba8-4b41-a6f3-ee9e5b2cd712"
      },
      "source": [
        "review = \"I didn't like the movie\"\n",
        "pred_cls, pred_idx, confidence_score = learn_c.predict(review)\n",
        "print(f\"{pred_cls.obj} | {pred_idx}: {confidence_score}\")\n"
      ],
      "execution_count": 143,
      "outputs": [
        {
          "output_type": "stream",
          "name": "stdout",
          "text": [
            "negative | 0: tensor([0.8313, 0.1687])\n"
          ]
        }
      ]
    },
    {
      "cell_type": "code",
      "metadata": {
        "id": "P0UMGriIl345",
        "colab": {
          "base_uri": "https://localhost:8080/"
        },
        "outputId": "b8c39191-1911-4038-a5ef-35b02f640f38"
      },
      "source": [
        "review = \"The moive did not reach my expectation\"\n",
        "pred_cls, pred_idx, confidence_score = learn_c.predict(review)\n",
        "print(f\"{pred_cls.obj} | {pred_idx}: {confidence_score}\")\n"
      ],
      "execution_count": 144,
      "outputs": [
        {
          "output_type": "stream",
          "name": "stdout",
          "text": [
            "positive | 1: tensor([0.4976, 0.5024])\n"
          ]
        }
      ]
    },
    {
      "cell_type": "code",
      "metadata": {
        "id": "1dlRFVI2l9vm",
        "colab": {
          "base_uri": "https://localhost:8080/"
        },
        "outputId": "cc7ce8a9-0541-4fc8-8488-891ef81ad6b6"
      },
      "source": [
        "review = \"audience were laughing and screaming throughout\"\n",
        "pred_cls, pred_idx, confidence_score = learn_c.predict(review)\n",
        "print(f\"{pred_cls.obj} | {pred_idx}: {confidence_score}\")"
      ],
      "execution_count": 145,
      "outputs": [
        {
          "output_type": "stream",
          "name": "stdout",
          "text": [
            "positive | 1: tensor([0.3570, 0.6430])\n"
          ]
        }
      ]
    },
    {
      "cell_type": "code",
      "metadata": {
        "id": "2SAkXWummB61",
        "colab": {
          "base_uri": "https://localhost:8080/"
        },
        "outputId": "0a05614e-9d97-48af-8c38-fa7f41a75fff"
      },
      "source": [
        "review = \"the movie was bad!\"\n",
        "pred_cls, pred_idx, confidence_score = learn_c.predict(review)\n",
        "print(f\"{pred_cls.obj} | {pred_idx}: {confidence_score}\")"
      ],
      "execution_count": 146,
      "outputs": [
        {
          "output_type": "stream",
          "name": "stdout",
          "text": [
            "positive | 1: tensor([0.4867, 0.5133])\n"
          ]
        }
      ]
    },
    {
      "cell_type": "code",
      "metadata": {
        "id": "gx7XNG20mTvt",
        "colab": {
          "base_uri": "https://localhost:8080/"
        },
        "outputId": "e7f4ddea-ef94-4915-a3e8-efe1aba8308f"
      },
      "source": [
        "review = \"This plot of the movie was confusing which left the audience bored\"\n",
        "pred_cls, pred_idx, confidence_score = learn_c.predict(review)\n",
        "print(f\"{pred_cls.obj} | {pred_idx}: {confidence_score}\")\n"
      ],
      "execution_count": 147,
      "outputs": [
        {
          "output_type": "stream",
          "name": "stdout",
          "text": [
            "negative | 0: tensor([0.9008, 0.0992])\n"
          ]
        }
      ]
    },
    {
      "cell_type": "code",
      "metadata": {
        "id": "VN_A5IETZU3z",
        "outputId": "cd32cea8-bcae-4cf1-a513-c02c0175efba",
        "colab": {
          "base_uri": "https://localhost:8080/",
          "height": 1000
        }
      },
      "source": [
        "# after re-training run the above predictions again\n",
        "learn_c.fit_one_cycle(3, slice(1e-4, 1e-2))"
      ],
      "execution_count": 148,
      "outputs": [
        {
          "output_type": "display_data",
          "data": {
            "text/html": [
              "<table border=\"1\" class=\"dataframe\">\n",
              "  <thead>\n",
              "    <tr style=\"text-align: left;\">\n",
              "      <th>epoch</th>\n",
              "      <th>train_loss</th>\n",
              "      <th>valid_loss</th>\n",
              "      <th>accuracy</th>\n",
              "      <th>time</th>\n",
              "    </tr>\n",
              "  </thead>\n",
              "  <tbody>\n",
              "    <tr>\n",
              "      <td>0</td>\n",
              "      <td>0.221002</td>\n",
              "      <td>0.406384</td>\n",
              "      <td>0.815920</td>\n",
              "      <td>00:41</td>\n",
              "    </tr>\n",
              "    <tr>\n",
              "      <td>1</td>\n",
              "      <td>0.216234</td>\n",
              "      <td>0.358415</td>\n",
              "      <td>0.855721</td>\n",
              "      <td>00:43</td>\n",
              "    </tr>\n",
              "    <tr>\n",
              "      <td>2</td>\n",
              "      <td>0.178552</td>\n",
              "      <td>0.321629</td>\n",
              "      <td>0.880597</td>\n",
              "      <td>00:45</td>\n",
              "    </tr>\n",
              "  </tbody>\n",
              "</table>"
            ],
            "text/plain": [
              "<IPython.core.display.HTML object>"
            ]
          },
          "metadata": {}
        },
        {
          "output_type": "stream",
          "name": "stderr",
          "text": [
            "/usr/local/lib/python3.7/dist-packages/numpy/core/_asarray.py:83: VisibleDeprecationWarning: Creating an ndarray from ragged nested sequences (which is a list-or-tuple of lists-or-tuples-or ndarrays with different lengths or shapes) is deprecated. If you meant to do this, you must specify 'dtype=object' when creating the ndarray\n",
            "  return array(a, dtype, copy=False, order=order)\n",
            "<string>:6: VisibleDeprecationWarning: Creating an ndarray from ragged nested sequences (which is a list-or-tuple of lists-or-tuples-or ndarrays with different lengths or shapes) is deprecated. If you meant to do this, you must specify 'dtype=object' when creating the ndarray\n",
            "/usr/local/lib/python3.7/dist-packages/torch/nn/modules/module.py:1702: UserWarning: The .grad attribute of a Tensor that is not a leaf Tensor is being accessed. Its .grad attribute won't be populated during autograd.backward(). If you indeed want the gradient for a non-leaf Tensor, use .retain_grad() on the non-leaf Tensor. If you access the non-leaf Tensor by mistake, make sure you access the leaf Tensor instead. See github.com/pytorch/pytorch/pull/30531 for more information.\n",
            "  if p.grad is not None:\n",
            "/usr/local/lib/python3.7/dist-packages/torch/nn/modules/module.py:1702: UserWarning: The .grad attribute of a Tensor that is not a leaf Tensor is being accessed. Its .grad attribute won't be populated during autograd.backward(). If you indeed want the gradient for a non-leaf Tensor, use .retain_grad() on the non-leaf Tensor. If you access the non-leaf Tensor by mistake, make sure you access the leaf Tensor instead. See github.com/pytorch/pytorch/pull/30531 for more information.\n",
            "  if p.grad is not None:\n",
            "/usr/local/lib/python3.7/dist-packages/torch/nn/modules/module.py:1702: UserWarning: The .grad attribute of a Tensor that is not a leaf Tensor is being accessed. Its .grad attribute won't be populated during autograd.backward(). If you indeed want the gradient for a non-leaf Tensor, use .retain_grad() on the non-leaf Tensor. If you access the non-leaf Tensor by mistake, make sure you access the leaf Tensor instead. See github.com/pytorch/pytorch/pull/30531 for more information.\n",
            "  if p.grad is not None:\n",
            "/usr/local/lib/python3.7/dist-packages/torch/nn/modules/module.py:1702: UserWarning: The .grad attribute of a Tensor that is not a leaf Tensor is being accessed. Its .grad attribute won't be populated during autograd.backward(). If you indeed want the gradient for a non-leaf Tensor, use .retain_grad() on the non-leaf Tensor. If you access the non-leaf Tensor by mistake, make sure you access the leaf Tensor instead. See github.com/pytorch/pytorch/pull/30531 for more information.\n",
            "  if p.grad is not None:\n",
            "/usr/local/lib/python3.7/dist-packages/torch/nn/modules/module.py:1702: UserWarning: The .grad attribute of a Tensor that is not a leaf Tensor is being accessed. Its .grad attribute won't be populated during autograd.backward(). If you indeed want the gradient for a non-leaf Tensor, use .retain_grad() on the non-leaf Tensor. If you access the non-leaf Tensor by mistake, make sure you access the leaf Tensor instead. See github.com/pytorch/pytorch/pull/30531 for more information.\n",
            "  if p.grad is not None:\n",
            "/usr/local/lib/python3.7/dist-packages/torch/nn/modules/module.py:1702: UserWarning: The .grad attribute of a Tensor that is not a leaf Tensor is being accessed. Its .grad attribute won't be populated during autograd.backward(). If you indeed want the gradient for a non-leaf Tensor, use .retain_grad() on the non-leaf Tensor. If you access the non-leaf Tensor by mistake, make sure you access the leaf Tensor instead. See github.com/pytorch/pytorch/pull/30531 for more information.\n",
            "  if p.grad is not None:\n",
            "/usr/local/lib/python3.7/dist-packages/torch/nn/modules/module.py:1702: UserWarning: The .grad attribute of a Tensor that is not a leaf Tensor is being accessed. Its .grad attribute won't be populated during autograd.backward(). If you indeed want the gradient for a non-leaf Tensor, use .retain_grad() on the non-leaf Tensor. If you access the non-leaf Tensor by mistake, make sure you access the leaf Tensor instead. See github.com/pytorch/pytorch/pull/30531 for more information.\n",
            "  if p.grad is not None:\n",
            "/usr/local/lib/python3.7/dist-packages/torch/nn/modules/module.py:1702: UserWarning: The .grad attribute of a Tensor that is not a leaf Tensor is being accessed. Its .grad attribute won't be populated during autograd.backward(). If you indeed want the gradient for a non-leaf Tensor, use .retain_grad() on the non-leaf Tensor. If you access the non-leaf Tensor by mistake, make sure you access the leaf Tensor instead. See github.com/pytorch/pytorch/pull/30531 for more information.\n",
            "  if p.grad is not None:\n",
            "/usr/local/lib/python3.7/dist-packages/torch/nn/modules/module.py:1702: UserWarning: The .grad attribute of a Tensor that is not a leaf Tensor is being accessed. Its .grad attribute won't be populated during autograd.backward(). If you indeed want the gradient for a non-leaf Tensor, use .retain_grad() on the non-leaf Tensor. If you access the non-leaf Tensor by mistake, make sure you access the leaf Tensor instead. See github.com/pytorch/pytorch/pull/30531 for more information.\n",
            "  if p.grad is not None:\n",
            "/usr/local/lib/python3.7/dist-packages/torch/nn/modules/module.py:1702: UserWarning: The .grad attribute of a Tensor that is not a leaf Tensor is being accessed. Its .grad attribute won't be populated during autograd.backward(). If you indeed want the gradient for a non-leaf Tensor, use .retain_grad() on the non-leaf Tensor. If you access the non-leaf Tensor by mistake, make sure you access the leaf Tensor instead. See github.com/pytorch/pytorch/pull/30531 for more information.\n",
            "  if p.grad is not None:\n",
            "/usr/local/lib/python3.7/dist-packages/torch/nn/modules/module.py:1702: UserWarning: The .grad attribute of a Tensor that is not a leaf Tensor is being accessed. Its .grad attribute won't be populated during autograd.backward(). If you indeed want the gradient for a non-leaf Tensor, use .retain_grad() on the non-leaf Tensor. If you access the non-leaf Tensor by mistake, make sure you access the leaf Tensor instead. See github.com/pytorch/pytorch/pull/30531 for more information.\n",
            "  if p.grad is not None:\n",
            "/usr/local/lib/python3.7/dist-packages/torch/nn/modules/module.py:1702: UserWarning: The .grad attribute of a Tensor that is not a leaf Tensor is being accessed. Its .grad attribute won't be populated during autograd.backward(). If you indeed want the gradient for a non-leaf Tensor, use .retain_grad() on the non-leaf Tensor. If you access the non-leaf Tensor by mistake, make sure you access the leaf Tensor instead. See github.com/pytorch/pytorch/pull/30531 for more information.\n",
            "  if p.grad is not None:\n",
            "/usr/local/lib/python3.7/dist-packages/numpy/core/_asarray.py:83: VisibleDeprecationWarning: Creating an ndarray from ragged nested sequences (which is a list-or-tuple of lists-or-tuples-or ndarrays with different lengths or shapes) is deprecated. If you meant to do this, you must specify 'dtype=object' when creating the ndarray\n",
            "  return array(a, dtype, copy=False, order=order)\n",
            "<string>:6: VisibleDeprecationWarning: Creating an ndarray from ragged nested sequences (which is a list-or-tuple of lists-or-tuples-or ndarrays with different lengths or shapes) is deprecated. If you meant to do this, you must specify 'dtype=object' when creating the ndarray\n",
            "/usr/local/lib/python3.7/dist-packages/torch/nn/modules/module.py:1702: UserWarning: The .grad attribute of a Tensor that is not a leaf Tensor is being accessed. Its .grad attribute won't be populated during autograd.backward(). If you indeed want the gradient for a non-leaf Tensor, use .retain_grad() on the non-leaf Tensor. If you access the non-leaf Tensor by mistake, make sure you access the leaf Tensor instead. See github.com/pytorch/pytorch/pull/30531 for more information.\n",
            "  if p.grad is not None:\n",
            "/usr/local/lib/python3.7/dist-packages/torch/nn/modules/module.py:1702: UserWarning: The .grad attribute of a Tensor that is not a leaf Tensor is being accessed. Its .grad attribute won't be populated during autograd.backward(). If you indeed want the gradient for a non-leaf Tensor, use .retain_grad() on the non-leaf Tensor. If you access the non-leaf Tensor by mistake, make sure you access the leaf Tensor instead. See github.com/pytorch/pytorch/pull/30531 for more information.\n",
            "  if p.grad is not None:\n",
            "/usr/local/lib/python3.7/dist-packages/torch/nn/modules/module.py:1702: UserWarning: The .grad attribute of a Tensor that is not a leaf Tensor is being accessed. Its .grad attribute won't be populated during autograd.backward(). If you indeed want the gradient for a non-leaf Tensor, use .retain_grad() on the non-leaf Tensor. If you access the non-leaf Tensor by mistake, make sure you access the leaf Tensor instead. See github.com/pytorch/pytorch/pull/30531 for more information.\n",
            "  if p.grad is not None:\n",
            "/usr/local/lib/python3.7/dist-packages/torch/nn/modules/module.py:1702: UserWarning: The .grad attribute of a Tensor that is not a leaf Tensor is being accessed. Its .grad attribute won't be populated during autograd.backward(). If you indeed want the gradient for a non-leaf Tensor, use .retain_grad() on the non-leaf Tensor. If you access the non-leaf Tensor by mistake, make sure you access the leaf Tensor instead. See github.com/pytorch/pytorch/pull/30531 for more information.\n",
            "  if p.grad is not None:\n",
            "/usr/local/lib/python3.7/dist-packages/torch/nn/modules/module.py:1702: UserWarning: The .grad attribute of a Tensor that is not a leaf Tensor is being accessed. Its .grad attribute won't be populated during autograd.backward(). If you indeed want the gradient for a non-leaf Tensor, use .retain_grad() on the non-leaf Tensor. If you access the non-leaf Tensor by mistake, make sure you access the leaf Tensor instead. See github.com/pytorch/pytorch/pull/30531 for more information.\n",
            "  if p.grad is not None:\n",
            "/usr/local/lib/python3.7/dist-packages/torch/nn/modules/module.py:1702: UserWarning: The .grad attribute of a Tensor that is not a leaf Tensor is being accessed. Its .grad attribute won't be populated during autograd.backward(). If you indeed want the gradient for a non-leaf Tensor, use .retain_grad() on the non-leaf Tensor. If you access the non-leaf Tensor by mistake, make sure you access the leaf Tensor instead. See github.com/pytorch/pytorch/pull/30531 for more information.\n",
            "  if p.grad is not None:\n",
            "/usr/local/lib/python3.7/dist-packages/torch/nn/modules/module.py:1702: UserWarning: The .grad attribute of a Tensor that is not a leaf Tensor is being accessed. Its .grad attribute won't be populated during autograd.backward(). If you indeed want the gradient for a non-leaf Tensor, use .retain_grad() on the non-leaf Tensor. If you access the non-leaf Tensor by mistake, make sure you access the leaf Tensor instead. See github.com/pytorch/pytorch/pull/30531 for more information.\n",
            "  if p.grad is not None:\n",
            "/usr/local/lib/python3.7/dist-packages/torch/nn/modules/module.py:1702: UserWarning: The .grad attribute of a Tensor that is not a leaf Tensor is being accessed. Its .grad attribute won't be populated during autograd.backward(). If you indeed want the gradient for a non-leaf Tensor, use .retain_grad() on the non-leaf Tensor. If you access the non-leaf Tensor by mistake, make sure you access the leaf Tensor instead. See github.com/pytorch/pytorch/pull/30531 for more information.\n",
            "  if p.grad is not None:\n",
            "/usr/local/lib/python3.7/dist-packages/torch/nn/modules/module.py:1702: UserWarning: The .grad attribute of a Tensor that is not a leaf Tensor is being accessed. Its .grad attribute won't be populated during autograd.backward(). If you indeed want the gradient for a non-leaf Tensor, use .retain_grad() on the non-leaf Tensor. If you access the non-leaf Tensor by mistake, make sure you access the leaf Tensor instead. See github.com/pytorch/pytorch/pull/30531 for more information.\n",
            "  if p.grad is not None:\n",
            "/usr/local/lib/python3.7/dist-packages/torch/nn/modules/module.py:1702: UserWarning: The .grad attribute of a Tensor that is not a leaf Tensor is being accessed. Its .grad attribute won't be populated during autograd.backward(). If you indeed want the gradient for a non-leaf Tensor, use .retain_grad() on the non-leaf Tensor. If you access the non-leaf Tensor by mistake, make sure you access the leaf Tensor instead. See github.com/pytorch/pytorch/pull/30531 for more information.\n",
            "  if p.grad is not None:\n",
            "/usr/local/lib/python3.7/dist-packages/torch/nn/modules/module.py:1702: UserWarning: The .grad attribute of a Tensor that is not a leaf Tensor is being accessed. Its .grad attribute won't be populated during autograd.backward(). If you indeed want the gradient for a non-leaf Tensor, use .retain_grad() on the non-leaf Tensor. If you access the non-leaf Tensor by mistake, make sure you access the leaf Tensor instead. See github.com/pytorch/pytorch/pull/30531 for more information.\n",
            "  if p.grad is not None:\n",
            "/usr/local/lib/python3.7/dist-packages/torch/nn/modules/module.py:1702: UserWarning: The .grad attribute of a Tensor that is not a leaf Tensor is being accessed. Its .grad attribute won't be populated during autograd.backward(). If you indeed want the gradient for a non-leaf Tensor, use .retain_grad() on the non-leaf Tensor. If you access the non-leaf Tensor by mistake, make sure you access the leaf Tensor instead. See github.com/pytorch/pytorch/pull/30531 for more information.\n",
            "  if p.grad is not None:\n",
            "/usr/local/lib/python3.7/dist-packages/numpy/core/_asarray.py:83: VisibleDeprecationWarning: Creating an ndarray from ragged nested sequences (which is a list-or-tuple of lists-or-tuples-or ndarrays with different lengths or shapes) is deprecated. If you meant to do this, you must specify 'dtype=object' when creating the ndarray\n",
            "  return array(a, dtype, copy=False, order=order)\n",
            "<string>:6: VisibleDeprecationWarning: Creating an ndarray from ragged nested sequences (which is a list-or-tuple of lists-or-tuples-or ndarrays with different lengths or shapes) is deprecated. If you meant to do this, you must specify 'dtype=object' when creating the ndarray\n",
            "/usr/local/lib/python3.7/dist-packages/torch/nn/modules/module.py:1702: UserWarning: The .grad attribute of a Tensor that is not a leaf Tensor is being accessed. Its .grad attribute won't be populated during autograd.backward(). If you indeed want the gradient for a non-leaf Tensor, use .retain_grad() on the non-leaf Tensor. If you access the non-leaf Tensor by mistake, make sure you access the leaf Tensor instead. See github.com/pytorch/pytorch/pull/30531 for more information.\n",
            "  if p.grad is not None:\n",
            "/usr/local/lib/python3.7/dist-packages/torch/nn/modules/module.py:1702: UserWarning: The .grad attribute of a Tensor that is not a leaf Tensor is being accessed. Its .grad attribute won't be populated during autograd.backward(). If you indeed want the gradient for a non-leaf Tensor, use .retain_grad() on the non-leaf Tensor. If you access the non-leaf Tensor by mistake, make sure you access the leaf Tensor instead. See github.com/pytorch/pytorch/pull/30531 for more information.\n",
            "  if p.grad is not None:\n",
            "/usr/local/lib/python3.7/dist-packages/torch/nn/modules/module.py:1702: UserWarning: The .grad attribute of a Tensor that is not a leaf Tensor is being accessed. Its .grad attribute won't be populated during autograd.backward(). If you indeed want the gradient for a non-leaf Tensor, use .retain_grad() on the non-leaf Tensor. If you access the non-leaf Tensor by mistake, make sure you access the leaf Tensor instead. See github.com/pytorch/pytorch/pull/30531 for more information.\n",
            "  if p.grad is not None:\n",
            "/usr/local/lib/python3.7/dist-packages/torch/nn/modules/module.py:1702: UserWarning: The .grad attribute of a Tensor that is not a leaf Tensor is being accessed. Its .grad attribute won't be populated during autograd.backward(). If you indeed want the gradient for a non-leaf Tensor, use .retain_grad() on the non-leaf Tensor. If you access the non-leaf Tensor by mistake, make sure you access the leaf Tensor instead. See github.com/pytorch/pytorch/pull/30531 for more information.\n",
            "  if p.grad is not None:\n",
            "/usr/local/lib/python3.7/dist-packages/torch/nn/modules/module.py:1702: UserWarning: The .grad attribute of a Tensor that is not a leaf Tensor is being accessed. Its .grad attribute won't be populated during autograd.backward(). If you indeed want the gradient for a non-leaf Tensor, use .retain_grad() on the non-leaf Tensor. If you access the non-leaf Tensor by mistake, make sure you access the leaf Tensor instead. See github.com/pytorch/pytorch/pull/30531 for more information.\n",
            "  if p.grad is not None:\n",
            "/usr/local/lib/python3.7/dist-packages/torch/nn/modules/module.py:1702: UserWarning: The .grad attribute of a Tensor that is not a leaf Tensor is being accessed. Its .grad attribute won't be populated during autograd.backward(). If you indeed want the gradient for a non-leaf Tensor, use .retain_grad() on the non-leaf Tensor. If you access the non-leaf Tensor by mistake, make sure you access the leaf Tensor instead. See github.com/pytorch/pytorch/pull/30531 for more information.\n",
            "  if p.grad is not None:\n",
            "/usr/local/lib/python3.7/dist-packages/torch/nn/modules/module.py:1702: UserWarning: The .grad attribute of a Tensor that is not a leaf Tensor is being accessed. Its .grad attribute won't be populated during autograd.backward(). If you indeed want the gradient for a non-leaf Tensor, use .retain_grad() on the non-leaf Tensor. If you access the non-leaf Tensor by mistake, make sure you access the leaf Tensor instead. See github.com/pytorch/pytorch/pull/30531 for more information.\n",
            "  if p.grad is not None:\n",
            "/usr/local/lib/python3.7/dist-packages/torch/nn/modules/module.py:1702: UserWarning: The .grad attribute of a Tensor that is not a leaf Tensor is being accessed. Its .grad attribute won't be populated during autograd.backward(). If you indeed want the gradient for a non-leaf Tensor, use .retain_grad() on the non-leaf Tensor. If you access the non-leaf Tensor by mistake, make sure you access the leaf Tensor instead. See github.com/pytorch/pytorch/pull/30531 for more information.\n",
            "  if p.grad is not None:\n",
            "/usr/local/lib/python3.7/dist-packages/torch/nn/modules/module.py:1702: UserWarning: The .grad attribute of a Tensor that is not a leaf Tensor is being accessed. Its .grad attribute won't be populated during autograd.backward(). If you indeed want the gradient for a non-leaf Tensor, use .retain_grad() on the non-leaf Tensor. If you access the non-leaf Tensor by mistake, make sure you access the leaf Tensor instead. See github.com/pytorch/pytorch/pull/30531 for more information.\n",
            "  if p.grad is not None:\n",
            "/usr/local/lib/python3.7/dist-packages/torch/nn/modules/module.py:1702: UserWarning: The .grad attribute of a Tensor that is not a leaf Tensor is being accessed. Its .grad attribute won't be populated during autograd.backward(). If you indeed want the gradient for a non-leaf Tensor, use .retain_grad() on the non-leaf Tensor. If you access the non-leaf Tensor by mistake, make sure you access the leaf Tensor instead. See github.com/pytorch/pytorch/pull/30531 for more information.\n",
            "  if p.grad is not None:\n",
            "/usr/local/lib/python3.7/dist-packages/torch/nn/modules/module.py:1702: UserWarning: The .grad attribute of a Tensor that is not a leaf Tensor is being accessed. Its .grad attribute won't be populated during autograd.backward(). If you indeed want the gradient for a non-leaf Tensor, use .retain_grad() on the non-leaf Tensor. If you access the non-leaf Tensor by mistake, make sure you access the leaf Tensor instead. See github.com/pytorch/pytorch/pull/30531 for more information.\n",
            "  if p.grad is not None:\n",
            "/usr/local/lib/python3.7/dist-packages/torch/nn/modules/module.py:1702: UserWarning: The .grad attribute of a Tensor that is not a leaf Tensor is being accessed. Its .grad attribute won't be populated during autograd.backward(). If you indeed want the gradient for a non-leaf Tensor, use .retain_grad() on the non-leaf Tensor. If you access the non-leaf Tensor by mistake, make sure you access the leaf Tensor instead. See github.com/pytorch/pytorch/pull/30531 for more information.\n",
            "  if p.grad is not None:\n"
          ]
        }
      ]
    },
    {
      "cell_type": "code",
      "metadata": {
        "colab": {
          "base_uri": "https://localhost:8080/"
        },
        "id": "DcmS-ZqcaezM",
        "outputId": "285173cc-bd10-4df2-97be-d491d84795a6"
      },
      "source": [
        "review = \"This was a ok.\"\n",
        "pred_cls, pred_idx, confidence_score = learn_c.predict(review)\n",
        "print(f\"{pred_cls.obj} | {pred_idx}: {confidence_score}\")\n"
      ],
      "execution_count": 149,
      "outputs": [
        {
          "output_type": "stream",
          "name": "stdout",
          "text": [
            "positive | 1: tensor([0.0816, 0.9184])\n"
          ]
        }
      ]
    },
    {
      "cell_type": "code",
      "metadata": {
        "colab": {
          "base_uri": "https://localhost:8080/"
        },
        "id": "mYWQ7ad7aezV",
        "outputId": "98f08809-8dd0-4b90-b2e1-683f010d3485"
      },
      "source": [
        "review = \"I didn't like the movie\"\n",
        "pred_cls, pred_idx, confidence_score = learn_c.predict(review)\n",
        "print(f\"{pred_cls.obj} | {pred_idx}: {confidence_score}\")\n"
      ],
      "execution_count": 150,
      "outputs": [
        {
          "output_type": "stream",
          "name": "stdout",
          "text": [
            "positive | 1: tensor([0.4836, 0.5164])\n"
          ]
        }
      ]
    },
    {
      "cell_type": "code",
      "metadata": {
        "colab": {
          "base_uri": "https://localhost:8080/"
        },
        "id": "axs7ocz3aezW",
        "outputId": "54295ede-edfb-493f-af82-3ebfee61ca49"
      },
      "source": [
        "review = \"The moive did not reach my expectation\"\n",
        "pred_cls, pred_idx, confidence_score = learn_c.predict(review)\n",
        "print(f\"{pred_cls.obj} | {pred_idx}: {confidence_score}\")\n"
      ],
      "execution_count": 151,
      "outputs": [
        {
          "output_type": "stream",
          "name": "stdout",
          "text": [
            "positive | 1: tensor([0.3270, 0.6730])\n"
          ]
        }
      ]
    },
    {
      "cell_type": "code",
      "metadata": {
        "colab": {
          "base_uri": "https://localhost:8080/"
        },
        "id": "goNZt-nwaezW",
        "outputId": "05eb203e-fd66-4370-b6e3-6c70815496c7"
      },
      "source": [
        "review = \"audience were laughing and screaming throughout\"\n",
        "pred_cls, pred_idx, confidence_score = learn_c.predict(review)\n",
        "print(f\"{pred_cls.obj} | {pred_idx}: {confidence_score}\")"
      ],
      "execution_count": 152,
      "outputs": [
        {
          "output_type": "stream",
          "name": "stdout",
          "text": [
            "positive | 1: tensor([0.1803, 0.8197])\n"
          ]
        }
      ]
    },
    {
      "cell_type": "code",
      "metadata": {
        "colab": {
          "base_uri": "https://localhost:8080/"
        },
        "id": "InJV37goaezW",
        "outputId": "2017d79c-63d1-4504-8c05-21cb17610c2a"
      },
      "source": [
        "review = \"the movie was bad!\"\n",
        "pred_cls, pred_idx, confidence_score = learn_c.predict(review)\n",
        "print(f\"{pred_cls.obj} | {pred_idx}: {confidence_score}\")"
      ],
      "execution_count": 153,
      "outputs": [
        {
          "output_type": "stream",
          "name": "stdout",
          "text": [
            "positive | 1: tensor([0.0694, 0.9306])\n"
          ]
        }
      ]
    },
    {
      "cell_type": "code",
      "metadata": {
        "colab": {
          "base_uri": "https://localhost:8080/"
        },
        "id": "QBMGHvhtaezW",
        "outputId": "e741b154-3ac9-43a5-f08a-d61af27ec29f"
      },
      "source": [
        "review = \"This plot of the movie was confusing which left the audience bored\"\n",
        "pred_cls, pred_idx, confidence_score = learn_c.predict(review)\n",
        "print(f\"{pred_cls.obj} | {pred_idx}: {confidence_score}\")\n"
      ],
      "execution_count": 154,
      "outputs": [
        {
          "output_type": "stream",
          "name": "stdout",
          "text": [
            "negative | 0: tensor([0.9979, 0.0021])\n"
          ]
        }
      ]
    },
    {
      "cell_type": "markdown",
      "metadata": {
        "id": "d8dw9y7YZErX"
      },
      "source": [
        "## Analysis of the Results"
      ]
    },
    {
      "cell_type": "code",
      "metadata": {
        "id": "h4HJOtKEn0BH",
        "colab": {
          "base_uri": "https://localhost:8080/"
        },
        "outputId": "33ddf4ce-a95e-457e-fe9e-23712dfe3b16"
      },
      "source": [
        "print(learn_c.data.classes) # to check the classes order considered "
      ],
      "execution_count": 115,
      "outputs": [
        {
          "output_type": "stream",
          "name": "stdout",
          "text": [
            "['negative', 'positive']\n"
          ]
        }
      ]
    },
    {
      "cell_type": "code",
      "metadata": {
        "id": "i5ALg_yxJQ77",
        "outputId": "7db9acc3-41b3-472b-c911-e6bfbc5538fa",
        "colab": {
          "base_uri": "https://localhost:8080/",
          "height": 17
        }
      },
      "source": [
        "from sklearn import metrics\n",
        "preds = learn.get_preds()"
      ],
      "execution_count": 116,
      "outputs": [
        {
          "output_type": "display_data",
          "data": {
            "text/html": [
              ""
            ],
            "text/plain": [
              "<IPython.core.display.HTML object>"
            ]
          },
          "metadata": {}
        }
      ]
    },
    {
      "cell_type": "code",
      "metadata": {
        "id": "gDYixIoJnxbH",
        "colab": {
          "base_uri": "https://localhost:8080/"
        },
        "outputId": "988c5cc6-3576-412c-ce27-345fbe601965"
      },
      "source": [
        "predictions = np.argmax(preds[0], axis = 1) \n",
        "targets = preds[1]\n",
        "print (f\"predict:{predictions}\")\n",
        "print(f\"target:{targets}\")\n",
        "confusion_matrix = metrics.confusion_matrix(targets, predictions)\n",
        "print(confusion_matrix)\n",
        "target_names = learn_c.data.classes\n",
        "print(metrics.classification_report(targets, predictions, target_names=target_names))"
      ],
      "execution_count": 117,
      "outputs": [
        {
          "output_type": "stream",
          "name": "stdout",
          "text": [
            "predict:tensor([1, 1, 1, 1, 0, 1, 0, 0, 0, 1, 0, 0, 0, 1, 1, 1, 1, 0, 1, 0, 0, 1, 1, 1,\n",
            "        1, 1, 0, 1, 0, 1, 0, 1, 1, 1, 1, 0, 0, 0, 1, 0, 0, 0, 0, 1, 0, 0, 1, 1,\n",
            "        0, 0, 0, 0, 0, 1, 0, 1, 0, 1, 1, 1, 1, 1, 0, 0, 0, 0, 1, 0, 1, 1, 1, 1,\n",
            "        1, 0, 1, 0, 0, 0, 0, 1, 0, 1, 0, 0, 1, 1, 1, 1, 1, 0, 1, 0, 0, 1, 1, 1,\n",
            "        0, 1, 1, 1, 1, 1, 0, 0, 0, 0, 0, 1, 0, 0, 1, 0, 0, 1, 1, 0, 1, 1, 0, 1,\n",
            "        0, 1, 0, 0, 1, 1, 0, 0, 1, 0, 0, 1, 1, 0, 0, 1, 0, 1, 0, 0, 0, 1, 1, 1,\n",
            "        0, 1, 0, 1, 1, 1, 0, 1, 1, 0, 0, 1, 1, 1, 1, 1, 0, 1, 1, 0, 1, 0, 0, 0,\n",
            "        0, 0, 0, 0, 0, 1, 0, 1, 0, 0, 0, 0, 0, 0, 0, 0, 0, 1, 0, 1, 1, 1, 1, 0,\n",
            "        1, 0, 1, 1, 0, 0, 0, 1, 0])\n",
            "target:tensor([0, 1, 1, 1, 0, 1, 0, 0, 0, 1, 0, 0, 0, 1, 1, 1, 1, 0, 1, 0, 1, 1, 0, 0,\n",
            "        1, 0, 0, 1, 1, 1, 0, 1, 1, 0, 1, 0, 0, 0, 1, 0, 0, 0, 1, 1, 0, 0, 1, 1,\n",
            "        0, 0, 0, 0, 1, 1, 0, 1, 0, 1, 1, 1, 1, 1, 0, 0, 0, 0, 1, 0, 1, 1, 0, 1,\n",
            "        1, 0, 1, 0, 0, 0, 0, 0, 0, 1, 0, 0, 1, 1, 0, 1, 0, 0, 1, 0, 0, 1, 1, 1,\n",
            "        0, 0, 1, 1, 1, 1, 0, 0, 0, 0, 1, 1, 0, 0, 1, 0, 0, 1, 1, 0, 1, 1, 0, 1,\n",
            "        0, 1, 0, 0, 1, 1, 0, 0, 0, 0, 0, 1, 1, 0, 0, 0, 0, 1, 0, 0, 1, 1, 1, 0,\n",
            "        0, 1, 0, 0, 1, 1, 0, 1, 1, 0, 1, 1, 1, 1, 1, 1, 0, 1, 1, 0, 0, 0, 0, 0,\n",
            "        0, 0, 0, 0, 1, 0, 0, 1, 0, 0, 0, 0, 0, 0, 0, 0, 0, 0, 0, 0, 1, 1, 1, 0,\n",
            "        1, 0, 1, 0, 0, 0, 0, 1, 0])\n",
            "[[94 19]\n",
            " [ 8 80]]\n",
            "              precision    recall  f1-score   support\n",
            "\n",
            "    negative       0.92      0.83      0.87       113\n",
            "    positive       0.81      0.91      0.86        88\n",
            "\n",
            "    accuracy                           0.87       201\n",
            "   macro avg       0.86      0.87      0.87       201\n",
            "weighted avg       0.87      0.87      0.87       201\n",
            "\n"
          ]
        }
      ]
    },
    {
      "cell_type": "code",
      "metadata": {
        "id": "cWyl-8RrvTHY",
        "colab": {
          "base_uri": "https://localhost:8080/",
          "height": 1000
        },
        "outputId": "adee5c47-eed3-4d6d-c2e4-e12d2a64b8e3"
      },
      "source": [
        "#Plot the error curves\n",
        "learn_c.recorder.plot()\n",
        "learn_c.recorder.plot_losses()\n",
        "learn_c.recorder.plot_lr()\n",
        "learn_c.recorder.plot_metrics()"
      ],
      "execution_count": 114,
      "outputs": [
        {
          "output_type": "display_data",
          "data": {
            "image/png": "[encoded data removed]",
            "text/plain": [
              "<Figure size 432x288 with 1 Axes>"
            ]
          },
          "metadata": {
            "needs_background": "light"
          }
        },
        {
          "output_type": "display_data",
          "data": {
            "image/png": "[encoded data removed]",
            "text/plain": [
              "<Figure size 432x288 with 1 Axes>"
            ]
          },
          "metadata": {
            "needs_background": "light"
          }
        },
        {
          "output_type": "display_data",
          "data": {
            "image/png": "[encoded data removed]",
            "text/plain": [
              "<Figure size 432x288 with 1 Axes>"
            ]
          },
          "metadata": {
            "needs_background": "light"
          }
        },
        {
          "output_type": "display_data",
          "data": {
            "image/png": "[encoded data removed]",
            "text/plain": [
              "<Figure size 432x288 with 1 Axes>"
            ]
          },
          "metadata": {
            "needs_background": "light"
          }
        }
      ]
    }
  ]
}