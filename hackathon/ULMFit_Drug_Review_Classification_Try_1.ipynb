{
  "nbformat": 4,
  "nbformat_minor": 0,
  "metadata": {
    "colab": {
      "name": "ULMFit-Drug-Review-Classification-Try-1.ipynb",
      "provenance": [],
      "collapsed_sections": [],
      "toc_visible": true,
      "include_colab_link": true
    },
    "kernelspec": {
      "name": "python3",
      "display_name": "Python 3"
    },
    "accelerator": "GPU"
  },
  "cells": [
    {
      "cell_type": "markdown",
      "metadata": {
        "id": "view-in-github",
        "colab_type": "text"
      },
      "source": [
        "<a href=\"https://colab.research.google.com/github/dhirajsuvarna/nlp_text_classification/blob/master/hackathon/ULMFit_Drug_Review_Classification_Try_1.ipynb\" target=\"_parent\"><img src=\"https://colab.research.google.com/assets/colab-badge.svg\" alt=\"Open In Colab\"/></a>"
      ]
    },
    {
      "cell_type": "markdown",
      "metadata": {
        "id": "lgvmVd0Y9FdT",
        "colab_type": "text"
      },
      "source": [
        "#Loading DataSet from Google Drive"
      ]
    },
    {
      "cell_type": "code",
      "metadata": {
        "id": "N7RR4NYKv6Fm",
        "colab_type": "code",
        "outputId": "62632037-6b69-405c-88c5-f15165abd794",
        "colab": {
          "base_uri": "https://localhost:8080/",
          "height": 122
        }
      },
      "source": [
        "#Mount Google Drive\n",
        "from google.colab import drive\n",
        "drive.mount('/content/drive')"
      ],
      "execution_count": 0,
      "outputs": [
        {
          "output_type": "stream",
          "text": [
            "Go to this URL in a browser: https://accounts.google.com/o/oauth2/auth?client_id=947318989803-6bn6qk8qdgf4n4g3pfee6491hc0brc4i.apps.googleusercontent.com&redirect_uri=urn%3aietf%3awg%3aoauth%3a2.0%3aoob&response_type=code&scope=email%20https%3a%2f%2fwww.googleapis.com%2fauth%2fdocs.test%20https%3a%2f%2fwww.googleapis.com%2fauth%2fdrive%20https%3a%2f%2fwww.googleapis.com%2fauth%2fdrive.photos.readonly%20https%3a%2f%2fwww.googleapis.com%2fauth%2fpeopleapi.readonly\n",
            "\n",
            "Enter your authorization code:\n",
            "··········\n",
            "Mounted at /content/drive\n"
          ],
          "name": "stdout"
        }
      ]
    },
    {
      "cell_type": "code",
      "metadata": {
        "id": "rxTHJ7mBxY2Q",
        "colab_type": "code",
        "colab": {}
      },
      "source": [
        "from fastai.text import * \n",
        "\n",
        "#Load the Traning and Validation Dataset\n",
        "df_train = pd.read_csv('/content/drive/My Drive/Projects/AnalyticsHackathon/dataset/drugsComTrain_raw.csv')\n",
        "df_valid = pd.read_csv('/content/drive/My Drive/Projects/AnalyticsHackathon/dataset/drugsComTest_raw.csv')"
      ],
      "execution_count": 0,
      "outputs": []
    },
    {
      "cell_type": "markdown",
      "metadata": {
        "id": "scwbgAtfauob",
        "colab_type": "text"
      },
      "source": [
        "##Removing Empty Cells and Invalid Cells\n",
        "\n",
        "\n",
        "\n"
      ]
    },
    {
      "cell_type": "code",
      "metadata": {
        "id": "SI73jtaGFdwI",
        "colab_type": "code",
        "outputId": "490be62f-a0b4-4182-c9f9-923ad86379c3",
        "colab": {
          "base_uri": "https://localhost:8080/",
          "height": 187
        }
      },
      "source": [
        "df_train = df_train[['condition', 'review']]\n",
        "df_valid = df_valid[['condition', 'review']]\n",
        "print (f\"#Train Examples: {df_train.shape}\")\n",
        "print (f\"#Validation Examples: {df_valid.shape}\")\n",
        "\n",
        "#print(df_train[df_train['condition'].isna()])\n",
        "print(f\"#NaN in Train: {df_train[df_train['condition'].isna()].shape}\")\n",
        "print(f\"#NaN in Validation: {df_valid[df_valid['condition'].isna()].shape}\")\n",
        "\n",
        "#Reomve the rows with empty(nan) 'condition' or empty(nan) 'review'\n",
        "print(\"Removing rows with nan values...\")\n",
        "df_train = df_train.dropna()\n",
        "df_valid = df_valid.dropna()\n",
        "\n",
        "#print(df_train[df_train['condition'].str.contains('users found this comment helpful')])\n",
        "print(f\"#'users found this comment useful' in Train: {df_train[df_train['condition'].str.contains('users found this comment helpful')].shape}\")\n",
        "print(f\"#'users found this comment useful'in Validation: {df_valid[df_valid['condition'].str.contains('users found this comment helpful')].shape}\")\n",
        "\n",
        "#Remove the rows where 'condition' is \"users found this comment helpful\"\n",
        "print(\"Removing the rows where condition is 'users found this comment helpful'\")\n",
        "df_train = df_train[~df_train['condition'].str.contains('users found this comment helpful')]\n",
        "df_valid = df_valid[~df_valid['condition'].str.contains('users found this comment helpful')]\n",
        "\n",
        "df_train = df_train[['condition', 'review']]\n",
        "df_valid = df_valid[['condition', 'review']]\n",
        "print (f\"#Train Examples: {df_train.shape}\")\n",
        "print (f\"#Validation Examples: {df_valid.shape}\")"
      ],
      "execution_count": 0,
      "outputs": [
        {
          "output_type": "stream",
          "text": [
            "#Train Examples: (161297, 2)\n",
            "#Validation Examples: (53766, 2)\n",
            "#NaN in Train: (899, 2)\n",
            "#NaN in Validation: (295, 2)\n",
            "Removing rows with nan values...\n",
            "#'users found this comment useful' in Train: (900, 2)\n",
            "#'users found this comment useful'in Validation: (271, 2)\n",
            "Removing the rows where condition is 'users found this comment helpful'\n",
            "#Train Examples: (159498, 2)\n",
            "#Validation Examples: (53200, 2)\n"
          ],
          "name": "stdout"
        }
      ]
    },
    {
      "cell_type": "markdown",
      "metadata": {
        "id": "qrQZioKFalyy",
        "colab_type": "text"
      },
      "source": [
        "##Making the Traning Set Smaller for Quick Experiments"
      ]
    },
    {
      "cell_type": "code",
      "metadata": {
        "id": "s4_ZHp6UhtR1",
        "colab_type": "code",
        "colab": {}
      },
      "source": [
        "# #Creating a smaller version of dataset for quick setup of framework\n",
        "# df_train = df_train.sample(frac=1).reset_index(drop=True)\n",
        "# df_valid = df_valid.sample(frac=1).reset_index(drop=True)\n",
        "\n",
        "# df_train = df_train[:1000]\n",
        "# df_valid = df_valid[:200]\n",
        "# print(df_train.shape)\n",
        "# print(df_valid.shape)\n"
      ],
      "execution_count": 0,
      "outputs": []
    },
    {
      "cell_type": "markdown",
      "metadata": {
        "id": "cplWwIu5ackf",
        "colab_type": "text"
      },
      "source": [
        "##Remove Mismatch of Classes between Validation and Training Set"
      ]
    },
    {
      "cell_type": "code",
      "metadata": {
        "id": "ea_DqJhzptPh",
        "colab_type": "code",
        "outputId": "5bcd148f-b135-466c-c9ed-a8a6d6e024ae",
        "colab": {
          "base_uri": "https://localhost:8080/",
          "height": 68
        }
      },
      "source": [
        "#Number of classes present in the training and validation set\n",
        "targets_train = df_train['condition'].unique()\n",
        "targets_valid = df_valid['condition'].unique()\n",
        "print(f\"#Target Classes in Train: {len(targets_train)}\")\n",
        "print(f\"#Target Classes in Validation: {len(targets_valid)}\")\n",
        "\n",
        "targets_only_in_valid = [item for item in targets_valid if item not in targets_train]\n",
        "print(f\"#Targets in Validation but not in Training: {len(targets_only_in_valid)}\")\n"
      ],
      "execution_count": 0,
      "outputs": [
        {
          "output_type": "stream",
          "text": [
            "#Target Classes in Train: 811\n",
            "#Target Classes in Validation: 664\n",
            "#Targets in Validation but not in Training: 25\n"
          ],
          "name": "stdout"
        }
      ]
    },
    {
      "cell_type": "code",
      "metadata": {
        "id": "3G6Zc2dRdV85",
        "colab_type": "code",
        "outputId": "ec0533af-e8b1-4502-e0a8-f9fe64a6f5cc",
        "colab": {
          "base_uri": "https://localhost:8080/",
          "height": 68
        }
      },
      "source": [
        "#Remove the items from Validation Set for which classes are present in Validation but not present in the Training Set\n",
        "print(f\"#Invalid Validation examples: {df_valid[df_valid['condition'].isin(targets_only_in_valid)].shape}\")\n",
        "\n",
        "df_valid = df_valid[~df_valid['condition'].isin(targets_only_in_valid)]\n",
        "\n",
        "df_train = df_train[['condition', 'review']]\n",
        "df_valid = df_valid[['condition', 'review']]\n",
        "print (f\"#Train Examples: {df_train.shape}\")\n",
        "print (f\"#Validation Examples: {df_valid.shape}\")"
      ],
      "execution_count": 0,
      "outputs": [
        {
          "output_type": "stream",
          "text": [
            "#Invalid Validation examples: (39, 2)\n",
            "#Train Examples: (159498, 2)\n",
            "#Validation Examples: (53161, 2)\n"
          ],
          "name": "stdout"
        }
      ]
    },
    {
      "cell_type": "code",
      "metadata": {
        "id": "sZJIPO4AivZ5",
        "colab_type": "code",
        "outputId": "ac2ae4ab-382c-48fc-bb05-c26b6eca76c7",
        "colab": {
          "base_uri": "https://localhost:8080/",
          "height": 255
        }
      },
      "source": [
        "#Check the Classes which are present in the Training Set but not present in the Validation Set\n",
        "targets_only_in_train = [item for item in targets_train if item not in targets_valid]\n",
        "print(f\"#Targets in Training but not in Validation: {len(targets_only_in_train)}\")\n",
        "\n",
        "df_only_in_train = df_train[df_train['condition'].isin(targets_only_in_train)]\n",
        "print(f\"Training Examples only in Training Set: {df_only_in_train.shape}\")\n",
        "\n",
        "print(df_only_in_train['condition'].value_counts())"
      ],
      "execution_count": 0,
      "outputs": [
        {
          "output_type": "stream",
          "text": [
            "#Targets in Training but not in Validation: 172\n",
            "Training Examples only in Training Set: (419, 2)\n",
            "Bronchiectasis                         13\n",
            "Pulmonary Embolism, Recurrent Event     9\n",
            "Atherosclerosis                         8\n",
            "Brain Tum                               8\n",
            "Lyme Disease, Arthritis                 8\n",
            "                                       ..\n",
            "Q Feve                                  1\n",
            "Wilson's Disease                        1\n",
            "Multiple Endocrine Adenomas             1\n",
            "Gastric Cance                           1\n",
            "Esophageal Spasm                        1\n",
            "Name: condition, Length: 172, dtype: int64\n"
          ],
          "name": "stdout"
        }
      ]
    },
    {
      "cell_type": "code",
      "metadata": {
        "id": "yUGGJa9OiQY7",
        "colab_type": "code",
        "outputId": "7046a1d1-cc85-463a-ee1d-d4d3aef7304c",
        "colab": {
          "base_uri": "https://localhost:8080/",
          "height": 51
        }
      },
      "source": [
        "#We can see that there are 419 Training examples for which 172 classes are present in Traning set but not the validation set\n",
        "#To make the Traning and Validation Set Balanced, removing those 419 Traning Examples \n",
        "df_train = df_train[~df_train['condition'].isin(targets_only_in_train)]\n",
        "\n",
        "df_train = df_train[['condition', 'review']]\n",
        "df_valid = df_valid[['condition', 'review']]\n",
        "print (f\"#Train Examples: {df_train.shape}\")\n",
        "print (f\"#Validation Examples: {df_valid.shape}\")"
      ],
      "execution_count": 0,
      "outputs": [
        {
          "output_type": "stream",
          "text": [
            "#Train Examples: (159079, 2)\n",
            "#Validation Examples: (53161, 2)\n"
          ],
          "name": "stdout"
        }
      ]
    },
    {
      "cell_type": "markdown",
      "metadata": {
        "id": "KlAVKnIEbOSd",
        "colab_type": "text"
      },
      "source": [
        "##Cleaning up Review Comments"
      ]
    },
    {
      "cell_type": "code",
      "metadata": {
        "id": "oBNsLJF6hfIL",
        "colab_type": "code",
        "colab": {}
      },
      "source": [
        "#Perform basic cleaning operation on the review comments \n",
        "#mainly to convert the HTML Code Characters to the actual charcters\n",
        "import html\n",
        "\n",
        "# #SAVE TO CSV to see the changes with ur naked eyes\n",
        "# df_train['clean_review'] = df_train['review'].apply(html.unescape)\n",
        "# df_valid['clean_review'] = df_valid['review'].apply(html.unescape)\n",
        "# df_train.to_csv('./drugsComTrainClean_raw.csv')\n",
        "# df_train.to_csv('./drugsComTestClean_raw.csv')\n",
        "\n",
        "df_train['review'] = df_train['review'].apply(html.unescape)\n",
        "df_valid['review'] = df_valid['review'].apply(html.unescape)\n",
        "\n",
        "#print(df_train[df_train['condition'] == \"Depression\"])\n"
      ],
      "execution_count": 0,
      "outputs": []
    },
    {
      "cell_type": "markdown",
      "metadata": {
        "id": "qS_clfqP6hmf",
        "colab_type": "text"
      },
      "source": [
        "##Summary of the Data"
      ]
    },
    {
      "cell_type": "code",
      "metadata": {
        "id": "-o4dvoCRgSP_",
        "colab_type": "code",
        "outputId": "7893c6f6-4eb5-40bf-fec0-05dfbd77612d",
        "colab": {
          "base_uri": "https://localhost:8080/",
          "height": 85
        }
      },
      "source": [
        "print (f\"Shape of Cleaned up Train Set: {df_train.shape}\")\n",
        "print (f\"Shape of Cleaned up  Validation Set: {df_valid.shape}\")\n",
        "\n",
        "#Number of classes present in the training and validation set\n",
        "targets_train = df_train['condition'].unique()\n",
        "targets_valid = df_valid['condition'].unique()\n",
        "print(f\"#Target Classes in Train: {len(targets_train)}\")\n",
        "print(f\"#Target Classes in Validation: {len(targets_valid)}\")\n"
      ],
      "execution_count": 0,
      "outputs": [
        {
          "output_type": "stream",
          "text": [
            "Shape of Cleaned up Train Set: (159079, 2)\n",
            "Shape of Cleaned up  Validation Set: (53161, 2)\n",
            "#Target Classes in Train: 639\n",
            "#Target Classes in Validation: 639\n"
          ],
          "name": "stdout"
        }
      ]
    },
    {
      "cell_type": "markdown",
      "metadata": {
        "id": "TIwy2ylYbbKQ",
        "colab_type": "text"
      },
      "source": [
        "##Visualizing the Data\n",
        "(not so visual for now)"
      ]
    },
    {
      "cell_type": "code",
      "metadata": {
        "id": "xwBCv9p1vPqv",
        "colab_type": "code",
        "outputId": "45215268-1bf1-4b1b-dc32-fbdf12478c6a",
        "colab": {
          "base_uri": "https://localhost:8080/",
          "height": 425
        }
      },
      "source": [
        "#Visualize the dataspread for each of the classes \n",
        "#print(df_train.groupby(['condition']).size().reset_index(name='count').sort_values(['count'], ascending=False))\n",
        "print(df_train['condition'].value_counts())\n",
        "print(df_valid['condition'].value_counts())"
      ],
      "execution_count": 0,
      "outputs": [
        {
          "output_type": "stream",
          "text": [
            "Birth Control             28788\n",
            "Depression                 9069\n",
            "Pain                       6145\n",
            "Anxiety                    5904\n",
            "Acne                       5588\n",
            "                          ...  \n",
            "Ehrlichiosis                  1\n",
            "Parkinsonism                  1\n",
            "Upper Limb Spasticity         1\n",
            "Acetaminophen Overdose        1\n",
            "Strongyloidiasis              1\n",
            "Name: condition, Length: 639, dtype: int64\n",
            "Birth Control                           9648\n",
            "Depression                              3095\n",
            "Pain                                    2100\n",
            "Anxiety                                 1908\n",
            "Acne                                    1847\n",
            "                                        ... \n",
            "Ehrlichiosis                               1\n",
            "Organ Transplant, Rejection Reversal       1\n",
            "acial Lipoatrophy                          1\n",
            "Parkinsonism                               1\n",
            "Polycythemia Vera                          1\n",
            "Name: condition, Length: 639, dtype: int64\n"
          ],
          "name": "stdout"
        }
      ]
    },
    {
      "cell_type": "markdown",
      "metadata": {
        "id": "Wdeu9Jk-bBec",
        "colab_type": "text"
      },
      "source": [
        "##Start ULMFit Stuff"
      ]
    },
    {
      "cell_type": "code",
      "metadata": {
        "id": "8ieLnFZU_pWM",
        "colab_type": "code",
        "colab": {}
      },
      "source": [
        "#Prepare for training the language model\n",
        "#todo: i have not specified batch size(bs)\n",
        "data_lm = TextLMDataBunch.from_df(path='/', train_df=df_train, valid_df=df_valid)\n",
        "learn_lm = language_model_learner(data_lm, AWD_LSTM, drop_mult=0.5)"
      ],
      "execution_count": 0,
      "outputs": []
    },
    {
      "cell_type": "code",
      "metadata": {
        "id": "Ek7oRAXf0_21",
        "colab_type": "code",
        "outputId": "ee296c65-ff3e-4b10-c60f-0e1dd3a7d23f",
        "colab": {
          "base_uri": "https://localhost:8080/",
          "height": 296
        }
      },
      "source": [
        "#find the learning rate \n",
        "learn_lm.lr_find(start_lr=1e-8, end_lr=1e2)\n",
        "learn_lm.recorder.plot()"
      ],
      "execution_count": 0,
      "outputs": [
        {
          "output_type": "display_data",
          "data": {
            "text/html": [
              ""
            ],
            "text/plain": [
              "<IPython.core.display.HTML object>"
            ]
          },
          "metadata": {
            "tags": []
          }
        },
        {
          "output_type": "stream",
          "text": [
            "LR Finder is complete, type {learner_name}.recorder.plot() to see the graph.\n"
          ],
          "name": "stdout"
        },
        {
          "output_type": "display_data",
          "data": {
            "image/png": "[encoded data removed]",
            "text/plain": [
              "<Figure size 432x288 with 1 Axes>"
            ]
          },
          "metadata": {
            "tags": []
          }
        }
      ]
    },
    {
      "cell_type": "code",
      "metadata": {
        "id": "0c_EqdfMDJbT",
        "colab_type": "code",
        "outputId": "b8e5c802-f06f-4ff9-a0f4-aa37c3277f1c",
        "colab": {
          "base_uri": "https://localhost:8080/",
          "height": 80
        }
      },
      "source": [
        "#The above plot tells us that loss is minimum at the learning rate of \n",
        "#approx 1e0, so we need to choose the learning rate as one level before\n",
        "\n",
        "#Start training the language model\n",
        "learn_lm.fit_one_cycle(1, 1e-3, moms=(0.8, 0.7))\n",
        "\n"
      ],
      "execution_count": 0,
      "outputs": [
        {
          "output_type": "display_data",
          "data": {
            "text/html": [
              "<table border=\"1\" class=\"dataframe\">\n",
              "  <thead>\n",
              "    <tr style=\"text-align: left;\">\n",
              "      <th>epoch</th>\n",
              "      <th>train_loss</th>\n",
              "      <th>valid_loss</th>\n",
              "      <th>accuracy</th>\n",
              "      <th>time</th>\n",
              "    </tr>\n",
              "  </thead>\n",
              "  <tbody>\n",
              "    <tr>\n",
              "      <td>0</td>\n",
              "      <td>3.682986</td>\n",
              "      <td>3.532587</td>\n",
              "      <td>0.306233</td>\n",
              "      <td>11:19</td>\n",
              "    </tr>\n",
              "  </tbody>\n",
              "</table>"
            ],
            "text/plain": [
              "<IPython.core.display.HTML object>"
            ]
          },
          "metadata": {
            "tags": []
          }
        }
      ]
    },
    {
      "cell_type": "code",
      "metadata": {
        "id": "O2OxVSiHmXWP",
        "colab_type": "code",
        "outputId": "304f726a-1391-422f-cb51-caffe06c372f",
        "colab": {
          "base_uri": "https://localhost:8080/",
          "height": 142
        }
      },
      "source": [
        "learn_lm.unfreeze()\n",
        "learn_lm.fit_one_cycle(3, 1e-3, moms=(0.8, 0.7))"
      ],
      "execution_count": 0,
      "outputs": [
        {
          "output_type": "display_data",
          "data": {
            "text/html": [
              "<table border=\"1\" class=\"dataframe\">\n",
              "  <thead>\n",
              "    <tr style=\"text-align: left;\">\n",
              "      <th>epoch</th>\n",
              "      <th>train_loss</th>\n",
              "      <th>valid_loss</th>\n",
              "      <th>accuracy</th>\n",
              "      <th>time</th>\n",
              "    </tr>\n",
              "  </thead>\n",
              "  <tbody>\n",
              "    <tr>\n",
              "      <td>0</td>\n",
              "      <td>3.265749</td>\n",
              "      <td>3.140434</td>\n",
              "      <td>0.354819</td>\n",
              "      <td>12:57</td>\n",
              "    </tr>\n",
              "    <tr>\n",
              "      <td>1</td>\n",
              "      <td>3.079695</td>\n",
              "      <td>2.989601</td>\n",
              "      <td>0.373979</td>\n",
              "      <td>12:52</td>\n",
              "    </tr>\n",
              "    <tr>\n",
              "      <td>2</td>\n",
              "      <td>2.975246</td>\n",
              "      <td>2.944432</td>\n",
              "      <td>0.380444</td>\n",
              "      <td>13:00</td>\n",
              "    </tr>\n",
              "  </tbody>\n",
              "</table>"
            ],
            "text/plain": [
              "<IPython.core.display.HTML object>"
            ]
          },
          "metadata": {
            "tags": []
          }
        }
      ]
    },
    {
      "cell_type": "code",
      "metadata": {
        "id": "HWZh5kpnF2Nt",
        "colab_type": "code",
        "colab": {}
      },
      "source": [
        "#Plot the curves for language model - if necessary\n"
      ],
      "execution_count": 0,
      "outputs": []
    },
    {
      "cell_type": "code",
      "metadata": {
        "id": "N4sV4tIkGSCq",
        "colab_type": "code",
        "outputId": "8636f4d5-9577-4eac-dfbc-49b65b8e96fb",
        "colab": {
          "base_uri": "https://localhost:8080/",
          "height": 34
        }
      },
      "source": [
        "#See how the language model is doing on the statement of medical review \n",
        "#write some string\n",
        "medical_review = \"I have been continuing this medicine for the last couple of months but\"\n",
        "learn_lm.predict(medical_review, n_words=10)"
      ],
      "execution_count": 0,
      "outputs": [
        {
          "output_type": "execute_result",
          "data": {
            "text/plain": [
              "'I have been continuing this medicine for the last couple of months but i generally feel very restless . As i do'"
            ]
          },
          "metadata": {
            "tags": []
          },
          "execution_count": 30
        }
      ]
    },
    {
      "cell_type": "code",
      "metadata": {
        "id": "1qxs7mFGGmfI",
        "colab_type": "code",
        "colab": {}
      },
      "source": [
        "#fine tuned language model is called as encoder - we need to save it\n",
        "learn_lm.save_encoder('ft_enc')"
      ],
      "execution_count": 0,
      "outputs": []
    },
    {
      "cell_type": "code",
      "metadata": {
        "id": "h0Sl_y7YGM_q",
        "colab_type": "code",
        "colab": {}
      },
      "source": [
        "#Prepare for training the classifier\n",
        "data_clas = TextClasDataBunch.from_df(path='/', train_df=df_train, valid_df=df_valid, vocab=data_lm.train_ds.vocab, min_freq=1, bs=32)\n",
        "\n",
        "learn_clas = text_classifier_learner(data_clas, AWD_LSTM, drop_mult=0.5).to_fp16()\n",
        "learn_clas.load_encoder('ft_enc')\n",
        "learn_clas.freeze()\n",
        "\n",
        "\n"
      ],
      "execution_count": 0,
      "outputs": []
    },
    {
      "cell_type": "code",
      "metadata": {
        "id": "lmrw3W-eKcJL",
        "colab_type": "code",
        "outputId": "f0b00628-f533-4e7a-e93d-ebcc4c45c4fd",
        "colab": {
          "base_uri": "https://localhost:8080/",
          "height": 296
        }
      },
      "source": [
        "#find learning rate before starting the training of classifier\n",
        "learn_clas.lr_find(start_lr=1e-8, end_lr=1e2)\n",
        "learn_clas.recorder.plot()"
      ],
      "execution_count": 0,
      "outputs": [
        {
          "output_type": "display_data",
          "data": {
            "text/html": [
              ""
            ],
            "text/plain": [
              "<IPython.core.display.HTML object>"
            ]
          },
          "metadata": {
            "tags": []
          }
        },
        {
          "output_type": "stream",
          "text": [
            "LR Finder is complete, type {learner_name}.recorder.plot() to see the graph.\n"
          ],
          "name": "stdout"
        },
        {
          "output_type": "display_data",
          "data": {
            "image/png": "[encoded data removed]",
            "text/plain": [
              "<Figure size 432x288 with 1 Axes>"
            ]
          },
          "metadata": {
            "tags": []
          }
        }
      ]
    },
    {
      "cell_type": "code",
      "metadata": {
        "id": "EC6f1gHrHc4h",
        "colab_type": "code",
        "outputId": "05b3e8d1-be33-42f9-ceb3-b83536c474ad",
        "colab": {
          "base_uri": "https://localhost:8080/",
          "height": 80
        }
      },
      "source": [
        "#Start Training of the classifier \n",
        "# For training the classifier, \"gradual unfreezing\" should be applied to avoid \"catastrophic forgetting\"\n",
        "# as explained in section 3.3 of Howard and Ruder's paper - https://arxiv.org/pdf/1801.06146.pdf \n",
        "\n",
        "learn_clas.freeze()\n",
        "learn_clas.fit_one_cycle(1, 1e-3, moms=(0.8, 0.7))\n"
      ],
      "execution_count": 0,
      "outputs": [
        {
          "output_type": "display_data",
          "data": {
            "text/html": [
              "<table border=\"1\" class=\"dataframe\">\n",
              "  <thead>\n",
              "    <tr style=\"text-align: left;\">\n",
              "      <th>epoch</th>\n",
              "      <th>train_loss</th>\n",
              "      <th>valid_loss</th>\n",
              "      <th>accuracy</th>\n",
              "      <th>time</th>\n",
              "    </tr>\n",
              "  </thead>\n",
              "  <tbody>\n",
              "    <tr>\n",
              "      <td>0</td>\n",
              "      <td>1.974888</td>\n",
              "      <td>1.677188</td>\n",
              "      <td>0.620135</td>\n",
              "      <td>04:05</td>\n",
              "    </tr>\n",
              "  </tbody>\n",
              "</table>"
            ],
            "text/plain": [
              "<IPython.core.display.HTML object>"
            ]
          },
          "metadata": {
            "tags": []
          }
        }
      ]
    },
    {
      "cell_type": "code",
      "metadata": {
        "id": "_McHZvL2zdwU",
        "colab_type": "code",
        "outputId": "5eb07d94-fa40-42cd-f367-bb2091a56fc8",
        "colab": {
          "base_uri": "https://localhost:8080/",
          "height": 80
        }
      },
      "source": [
        "learn_clas.freeze_to(-2)\n",
        "learn_clas.fit_one_cycle(1, slice(1e-4,1e-2), moms=(0.8,0.7))\n"
      ],
      "execution_count": 0,
      "outputs": [
        {
          "output_type": "display_data",
          "data": {
            "text/html": [
              "<table border=\"1\" class=\"dataframe\">\n",
              "  <thead>\n",
              "    <tr style=\"text-align: left;\">\n",
              "      <th>epoch</th>\n",
              "      <th>train_loss</th>\n",
              "      <th>valid_loss</th>\n",
              "      <th>accuracy</th>\n",
              "      <th>time</th>\n",
              "    </tr>\n",
              "  </thead>\n",
              "  <tbody>\n",
              "    <tr>\n",
              "      <td>0</td>\n",
              "      <td>1.740326</td>\n",
              "      <td>1.421981</td>\n",
              "      <td>0.663626</td>\n",
              "      <td>05:18</td>\n",
              "    </tr>\n",
              "  </tbody>\n",
              "</table>"
            ],
            "text/plain": [
              "<IPython.core.display.HTML object>"
            ]
          },
          "metadata": {
            "tags": []
          }
        }
      ]
    },
    {
      "cell_type": "code",
      "metadata": {
        "id": "88NsMggvzhZc",
        "colab_type": "code",
        "outputId": "ecf2a686-b7a1-4d76-b5ea-d493e9132f0b",
        "colab": {
          "base_uri": "https://localhost:8080/",
          "height": 80
        }
      },
      "source": [
        "learn_clas.freeze_to(-3)\n",
        "learn_clas.fit_one_cycle(1, slice(1e-5,5e-3), moms=(0.8,0.7))\n"
      ],
      "execution_count": 0,
      "outputs": [
        {
          "output_type": "display_data",
          "data": {
            "text/html": [
              "<table border=\"1\" class=\"dataframe\">\n",
              "  <thead>\n",
              "    <tr style=\"text-align: left;\">\n",
              "      <th>epoch</th>\n",
              "      <th>train_loss</th>\n",
              "      <th>valid_loss</th>\n",
              "      <th>accuracy</th>\n",
              "      <th>time</th>\n",
              "    </tr>\n",
              "  </thead>\n",
              "  <tbody>\n",
              "    <tr>\n",
              "      <td>0</td>\n",
              "      <td>1.474265</td>\n",
              "      <td>1.293821</td>\n",
              "      <td>0.692519</td>\n",
              "      <td>08:06</td>\n",
              "    </tr>\n",
              "  </tbody>\n",
              "</table>"
            ],
            "text/plain": [
              "<IPython.core.display.HTML object>"
            ]
          },
          "metadata": {
            "tags": []
          }
        }
      ]
    },
    {
      "cell_type": "code",
      "metadata": {
        "id": "WFWYfG5bzjCs",
        "colab_type": "code",
        "outputId": "fb1dae78-9328-40c2-d78c-50f0d8b32219",
        "colab": {
          "base_uri": "https://localhost:8080/",
          "height": 173
        }
      },
      "source": [
        "learn_clas.unfreeze()\n",
        "learn_clas.fit_one_cycle(4, slice(1e-5,1e-3), moms=(0.8,0.7))"
      ],
      "execution_count": 0,
      "outputs": [
        {
          "output_type": "display_data",
          "data": {
            "text/html": [
              "<table border=\"1\" class=\"dataframe\">\n",
              "  <thead>\n",
              "    <tr style=\"text-align: left;\">\n",
              "      <th>epoch</th>\n",
              "      <th>train_loss</th>\n",
              "      <th>valid_loss</th>\n",
              "      <th>accuracy</th>\n",
              "      <th>time</th>\n",
              "    </tr>\n",
              "  </thead>\n",
              "  <tbody>\n",
              "    <tr>\n",
              "      <td>0</td>\n",
              "      <td>1.198548</td>\n",
              "      <td>1.268965</td>\n",
              "      <td>0.698407</td>\n",
              "      <td>09:56</td>\n",
              "    </tr>\n",
              "    <tr>\n",
              "      <td>1</td>\n",
              "      <td>1.337664</td>\n",
              "      <td>1.203516</td>\n",
              "      <td>0.711367</td>\n",
              "      <td>11:08</td>\n",
              "    </tr>\n",
              "    <tr>\n",
              "      <td>2</td>\n",
              "      <td>1.203326</td>\n",
              "      <td>1.157771</td>\n",
              "      <td>0.724083</td>\n",
              "      <td>10:24</td>\n",
              "    </tr>\n",
              "    <tr>\n",
              "      <td>3</td>\n",
              "      <td>1.022379</td>\n",
              "      <td>1.155380</td>\n",
              "      <td>0.726454</td>\n",
              "      <td>10:54</td>\n",
              "    </tr>\n",
              "  </tbody>\n",
              "</table>"
            ],
            "text/plain": [
              "<IPython.core.display.HTML object>"
            ]
          },
          "metadata": {
            "tags": []
          }
        }
      ]
    },
    {
      "cell_type": "code",
      "metadata": {
        "id": "GTXw5N6OiIaD",
        "colab_type": "code",
        "outputId": "66c1e409-46da-472d-ddfd-51ed23362a5e",
        "colab": {
          "base_uri": "https://localhost:8080/",
          "height": 111
        }
      },
      "source": [
        "learn_clas.fit_one_cycle(2, 1e-3, moms=(0.8,0.7))"
      ],
      "execution_count": 0,
      "outputs": [
        {
          "output_type": "display_data",
          "data": {
            "text/html": [
              "<table border=\"1\" class=\"dataframe\">\n",
              "  <thead>\n",
              "    <tr style=\"text-align: left;\">\n",
              "      <th>epoch</th>\n",
              "      <th>train_loss</th>\n",
              "      <th>valid_loss</th>\n",
              "      <th>accuracy</th>\n",
              "      <th>time</th>\n",
              "    </tr>\n",
              "  </thead>\n",
              "  <tbody>\n",
              "    <tr>\n",
              "      <td>0</td>\n",
              "      <td>1.384184</td>\n",
              "      <td>1.199291</td>\n",
              "      <td>0.715299</td>\n",
              "      <td>10:18</td>\n",
              "    </tr>\n",
              "    <tr>\n",
              "      <td>1</td>\n",
              "      <td>1.059760</td>\n",
              "      <td>1.065449</td>\n",
              "      <td>0.750005</td>\n",
              "      <td>11:33</td>\n",
              "    </tr>\n",
              "  </tbody>\n",
              "</table>"
            ],
            "text/plain": [
              "<IPython.core.display.HTML object>"
            ]
          },
          "metadata": {
            "tags": []
          }
        }
      ]
    },
    {
      "cell_type": "code",
      "metadata": {
        "id": "0GSexu49reyl",
        "colab_type": "code",
        "outputId": "e5aa9501-0314-40f4-9bc2-9c412891d9ce",
        "colab": {
          "base_uri": "https://localhost:8080/",
          "height": 163
        }
      },
      "source": [
        "#Export the Learned Model\n",
        "learn_clas.export('/content/drive/My Drive/Projects/AnalyticsHackathon/learned_classifer_try1.pkl')"
      ],
      "execution_count": 0,
      "outputs": [
        {
          "output_type": "error",
          "ename": "NameError",
          "evalue": "ignored",
          "traceback": [
            "\u001b[0;31m---------------------------------------------------------------------------\u001b[0m",
            "\u001b[0;31mNameError\u001b[0m                                 Traceback (most recent call last)",
            "\u001b[0;32m<ipython-input-1-edcaa4b44025>\u001b[0m in \u001b[0;36m<module>\u001b[0;34m()\u001b[0m\n\u001b[0;32m----> 1\u001b[0;31m \u001b[0mlearn_clas\u001b[0m\u001b[0;34m.\u001b[0m\u001b[0mexport\u001b[0m\u001b[0;34m(\u001b[0m\u001b[0;34m'/content/drive/My Drive/Projects/AnalyticsHackathon/learned_classifer_try1.pkl'\u001b[0m\u001b[0;34m)\u001b[0m\u001b[0;34m\u001b[0m\u001b[0;34m\u001b[0m\u001b[0m\n\u001b[0m",
            "\u001b[0;31mNameError\u001b[0m: name 'learn_clas' is not defined"
          ]
        }
      ]
    },
    {
      "cell_type": "code",
      "metadata": {
        "id": "LWM_oSYHHraa",
        "colab_type": "code",
        "colab": {}
      },
      "source": [
        "#Plot the curves for classifer model - should be done\n",
        "learn_clas.recorder.plot_losses()"
      ],
      "execution_count": 0,
      "outputs": []
    },
    {
      "cell_type": "code",
      "metadata": {
        "id": "c9SwezA7jzRq",
        "colab_type": "code",
        "colab": {}
      },
      "source": [
        "#Show Results: Acutal and Predicted \n",
        "learn_clas.show_results(rows=10)"
      ],
      "execution_count": 0,
      "outputs": []
    },
    {
      "cell_type": "code",
      "metadata": {
        "id": "z74YDcK0Hj15",
        "colab_type": "code",
        "colab": {}
      },
      "source": [
        "#Get the accuracy matrix \n",
        "predictions, targets = learn_clas.get_preds()"
      ],
      "execution_count": 0,
      "outputs": []
    },
    {
      "cell_type": "code",
      "metadata": {
        "id": "2low6mHF5yrb",
        "colab_type": "code",
        "colab": {}
      },
      "source": [
        "from sklearn import metrics\n",
        "\n",
        "predictions_clas = np.argmax(predictions, axis = 1) \n",
        "print(predictions_clas.shape)\n",
        "print(targets.shape)\n"
      ],
      "execution_count": 0,
      "outputs": []
    },
    {
      "cell_type": "code",
      "metadata": {
        "id": "kNS0Q9p0nW-3",
        "colab_type": "code",
        "colab": {}
      },
      "source": [
        "predictions[0].shape"
      ],
      "execution_count": 0,
      "outputs": []
    },
    {
      "cell_type": "code",
      "metadata": {
        "id": "mOsm8NGFjW7G",
        "colab_type": "code",
        "colab": {}
      },
      "source": [
        "#Generate Confusion Matrix\n",
        "confusion_matrix = metrics.confusion_matrix(targets, predictions_clas)\n",
        "print(confusion_matrix)\n",
        "\n",
        "#Export Confustion Matrix\n",
        "df_confusion_matrix = pd.DataFrame(confusion_matrix)\n",
        "df_confusion_matrix.to_csv('/content/drive/My Drive/Projects/AnalyticsHackathon/ULMFit_Drug_Review_Confusion_Matrix_try1.csv')"
      ],
      "execution_count": 0,
      "outputs": []
    },
    {
      "cell_type": "code",
      "metadata": {
        "id": "CUOT1Jbmyy9x",
        "colab_type": "code",
        "colab": {}
      },
      "source": [
        "#From the confusion matrix, take diagnal elements\n",
        "\n",
        "diag = np.diag(df_confusion_matrix)\n",
        "correct_predictions = sum(diag)\n",
        "total_validation_examples = np.sum(df_confusion_matrix, axis=1).sum()\n",
        "pred_acc_percent = (correct_predictions/total_validation_examples) * 100\n",
        "print(f\"Sum of diagonal elements of the confusion matrix: {correct_predictions}\")\n",
        "print(f\"Total number of vaildation examples: {total_validation_examples}\")\n",
        "print(f\"Prediction Accuracy of the model: {pred_acc_percent}\")\n"
      ],
      "execution_count": 0,
      "outputs": []
    },
    {
      "cell_type": "code",
      "metadata": {
        "id": "kt55COPSDC5B",
        "colab_type": "code",
        "colab": {}
      },
      "source": [
        "target_names = learn_clas.data.classes\n",
        "print(metrics.classification_report(targets, predictions_clas, labels=target_names))\n"
      ],
      "execution_count": 0,
      "outputs": []
    },
    {
      "cell_type": "code",
      "metadata": {
        "id": "lrXEllJolxvt",
        "colab_type": "code",
        "colab": {}
      },
      "source": [
        "\n",
        "a, b, c =learn_clas.predict(\"birth\")\n",
        "c.shape"
      ],
      "execution_count": 0,
      "outputs": []
    }
  ]
}