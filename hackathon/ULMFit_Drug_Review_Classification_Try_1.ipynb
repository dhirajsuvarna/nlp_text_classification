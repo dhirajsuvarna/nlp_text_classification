{
  "nbformat": 4,
  "nbformat_minor": 0,
  "metadata": {
    "colab": {
      "name": "ULMFit-Drug-Review-Classification-Try-1.ipynb",
      "provenance": [],
      "collapsed_sections": [],
      "toc_visible": true,
      "include_colab_link": true
    },
    "kernelspec": {
      "name": "python3",
      "display_name": "Python 3"
    },
    "accelerator": "GPU"
  },
  "cells": [
    {
      "cell_type": "markdown",
      "metadata": {
        "id": "view-in-github",
        "colab_type": "text"
      },
      "source": [
        "<a href=\"https://colab.research.google.com/github/dhirajsuvarna/nlp_text_classification/blob/master/hackathon/ULMFit_Drug_Review_Classification_Try_1.ipynb\" target=\"_parent\"><img src=\"https://colab.research.google.com/assets/colab-badge.svg\" alt=\"Open In Colab\"/></a>"
      ]
    },
    {
      "cell_type": "markdown",
      "metadata": {
        "id": "lgvmVd0Y9FdT",
        "colab_type": "text"
      },
      "source": [
        "#Loading DataSet from Google Drive"
      ]
    },
    {
      "cell_type": "code",
      "metadata": {
        "id": "Lp82UjrL81cv",
        "colab_type": "code",
        "colab": {
          "base_uri": "https://localhost:8080/",
          "height": 34
        },
        "outputId": "d7627fc9-1a5b-4e89-e407-1ba54357cd9b"
      },
      "source": [
        "#' ' means CPU whereas '/device:G:0' means GPU\n",
        "import tensorflow as tf\n",
        "tf.test.gpu_device_name()"
      ],
      "execution_count": 3,
      "outputs": [
        {
          "output_type": "execute_result",
          "data": {
            "text/plain": [
              "'/device:GPU:0'"
            ]
          },
          "metadata": {
            "tags": []
          },
          "execution_count": 3
        }
      ]
    },
    {
      "cell_type": "code",
      "metadata": {
        "id": "N7RR4NYKv6Fm",
        "colab_type": "code",
        "outputId": "b80d2daa-833f-44f8-c18a-cf65954faa5e",
        "colab": {
          "base_uri": "https://localhost:8080/",
          "height": 54
        }
      },
      "source": [
        "#Mount Google Drive\n",
        "from google.colab import drive\n",
        "drive.mount('/content/drive')"
      ],
      "execution_count": 4,
      "outputs": [
        {
          "output_type": "stream",
          "text": [
            "Drive already mounted at /content/drive; to attempt to forcibly remount, call drive.mount(\"/content/drive\", force_remount=True).\n"
          ],
          "name": "stdout"
        }
      ]
    },
    {
      "cell_type": "code",
      "metadata": {
        "id": "rxTHJ7mBxY2Q",
        "colab_type": "code",
        "colab": {}
      },
      "source": [
        "from fastai.text import * \n",
        "\n",
        "#Load the Traning and Validation Dataset\n",
        "df_train = pd.read_csv('/content/drive/My Drive/Projects/AnalyticsHackathon/dataset/drugsComTrain_raw.csv')\n",
        "df_valid = pd.read_csv('/content/drive/My Drive/Projects/AnalyticsHackathon/dataset/drugsComTest_raw.csv')"
      ],
      "execution_count": 0,
      "outputs": []
    },
    {
      "cell_type": "markdown",
      "metadata": {
        "id": "scwbgAtfauob",
        "colab_type": "text"
      },
      "source": [
        "##Removing Empty Cells and Invalid Cells\n",
        "\n",
        "\n",
        "\n"
      ]
    },
    {
      "cell_type": "code",
      "metadata": {
        "id": "SI73jtaGFdwI",
        "colab_type": "code",
        "outputId": "c89a67bb-6e3f-49a7-b829-dbb49557d930",
        "colab": {
          "base_uri": "https://localhost:8080/",
          "height": 187
        }
      },
      "source": [
        "df_train = df_train[['condition', 'review']]\n",
        "df_valid = df_valid[['condition', 'review']]\n",
        "print (f\"#Train Examples: {df_train.shape}\")\n",
        "print (f\"#Validation Examples: {df_valid.shape}\")\n",
        "\n",
        "#print(df_train[df_train['condition'].isna()])\n",
        "print(f\"#NaN in Train: {df_train[df_train['condition'].isna()].shape}\")\n",
        "print(f\"#NaN in Validation: {df_valid[df_valid['condition'].isna()].shape}\")\n",
        "\n",
        "#Reomve the rows with empty(nan) 'condition' or empty(nan) 'review'\n",
        "print(\"Removing rows with nan values...\")\n",
        "df_train = df_train.dropna()\n",
        "df_valid = df_valid.dropna()\n",
        "\n",
        "#print(df_train[df_train['condition'].str.contains('users found this comment helpful')])\n",
        "print(f\"#'users found this comment useful' in Train: {df_train[df_train['condition'].str.contains('users found this comment helpful')].shape}\")\n",
        "print(f\"#'users found this comment useful'in Validation: {df_valid[df_valid['condition'].str.contains('users found this comment helpful')].shape}\")\n",
        "\n",
        "#Remove the rows where 'condition' is \"users found this comment helpful\"\n",
        "print(\"Removing the rows where condition is 'users found this comment helpful'\")\n",
        "df_train = df_train[~df_train['condition'].str.contains('users found this comment helpful')]\n",
        "df_valid = df_valid[~df_valid['condition'].str.contains('users found this comment helpful')]\n",
        "\n",
        "df_train = df_train[['condition', 'review']]\n",
        "df_valid = df_valid[['condition', 'review']]\n",
        "print (f\"#Train Examples: {df_train.shape}\")\n",
        "print (f\"#Validation Examples: {df_valid.shape}\")"
      ],
      "execution_count": 6,
      "outputs": [
        {
          "output_type": "stream",
          "text": [
            "#Train Examples: (161297, 2)\n",
            "#Validation Examples: (53766, 2)\n",
            "#NaN in Train: (899, 2)\n",
            "#NaN in Validation: (295, 2)\n",
            "Removing rows with nan values...\n",
            "#'users found this comment useful' in Train: (900, 2)\n",
            "#'users found this comment useful'in Validation: (271, 2)\n",
            "Removing the rows where condition is 'users found this comment helpful'\n",
            "#Train Examples: (159498, 2)\n",
            "#Validation Examples: (53200, 2)\n"
          ],
          "name": "stdout"
        }
      ]
    },
    {
      "cell_type": "markdown",
      "metadata": {
        "id": "qrQZioKFalyy",
        "colab_type": "text"
      },
      "source": [
        "##Making the Traning Set Smaller for Quick Experiments"
      ]
    },
    {
      "cell_type": "code",
      "metadata": {
        "id": "s4_ZHp6UhtR1",
        "colab_type": "code",
        "colab": {}
      },
      "source": [
        "# #Creating a smaller version of dataset for quick setup of framework\n",
        "# df_train = df_train.sample(frac=1).reset_index(drop=True)\n",
        "# df_valid = df_valid.sample(frac=1).reset_index(drop=True)\n",
        "\n",
        "# df_train = df_train[:1000]\n",
        "# df_valid = df_valid[:200]\n",
        "# print(df_train.shape)\n",
        "# print(df_valid.shape)\n"
      ],
      "execution_count": 0,
      "outputs": []
    },
    {
      "cell_type": "markdown",
      "metadata": {
        "id": "cplWwIu5ackf",
        "colab_type": "text"
      },
      "source": [
        "##Remove Mismatch of Classes between Validation and Training Set"
      ]
    },
    {
      "cell_type": "code",
      "metadata": {
        "id": "ea_DqJhzptPh",
        "colab_type": "code",
        "outputId": "992ac04b-c6df-42dd-faaa-20ed6bb27062",
        "colab": {
          "base_uri": "https://localhost:8080/",
          "height": 68
        }
      },
      "source": [
        "#Number of classes present in the training and validation set\n",
        "targets_train = df_train['condition'].unique()\n",
        "targets_valid = df_valid['condition'].unique()\n",
        "print(f\"#Target Classes in Train: {len(targets_train)}\")\n",
        "print(f\"#Target Classes in Validation: {len(targets_valid)}\")\n",
        "\n",
        "targets_only_in_valid = [item for item in targets_valid if item not in targets_train]\n",
        "print(f\"#Targets in Validation but not in Training: {len(targets_only_in_valid)}\")\n"
      ],
      "execution_count": 7,
      "outputs": [
        {
          "output_type": "stream",
          "text": [
            "#Target Classes in Train: 811\n",
            "#Target Classes in Validation: 664\n",
            "#Targets in Validation but not in Training: 25\n"
          ],
          "name": "stdout"
        }
      ]
    },
    {
      "cell_type": "code",
      "metadata": {
        "id": "3G6Zc2dRdV85",
        "colab_type": "code",
        "outputId": "19440683-aa77-4afa-d958-ab5689d6ae6c",
        "colab": {
          "base_uri": "https://localhost:8080/",
          "height": 68
        }
      },
      "source": [
        "#Remove the items from Validation Set for which classes are present in Validation but not present in the Training Set\n",
        "print(f\"#Invalid Validation examples: {df_valid[df_valid['condition'].isin(targets_only_in_valid)].shape}\")\n",
        "\n",
        "df_valid = df_valid[~df_valid['condition'].isin(targets_only_in_valid)]\n",
        "\n",
        "df_train = df_train[['condition', 'review']]\n",
        "df_valid = df_valid[['condition', 'review']]\n",
        "print (f\"#Train Examples: {df_train.shape}\")\n",
        "print (f\"#Validation Examples: {df_valid.shape}\")"
      ],
      "execution_count": 8,
      "outputs": [
        {
          "output_type": "stream",
          "text": [
            "#Invalid Validation examples: (39, 2)\n",
            "#Train Examples: (159498, 2)\n",
            "#Validation Examples: (53161, 2)\n"
          ],
          "name": "stdout"
        }
      ]
    },
    {
      "cell_type": "code",
      "metadata": {
        "id": "sZJIPO4AivZ5",
        "colab_type": "code",
        "outputId": "4fa0a2f4-90ce-4a90-e14a-8dda0d966b97",
        "colab": {
          "base_uri": "https://localhost:8080/",
          "height": 255
        }
      },
      "source": [
        "#Check the Classes which are present in the Training Set but not present in the Validation Set\n",
        "targets_only_in_train = [item for item in targets_train if item not in targets_valid]\n",
        "print(f\"#Targets in Training but not in Validation: {len(targets_only_in_train)}\")\n",
        "\n",
        "df_only_in_train = df_train[df_train['condition'].isin(targets_only_in_train)]\n",
        "print(f\"Training Examples only in Training Set: {df_only_in_train.shape}\")\n",
        "\n",
        "print(df_only_in_train['condition'].value_counts())"
      ],
      "execution_count": 9,
      "outputs": [
        {
          "output_type": "stream",
          "text": [
            "#Targets in Training but not in Validation: 172\n",
            "Training Examples only in Training Set: (419, 2)\n",
            "Bronchiectasis                         13\n",
            "Pulmonary Embolism, Recurrent Event     9\n",
            "Brain Tum                               8\n",
            "Atherosclerosis                         8\n",
            "Lyme Disease, Arthritis                 8\n",
            "                                       ..\n",
            "Epicondylitis, Tennis Elbow             1\n",
            "Neuritis                                1\n",
            "Linear IgA Disease                      1\n",
            "ungal Pneumonia                         1\n",
            "Hydrocephalus                           1\n",
            "Name: condition, Length: 172, dtype: int64\n"
          ],
          "name": "stdout"
        }
      ]
    },
    {
      "cell_type": "code",
      "metadata": {
        "id": "yUGGJa9OiQY7",
        "colab_type": "code",
        "outputId": "518bd829-c223-48e3-b726-dd61f4e311ff",
        "colab": {
          "base_uri": "https://localhost:8080/",
          "height": 51
        }
      },
      "source": [
        "#We can see that there are 419 Training examples for which 172 classes are present in Traning set but not the validation set\n",
        "#To make the Traning and Validation Set Balanced, removing those 419 Traning Examples \n",
        "df_train = df_train[~df_train['condition'].isin(targets_only_in_train)]\n",
        "\n",
        "df_train = df_train[['condition', 'review']]\n",
        "df_valid = df_valid[['condition', 'review']]\n",
        "print (f\"#Train Examples: {df_train.shape}\")\n",
        "print (f\"#Validation Examples: {df_valid.shape}\")"
      ],
      "execution_count": 10,
      "outputs": [
        {
          "output_type": "stream",
          "text": [
            "#Train Examples: (159079, 2)\n",
            "#Validation Examples: (53161, 2)\n"
          ],
          "name": "stdout"
        }
      ]
    },
    {
      "cell_type": "markdown",
      "metadata": {
        "id": "KlAVKnIEbOSd",
        "colab_type": "text"
      },
      "source": [
        "##Cleaning up Review Comments"
      ]
    },
    {
      "cell_type": "code",
      "metadata": {
        "id": "oBNsLJF6hfIL",
        "colab_type": "code",
        "colab": {}
      },
      "source": [
        "#Perform basic cleaning operation on the review comments \n",
        "#mainly to convert the HTML Code Characters to the actual charcters\n",
        "import html\n",
        "\n",
        "# #SAVE TO CSV to see the changes with ur naked eyes\n",
        "# df_train['clean_review'] = df_train['review'].apply(html.unescape)\n",
        "# df_valid['clean_review'] = df_valid['review'].apply(html.unescape)\n",
        "# df_train.to_csv('./drugsComTrainClean_raw.csv')\n",
        "# df_train.to_csv('./drugsComTestClean_raw.csv')\n",
        "\n",
        "df_train['review'] = df_train['review'].apply(html.unescape)\n",
        "df_valid['review'] = df_valid['review'].apply(html.unescape)\n",
        "\n",
        "#print(df_train[df_train['condition'] == \"Depression\"])\n"
      ],
      "execution_count": 0,
      "outputs": []
    },
    {
      "cell_type": "markdown",
      "metadata": {
        "id": "qS_clfqP6hmf",
        "colab_type": "text"
      },
      "source": [
        "##Summary of the Data"
      ]
    },
    {
      "cell_type": "code",
      "metadata": {
        "id": "-o4dvoCRgSP_",
        "colab_type": "code",
        "outputId": "0a71ecfb-574e-4da5-d9b5-046cd70eb37d",
        "colab": {
          "base_uri": "https://localhost:8080/",
          "height": 85
        }
      },
      "source": [
        "print (f\"Shape of Cleaned up Train Set: {df_train.shape}\")\n",
        "print (f\"Shape of Cleaned up  Validation Set: {df_valid.shape}\")\n",
        "\n",
        "#Number of classes present in the training and validation set\n",
        "targets_train = df_train['condition'].unique()\n",
        "targets_valid = df_valid['condition'].unique()\n",
        "print(f\"#Target Classes in Train: {len(targets_train)}\")\n",
        "print(f\"#Target Classes in Validation: {len(targets_valid)}\")\n"
      ],
      "execution_count": 12,
      "outputs": [
        {
          "output_type": "stream",
          "text": [
            "Shape of Cleaned up Train Set: (159079, 2)\n",
            "Shape of Cleaned up  Validation Set: (53161, 2)\n",
            "#Target Classes in Train: 639\n",
            "#Target Classes in Validation: 639\n"
          ],
          "name": "stdout"
        }
      ]
    },
    {
      "cell_type": "markdown",
      "metadata": {
        "id": "TIwy2ylYbbKQ",
        "colab_type": "text"
      },
      "source": [
        "##Visualizing the Data\n",
        "(not so visual for now)"
      ]
    },
    {
      "cell_type": "code",
      "metadata": {
        "id": "xwBCv9p1vPqv",
        "colab_type": "code",
        "outputId": "14fedbe6-7ad3-4386-a419-c554cebad3d9",
        "colab": {
          "base_uri": "https://localhost:8080/",
          "height": 425
        }
      },
      "source": [
        "#Visualize the dataspread for each of the classes \n",
        "#print(df_train.groupby(['condition']).size().reset_index(name='count').sort_values(['count'], ascending=False))\n",
        "print(df_train['condition'].value_counts())\n",
        "print(df_valid['condition'].value_counts())"
      ],
      "execution_count": 13,
      "outputs": [
        {
          "output_type": "stream",
          "text": [
            "Birth Control                              28788\n",
            "Depression                                  9069\n",
            "Pain                                        6145\n",
            "Anxiety                                     5904\n",
            "Acne                                        5588\n",
            "                                           ...  \n",
            "Dissociative Identity Disorde                  1\n",
            "Mycoplasma Pneumonia                           1\n",
            "Radionuclide Myocardial Perfusion Study        1\n",
            "Gallbladder Disease                            1\n",
            "Myelofibrosis                                  1\n",
            "Name: condition, Length: 639, dtype: int64\n",
            "Birth Control                                   9648\n",
            "Depression                                      3095\n",
            "Pain                                            2100\n",
            "Anxiety                                         1908\n",
            "Acne                                            1847\n",
            "                                                ... \n",
            "Glioblastoma Multi                                 1\n",
            "Hyperkalemia                                       1\n",
            "Dissociative Identity Disorde                      1\n",
            "Pain/Feve                                          1\n",
            "Reversal of Nondepolarizing Muscle Relaxants       1\n",
            "Name: condition, Length: 639, dtype: int64\n"
          ],
          "name": "stdout"
        }
      ]
    },
    {
      "cell_type": "markdown",
      "metadata": {
        "id": "Wdeu9Jk-bBec",
        "colab_type": "text"
      },
      "source": [
        "##Start ULMFit Stuff"
      ]
    },
    {
      "cell_type": "code",
      "metadata": {
        "id": "8ieLnFZU_pWM",
        "colab_type": "code",
        "colab": {}
      },
      "source": [
        "#Prepare for training the language model\n",
        "#todo: i have not specified batch size(bs)\n",
        "data_lm = TextLMDataBunch.from_df(path='/', train_df=df_train, valid_df=df_valid)\n",
        "learn_lm = language_model_learner(data_lm, AWD_LSTM, drop_mult=0.5)"
      ],
      "execution_count": 0,
      "outputs": []
    },
    {
      "cell_type": "code",
      "metadata": {
        "id": "Ek7oRAXf0_21",
        "colab_type": "code",
        "outputId": "83e7e833-90c2-46a2-ba5c-a5b660c90b32",
        "colab": {
          "base_uri": "https://localhost:8080/",
          "height": 296
        }
      },
      "source": [
        "#find the learning rate \n",
        "learn_lm.lr_find(start_lr=1e-8, end_lr=1e2)\n",
        "learn_lm.recorder.plot()"
      ],
      "execution_count": 15,
      "outputs": [
        {
          "output_type": "display_data",
          "data": {
            "text/html": [
              ""
            ],
            "text/plain": [
              "<IPython.core.display.HTML object>"
            ]
          },
          "metadata": {
            "tags": []
          }
        },
        {
          "output_type": "stream",
          "text": [
            "LR Finder is complete, type {learner_name}.recorder.plot() to see the graph.\n"
          ],
          "name": "stdout"
        },
        {
          "output_type": "display_data",
          "data": {
            "image/png": "[encoded data removed]",
            "text/plain": [
              "<Figure size 432x288 with 1 Axes>"
            ]
          },
          "metadata": {
            "tags": []
          }
        }
      ]
    },
    {
      "cell_type": "code",
      "metadata": {
        "id": "0c_EqdfMDJbT",
        "colab_type": "code",
        "outputId": "df0d32b5-cfc3-4fec-f3e5-4479630ac1d0",
        "colab": {
          "base_uri": "https://localhost:8080/",
          "height": 80
        }
      },
      "source": [
        "#The above plot tells us that loss is minimum at the learning rate of \n",
        "#approx 1e0, so we need to choose the learning rate as one level before\n",
        "\n",
        "#Start training the language model\n",
        "learn_lm.fit_one_cycle(1, 1e-3, moms=(0.8, 0.7))\n",
        "\n"
      ],
      "execution_count": 16,
      "outputs": [
        {
          "output_type": "display_data",
          "data": {
            "text/html": [
              "<table border=\"1\" class=\"dataframe\">\n",
              "  <thead>\n",
              "    <tr style=\"text-align: left;\">\n",
              "      <th>epoch</th>\n",
              "      <th>train_loss</th>\n",
              "      <th>valid_loss</th>\n",
              "      <th>accuracy</th>\n",
              "      <th>time</th>\n",
              "    </tr>\n",
              "  </thead>\n",
              "  <tbody>\n",
              "    <tr>\n",
              "      <td>0</td>\n",
              "      <td>3.683284</td>\n",
              "      <td>3.532496</td>\n",
              "      <td>0.306265</td>\n",
              "      <td>12:08</td>\n",
              "    </tr>\n",
              "  </tbody>\n",
              "</table>"
            ],
            "text/plain": [
              "<IPython.core.display.HTML object>"
            ]
          },
          "metadata": {
            "tags": []
          }
        }
      ]
    },
    {
      "cell_type": "code",
      "metadata": {
        "id": "O2OxVSiHmXWP",
        "colab_type": "code",
        "outputId": "2afbcde4-59fe-4ce2-9238-d6ed5b4e6328",
        "colab": {
          "base_uri": "https://localhost:8080/",
          "height": 142
        }
      },
      "source": [
        "learn_lm.unfreeze()\n",
        "learn_lm.fit_one_cycle(3, 1e-3, moms=(0.8, 0.7))"
      ],
      "execution_count": 17,
      "outputs": [
        {
          "output_type": "display_data",
          "data": {
            "text/html": [
              "<table border=\"1\" class=\"dataframe\">\n",
              "  <thead>\n",
              "    <tr style=\"text-align: left;\">\n",
              "      <th>epoch</th>\n",
              "      <th>train_loss</th>\n",
              "      <th>valid_loss</th>\n",
              "      <th>accuracy</th>\n",
              "      <th>time</th>\n",
              "    </tr>\n",
              "  </thead>\n",
              "  <tbody>\n",
              "    <tr>\n",
              "      <td>0</td>\n",
              "      <td>3.240383</td>\n",
              "      <td>3.142065</td>\n",
              "      <td>0.354504</td>\n",
              "      <td>13:56</td>\n",
              "    </tr>\n",
              "    <tr>\n",
              "      <td>1</td>\n",
              "      <td>3.094663</td>\n",
              "      <td>2.989730</td>\n",
              "      <td>0.374006</td>\n",
              "      <td>14:02</td>\n",
              "    </tr>\n",
              "    <tr>\n",
              "      <td>2</td>\n",
              "      <td>2.978294</td>\n",
              "      <td>2.944170</td>\n",
              "      <td>0.380486</td>\n",
              "      <td>14:00</td>\n",
              "    </tr>\n",
              "  </tbody>\n",
              "</table>"
            ],
            "text/plain": [
              "<IPython.core.display.HTML object>"
            ]
          },
          "metadata": {
            "tags": []
          }
        }
      ]
    },
    {
      "cell_type": "code",
      "metadata": {
        "id": "HWZh5kpnF2Nt",
        "colab_type": "code",
        "colab": {}
      },
      "source": [
        "#Plot the curves for language model - if necessary\n"
      ],
      "execution_count": 0,
      "outputs": []
    },
    {
      "cell_type": "code",
      "metadata": {
        "id": "N4sV4tIkGSCq",
        "colab_type": "code",
        "outputId": "dae7b353-6270-4f02-b8d2-18e2923719ea",
        "colab": {
          "base_uri": "https://localhost:8080/",
          "height": 34
        }
      },
      "source": [
        "#See how the language model is doing on the statement of medical review \n",
        "#write some string\n",
        "medical_review = \"I have been continuing this medicine for the last couple of months but\"\n",
        "learn_lm.predict(medical_review, n_words=10)"
      ],
      "execution_count": 18,
      "outputs": [
        {
          "output_type": "execute_result",
          "data": {
            "text/plain": [
              "'I have been continuing this medicine for the last couple of months but can still see the change . Well i hope'"
            ]
          },
          "metadata": {
            "tags": []
          },
          "execution_count": 18
        }
      ]
    },
    {
      "cell_type": "code",
      "metadata": {
        "id": "1qxs7mFGGmfI",
        "colab_type": "code",
        "colab": {}
      },
      "source": [
        "#fine tuned language model is called as encoder - we need to save it\n",
        "learn_lm.save_encoder('ft_enc')"
      ],
      "execution_count": 0,
      "outputs": []
    },
    {
      "cell_type": "code",
      "metadata": {
        "id": "h0Sl_y7YGM_q",
        "colab_type": "code",
        "colab": {}
      },
      "source": [
        "#Prepare for training the classifier\n",
        "data_clas = TextClasDataBunch.from_df(path='/', train_df=df_train, valid_df=df_valid, vocab=data_lm.train_ds.vocab, min_freq=1, bs=32)\n",
        "\n",
        "learn_clas = text_classifier_learner(data_clas, AWD_LSTM, drop_mult=0.5).to_fp16()\n",
        "learn_clas.load_encoder('ft_enc')\n",
        "learn_clas.freeze()\n",
        "\n",
        "\n"
      ],
      "execution_count": 0,
      "outputs": []
    },
    {
      "cell_type": "code",
      "metadata": {
        "id": "lmrw3W-eKcJL",
        "colab_type": "code",
        "outputId": "40daa7cc-a4c0-4f3c-9c77-95686147a658",
        "colab": {
          "base_uri": "https://localhost:8080/",
          "height": 298
        }
      },
      "source": [
        "#find learning rate before starting the training of classifier\n",
        "learn_clas.lr_find(start_lr=1e-8, end_lr=1e2)\n",
        "learn_clas.recorder.plot()"
      ],
      "execution_count": 21,
      "outputs": [
        {
          "output_type": "display_data",
          "data": {
            "text/html": [
              ""
            ],
            "text/plain": [
              "<IPython.core.display.HTML object>"
            ]
          },
          "metadata": {
            "tags": []
          }
        },
        {
          "output_type": "stream",
          "text": [
            "LR Finder is complete, type {learner_name}.recorder.plot() to see the graph.\n"
          ],
          "name": "stdout"
        },
        {
          "output_type": "display_data",
          "data": {
            "image/png": "[encoded data removed]",
            "text/plain": [
              "<Figure size 432x288 with 1 Axes>"
            ]
          },
          "metadata": {
            "tags": []
          }
        }
      ]
    },
    {
      "cell_type": "code",
      "metadata": {
        "id": "EC6f1gHrHc4h",
        "colab_type": "code",
        "outputId": "5e4e39ad-c417-4cd3-c531-152b4aee802d",
        "colab": {
          "base_uri": "https://localhost:8080/",
          "height": 80
        }
      },
      "source": [
        "#Start Training of the classifier \n",
        "# For training the classifier, \"gradual unfreezing\" should be applied to avoid \"catastrophic forgetting\"\n",
        "# as explained in section 3.3 of Howard and Ruder's paper - https://arxiv.org/pdf/1801.06146.pdf \n",
        "\n",
        "learn_clas.freeze()\n",
        "learn_clas.fit_one_cycle(1, 1e-3, moms=(0.8, 0.7))\n"
      ],
      "execution_count": 22,
      "outputs": [
        {
          "output_type": "display_data",
          "data": {
            "text/html": [
              "<table border=\"1\" class=\"dataframe\">\n",
              "  <thead>\n",
              "    <tr style=\"text-align: left;\">\n",
              "      <th>epoch</th>\n",
              "      <th>train_loss</th>\n",
              "      <th>valid_loss</th>\n",
              "      <th>accuracy</th>\n",
              "      <th>time</th>\n",
              "    </tr>\n",
              "  </thead>\n",
              "  <tbody>\n",
              "    <tr>\n",
              "      <td>0</td>\n",
              "      <td>1.904567</td>\n",
              "      <td>1.669026</td>\n",
              "      <td>0.619778</td>\n",
              "      <td>04:38</td>\n",
              "    </tr>\n",
              "  </tbody>\n",
              "</table>"
            ],
            "text/plain": [
              "<IPython.core.display.HTML object>"
            ]
          },
          "metadata": {
            "tags": []
          }
        }
      ]
    },
    {
      "cell_type": "code",
      "metadata": {
        "id": "_McHZvL2zdwU",
        "colab_type": "code",
        "outputId": "10a7b857-6b4d-4457-f7ec-bc0dc310888c",
        "colab": {
          "base_uri": "https://localhost:8080/",
          "height": 80
        }
      },
      "source": [
        "learn_clas.freeze_to(-2)\n",
        "learn_clas.fit_one_cycle(1, slice(1e-4,1e-2), moms=(0.8,0.7))\n"
      ],
      "execution_count": 23,
      "outputs": [
        {
          "output_type": "display_data",
          "data": {
            "text/html": [
              "<table border=\"1\" class=\"dataframe\">\n",
              "  <thead>\n",
              "    <tr style=\"text-align: left;\">\n",
              "      <th>epoch</th>\n",
              "      <th>train_loss</th>\n",
              "      <th>valid_loss</th>\n",
              "      <th>accuracy</th>\n",
              "      <th>time</th>\n",
              "    </tr>\n",
              "  </thead>\n",
              "  <tbody>\n",
              "    <tr>\n",
              "      <td>0</td>\n",
              "      <td>1.791991</td>\n",
              "      <td>1.422388</td>\n",
              "      <td>0.663005</td>\n",
              "      <td>05:46</td>\n",
              "    </tr>\n",
              "  </tbody>\n",
              "</table>"
            ],
            "text/plain": [
              "<IPython.core.display.HTML object>"
            ]
          },
          "metadata": {
            "tags": []
          }
        }
      ]
    },
    {
      "cell_type": "code",
      "metadata": {
        "id": "88NsMggvzhZc",
        "colab_type": "code",
        "outputId": "0d4d7e5d-44bc-4256-8b9c-5e039bbd5c48",
        "colab": {
          "base_uri": "https://localhost:8080/",
          "height": 80
        }
      },
      "source": [
        "learn_clas.freeze_to(-3)\n",
        "learn_clas.fit_one_cycle(1, slice(1e-5,5e-3), moms=(0.8,0.7))\n"
      ],
      "execution_count": 24,
      "outputs": [
        {
          "output_type": "display_data",
          "data": {
            "text/html": [
              "<table border=\"1\" class=\"dataframe\">\n",
              "  <thead>\n",
              "    <tr style=\"text-align: left;\">\n",
              "      <th>epoch</th>\n",
              "      <th>train_loss</th>\n",
              "      <th>valid_loss</th>\n",
              "      <th>accuracy</th>\n",
              "      <th>time</th>\n",
              "    </tr>\n",
              "  </thead>\n",
              "  <tbody>\n",
              "    <tr>\n",
              "      <td>0</td>\n",
              "      <td>1.361937</td>\n",
              "      <td>1.296438</td>\n",
              "      <td>0.691484</td>\n",
              "      <td>09:25</td>\n",
              "    </tr>\n",
              "  </tbody>\n",
              "</table>"
            ],
            "text/plain": [
              "<IPython.core.display.HTML object>"
            ]
          },
          "metadata": {
            "tags": []
          }
        }
      ]
    },
    {
      "cell_type": "code",
      "metadata": {
        "id": "WFWYfG5bzjCs",
        "colab_type": "code",
        "outputId": "098b8170-23b3-4fe8-95d7-bb0aba641d09",
        "colab": {
          "base_uri": "https://localhost:8080/",
          "height": 205
        }
      },
      "source": [
        "learn_clas.unfreeze()\n",
        "learn_clas.fit_one_cycle(4, slice(1e-5,1e-3), moms=(0.8,0.7))"
      ],
      "execution_count": 25,
      "outputs": [
        {
          "output_type": "display_data",
          "data": {
            "text/html": [
              "\n",
              "    <div>\n",
              "        <style>\n",
              "            /* Turns off some styling */\n",
              "            progress {\n",
              "                /* gets rid of default border in Firefox and Opera. */\n",
              "                border: none;\n",
              "                /* Needs to be in here for Safari polyfill so background images work as expected. */\n",
              "                background-size: auto;\n",
              "            }\n",
              "            .progress-bar-interrupted, .progress-bar-interrupted::-webkit-progress-bar {\n",
              "                background: #F44336;\n",
              "            }\n",
              "        </style>\n",
              "      <progress value='3' class='' max='4', style='width:300px; height:20px; vertical-align: middle;'></progress>\n",
              "      75.00% [3/4 38:55<12:58]\n",
              "    </div>\n",
              "    \n",
              "<table border=\"1\" class=\"dataframe\">\n",
              "  <thead>\n",
              "    <tr style=\"text-align: left;\">\n",
              "      <th>epoch</th>\n",
              "      <th>train_loss</th>\n",
              "      <th>valid_loss</th>\n",
              "      <th>accuracy</th>\n",
              "      <th>time</th>\n",
              "    </tr>\n",
              "  </thead>\n",
              "  <tbody>\n",
              "    <tr>\n",
              "      <td>0</td>\n",
              "      <td>1.441994</td>\n",
              "      <td>1.266849</td>\n",
              "      <td>0.696714</td>\n",
              "      <td>13:31</td>\n",
              "    </tr>\n",
              "    <tr>\n",
              "      <td>1</td>\n",
              "      <td>1.354515</td>\n",
              "      <td>1.205165</td>\n",
              "      <td>0.710145</td>\n",
              "      <td>12:56</td>\n",
              "    </tr>\n",
              "    <tr>\n",
              "      <td>2</td>\n",
              "      <td>1.107531</td>\n",
              "      <td>1.170206</td>\n",
              "      <td>0.720923</td>\n",
              "      <td>12:27</td>\n",
              "    </tr>\n",
              "  </tbody>\n",
              "</table><p>\n",
              "\n",
              "    <div>\n",
              "        <style>\n",
              "            /* Turns off some styling */\n",
              "            progress {\n",
              "                /* gets rid of default border in Firefox and Opera. */\n",
              "                border: none;\n",
              "                /* Needs to be in here for Safari polyfill so background images work as expected. */\n",
              "                background-size: auto;\n",
              "            }\n",
              "            .progress-bar-interrupted, .progress-bar-interrupted::-webkit-progress-bar {\n",
              "                background: #F44336;\n",
              "            }\n",
              "        </style>\n",
              "      <progress value='3048' class='' max='4971', style='width:300px; height:20px; vertical-align: middle;'></progress>\n",
              "      61.32% [3048/4971 06:40<04:12 1.2322]\n",
              "    </div>\n",
              "    "
            ],
            "text/plain": [
              "<IPython.core.display.HTML object>"
            ]
          },
          "metadata": {
            "tags": []
          }
        },
        {
          "output_type": "stream",
          "text": [
            "Buffered data was truncated after reaching the output size limit."
          ],
          "name": "stdout"
        }
      ]
    },
    {
      "cell_type": "code",
      "metadata": {
        "id": "GTXw5N6OiIaD",
        "colab_type": "code",
        "outputId": "c2d3100b-7fd3-4da3-ed26-9fa0c119fb88",
        "colab": {
          "base_uri": "https://localhost:8080/",
          "height": 111
        }
      },
      "source": [
        "learn_clas.fit_one_cycle(2, 1e-3, moms=(0.8,0.7))"
      ],
      "execution_count": 26,
      "outputs": [
        {
          "output_type": "display_data",
          "data": {
            "text/html": [
              "<table border=\"1\" class=\"dataframe\">\n",
              "  <thead>\n",
              "    <tr style=\"text-align: left;\">\n",
              "      <th>epoch</th>\n",
              "      <th>train_loss</th>\n",
              "      <th>valid_loss</th>\n",
              "      <th>accuracy</th>\n",
              "      <th>time</th>\n",
              "    </tr>\n",
              "  </thead>\n",
              "  <tbody>\n",
              "    <tr>\n",
              "      <td>0</td>\n",
              "      <td>1.233560</td>\n",
              "      <td>1.212806</td>\n",
              "      <td>0.713794</td>\n",
              "      <td>12:25</td>\n",
              "    </tr>\n",
              "    <tr>\n",
              "      <td>1</td>\n",
              "      <td>1.070606</td>\n",
              "      <td>1.069522</td>\n",
              "      <td>0.749741</td>\n",
              "      <td>13:09</td>\n",
              "    </tr>\n",
              "  </tbody>\n",
              "</table>"
            ],
            "text/plain": [
              "<IPython.core.display.HTML object>"
            ]
          },
          "metadata": {
            "tags": []
          }
        }
      ]
    },
    {
      "cell_type": "code",
      "metadata": {
        "id": "0GSexu49reyl",
        "colab_type": "code",
        "colab": {}
      },
      "source": [
        "#Export the Learned Model\n",
        "learn_clas.export('/content/drive/My Drive/Projects/AnalyticsHackathon/learned_classifer_try1.pkl')"
      ],
      "execution_count": 0,
      "outputs": []
    },
    {
      "cell_type": "code",
      "metadata": {
        "id": "LWM_oSYHHraa",
        "colab_type": "code",
        "colab": {
          "base_uri": "https://localhost:8080/",
          "height": 541
        },
        "outputId": "0dc075c4-d618-4cca-cbec-f5b8b7016f77"
      },
      "source": [
        "#Plot the curves for classifer model - should be done\n",
        "learn_clas.recorder.plot_losses()"
      ],
      "execution_count": 28,
      "outputs": [
        {
          "output_type": "display_data",
          "data": {
            "image/png": "[encoded data removed]",
            "text/plain": [
              "<Figure size 432x288 with 1 Axes>"
            ]
          },
          "metadata": {
            "tags": []
          }
        },
        {
          "output_type": "display_data",
          "data": {
            "image/png": "[encoded data removed]",
            "text/plain": [
              "<Figure size 432x288 with 1 Axes>"
            ]
          },
          "metadata": {
            "tags": []
          }
        }
      ]
    },
    {
      "cell_type": "code",
      "metadata": {
        "id": "c9SwezA7jzRq",
        "colab_type": "code",
        "colab": {
          "base_uri": "https://localhost:8080/",
          "height": 1000
        },
        "outputId": "f4ad2716-094c-44ae-97ba-1fca25698732"
      },
      "source": [
        "#Show Results: Acutal and Predicted \n",
        "learn_clas.show_results(rows=10)"
      ],
      "execution_count": 29,
      "outputs": [
        {
          "output_type": "display_data",
          "data": {
            "text/html": [
              "<table border=\"1\" class=\"dataframe\">\n",
              "  <thead>\n",
              "    <tr style=\"text-align: right;\">\n",
              "      <th>text</th>\n",
              "      <th>target</th>\n",
              "      <th>prediction</th>\n",
              "    </tr>\n",
              "  </thead>\n",
              "  <tbody>\n",
              "    <tr>\n",
              "      <td>xxbos \" i do n’t find a lot of positive stories about antidepressants , or i find stories where people are taking the antidepressant the wrong way . \\r \\n \\r \\n  i wanted to share my experience . a positive one . \\r \\n \\r \\n  i ’ve had generalized anxiety disorder , xxup severe xxup ocd , and panic disorder for as long as i can</td>\n",
              "      <td>Obsessive Compulsive Disorde</td>\n",
              "      <td>Obsessive Compulsive Disorde</td>\n",
              "    </tr>\n",
              "    <tr>\n",
              "      <td>xxbos \" • \\t 19 xxmaj apr. 2016 \\r\\r \\n \\r\\r \\n  xxmaj began initial dose at xxunk hours . xxmaj felt the medicine working within a ½ hour . xxmaj was in a good mood as i had been taken off of xxmaj warfarin this date . xxmaj before drifting off to sleep , i xxunk at the clock . xxmaj it was approx . xxunk hrs .</td>\n",
              "      <td>Depression</td>\n",
              "      <td>High Cholesterol</td>\n",
              "    </tr>\n",
              "    <tr>\n",
              "      <td>xxbos \" xxmaj my personal experience with suboxone is good so far . i have been on prescribed xxmaj fentanyl xxmaj patch 25 much / 48 hrs . i have dropped to this dose over the last year . ( i also left the old patch on ) . i have been on opiates for 12 years full time prescribed . xxmaj at my highest prescription i was using 180</td>\n",
              "      <td>Opiate Dependence</td>\n",
              "      <td>Opiate Dependence</td>\n",
              "    </tr>\n",
              "    <tr>\n",
              "      <td>xxbos \" xxmaj my personal experience with suboxone is good so far . i have been on prescribed xxmaj fentanyl xxmaj patch 25 much / 48 hrs . i have dropped to this dose over the last year . ( i also left the old patch on ) . i have been on opiates for 12 years full time prescribed . xxmaj at my highest prescription i was using 180</td>\n",
              "      <td>Opiate Dependence</td>\n",
              "      <td>Opiate Dependence</td>\n",
              "    </tr>\n",
              "    <tr>\n",
              "      <td>xxbos \" xxmaj my colonoscopy was booked in for late afternoon on a xxmaj thursday . xxmaj the hospital said to stop eating anything from 1 pm on the xxmaj wednesday and recommended ( giving some detail ) a non fibre diet from xxmaj tuesday evening until xxmaj wednesday noon - avoiding dark drinks and jelly ( like blackcurrant flavour ) . xxmaj avoid red meat , sausages and pies</td>\n",
              "      <td>Bowel Preparation</td>\n",
              "      <td>Bowel Preparation</td>\n",
              "    </tr>\n",
              "    <tr>\n",
              "      <td>xxbos \" xxmaj holy xxunk xxmaj batman it worked ! xxmaj but boy it was a xxmaj journey lol for 4 days i had n't pooped ! i had already taken laxatives , stool softener , a bucket of prunes , fiber pills , other fiber pills and still no poop over the last 4 days ! xxmaj so i called friend that has xxmaj gastroparesis and asked her what</td>\n",
              "      <td>Constipation</td>\n",
              "      <td>Constipation</td>\n",
              "    </tr>\n",
              "    <tr>\n",
              "      <td>xxbos \" i just started this medicine 3 days ago and i can not express how much of an effect it has had on me already . i just graduated high school and became depressed soon after , severe anxiety where i could n't go out to eat without having to vomit . i also could n't keep focus on anything , especially when trying to talk to people ,</td>\n",
              "      <td>Depression</td>\n",
              "      <td>Depression</td>\n",
              "    </tr>\n",
              "    <tr>\n",
              "      <td>xxbos \" i felt compelled to write a review , as i was on topamax ( or should i say dopamax ? ! ) for about 2 years . i started this medication when i was 21 and was so desperate to find something that would actually help my on - going migraines . xxmaj personally , the side effect symptoms xxup far outweighed the benefits . i started out</td>\n",
              "      <td>Migraine Prevention</td>\n",
              "      <td>Migraine Prevention</td>\n",
              "    </tr>\n",
              "    <tr>\n",
              "      <td>xxbos \" i have dealt with ups and downs , anxiety , social anxiety , depression etc . etc . for years . xxmaj my life overall is normal and i managed the episodes but i always knew they were there and did n't like feeling that way . i am married we have children combine that with everything else and it times it was just too much . xxmaj</td>\n",
              "      <td>Social Anxiety Disorde</td>\n",
              "      <td>Social Anxiety Disorde</td>\n",
              "    </tr>\n",
              "    <tr>\n",
              "      <td>xxbos \" xxmaj yes , this medication works . xxmaj it works very well for chronic anxiety disorder and sudden onsets of severe panic attacks . xxmaj knowing what i know now , i wish with all my being it had never ever been prescribed to me , and without the absurd xxunk dozens of practitioners have portrayed . \\r\\r \\n  i 'm 32 and have been prescribed clonazopam</td>\n",
              "      <td>Anxiety</td>\n",
              "      <td>Anxiety</td>\n",
              "    </tr>\n",
              "  </tbody>\n",
              "</table>"
            ],
            "text/plain": [
              "<IPython.core.display.HTML object>"
            ]
          },
          "metadata": {
            "tags": []
          }
        },
        {
          "output_type": "display_data",
          "data": {
            "text/html": [
              "<table border=\"1\" class=\"dataframe\">\n",
              "  <thead>\n",
              "    <tr style=\"text-align: right;\">\n",
              "      <th>text</th>\n",
              "      <th>target</th>\n",
              "      <th>prediction</th>\n",
              "    </tr>\n",
              "  </thead>\n",
              "  <tbody>\n",
              "    <tr>\n",
              "      <td>xxbos \" i do n’t find a lot of positive stories about antidepressants , or i find stories where people are taking the antidepressant the wrong way . \\r \\n \\r \\n  i wanted to share my experience . a positive one . \\r \\n \\r \\n  i ’ve had generalized anxiety disorder , xxup severe xxup ocd , and panic disorder for as long as i can</td>\n",
              "      <td>Obsessive Compulsive Disorde</td>\n",
              "      <td>Obsessive Compulsive Disorde</td>\n",
              "    </tr>\n",
              "    <tr>\n",
              "      <td>xxbos \" • \\t 19 xxmaj apr. 2016 \\r\\r \\n \\r\\r \\n  xxmaj began initial dose at xxunk hours . xxmaj felt the medicine working within a ½ hour . xxmaj was in a good mood as i had been taken off of xxmaj warfarin this date . xxmaj before drifting off to sleep , i xxunk at the clock . xxmaj it was approx . xxunk hrs .</td>\n",
              "      <td>Depression</td>\n",
              "      <td>High Cholesterol</td>\n",
              "    </tr>\n",
              "    <tr>\n",
              "      <td>xxbos \" xxmaj my personal experience with suboxone is good so far . i have been on prescribed xxmaj fentanyl xxmaj patch 25 much / 48 hrs . i have dropped to this dose over the last year . ( i also left the old patch on ) . i have been on opiates for 12 years full time prescribed . xxmaj at my highest prescription i was using 180</td>\n",
              "      <td>Opiate Dependence</td>\n",
              "      <td>Opiate Dependence</td>\n",
              "    </tr>\n",
              "    <tr>\n",
              "      <td>xxbos \" xxmaj my personal experience with suboxone is good so far . i have been on prescribed xxmaj fentanyl xxmaj patch 25 much / 48 hrs . i have dropped to this dose over the last year . ( i also left the old patch on ) . i have been on opiates for 12 years full time prescribed . xxmaj at my highest prescription i was using 180</td>\n",
              "      <td>Opiate Dependence</td>\n",
              "      <td>Opiate Dependence</td>\n",
              "    </tr>\n",
              "    <tr>\n",
              "      <td>xxbos \" xxmaj my colonoscopy was booked in for late afternoon on a xxmaj thursday . xxmaj the hospital said to stop eating anything from 1 pm on the xxmaj wednesday and recommended ( giving some detail ) a non fibre diet from xxmaj tuesday evening until xxmaj wednesday noon - avoiding dark drinks and jelly ( like blackcurrant flavour ) . xxmaj avoid red meat , sausages and pies</td>\n",
              "      <td>Bowel Preparation</td>\n",
              "      <td>Bowel Preparation</td>\n",
              "    </tr>\n",
              "    <tr>\n",
              "      <td>xxbos \" xxmaj holy xxunk xxmaj batman it worked ! xxmaj but boy it was a xxmaj journey lol for 4 days i had n't pooped ! i had already taken laxatives , stool softener , a bucket of prunes , fiber pills , other fiber pills and still no poop over the last 4 days ! xxmaj so i called friend that has xxmaj gastroparesis and asked her what</td>\n",
              "      <td>Constipation</td>\n",
              "      <td>Constipation</td>\n",
              "    </tr>\n",
              "    <tr>\n",
              "      <td>xxbos \" i just started this medicine 3 days ago and i can not express how much of an effect it has had on me already . i just graduated high school and became depressed soon after , severe anxiety where i could n't go out to eat without having to vomit . i also could n't keep focus on anything , especially when trying to talk to people ,</td>\n",
              "      <td>Depression</td>\n",
              "      <td>Depression</td>\n",
              "    </tr>\n",
              "    <tr>\n",
              "      <td>xxbos \" i felt compelled to write a review , as i was on topamax ( or should i say dopamax ? ! ) for about 2 years . i started this medication when i was 21 and was so desperate to find something that would actually help my on - going migraines . xxmaj personally , the side effect symptoms xxup far outweighed the benefits . i started out</td>\n",
              "      <td>Migraine Prevention</td>\n",
              "      <td>Migraine Prevention</td>\n",
              "    </tr>\n",
              "    <tr>\n",
              "      <td>xxbos \" i have dealt with ups and downs , anxiety , social anxiety , depression etc . etc . for years . xxmaj my life overall is normal and i managed the episodes but i always knew they were there and did n't like feeling that way . i am married we have children combine that with everything else and it times it was just too much . xxmaj</td>\n",
              "      <td>Social Anxiety Disorde</td>\n",
              "      <td>Social Anxiety Disorde</td>\n",
              "    </tr>\n",
              "    <tr>\n",
              "      <td>xxbos \" xxmaj yes , this medication works . xxmaj it works very well for chronic anxiety disorder and sudden onsets of severe panic attacks . xxmaj knowing what i know now , i wish with all my being it had never ever been prescribed to me , and without the absurd xxunk dozens of practitioners have portrayed . \\r\\r \\n  i 'm 32 and have been prescribed clonazopam</td>\n",
              "      <td>Anxiety</td>\n",
              "      <td>Anxiety</td>\n",
              "    </tr>\n",
              "  </tbody>\n",
              "</table>"
            ],
            "text/plain": [
              "<IPython.core.display.HTML object>"
            ]
          },
          "metadata": {
            "tags": []
          }
        }
      ]
    },
    {
      "cell_type": "code",
      "metadata": {
        "id": "z74YDcK0Hj15",
        "colab_type": "code",
        "colab": {}
      },
      "source": [
        "#Get the accuracy matrix \n",
        "predictions, targets = learn_clas.get_preds()"
      ],
      "execution_count": 0,
      "outputs": []
    },
    {
      "cell_type": "code",
      "metadata": {
        "id": "2low6mHF5yrb",
        "colab_type": "code",
        "colab": {
          "base_uri": "https://localhost:8080/",
          "height": 85
        },
        "outputId": "28528893-ed7d-461f-a172-95f078e5999b"
      },
      "source": [
        "from sklearn import metrics\n",
        "\n",
        "predictions_clas = np.argmax(predictions, axis = 1) \n",
        "print(predictions_clas.shape)\n",
        "print(targets.shape)\n"
      ],
      "execution_count": 31,
      "outputs": [
        {
          "output_type": "stream",
          "text": [
            "torch.Size([53161])\n",
            "torch.Size([53161])\n",
            "torch.Size([53161])\n",
            "torch.Size([53161])\n"
          ],
          "name": "stdout"
        }
      ]
    },
    {
      "cell_type": "code",
      "metadata": {
        "id": "kNS0Q9p0nW-3",
        "colab_type": "code",
        "colab": {
          "base_uri": "https://localhost:8080/",
          "height": 34
        },
        "outputId": "af1e86b6-ef16-46ed-ec04-2a721eaede24"
      },
      "source": [
        "predictions[0].shape"
      ],
      "execution_count": 32,
      "outputs": [
        {
          "output_type": "execute_result",
          "data": {
            "text/plain": [
              "torch.Size([639])"
            ]
          },
          "metadata": {
            "tags": []
          },
          "execution_count": 32
        },
        {
          "output_type": "execute_result",
          "data": {
            "text/plain": [
              "torch.Size([639])"
            ]
          },
          "metadata": {
            "tags": []
          },
          "execution_count": 32
        }
      ]
    },
    {
      "cell_type": "code",
      "metadata": {
        "id": "mOsm8NGFjW7G",
        "colab_type": "code",
        "colab": {
          "base_uri": "https://localhost:8080/",
          "height": 323
        },
        "outputId": "a47f0856-c42f-48cc-c156-e396f611b24e"
      },
      "source": [
        "#Generate Confusion Matrix\n",
        "confusion_matrix = metrics.confusion_matrix(targets, predictions_clas)\n",
        "print(confusion_matrix)\n",
        "\n",
        "#Export Confustion Matrix\n",
        "df_confusion_matrix = pd.DataFrame(confusion_matrix)\n",
        "df_confusion_matrix.to_csv('/content/drive/My Drive/Projects/AnalyticsHackathon/ULMFit_Drug_Review_Confusion_Matrix_try1.csv')"
      ],
      "execution_count": 33,
      "outputs": [
        {
          "output_type": "stream",
          "text": [
            "[[1022    0    0    0 ...    0    0    0    0]\n",
            " [   1    0    0    0 ...    0    0    0    0]\n",
            " [   0    0  378    0 ...    0    0    0    0]\n",
            " [   0    0    0    0 ...    0    0    0    0]\n",
            " ...\n",
            " [   0    0    0    0 ...    0    0    0    0]\n",
            " [   0    0    0    0 ...    0    0    0    0]\n",
            " [   0    0    2    0 ...    0    0    0    0]\n",
            " [   0    0    0    0 ...    0    0    0    0]]\n",
            "[[1022    0    0    0 ...    0    0    0    0]\n",
            " [   1    0    0    0 ...    0    0    0    0]\n",
            " [   0    0  378    0 ...    0    0    0    0]\n",
            " [   0    0    0    0 ...    0    0    0    0]\n",
            " ...\n",
            " [   0    0    0    0 ...    0    0    0    0]\n",
            " [   0    0    0    0 ...    0    0    0    0]\n",
            " [   0    0    2    0 ...    0    0    0    0]\n",
            " [   0    0    0    0 ...    0    0    0    0]]\n"
          ],
          "name": "stdout"
        }
      ]
    },
    {
      "cell_type": "code",
      "metadata": {
        "id": "CUOT1Jbmyy9x",
        "colab_type": "code",
        "colab": {
          "base_uri": "https://localhost:8080/",
          "height": 119
        },
        "outputId": "f96598e3-7722-412d-d957-6c7eac34de7a"
      },
      "source": [
        "#From the confusion matrix, take diagnal elements\n",
        "\n",
        "diag = np.diag(df_confusion_matrix)\n",
        "correct_predictions = sum(diag)\n",
        "total_validation_examples = np.sum(df_confusion_matrix, axis=1).sum()\n",
        "pred_acc_percent = (correct_predictions/total_validation_examples) * 100\n",
        "print(f\"Sum of diagonal elements of the confusion matrix: {correct_predictions}\")\n",
        "print(f\"Total number of vaildation examples: {total_validation_examples}\")\n",
        "print(f\"Prediction Accuracy of the model: {pred_acc_percent}\")\n"
      ],
      "execution_count": 34,
      "outputs": [
        {
          "output_type": "stream",
          "text": [
            "Sum of diagonal elements of the confusion matrix: 39863\n",
            "Total number of vaildation examples: 53161\n",
            "Prediction Accuracy of the model: 74.98542164368615\n",
            "Sum of diagonal elements of the confusion matrix: 39863\n",
            "Total number of vaildation examples: 53161\n",
            "Prediction Accuracy of the model: 74.98542164368615\n"
          ],
          "name": "stdout"
        }
      ]
    },
    {
      "cell_type": "code",
      "metadata": {
        "id": "kt55COPSDC5B",
        "colab_type": "code",
        "colab": {
          "base_uri": "https://localhost:8080/",
          "height": 1000
        },
        "outputId": "71ab6f8e-8389-4fed-88ab-e50c501d106b"
      },
      "source": [
        "target_names = learn_clas.data.classes\n",
        "print(metrics.classification_report(targets, predictions_clas, target_names=target_names))\n"
      ],
      "execution_count": 37,
      "outputs": [
        {
          "output_type": "stream",
          "text": [
            "                                                                precision    recall  f1-score   support\n",
            "\n",
            "                                                          ADHD       0.83      0.91      0.86      1126\n",
            "                                          AIDS Related Wasting       0.00      0.00      0.00         2\n",
            "                                     Abnormal Uterine Bleeding       0.71      0.58      0.64       648\n",
            "                                                      Abortion       0.00      0.00      0.00         2\n",
            "                                        Acetaminophen Overdose       0.00      0.00      0.00         1\n",
            "                                                          Acne       0.92      0.93      0.92      1847\n",
            "                                             Actinic Keratosis       0.00      0.00      0.00         8\n",
            "                                       Acute Coronary Syndrome       0.75      0.55      0.63        11\n",
            "                                  Acute Lymphoblastic Leukemia       0.00      0.00      0.00         2\n",
            "                                 Acute Nonlymphocytic Leukemia       0.00      0.00      0.00         1\n",
            "                                  Acute Promyelocytic Leukemia       0.00      0.00      0.00         1\n",
            "                                             Addison's Disease       0.00      0.00      0.00         2\n",
            "                                  Adrenocortical Insufficiency       0.00      0.00      0.00         3\n",
            "                         Adult Human Growth Hormone Deficiency       0.00      0.00      0.00         1\n",
            "                                                Agitated State       0.00      0.00      0.00         8\n",
            "                                                     Agitation       0.00      0.00      0.00         6\n",
            "                                            Alcohol Dependence       0.89      0.91      0.90       130\n",
            "                                            Alcohol Withdrawal       0.82      0.79      0.81        68\n",
            "                                            Allergic Reactions       0.45      0.17      0.24        30\n",
            "                                             Allergic Rhinitis       0.61      0.75      0.67       350\n",
            "                                            Allergic Urticaria       0.00      0.00      0.00         6\n",
            "                                                     Allergies       0.57      0.24      0.34        49\n",
            "                                                      Alopecia       0.64      0.89      0.74        36\n",
            "                       Alpha-1 Proteinase Inhibitor Deficiency       0.00      0.00      0.00         2\n",
            "                                           Alzheimer's Disease       0.64      0.72      0.68        32\n",
            "                                                     Amebiasis       0.00      0.00      0.00         3\n",
            "                                                    Amenorrhea       0.72      0.50      0.59        26\n",
            "                                      Anal Fissure and Fistula       0.00      0.00      0.00         5\n",
            "                                                  Anal Itching       0.00      0.00      0.00         4\n",
            "                                        Anaplastic Astrocytoma       0.00      0.00      0.00         1\n",
            "                                         Androgenetic Alopecia       0.90      0.53      0.67        17\n",
            "                                                        Anemia       0.00      0.00      0.00        10\n",
            "                  Anemia Associated with Chronic Renal Failure       0.00      0.00      0.00         8\n",
            "                                  Anemia, Chemotherapy Induced       0.00      0.00      0.00         1\n",
            "                                           Anemia, Sickle Cell       0.00      0.00      0.00         4\n",
            "                                                    Anesthesia       0.80      0.83      0.81        86\n",
            "                                                        Angina       0.81      0.73      0.77        30\n",
            "                                   Angina Pectoris Prophylaxis       0.00      0.00      0.00         9\n",
            "                                        Ankylosing Spondylitis       0.65      0.51      0.57        61\n",
            "                                                      Anorexia       0.59      0.32      0.42        31\n",
            "                                                       Anthrax       0.00      0.00      0.00         1\n",
            "                                     Antiphospholipid Syndrome       0.00      0.00      0.00         2\n",
            "                                                       Anxiety       0.60      0.73      0.66      1908\n",
            "                                            Anxiety and Stress       0.60      0.43      0.50       573\n",
            "                                                 Aphthous Ulce       0.00      0.00      0.00         3\n",
            "                                                    Arrhythmia       0.95      0.43      0.59        42\n",
            "                                             Asperger Syndrome       0.00      0.00      0.00         7\n",
            "                                   Aspergillosis, Aspergilloma       0.00      0.00      0.00         1\n",
            "                                                        Asthma       0.52      0.39      0.44        77\n",
            "                                           Asthma, Maintenance       0.54      0.62      0.58       158\n",
            "                                                 Asthma, acute       0.57      0.68      0.62        34\n",
            "                                             Atopic Dermatitis       0.57      0.59      0.58        54\n",
            "                                           Atrial Fibrillation       0.60      0.77      0.68        75\n",
            "                                                 Atrial Flutte       0.00      0.00      0.00         8\n",
            "                                           Atrophic Urethritis       1.00      0.25      0.40         4\n",
            "                                            Atrophic Vaginitis       0.77      0.81      0.79        53\n",
            "                                   Auditory Processing Disorde       0.00      0.00      0.00         4\n",
            "                                                        Autism       0.53      0.61      0.57        31\n",
            "                                   Autoimmune Hemolytic Anemia       0.00      0.00      0.00         1\n",
            "                                          Autoimmune Hepatitis       0.00      0.00      0.00         6\n",
            "                                    B12 Nutritional Deficiency       0.00      0.00      0.00         1\n",
            "                                                     Back Pain       0.46      0.21      0.29       192\n",
            "                             Bacterial Endocarditis Prevention       0.00      0.00      0.00         3\n",
            "                                           Bacterial Infection       0.33      0.41      0.37       307\n",
            "                                      Bacterial Skin Infection       0.57      0.51      0.54        45\n",
            "                                           Bacterial Vaginitis       0.62      0.67      0.64       153\n",
            "                                           Barrett's Esophagus       0.71      0.28      0.40        18\n",
            "                                          Basal Cell Carcinoma       0.60      0.32      0.41        19\n",
            "                                              Behcet's Disease       0.00      0.00      0.00         2\n",
            "                                         Benign Essential Trem       0.80      0.71      0.75        28\n",
            "                                  Benign Prostatic Hyperplasia       0.84      0.82      0.83       165\n",
            "                                     Benzodiazepine Withdrawal       0.00      0.00      0.00         7\n",
            "                                             Biliary Cirrhosis       0.00      0.00      0.00         5\n",
            "                                          Binge Eating Disorde       0.86      0.66      0.75        29\n",
            "                                               Bipolar Disorde       0.72      0.78      0.75      1380\n",
            "                                                 Birth Control       0.93      0.97      0.95      9648\n",
            "                                             Bladder Infection       0.48      0.22      0.31       130\n",
            "                                              Bleeding Disorde       0.00      0.00      0.00         2\n",
            "                                                   Blepharitis       0.00      0.00      0.00         1\n",
            "                                       Body Dysmorphic Disorde       0.00      0.00      0.00         1\n",
            "                                                Bone infection       0.00      0.00      0.00         4\n",
            "                                Borderline Personality Disorde       0.70      0.14      0.23        50\n",
            "                                             Bowel Preparation       0.95      0.96      0.96       639\n",
            "                                             Breakthrough Pain       0.00      0.00      0.00        14\n",
            "                                                  Breast Cance       0.74      0.85      0.79        99\n",
            "                                       Breast Cancer, Adjuvant       0.00      0.00      0.00         6\n",
            "                                     Breast Cancer, Metastatic       0.46      0.62      0.52        26\n",
            "                                     Breast Cancer, Palliative       0.00      0.00      0.00         2\n",
            "                                     Breast Cancer, Prevention       0.00      0.00      0.00         5\n",
            "                                                    Bronchitis       0.50      0.58      0.54       157\n",
            "                                      Bronchospasm Prophylaxis       0.00      0.00      0.00         7\n",
            "                                                       Bulimia       0.85      0.69      0.76        16\n",
            "                                            Bullous Pemphigoid       0.00      0.00      0.00         4\n",
            "                                        Burning Mouth Syndrome       0.00      0.00      0.00         5\n",
            "                                               Burns, External       0.45      0.69      0.55        13\n",
            "                                                      Bursitis       0.00      0.00      0.00         3\n",
            "                                               CMV Prophylaxis       0.00      0.00      0.00         1\n",
            "                                                          COPD       0.74      0.31      0.44        45\n",
            "                                                   COPD, Acute       0.00      0.00      0.00         5\n",
            "                                             COPD, Maintenance       0.63      0.63      0.63        78\n",
            "                                                      Cachexia       0.00      0.00      0.00         1\n",
            "                                                         Cance       0.00      0.00      0.00         2\n",
            "                                                     Cataplexy       0.00      0.00      0.00         2\n",
            "                                                Cerebral Edema       0.00      0.00      0.00         1\n",
            "                                           Cerebral Spasticity       0.00      0.00      0.00         2\n",
            "                                             Cervical Dystonia       0.71      0.57      0.63        21\n",
            "                                           Chlamydia Infection       0.80      0.73      0.77        98\n",
            "                                      Chronic Fatigue Syndrome       0.59      0.36      0.44        28\n",
            "                               Chronic Idiopathic Constipation       1.00      0.36      0.53        22\n",
            "     Chronic Inflammatory Demyelinating Polyradiculoneuropathy       0.00      0.00      0.00         1\n",
            "                                  Chronic Lymphocytic Leukemia       1.00      0.18      0.31        11\n",
            "                                  Chronic Myelogenous Leukemia       0.89      0.92      0.91        26\n",
            "                                       Chronic Myofascial Pain       0.00      0.00      0.00         2\n",
            "                                                  Chronic Pain       0.56      0.31      0.40       485\n",
            "                                          Chronic Pancreatitis       0.00      0.00      0.00         5\n",
            "                                            Chronic Spasticity       0.00      0.00      0.00         2\n",
            "                                         Clostridial Infection       0.00      0.00      0.00         8\n",
            "                                             Cluster Headaches       0.61      0.54      0.57        46\n",
            "                                            Coccidioidomycosis       0.00      0.00      0.00         1\n",
            "                                                    Cold Sores       0.81      0.83      0.82       105\n",
            "                                                 Cold Symptoms       0.55      0.17      0.26        35\n",
            "                                              Colorectal Cance       0.00      0.00      0.00         2\n",
            "                                           Computed Tomography       0.00      0.00      0.00         4\n",
            "                                         Condylomata Acuminata       0.00      0.00      0.00         5\n",
            "                                                Conjunctivitis       0.00      0.00      0.00         7\n",
            "                                      Conjunctivitis, Allergic       0.36      0.67      0.47        21\n",
            "                                     Conjunctivitis, Bacterial       0.55      0.33      0.41        18\n",
            "                                                  Constipation       0.77      0.88      0.82       525\n",
            "                                           Constipation, Acute       0.00      0.00      0.00        19\n",
            "                                         Constipation, Chronic       0.64      0.76      0.69       179\n",
            "                                    Constipation, Drug Induced       0.70      0.74      0.72        77\n",
            "                                       Coronary Artery Disease       0.00      0.00      0.00         1\n",
            "                                               Costochondritis       0.00      0.00      0.00         2\n",
            "                                                         Cough       0.71      0.81      0.76       297\n",
            "                                    Cough and Nasal Congestion       0.67      0.58      0.62       113\n",
            "                                               Crohn's Disease       0.42      0.21      0.28        53\n",
            "                                        Crohn's Disease, Acute       0.50      0.09      0.15        11\n",
            "                                  Crohn's Disease, Maintenance       0.57      0.72      0.63        74\n",
            "                                         Cutaneous Candidiasis       0.00      0.00      0.00        10\n",
            "                                     Cutaneous T-cell Lymphoma       0.00      0.00      0.00         1\n",
            "                                      Cyclic Vomiting Syndrome       0.00      0.00      0.00         5\n",
            "                                                      Cyclitis       0.00      0.00      0.00         1\n",
            "                                           Cyclothymic Disorde       0.00      0.00      0.00         1\n",
            "                                               Cystic Fibrosis       0.00      0.00      0.00         7\n",
            "                                                      Dandruff       0.00      0.00      0.00         2\n",
            "                                           Deep Neck Infection       0.00      0.00      0.00         3\n",
            "                                          Deep Vein Thrombosis       0.63      0.71      0.67        24\n",
            "Deep Vein Thrombosis Prophylaxis after Hip Replacement Surgery       0.00      0.00      0.00         3\n",
            "                             Deep Vein Thrombosis, First Event       0.00      0.00      0.00         2\n",
            "                             Deep Vein Thrombosis, Prophylaxis       0.00      0.00      0.00         6\n",
            "                         Deep Vein Thrombosis, Recurrent Event       0.00      0.00      0.00         2\n",
            "                                                      Dementia       0.00      0.00      0.00         1\n",
            "                                                Dental Abscess       0.43      0.13      0.20        23\n",
            "                                                    Depression       0.61      0.80      0.70      3095\n",
            "                                              Dercum's Disease       0.00      0.00      0.00         3\n",
            "                                                    Dermatitis       0.32      0.29      0.30        35\n",
            "                                           Dermatologic Lesion       0.00      0.00      0.00         6\n",
            "                                      Dermatological Disorders       0.00      0.00      0.00        13\n",
            "                                               Dermatomyositis       0.00      0.00      0.00         1\n",
            "                                               Dermatophytosis       0.00      0.00      0.00         1\n",
            "                                            Diabetes Insipidus       0.00      0.00      0.00         7\n",
            "                                              Diabetes, Type 1       0.58      0.31      0.41        45\n",
            "                                              Diabetes, Type 2       0.79      0.89      0.84       808\n",
            "                                       Diabetic Kidney Disease       0.00      0.00      0.00         5\n",
            "                                        Diabetic Macular Edema       0.00      0.00      0.00         3\n",
            "                                Diabetic Peripheral Neuropathy       0.35      0.15      0.21        54\n",
            "                                   Diagnosis and Investigation       0.00      0.00      0.00         7\n",
            "                                                   Diaper Rash       0.50      0.17      0.25         6\n",
            "                                                      Diarrhea       0.55      0.43      0.48        69\n",
            "                                               Diarrhea, Acute       0.00      0.00      0.00         4\n",
            "                                             Diarrhea, Chronic       1.00      0.54      0.70        24\n",
            "                                 Dietary Fiber Supplementation       0.00      0.00      0.00         3\n",
            "                                       Dietary Supplementation       0.08      0.05      0.06        22\n",
            "                                 Dissociative Identity Disorde       0.00      0.00      0.00         1\n",
            "                                                Diverticulitis       0.74      0.79      0.76        43\n",
            "                                               Dry Eye Disease       0.59      0.65      0.62        54\n",
            "                                                      Dry Skin       0.35      0.59      0.44        22\n",
            "                                              Dumping Syndrome       0.00      0.00      0.00         2\n",
            "                                                 Duodenal Ulce       0.00      0.00      0.00         7\n",
            "                                       Dupuytren's contracture       0.00      0.00      0.00         1\n",
            "                                                  Dysautonomia       0.00      0.00      0.00         5\n",
            "                                                   Dyspareunia       0.00      0.00      0.00         5\n",
            "                                                      Dystonia       0.00      0.00      0.00         4\n",
            "                                                       Dysuria       0.50      0.18      0.26        28\n",
            "                                             Ear Wax Impaction       0.00      0.00      0.00         3\n",
            "                                                        Eczema       0.51      0.69      0.59        52\n",
            "                                                         Edema       0.84      0.78      0.81        41\n",
            "                                                  Ehrlichiosis       0.00      0.00      0.00         1\n",
            "                                       Emergency Contraception       0.97      0.98      0.98       827\n",
            "                                             Endometrial Cance       0.00      0.00      0.00         3\n",
            "                                       Endometrial Hyperplasia       0.00      0.00      0.00         3\n",
            "                                                 Endometriosis       0.77      0.58      0.66       192\n",
            "                                                 Enterocolitis       0.00      0.00      0.00         1\n",
            "                                      Eosinophilic Esophagitis       0.00      0.00      0.00         1\n",
            "                            Epididymitis, Sexually Transmitted       0.00      0.00      0.00         1\n",
            "                                                      Epilepsy       0.55      0.45      0.50       120\n",
            "                                          Erectile Dysfunction       0.85      0.90      0.88       381\n",
            "                                           Erosive Esophagitis       0.00      0.00      0.00        20\n",
            "                    Esophageal Variceal Hemorrhage Prophylaxis       0.00      0.00      0.00         1\n",
            "                                                 Expectoration       0.00      0.00      0.00         2\n",
            "                                       Extrapyramidal Reaction       0.00      0.00      0.00        10\n",
            "                                                   Eye Redness       0.30      0.53      0.38        15\n",
            "                                           Eye Redness/Itching       0.00      0.00      0.00        10\n",
            "                                         Eyelash Hypotrichosis       0.00      0.00      0.00         3\n",
            "                                                          GERD       0.65      0.78      0.71       246\n",
            "                                           Gallbladder Disease       0.00      0.00      0.00         2\n",
            "                                                           Gas       0.00      0.00      0.00         7\n",
            "                           Gastric Ulcer Maintenance Treatment       0.00      0.00      0.00         3\n",
            "                                          Gastritis/Duodenitis       0.00      0.00      0.00         3\n",
            "                                               Gastroenteritis       0.00      0.00      0.00        10\n",
            "                              Gastrointestinal Decontamination       0.00      0.00      0.00         4\n",
            "                                  Gastrointestinal Stromal Tum       0.00      0.00      0.00         4\n",
            "                                                 Gastroparesis       1.00      0.14      0.25        14\n",
            "                                              Gender Dysphoria       0.00      0.00      0.00         1\n",
            "                                   Generalized Anxiety Disorde       0.56      0.17      0.26       378\n",
            "                                      Giant Cell Tumor of Bone       0.00      0.00      0.00         1\n",
            "                                                    Giardiasis       0.00      0.00      0.00         7\n",
            "                                                    Gingivitis       0.00      0.00      0.00         5\n",
            "                                                      Glaucoma       0.75      0.33      0.46         9\n",
            "                                          Glaucoma, Open Angle       0.60      0.67      0.63        18\n",
            "                                            Glioblastoma Multi       0.00      0.00      0.00         1\n",
            "                                       Glioblastoma Multiforme       0.00      0.00      0.00         2\n",
            "                                       Gonadotropin Inhibition       0.00      0.00      0.00         1\n",
            "                           Gonococcal Infection, Uncomplicated       0.00      0.00      0.00         2\n",
            "                                                          Gout       0.96      0.92      0.94        26\n",
            "                                                   Gout, Acute       0.70      0.84      0.76        56\n",
            "                                               Gouty Arthritis       1.00      0.11      0.20         9\n",
            "                                                 HIV Infection       0.93      0.86      0.89       202\n",
            "                                           Hashimoto's disease       0.85      0.58      0.69        71\n",
            "                                                   Head Injury       0.00      0.00      0.00         1\n",
            "                                                     Head Lice       0.91      0.94      0.92        32\n",
            "                                           Head and Neck Cance       0.00      0.00      0.00         1\n",
            "                                                      Headache       0.71      0.67      0.69       153\n",
            "                                                  Heart Attack       0.58      0.37      0.45        19\n",
            "                                                 Heart Failure       0.42      0.30      0.35        27\n",
            "                                 Helicobacter Pylori Infection       0.74      0.81      0.77        77\n",
            "                                                  Hemophilia A       0.00      0.00      0.00         1\n",
            "                                                  Hemophilia B       0.00      0.00      0.00         1\n",
            "                                                   Hemorrhoids       0.58      0.70      0.64        30\n",
            "                                        Hepatic Encephalopathy       0.00      0.00      0.00         8\n",
            "                                                   Hepatitis B       0.00      0.00      0.00         7\n",
            "                                                   Hepatitis C       0.92      0.95      0.94       245\n",
            "                                      Hepatocellular Carcinoma       0.00      0.00      0.00         2\n",
            "                                        Herbal Supplementation       0.00      0.00      0.00         5\n",
            "                                         Hereditary Angioedema       0.00      0.00      0.00         7\n",
            "                                                Herpes Simplex       0.88      0.81      0.85       129\n",
            "                            Herpes Simplex Dendritic Keratitis       0.00      0.00      0.00         1\n",
            "            Herpes Simplex, Mucocutaneous/Immunocompetent Host       0.00      0.00      0.00         6\n",
            "          Herpes Simplex, Mucocutaneous/Immunocompromised Host       0.00      0.00      0.00         1\n",
            "                                   Herpes Simplex, Suppression       0.60      0.70      0.65        44\n",
            "                                                  Herpes Zoste       0.86      0.60      0.71        10\n",
            "                                    Herpes Zoster, Prophylaxis       0.00      0.00      0.00         1\n",
            "                                                       Hiccups       0.83      0.83      0.83         6\n",
            "                                      Hidradenitis Suppurativa       0.00      0.00      0.00         3\n",
            "                                           High Blood Pressure       0.68      0.87      0.76       783\n",
            "                                              High Cholesterol       0.71      0.84      0.77       206\n",
            "                       High Cholesterol, Familial Heterozygous       1.00      0.06      0.11        18\n",
            "                         High Cholesterol, Familial Homozygous       0.00      0.00      0.00         3\n",
            "                                                     Hirsutism       0.92      0.75      0.83        48\n",
            "                                                Histoplasmosis       0.00      0.00      0.00         1\n",
            "                                                   Hot Flashes       0.66      0.82      0.73        67\n",
            "                                         Human Papilloma Virus       0.76      0.90      0.82        39\n",
            "                              Human Papillomavirus Prophylaxis       1.00      0.50      0.67         8\n",
            "                                   Hypercalcemia of Malignancy       0.00      0.00      0.00         2\n",
            "                                                 Hyperekplexia       0.00      0.00      0.00         2\n",
            "                                                 Hyperhidrosis       0.92      0.97      0.95       240\n",
            "                                                  Hyperkalemia       0.00      0.00      0.00         1\n",
            "                                          Hyperlipoproteinemia       0.00      0.00      0.00         2\n",
            "                   Hyperlipoproteinemia Type IIa, Elevated LDL       0.00      0.00      0.00         5\n",
            "                                             Hyperphosphatemia       0.00      0.00      0.00         1\n",
            "                            Hyperphosphatemia of Renal Failure       0.00      0.00      0.00         5\n",
            "                                            Hyperprolactinemia       0.57      0.57      0.57        14\n",
            "                                                   Hypersomnia       0.75      0.12      0.21        25\n",
            "                                        Hypertensive Emergency       0.00      0.00      0.00         1\n",
            "                                               Hyperthyroidism       0.00      0.00      0.00         3\n",
            "                                          Hypertriglyceridemia       0.62      0.58      0.60        26\n",
            "                              Hypoactive Sexual Desire Disorde       0.00      0.00      0.00         1\n",
            "                                                  Hypocalcemia       0.00      0.00      0.00         3\n",
            "                                               Hypodermoclysis       0.00      0.00      0.00         1\n",
            "                                               Hypoestrogenism       0.00      0.00      0.00         9\n",
            "                                            Hypogonadism, Male       0.95      0.90      0.92       195\n",
            "                                Hypokalemic Periodic Paralysis       0.00      0.00      0.00         1\n",
            "                                                Hypomagnesemia       0.00      0.00      0.00         3\n",
            "                                            Hypoparathyroidism       0.00      0.00      0.00         2\n",
            "                                                   Hypotension       0.00      0.00      0.00         4\n",
            "                         Hypothyroidism, After Thyroid Removal       0.58      0.41      0.48        37\n",
            "                                                 ICU Agitation       0.00      0.00      0.00         2\n",
            "                                                    Ichthyosis       0.00      0.00      0.00         1\n",
            "                           Idiopathic Thrombocytopenic Purpura       0.00      0.00      0.00         7\n",
            "                                             Immunosuppression       0.00      0.00      0.00         1\n",
            "                                                       Impetig       0.00      0.00      0.00         3\n",
            "                                                   Indigestion       0.33      0.05      0.09        20\n",
            "                                         Infection Prophylaxis       0.00      0.00      0.00         5\n",
            "                                    Inflammatory Bowel Disease       0.00      0.00      0.00         9\n",
            "                                       Inflammatory Conditions       0.36      0.25      0.30       103\n",
            "                                                     Influenza       0.86      0.90      0.88       117\n",
            "                                         Influenza Prophylaxis       0.00      0.00      0.00         5\n",
            "                                                      Insomnia       0.80      0.88      0.83      1231\n",
            "                                Insomnia, Stimulant-Associated       0.00      0.00      0.00         3\n",
            "                                   Insulin Resistance Syndrome       0.00      0.00      0.00         8\n",
            "                                     Intermittent Claudication       0.00      0.00      0.00         3\n",
            "                                         Interstitial Cystitis       0.68      0.56      0.61        45\n",
            "                                      Intraabdominal Infection       0.00      0.00      0.00         2\n",
            "                                      Intraocular Hypertension       0.00      0.00      0.00         9\n",
            "                                                        Iritis       0.00      0.00      0.00         3\n",
            "                                        Iron Deficiency Anemia       1.00      0.13      0.24        15\n",
            "                                      Irritable Bowel Syndrome       0.73      0.75      0.74       325\n",
            "                                               Ischemic Stroke       0.00      0.00      0.00         2\n",
            "                                  Ischemic Stroke, Prophylaxis       1.00      0.88      0.93         8\n",
            "                                               Joint Infection       0.00      0.00      0.00         1\n",
            "                                 Juvenile Idiopathic Arthritis       0.00      0.00      0.00         7\n",
            "                                 Juvenile Rheumatoid Arthritis       0.00      0.00      0.00         8\n",
            "                                                     Keratitis       0.00      0.00      0.00         1\n",
            "                                    Keratoconjunctivitis Sicca       0.84      0.62      0.71        26\n",
            "                                                     Keratosis       0.60      0.69      0.64        45\n",
            "                                             Kidney Infections       0.72      0.41      0.52        32\n",
            "                                               Labor Induction       0.00      0.00      0.00         5\n",
            "                                                    Labor Pain       0.00      0.00      0.00         5\n",
            "                                        Lactation Augmentation       0.00      0.00      0.00         4\n",
            "                                           Lactose Intolerance       0.00      0.00      0.00         2\n",
            "                                  Left Ventricular Dysfunction       0.00      0.00      0.00         7\n",
            "                                       Lennox-Gastaut Syndrome       0.00      0.00      0.00         5\n",
            "                                                      Leukemia       0.00      0.00      0.00         1\n",
            "                                                 Lichen Planus       0.00      0.00      0.00         3\n",
            "                                              Lichen Sclerosus       0.00      0.00      0.00         2\n",
            "                                              Light Anesthesia       0.50      0.08      0.13        13\n",
            "                                                Light Sedation       1.00      0.04      0.08        23\n",
            "                                                 Lipodystrophy       0.00      0.00      0.00         3\n",
            "                              Liver Magnetic Resonance Imaging       0.00      0.00      0.00         2\n",
            "                                              Local Anesthesia       0.00      0.00      0.00         3\n",
            "                                                  Lyme Disease       1.00      0.20      0.33        10\n",
            "                                      Lyme Disease, Neurologic       0.00      0.00      0.00         4\n",
            "                                           Lymphocytic Colitis       0.00      0.00      0.00         2\n",
            "                                                      Lymphoma       0.00      0.00      0.00         3\n",
            "                                          Macular Degeneration       0.38      0.30      0.33        10\n",
            "                                                 Macular Edema       0.00      0.00      0.00         3\n",
            "                                      Major Depressive Disorde       0.64      0.16      0.26       524\n",
            "                                                       Malaria       0.00      0.00      0.00         7\n",
            "                                            Malaria Prevention       0.79      0.79      0.79        14\n",
            "                                                         Mania       1.00      0.10      0.18        20\n",
            "                                                      Melanoma       0.00      0.00      0.00         1\n",
            "                                          Melanoma, Metastatic       0.00      0.00      0.00         3\n",
            "                                                       Melasma       0.88      0.79      0.83        28\n",
            "                                             Meniere's Disease       0.00      0.00      0.00         8\n",
            "                          Meningococcal Meningitis Prophylaxis       0.00      0.00      0.00         1\n",
            "                                          Menopausal Disorders       0.00      0.00      0.00         4\n",
            "                                                   Menorrhagia       0.50      0.56      0.53        16\n",
            "                                           Menstrual Disorders       0.51      0.16      0.24       127\n",
            "         Methicillin-Resistant Staphylococcus Aureus Infection       0.00      0.00      0.00         8\n",
            "                                                      Migraine       0.78      0.85      0.82       583\n",
            "                                           Migraine Prevention       0.80      0.86      0.83       454\n",
            "                                     Mild Cognitive Impairment       0.00      0.00      0.00         3\n",
            "                                         Mitral Valve Prolapse       1.00      0.56      0.71         9\n",
            "                               Mixed Connective Tissue Disease       0.00      0.00      0.00         1\n",
            "                                                 Mononucleosis       0.00      0.00      0.00         1\n",
            "                                               Motion Sickness       0.86      0.90      0.88        72\n",
            "                         Mountain Sickness / Altitude Sickness       0.00      0.00      0.00         4\n",
            "                                                     Mucositis       0.00      0.00      0.00         5\n",
            "                                              Multiple Myeloma       0.00      0.00      0.00         3\n",
            "                                            Multiple Sclerosis       0.84      0.91      0.88       215\n",
            "                                                   Muscle Pain       0.00      0.00      0.00        31\n",
            "                                                  Muscle Spasm       0.65      0.78      0.71       387\n",
            "                                             Myasthenia Gravis       0.80      0.62      0.70        13\n",
            "                 Mycobacterium avium-intracellulare, Treatment       0.00      0.00      0.00         4\n",
            "                                          Mycoplasma Pneumonia       0.00      0.00      0.00         2\n",
            "                                      Myelodysplastic Syndrome       0.50      0.17      0.25         6\n",
            "                                                 Myelofibrosis       0.00      0.00      0.00         1\n",
            "                                  Myeloproliferative Disorders       0.00      0.00      0.00         1\n",
            "                                    NSAID-Induced Gastric Ulce       0.00      0.00      0.00         3\n",
            "                                                    Narcolepsy       0.62      0.76      0.69       152\n",
            "                       Nasal Carriage of Staphylococcus aureus       0.00      0.00      0.00         1\n",
            "                                              Nasal Congestion       0.47      0.64      0.54       100\n",
            "                                                  Nasal Polyps       0.00      0.00      0.00         5\n",
            "                                               Nausea/Vomiting       0.68      0.78      0.73       266\n",
            "                                  Nausea/Vomiting of Pregnancy       0.92      0.61      0.73        38\n",
            "                         Nausea/Vomiting, Chemotherapy Induced       0.60      0.40      0.48        15\n",
            "                                Nausea/Vomiting, Postoperative       0.00      0.00      0.00         6\n",
            "                                                     Neck Pain       0.00      0.00      0.00         2\n",
            "                                            Nephrotic Syndrome       0.00      0.00      0.00         1\n",
            "                                                     Neuralgia       1.00      0.06      0.12        31\n",
            "                                              Neuropathic Pain       0.51      0.34      0.41        96\n",
            "                                                   Neutropenia       0.00      0.00      0.00         1\n",
            "                      Neutropenia Associated with Chemotherapy       0.58      0.64      0.61        11\n",
            "                                 New Daily Persistent Headache       0.00      0.00      0.00         2\n",
            "                                                 Night Terrors       0.00      0.00      0.00         6\n",
            "                                                    Nightmares       0.33      0.14      0.20         7\n",
            "                                          Nocturnal Leg Cramps       0.00      0.00      0.00         8\n",
            "                                        Non-Hodgkin's Lymphoma       0.83      1.00      0.91         5\n",
            "                                     Non-Small Cell Lung Cance       0.59      0.85      0.69        40\n",
            "                                         Noninfectious Colitis       0.00      0.00      0.00         5\n",
            "                                      Nonoccupational Exposure       0.00      0.00      0.00         1\n",
            "                                             Not Listed / Othe       0.00      0.00      0.00       153\n",
            "                                                       Obesity       0.68      0.65      0.66      1189\n",
            "                                  Obsessive Compulsive Disorde       0.59      0.73      0.66       173\n",
            "                     Obstructive Sleep Apnea/Hypopnea Syndrome       0.59      0.35      0.44        37\n",
            "                                           Occipital Neuralgia       0.00      0.00      0.00         4\n",
            "                                                  Oligospermia       0.00      0.00      0.00         2\n",
            "                                     Onychomycosis, Fingernail       0.00      0.00      0.00         7\n",
            "                                        Onychomycosis, Toenail       0.80      0.94      0.87       137\n",
            "                                                  Oophorectomy       1.00      0.33      0.50         3\n",
            "                                            Ophthalmic Surgery       0.00      0.00      0.00         3\n",
            "                                                Opiate Adjunct       0.00      0.00      0.00         2\n",
            "                                             Opiate Dependence       0.89      0.91      0.90       398\n",
            "                                             Opiate Withdrawal       0.75      0.68      0.72       107\n",
            "                                               Opioid Overdose       0.00      0.00      0.00         5\n",
            "                                   Opioid-Induced Constipation       0.00      0.00      0.00        18\n",
            "                                  Oppositional Defiant Disorde       0.00      0.00      0.00         1\n",
            "                                                   Oral Thrush       0.00      0.00      0.00         4\n",
            "                                    Oral and Dental Conditions       0.00      0.00      0.00         1\n",
            "                       Organ Transplant, Rejection Prophylaxis       0.83      0.83      0.83        12\n",
            "                          Organ Transplant, Rejection Reversal       0.00      0.00      0.00         1\n",
            "                                                Osteoarthritis       0.73      0.76      0.74       387\n",
            "                   Osteolytic Bone Lesions of Multiple Myeloma       0.00      0.00      0.00         4\n",
            "                    Osteolytic Bone Metastases of Solid Tumors       0.00      0.00      0.00         3\n",
            "                                                  Osteoporosis       0.55      0.79      0.65        86\n",
            "                                                Otitis Externa       1.00      0.09      0.17        11\n",
            "                                                  Otitis Media       0.54      0.53      0.53        55\n",
            "                                                 Ovarian Cance       0.00      0.00      0.00         1\n",
            "                                                 Ovarian Cysts       0.77      0.31      0.44        55\n",
            "                                             Overactive Bladde       0.56      0.81      0.66       234\n",
            "                                           Ovulation Induction       0.00      0.00      0.00         8\n",
            "                                               Paget's Disease       0.00      0.00      0.00         2\n",
            "                                                          Pain       0.59      0.83      0.69      2100\n",
            "                                                     Pain/Feve       0.00      0.00      0.00         1\n",
            "                                              Pancreatic Cance       0.00      0.00      0.00         1\n",
            "                               Pancreatic Exocrine Dysfunction       0.00      0.00      0.00         7\n",
            "                                                 Panic Disorde       0.56      0.44      0.49       469\n",
            "                                              Paranoid Disorde       0.00      0.00      0.00        10\n",
            "                                           Parkinson's Disease       0.82      0.28      0.42        50\n",
            "                                                  Parkinsonism       0.00      0.00      0.00         1\n",
            "                                                            Pe       0.00      0.00      0.00         4\n",
            "                           Pediatric Growth Hormone Deficiency       0.00      0.00      0.00         4\n",
            "                                   Pelvic Inflammatory Disease       0.00      0.00      0.00         4\n",
            "                                                    Pemphigoid       0.00      0.00      0.00         1\n",
            "                                                     Pemphigus       0.00      0.00      0.00         1\n",
            "                                                   Peptic Ulce       0.00      0.00      0.00         5\n",
            "                            Percutaneous Coronary Intervention       0.00      0.00      0.00         3\n",
            "                                           Performance Anxiety       0.00      0.00      0.00         2\n",
            "                                       Perimenopausal Symptoms       1.00      0.47      0.64        15\n",
            "                                                   Period Pain       0.86      0.77      0.81        48\n",
            "                                Periodic Limb Movement Disorde       0.00      0.00      0.00        17\n",
            "                                                 Periodontitis       0.00      0.00      0.00         2\n",
            "                                           Perioral Dermatitis       0.00      0.00      0.00         3\n",
            "                                   Peripheral Arterial Disease       0.00      0.00      0.00         1\n",
            "                                         Peripheral Neuropathy       0.45      0.37      0.40        60\n",
            "                                                   Peritonitis       0.00      0.00      0.00         3\n",
            "                                 Persistent Depressive Disorde       0.00      0.00      0.00         3\n",
            "                                                     Pertussis       0.00      0.00      0.00         1\n",
            "                                                   Pharyngitis       0.00      0.00      0.00         2\n",
            "                                        Photoaging of the Skin       0.00      0.00      0.00         8\n",
            "                   Pinworm Infection (Enterobius vermicularis)       0.00      0.00      0.00         6\n",
            "                                      Pityriasis rubra pilaris       0.00      0.00      0.00         1\n",
            "                                              Plaque Psoriasis       0.73      0.79      0.75        98\n",
            "                               Platelet Aggregation Inhibition       0.00      0.00      0.00         2\n",
            "                              Pneumococcal Disease Prophylaxis       0.00      0.00      0.00        11\n",
            "                                                     Pneumonia       0.66      0.64      0.65        88\n",
            "                                     Polycystic Ovary Syndrome       0.57      0.56      0.57        78\n",
            "                                             Polycythemia Vera       0.00      0.00      0.00         1\n",
            "                                 Post Traumatic Stress Disorde       0.62      0.41      0.49       118\n",
            "                                 Post-Cholecystectomy Diarrhea       0.00      0.00      0.00         2\n",
            "                                        Postherpetic Neuralgia       0.82      0.42      0.55        43\n",
            "                                       Postmenopausal Symptoms       0.72      0.65      0.68       136\n",
            "                  Postoperative Increased Intraocular Pressure       0.00      0.00      0.00         1\n",
            "                             Postoperative Ocular Inflammation       1.00      0.12      0.22         8\n",
            "                                            Postoperative Pain       0.50      0.08      0.13        13\n",
            "                                         Postpartum Depression       0.91      0.33      0.49        30\n",
            "                     Postural Orthostatic Tachycardia Syndrome       1.00      0.10      0.18        10\n",
            "                                      Pre-Exposure Prophylaxis       0.00      0.00      0.00         1\n",
            "                                            Precocious Puberty       1.00      1.00      1.00         6\n",
            "                                                 Premature Lab       0.91      0.83      0.87        36\n",
            "                         Premature Ventricular Depolarizations       0.00      0.00      0.00         2\n",
            "                                Premenstrual Dysphoric Disorde       0.77      0.59      0.67        98\n",
            "                                         Premenstrual Syndrome       0.00      0.00      0.00         7\n",
            "                               Prevention of Bladder infection       1.00      0.11      0.20        18\n",
            "                          Prevention of Cardiovascular Disease       0.00      0.00      0.00         3\n",
            "                                   Prevention of Dental Caries       0.00      0.00      0.00         2\n",
            "                                     Prevention of Hypokalemia       0.00      0.00      0.00         1\n",
            "                                    Prevention of Osteoporosis       0.00      0.00      0.00        11\n",
            "          Prevention of Thromboembolism in Atrial Fibrillation       0.67      0.86      0.75        44\n",
            "                                    Primary Hyperaldosteronism       0.00      0.00      0.00         1\n",
            "                             Primary Immunodeficiency Syndrome       1.00      0.25      0.40        12\n",
            "                                    Primary Nocturnal Enuresis       0.00      0.00      0.00         3\n",
            "                                       Primary Ovarian Failure       0.00      0.00      0.00         4\n",
            "                                    Progesterone Insufficiency       0.00      0.00      0.00         3\n",
            "                                                Prostate Cance       0.86      0.81      0.84        47\n",
            "                                                   Prostatitis       0.84      0.67      0.74        24\n",
            "                                                      Pruritus       0.25      0.12      0.16        17\n",
            "                                           Pseudobulbar Affect       0.00      0.00      0.00         7\n",
            "                                           Pseudotumor Cerebri       0.84      0.75      0.79        28\n",
            "                                                     Psoriasis       0.83      0.86      0.84       198\n",
            "                                           Psoriatic Arthritis       0.82      0.41      0.55       112\n",
            "                                                     Psychosis       1.00      0.08      0.15        25\n",
            "                                            Pudendal Neuralgia       0.00      0.00      0.00         1\n",
            "                                            Pulmonary Embolism       0.90      0.45      0.60        20\n",
            "                               Pulmonary Embolism, First Event       0.00      0.00      0.00         2\n",
            "                                        Pulmonary Hypertension       0.83      0.38      0.53        26\n",
            "                                            Pupillary Dilation       0.00      0.00      0.00         2\n",
            "                       Radionuclide Myocardial Perfusion Study       0.00      0.00      0.00         1\n",
            "                                            Raynaud's Syndrome       0.67      0.46      0.55        13\n",
            "                         Reflex Sympathetic Dystrophy Syndrome       1.00      0.08      0.14        13\n",
            "                                          Renal Cell Carcinoma       0.63      0.80      0.71        30\n",
            "                                        Restless Legs Syndrome       0.84      0.89      0.86       240\n",
            "                  Reversal of Nondepolarizing Muscle Relaxants       0.00      0.00      0.00         1\n",
            "                                   Reversal of Opioid Sedation       0.00      0.00      0.00         4\n",
            "                                          Rheumatoid Arthritis       0.64      0.71      0.67       320\n",
            "                                                      Rhinitis       0.00      0.00      0.00        31\n",
            "                                                    Rhinorrhea       0.00      0.00      0.00         3\n",
            "                                                       Rosacea       0.88      0.83      0.86       175\n",
            "                                                   Sarcoidosis       0.00      0.00      0.00         4\n",
            "                                                       Scabies       0.00      0.00      0.00         2\n",
            "                                                Schilling Test       0.00      0.00      0.00         1\n",
            "                                       Schizoaffective Disorde       0.51      0.24      0.33       127\n",
            "                                                 Schizophrenia       0.59      0.53      0.56       195\n",
            "                                           Schnitzler Syndrome       0.00      0.00      0.00         2\n",
            "                                                      Sciatica       0.64      0.35      0.45        40\n",
            "                                    Seasonal Affective Disorde       0.00      0.00      0.00         3\n",
            "                              Seasonal Allergic Conjunctivitis       0.91      0.48      0.62        21\n",
            "                                         Seborrheic Dermatitis       0.00      0.00      0.00        10\n",
            "                                 Secondary Hyperparathyroidism       0.00      0.00      0.00         3\n",
            "                                                      Sedation       0.00      0.00      0.00        63\n",
            "                                            Seizure Prevention       0.81      0.24      0.37        71\n",
            "                                                      Seizures       0.68      0.74      0.71       176\n",
            "                              Sexual Dysfunction, SSRI Induced       1.00      0.21      0.34        29\n",
            "                                      Shift Work Sleep Disorde       1.00      0.04      0.08        24\n",
            "                                                Sinus Symptoms       0.00      0.00      0.00        21\n",
            "                                                     Sinusitis       0.60      0.75      0.67       289\n",
            "                                            Sjogren's Syndrome       0.80      0.44      0.57        18\n",
            "                                                    Skin Cance       0.00      0.00      0.00         4\n",
            "                               Skin Disinfection, Preoperative       0.00      0.00      0.00         4\n",
            "                                                     Skin Rash       0.00      0.00      0.00         3\n",
            "                                  Skin and Structure Infection       0.29      0.11      0.15        19\n",
            "                                 Skin or Soft Tissue Infection       0.33      0.38      0.35        56\n",
            "                             Small Bowel or Pancreatic Fistula       0.00      0.00      0.00         1\n",
            "                                             Smoking Cessation       0.97      0.96      0.96       660\n",
            "                                        Social Anxiety Disorde       0.54      0.34      0.41       133\n",
            "                                           Soft Tissue Sarcoma       0.00      0.00      0.00        13\n",
            "                                                   Sore Throat       0.00      0.00      0.00         1\n",
            "                                             Spondyloarthritis       0.00      0.00      0.00         4\n",
            "                                             Spondylolisthesis       0.00      0.00      0.00         1\n",
            "                                       Squamous Cell Carcinoma       0.00      0.00      0.00         1\n",
            "                                            Status Epilepticus       0.00      0.00      0.00         1\n",
            "                                               Still's Disease       0.00      0.00      0.00         2\n",
            "                                                 Stomach Cance       0.00      0.00      0.00         1\n",
            "                                                  Stomach Ulce       0.28      0.24      0.26        21\n",
            "                                                    Strabismus       0.00      0.00      0.00         1\n",
            "                                                  Strep Throat       0.54      0.14      0.23        49\n",
            "                                       Streptococcal Infection       0.00      0.00      0.00         2\n",
            "                                      Stress Ulcer Prophylaxis       0.00      0.00      0.00         1\n",
            "                                              Strongyloidiasis       0.00      0.00      0.00         1\n",
            "                                       Subarachnoid Hemorrhage       0.00      0.00      0.00         1\n",
            "                                            Submental Fullness       0.00      0.00      0.00         2\n",
            "                                                       Sunburn       0.00      0.00      0.00         1\n",
            "                                  Supraventricular Tachycardia       0.56      0.40      0.47        35\n",
            "                                          Surgical Prophylaxis       0.00      0.00      0.00         7\n",
            "                                                     Swine Flu       0.00      0.00      0.00         7\n",
            "                                                 Syringomyelia       0.00      0.00      0.00         1\n",
            "                                  Systemic Lupus Erythematosus       0.74      0.54      0.62        37\n",
            "                                         Systemic Mastocytosis       0.00      0.00      0.00         2\n",
            "                                            Systemic Sclerosis       0.00      0.00      0.00         2\n",
            "                                               TSH Suppression       0.00      0.00      0.00         6\n",
            "                               Temporomandibular Joint Disorde       1.00      0.10      0.18        10\n",
            "                                                    Tendonitis       0.00      0.00      0.00        21\n",
            "                                               Thrombocythemia       0.00      0.00      0.00         2\n",
            "                             Thromboembolic Stroke Prophylaxis       0.00      0.00      0.00         2\n",
            "                                                 Thyroid Cance       0.00      0.00      0.00         4\n",
            "                                                Thyrotoxicosis       0.00      0.00      0.00         1\n",
            "                                                Tinea Corporis       0.00      0.00      0.00         6\n",
            "                                                  Tinea Cruris       0.00      0.00      0.00         9\n",
            "                                                   Tinea Pedis       0.00      0.00      0.00        12\n",
            "                                                Tinea Versicol       0.00      0.00      0.00        11\n",
            "                                                      Tinnitus       0.60      0.75      0.67         8\n",
            "                                       Tonsillitis/Pharyngitis       0.11      0.22      0.15        23\n",
            "                                          Topical Disinfection       0.00      0.00      0.00         1\n",
            "                                           Tourette's Syndrome       0.78      1.00      0.88        21\n",
            "                                     Transient Ischemic Attack       0.00      0.00      0.00         1\n",
            "                                           Traveler's Diarrhea       0.00      0.00      0.00         2\n",
            "                                                Trichomoniasis       1.00      0.05      0.10        19\n",
            "                                              Trichotillomania       0.00      0.00      0.00         2\n",
            "                                          Trigeminal Neuralgia       0.76      0.75      0.75        51\n",
            "                                          Tuberculosis, Latent       0.00      0.00      0.00         3\n",
            "                                            Ulcerative Colitis       0.57      0.68      0.62        75\n",
            "                                    Ulcerative Colitis, Active       0.59      0.77      0.67        43\n",
            "                               Ulcerative Colitis, Maintenance       1.00      0.08      0.15        12\n",
            "                                          Ulcerative Proctitis       0.00      0.00      0.00         3\n",
            "                                           Underactive Thyroid       0.61      0.74      0.67       118\n",
            "                    Undifferentiated Connective Tissue Disease       0.00      0.00      0.00         7\n",
            "                                         Upper Limb Spasticity       0.00      0.00      0.00         1\n",
            "                             Upper Respiratory Tract Infection       0.59      0.16      0.25        64\n",
            "                                          Urinary Incontinence       0.71      0.19      0.30        64\n",
            "                                             Urinary Retention       0.00      0.00      0.00         1\n",
            "                                       Urinary Tract Infection       0.58      0.81      0.67       431\n",
            "                                          Urinary Tract Stones       0.89      0.93      0.91        43\n",
            "                                                     Urticaria       0.79      0.71      0.75        80\n",
            "                                              Uterine Bleeding       0.00      0.00      0.00         2\n",
            "                                              Uterine Fibroids       1.00      0.53      0.69        17\n",
            "                                                       Uveitis       0.00      0.00      0.00         8\n",
            "                                       Vaginal Yeast Infection       0.92      0.96      0.94       811\n",
            "                                               Varicella-Zoste       0.00      0.00      0.00         2\n",
            "                                        Ventricular Arrhythmia       0.00      0.00      0.00         1\n",
            "                                      Ventricular Fibrillation       0.00      0.00      0.00         2\n",
            "                                       Ventricular Tachycardia       0.00      0.00      0.00         4\n",
            "                                                        Vertig       0.68      0.74      0.71        23\n",
            "                                        Vitamin B12 Deficiency       0.00      0.00      0.00         5\n",
            "                                          Vitamin D Deficiency       0.00      0.00      0.00         6\n",
            "                Vitamin/Mineral Supplementation and Deficiency       0.00      0.00      0.00         7\n",
            "    Vitamin/Mineral Supplementation during Pregnancy/Lactation       0.75      0.72      0.73        25\n",
            "                                                    Vulvodynia       0.00      0.00      0.00        10\n",
            "                                                         Warts       0.00      0.00      0.00         2\n",
            "                                      Wegener's Granulomatosis       0.00      0.00      0.00         1\n",
            "                                                   Weight Loss       0.68      0.72      0.70      1248\n",
            "                                Wolff-Parkinson-White Syndrome       0.00      0.00      0.00         1\n",
            "                                            Women (oxybutynin)       0.00      0.00      0.00         3\n",
            "                                                    Xerostomia       1.00      0.12      0.22         8\n",
            "                                    Zollinger-Ellison Syndrome       0.00      0.00      0.00         1\n",
            "                                             acial Lipoatrophy       0.00      0.00      0.00         1\n",
            "                                                acial Wrinkles       0.75      0.27      0.40        11\n",
            "                                           actor IX Deficiency       0.00      0.00      0.00         1\n",
            "                        amilial Cold Autoinflammatory Syndrome       0.00      0.00      0.00         1\n",
            "                                                        atigue       0.00      0.00      0.00        21\n",
            "                              cal Segmental Glomerulosclerosis       0.00      0.00      0.00         1\n",
            "                                             emale Infertility       0.61      0.77      0.68        22\n",
            "                                                           eve       0.00      0.00      0.00         4\n",
            "                                   ge (amlodipine / valsartan)       1.00      0.17      0.29         6\n",
            "                                     ibrocystic Breast Disease       0.00      0.00      0.00         1\n",
            "                                                   ibromyalgia       0.73      0.74      0.74       579\n",
            "                                           lic Acid Deficiency       0.00      0.00      0.00         3\n",
            "                                                m Pain Disorde       0.00      0.00      0.00         2\n",
            "                                                 mance Anxiety       0.91      0.85      0.88        72\n",
            "                                                            me       0.00      0.00      0.00         1\n",
            "                                            min / saxagliptin)       0.00      0.00      0.00         4\n",
            "                                            min / sitagliptin)       0.20      0.12      0.15         8\n",
            "                                                          min)       0.00      0.00      0.00        15\n",
            "                                                        mist (       0.00      0.00      0.00         1\n",
            "                                         moterol / mometasone)       0.00      0.00      0.00         7\n",
            "                                                      moterol)       0.45      0.15      0.22        34\n",
            "                                     mulation) (phenylephrine)       0.00      0.00      0.00         3\n",
            "                                       tic (mycophenolic acid)       0.00      0.00      0.00         1\n",
            "                                      von Willebrand's Disease       0.00      0.00      0.00         3\n",
            "                                                   zen Shoulde       0.00      0.00      0.00         7\n",
            "\n",
            "                                                      accuracy                           0.75     53161\n",
            "                                                     macro avg       0.29      0.23      0.23     53161\n",
            "                                                  weighted avg       0.73      0.75      0.73     53161\n",
            "\n"
          ],
          "name": "stdout"
        },
        {
          "output_type": "stream",
          "text": [
            "/usr/local/lib/python3.6/dist-packages/sklearn/metrics/classification.py:1437: UndefinedMetricWarning: Precision and F-score are ill-defined and being set to 0.0 in labels with no predicted samples.\n",
            "  'precision', 'predicted', average, warn_for)\n"
          ],
          "name": "stderr"
        }
      ]
    },
    {
      "cell_type": "code",
      "metadata": {
        "id": "lrXEllJolxvt",
        "colab_type": "code",
        "colab": {
          "base_uri": "https://localhost:8080/",
          "height": 34
        },
        "outputId": "72842b18-5907-44e7-cd61-ab61e8364548"
      },
      "source": [
        "\n",
        "a, b, c =learn_clas.predict(\"birth\")\n",
        "c.shape"
      ],
      "execution_count": 36,
      "outputs": [
        {
          "output_type": "execute_result",
          "data": {
            "text/plain": [
              "torch.Size([639])"
            ]
          },
          "metadata": {
            "tags": []
          },
          "execution_count": 36
        },
        {
          "output_type": "execute_result",
          "data": {
            "text/plain": [
              "torch.Size([639])"
            ]
          },
          "metadata": {
            "tags": []
          },
          "execution_count": 36
        }
      ]
    }
  ]
}