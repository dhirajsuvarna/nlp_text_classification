{
  "nbformat": 4,
  "nbformat_minor": 0,
  "metadata": {
    "colab": {
      "name": "ULMFit-Drug-Review-Classification.ipynb",
      "provenance": [],
      "collapsed_sections": [],
      "toc_visible": true,
      "include_colab_link": true
    },
    "kernelspec": {
      "name": "python3",
      "display_name": "Python 3"
    },
    "accelerator": "GPU"
  },
  "cells": [
    {
      "cell_type": "markdown",
      "metadata": {
        "id": "view-in-github",
        "colab_type": "text"
      },
      "source": [
        "<a href=\"https://colab.research.google.com/github/dhirajsuvarna/nlp_text_classification/blob/master/hackathon/ULMFit_Drug_Review_Classification_Data_Exploration.ipynb\" target=\"_parent\"><img src=\"https://colab.research.google.com/assets/colab-badge.svg\" alt=\"Open In Colab\"/></a>"
      ]
    },
    {
      "cell_type": "markdown",
      "metadata": {
        "id": "lgvmVd0Y9FdT",
        "colab_type": "text"
      },
      "source": [
        "#Loading DataSet from Google Drive"
      ]
    },
    {
      "cell_type": "code",
      "metadata": {
        "id": "N7RR4NYKv6Fm",
        "colab_type": "code",
        "outputId": "cd295f10-6747-4539-af37-8b0c3d36fd79",
        "colab": {
          "base_uri": "https://localhost:8080/",
          "height": 122
        }
      },
      "source": [
        "#Mount Google Drive\n",
        "from google.colab import drive\n",
        "drive.mount('/content/drive')"
      ],
      "execution_count": 2,
      "outputs": [
        {
          "output_type": "stream",
          "text": [
            "Go to this URL in a browser: https://accounts.google.com/o/oauth2/auth?client_id=947318989803-6bn6qk8qdgf4n4g3pfee6491hc0brc4i.apps.googleusercontent.com&redirect_uri=urn%3aietf%3awg%3aoauth%3a2.0%3aoob&response_type=code&scope=email%20https%3a%2f%2fwww.googleapis.com%2fauth%2fdocs.test%20https%3a%2f%2fwww.googleapis.com%2fauth%2fdrive%20https%3a%2f%2fwww.googleapis.com%2fauth%2fdrive.photos.readonly%20https%3a%2f%2fwww.googleapis.com%2fauth%2fpeopleapi.readonly\n",
            "\n",
            "Enter your authorization code:\n",
            "··········\n",
            "Mounted at /content/drive\n"
          ],
          "name": "stdout"
        }
      ]
    },
    {
      "cell_type": "code",
      "metadata": {
        "id": "rxTHJ7mBxY2Q",
        "colab_type": "code",
        "colab": {}
      },
      "source": [
        "from fastai.text import * \n",
        "\n",
        "#Load the Traning and Validation Dataset\n",
        "df_train = pd.read_csv('/content/drive/My Drive/Projects/AnalyticsHackathon/dataset/drugsComTrain_raw.csv')\n",
        "df_valid = pd.read_csv('/content/drive/My Drive/Projects/AnalyticsHackathon/dataset/drugsComTest_raw.csv')"
      ],
      "execution_count": 0,
      "outputs": []
    },
    {
      "cell_type": "markdown",
      "metadata": {
        "id": "scwbgAtfauob",
        "colab_type": "text"
      },
      "source": [
        "##Removing Empty Cells and Invalid Cells\n",
        "\n",
        "\n",
        "\n"
      ]
    },
    {
      "cell_type": "code",
      "metadata": {
        "id": "SI73jtaGFdwI",
        "colab_type": "code",
        "outputId": "61d66aff-aa9d-4417-9920-bba50cf32efa",
        "colab": {
          "base_uri": "https://localhost:8080/",
          "height": 102
        }
      },
      "source": [
        "df_train = df_train[['condition', 'review']]\n",
        "df_valid = df_valid[['condition', 'review']]\n",
        "print (f\"#Train Examples: {df_train.shape}\")\n",
        "print (f\"#Validation Examples: {df_valid.shape}\")\n",
        "\n",
        "#print(df_train[df_train['condition'].isna()])\n",
        "print(f\"#NaN in Train: {df_train[df_train['condition'].isna()].shape}\")\n",
        "print(f\"#NaN in Validation: {df_valid[df_valid['condition'].isna()].shape}\")\n",
        "\n",
        "#Reomve the rows with empty(nan) 'condition' or empty(nan) 'review'\n",
        "print(\"Removing rows with nan values...\")\n",
        "df_train = df_train.dropna()\n",
        "df_valid = df_valid.dropna()\n",
        "\n"
      ],
      "execution_count": 4,
      "outputs": [
        {
          "output_type": "stream",
          "text": [
            "#Train Examples: (161297, 2)\n",
            "#Validation Examples: (53766, 2)\n",
            "#NaN in Train: (899, 2)\n",
            "#NaN in Validation: (295, 2)\n",
            "Removing rows with nan values...\n"
          ],
          "name": "stdout"
        }
      ]
    },
    {
      "cell_type": "code",
      "metadata": {
        "id": "VtU5etdOGPEh",
        "colab_type": "code",
        "colab": {
          "base_uri": "https://localhost:8080/",
          "height": 102
        },
        "outputId": "a3da57f6-88cd-406d-8956-c66017bc4d21"
      },
      "source": [
        "#print(df_train[df_train['condition'].str.contains('users found this comment helpful')])\n",
        "print(f\"#'users found this comment useful' in Train: {df_train[df_train['condition'].str.contains('users found this comment helpful')].shape}\")\n",
        "print(f\"#'users found this comment useful'in Validation: {df_valid[df_valid['condition'].str.contains('users found this comment helpful')].shape}\")\n",
        "\n",
        "#Remove the rows where 'condition' is \"users found this comment helpful\"\n",
        "print(\"Removing the rows where condition is 'users found this comment helpful'\")\n",
        "df_train = df_train[~df_train['condition'].str.contains('users found this comment helpful')]\n",
        "df_valid = df_valid[~df_valid['condition'].str.contains('users found this comment helpful')]\n",
        "\n",
        "df_train = df_train[['condition', 'review']]\n",
        "df_valid = df_valid[['condition', 'review']]\n",
        "print (f\"#Train Examples: {df_train.shape}\")\n",
        "print (f\"#Validation Examples: {df_valid.shape}\")"
      ],
      "execution_count": 5,
      "outputs": [
        {
          "output_type": "stream",
          "text": [
            "#'users found this comment useful' in Train: (900, 2)\n",
            "#'users found this comment useful'in Validation: (271, 2)\n",
            "Removing the rows where condition is 'users found this comment helpful'\n",
            "#Train Examples: (159498, 2)\n",
            "#Validation Examples: (53200, 2)\n"
          ],
          "name": "stdout"
        }
      ]
    },
    {
      "cell_type": "markdown",
      "metadata": {
        "id": "cplWwIu5ackf",
        "colab_type": "text"
      },
      "source": [
        "##Remove Mismatch of Classes between Validation and Training Set"
      ]
    },
    {
      "cell_type": "code",
      "metadata": {
        "id": "ea_DqJhzptPh",
        "colab_type": "code",
        "outputId": "dcf256e6-62ab-40b3-beab-24e08a6d1305",
        "colab": {
          "base_uri": "https://localhost:8080/",
          "height": 68
        }
      },
      "source": [
        "#Number of classes present in the training and validation set\n",
        "targets_train = df_train['condition'].unique()\n",
        "targets_valid = df_valid['condition'].unique()\n",
        "print(f\"#Target Classes in Train: {len(targets_train)}\")\n",
        "print(f\"#Target Classes in Validation: {len(targets_valid)}\")\n",
        "\n",
        "targets_only_in_valid = [item for item in targets_valid if item not in targets_train]\n",
        "print(f\"#Targets in Validation but not in Training: {len(targets_only_in_valid)}\")\n"
      ],
      "execution_count": 6,
      "outputs": [
        {
          "output_type": "stream",
          "text": [
            "#Target Classes in Train: 811\n",
            "#Target Classes in Validation: 664\n",
            "#Targets in Validation but not in Training: 25\n"
          ],
          "name": "stdout"
        }
      ]
    },
    {
      "cell_type": "code",
      "metadata": {
        "id": "3G6Zc2dRdV85",
        "colab_type": "code",
        "outputId": "7bb422ba-fe61-483a-8e7b-825d355b21dc",
        "colab": {
          "base_uri": "https://localhost:8080/",
          "height": 51
        }
      },
      "source": [
        "#Remove the items from Validation Set for which classes are present in Validation but not present in the Training Set\n",
        "#print(f\"#Invalid Validation examples: {df_valid[df_valid['condition'].isin(targets_only_in_valid)].shape}\")\n",
        "\n",
        "df_valid = df_valid[~df_valid['condition'].isin(targets_only_in_valid)]\n",
        "\n",
        "df_train = df_train[['condition', 'review']]\n",
        "df_valid = df_valid[['condition', 'review']]\n",
        "print (f\"#Train Examples: {df_train.shape}\")\n",
        "print (f\"#Validation Examples: {df_valid.shape}\")"
      ],
      "execution_count": 7,
      "outputs": [
        {
          "output_type": "stream",
          "text": [
            "#Train Examples: (159498, 2)\n",
            "#Validation Examples: (53161, 2)\n"
          ],
          "name": "stdout"
        }
      ]
    },
    {
      "cell_type": "code",
      "metadata": {
        "id": "sZJIPO4AivZ5",
        "colab_type": "code",
        "outputId": "bbd803ea-7398-4321-adf6-f03e0529747c",
        "colab": {
          "base_uri": "https://localhost:8080/",
          "height": 405
        }
      },
      "source": [
        "#Check the Classes which are present in the Training Set but not present in the Validation Set\n",
        "targets_only_in_train = [item for item in targets_train if item not in targets_valid]\n",
        "print(f\"#Targets in Training but not in Validation: {len(targets_only_in_train)}\")\n",
        "\n",
        "df_only_in_train = df_train[df_train['condition'].isin(targets_only_in_train)]\n",
        "print(f\"Training Examples only in Training Set: {df_only_in_train.shape}\")\n",
        "\n"
      ],
      "execution_count": 24,
      "outputs": [
        {
          "output_type": "stream",
          "text": [
            "#Targets in Training but not in Validation: 172\n",
            "Training Examples only in Training Set: (0, 2)\n",
            "Distribution of Training Examples for those classes\n"
          ],
          "name": "stdout"
        },
        {
          "output_type": "execute_result",
          "data": {
            "text/plain": [
              "Text(0.5, 0, '#Classes')"
            ]
          },
          "metadata": {
            "tags": []
          },
          "execution_count": 24
        },
        {
          "output_type": "display_data",
          "data": {
            "image/png": "[encoded data removed]",
            "text/plain": [
              "<Figure size 432x288 with 1 Axes>"
            ]
          },
          "metadata": {
            "tags": []
          }
        }
      ]
    },
    {
      "cell_type": "code",
      "metadata": {
        "id": "s0zwzFHWOBGs",
        "colab_type": "code",
        "colab": {
          "base_uri": "https://localhost:8080/",
          "height": 367
        },
        "outputId": "7c697fc8-29b6-45c4-9c8b-f31bc4cbb247"
      },
      "source": [
        "#Let us see the distribution of Traning Examples for the above classes\n",
        "print(\"Distribution of Training Examples for those classes\")\n",
        "only_in_train_bins = [0, 10, 50, 100]\n",
        "out_only_in_train = pd.cut(df_only_in_train['condition'].value_counts(), bins=only_in_train_bins, include_lowest =True)\n",
        "out_only_in_train = out_only_in_train.value_counts().reindex(out_only_in_train.cat.categories)\n",
        "axes = out_only_in_train.plot.bar()\n",
        "axes.set_xlabel('#Classes')\n",
        "# axes = df_only_in_train['condition'].value_counts().plot.hist()\n",
        "# axes.set_xlabel('#Training Examples')\n",
        "# axes.set_ylabel('#Conditions')"
      ],
      "execution_count": 25,
      "outputs": [
        {
          "output_type": "error",
          "ename": "ModuleNotFoundError",
          "evalue": "ignored",
          "traceback": [
            "\u001b[0;31m---------------------------------------------------------------------------\u001b[0m",
            "\u001b[0;31mModuleNotFoundError\u001b[0m                       Traceback (most recent call last)",
            "\u001b[0;32m<ipython-input-25-b1c47542fbc7>\u001b[0m in \u001b[0;36m<module>\u001b[0;34m()\u001b[0m\n\u001b[1;32m      1\u001b[0m \u001b[0mget_ipython\u001b[0m\u001b[0;34m(\u001b[0m\u001b[0;34m)\u001b[0m\u001b[0;34m.\u001b[0m\u001b[0mmagic\u001b[0m\u001b[0;34m(\u001b[0m\u001b[0;34m'matplotlib inline'\u001b[0m\u001b[0;34m)\u001b[0m\u001b[0;34m\u001b[0m\u001b[0;34m\u001b[0m\u001b[0m\n\u001b[0;32m----> 2\u001b[0;31m \u001b[0;32mimport\u001b[0m \u001b[0mmpld3\u001b[0m \u001b[0;31m#To enable zooming the plot\u001b[0m\u001b[0;34m\u001b[0m\u001b[0;34m\u001b[0m\u001b[0m\n\u001b[0m\u001b[1;32m      3\u001b[0m \u001b[0mmpld3\u001b[0m\u001b[0;34m.\u001b[0m\u001b[0menable_notebook\u001b[0m\u001b[0;34m(\u001b[0m\u001b[0;34m)\u001b[0m\u001b[0;34m\u001b[0m\u001b[0;34m\u001b[0m\u001b[0m\n\u001b[1;32m      4\u001b[0m \u001b[0;34m\u001b[0m\u001b[0m\n\u001b[1;32m      5\u001b[0m \u001b[0;31m#Let us see the distribution of Traning Examples for the above classes\u001b[0m\u001b[0;34m\u001b[0m\u001b[0;34m\u001b[0m\u001b[0;34m\u001b[0m\u001b[0m\n",
            "\u001b[0;31mModuleNotFoundError\u001b[0m: No module named 'mpld3'",
            "",
            "\u001b[0;31m---------------------------------------------------------------------------\u001b[0;32m\nNOTE: If your import is failing due to a missing package, you can\nmanually install dependencies using either !pip or !apt.\n\nTo view examples of installing some common dependencies, click the\n\"Open Examples\" button below.\n\u001b[0;31m---------------------------------------------------------------------------\u001b[0m\n"
          ]
        }
      ]
    },
    {
      "cell_type": "code",
      "metadata": {
        "id": "yUGGJa9OiQY7",
        "colab_type": "code",
        "outputId": "2646fc05-bb23-4bb2-aa05-c82b8d8cc468",
        "colab": {
          "base_uri": "https://localhost:8080/",
          "height": 51
        }
      },
      "source": [
        "#We can see that there are 419 Training examples for which 172 classes are present in Traning set but not the validation set\n",
        "#To make the Traning and Validation Set Balanced, removing those 419 Traning Examples\n",
        "print(\"Making Training Set and Validation Set balanced in terms of #classes\") \n",
        "df_train = df_train[~df_train['condition'].isin(targets_only_in_train)]\n",
        "\n",
        "df_train = df_train[['condition', 'review']]\n",
        "df_valid = df_valid[['condition', 'review']]\n",
        "print (f\"#Train Examples: {df_train.shape}\")\n",
        "print (f\"#Validation Examples: {df_valid.shape}\")"
      ],
      "execution_count": 16,
      "outputs": [
        {
          "output_type": "stream",
          "text": [
            "#Train Examples: (159079, 2)\n",
            "#Validation Examples: (53161, 2)\n"
          ],
          "name": "stdout"
        }
      ]
    },
    {
      "cell_type": "code",
      "metadata": {
        "id": "F2tFac8fL1gO",
        "colab_type": "code",
        "colab": {
          "base_uri": "https://localhost:8080/",
          "height": 466
        },
        "outputId": "d754caeb-200c-4a90-e134-c2fe658355bb"
      },
      "source": [
        "print(\"Let us see the Distribution of Training Examples\")\n",
        "train_bins = [0, 10, 50, 100, 500, 5000, 10000, 20000, 30000]\n",
        "out_train = pd.cut(df_train['condition'].value_counts(), bins=train_bins, include_lowest =True)\n",
        "out_train = out_train.value_counts().reindex(out_train.cat.categories)\n",
        "print(out_train)\n",
        "axes = out_train.plot.barh()\n",
        "axes.set_xlabel('#Classes')"
      ],
      "execution_count": 26,
      "outputs": [
        {
          "output_type": "stream",
          "text": [
            "Let us see the Distribution of Training Examples\n",
            "(-0.001, 10.0]        237\n",
            "(10.0, 50.0]          178\n",
            "(50.0, 100.0]          75\n",
            "(100.0, 500.0]         89\n",
            "(500.0, 5000.0]        55\n",
            "(5000.0, 10000.0]       4\n",
            "(10000.0, 20000.0]      0\n",
            "(20000.0, 30000.0]      1\n",
            "Name: condition, dtype: int64\n"
          ],
          "name": "stdout"
        },
        {
          "output_type": "execute_result",
          "data": {
            "text/plain": [
              "Text(0.5, 0, '#Classes')"
            ]
          },
          "metadata": {
            "tags": []
          },
          "execution_count": 26
        },
        {
          "output_type": "display_data",
          "data": {
            "image/png": "[encoded data removed]",
            "text/plain": [
              "<Figure size 432x288 with 1 Axes>"
            ]
          },
          "metadata": {
            "tags": []
          }
        }
      ]
    },
    {
      "cell_type": "markdown",
      "metadata": {
        "id": "Py-be1i8O-zz",
        "colab_type": "text"
      },
      "source": [
        "#Analysis of Precision and Recall"
      ]
    }
  ]
}