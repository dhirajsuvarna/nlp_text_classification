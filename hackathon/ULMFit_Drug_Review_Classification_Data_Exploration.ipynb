{
  "nbformat": 4,
  "nbformat_minor": 0,
  "metadata": {
    "colab": {
      "name": "ULMFit-Drug-Review-Classification.ipynb",
      "provenance": [],
      "collapsed_sections": [],
      "toc_visible": true,
      "include_colab_link": true
    },
    "kernelspec": {
      "name": "python3",
      "display_name": "Python 3"
    },
    "accelerator": "GPU"
  },
  "cells": [
    {
      "cell_type": "markdown",
      "metadata": {
        "id": "view-in-github",
        "colab_type": "text"
      },
      "source": [
        "<a href=\"https://colab.research.google.com/github/dhirajsuvarna/nlp_text_classification/blob/master/hackathon/ULMFit_Drug_Review_Classification_Data_Exploration.ipynb\" target=\"_parent\"><img src=\"https://colab.research.google.com/assets/colab-badge.svg\" alt=\"Open In Colab\"/></a>"
      ]
    },
    {
      "cell_type": "markdown",
      "metadata": {
        "id": "lgvmVd0Y9FdT",
        "colab_type": "text"
      },
      "source": [
        "#Loading DataSet from Google Drive"
      ]
    },
    {
      "cell_type": "code",
      "metadata": {
        "id": "N7RR4NYKv6Fm",
        "colab_type": "code",
        "outputId": "d890a042-1dc5-44c6-b148-6352a4cf7949",
        "colab": {
          "base_uri": "https://localhost:8080/",
          "height": 54
        }
      },
      "source": [
        "#Mount Google Drive\n",
        "from google.colab import drive\n",
        "drive.mount('/content/drive')"
      ],
      "execution_count": 51,
      "outputs": [
        {
          "output_type": "stream",
          "text": [
            "Drive already mounted at /content/drive; to attempt to forcibly remount, call drive.mount(\"/content/drive\", force_remount=True).\n"
          ],
          "name": "stdout"
        }
      ]
    },
    {
      "cell_type": "code",
      "metadata": {
        "id": "rxTHJ7mBxY2Q",
        "colab_type": "code",
        "colab": {}
      },
      "source": [
        "from fastai.text import * \n",
        "\n",
        "#Load the Traning and Validation Dataset\n",
        "df_train = pd.read_csv('/content/drive/My Drive/Projects/AnalyticsHackathon/dataset/drugsComTrain_raw.csv')\n",
        "df_valid = pd.read_csv('/content/drive/My Drive/Projects/AnalyticsHackathon/dataset/drugsComTest_raw.csv')"
      ],
      "execution_count": 0,
      "outputs": []
    },
    {
      "cell_type": "markdown",
      "metadata": {
        "id": "scwbgAtfauob",
        "colab_type": "text"
      },
      "source": [
        "##Removing Empty Cells and Invalid Cells\n",
        "\n",
        "\n",
        "\n"
      ]
    },
    {
      "cell_type": "code",
      "metadata": {
        "id": "SI73jtaGFdwI",
        "colab_type": "code",
        "outputId": "10d3a807-3dd7-4f10-98d6-35bf93593bad",
        "colab": {
          "base_uri": "https://localhost:8080/",
          "height": 102
        }
      },
      "source": [
        "df_train = df_train[['condition', 'review']]\n",
        "df_valid = df_valid[['condition', 'review']]\n",
        "print (f\"#Train Examples: {df_train.shape}\")\n",
        "print (f\"#Validation Examples: {df_valid.shape}\")\n",
        "\n",
        "#print(df_train[df_train['condition'].isna()])\n",
        "print(f\"#NaN in Train: {df_train[df_train['condition'].isna()].shape}\")\n",
        "print(f\"#NaN in Validation: {df_valid[df_valid['condition'].isna()].shape}\")\n",
        "\n",
        "#Reomve the rows with empty(nan) 'condition' or empty(nan) 'review'\n",
        "print(\"Removing rows with nan values...\")\n",
        "df_train = df_train.dropna()\n",
        "df_valid = df_valid.dropna()\n",
        "\n"
      ],
      "execution_count": 53,
      "outputs": [
        {
          "output_type": "stream",
          "text": [
            "#Train Examples: (161297, 2)\n",
            "#Validation Examples: (53766, 2)\n",
            "#NaN in Train: (899, 2)\n",
            "#NaN in Validation: (295, 2)\n",
            "Removing rows with nan values...\n"
          ],
          "name": "stdout"
        }
      ]
    },
    {
      "cell_type": "code",
      "metadata": {
        "id": "VtU5etdOGPEh",
        "colab_type": "code",
        "colab": {
          "base_uri": "https://localhost:8080/",
          "height": 102
        },
        "outputId": "632536cf-31a6-4b6a-ec19-a3c380e6b6a8"
      },
      "source": [
        "#print(df_train[df_train['condition'].str.contains('users found this comment helpful')])\n",
        "print(f\"#'users found this comment useful' in Train: {df_train[df_train['condition'].str.contains('users found this comment helpful')].shape}\")\n",
        "print(f\"#'users found this comment useful'in Validation: {df_valid[df_valid['condition'].str.contains('users found this comment helpful')].shape}\")\n",
        "\n",
        "#Remove the rows where 'condition' is \"users found this comment helpful\"\n",
        "print(\"Removing the rows where condition is 'users found this comment helpful'\")\n",
        "df_train = df_train[~df_train['condition'].str.contains('users found this comment helpful')]\n",
        "df_valid = df_valid[~df_valid['condition'].str.contains('users found this comment helpful')]\n",
        "\n",
        "df_train = df_train[['condition', 'review']]\n",
        "df_valid = df_valid[['condition', 'review']]\n",
        "print (f\"#Train Examples: {df_train.shape}\")\n",
        "print (f\"#Validation Examples: {df_valid.shape}\")"
      ],
      "execution_count": 54,
      "outputs": [
        {
          "output_type": "stream",
          "text": [
            "#'users found this comment useful' in Train: (900, 2)\n",
            "#'users found this comment useful'in Validation: (271, 2)\n",
            "Removing the rows where condition is 'users found this comment helpful'\n",
            "#Train Examples: (159498, 2)\n",
            "#Validation Examples: (53200, 2)\n"
          ],
          "name": "stdout"
        }
      ]
    },
    {
      "cell_type": "markdown",
      "metadata": {
        "id": "cplWwIu5ackf",
        "colab_type": "text"
      },
      "source": [
        "##Remove Mismatch of Classes between Validation and Training Set"
      ]
    },
    {
      "cell_type": "code",
      "metadata": {
        "id": "ea_DqJhzptPh",
        "colab_type": "code",
        "outputId": "e04afcb3-54ad-433d-b399-6c51516c50fa",
        "colab": {
          "base_uri": "https://localhost:8080/",
          "height": 68
        }
      },
      "source": [
        "#Number of classes present in the training and validation set\n",
        "targets_train = df_train['condition'].unique()\n",
        "targets_valid = df_valid['condition'].unique()\n",
        "print(f\"#Target Classes in Train: {len(targets_train)}\")\n",
        "print(f\"#Target Classes in Validation: {len(targets_valid)}\")\n",
        "\n",
        "targets_only_in_valid = [item for item in targets_valid if item not in targets_train]\n",
        "print(f\"#Targets in Validation but not in Training: {len(targets_only_in_valid)}\")\n"
      ],
      "execution_count": 55,
      "outputs": [
        {
          "output_type": "stream",
          "text": [
            "#Target Classes in Train: 811\n",
            "#Target Classes in Validation: 664\n",
            "#Targets in Validation but not in Training: 25\n"
          ],
          "name": "stdout"
        }
      ]
    },
    {
      "cell_type": "code",
      "metadata": {
        "id": "3G6Zc2dRdV85",
        "colab_type": "code",
        "outputId": "e0eb3419-e670-42f5-c574-6d287491a4f6",
        "colab": {
          "base_uri": "https://localhost:8080/",
          "height": 51
        }
      },
      "source": [
        "#Remove the items from Validation Set for which classes are present in Validation but not present in the Training Set\n",
        "#print(f\"#Invalid Validation examples: {df_valid[df_valid['condition'].isin(targets_only_in_valid)].shape}\")\n",
        "\n",
        "df_valid = df_valid[~df_valid['condition'].isin(targets_only_in_valid)]\n",
        "\n",
        "df_train = df_train[['condition', 'review']]\n",
        "df_valid = df_valid[['condition', 'review']]\n",
        "print (f\"#Train Examples: {df_train.shape}\")\n",
        "print (f\"#Validation Examples: {df_valid.shape}\")"
      ],
      "execution_count": 56,
      "outputs": [
        {
          "output_type": "stream",
          "text": [
            "#Train Examples: (159498, 2)\n",
            "#Validation Examples: (53161, 2)\n"
          ],
          "name": "stdout"
        }
      ]
    },
    {
      "cell_type": "code",
      "metadata": {
        "id": "sZJIPO4AivZ5",
        "colab_type": "code",
        "outputId": "69002eb6-b878-4142-d136-7806926ce1de",
        "colab": {
          "base_uri": "https://localhost:8080/",
          "height": 51
        }
      },
      "source": [
        "#Check the Classes which are present in the Training Set but not present in the Validation Set\n",
        "targets_only_in_train = [item for item in targets_train if item not in targets_valid]\n",
        "print(f\"#Targets in Training but not in Validation: {len(targets_only_in_train)}\")\n",
        "\n",
        "df_only_in_train = df_train[df_train['condition'].isin(targets_only_in_train)]\n",
        "print(f\"Training Examples only in Training Set: {df_only_in_train.shape}\")\n",
        "\n"
      ],
      "execution_count": 57,
      "outputs": [
        {
          "output_type": "stream",
          "text": [
            "#Targets in Training but not in Validation: 172\n",
            "Training Examples only in Training Set: (419, 2)\n"
          ],
          "name": "stdout"
        }
      ]
    },
    {
      "cell_type": "code",
      "metadata": {
        "id": "s0zwzFHWOBGs",
        "colab_type": "code",
        "colab": {
          "base_uri": "https://localhost:8080/",
          "height": 381
        },
        "outputId": "b3543192-74b2-4039-caa1-fa0a25f1184a"
      },
      "source": [
        "#Let us see the distribution of Traning Examples for the above classes\n",
        "print(\"Distribution of Training Examples for those classes\")\n",
        "only_in_train_bins = [0, 10, 50, 100]\n",
        "out_only_in_train = pd.cut(df_only_in_train['condition'].value_counts(), bins=only_in_train_bins, include_lowest =True)\n",
        "out_only_in_train = out_only_in_train.value_counts().reindex(out_only_in_train.cat.categories)\n",
        "print(out_only_in_train)\n",
        "axes = out_only_in_train.plot.barh()\n",
        "axes.set_xlabel('#Classes')\n",
        "# axes = df_only_in_train['condition'].value_counts().plot.hist()\n",
        "# axes.set_xlabel('#Training Examples')\n",
        "# axes.set_ylabel('#Conditions')"
      ],
      "execution_count": 64,
      "outputs": [
        {
          "output_type": "stream",
          "text": [
            "Distribution of Training Examples for those classes\n",
            "(-0.001, 10.0]    171\n",
            "(10.0, 50.0]        1\n",
            "(50.0, 100.0]       0\n",
            "Name: condition, dtype: int64\n"
          ],
          "name": "stdout"
        },
        {
          "output_type": "execute_result",
          "data": {
            "text/plain": [
              "Text(0.5, 0, '#Classes')"
            ]
          },
          "metadata": {
            "tags": []
          },
          "execution_count": 64
        },
        {
          "output_type": "display_data",
          "data": {
            "image/png": "[encoded data removed]",
            "text/plain": [
              "<Figure size 432x288 with 1 Axes>"
            ]
          },
          "metadata": {
            "tags": []
          }
        }
      ]
    },
    {
      "cell_type": "code",
      "metadata": {
        "id": "yUGGJa9OiQY7",
        "colab_type": "code",
        "outputId": "0c2538cd-7607-4db5-eab3-7ea84b0bd438",
        "colab": {
          "base_uri": "https://localhost:8080/",
          "height": 68
        }
      },
      "source": [
        "#We can see that there are 419 Training examples for which 172 classes are present in Traning set but not the validation set\n",
        "#To make the Traning and Validation Set Balanced, removing those 419 Traning Examples\n",
        "print(\"Making Training Set and Validation Set balanced in terms of #classes\") \n",
        "df_train = df_train[~df_train['condition'].isin(targets_only_in_train)]\n",
        "\n",
        "df_train = df_train[['condition', 'review']]\n",
        "df_valid = df_valid[['condition', 'review']]\n",
        "print (f\"#Train Examples: {df_train.shape}\")\n",
        "print (f\"#Validation Examples: {df_valid.shape}\")"
      ],
      "execution_count": 59,
      "outputs": [
        {
          "output_type": "stream",
          "text": [
            "Making Training Set and Validation Set balanced in terms of #classes\n",
            "#Train Examples: (159079, 2)\n",
            "#Validation Examples: (53161, 2)\n"
          ],
          "name": "stdout"
        }
      ]
    },
    {
      "cell_type": "code",
      "metadata": {
        "id": "F2tFac8fL1gO",
        "colab_type": "code",
        "colab": {
          "base_uri": "https://localhost:8080/",
          "height": 466
        },
        "outputId": "cb3a748d-4756-417d-cfc7-c52b63f48683"
      },
      "source": [
        "print(\"Let us see the Distribution of Training Examples\")\n",
        "train_bins = [0, 19, 50, 100, 500, 5000, 10000, 20000, 30000]\n",
        "out_train = pd.cut(df_train['condition'].value_counts(), bins=train_bins, include_lowest =True)\n",
        "out_train = out_train.value_counts().reindex(out_train.cat.categories)\n",
        "print(out_train)\n",
        "axes = out_train.plot.barh()\n",
        "axes.set_xlabel('#Classes')"
      ],
      "execution_count": 93,
      "outputs": [
        {
          "output_type": "stream",
          "text": [
            "Let us see the Distribution of Training Examples\n",
            "(-0.001, 19.0]        321\n",
            "(19.0, 50.0]           94\n",
            "(50.0, 100.0]          75\n",
            "(100.0, 500.0]         89\n",
            "(500.0, 5000.0]        55\n",
            "(5000.0, 10000.0]       4\n",
            "(10000.0, 20000.0]      0\n",
            "(20000.0, 30000.0]      1\n",
            "Name: condition, dtype: int64\n"
          ],
          "name": "stdout"
        },
        {
          "output_type": "execute_result",
          "data": {
            "text/plain": [
              "Text(0.5, 0, '#Classes')"
            ]
          },
          "metadata": {
            "tags": []
          },
          "execution_count": 93
        },
        {
          "output_type": "display_data",
          "data": {
            "image/png": "[encoded data removed]",
            "text/plain": [
              "<Figure size 432x288 with 1 Axes>"
            ]
          },
          "metadata": {
            "tags": []
          }
        }
      ]
    },
    {
      "cell_type": "markdown",
      "metadata": {
        "id": "Py-be1i8O-zz",
        "colab_type": "text"
      },
      "source": [
        "#Analysis of Precision and Recall Report "
      ]
    },
    {
      "cell_type": "code",
      "metadata": {
        "id": "t_8Q0Pu8Qjr0",
        "colab_type": "code",
        "colab": {}
      },
      "source": [
        "df_clas_report = pd.read_csv('/content/Classification_Report_ULMFit.csv')"
      ],
      "execution_count": 0,
      "outputs": []
    },
    {
      "cell_type": "code",
      "metadata": {
        "id": "hNh0TnjqRWRF",
        "colab_type": "code",
        "colab": {
          "base_uri": "https://localhost:8080/",
          "height": 187
        },
        "outputId": "b617fee8-5557-4592-9340-0f8cc622a682"
      },
      "source": [
        "recall_bins = [0, 0.1, 0.2, 0.3, 0.4, 0.5, 0.6, 0.84, 1.0]\n",
        "clas_report_out = pd.cut(df_clas_report['recall'], bins=recall_bins, include_lowest =True)\n",
        "clas_report_out = clas_report_out.value_counts().reindex(clas_report_out.cat.categories)\n",
        "print(f\"Distribution of Recall Values : \")\n",
        "print(clas_report_out)"
      ],
      "execution_count": 72,
      "outputs": [
        {
          "output_type": "stream",
          "text": [
            "Distribution of Recall Values : \n",
            "(-0.001, 0.1]    394\n",
            "(0.1, 0.2]        29\n",
            "(0.2, 0.3]        18\n",
            "(0.3, 0.4]        23\n",
            "(0.4, 0.5]        18\n",
            "(0.5, 0.6]        27\n",
            "(0.6, 0.84]       90\n",
            "(0.84, 1.0]       40\n",
            "Name: recall, dtype: int64\n"
          ],
          "name": "stdout"
        }
      ]
    },
    {
      "cell_type": "code",
      "metadata": {
        "id": "17sWgo6gTjKw",
        "colab_type": "code",
        "colab": {
          "base_uri": "https://localhost:8080/",
          "height": 296
        },
        "outputId": "d73c29b6-e5d9-4e7c-8127-877483e51d44"
      },
      "source": [
        "axes = clas_report_out.plot.barh()\n",
        "axes.set_xlabel(\"#Classes\")"
      ],
      "execution_count": 73,
      "outputs": [
        {
          "output_type": "execute_result",
          "data": {
            "text/plain": [
              "Text(0.5, 0, '#Classes')"
            ]
          },
          "metadata": {
            "tags": []
          },
          "execution_count": 73
        },
        {
          "output_type": "display_data",
          "data": {
            "image/png": "[encoded data removed]",
            "text/plain": [
              "<Figure size 432x288 with 1 Axes>"
            ]
          },
          "metadata": {
            "tags": []
          }
        }
      ]
    },
    {
      "cell_type": "markdown",
      "metadata": {
        "id": "j6iqZhfeVNgi",
        "colab_type": "text"
      },
      "source": [
        "According to the above distribution the model has prediction accuracy of **more than 85%** on **40** classes. \n",
        "\n",
        "Let us see how many training examples were present for these **40** classes. \n",
        "\n"
      ]
    },
    {
      "cell_type": "code",
      "metadata": {
        "id": "7Bu5LdoKVNSM",
        "colab_type": "code",
        "colab": {}
      },
      "source": [
        "#df_clas_report[df_clas_report['recall'] >= 0.85]['condition'].count()\n",
        "# for item in df_clas_report[df_clas_report['recall'] >= 0.85]['condition']:\n",
        "#     review_count = df_train[df_train['condition'] == item]['review'].count()\n",
        "#     print(f\"{item}:{review_count}\")\n",
        "\n",
        "df_good_accuracy = df_clas_report[df_clas_report['recall'] >= 0.85]\n",
        "df_good_accuracy['training_examples'] = \"\"\n",
        "#df_good_accuracy.head()\n",
        "for item in df_good_accuracy['condition']:\n",
        "    review_count = df_train[df_train['condition'] == item]['review'].count()\n",
        "    df_good_accuracy.loc[df_good_accuracy['condition'] == item, 'training_examples'] = review_count\n",
        "    #print(f\"{item}:{review_count}\")\n",
        "\n"
      ],
      "execution_count": 0,
      "outputs": []
    },
    {
      "cell_type": "code",
      "metadata": {
        "id": "FsP5Qze2YoKh",
        "colab_type": "code",
        "colab": {
          "base_uri": "https://localhost:8080/",
          "height": 1000
        },
        "outputId": "aeb85797-cf18-438c-d562-679c0328fae1"
      },
      "source": [
        "df_good_accuracy = df_good_accuracy.sort_values(by='training_examples', ascending=False)\n",
        "df_good_accuracy.head(40)"
      ],
      "execution_count": 92,
      "outputs": [
        {
          "output_type": "execute_result",
          "data": {
            "text/html": [
              "<div>\n",
              "<style scoped>\n",
              "    .dataframe tbody tr th:only-of-type {\n",
              "        vertical-align: middle;\n",
              "    }\n",
              "\n",
              "    .dataframe tbody tr th {\n",
              "        vertical-align: top;\n",
              "    }\n",
              "\n",
              "    .dataframe thead th {\n",
              "        text-align: right;\n",
              "    }\n",
              "</style>\n",
              "<table border=\"1\" class=\"dataframe\">\n",
              "  <thead>\n",
              "    <tr style=\"text-align: right;\">\n",
              "      <th></th>\n",
              "      <th>condition</th>\n",
              "      <th>precision</th>\n",
              "      <th>recall</th>\n",
              "      <th>f1-score</th>\n",
              "      <th>support</th>\n",
              "      <th>review_count</th>\n",
              "    </tr>\n",
              "  </thead>\n",
              "  <tbody>\n",
              "    <tr>\n",
              "      <th>75</th>\n",
              "      <td>Birth Control</td>\n",
              "      <td>0.93</td>\n",
              "      <td>0.97</td>\n",
              "      <td>0.95</td>\n",
              "      <td>9648</td>\n",
              "      <td>28788</td>\n",
              "    </tr>\n",
              "    <tr>\n",
              "      <th>5</th>\n",
              "      <td>Acne</td>\n",
              "      <td>0.92</td>\n",
              "      <td>0.93</td>\n",
              "      <td>0.92</td>\n",
              "      <td>1847</td>\n",
              "      <td>5588</td>\n",
              "    </tr>\n",
              "    <tr>\n",
              "      <th>297</th>\n",
              "      <td>Insomnia</td>\n",
              "      <td>0.80</td>\n",
              "      <td>0.88</td>\n",
              "      <td>0.83</td>\n",
              "      <td>1231</td>\n",
              "      <td>3673</td>\n",
              "    </tr>\n",
              "    <tr>\n",
              "      <th>0</th>\n",
              "      <td>ADHD</td>\n",
              "      <td>0.83</td>\n",
              "      <td>0.91</td>\n",
              "      <td>0.86</td>\n",
              "      <td>1126</td>\n",
              "      <td>3383</td>\n",
              "    </tr>\n",
              "    <tr>\n",
              "      <th>162</th>\n",
              "      <td>Diabetes, Type 2</td>\n",
              "      <td>0.79</td>\n",
              "      <td>0.89</td>\n",
              "      <td>0.84</td>\n",
              "      <td>808</td>\n",
              "      <td>2554</td>\n",
              "    </tr>\n",
              "    <tr>\n",
              "      <th>188</th>\n",
              "      <td>Emergency Contraception</td>\n",
              "      <td>0.97</td>\n",
              "      <td>0.98</td>\n",
              "      <td>0.98</td>\n",
              "      <td>827</td>\n",
              "      <td>2463</td>\n",
              "    </tr>\n",
              "    <tr>\n",
              "      <th>254</th>\n",
              "      <td>High Blood Pressure</td>\n",
              "      <td>0.68</td>\n",
              "      <td>0.87</td>\n",
              "      <td>0.76</td>\n",
              "      <td>783</td>\n",
              "      <td>2321</td>\n",
              "    </tr>\n",
              "    <tr>\n",
              "      <th>596</th>\n",
              "      <td>Vaginal Yeast Infection</td>\n",
              "      <td>0.92</td>\n",
              "      <td>0.96</td>\n",
              "      <td>0.94</td>\n",
              "      <td>811</td>\n",
              "      <td>2274</td>\n",
              "    </tr>\n",
              "    <tr>\n",
              "      <th>82</th>\n",
              "      <td>Bowel Preparation</td>\n",
              "      <td>0.95</td>\n",
              "      <td>0.96</td>\n",
              "      <td>0.96</td>\n",
              "      <td>639</td>\n",
              "      <td>1859</td>\n",
              "    </tr>\n",
              "    <tr>\n",
              "      <th>533</th>\n",
              "      <td>Smoking Cessation</td>\n",
              "      <td>0.97</td>\n",
              "      <td>0.96</td>\n",
              "      <td>0.96</td>\n",
              "      <td>660</td>\n",
              "      <td>1780</td>\n",
              "    </tr>\n",
              "    <tr>\n",
              "      <th>349</th>\n",
              "      <td>Migraine</td>\n",
              "      <td>0.78</td>\n",
              "      <td>0.85</td>\n",
              "      <td>0.82</td>\n",
              "      <td>583</td>\n",
              "      <td>1694</td>\n",
              "    </tr>\n",
              "    <tr>\n",
              "      <th>127</th>\n",
              "      <td>Constipation</td>\n",
              "      <td>0.77</td>\n",
              "      <td>0.88</td>\n",
              "      <td>0.82</td>\n",
              "      <td>525</td>\n",
              "      <td>1595</td>\n",
              "    </tr>\n",
              "    <tr>\n",
              "      <th>350</th>\n",
              "      <td>Migraine Prevention</td>\n",
              "      <td>0.80</td>\n",
              "      <td>0.86</td>\n",
              "      <td>0.83</td>\n",
              "      <td>454</td>\n",
              "      <td>1413</td>\n",
              "    </tr>\n",
              "    <tr>\n",
              "      <th>196</th>\n",
              "      <td>Erectile Dysfunction</td>\n",
              "      <td>0.85</td>\n",
              "      <td>0.90</td>\n",
              "      <td>0.88</td>\n",
              "      <td>381</td>\n",
              "      <td>1086</td>\n",
              "    </tr>\n",
              "    <tr>\n",
              "      <th>402</th>\n",
              "      <td>Opiate Dependence</td>\n",
              "      <td>0.89</td>\n",
              "      <td>0.91</td>\n",
              "      <td>0.90</td>\n",
              "      <td>398</td>\n",
              "      <td>1079</td>\n",
              "    </tr>\n",
              "    <tr>\n",
              "      <th>359</th>\n",
              "      <td>Multiple Sclerosis</td>\n",
              "      <td>0.84</td>\n",
              "      <td>0.91</td>\n",
              "      <td>0.88</td>\n",
              "      <td>215</td>\n",
              "      <td>698</td>\n",
              "    </tr>\n",
              "    <tr>\n",
              "      <th>265</th>\n",
              "      <td>Hyperhidrosis</td>\n",
              "      <td>0.92</td>\n",
              "      <td>0.97</td>\n",
              "      <td>0.95</td>\n",
              "      <td>240</td>\n",
              "      <td>677</td>\n",
              "    </tr>\n",
              "    <tr>\n",
              "      <th>241</th>\n",
              "      <td>Hepatitis C</td>\n",
              "      <td>0.92</td>\n",
              "      <td>0.95</td>\n",
              "      <td>0.94</td>\n",
              "      <td>245</td>\n",
              "      <td>656</td>\n",
              "    </tr>\n",
              "    <tr>\n",
              "      <th>227</th>\n",
              "      <td>HIV Infection</td>\n",
              "      <td>0.93</td>\n",
              "      <td>0.86</td>\n",
              "      <td>0.89</td>\n",
              "      <td>202</td>\n",
              "      <td>615</td>\n",
              "    </tr>\n",
              "    <tr>\n",
              "      <th>489</th>\n",
              "      <td>Psoriasis</td>\n",
              "      <td>0.83</td>\n",
              "      <td>0.86</td>\n",
              "      <td>0.84</td>\n",
              "      <td>198</td>\n",
              "      <td>598</td>\n",
              "    </tr>\n",
              "    <tr>\n",
              "      <th>501</th>\n",
              "      <td>Restless Legs Syndrome</td>\n",
              "      <td>0.84</td>\n",
              "      <td>0.89</td>\n",
              "      <td>0.86</td>\n",
              "      <td>240</td>\n",
              "      <td>565</td>\n",
              "    </tr>\n",
              "    <tr>\n",
              "      <th>280</th>\n",
              "      <td>Hypogonadism, Male</td>\n",
              "      <td>0.95</td>\n",
              "      <td>0.90</td>\n",
              "      <td>0.92</td>\n",
              "      <td>195</td>\n",
              "      <td>502</td>\n",
              "    </tr>\n",
              "    <tr>\n",
              "      <th>398</th>\n",
              "      <td>Onychomycosis, Toenail</td>\n",
              "      <td>0.80</td>\n",
              "      <td>0.94</td>\n",
              "      <td>0.87</td>\n",
              "      <td>137</td>\n",
              "      <td>396</td>\n",
              "    </tr>\n",
              "    <tr>\n",
              "      <th>16</th>\n",
              "      <td>Alcohol Dependence</td>\n",
              "      <td>0.89</td>\n",
              "      <td>0.91</td>\n",
              "      <td>0.90</td>\n",
              "      <td>130</td>\n",
              "      <td>388</td>\n",
              "    </tr>\n",
              "    <tr>\n",
              "      <th>295</th>\n",
              "      <td>Influenza</td>\n",
              "      <td>0.86</td>\n",
              "      <td>0.90</td>\n",
              "      <td>0.88</td>\n",
              "      <td>117</td>\n",
              "      <td>350</td>\n",
              "    </tr>\n",
              "    <tr>\n",
              "      <th>84</th>\n",
              "      <td>Breast Cance</td>\n",
              "      <td>0.74</td>\n",
              "      <td>0.85</td>\n",
              "      <td>0.79</td>\n",
              "      <td>99</td>\n",
              "      <td>272</td>\n",
              "    </tr>\n",
              "    <tr>\n",
              "      <th>355</th>\n",
              "      <td>Motion Sickness</td>\n",
              "      <td>0.86</td>\n",
              "      <td>0.90</td>\n",
              "      <td>0.88</td>\n",
              "      <td>72</td>\n",
              "      <td>203</td>\n",
              "    </tr>\n",
              "    <tr>\n",
              "      <th>627</th>\n",
              "      <td>mance Anxiety</td>\n",
              "      <td>0.91</td>\n",
              "      <td>0.85</td>\n",
              "      <td>0.88</td>\n",
              "      <td>72</td>\n",
              "      <td>187</td>\n",
              "    </tr>\n",
              "    <tr>\n",
              "      <th>478</th>\n",
              "      <td>Prevention of Thromboembolism in Atrial Fibril...</td>\n",
              "      <td>0.67</td>\n",
              "      <td>0.86</td>\n",
              "      <td>0.75</td>\n",
              "      <td>44</td>\n",
              "      <td>160</td>\n",
              "    </tr>\n",
              "    <tr>\n",
              "      <th>224</th>\n",
              "      <td>Gout</td>\n",
              "      <td>0.96</td>\n",
              "      <td>0.92</td>\n",
              "      <td>0.94</td>\n",
              "      <td>26</td>\n",
              "      <td>105</td>\n",
              "    </tr>\n",
              "    <tr>\n",
              "      <th>261</th>\n",
              "      <td>Human Papilloma Virus</td>\n",
              "      <td>0.76</td>\n",
              "      <td>0.90</td>\n",
              "      <td>0.82</td>\n",
              "      <td>39</td>\n",
              "      <td>102</td>\n",
              "    </tr>\n",
              "    <tr>\n",
              "      <th>591</th>\n",
              "      <td>Urinary Tract Stones</td>\n",
              "      <td>0.89</td>\n",
              "      <td>0.93</td>\n",
              "      <td>0.91</td>\n",
              "      <td>43</td>\n",
              "      <td>101</td>\n",
              "    </tr>\n",
              "    <tr>\n",
              "      <th>388</th>\n",
              "      <td>Non-Small Cell Lung Cance</td>\n",
              "      <td>0.59</td>\n",
              "      <td>0.85</td>\n",
              "      <td>0.69</td>\n",
              "      <td>40</td>\n",
              "      <td>94</td>\n",
              "    </tr>\n",
              "    <tr>\n",
              "      <th>111</th>\n",
              "      <td>Chronic Myelogenous Leukemia</td>\n",
              "      <td>0.89</td>\n",
              "      <td>0.92</td>\n",
              "      <td>0.91</td>\n",
              "      <td>26</td>\n",
              "      <td>89</td>\n",
              "    </tr>\n",
              "    <tr>\n",
              "      <th>22</th>\n",
              "      <td>Alopecia</td>\n",
              "      <td>0.64</td>\n",
              "      <td>0.89</td>\n",
              "      <td>0.74</td>\n",
              "      <td>36</td>\n",
              "      <td>89</td>\n",
              "    </tr>\n",
              "    <tr>\n",
              "      <th>573</th>\n",
              "      <td>Tourette's Syndrome</td>\n",
              "      <td>0.78</td>\n",
              "      <td>1.00</td>\n",
              "      <td>0.88</td>\n",
              "      <td>21</td>\n",
              "      <td>68</td>\n",
              "    </tr>\n",
              "    <tr>\n",
              "      <th>230</th>\n",
              "      <td>Head Lice</td>\n",
              "      <td>0.91</td>\n",
              "      <td>0.94</td>\n",
              "      <td>0.92</td>\n",
              "      <td>32</td>\n",
              "      <td>67</td>\n",
              "    </tr>\n",
              "    <tr>\n",
              "      <th>468</th>\n",
              "      <td>Precocious Puberty</td>\n",
              "      <td>1.00</td>\n",
              "      <td>1.00</td>\n",
              "      <td>1.00</td>\n",
              "      <td>6</td>\n",
              "      <td>25</td>\n",
              "    </tr>\n",
              "    <tr>\n",
              "      <th>308</th>\n",
              "      <td>Ischemic Stroke, Prophylaxis</td>\n",
              "      <td>1.00</td>\n",
              "      <td>0.88</td>\n",
              "      <td>0.93</td>\n",
              "      <td>8</td>\n",
              "      <td>22</td>\n",
              "    </tr>\n",
              "    <tr>\n",
              "      <th>387</th>\n",
              "      <td>Non-Hodgkin's Lymphoma</td>\n",
              "      <td>0.83</td>\n",
              "      <td>1.00</td>\n",
              "      <td>0.91</td>\n",
              "      <td>5</td>\n",
              "      <td>20</td>\n",
              "    </tr>\n",
              "  </tbody>\n",
              "</table>\n",
              "</div>"
            ],
            "text/plain": [
              "                                             condition  ...  review_count\n",
              "75                                       Birth Control  ...         28788\n",
              "5                                                 Acne  ...          5588\n",
              "297                                           Insomnia  ...          3673\n",
              "0                                                 ADHD  ...          3383\n",
              "162                                   Diabetes, Type 2  ...          2554\n",
              "188                            Emergency Contraception  ...          2463\n",
              "254                                High Blood Pressure  ...          2321\n",
              "596                            Vaginal Yeast Infection  ...          2274\n",
              "82                                   Bowel Preparation  ...          1859\n",
              "533                                  Smoking Cessation  ...          1780\n",
              "349                                           Migraine  ...          1694\n",
              "127                                       Constipation  ...          1595\n",
              "350                                Migraine Prevention  ...          1413\n",
              "196                               Erectile Dysfunction  ...          1086\n",
              "402                                  Opiate Dependence  ...          1079\n",
              "359                                 Multiple Sclerosis  ...           698\n",
              "265                                      Hyperhidrosis  ...           677\n",
              "241                                        Hepatitis C  ...           656\n",
              "227                                      HIV Infection  ...           615\n",
              "489                                          Psoriasis  ...           598\n",
              "501                             Restless Legs Syndrome  ...           565\n",
              "280                                 Hypogonadism, Male  ...           502\n",
              "398                             Onychomycosis, Toenail  ...           396\n",
              "16                                  Alcohol Dependence  ...           388\n",
              "295                                          Influenza  ...           350\n",
              "84                                        Breast Cance  ...           272\n",
              "355                                    Motion Sickness  ...           203\n",
              "627                                      mance Anxiety  ...           187\n",
              "478  Prevention of Thromboembolism in Atrial Fibril...  ...           160\n",
              "224                                               Gout  ...           105\n",
              "261                              Human Papilloma Virus  ...           102\n",
              "591                               Urinary Tract Stones  ...           101\n",
              "388                          Non-Small Cell Lung Cance  ...            94\n",
              "111                       Chronic Myelogenous Leukemia  ...            89\n",
              "22                                            Alopecia  ...            89\n",
              "573                                Tourette's Syndrome  ...            68\n",
              "230                                          Head Lice  ...            67\n",
              "468                                 Precocious Puberty  ...            25\n",
              "308                       Ischemic Stroke, Prophylaxis  ...            22\n",
              "387                             Non-Hodgkin's Lymphoma  ...            20\n",
              "\n",
              "[40 rows x 6 columns]"
            ]
          },
          "metadata": {
            "tags": []
          },
          "execution_count": 92
        }
      ]
    },
    {
      "cell_type": "markdown",
      "metadata": {
        "id": "D0z1q_kKhDmg",
        "colab_type": "text"
      },
      "source": [
        "The above table shows that, with the training of as low as **20**, the model is able to correctly predict a particular class. \n",
        "\n",
        "In this case the class was **Non-Hodgkin's Lymphoma**"
      ]
    },
    {
      "cell_type": "code",
      "metadata": {
        "id": "OHOGtXUKiAOo",
        "colab_type": "code",
        "colab": {
          "base_uri": "https://localhost:8080/",
          "height": 241
        },
        "outputId": "3daa2a9a-4afc-4c0d-db61-d13a0b20fbdd"
      },
      "source": [
        "df_bad_accuracy = df_clas_report[df_clas_report['recall'] < 0.85]\n",
        "df_bad_accuracy['training_examples'] = \"\"\n",
        "#df_good_accuracy.head()\n",
        "for item in df_bad_accuracy['condition']:\n",
        "    review_count = df_train[df_train['condition'] == item]['review'].count()\n",
        "    df_bad_accuracy.loc[df_bad_accuracy['condition'] == item, 'training_examples'] = review_count\n"
      ],
      "execution_count": 94,
      "outputs": [
        {
          "output_type": "stream",
          "text": [
            "/usr/local/lib/python3.6/dist-packages/ipykernel_launcher.py:2: SettingWithCopyWarning: \n",
            "A value is trying to be set on a copy of a slice from a DataFrame.\n",
            "Try using .loc[row_indexer,col_indexer] = value instead\n",
            "\n",
            "See the caveats in the documentation: http://pandas.pydata.org/pandas-docs/stable/user_guide/indexing.html#returning-a-view-versus-a-copy\n",
            "  \n",
            "/usr/local/lib/python3.6/dist-packages/pandas/core/indexing.py:494: SettingWithCopyWarning: \n",
            "A value is trying to be set on a copy of a slice from a DataFrame.\n",
            "Try using .loc[row_indexer,col_indexer] = value instead\n",
            "\n",
            "See the caveats in the documentation: http://pandas.pydata.org/pandas-docs/stable/user_guide/indexing.html#returning-a-view-versus-a-copy\n",
            "  self.obj[item] = s\n"
          ],
          "name": "stderr"
        }
      ]
    },
    {
      "cell_type": "code",
      "metadata": {
        "id": "aXqWmBJWiIOg",
        "colab_type": "code",
        "colab": {}
      },
      "source": [
        "df_bad_accuracy = df_bad_accuracy[df_bad_accuracy['training_examples'] >= 20]\n",
        "df_bad_accuracy = df_bad_accuracy.sort_values(by='training_examples', ascending=False)"
      ],
      "execution_count": 0,
      "outputs": []
    },
    {
      "cell_type": "code",
      "metadata": {
        "id": "VT2TDylNiiqI",
        "colab_type": "code",
        "colab": {
          "base_uri": "https://localhost:8080/",
          "height": 419
        },
        "outputId": "8ba8340a-d75d-410a-9bbb-46c60161108c"
      },
      "source": [
        "df_bad_accuracy.head(300)"
      ],
      "execution_count": 101,
      "outputs": [
        {
          "output_type": "execute_result",
          "data": {
            "text/html": [
              "<div>\n",
              "<style scoped>\n",
              "    .dataframe tbody tr th:only-of-type {\n",
              "        vertical-align: middle;\n",
              "    }\n",
              "\n",
              "    .dataframe tbody tr th {\n",
              "        vertical-align: top;\n",
              "    }\n",
              "\n",
              "    .dataframe thead th {\n",
              "        text-align: right;\n",
              "    }\n",
              "</style>\n",
              "<table border=\"1\" class=\"dataframe\">\n",
              "  <thead>\n",
              "    <tr style=\"text-align: right;\">\n",
              "      <th></th>\n",
              "      <th>condition</th>\n",
              "      <th>precision</th>\n",
              "      <th>recall</th>\n",
              "      <th>f1-score</th>\n",
              "      <th>support</th>\n",
              "      <th>training_examples</th>\n",
              "    </tr>\n",
              "  </thead>\n",
              "  <tbody>\n",
              "    <tr>\n",
              "      <th>153</th>\n",
              "      <td>Depression</td>\n",
              "      <td>0.61</td>\n",
              "      <td>0.80</td>\n",
              "      <td>0.70</td>\n",
              "      <td>3095</td>\n",
              "      <td>9069</td>\n",
              "    </tr>\n",
              "    <tr>\n",
              "      <th>422</th>\n",
              "      <td>Pain</td>\n",
              "      <td>0.59</td>\n",
              "      <td>0.83</td>\n",
              "      <td>0.69</td>\n",
              "      <td>2100</td>\n",
              "      <td>6145</td>\n",
              "    </tr>\n",
              "    <tr>\n",
              "      <th>42</th>\n",
              "      <td>Anxiety</td>\n",
              "      <td>0.60</td>\n",
              "      <td>0.73</td>\n",
              "      <td>0.66</td>\n",
              "      <td>1908</td>\n",
              "      <td>5904</td>\n",
              "    </tr>\n",
              "    <tr>\n",
              "      <th>74</th>\n",
              "      <td>Bipolar Disorde</td>\n",
              "      <td>0.72</td>\n",
              "      <td>0.78</td>\n",
              "      <td>0.75</td>\n",
              "      <td>1380</td>\n",
              "      <td>4224</td>\n",
              "    </tr>\n",
              "    <tr>\n",
              "      <th>609</th>\n",
              "      <td>Weight Loss</td>\n",
              "      <td>0.68</td>\n",
              "      <td>0.72</td>\n",
              "      <td>0.70</td>\n",
              "      <td>1248</td>\n",
              "      <td>3609</td>\n",
              "    </tr>\n",
              "    <tr>\n",
              "      <th>...</th>\n",
              "      <td>...</td>\n",
              "      <td>...</td>\n",
              "      <td>...</td>\n",
              "      <td>...</td>\n",
              "      <td>...</td>\n",
              "      <td>...</td>\n",
              "    </tr>\n",
              "    <tr>\n",
              "      <th>53</th>\n",
              "      <td>Atrial Flutte</td>\n",
              "      <td>0.00</td>\n",
              "      <td>0.00</td>\n",
              "      <td>0.00</td>\n",
              "      <td>8</td>\n",
              "      <td>21</td>\n",
              "    </tr>\n",
              "    <tr>\n",
              "      <th>343</th>\n",
              "      <td>Meniere's Disease</td>\n",
              "      <td>0.00</td>\n",
              "      <td>0.00</td>\n",
              "      <td>0.00</td>\n",
              "      <td>8</td>\n",
              "      <td>20</td>\n",
              "    </tr>\n",
              "    <tr>\n",
              "      <th>37</th>\n",
              "      <td>Angina Pectoris Prophylaxis</td>\n",
              "      <td>0.00</td>\n",
              "      <td>0.00</td>\n",
              "      <td>0.00</td>\n",
              "      <td>9</td>\n",
              "      <td>20</td>\n",
              "    </tr>\n",
              "    <tr>\n",
              "      <th>321</th>\n",
              "      <td>Lennox-Gastaut Syndrome</td>\n",
              "      <td>0.00</td>\n",
              "      <td>0.00</td>\n",
              "      <td>0.00</td>\n",
              "      <td>5</td>\n",
              "      <td>20</td>\n",
              "    </tr>\n",
              "    <tr>\n",
              "      <th>477</th>\n",
              "      <td>Prevention of Osteoporosis</td>\n",
              "      <td>0.00</td>\n",
              "      <td>0.00</td>\n",
              "      <td>0.00</td>\n",
              "      <td>11</td>\n",
              "      <td>20</td>\n",
              "    </tr>\n",
              "  </tbody>\n",
              "</table>\n",
              "<p>278 rows × 6 columns</p>\n",
              "</div>"
            ],
            "text/plain": [
              "                       condition  precision  ...  support  training_examples\n",
              "153                   Depression       0.61  ...     3095               9069\n",
              "422                         Pain       0.59  ...     2100               6145\n",
              "42                       Anxiety       0.60  ...     1908               5904\n",
              "74               Bipolar Disorde       0.72  ...     1380               4224\n",
              "609                  Weight Loss       0.68  ...     1248               3609\n",
              "..                           ...        ...  ...      ...                ...\n",
              "53                 Atrial Flutte       0.00  ...        8                 21\n",
              "343            Meniere's Disease       0.00  ...        8                 20\n",
              "37   Angina Pectoris Prophylaxis       0.00  ...        9                 20\n",
              "321      Lennox-Gastaut Syndrome       0.00  ...        5                 20\n",
              "477   Prevention of Osteoporosis       0.00  ...       11                 20\n",
              "\n",
              "[278 rows x 6 columns]"
            ]
          },
          "metadata": {
            "tags": []
          },
          "execution_count": 101
        }
      ]
    }
  ]
}