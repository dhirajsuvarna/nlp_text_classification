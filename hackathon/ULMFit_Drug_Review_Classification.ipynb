{
  "nbformat": 4,
  "nbformat_minor": 0,
  "metadata": {
    "colab": {
      "name": "ULMFit-Drug-Review-Classification.ipynb",
      "provenance": [],
      "collapsed_sections": [],
      "toc_visible": true,
      "include_colab_link": true
    },
    "kernelspec": {
      "name": "python3",
      "display_name": "Python 3"
    },
    "accelerator": "GPU"
  },
  "cells": [
    {
      "cell_type": "markdown",
      "metadata": {
        "id": "view-in-github",
        "colab_type": "text"
      },
      "source": [
        "<a href=\"https://colab.research.google.com/github/dhirajsuvarna/nlp_text_classification/blob/master/hackathon/ULMFit_Drug_Review_Classification.ipynb\" target=\"_parent\"><img src=\"https://colab.research.google.com/assets/colab-badge.svg\" alt=\"Open In Colab\"/></a>"
      ]
    },
    {
      "cell_type": "markdown",
      "metadata": {
        "id": "lgvmVd0Y9FdT",
        "colab_type": "text"
      },
      "source": [
        "#Loading DataSet from Google Drive"
      ]
    },
    {
      "cell_type": "code",
      "metadata": {
        "id": "N7RR4NYKv6Fm",
        "colab_type": "code",
        "outputId": "0b18338e-28c9-4bb0-8616-fff4b8d302d9",
        "colab": {
          "base_uri": "https://localhost:8080/",
          "height": 122
        }
      },
      "source": [
        "#Mount Google Drive\n",
        "from google.colab import drive\n",
        "drive.mount('/content/drive')"
      ],
      "execution_count": 1,
      "outputs": [
        {
          "output_type": "stream",
          "text": [
            "Go to this URL in a browser: https://accounts.google.com/o/oauth2/auth?client_id=947318989803-6bn6qk8qdgf4n4g3pfee6491hc0brc4i.apps.googleusercontent.com&redirect_uri=urn%3Aietf%3Awg%3Aoauth%3A2.0%3Aoob&scope=email%20https%3A%2F%2Fwww.googleapis.com%2Fauth%2Fdocs.test%20https%3A%2F%2Fwww.googleapis.com%2Fauth%2Fdrive%20https%3A%2F%2Fwww.googleapis.com%2Fauth%2Fdrive.photos.readonly%20https%3A%2F%2Fwww.googleapis.com%2Fauth%2Fpeopleapi.readonly&response_type=code\n",
            "\n",
            "Enter your authorization code:\n",
            "··········\n",
            "Mounted at /content/drive\n"
          ],
          "name": "stdout"
        }
      ]
    },
    {
      "cell_type": "code",
      "metadata": {
        "id": "rxTHJ7mBxY2Q",
        "colab_type": "code",
        "colab": {}
      },
      "source": [
        "from fastai.text import * \n",
        "\n",
        "#Load the Traning and Validation Dataset\n",
        "df_train = pd.read_csv('/content/drive/My Drive/Projects/AnalyticsHackathon/dataset/drugsComTrain_raw.csv')\n",
        "df_valid = pd.read_csv('/content/drive/My Drive/Projects/AnalyticsHackathon/dataset/drugsComTest_raw.csv')"
      ],
      "execution_count": 0,
      "outputs": []
    },
    {
      "cell_type": "markdown",
      "metadata": {
        "id": "scwbgAtfauob",
        "colab_type": "text"
      },
      "source": [
        "##Removing Empty Cells and Invalid Cells\n",
        "\n",
        "\n",
        "\n"
      ]
    },
    {
      "cell_type": "code",
      "metadata": {
        "id": "SI73jtaGFdwI",
        "colab_type": "code",
        "outputId": "a7c4d5a8-3382-46c5-b9ac-8fdf9c87d920",
        "colab": {
          "base_uri": "https://localhost:8080/",
          "height": 153
        }
      },
      "source": [
        "df_train = df_train[['condition', 'review']]\n",
        "df_valid = df_valid[['condition', 'review']]\n",
        "print (f\"#Train Examples: {df_train.shape}\")\n",
        "print (f\"#Validation Examples: {df_valid.shape}\")\n",
        "\n",
        "#print(df_train[df_train['condition'].isna()])\n",
        "print(f\"#NaN in Train: {df_train[df_train['condition'].isna()].shape}\")\n",
        "print(f\"#NaN in Validation: {df_valid[df_valid['condition'].isna()].shape}\")\n",
        "\n",
        "#Reomve the rows with empty(nan) 'condition' or empty(nan) 'review'\n",
        "print(\"Removing rows with nan values...\")\n",
        "df_train = df_train.dropna()\n",
        "df_valid = df_valid.dropna()\n",
        "\n",
        "#print(df_train[df_train['condition'].str.contains('users found this comment helpful')])\n",
        "print(f\"#'users found this comment useful' in Train: {df_train[df_train['condition'].str.contains('users found this comment helpful')].shape}\")\n",
        "print(f\"#'users found this comment useful'in Validation: {df_valid[df_valid['condition'].str.contains('users found this comment helpful')].shape}\")\n",
        "\n",
        "#Remove the rows where 'condition' is \"users found this comment helpful\"\n",
        "print(\"Removing the rows where condition is 'users found this comment helpful'\")\n",
        "df_train = df_train[~df_train['condition'].str.contains('users found this comment helpful')]\n",
        "df_valid = df_valid[~df_valid['condition'].str.contains('users found this comment helpful')]\n",
        "\n"
      ],
      "execution_count": 3,
      "outputs": [
        {
          "output_type": "stream",
          "text": [
            "#Train Examples: (161297, 2)\n",
            "#Validation Examples: (53766, 2)\n",
            "#NaN in Train: (899, 2)\n",
            "#NaN in Validation: (295, 2)\n",
            "Removing rows with nan values...\n",
            "#'users found this comment useful' in Train: (900, 2)\n",
            "#'users found this comment useful'in Validation: (271, 2)\n",
            "Removing the rows where condition is 'users found this comment helpful'\n"
          ],
          "name": "stdout"
        }
      ]
    },
    {
      "cell_type": "markdown",
      "metadata": {
        "id": "qrQZioKFalyy",
        "colab_type": "text"
      },
      "source": [
        "##Making the Traning Set Smaller for Quick Experiments"
      ]
    },
    {
      "cell_type": "code",
      "metadata": {
        "id": "s4_ZHp6UhtR1",
        "colab_type": "code",
        "colab": {}
      },
      "source": [
        "# #Creating a smaller version of dataset for quick setup of framework\n",
        "# df_train = df_train.sample(frac=1).reset_index(drop=True)\n",
        "# df_valid = df_valid.sample(frac=1).reset_index(drop=True)\n",
        "\n",
        "# df_train = df_train[:1000]\n",
        "# df_valid = df_valid[:200]\n",
        "# print(df_train.shape)\n",
        "# print(df_valid.shape)\n"
      ],
      "execution_count": 0,
      "outputs": []
    },
    {
      "cell_type": "markdown",
      "metadata": {
        "id": "cplWwIu5ackf",
        "colab_type": "text"
      },
      "source": [
        "##Remove Mismatch of Classes between Validation and Training Set"
      ]
    },
    {
      "cell_type": "code",
      "metadata": {
        "id": "ea_DqJhzptPh",
        "colab_type": "code",
        "outputId": "b123517b-6232-4f94-f80f-61e6069f26fc",
        "colab": {
          "base_uri": "https://localhost:8080/",
          "height": 102
        }
      },
      "source": [
        "#Number of classes present in the training and validation set\n",
        "targets_train = df_train['condition'].unique()\n",
        "targets_valid = df_valid['condition'].unique()\n",
        "print(f\"#Target Classes in Train: {len(targets_train)}\")\n",
        "print(f\"#Target Classes in Validation: {len(targets_valid)}\")\n",
        "\n",
        "targets_only_in_valid = [item for item in targets_valid if item not in targets_train]\n",
        "print(f\"#Targets in Validation but not in Training: {len(targets_only_in_valid)}\")\n",
        "\n",
        "targets_only_in_train = [item for item in targets_train if item not in targets_valid]\n",
        "print(f\"#Targets in Training but not in Validation: {len(targets_only_in_train)}\")\n",
        "\n",
        "#Remove the items from the training classes of which are not present in the training\n",
        "print(f\"#Invalid Validation examples: {df_valid[df_valid['condition'].isin(targets_only_in_valid)].shape}\")\n",
        "\n",
        "df_valid = df_valid[~df_valid['condition'].isin(targets_only_in_valid)]\n"
      ],
      "execution_count": 4,
      "outputs": [
        {
          "output_type": "stream",
          "text": [
            "#Target Classes in Train: 811\n",
            "#Target Classes in Validation: 664\n",
            "#Targets in Validation but not in Training: 25\n",
            "#Targets in Training but not in Validation: 172\n",
            "#Invalid Validation examples: (39, 2)\n"
          ],
          "name": "stdout"
        }
      ]
    },
    {
      "cell_type": "markdown",
      "metadata": {
        "id": "KlAVKnIEbOSd",
        "colab_type": "text"
      },
      "source": [
        "##Cleaning up Review Comments"
      ]
    },
    {
      "cell_type": "code",
      "metadata": {
        "id": "oBNsLJF6hfIL",
        "colab_type": "code",
        "colab": {}
      },
      "source": [
        "#Perform basic cleaning operation on the review comments \n",
        "#mainly to convert the HTML Code Characters to the actual charcters\n",
        "import html\n",
        "\n",
        "# #SAVE TO CSV to see the changes with ur naked eyes\n",
        "# df_train['clean_review'] = df_train['review'].apply(html.unescape)\n",
        "# df_valid['clean_review'] = df_valid['review'].apply(html.unescape)\n",
        "# df_train.to_csv('./drugsComTrainClean_raw.csv')\n",
        "# df_train.to_csv('./drugsComTestClean_raw.csv')\n",
        "\n",
        "df_train['review'] = df_train['review'].apply(html.unescape)\n",
        "df_valid['review'] = df_valid['review'].apply(html.unescape)\n",
        "\n",
        "#print(df_train[df_train['condition'] == \"Depression\"])\n"
      ],
      "execution_count": 0,
      "outputs": []
    },
    {
      "cell_type": "markdown",
      "metadata": {
        "id": "qS_clfqP6hmf",
        "colab_type": "text"
      },
      "source": [
        "##Summary of the Data"
      ]
    },
    {
      "cell_type": "code",
      "metadata": {
        "id": "-o4dvoCRgSP_",
        "colab_type": "code",
        "outputId": "0e656fe1-a671-4aa0-c22c-6390bac430cb",
        "colab": {
          "base_uri": "https://localhost:8080/",
          "height": 85
        }
      },
      "source": [
        "print (f\"Shape of Cleaned up Train Set: {df_train.shape}\")\n",
        "print (f\"Shape of Cleaned up  Validation Set: {df_valid.shape}\")\n",
        "\n",
        "#Number of classes present in the training and validation set\n",
        "targets_train = df_train['condition'].unique()\n",
        "targets_valid = df_valid['condition'].unique()\n",
        "print(f\"#Target Classes in Train: {len(targets_train)}\")\n",
        "print(f\"#Target Classes in Validation: {len(targets_valid)}\")\n"
      ],
      "execution_count": 6,
      "outputs": [
        {
          "output_type": "stream",
          "text": [
            "Shape of Cleaned up Train Set: (159498, 2)\n",
            "Shape of Cleaned up  Validation Set: (53161, 2)\n",
            "#Target Classes in Train: 811\n",
            "#Target Classes in Validation: 639\n"
          ],
          "name": "stdout"
        }
      ]
    },
    {
      "cell_type": "markdown",
      "metadata": {
        "id": "TIwy2ylYbbKQ",
        "colab_type": "text"
      },
      "source": [
        "##Visualizing the Data\n",
        "(not so visual for now)"
      ]
    },
    {
      "cell_type": "code",
      "metadata": {
        "id": "xwBCv9p1vPqv",
        "colab_type": "code",
        "outputId": "6f815419-bf93-4a60-9478-22f09772829b",
        "colab": {
          "base_uri": "https://localhost:8080/",
          "height": 425
        }
      },
      "source": [
        "#Visualize the dataspread for each of the classes \n",
        "#print(df_train.groupby(['condition']).size().reset_index(name='count').sort_values(['count'], ascending=False))\n",
        "print(df_train['condition'].value_counts())\n",
        "print(df_valid['condition'].value_counts())"
      ],
      "execution_count": 7,
      "outputs": [
        {
          "output_type": "stream",
          "text": [
            "Birth Control           28788\n",
            "Depression               9069\n",
            "Pain                     6145\n",
            "Anxiety                  5904\n",
            "Acne                     5588\n",
            "                        ...  \n",
            "Rabies Prophylaxis          1\n",
            "Cyclitis                    1\n",
            "Tuberculosis, Active        1\n",
            "Schilling Test              1\n",
            "Wilson's Disease            1\n",
            "Name: condition, Length: 811, dtype: int64\n",
            "Birth Control                                 9648\n",
            "Depression                                    3095\n",
            "Pain                                          2100\n",
            "Anxiety                                       1908\n",
            "Acne                                          1847\n",
            "                                              ... \n",
            "Esophageal Variceal Hemorrhage Prophylaxis       1\n",
            "Anthrax                                          1\n",
            "Pudendal Neuralgia                               1\n",
            "Squamous Cell Carcinoma                          1\n",
            "Herpes Simplex Dendritic Keratitis               1\n",
            "Name: condition, Length: 639, dtype: int64\n"
          ],
          "name": "stdout"
        }
      ]
    },
    {
      "cell_type": "markdown",
      "metadata": {
        "id": "Wdeu9Jk-bBec",
        "colab_type": "text"
      },
      "source": [
        "##Start ULMFit Stuff"
      ]
    },
    {
      "cell_type": "code",
      "metadata": {
        "id": "8ieLnFZU_pWM",
        "colab_type": "code",
        "colab": {}
      },
      "source": [
        "#Prepare for training the language model\n",
        "#todo: i have not specified batch size(bs)\n",
        "data_lm = TextLMDataBunch.from_df(path='/', train_df=df_train, valid_df=df_valid)\n",
        "learn_lm = language_model_learner(data_lm, AWD_LSTM, drop_mult=0.5)"
      ],
      "execution_count": 0,
      "outputs": []
    },
    {
      "cell_type": "code",
      "metadata": {
        "id": "Ek7oRAXf0_21",
        "colab_type": "code",
        "colab": {
          "base_uri": "https://localhost:8080/",
          "height": 296
        },
        "outputId": "11aba4ed-c345-4835-fd34-6ccb741a71c3"
      },
      "source": [
        "#find the learning rate \n",
        "learn_lm.lr_find(start_lr=1e-8, end_lr=1e2)\n",
        "learn_lm.recorder.plot()"
      ],
      "execution_count": 9,
      "outputs": [
        {
          "output_type": "display_data",
          "data": {
            "text/html": [
              ""
            ],
            "text/plain": [
              "<IPython.core.display.HTML object>"
            ]
          },
          "metadata": {
            "tags": []
          }
        },
        {
          "output_type": "stream",
          "text": [
            "LR Finder is complete, type {learner_name}.recorder.plot() to see the graph.\n"
          ],
          "name": "stdout"
        },
        {
          "output_type": "display_data",
          "data": {
            "image/png": "[encoded data removed]",
            "text/plain": [
              "<Figure size 432x288 with 1 Axes>"
            ]
          },
          "metadata": {
            "tags": []
          }
        }
      ]
    },
    {
      "cell_type": "code",
      "metadata": {
        "id": "0c_EqdfMDJbT",
        "colab_type": "code",
        "colab": {
          "base_uri": "https://localhost:8080/",
          "height": 205
        },
        "outputId": "b4c47f1b-e8e1-41ff-e817-69551b9efa88"
      },
      "source": [
        "#The above plot tells us that loss is minimum at the learning rate of \n",
        "#approx 1e0, so we need to choose the learning rate as one level before\n",
        "\n",
        "#Start training the language model\n",
        "learn_lm.fit_one_cycle(1, 1e-3, moms=(0.8, 0.7))\n",
        "learn_lm.unfreeze()\n",
        "learn_lm.fit_one_cycle(3, 1e-3, moms=(0.8, 0.7))\n"
      ],
      "execution_count": 13,
      "outputs": [
        {
          "output_type": "display_data",
          "data": {
            "text/html": [
              "<table border=\"1\" class=\"dataframe\">\n",
              "  <thead>\n",
              "    <tr style=\"text-align: left;\">\n",
              "      <th>epoch</th>\n",
              "      <th>train_loss</th>\n",
              "      <th>valid_loss</th>\n",
              "      <th>accuracy</th>\n",
              "      <th>time</th>\n",
              "    </tr>\n",
              "  </thead>\n",
              "  <tbody>\n",
              "    <tr>\n",
              "      <td>0</td>\n",
              "      <td>3.696531</td>\n",
              "      <td>3.532842</td>\n",
              "      <td>0.306279</td>\n",
              "      <td>11:26</td>\n",
              "    </tr>\n",
              "  </tbody>\n",
              "</table>"
            ],
            "text/plain": [
              "<IPython.core.display.HTML object>"
            ]
          },
          "metadata": {
            "tags": []
          }
        },
        {
          "output_type": "display_data",
          "data": {
            "text/html": [
              "<table border=\"1\" class=\"dataframe\">\n",
              "  <thead>\n",
              "    <tr style=\"text-align: left;\">\n",
              "      <th>epoch</th>\n",
              "      <th>train_loss</th>\n",
              "      <th>valid_loss</th>\n",
              "      <th>accuracy</th>\n",
              "      <th>time</th>\n",
              "    </tr>\n",
              "  </thead>\n",
              "  <tbody>\n",
              "    <tr>\n",
              "      <td>0</td>\n",
              "      <td>3.248594</td>\n",
              "      <td>3.137897</td>\n",
              "      <td>0.355254</td>\n",
              "      <td>13:12</td>\n",
              "    </tr>\n",
              "    <tr>\n",
              "      <td>1</td>\n",
              "      <td>3.091708</td>\n",
              "      <td>2.990252</td>\n",
              "      <td>0.374091</td>\n",
              "      <td>13:11</td>\n",
              "    </tr>\n",
              "    <tr>\n",
              "      <td>2</td>\n",
              "      <td>2.971446</td>\n",
              "      <td>2.944295</td>\n",
              "      <td>0.380513</td>\n",
              "      <td>13:08</td>\n",
              "    </tr>\n",
              "  </tbody>\n",
              "</table>"
            ],
            "text/plain": [
              "<IPython.core.display.HTML object>"
            ]
          },
          "metadata": {
            "tags": []
          }
        }
      ]
    },
    {
      "cell_type": "code",
      "metadata": {
        "id": "HWZh5kpnF2Nt",
        "colab_type": "code",
        "colab": {}
      },
      "source": [
        "#Plot the curves for language model - if necessary\n"
      ],
      "execution_count": 0,
      "outputs": []
    },
    {
      "cell_type": "code",
      "metadata": {
        "id": "N4sV4tIkGSCq",
        "colab_type": "code",
        "colab": {
          "base_uri": "https://localhost:8080/",
          "height": 34
        },
        "outputId": "b3b9ca09-e548-49ed-fd8a-21f82992647f"
      },
      "source": [
        "#See how the language model is doing on the statement of medical review \n",
        "#write some string\n",
        "medical_review = \"I have been continuing this medicine for the last couple of months but\"\n",
        "learn_lm.predict(medical_review, n_words=10)"
      ],
      "execution_count": 15,
      "outputs": [
        {
          "output_type": "execute_result",
          "data": {
            "text/plain": [
              "'I have been continuing this medicine for the last couple of months but up until last week i was always waking up in'"
            ]
          },
          "metadata": {
            "tags": []
          },
          "execution_count": 15
        }
      ]
    },
    {
      "cell_type": "code",
      "metadata": {
        "id": "1qxs7mFGGmfI",
        "colab_type": "code",
        "colab": {}
      },
      "source": [
        "#fine tuned language model is called as encoder - we need to save it\n",
        "learn_lm.save_encoder('ft_enc')"
      ],
      "execution_count": 0,
      "outputs": []
    },
    {
      "cell_type": "code",
      "metadata": {
        "id": "h0Sl_y7YGM_q",
        "colab_type": "code",
        "colab": {}
      },
      "source": [
        "#Prepare for training the classifier\n",
        "data_clas = TextClasDataBunch.from_df(path='/', train_df=df_train, valid_df=df_valid, vocab=data_lm.train_ds.vocab, min_freq=1, bs=32)\n",
        "\n",
        "learn_clas = text_classifier_learner(data_clas, AWD_LSTM, drop_mult=0.5).to_fp16()\n",
        "learn_clas.load_encoder('ft_enc')\n",
        "learn_clas.freeze()\n",
        "\n",
        "\n"
      ],
      "execution_count": 0,
      "outputs": []
    },
    {
      "cell_type": "code",
      "metadata": {
        "id": "lmrw3W-eKcJL",
        "colab_type": "code",
        "colab": {
          "base_uri": "https://localhost:8080/",
          "height": 296
        },
        "outputId": "bc38d973-5e95-41dc-90c5-b7ecccdecc57"
      },
      "source": [
        "#find learning rate before starting the training of classifier\n",
        "learn_clas.lr_find(start_lr=1e-8, end_lr=1e2)\n",
        "learn_clas.recorder.plot()"
      ],
      "execution_count": 19,
      "outputs": [
        {
          "output_type": "display_data",
          "data": {
            "text/html": [
              ""
            ],
            "text/plain": [
              "<IPython.core.display.HTML object>"
            ]
          },
          "metadata": {
            "tags": []
          }
        },
        {
          "output_type": "stream",
          "text": [
            "LR Finder is complete, type {learner_name}.recorder.plot() to see the graph.\n"
          ],
          "name": "stdout"
        },
        {
          "output_type": "display_data",
          "data": {
            "image/png": "[encoded data removed]",
            "text/plain": [
              "<Figure size 432x288 with 1 Axes>"
            ]
          },
          "metadata": {
            "tags": []
          }
        }
      ]
    },
    {
      "cell_type": "code",
      "metadata": {
        "id": "EC6f1gHrHc4h",
        "colab_type": "code",
        "colab": {
          "base_uri": "https://localhost:8080/",
          "height": 80
        },
        "outputId": "247947c7-2fbb-4780-eea5-e2f4a93f59c4"
      },
      "source": [
        "#Start Training of the classifier \n",
        "# For training the classifier, \"gradual unfreezing\" should be applied to avoid \"catastrophic forgetting\"\n",
        "# as explained in section 3.3 of Howard and Ruder's paper - https://arxiv.org/pdf/1801.06146.pdf \n",
        "\n",
        "learn_clas.freeze()\n",
        "learn_clas.fit_one_cycle(1, 1e-3, moms=(0.8, 0.7))\n"
      ],
      "execution_count": 21,
      "outputs": [
        {
          "output_type": "display_data",
          "data": {
            "text/html": [
              "<table border=\"1\" class=\"dataframe\">\n",
              "  <thead>\n",
              "    <tr style=\"text-align: left;\">\n",
              "      <th>epoch</th>\n",
              "      <th>train_loss</th>\n",
              "      <th>valid_loss</th>\n",
              "      <th>accuracy</th>\n",
              "      <th>time</th>\n",
              "    </tr>\n",
              "  </thead>\n",
              "  <tbody>\n",
              "    <tr>\n",
              "      <td>0</td>\n",
              "      <td>1.907555</td>\n",
              "      <td>1.668816</td>\n",
              "      <td>0.619420</td>\n",
              "      <td>04:24</td>\n",
              "    </tr>\n",
              "  </tbody>\n",
              "</table>"
            ],
            "text/plain": [
              "<IPython.core.display.HTML object>"
            ]
          },
          "metadata": {
            "tags": []
          }
        }
      ]
    },
    {
      "cell_type": "code",
      "metadata": {
        "id": "_McHZvL2zdwU",
        "colab_type": "code",
        "colab": {
          "base_uri": "https://localhost:8080/",
          "height": 80
        },
        "outputId": "5f3484a5-7e2c-432b-a71d-fb08801ad1bc"
      },
      "source": [
        "learn_clas.freeze_to(-2)\n",
        "learn_clas.fit_one_cycle(1, slice(1e-4,1e-2), moms=(0.8,0.7))\n"
      ],
      "execution_count": 22,
      "outputs": [
        {
          "output_type": "display_data",
          "data": {
            "text/html": [
              "<table border=\"1\" class=\"dataframe\">\n",
              "  <thead>\n",
              "    <tr style=\"text-align: left;\">\n",
              "      <th>epoch</th>\n",
              "      <th>train_loss</th>\n",
              "      <th>valid_loss</th>\n",
              "      <th>accuracy</th>\n",
              "      <th>time</th>\n",
              "    </tr>\n",
              "  </thead>\n",
              "  <tbody>\n",
              "    <tr>\n",
              "      <td>0</td>\n",
              "      <td>1.596247</td>\n",
              "      <td>1.429315</td>\n",
              "      <td>0.661067</td>\n",
              "      <td>05:28</td>\n",
              "    </tr>\n",
              "  </tbody>\n",
              "</table>"
            ],
            "text/plain": [
              "<IPython.core.display.HTML object>"
            ]
          },
          "metadata": {
            "tags": []
          }
        }
      ]
    },
    {
      "cell_type": "code",
      "metadata": {
        "id": "88NsMggvzhZc",
        "colab_type": "code",
        "colab": {
          "base_uri": "https://localhost:8080/",
          "height": 80
        },
        "outputId": "0d2cf934-c8c4-468e-e895-049cfca2b790"
      },
      "source": [
        "learn_clas.freeze_to(-3)\n",
        "learn_clas.fit_one_cycle(1, slice(1e-5,5e-3), moms=(0.8,0.7))\n"
      ],
      "execution_count": 23,
      "outputs": [
        {
          "output_type": "display_data",
          "data": {
            "text/html": [
              "<table border=\"1\" class=\"dataframe\">\n",
              "  <thead>\n",
              "    <tr style=\"text-align: left;\">\n",
              "      <th>epoch</th>\n",
              "      <th>train_loss</th>\n",
              "      <th>valid_loss</th>\n",
              "      <th>accuracy</th>\n",
              "      <th>time</th>\n",
              "    </tr>\n",
              "  </thead>\n",
              "  <tbody>\n",
              "    <tr>\n",
              "      <td>0</td>\n",
              "      <td>1.445514</td>\n",
              "      <td>1.298997</td>\n",
              "      <td>0.689641</td>\n",
              "      <td>08:31</td>\n",
              "    </tr>\n",
              "  </tbody>\n",
              "</table>"
            ],
            "text/plain": [
              "<IPython.core.display.HTML object>"
            ]
          },
          "metadata": {
            "tags": []
          }
        }
      ]
    },
    {
      "cell_type": "code",
      "metadata": {
        "id": "WFWYfG5bzjCs",
        "colab_type": "code",
        "colab": {
          "base_uri": "https://localhost:8080/",
          "height": 173
        },
        "outputId": "0da033a8-35b4-4222-85c8-d80637695fee"
      },
      "source": [
        "learn_clas.unfreeze()\n",
        "learn_clas.fit_one_cycle(4, slice(1e-5,1e-3), moms=(0.8,0.7))"
      ],
      "execution_count": 24,
      "outputs": [
        {
          "output_type": "display_data",
          "data": {
            "text/html": [
              "<table border=\"1\" class=\"dataframe\">\n",
              "  <thead>\n",
              "    <tr style=\"text-align: left;\">\n",
              "      <th>epoch</th>\n",
              "      <th>train_loss</th>\n",
              "      <th>valid_loss</th>\n",
              "      <th>accuracy</th>\n",
              "      <th>time</th>\n",
              "    </tr>\n",
              "  </thead>\n",
              "  <tbody>\n",
              "    <tr>\n",
              "      <td>0</td>\n",
              "      <td>1.367207</td>\n",
              "      <td>1.264498</td>\n",
              "      <td>0.699366</td>\n",
              "      <td>11:56</td>\n",
              "    </tr>\n",
              "    <tr>\n",
              "      <td>1</td>\n",
              "      <td>1.387992</td>\n",
              "      <td>1.202886</td>\n",
              "      <td>0.711330</td>\n",
              "      <td>11:51</td>\n",
              "    </tr>\n",
              "    <tr>\n",
              "      <td>2</td>\n",
              "      <td>1.163390</td>\n",
              "      <td>1.165315</td>\n",
              "      <td>0.721544</td>\n",
              "      <td>11:26</td>\n",
              "    </tr>\n",
              "    <tr>\n",
              "      <td>3</td>\n",
              "      <td>1.143145</td>\n",
              "      <td>1.155358</td>\n",
              "      <td>0.725325</td>\n",
              "      <td>11:00</td>\n",
              "    </tr>\n",
              "  </tbody>\n",
              "</table>"
            ],
            "text/plain": [
              "<IPython.core.display.HTML object>"
            ]
          },
          "metadata": {
            "tags": []
          }
        }
      ]
    },
    {
      "cell_type": "code",
      "metadata": {
        "id": "GTXw5N6OiIaD",
        "colab_type": "code",
        "colab": {
          "base_uri": "https://localhost:8080/",
          "height": 111
        },
        "outputId": "98228c9b-b2c1-4be7-ea8f-0c501d62374a"
      },
      "source": [
        "learn_clas.fit_one_cycle(2, 1e-3, moms=(0.8,0.7))"
      ],
      "execution_count": 25,
      "outputs": [
        {
          "output_type": "display_data",
          "data": {
            "text/html": [
              "<table border=\"1\" class=\"dataframe\">\n",
              "  <thead>\n",
              "    <tr style=\"text-align: left;\">\n",
              "      <th>epoch</th>\n",
              "      <th>train_loss</th>\n",
              "      <th>valid_loss</th>\n",
              "      <th>accuracy</th>\n",
              "      <th>time</th>\n",
              "    </tr>\n",
              "  </thead>\n",
              "  <tbody>\n",
              "    <tr>\n",
              "      <td>0</td>\n",
              "      <td>1.494594</td>\n",
              "      <td>1.204512</td>\n",
              "      <td>0.713399</td>\n",
              "      <td>11:24</td>\n",
              "    </tr>\n",
              "    <tr>\n",
              "      <td>1</td>\n",
              "      <td>1.123442</td>\n",
              "      <td>1.065665</td>\n",
              "      <td>0.747390</td>\n",
              "      <td>11:22</td>\n",
              "    </tr>\n",
              "  </tbody>\n",
              "</table>"
            ],
            "text/plain": [
              "<IPython.core.display.HTML object>"
            ]
          },
          "metadata": {
            "tags": []
          }
        }
      ]
    },
    {
      "cell_type": "code",
      "metadata": {
        "id": "0GSexu49reyl",
        "colab_type": "code",
        "colab": {}
      },
      "source": [
        "#Export the Learned Model\n",
        "learn_clas.export('/content/drive/My Drive/Projects/AnalyticsHackathon/learned_classifer_14112019.pkl')"
      ],
      "execution_count": 0,
      "outputs": []
    },
    {
      "cell_type": "code",
      "metadata": {
        "id": "LWM_oSYHHraa",
        "colab_type": "code",
        "colab": {
          "base_uri": "https://localhost:8080/",
          "height": 279
        },
        "outputId": "2681fe72-0d92-46f4-be31-618499f80001"
      },
      "source": [
        "#Plot the curves for classifer model - should be done\n",
        "learn_clas.recorder.plot_losses()"
      ],
      "execution_count": 26,
      "outputs": [
        {
          "output_type": "display_data",
          "data": {
            "image/png": "[encoded data removed]",
            "text/plain": [
              "<Figure size 432x288 with 1 Axes>"
            ]
          },
          "metadata": {
            "tags": []
          }
        }
      ]
    },
    {
      "cell_type": "code",
      "metadata": {
        "id": "c9SwezA7jzRq",
        "colab_type": "code",
        "colab": {
          "base_uri": "https://localhost:8080/",
          "height": 699
        },
        "outputId": "72d98878-afdf-404b-c1b0-7c69663d66d7"
      },
      "source": [
        "#Show Results: Acutal and Predicted \n",
        "learn_clas.show_results(rows=10)"
      ],
      "execution_count": 27,
      "outputs": [
        {
          "output_type": "display_data",
          "data": {
            "text/html": [
              "<table border=\"1\" class=\"dataframe\">\n",
              "  <thead>\n",
              "    <tr style=\"text-align: right;\">\n",
              "      <th>text</th>\n",
              "      <th>target</th>\n",
              "      <th>prediction</th>\n",
              "    </tr>\n",
              "  </thead>\n",
              "  <tbody>\n",
              "    <tr>\n",
              "      <td>xxbos \" i do n’t find a lot of positive stories about antidepressants , or i find stories where people are taking the antidepressant the wrong way . \\r \\n \\r \\n  i wanted to share my experience . a positive one . \\r \\n \\r \\n  i ’ve had generalized anxiety disorder , xxup severe xxup ocd , and panic disorder for as long as i can</td>\n",
              "      <td>Obsessive Compulsive Disorde</td>\n",
              "      <td>Obsessive Compulsive Disorde</td>\n",
              "    </tr>\n",
              "    <tr>\n",
              "      <td>xxbos \" • \\t 19 xxmaj apr. 2016 \\r\\r \\n \\r\\r \\n  xxmaj began initial dose at xxunk hours . xxmaj felt the medicine working within a ½ hour . xxmaj was in a good mood as i had been taken off of xxmaj warfarin this date . xxmaj before drifting off to sleep , i xxunk at the clock . xxmaj it was approx . xxunk hrs .</td>\n",
              "      <td>Depression</td>\n",
              "      <td>Pain</td>\n",
              "    </tr>\n",
              "    <tr>\n",
              "      <td>xxbos \" xxmaj my personal experience with suboxone is good so far . i have been on prescribed xxmaj fentanyl xxmaj patch 25 much / 48 hrs . i have dropped to this dose over the last year . ( i also left the old patch on ) . i have been on opiates for 12 years full time prescribed . xxmaj at my highest prescription i was using 180</td>\n",
              "      <td>Opiate Dependence</td>\n",
              "      <td>Opiate Dependence</td>\n",
              "    </tr>\n",
              "    <tr>\n",
              "      <td>xxbos \" xxmaj my personal experience with suboxone is good so far . i have been on prescribed xxmaj fentanyl xxmaj patch 25 much / 48 hrs . i have dropped to this dose over the last year . ( i also left the old patch on ) . i have been on opiates for 12 years full time prescribed . xxmaj at my highest prescription i was using 180</td>\n",
              "      <td>Opiate Dependence</td>\n",
              "      <td>Opiate Dependence</td>\n",
              "    </tr>\n",
              "    <tr>\n",
              "      <td>xxbos \" xxmaj my colonoscopy was booked in for late afternoon on a xxmaj thursday . xxmaj the hospital said to stop eating anything from 1 pm on the xxmaj wednesday and recommended ( giving some detail ) a non fibre diet from xxmaj tuesday evening until xxmaj wednesday noon - avoiding dark drinks and jelly ( like blackcurrant flavour ) . xxmaj avoid red meat , sausages and pies</td>\n",
              "      <td>Bowel Preparation</td>\n",
              "      <td>Bowel Preparation</td>\n",
              "    </tr>\n",
              "    <tr>\n",
              "      <td>xxbos \" xxmaj holy xxunk xxmaj batman it worked ! xxmaj but boy it was a xxmaj journey lol for 4 days i had n't pooped ! i had already taken laxatives , stool softener , a bucket of prunes , fiber pills , other fiber pills and still no poop over the last 4 days ! xxmaj so i called friend that has xxmaj gastroparesis and asked her what</td>\n",
              "      <td>Constipation</td>\n",
              "      <td>Constipation</td>\n",
              "    </tr>\n",
              "    <tr>\n",
              "      <td>xxbos \" i just started this medicine 3 days ago and i can not express how much of an effect it has had on me already . i just graduated high school and became depressed soon after , severe anxiety where i could n't go out to eat without having to vomit . i also could n't keep focus on anything , especially when trying to talk to people ,</td>\n",
              "      <td>Depression</td>\n",
              "      <td>Anxiety</td>\n",
              "    </tr>\n",
              "    <tr>\n",
              "      <td>xxbos \" i felt compelled to write a review , as i was on topamax ( or should i say dopamax ? ! ) for about 2 years . i started this medication when i was 21 and was so desperate to find something that would actually help my on - going migraines . xxmaj personally , the side effect symptoms xxup far outweighed the benefits . i started out</td>\n",
              "      <td>Migraine Prevention</td>\n",
              "      <td>Migraine Prevention</td>\n",
              "    </tr>\n",
              "    <tr>\n",
              "      <td>xxbos \" i have dealt with ups and downs , anxiety , social anxiety , depression etc . etc . for years . xxmaj my life overall is normal and i managed the episodes but i always knew they were there and did n't like feeling that way . i am married we have children combine that with everything else and it times it was just too much . xxmaj</td>\n",
              "      <td>Social Anxiety Disorde</td>\n",
              "      <td>Social Anxiety Disorde</td>\n",
              "    </tr>\n",
              "    <tr>\n",
              "      <td>xxbos \" xxmaj yes , this medication works . xxmaj it works very well for chronic anxiety disorder and sudden onsets of severe panic attacks . xxmaj knowing what i know now , i wish with all my being it had never ever been prescribed to me , and without the absurd xxunk dozens of practitioners have portrayed . \\r\\r \\n  i 'm 32 and have been prescribed clonazopam</td>\n",
              "      <td>Anxiety</td>\n",
              "      <td>Anxiety</td>\n",
              "    </tr>\n",
              "  </tbody>\n",
              "</table>"
            ],
            "text/plain": [
              "<IPython.core.display.HTML object>"
            ]
          },
          "metadata": {
            "tags": []
          }
        }
      ]
    },
    {
      "cell_type": "code",
      "metadata": {
        "id": "z74YDcK0Hj15",
        "colab_type": "code",
        "colab": {}
      },
      "source": [
        "#Get the accuracy matrix \n",
        "predictions, targets = learn_clas.get_preds()"
      ],
      "execution_count": 0,
      "outputs": []
    },
    {
      "cell_type": "code",
      "metadata": {
        "id": "2low6mHF5yrb",
        "colab_type": "code",
        "colab": {
          "base_uri": "https://localhost:8080/",
          "height": 51
        },
        "outputId": "71bf202b-e748-417d-ee0e-03d509900a0e"
      },
      "source": [
        "from sklearn import metrics\n",
        "\n",
        "predictions_clas = np.argmax(predictions, axis = 1) \n",
        "print(predictions_clas.shape)\n",
        "print(targets.shape)\n"
      ],
      "execution_count": 29,
      "outputs": [
        {
          "output_type": "stream",
          "text": [
            "torch.Size([53161])\n",
            "torch.Size([53161])\n"
          ],
          "name": "stdout"
        }
      ]
    },
    {
      "cell_type": "code",
      "metadata": {
        "id": "mOsm8NGFjW7G",
        "colab_type": "code",
        "colab": {
          "base_uri": "https://localhost:8080/",
          "height": 170
        },
        "outputId": "4fbb6484-afe8-415b-c158-ec123f3b8832"
      },
      "source": [
        "#Generate Confusion Matrix\n",
        "confusion_matrix = metrics.confusion_matrix(targets, predictions_clas)\n",
        "print(confusion_matrix)\n",
        "\n",
        "#Export Confustion Matrix\n",
        "df_confusion_matrix = pd.DataFrame(confusion_matrix)\n",
        "df_confusion_matrix.to_csv('/content/drive/My Drive/Projects/AnalyticsHackathon/ULMFit_Drug_Review_Confusion_Matrix.csv')"
      ],
      "execution_count": 32,
      "outputs": [
        {
          "output_type": "stream",
          "text": [
            "[[1024    0    0    0 ...    0    0    0    0]\n",
            " [   1    0    0    0 ...    0    0    0    0]\n",
            " [   0    0  351    0 ...    0    0    0    0]\n",
            " [   0    0    0    0 ...    0    0    0    0]\n",
            " ...\n",
            " [   0    0    0    0 ...    0    0    0    0]\n",
            " [   0    0    0    0 ...    0    0    0    0]\n",
            " [   0    0    2    0 ...    0    0    0    0]\n",
            " [   0    0    0    0 ...    0    0    0    0]]\n"
          ],
          "name": "stdout"
        }
      ]
    },
    {
      "cell_type": "code",
      "metadata": {
        "id": "CUOT1Jbmyy9x",
        "colab_type": "code",
        "colab": {
          "base_uri": "https://localhost:8080/",
          "height": 68
        },
        "outputId": "9401438c-819b-4704-e4ce-8c84377e45aa"
      },
      "source": [
        "#From the confusion matrix, take diagnal elements\n",
        "\n",
        "diag = np.diag(df_confusion_matrix)\n",
        "correct_predictions = sum(diag)\n",
        "total_validation_examples = np.sum(df_confusion_matrix, axis=1).sum()\n",
        "pred_acc_percent = (correct_predictions/total_validation_examples) * 100\n",
        "print(f\"Sum of diagonal elements of the confusion matrix: {correct_predictions}\")\n",
        "print(f\"Total number of vaildation examples: {total_validation_examples}\")\n",
        "print(f\"Prediction Accuracy of the model: {pred_acc_percent}\")\n"
      ],
      "execution_count": 43,
      "outputs": [
        {
          "output_type": "stream",
          "text": [
            "Sum of diagonal elements of the confusion matrix: 39732\n",
            "Total number of vaildation examples: 53161\n",
            "Prediction Accuracy of the model: 74.73900039502644\n"
          ],
          "name": "stdout"
        }
      ]
    },
    {
      "cell_type": "code",
      "metadata": {
        "id": "kt55COPSDC5B",
        "colab_type": "code",
        "colab": {}
      },
      "source": [
        "target_names = learn_clas.data.classes\n",
        "print(metrics.classification_report(targets, predictions_clas, labels=target_names))\n"
      ],
      "execution_count": 0,
      "outputs": []
    }
  ]
}