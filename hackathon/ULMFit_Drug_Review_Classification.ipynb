{
  "nbformat": 4,
  "nbformat_minor": 0,
  "metadata": {
    "colab": {
      "name": "ULMFit-Drug-Review-Classification.ipynb",
      "provenance": [],
      "collapsed_sections": [],
      "toc_visible": true,
      "include_colab_link": true
    },
    "kernelspec": {
      "name": "python3",
      "display_name": "Python 3"
    },
    "accelerator": "GPU"
  },
  "cells": [
    {
      "cell_type": "markdown",
      "metadata": {
        "id": "view-in-github",
        "colab_type": "text"
      },
      "source": [
        "<a href=\"https://colab.research.google.com/github/dhirajsuvarna/nlp_text_classification/blob/master/hackathon/ULMFit_Drug_Review_Classification.ipynb\" target=\"_parent\"><img src=\"https://colab.research.google.com/assets/colab-badge.svg\" alt=\"Open In Colab\"/></a>"
      ]
    },
    {
      "cell_type": "markdown",
      "metadata": {
        "id": "lgvmVd0Y9FdT",
        "colab_type": "text"
      },
      "source": [
        "#Loading DataSet from Google Drive"
      ]
    },
    {
      "cell_type": "code",
      "metadata": {
        "id": "N7RR4NYKv6Fm",
        "colab_type": "code",
        "outputId": "b745d853-7d40-40a1-cc72-192949ea8139",
        "colab": {
          "base_uri": "https://localhost:8080/",
          "height": 122
        }
      },
      "source": [
        "#Mount Google Drive\n",
        "from google.colab import drive\n",
        "drive.mount('/content/drive')"
      ],
      "execution_count": 1,
      "outputs": [
        {
          "output_type": "stream",
          "text": [
            "Go to this URL in a browser: https://accounts.google.com/o/oauth2/auth?client_id=947318989803-6bn6qk8qdgf4n4g3pfee6491hc0brc4i.apps.googleusercontent.com&redirect_uri=urn%3aietf%3awg%3aoauth%3a2.0%3aoob&response_type=code&scope=email%20https%3a%2f%2fwww.googleapis.com%2fauth%2fdocs.test%20https%3a%2f%2fwww.googleapis.com%2fauth%2fdrive%20https%3a%2f%2fwww.googleapis.com%2fauth%2fdrive.photos.readonly%20https%3a%2f%2fwww.googleapis.com%2fauth%2fpeopleapi.readonly\n",
            "\n",
            "Enter your authorization code:\n",
            "··········\n",
            "Mounted at /content/drive\n"
          ],
          "name": "stdout"
        }
      ]
    },
    {
      "cell_type": "code",
      "metadata": {
        "id": "rxTHJ7mBxY2Q",
        "colab_type": "code",
        "colab": {}
      },
      "source": [
        "from fastai.text import * \n",
        "\n",
        "#Load the Traning and Validation Dataset\n",
        "df_train = pd.read_csv('/content/drive/My Drive/Projects/AnalyticsHackathon/dataset/drugsComTrain_raw.csv')\n",
        "df_valid = pd.read_csv('/content/drive/My Drive/Projects/AnalyticsHackathon/dataset/drugsComTest_raw.csv')"
      ],
      "execution_count": 0,
      "outputs": []
    },
    {
      "cell_type": "markdown",
      "metadata": {
        "id": "scwbgAtfauob",
        "colab_type": "text"
      },
      "source": [
        "##Removing Empty Cells and Invalid Cells\n",
        "\n",
        "\n",
        "\n"
      ]
    },
    {
      "cell_type": "code",
      "metadata": {
        "id": "SI73jtaGFdwI",
        "colab_type": "code",
        "outputId": "da8dc2d3-1467-46ba-c63c-8409c11824b5",
        "colab": {
          "base_uri": "https://localhost:8080/",
          "height": 153
        }
      },
      "source": [
        "df_train = df_train[['condition', 'review']]\n",
        "df_valid = df_valid[['condition', 'review']]\n",
        "print (f\"#Train Examples: {df_train.shape}\")\n",
        "print (f\"#Validation Examples: {df_valid.shape}\")\n",
        "\n",
        "#print(df_train[df_train['condition'].isna()])\n",
        "print(f\"#NaN in Train: {df_train[df_train['condition'].isna()].shape}\")\n",
        "print(f\"#NaN in Validation: {df_valid[df_valid['condition'].isna()].shape}\")\n",
        "\n",
        "#Reomve the rows with empty(nan) 'condition' or empty(nan) 'review'\n",
        "print(\"Removing rows with nan values...\")\n",
        "df_train = df_train.dropna()\n",
        "df_valid = df_valid.dropna()\n",
        "\n",
        "#print(df_train[df_train['condition'].str.contains('users found this comment helpful')])\n",
        "print(f\"#'users found this comment useful' in Train: {df_train[df_train['condition'].str.contains('users found this comment helpful')].shape}\")\n",
        "print(f\"#'users found this comment useful'in Validation: {df_valid[df_valid['condition'].str.contains('users found this comment helpful')].shape}\")\n",
        "\n",
        "#Remove the rows where 'condition' is \"users found this comment helpful\"\n",
        "print(\"Removing the rows where condition is 'users found this comment helpful'\")\n",
        "df_train = df_train[~df_train['condition'].str.contains('users found this comment helpful')]\n",
        "df_valid = df_valid[~df_valid['condition'].str.contains('users found this comment helpful')]\n",
        "\n"
      ],
      "execution_count": 3,
      "outputs": [
        {
          "output_type": "stream",
          "text": [
            "#Train Examples: (161297, 2)\n",
            "#Validation Examples: (53766, 2)\n",
            "#NaN in Train: (899, 2)\n",
            "#NaN in Validation: (295, 2)\n",
            "Removing rows with nan values...\n",
            "#'users found this comment useful' in Train: (900, 2)\n",
            "#'users found this comment useful'in Validation: (271, 2)\n",
            "Removing the rows where condition is 'users found this comment helpful'\n"
          ],
          "name": "stdout"
        }
      ]
    },
    {
      "cell_type": "markdown",
      "metadata": {
        "id": "qrQZioKFalyy",
        "colab_type": "text"
      },
      "source": [
        "##Making the Traning Set Smaller for Quick Experiments"
      ]
    },
    {
      "cell_type": "code",
      "metadata": {
        "id": "s4_ZHp6UhtR1",
        "colab_type": "code",
        "colab": {}
      },
      "source": [
        "# #Creating a smaller version of dataset for quick setup of framework\n",
        "# df_train = df_train.sample(frac=1).reset_index(drop=True)\n",
        "# df_valid = df_valid.sample(frac=1).reset_index(drop=True)\n",
        "\n",
        "# df_train = df_train[:1000]\n",
        "# df_valid = df_valid[:200]\n",
        "# print(df_train.shape)\n",
        "# print(df_valid.shape)\n"
      ],
      "execution_count": 0,
      "outputs": []
    },
    {
      "cell_type": "markdown",
      "metadata": {
        "id": "cplWwIu5ackf",
        "colab_type": "text"
      },
      "source": [
        "##Remove Mismatch of Classes between Validation and Training Set"
      ]
    },
    {
      "cell_type": "code",
      "metadata": {
        "id": "ea_DqJhzptPh",
        "colab_type": "code",
        "outputId": "eb73fcfe-79e9-43d7-e025-ec1329d93e56",
        "colab": {
          "base_uri": "https://localhost:8080/",
          "height": 102
        }
      },
      "source": [
        "#Number of classes present in the training and validation set\n",
        "targets_train = df_train['condition'].unique()\n",
        "targets_valid = df_valid['condition'].unique()\n",
        "print(f\"#Target Classes in Train: {len(targets_train)}\")\n",
        "print(f\"#Target Classes in Validation: {len(targets_valid)}\")\n",
        "\n",
        "targets_only_in_valid = [item for item in targets_valid if item not in targets_train]\n",
        "print(f\"#Targets in Validation but not in Training: {len(targets_only_in_valid)}\")\n",
        "\n",
        "targets_only_in_train = [item for item in targets_train if item not in targets_valid]\n",
        "print(f\"#Targets in Training but not in Validation: {len(targets_only_in_train)}\")\n",
        "\n",
        "#Remove the items from the training classes of which are not present in the training\n",
        "print(f\"#Invalid Validation examples: {df_valid[df_valid['condition'].isin(targets_only_in_valid)].shape}\")\n",
        "\n",
        "df_valid = df_valid[~df_valid['condition'].isin(targets_only_in_valid)]\n"
      ],
      "execution_count": 4,
      "outputs": [
        {
          "output_type": "stream",
          "text": [
            "#Target Classes in Train: 811\n",
            "#Target Classes in Validation: 664\n",
            "#Targets in Validation but not in Training: 25\n",
            "#Targets in Training but not in Validation: 172\n",
            "#Invalid Validation examples: (39, 2)\n"
          ],
          "name": "stdout"
        }
      ]
    },
    {
      "cell_type": "markdown",
      "metadata": {
        "id": "KlAVKnIEbOSd",
        "colab_type": "text"
      },
      "source": [
        "##Cleaning up Review Comments"
      ]
    },
    {
      "cell_type": "code",
      "metadata": {
        "id": "oBNsLJF6hfIL",
        "colab_type": "code",
        "colab": {}
      },
      "source": [
        "#Perform basic cleaning operation on the review comments \n",
        "#mainly to convert the HTML Code Characters to the actual charcters\n",
        "import html\n",
        "\n",
        "# #SAVE TO CSV to see the changes with ur naked eyes\n",
        "# df_train['clean_review'] = df_train['review'].apply(html.unescape)\n",
        "# df_valid['clean_review'] = df_valid['review'].apply(html.unescape)\n",
        "# df_train.to_csv('./drugsComTrainClean_raw.csv')\n",
        "# df_train.to_csv('./drugsComTestClean_raw.csv')\n",
        "\n",
        "df_train['review'] = df_train['review'].apply(html.unescape)\n",
        "df_valid['review'] = df_valid['review'].apply(html.unescape)\n",
        "\n",
        "#print(df_train[df_train['condition'] == \"Depression\"])\n"
      ],
      "execution_count": 0,
      "outputs": []
    },
    {
      "cell_type": "markdown",
      "metadata": {
        "id": "qS_clfqP6hmf",
        "colab_type": "text"
      },
      "source": [
        "##Summary of the Data"
      ]
    },
    {
      "cell_type": "code",
      "metadata": {
        "id": "-o4dvoCRgSP_",
        "colab_type": "code",
        "outputId": "d6f603c7-91fc-482a-a494-bc72f51fff86",
        "colab": {
          "base_uri": "https://localhost:8080/",
          "height": 85
        }
      },
      "source": [
        "print (f\"Shape of Cleaned up Train Set: {df_train.shape}\")\n",
        "print (f\"Shape of Cleaned up  Validation Set: {df_valid.shape}\")\n",
        "\n",
        "#Number of classes present in the training and validation set\n",
        "targets_train = df_train['condition'].unique()\n",
        "targets_valid = df_valid['condition'].unique()\n",
        "print(f\"#Target Classes in Train: {len(targets_train)}\")\n",
        "print(f\"#Target Classes in Validation: {len(targets_valid)}\")\n"
      ],
      "execution_count": 6,
      "outputs": [
        {
          "output_type": "stream",
          "text": [
            "Shape of Cleaned up Train Set: (159498, 2)\n",
            "Shape of Cleaned up  Validation Set: (53161, 2)\n",
            "#Target Classes in Train: 811\n",
            "#Target Classes in Validation: 639\n"
          ],
          "name": "stdout"
        }
      ]
    },
    {
      "cell_type": "markdown",
      "metadata": {
        "id": "TIwy2ylYbbKQ",
        "colab_type": "text"
      },
      "source": [
        "##Visualizing the Data\n",
        "(not so visual for now)"
      ]
    },
    {
      "cell_type": "code",
      "metadata": {
        "id": "xwBCv9p1vPqv",
        "colab_type": "code",
        "outputId": "96e17302-f06d-4b92-ab82-de610db1d105",
        "colab": {
          "base_uri": "https://localhost:8080/",
          "height": 425
        }
      },
      "source": [
        "#Visualize the dataspread for each of the classes \n",
        "#print(df_train.groupby(['condition']).size().reset_index(name='count').sort_values(['count'], ascending=False))\n",
        "print(df_train['condition'].value_counts())\n",
        "print(df_valid['condition'].value_counts())"
      ],
      "execution_count": 7,
      "outputs": [
        {
          "output_type": "stream",
          "text": [
            "Birth Control                    28788\n",
            "Depression                        9069\n",
            "Pain                              6145\n",
            "Anxiety                           5904\n",
            "Acne                              5588\n",
            "                                 ...  \n",
            "Cerebrovascular Insufficiency        1\n",
            "Ramsay Hunt Syndrome                 1\n",
            "Gallbladder Disease                  1\n",
            "Zollinger-Ellison Syndrome           1\n",
            "Hodgkin's Lymphoma                   1\n",
            "Name: condition, Length: 811, dtype: int64\n",
            "Birth Control         9648\n",
            "Depression            3095\n",
            "Pain                  2100\n",
            "Anxiety               1908\n",
            "Acne                  1847\n",
            "                      ... \n",
            "CMV Prophylaxis          1\n",
            "Coccidioidomycosis       1\n",
            "Thyrotoxicosis           1\n",
            "Head Injury              1\n",
            "Gender Dysphoria         1\n",
            "Name: condition, Length: 639, dtype: int64\n"
          ],
          "name": "stdout"
        }
      ]
    },
    {
      "cell_type": "markdown",
      "metadata": {
        "id": "Wdeu9Jk-bBec",
        "colab_type": "text"
      },
      "source": [
        "##Start ULMFit Stuff"
      ]
    },
    {
      "cell_type": "code",
      "metadata": {
        "id": "8ieLnFZU_pWM",
        "colab_type": "code",
        "colab": {}
      },
      "source": [
        "#Prepare for training the language model\n",
        "#todo: i have not specified batch size(bs)\n",
        "data_lm = TextLMDataBunch.from_df(path='/', train_df=df_train, valid_df=df_valid)\n",
        "learn_lm = language_model_learner(data_lm, AWD_LSTM, drop_mult=0.5)"
      ],
      "execution_count": 0,
      "outputs": []
    },
    {
      "cell_type": "code",
      "metadata": {
        "id": "Ek7oRAXf0_21",
        "colab_type": "code",
        "outputId": "f18649bd-a6c1-4734-a456-2b191938f0d7",
        "colab": {
          "base_uri": "https://localhost:8080/",
          "height": 296
        }
      },
      "source": [
        "#find the learning rate \n",
        "learn_lm.lr_find(start_lr=1e-8, end_lr=1e2)\n",
        "learn_lm.recorder.plot()"
      ],
      "execution_count": 9,
      "outputs": [
        {
          "output_type": "display_data",
          "data": {
            "text/html": [
              ""
            ],
            "text/plain": [
              "<IPython.core.display.HTML object>"
            ]
          },
          "metadata": {
            "tags": []
          }
        },
        {
          "output_type": "stream",
          "text": [
            "LR Finder is complete, type {learner_name}.recorder.plot() to see the graph.\n"
          ],
          "name": "stdout"
        },
        {
          "output_type": "display_data",
          "data": {
            "image/png": "[encoded data removed]",
            "text/plain": [
              "<Figure size 432x288 with 1 Axes>"
            ]
          },
          "metadata": {
            "tags": []
          }
        }
      ]
    },
    {
      "cell_type": "code",
      "metadata": {
        "id": "0c_EqdfMDJbT",
        "colab_type": "code",
        "outputId": "09410a39-8842-4588-a994-9a61af9a573d",
        "colab": {
          "base_uri": "https://localhost:8080/",
          "height": 80
        }
      },
      "source": [
        "#The above plot tells us that loss is minimum at the learning rate of \n",
        "#approx 1e0, so we need to choose the learning rate as one level before\n",
        "\n",
        "#Start training the language model\n",
        "learn_lm.fit_one_cycle(1, 1e-3, moms=(0.8, 0.7))\n",
        "\n"
      ],
      "execution_count": 10,
      "outputs": [
        {
          "output_type": "display_data",
          "data": {
            "text/html": [
              "<table border=\"1\" class=\"dataframe\">\n",
              "  <thead>\n",
              "    <tr style=\"text-align: left;\">\n",
              "      <th>epoch</th>\n",
              "      <th>train_loss</th>\n",
              "      <th>valid_loss</th>\n",
              "      <th>accuracy</th>\n",
              "      <th>time</th>\n",
              "    </tr>\n",
              "  </thead>\n",
              "  <tbody>\n",
              "    <tr>\n",
              "      <td>0</td>\n",
              "      <td>3.691308</td>\n",
              "      <td>3.532685</td>\n",
              "      <td>0.306184</td>\n",
              "      <td>11:55</td>\n",
              "    </tr>\n",
              "  </tbody>\n",
              "</table>"
            ],
            "text/plain": [
              "<IPython.core.display.HTML object>"
            ]
          },
          "metadata": {
            "tags": []
          }
        }
      ]
    },
    {
      "cell_type": "code",
      "metadata": {
        "id": "WNB4XQp5wV3b",
        "colab_type": "code",
        "colab": {
          "base_uri": "https://localhost:8080/",
          "height": 142
        },
        "outputId": "2bcf6557-2a0e-4da7-b031-4920008f47bf"
      },
      "source": [
        "learn_lm.unfreeze()\n",
        "learn_lm.fit_one_cycle(3, 1e-3, moms=(0.8, 0.7))"
      ],
      "execution_count": 11,
      "outputs": [
        {
          "output_type": "display_data",
          "data": {
            "text/html": [
              "<table border=\"1\" class=\"dataframe\">\n",
              "  <thead>\n",
              "    <tr style=\"text-align: left;\">\n",
              "      <th>epoch</th>\n",
              "      <th>train_loss</th>\n",
              "      <th>valid_loss</th>\n",
              "      <th>accuracy</th>\n",
              "      <th>time</th>\n",
              "    </tr>\n",
              "  </thead>\n",
              "  <tbody>\n",
              "    <tr>\n",
              "      <td>0</td>\n",
              "      <td>3.263555</td>\n",
              "      <td>3.139569</td>\n",
              "      <td>0.354888</td>\n",
              "      <td>13:45</td>\n",
              "    </tr>\n",
              "    <tr>\n",
              "      <td>1</td>\n",
              "      <td>3.088983</td>\n",
              "      <td>2.988292</td>\n",
              "      <td>0.374037</td>\n",
              "      <td>13:48</td>\n",
              "    </tr>\n",
              "    <tr>\n",
              "      <td>2</td>\n",
              "      <td>2.971145</td>\n",
              "      <td>2.944222</td>\n",
              "      <td>0.380452</td>\n",
              "      <td>13:42</td>\n",
              "    </tr>\n",
              "  </tbody>\n",
              "</table>"
            ],
            "text/plain": [
              "<IPython.core.display.HTML object>"
            ]
          },
          "metadata": {
            "tags": []
          }
        }
      ]
    },
    {
      "cell_type": "code",
      "metadata": {
        "id": "HWZh5kpnF2Nt",
        "colab_type": "code",
        "colab": {}
      },
      "source": [
        "#Plot the curves for language model - if necessary\n"
      ],
      "execution_count": 0,
      "outputs": []
    },
    {
      "cell_type": "code",
      "metadata": {
        "id": "N4sV4tIkGSCq",
        "colab_type": "code",
        "outputId": "f7787ce8-53e0-4ff7-a1e7-138234b030ba",
        "colab": {
          "base_uri": "https://localhost:8080/",
          "height": 34
        }
      },
      "source": [
        "#See how the language model is doing on the statement of medical review \n",
        "#write some string\n",
        "medical_review = \"I have been continuing this medicine for the last couple of months but\"\n",
        "learn_lm.predict(medical_review, n_words=10)"
      ],
      "execution_count": 12,
      "outputs": [
        {
          "output_type": "execute_result",
          "data": {
            "text/plain": [
              "\"I have been continuing this medicine for the last couple of months but i 'm having a different reaction to it .\""
            ]
          },
          "metadata": {
            "tags": []
          },
          "execution_count": 12
        }
      ]
    },
    {
      "cell_type": "code",
      "metadata": {
        "id": "1qxs7mFGGmfI",
        "colab_type": "code",
        "colab": {}
      },
      "source": [
        "#fine tuned language model is called as encoder - we need to save it\n",
        "learn_lm.save_encoder('ft_enc')"
      ],
      "execution_count": 0,
      "outputs": []
    },
    {
      "cell_type": "code",
      "metadata": {
        "id": "h0Sl_y7YGM_q",
        "colab_type": "code",
        "colab": {}
      },
      "source": [
        "#Prepare for training the classifier\n",
        "data_clas = TextClasDataBunch.from_df(path='/', train_df=df_train, valid_df=df_valid, vocab=data_lm.train_ds.vocab, min_freq=1, bs=32)\n",
        "\n",
        "learn_clas = text_classifier_learner(data_clas, AWD_LSTM, drop_mult=0.5).to_fp16()\n",
        "learn_clas.load_encoder('ft_enc')\n",
        "learn_clas.freeze()\n",
        "\n",
        "\n"
      ],
      "execution_count": 0,
      "outputs": []
    },
    {
      "cell_type": "code",
      "metadata": {
        "id": "lmrw3W-eKcJL",
        "colab_type": "code",
        "outputId": "5d805e08-5fa4-45d0-b00d-03401198f844",
        "colab": {
          "base_uri": "https://localhost:8080/",
          "height": 296
        }
      },
      "source": [
        "#find learning rate before starting the training of classifier\n",
        "learn_clas.lr_find(start_lr=1e-8, end_lr=1e2)\n",
        "learn_clas.recorder.plot()"
      ],
      "execution_count": 15,
      "outputs": [
        {
          "output_type": "display_data",
          "data": {
            "text/html": [
              ""
            ],
            "text/plain": [
              "<IPython.core.display.HTML object>"
            ]
          },
          "metadata": {
            "tags": []
          }
        },
        {
          "output_type": "stream",
          "text": [
            "LR Finder is complete, type {learner_name}.recorder.plot() to see the graph.\n"
          ],
          "name": "stdout"
        },
        {
          "output_type": "display_data",
          "data": {
            "image/png": "[encoded data removed]",
            "text/plain": [
              "<Figure size 432x288 with 1 Axes>"
            ]
          },
          "metadata": {
            "tags": []
          }
        }
      ]
    },
    {
      "cell_type": "code",
      "metadata": {
        "id": "EC6f1gHrHc4h",
        "colab_type": "code",
        "outputId": "10bda051-7bc2-4b78-9fea-f962e9530802",
        "colab": {
          "base_uri": "https://localhost:8080/",
          "height": 80
        }
      },
      "source": [
        "#Start Training of the classifier \n",
        "# For training the classifier, \"gradual unfreezing\" should be applied to avoid \"catastrophic forgetting\"\n",
        "# as explained in section 3.3 of Howard and Ruder's paper - https://arxiv.org/pdf/1801.06146.pdf \n",
        "\n",
        "learn_clas.freeze()\n",
        "learn_clas.fit_one_cycle(1, 1e-3, moms=(0.8, 0.7))\n"
      ],
      "execution_count": 16,
      "outputs": [
        {
          "output_type": "display_data",
          "data": {
            "text/html": [
              "<table border=\"1\" class=\"dataframe\">\n",
              "  <thead>\n",
              "    <tr style=\"text-align: left;\">\n",
              "      <th>epoch</th>\n",
              "      <th>train_loss</th>\n",
              "      <th>valid_loss</th>\n",
              "      <th>accuracy</th>\n",
              "      <th>time</th>\n",
              "    </tr>\n",
              "  </thead>\n",
              "  <tbody>\n",
              "    <tr>\n",
              "      <td>0</td>\n",
              "      <td>2.023775</td>\n",
              "      <td>1.669572</td>\n",
              "      <td>0.620963</td>\n",
              "      <td>04:31</td>\n",
              "    </tr>\n",
              "  </tbody>\n",
              "</table>"
            ],
            "text/plain": [
              "<IPython.core.display.HTML object>"
            ]
          },
          "metadata": {
            "tags": []
          }
        }
      ]
    },
    {
      "cell_type": "code",
      "metadata": {
        "id": "_McHZvL2zdwU",
        "colab_type": "code",
        "outputId": "839c0921-914e-426d-f682-ecec59c25dad",
        "colab": {
          "base_uri": "https://localhost:8080/",
          "height": 80
        }
      },
      "source": [
        "learn_clas.freeze_to(-2)\n",
        "learn_clas.fit_one_cycle(1, slice(1e-4,1e-2), moms=(0.8,0.7))\n"
      ],
      "execution_count": 17,
      "outputs": [
        {
          "output_type": "display_data",
          "data": {
            "text/html": [
              "<table border=\"1\" class=\"dataframe\">\n",
              "  <thead>\n",
              "    <tr style=\"text-align: left;\">\n",
              "      <th>epoch</th>\n",
              "      <th>train_loss</th>\n",
              "      <th>valid_loss</th>\n",
              "      <th>accuracy</th>\n",
              "      <th>time</th>\n",
              "    </tr>\n",
              "  </thead>\n",
              "  <tbody>\n",
              "    <tr>\n",
              "      <td>0</td>\n",
              "      <td>1.688737</td>\n",
              "      <td>1.420464</td>\n",
              "      <td>0.665394</td>\n",
              "      <td>05:43</td>\n",
              "    </tr>\n",
              "  </tbody>\n",
              "</table>"
            ],
            "text/plain": [
              "<IPython.core.display.HTML object>"
            ]
          },
          "metadata": {
            "tags": []
          }
        }
      ]
    },
    {
      "cell_type": "code",
      "metadata": {
        "id": "88NsMggvzhZc",
        "colab_type": "code",
        "outputId": "6f652809-4812-4914-c618-2c57d2be0fe4",
        "colab": {
          "base_uri": "https://localhost:8080/",
          "height": 80
        }
      },
      "source": [
        "learn_clas.freeze_to(-3)\n",
        "learn_clas.fit_one_cycle(1, slice(1e-5,5e-3), moms=(0.8,0.7))\n"
      ],
      "execution_count": 18,
      "outputs": [
        {
          "output_type": "display_data",
          "data": {
            "text/html": [
              "<table border=\"1\" class=\"dataframe\">\n",
              "  <thead>\n",
              "    <tr style=\"text-align: left;\">\n",
              "      <th>epoch</th>\n",
              "      <th>train_loss</th>\n",
              "      <th>valid_loss</th>\n",
              "      <th>accuracy</th>\n",
              "      <th>time</th>\n",
              "    </tr>\n",
              "  </thead>\n",
              "  <tbody>\n",
              "    <tr>\n",
              "      <td>0</td>\n",
              "      <td>1.477608</td>\n",
              "      <td>1.293709</td>\n",
              "      <td>0.692594</td>\n",
              "      <td>09:08</td>\n",
              "    </tr>\n",
              "  </tbody>\n",
              "</table>"
            ],
            "text/plain": [
              "<IPython.core.display.HTML object>"
            ]
          },
          "metadata": {
            "tags": []
          }
        }
      ]
    },
    {
      "cell_type": "code",
      "metadata": {
        "id": "WFWYfG5bzjCs",
        "colab_type": "code",
        "outputId": "81d86343-a3bf-4296-d485-cb656d96b0fb",
        "colab": {
          "base_uri": "https://localhost:8080/",
          "height": 173
        }
      },
      "source": [
        "learn_clas.unfreeze()\n",
        "learn_clas.fit_one_cycle(4, slice(1e-5,1e-3), moms=(0.8,0.7))"
      ],
      "execution_count": 19,
      "outputs": [
        {
          "output_type": "display_data",
          "data": {
            "text/html": [
              "<table border=\"1\" class=\"dataframe\">\n",
              "  <thead>\n",
              "    <tr style=\"text-align: left;\">\n",
              "      <th>epoch</th>\n",
              "      <th>train_loss</th>\n",
              "      <th>valid_loss</th>\n",
              "      <th>accuracy</th>\n",
              "      <th>time</th>\n",
              "    </tr>\n",
              "  </thead>\n",
              "  <tbody>\n",
              "    <tr>\n",
              "      <td>0</td>\n",
              "      <td>1.365378</td>\n",
              "      <td>1.269704</td>\n",
              "      <td>0.697259</td>\n",
              "      <td>12:49</td>\n",
              "    </tr>\n",
              "    <tr>\n",
              "      <td>1</td>\n",
              "      <td>1.124186</td>\n",
              "      <td>1.213555</td>\n",
              "      <td>0.708922</td>\n",
              "      <td>12:28</td>\n",
              "    </tr>\n",
              "    <tr>\n",
              "      <td>2</td>\n",
              "      <td>1.302495</td>\n",
              "      <td>1.168805</td>\n",
              "      <td>0.721469</td>\n",
              "      <td>11:51</td>\n",
              "    </tr>\n",
              "    <tr>\n",
              "      <td>3</td>\n",
              "      <td>1.301932</td>\n",
              "      <td>1.160115</td>\n",
              "      <td>0.724610</td>\n",
              "      <td>13:22</td>\n",
              "    </tr>\n",
              "  </tbody>\n",
              "</table>"
            ],
            "text/plain": [
              "<IPython.core.display.HTML object>"
            ]
          },
          "metadata": {
            "tags": []
          }
        }
      ]
    },
    {
      "cell_type": "code",
      "metadata": {
        "id": "GTXw5N6OiIaD",
        "colab_type": "code",
        "outputId": "d09423a6-f384-41a4-9263-fdfdb86dbf12",
        "colab": {
          "base_uri": "https://localhost:8080/",
          "height": 111
        }
      },
      "source": [
        "learn_clas.fit_one_cycle(2, 1e-3, moms=(0.8,0.7))"
      ],
      "execution_count": 20,
      "outputs": [
        {
          "output_type": "display_data",
          "data": {
            "text/html": [
              "<table border=\"1\" class=\"dataframe\">\n",
              "  <thead>\n",
              "    <tr style=\"text-align: left;\">\n",
              "      <th>epoch</th>\n",
              "      <th>train_loss</th>\n",
              "      <th>valid_loss</th>\n",
              "      <th>accuracy</th>\n",
              "      <th>time</th>\n",
              "    </tr>\n",
              "  </thead>\n",
              "  <tbody>\n",
              "    <tr>\n",
              "      <td>0</td>\n",
              "      <td>1.288309</td>\n",
              "      <td>1.219278</td>\n",
              "      <td>0.712346</td>\n",
              "      <td>12:53</td>\n",
              "    </tr>\n",
              "    <tr>\n",
              "      <td>1</td>\n",
              "      <td>1.132949</td>\n",
              "      <td>1.073274</td>\n",
              "      <td>0.748067</td>\n",
              "      <td>11:37</td>\n",
              "    </tr>\n",
              "  </tbody>\n",
              "</table>"
            ],
            "text/plain": [
              "<IPython.core.display.HTML object>"
            ]
          },
          "metadata": {
            "tags": []
          }
        }
      ]
    },
    {
      "cell_type": "code",
      "metadata": {
        "id": "0GSexu49reyl",
        "colab_type": "code",
        "colab": {}
      },
      "source": [
        "#Export the Learned Model\n",
        "learn_clas.export('/content/drive/My Drive/Projects/AnalyticsHackathon/learned_classifer_phase_1.pkl')"
      ],
      "execution_count": 0,
      "outputs": []
    },
    {
      "cell_type": "code",
      "metadata": {
        "id": "LWM_oSYHHraa",
        "colab_type": "code",
        "outputId": "fcb79621-0fbf-4119-faa6-8b67de40728d",
        "colab": {
          "base_uri": "https://localhost:8080/",
          "height": 279
        }
      },
      "source": [
        "#Plot the curves for classifer model - should be done\n",
        "learn_clas.recorder.plot_losses()"
      ],
      "execution_count": 22,
      "outputs": [
        {
          "output_type": "display_data",
          "data": {
            "image/png": "[encoded data removed]",
            "text/plain": [
              "<Figure size 432x288 with 1 Axes>"
            ]
          },
          "metadata": {
            "tags": []
          }
        }
      ]
    },
    {
      "cell_type": "code",
      "metadata": {
        "id": "c9SwezA7jzRq",
        "colab_type": "code",
        "outputId": "1fc59937-8ce3-460c-f603-d546e6102f54",
        "colab": {
          "base_uri": "https://localhost:8080/",
          "height": 733
        }
      },
      "source": [
        "#Show Results: Acutal and Predicted \n",
        "learn_clas.show_results(rows=10)"
      ],
      "execution_count": 23,
      "outputs": [
        {
          "output_type": "display_data",
          "data": {
            "text/html": [
              "<table border=\"1\" class=\"dataframe\">\n",
              "  <thead>\n",
              "    <tr style=\"text-align: right;\">\n",
              "      <th>text</th>\n",
              "      <th>target</th>\n",
              "      <th>prediction</th>\n",
              "    </tr>\n",
              "  </thead>\n",
              "  <tbody>\n",
              "    <tr>\n",
              "      <td>xxbos \" i do n’t find a lot of positive stories about antidepressants , or i find stories where people are taking the antidepressant the wrong way . \\r \\n \\r \\n  i wanted to share my experience . a positive one . \\r \\n \\r \\n  i ’ve had generalized anxiety disorder , xxup severe xxup ocd , and panic disorder for as long as i can</td>\n",
              "      <td>Obsessive Compulsive Disorde</td>\n",
              "      <td>Anxiety and Stress</td>\n",
              "    </tr>\n",
              "    <tr>\n",
              "      <td>xxbos \" • \\t 19 xxmaj apr. 2016 \\r\\r \\n \\r\\r \\n  xxmaj began initial dose at xxunk hours . xxmaj felt the medicine working within a ½ hour . xxmaj was in a good mood as i had been taken off of xxmaj warfarin this date . xxmaj before drifting off to sleep , i xxunk at the clock . xxmaj it was approx . xxunk hrs .</td>\n",
              "      <td>Depression</td>\n",
              "      <td>Pain</td>\n",
              "    </tr>\n",
              "    <tr>\n",
              "      <td>xxbos \" xxmaj my personal experience with suboxone is good so far . i have been on prescribed xxmaj fentanyl xxmaj patch 25 much / 48 hrs . i have dropped to this dose over the last year . ( i also left the old patch on ) . i have been on opiates for 12 years full time prescribed . xxmaj at my highest prescription i was using 180</td>\n",
              "      <td>Opiate Dependence</td>\n",
              "      <td>Opiate Dependence</td>\n",
              "    </tr>\n",
              "    <tr>\n",
              "      <td>xxbos \" xxmaj my personal experience with suboxone is good so far . i have been on prescribed xxmaj fentanyl xxmaj patch 25 much / 48 hrs . i have dropped to this dose over the last year . ( i also left the old patch on ) . i have been on opiates for 12 years full time prescribed . xxmaj at my highest prescription i was using 180</td>\n",
              "      <td>Opiate Dependence</td>\n",
              "      <td>Opiate Dependence</td>\n",
              "    </tr>\n",
              "    <tr>\n",
              "      <td>xxbos \" xxmaj my colonoscopy was booked in for late afternoon on a xxmaj thursday . xxmaj the hospital said to stop eating anything from 1 pm on the xxmaj wednesday and recommended ( giving some detail ) a non fibre diet from xxmaj tuesday evening until xxmaj wednesday noon - avoiding dark drinks and jelly ( like blackcurrant flavour ) . xxmaj avoid red meat , sausages and pies</td>\n",
              "      <td>Bowel Preparation</td>\n",
              "      <td>Bowel Preparation</td>\n",
              "    </tr>\n",
              "    <tr>\n",
              "      <td>xxbos \" xxmaj holy xxunk xxmaj batman it worked ! xxmaj but boy it was a xxmaj journey lol for 4 days i had n't pooped ! i had already taken laxatives , stool softener , a bucket of prunes , fiber pills , other fiber pills and still no poop over the last 4 days ! xxmaj so i called friend that has xxmaj gastroparesis and asked her what</td>\n",
              "      <td>Constipation</td>\n",
              "      <td>Constipation</td>\n",
              "    </tr>\n",
              "    <tr>\n",
              "      <td>xxbos \" i just started this medicine 3 days ago and i can not express how much of an effect it has had on me already . i just graduated high school and became depressed soon after , severe anxiety where i could n't go out to eat without having to vomit . i also could n't keep focus on anything , especially when trying to talk to people ,</td>\n",
              "      <td>Depression</td>\n",
              "      <td>Depression</td>\n",
              "    </tr>\n",
              "    <tr>\n",
              "      <td>xxbos \" i felt compelled to write a review , as i was on topamax ( or should i say dopamax ? ! ) for about 2 years . i started this medication when i was 21 and was so desperate to find something that would actually help my on - going migraines . xxmaj personally , the side effect symptoms xxup far outweighed the benefits . i started out</td>\n",
              "      <td>Migraine Prevention</td>\n",
              "      <td>Migraine Prevention</td>\n",
              "    </tr>\n",
              "    <tr>\n",
              "      <td>xxbos \" i have dealt with ups and downs , anxiety , social anxiety , depression etc . etc . for years . xxmaj my life overall is normal and i managed the episodes but i always knew they were there and did n't like feeling that way . i am married we have children combine that with everything else and it times it was just too much . xxmaj</td>\n",
              "      <td>Social Anxiety Disorde</td>\n",
              "      <td>Social Anxiety Disorde</td>\n",
              "    </tr>\n",
              "    <tr>\n",
              "      <td>xxbos \" xxmaj yes , this medication works . xxmaj it works very well for chronic anxiety disorder and sudden onsets of severe panic attacks . xxmaj knowing what i know now , i wish with all my being it had never ever been prescribed to me , and without the absurd xxunk dozens of practitioners have portrayed . \\r\\r \\n  i 'm 32 and have been prescribed clonazopam</td>\n",
              "      <td>Anxiety</td>\n",
              "      <td>Anxiety</td>\n",
              "    </tr>\n",
              "  </tbody>\n",
              "</table>"
            ],
            "text/plain": [
              "<IPython.core.display.HTML object>"
            ]
          },
          "metadata": {
            "tags": []
          }
        }
      ]
    },
    {
      "cell_type": "code",
      "metadata": {
        "id": "z74YDcK0Hj15",
        "colab_type": "code",
        "colab": {}
      },
      "source": [
        "#Get the accuracy matrix \n",
        "predictions, targets = learn_clas.get_preds()"
      ],
      "execution_count": 0,
      "outputs": []
    },
    {
      "cell_type": "code",
      "metadata": {
        "id": "2low6mHF5yrb",
        "colab_type": "code",
        "outputId": "166799dc-3b94-400e-c75e-82ff45b9ea3e",
        "colab": {
          "base_uri": "https://localhost:8080/",
          "height": 51
        }
      },
      "source": [
        "from sklearn import metrics\n",
        "\n",
        "predictions_clas = np.argmax(predictions, axis = 1) \n",
        "print(predictions_clas.shape)\n",
        "print(targets.shape)\n"
      ],
      "execution_count": 25,
      "outputs": [
        {
          "output_type": "stream",
          "text": [
            "torch.Size([53161])\n",
            "torch.Size([53161])\n"
          ],
          "name": "stdout"
        }
      ]
    },
    {
      "cell_type": "code",
      "metadata": {
        "id": "mOsm8NGFjW7G",
        "colab_type": "code",
        "outputId": "0e7bcaee-a0cd-410b-e8b4-cba64dc31356",
        "colab": {
          "base_uri": "https://localhost:8080/",
          "height": 170
        }
      },
      "source": [
        "#Generate Confusion Matrix\n",
        "confusion_matrix = metrics.confusion_matrix(targets, predictions_clas)\n",
        "print(confusion_matrix)\n",
        "\n",
        "#Export Confustion Matrix\n",
        "df_confusion_matrix = pd.DataFrame(confusion_matrix)\n",
        "df_confusion_matrix.to_csv('/content/drive/My Drive/Projects/AnalyticsHackathon/ULMFit_Drug_Review_Confusion_Matrix_Phase_1.csv')"
      ],
      "execution_count": 26,
      "outputs": [
        {
          "output_type": "stream",
          "text": [
            "[[1023    0    0    0 ...    0    0    0    0]\n",
            " [   1    0    0    0 ...    0    0    0    0]\n",
            " [   0    0  339    0 ...    0    0    0    0]\n",
            " [   0    0    0    0 ...    0    0    0    0]\n",
            " ...\n",
            " [   0    0    0    0 ...    0    0    0    0]\n",
            " [   0    0    0    0 ...    0    0    0    0]\n",
            " [   0    0    1    0 ...    0    0    0    0]\n",
            " [   0    0    0    0 ...    0    0    0    0]]\n"
          ],
          "name": "stdout"
        }
      ]
    },
    {
      "cell_type": "code",
      "metadata": {
        "id": "CUOT1Jbmyy9x",
        "colab_type": "code",
        "outputId": "b0988359-cdee-44aa-bd3c-899bf6e53914",
        "colab": {
          "base_uri": "https://localhost:8080/",
          "height": 68
        }
      },
      "source": [
        "#From the confusion matrix, take diagnal elements\n",
        "\n",
        "diag = np.diag(df_confusion_matrix)\n",
        "correct_predictions = sum(diag)\n",
        "total_validation_examples = np.sum(df_confusion_matrix, axis=1).sum()\n",
        "pred_acc_percent = (correct_predictions/total_validation_examples) * 100\n",
        "print(f\"Sum of diagonal elements of the confusion matrix: {correct_predictions}\")\n",
        "print(f\"Total number of vaildation examples: {total_validation_examples}\")\n",
        "print(f\"Prediction Accuracy of the model: {pred_acc_percent}\")\n"
      ],
      "execution_count": 27,
      "outputs": [
        {
          "output_type": "stream",
          "text": [
            "Sum of diagonal elements of the confusion matrix: 39766\n",
            "Total number of vaildation examples: 53161\n",
            "Prediction Accuracy of the model: 74.80295705498392\n"
          ],
          "name": "stdout"
        }
      ]
    },
    {
      "cell_type": "code",
      "metadata": {
        "id": "kt55COPSDC5B",
        "colab_type": "code",
        "colab": {
          "base_uri": "https://localhost:8080/",
          "height": 1000
        },
        "outputId": "bcc6be0e-b984-4a09-c9a6-7c44824ff608"
      },
      "source": [
        "target_names = learn_clas.data.classes\n",
        "print(metrics.classification_report(targets, predictions_clas, labels=target_names))\n"
      ],
      "execution_count": 28,
      "outputs": [
        {
          "output_type": "stream",
          "text": [
            "/usr/local/lib/python3.6/dist-packages/sklearn/metrics/classification.py:1437: UndefinedMetricWarning: Precision and F-score are ill-defined and being set to 0.0 in labels with no predicted samples.\n",
            "  'precision', 'predicted', average, warn_for)\n",
            "/usr/local/lib/python3.6/dist-packages/sklearn/metrics/classification.py:1439: UndefinedMetricWarning: Recall and F-score are ill-defined and being set to 0.0 in labels with no true samples.\n",
            "  'recall', 'true', average, warn_for)\n",
            "/usr/local/lib/python3.6/dist-packages/sklearn/metrics/classification.py:1437: UndefinedMetricWarning: Precision and F-score are ill-defined and being set to 0.0 due to no predicted samples.\n",
            "  'precision', 'predicted', average, warn_for)\n",
            "/usr/local/lib/python3.6/dist-packages/sklearn/metrics/classification.py:1439: UndefinedMetricWarning: Recall and F-score are ill-defined and being set to 0.0 due to no true samples.\n",
            "  'recall', 'true', average, warn_for)\n"
          ],
          "name": "stderr"
        },
        {
          "output_type": "stream",
          "text": [
            "                                                                     precision    recall  f1-score   support\n",
            "\n",
            "                                                               ADHD       0.00      0.00      0.00         0\n",
            "                                               AIDS Related Wasting       0.00      0.00      0.00         0\n",
            "                                                     AV Heart Block       0.00      0.00      0.00         0\n",
            "                                               Abdominal Distension       0.00      0.00      0.00         0\n",
            "                                          Abnormal Uterine Bleeding       0.00      0.00      0.00         0\n",
            "                                                           Abortion       0.00      0.00      0.00         0\n",
            "                                             Acetaminophen Overdose       0.00      0.00      0.00         0\n",
            "                                                               Acne       0.00      0.00      0.00         0\n",
            "                                                  Actinic Keratosis       0.00      0.00      0.00         0\n",
            "                                            Acute Coronary Syndrome       0.00      0.00      0.00         0\n",
            "                                       Acute Lymphoblastic Leukemia       0.00      0.00      0.00         0\n",
            "                                      Acute Nonlymphocytic Leukemia       0.00      0.00      0.00         0\n",
            "                                       Acute Promyelocytic Leukemia       0.00      0.00      0.00         0\n",
            "                                                  Addison's Disease       0.00      0.00      0.00         0\n",
            "                                       Adrenocortical Insufficiency       0.00      0.00      0.00         0\n",
            "                              Adult Human Growth Hormone Deficiency       0.00      0.00      0.00         0\n",
            "                                                  Aggressive Behavi       0.00      0.00      0.00         0\n",
            "                                                     Agitated State       0.00      0.00      0.00         0\n",
            "                                                          Agitation       0.00      0.00      0.00         0\n",
            "                                                 Alcohol Dependence       0.00      0.00      0.00         0\n",
            "                                                 Alcohol Withdrawal       0.00      0.00      0.00         0\n",
            "                                                 Allergic Reactions       0.00      0.00      0.00         0\n",
            "                                                  Allergic Rhinitis       0.00      0.00      0.00         0\n",
            "                                                 Allergic Urticaria       0.00      0.00      0.00         0\n",
            "                                                          Allergies       0.00      0.00      0.00         0\n",
            "                                                           Alopecia       0.00      0.00      0.00         0\n",
            "                            Alpha-1 Proteinase Inhibitor Deficiency       0.00      0.00      0.00         0\n",
            "                                                Alzheimer's Disease       0.00      0.00      0.00         0\n",
            "                                                          Amebiasis       0.00      0.00      0.00         0\n",
            "                                                         Amenorrhea       0.00      0.00      0.00         0\n",
            "                                      Amyotrophic Lateral Sclerosis       0.00      0.00      0.00         0\n",
            "                                           Anal Fissure and Fistula       0.00      0.00      0.00         0\n",
            "                                                       Anal Itching       0.00      0.00      0.00         0\n",
            "                                                        Anaphylaxis       0.00      0.00      0.00         0\n",
            "                                             Anaplastic Astrocytoma       0.00      0.00      0.00         0\n",
            "                                       Anaplastic Oligodendroglioma       0.00      0.00      0.00         0\n",
            "                                              Androgenetic Alopecia       0.00      0.00      0.00         0\n",
            "                                                             Anemia       0.00      0.00      0.00         0\n",
            "                       Anemia Associated with Chronic Renal Failure       0.00      0.00      0.00         0\n",
            "                                       Anemia, Chemotherapy Induced       0.00      0.00      0.00         0\n",
            "                                                Anemia, Sickle Cell       0.00      0.00      0.00         0\n",
            "                                                         Anesthesia       0.00      0.00      0.00         0\n",
            "                                                 Anesthetic Adjunct       0.00      0.00      0.00         0\n",
            "                                                             Angina       0.00      0.00      0.00         0\n",
            "                                        Angina Pectoris Prophylaxis       0.00      0.00      0.00         0\n",
            "                                                         Angioedema       0.00      0.00      0.00         0\n",
            "                                             Ankylosing Spondylitis       0.00      0.00      0.00         0\n",
            "                                                           Anorexia       0.00      0.00      0.00         0\n",
            "                                          Anorexia/Feeding Problems       0.00      0.00      0.00         0\n",
            "                                                            Anthrax       0.00      0.00      0.00         0\n",
            "                                    Anti NMDA Receptor Encephalitis       0.00      0.00      0.00         0\n",
            "                                          Antiphospholipid Syndrome       0.00      0.00      0.00         0\n",
            "                                                            Anxiety       0.00      0.00      0.00         0\n",
            "                                                 Anxiety and Stress       0.00      0.00      0.00         0\n",
            "                                                      Aphthous Ulce       0.00      0.00      0.00         0\n",
            "                                                         Arrhythmia       0.00      0.00      0.00         0\n",
            "                                                         Ascariasis       0.00      0.00      0.00         0\n",
            "                                                  Asperger Syndrome       0.00      0.00      0.00         0\n",
            "                                        Aspergillosis, Aspergilloma       0.00      0.00      0.00         0\n",
            "                                               Aspiration Pneumonia       0.00      0.00      0.00         0\n",
            "                                                             Asthma       0.00      0.00      0.00         0\n",
            "                                                Asthma, Maintenance       0.00      0.00      0.00         0\n",
            "                                                      Asthma, acute       0.00      0.00      0.00         0\n",
            "                                                           Asystole       0.00      0.00      0.00         0\n",
            "                                                    Atherosclerosis       0.00      0.00      0.00         0\n",
            "                                                  Atopic Dermatitis       0.00      0.00      0.00         0\n",
            "                                                Atrial Fibrillation       0.00      0.00      0.00         0\n",
            "                                                      Atrial Flutte       0.00      0.00      0.00         0\n",
            "                                                Atrophic Urethritis       0.00      0.00      0.00         0\n",
            "                                                 Atrophic Vaginitis       0.00      0.00      0.00         0\n",
            "                                        Auditory Processing Disorde       0.00      0.00      0.00         0\n",
            "                                                             Autism       0.00      0.00      0.00         0\n",
            "                                        Autoimmune Hemolytic Anemia       0.00      0.00      0.00         0\n",
            "                                               Autoimmune Hepatitis       0.00      0.00      0.00         0\n",
            "                                                    Avian Influenza       0.00      0.00      0.00         0\n",
            "                                         B12 Nutritional Deficiency       0.00      0.00      0.00         0\n",
            "                                                         Babesiosis       0.00      0.00      0.00         0\n",
            "                                                          Back Pain       0.00      0.00      0.00         0\n",
            "                                  Bacterial Endocarditis Prevention       0.00      0.00      0.00         0\n",
            "                                                Bacterial Infection       0.00      0.00      0.00         0\n",
            "                                           Bacterial Skin Infection       0.00      0.00      0.00         0\n",
            "                                                Bacterial Vaginitis       0.00      0.00      0.00         0\n",
            "                                                Barrett's Esophagus       0.00      0.00      0.00         0\n",
            "                                                      Bartonellosis       0.00      0.00      0.00         0\n",
            "                                               Basal Cell Carcinoma       0.00      0.00      0.00         0\n",
            "                                                   Behcet's Disease       0.00      0.00      0.00         0\n",
            "                                              Benign Essential Trem       0.00      0.00      0.00         0\n",
            "                                       Benign Prostatic Hyperplasia       0.00      0.00      0.00         0\n",
            "                                          Benzodiazepine Withdrawal       0.00      0.00      0.00         0\n",
            "                                                  Biliary Cirrhosis       0.00      0.00      0.00         0\n",
            "                                               Binge Eating Disorde       0.00      0.00      0.00         0\n",
            "                                                    Bipolar Disorde       0.00      0.00      0.00         0\n",
            "                                                      Birth Control       0.00      0.00      0.00         0\n",
            "                                                  Bladder Infection       0.00      0.00      0.00         0\n",
            "                                                   Bleeding Disorde       0.00      0.00      0.00         0\n",
            "                                                        Blepharitis       0.00      0.00      0.00         0\n",
            "                                            Body Dysmorphic Disorde       0.00      0.00      0.00         0\n",
            "                                                       Body Imaging       0.00      0.00      0.00         0\n",
            "                                                     Bone infection       0.00      0.00      0.00         0\n",
            "                                     Borderline Personality Disorde       0.00      0.00      0.00         0\n",
            "                                                  Bowel Preparation       0.00      0.00      0.00         0\n",
            "                                                          Brain Tum       0.00      0.00      0.00         0\n",
            "                                                  Breakthrough Pain       0.00      0.00      0.00         0\n",
            "                                                       Breast Cance       0.00      0.00      0.00         0\n",
            "                                            Breast Cancer, Adjuvant       0.00      0.00      0.00         0\n",
            "                                          Breast Cancer, Metastatic       0.00      0.00      0.00         0\n",
            "                                          Breast Cancer, Palliative       0.00      0.00      0.00         0\n",
            "                                          Breast Cancer, Prevention       0.00      0.00      0.00         0\n",
            "                                                     Bronchiectasis       0.00      0.00      0.00         0\n",
            "                                                         Bronchitis       0.00      0.00      0.00         0\n",
            "                                           Bronchospasm Prophylaxis       0.00      0.00      0.00         0\n",
            "                                                            Bulimia       0.00      0.00      0.00         0\n",
            "                                                 Bullous Pemphigoid       0.00      0.00      0.00         0\n",
            "                                             Burning Mouth Syndrome       0.00      0.00      0.00         0\n",
            "                                                    Burns, External       0.00      0.00      0.00         0\n",
            "                                                           Bursitis       0.00      0.00      0.00         0\n",
            "                                                    CMV Prophylaxis       0.00      0.00      0.00         0\n",
            "                                     CNS Magnetic Resonance Imaging       0.00      0.00      0.00         0\n",
            "                                                               COPD       0.00      0.00      0.00         0\n",
            "                                                        COPD, Acute       0.00      0.00      0.00         0\n",
            "                                                  COPD, Maintenance       0.00      0.00      0.00         0\n",
            "                                                           Cachexia       0.00      0.00      0.00         0\n",
            "                                      Campylobacter Gastroenteritis       0.00      0.00      0.00         0\n",
            "                                                              Cance       0.00      0.00      0.00         0\n",
            "                                    Candida Urinary Tract Infection       0.00      0.00      0.00         0\n",
            "                                                         Candidemia       0.00      0.00      0.00         0\n",
            "                                                      Carcinoid Tum       0.00      0.00      0.00         0\n",
            "                                      Cardiovascular Risk Reduction       0.00      0.00      0.00         0\n",
            "                                                          Cataplexy       0.00      0.00      0.00         0\n",
            "                                                     Cerebral Edema       0.00      0.00      0.00         0\n",
            "                                                Cerebral Spasticity       0.00      0.00      0.00         0\n",
            "                                      Cerebrovascular Insufficiency       0.00      0.00      0.00         0\n",
            "                                                  Cervical Dystonia       0.00      0.00      0.00         0\n",
            "                                                Chlamydia Infection       0.00      0.00      0.00         0\n",
            "                                                            Cholera       0.00      0.00      0.00         0\n",
            "                                      Chronic Eosinophilic Leukemia       0.00      0.00      0.00         0\n",
            "                                           Chronic Fatigue Syndrome       0.00      0.00      0.00         0\n",
            "                                    Chronic Idiopathic Constipation       0.00      0.00      0.00         0\n",
            "          Chronic Inflammatory Demyelinating Polyradiculoneuropathy       0.00      0.00      0.00         0\n",
            "                                       Chronic Lymphocytic Leukemia       0.00      0.00      0.00         0\n",
            "                                       Chronic Myelogenous Leukemia       0.00      0.00      0.00         0\n",
            "                                            Chronic Myofascial Pain       0.00      0.00      0.00         0\n",
            "                                                       Chronic Pain       0.00      0.00      0.00         0\n",
            "                                               Chronic Pancreatitis       0.00      0.00      0.00         0\n",
            "                                                 Chronic Spasticity       0.00      0.00      0.00         0\n",
            "                                              Clostridial Infection       0.00      0.00      0.00         0\n",
            "                                                  Cluster Headaches       0.00      0.00      0.00         0\n",
            "                                               Cluster-Tic Syndrome       0.00      0.00      0.00         0\n",
            "                                                 Coccidioidomycosis       0.00      0.00      0.00         0\n",
            "                                                   Cogan's Syndrome       0.00      0.00      0.00         0\n",
            "                                                         Cold Sores       0.00      0.00      0.00         0\n",
            "                                                      Cold Symptoms       0.00      0.00      0.00         0\n",
            "                                                   Colorectal Cance       0.00      0.00      0.00         0\n",
            "                                                Computed Tomography       0.00      0.00      0.00         0\n",
            "                                              Condylomata Acuminata       0.00      0.00      0.00         0\n",
            "                                                     Conjunctivitis       0.00      0.00      0.00         0\n",
            "                                           Conjunctivitis, Allergic       0.00      0.00      0.00         0\n",
            "                                          Conjunctivitis, Bacterial       0.00      0.00      0.00         0\n",
            "                                                       Constipation       0.00      0.00      0.00         0\n",
            "                                                Constipation, Acute       0.00      0.00      0.00         0\n",
            "                                              Constipation, Chronic       0.00      0.00      0.00         0\n",
            "                                         Constipation, Drug Induced       0.00      0.00      0.00         0\n",
            "                                                       Corneal Ulce       0.00      0.00      0.00         0\n",
            "                                            Coronary Artery Disease       0.00      0.00      0.00         0\n",
            "                                                    Costochondritis       0.00      0.00      0.00         0\n",
            "                                                              Cough       0.00      0.00      0.00         0\n",
            "                                         Cough and Nasal Congestion       0.00      0.00      0.00         0\n",
            "                                                    Crohn's Disease       0.00      0.00      0.00         0\n",
            "                                             Crohn's Disease, Acute       0.00      0.00      0.00         0\n",
            "                                       Crohn's Disease, Maintenance       0.00      0.00      0.00         0\n",
            "                                                              Croup       0.00      0.00      0.00         0\n",
            "                                              Cutaneous Candidiasis       0.00      0.00      0.00         0\n",
            "                                            Cutaneous Larva Migrans       0.00      0.00      0.00         0\n",
            "                                          Cutaneous T-cell Lymphoma       0.00      0.00      0.00         0\n",
            "                                           Cyclic Vomiting Syndrome       0.00      0.00      0.00         0\n",
            "                                                           Cyclitis       0.00      0.00      0.00         0\n",
            "                                                Cyclothymic Disorde       0.00      0.00      0.00         0\n",
            "                                                    Cystic Fibrosis       0.00      0.00      0.00         0\n",
            "                                                           Dandruff       0.00      0.00      0.00         0\n",
            "                                                Deep Neck Infection       0.00      0.00      0.00         0\n",
            "                                               Deep Vein Thrombosis       0.00      0.00      0.00         0\n",
            "     Deep Vein Thrombosis Prophylaxis after Hip Replacement Surgery       0.00      0.00      0.00         0\n",
            "    Deep Vein Thrombosis Prophylaxis after Knee Replacement Surgery       0.00      0.00      0.00         0\n",
            "                                  Deep Vein Thrombosis, First Event       0.00      0.00      0.00         0\n",
            "                                  Deep Vein Thrombosis, Prophylaxis       0.00      0.00      0.00         0\n",
            "                              Deep Vein Thrombosis, Recurrent Event       0.00      0.00      0.00         0\n",
            "                                              Delayed Puberty, Male       0.00      0.00      0.00         0\n",
            "                                                           Dementia       0.00      0.00      0.00         0\n",
            "                                                     Dental Abscess       0.00      0.00      0.00         0\n",
            "                                                         Depression       0.00      0.00      0.00         0\n",
            "                                                   Dercum's Disease       0.00      0.00      0.00         0\n",
            "                                                         Dermatitis       0.00      0.00      0.00         0\n",
            "                                                 Dermatitis Herpeti       0.00      0.00      0.00         0\n",
            "                                           Dermatitis Herpetiformis       0.00      0.00      0.00         0\n",
            "                                                Dermatologic Lesion       0.00      0.00      0.00         0\n",
            "                                           Dermatological Disorders       0.00      0.00      0.00         0\n",
            "                                                    Dermatomyositis       0.00      0.00      0.00         0\n",
            "                                                    Dermatophytosis       0.00      0.00      0.00         0\n",
            "                                                 Diabetes Insipidus       0.00      0.00      0.00         0\n",
            "                                                   Diabetes, Type 1       0.00      0.00      0.00         0\n",
            "                                                   Diabetes, Type 2       0.00      0.00      0.00         0\n",
            "                                            Diabetic Kidney Disease       0.00      0.00      0.00         0\n",
            "                                             Diabetic Macular Edema       0.00      0.00      0.00         0\n",
            "                                     Diabetic Peripheral Neuropathy       0.00      0.00      0.00         0\n",
            "                                        Diagnosis and Investigation       0.00      0.00      0.00         0\n",
            "                                            Diagnostic Bronchograms       0.00      0.00      0.00         0\n",
            "                                                        Diaper Rash       0.00      0.00      0.00         0\n",
            "                                                           Diarrhea       0.00      0.00      0.00         0\n",
            "                                                    Diarrhea, Acute       0.00      0.00      0.00         0\n",
            "                                                  Diarrhea, Chronic       0.00      0.00      0.00         0\n",
            "                                               Dientamoeba fragilis       0.00      0.00      0.00         0\n",
            "                                      Dietary Fiber Supplementation       0.00      0.00      0.00         0\n",
            "                                            Dietary Supplementation       0.00      0.00      0.00         0\n",
            "                                      Dissociative Identity Disorde       0.00      0.00      0.00         0\n",
            "                                                     Diverticulitis       0.00      0.00      0.00         0\n",
            "                                                    Dry Eye Disease       0.00      0.00      0.00         0\n",
            "                                                           Dry Skin       0.00      0.00      0.00         0\n",
            "                                                   Dumping Syndrome       0.00      0.00      0.00         0\n",
            "                                                      Duodenal Ulce       0.00      0.00      0.00         0\n",
            "                                         Duodenal Ulcer Prophylaxis       0.00      0.00      0.00         0\n",
            "                                            Dupuytren's contracture       0.00      0.00      0.00         0\n",
            "                                                       Dysautonomia       0.00      0.00      0.00         0\n",
            "                                                        Dyspareunia       0.00      0.00      0.00         0\n",
            "                                                           Dystonia       0.00      0.00      0.00         0\n",
            "                                                            Dysuria       0.00      0.00      0.00         0\n",
            "                                                  Ear Wax Impaction       0.00      0.00      0.00         0\n",
            "                                                  Ectopic Pregnancy       0.00      0.00      0.00         0\n",
            "                                                             Eczema       0.00      0.00      0.00         0\n",
            "                                                              Edema       0.00      0.00      0.00         0\n",
            "                                                       Ehrlichiosis       0.00      0.00      0.00         0\n",
            "                                            Emergency Contraception       0.00      0.00      0.00         0\n",
            "                                                  Endometrial Cance       0.00      0.00      0.00         0\n",
            "                                            Endometrial Hyperplasia       0.00      0.00      0.00         0\n",
            "                               Endometrial Hyperplasia, Prophylaxis       0.00      0.00      0.00         0\n",
            "                                                      Endometriosis       0.00      0.00      0.00         0\n",
            "                               Endoscopy or Radiology Premedication       0.00      0.00      0.00         0\n",
            "                                                      Enterocolitis       0.00      0.00      0.00         0\n",
            "                                           Eosinophilic Esophagitis       0.00      0.00      0.00         0\n",
            "                                        Epicondylitis, Tennis Elbow       0.00      0.00      0.00         0\n",
            "                                 Epididymitis, Sexually Transmitted       0.00      0.00      0.00         0\n",
            "                                                           Epilepsy       0.00      0.00      0.00         0\n",
            "                                               Erectile Dysfunction       0.00      0.00      0.00         0\n",
            "                                                Erosive Esophagitis       0.00      0.00      0.00         0\n",
            "                                             Esophageal Candidiasis       0.00      0.00      0.00         0\n",
            "                                                   Esophageal Spasm       0.00      0.00      0.00         0\n",
            "                         Esophageal Variceal Hemorrhage Prophylaxis       0.00      0.00      0.00         0\n",
            "                                             Euvolemic Hyponatremia       0.00      0.00      0.00         0\n",
            "                                                      Expectoration       0.00      0.00      0.00         0\n",
            "                                            Extrapyramidal Reaction       0.00      0.00      0.00         0\n",
            "                                                        Eye Redness       0.00      0.00      0.00         0\n",
            "                                                Eye Redness/Itching       0.00      0.00      0.00         0\n",
            "                                              Eyelash Hypotrichosis       0.00      0.00      0.00         0\n",
            "                                                               GERD       0.00      0.00      0.00         0\n",
            "                                                Gallbladder Disease       0.00      0.00      0.00         0\n",
            "                                                                Gas       0.00      0.00      0.00         0\n",
            "                                                      Gastric Cance       0.00      0.00      0.00         0\n",
            "                                Gastric Ulcer Maintenance Treatment       0.00      0.00      0.00         0\n",
            "                                               Gastritis/Duodenitis       0.00      0.00      0.00         0\n",
            "                                                    Gastroenteritis       0.00      0.00      0.00         0\n",
            "                                   Gastrointestinal Decontamination       0.00      0.00      0.00         0\n",
            "                                       Gastrointestinal Stromal Tum       0.00      0.00      0.00         0\n",
            "                                                      Gastroparesis       0.00      0.00      0.00         0\n",
            "                                                    Gaucher Disease       0.00      0.00      0.00         0\n",
            "                                                   Gender Dysphoria       0.00      0.00      0.00         0\n",
            "                                        Generalized Anxiety Disorde       0.00      0.00      0.00         0\n",
            "                                               Gestational Diabetes       0.00      0.00      0.00         0\n",
            "                                           Giant Cell Tumor of Bone       0.00      0.00      0.00         0\n",
            "                                                         Giardiasis       0.00      0.00      0.00         0\n",
            "                                                         Gingivitis       0.00      0.00      0.00         0\n",
            "                                                           Glaucoma       0.00      0.00      0.00         0\n",
            "                                               Glaucoma, Open Angle       0.00      0.00      0.00         0\n",
            "                                  Glaucoma/Intraocular Hypertension       0.00      0.00      0.00         0\n",
            "                                                 Glioblastoma Multi       0.00      0.00      0.00         0\n",
            "                                            Glioblastoma Multiforme       0.00      0.00      0.00         0\n",
            "                                            Gonadotropin Inhibition       0.00      0.00      0.00         0\n",
            "                                 Gonococcal Infection, Disseminated       0.00      0.00      0.00         0\n",
            "                                Gonococcal Infection, Uncomplicated       0.00      0.00      0.00         0\n",
            "                                                               Gout       0.00      0.00      0.00         0\n",
            "                                                        Gout, Acute       0.00      0.00      0.00         0\n",
            "                                                  Gout, Prophylaxis       0.00      0.00      0.00         0\n",
            "                                                    Gouty Arthritis       0.00      0.00      0.00         0\n",
            "                                                 Granuloma Annulare       0.00      0.00      0.00         0\n",
            "                                                      HIV Infection       0.00      0.00      0.00         0\n",
            "                                                Hairy Cell Leukemia       0.00      0.00      0.00         0\n",
            "                                                Hashimoto's disease       0.00      0.00      0.00         0\n",
            "                                                        Head Injury       0.00      0.00      0.00         0\n",
            "                                                          Head Lice       0.00      0.00      0.00         0\n",
            "                                                Head and Neck Cance       0.00      0.00      0.00         0\n",
            "                                                           Headache       0.00      0.00      0.00         0\n",
            "                                                       Heart Attack       0.00      0.00      0.00         0\n",
            "                                                      Heart Failure       0.00      0.00      0.00         0\n",
            "                                      Helicobacter Pylori Infection       0.00      0.00      0.00         0\n",
            "                                                         Hemangioma       0.00      0.00      0.00         0\n",
            "                                                       Hemophilia A       0.00      0.00      0.00         0\n",
            "                                                       Hemophilia B       0.00      0.00      0.00         0\n",
            "                                                        Hemorrhoids       0.00      0.00      0.00         0\n",
            "                                             Hepatic Encephalopathy       0.00      0.00      0.00         0\n",
            "                                                        Hepatic Tum       0.00      0.00      0.00         0\n",
            "                                                        Hepatitis B       0.00      0.00      0.00         0\n",
            "                                             Hepatitis B Prevention       0.00      0.00      0.00         0\n",
            "                                                        Hepatitis C       0.00      0.00      0.00         0\n",
            "                                           Hepatocellular Carcinoma       0.00      0.00      0.00         0\n",
            "                                             Herbal Supplementation       0.00      0.00      0.00         0\n",
            "                                              Hereditary Angioedema       0.00      0.00      0.00         0\n",
            "                                                     Herpes Simplex       0.00      0.00      0.00         0\n",
            "                                 Herpes Simplex Dendritic Keratitis       0.00      0.00      0.00         0\n",
            "                 Herpes Simplex, Mucocutaneous/Immunocompetent Host       0.00      0.00      0.00         0\n",
            "               Herpes Simplex, Mucocutaneous/Immunocompromised Host       0.00      0.00      0.00         0\n",
            "                                        Herpes Simplex, Suppression       0.00      0.00      0.00         0\n",
            "                                                       Herpes Zoste       0.00      0.00      0.00         0\n",
            "                                         Herpes Zoster, Prophylaxis       0.00      0.00      0.00         0\n",
            "                                                            Hiccups       0.00      0.00      0.00         0\n",
            "                                           Hidradenitis Suppurativa       0.00      0.00      0.00         0\n",
            "                                                High Blood Pressure       0.00      0.00      0.00         0\n",
            "                                                   High Cholesterol       0.00      0.00      0.00         0\n",
            "                            High Cholesterol, Familial Heterozygous       0.00      0.00      0.00         0\n",
            "                              High Cholesterol, Familial Homozygous       0.00      0.00      0.00         0\n",
            "                                                          Hirsutism       0.00      0.00      0.00         0\n",
            "                                                     Histoplasmosis       0.00      0.00      0.00         0\n",
            "                                                 Hodgkin's Lymphoma       0.00      0.00      0.00         0\n",
            "                                                        Hot Flashes       0.00      0.00      0.00         0\n",
            "                                              Human Papilloma Virus       0.00      0.00      0.00         0\n",
            "                                   Human Papillomavirus Prophylaxis       0.00      0.00      0.00         0\n",
            "                                                      Hydrocephalus       0.00      0.00      0.00         0\n",
            "                                                 Hyperbilirubinemia       0.00      0.00      0.00         0\n",
            "                                                      Hypercalcemia       0.00      0.00      0.00         0\n",
            "                                        Hypercalcemia of Malignancy       0.00      0.00      0.00         0\n",
            "                                                      Hyperekplexia       0.00      0.00      0.00         0\n",
            "                                                      Hyperhidrosis       0.00      0.00      0.00         0\n",
            "                                                       Hyperkalemia       0.00      0.00      0.00         0\n",
            "                                               Hyperlipoproteinemia       0.00      0.00      0.00         0\n",
            "            Hyperlipoproteinemia Type III, Elevated beta-VLDL   IDL       0.00      0.00      0.00         0\n",
            "                        Hyperlipoproteinemia Type IIa, Elevated LDL       0.00      0.00      0.00         0\n",
            "                        Hyperlipoproteinemia Type IV, Elevated VLDL       0.00      0.00      0.00         0\n",
            "                  Hyperparathyroidism Secondary to Renal Impairment       0.00      0.00      0.00         0\n",
            "                                                  Hyperphosphatemia       0.00      0.00      0.00         0\n",
            "                                 Hyperphosphatemia of Renal Failure       0.00      0.00      0.00         0\n",
            "                                                 Hyperprolactinemia       0.00      0.00      0.00         0\n",
            "                                                        Hypersomnia       0.00      0.00      0.00         0\n",
            "                                             Hypertensive Emergency       0.00      0.00      0.00         0\n",
            "                                                    Hyperthyroidism       0.00      0.00      0.00         0\n",
            "                                               Hypertriglyceridemia       0.00      0.00      0.00         0\n",
            "                            Hyperuricemia Secondary to Chemotherapy       0.00      0.00      0.00         0\n",
            "                                   Hypoactive Sexual Desire Disorde       0.00      0.00      0.00         0\n",
            "                                                       Hypocalcemia       0.00      0.00      0.00         0\n",
            "                                                    Hypodermoclysis       0.00      0.00      0.00         0\n",
            "                                                    Hypoestrogenism       0.00      0.00      0.00         0\n",
            "                                                       Hypoglycemia       0.00      0.00      0.00         0\n",
            "                                                 Hypogonadism, Male       0.00      0.00      0.00         0\n",
            "                                                        Hypokalemia       0.00      0.00      0.00         0\n",
            "                                     Hypokalemic Periodic Paralysis       0.00      0.00      0.00         0\n",
            "                                                     Hypomagnesemia       0.00      0.00      0.00         0\n",
            "                                                 Hypoparathyroidism       0.00      0.00      0.00         0\n",
            "                                                    Hypopituitarism       0.00      0.00      0.00         0\n",
            "                                                        Hypotension       0.00      0.00      0.00         0\n",
            "                              Hypothyroidism, After Thyroid Removal       0.00      0.00      0.00         0\n",
            "                                                      ICU Agitation       0.00      0.00      0.00         0\n",
            "                                                         Ichthyosis       0.00      0.00      0.00         0\n",
            "                                Idiopathic Thrombocytopenic Purpura       0.00      0.00      0.00         0\n",
            "                                                  Immunosuppression       0.00      0.00      0.00         0\n",
            "                                                            Impetig       0.00      0.00      0.00         0\n",
            "                                                        Indigestion       0.00      0.00      0.00         0\n",
            "                                              Infection Prophylaxis       0.00      0.00      0.00         0\n",
            "                                                Infectious Diarrhea       0.00      0.00      0.00         0\n",
            "                                         Inflammatory Bowel Disease       0.00      0.00      0.00         0\n",
            "                                            Inflammatory Conditions       0.00      0.00      0.00         0\n",
            "                                                          Influenza       0.00      0.00      0.00         0\n",
            "                                              Influenza Prophylaxis       0.00      0.00      0.00         0\n",
            "                                                           Insomnia       0.00      0.00      0.00         0\n",
            "                                     Insomnia, Stimulant-Associated       0.00      0.00      0.00         0\n",
            "                                        Insulin Resistance Syndrome       0.00      0.00      0.00         0\n",
            "                                          Intermittent Claudication       0.00      0.00      0.00         0\n",
            "                                     Intermittent Explosive Disorde       0.00      0.00      0.00         0\n",
            "                                              Interstitial Cystitis       0.00      0.00      0.00         0\n",
            "                                           Intraabdominal Infection       0.00      0.00      0.00         0\n",
            "                                           Intraocular Hypertension       0.00      0.00      0.00         0\n",
            "                                                             Iritis       0.00      0.00      0.00         0\n",
            "                                             Iron Deficiency Anemia       0.00      0.00      0.00         0\n",
            "                                           Irritable Bowel Syndrome       0.00      0.00      0.00         0\n",
            "                                                    Ischemic Stroke       0.00      0.00      0.00         0\n",
            "                                       Ischemic Stroke, Prophylaxis       0.00      0.00      0.00         0\n",
            "                                                    Joint Infection       0.00      0.00      0.00         0\n",
            "                                      Juvenile Idiopathic Arthritis       0.00      0.00      0.00         0\n",
            "                                      Juvenile Rheumatoid Arthritis       0.00      0.00      0.00         0\n",
            "                                                          Keratitis       0.00      0.00      0.00         0\n",
            "                                         Keratoconjunctivitis Sicca       0.00      0.00      0.00         0\n",
            "                                                          Keratosis       0.00      0.00      0.00         0\n",
            "                                                  Kidney Infections       0.00      0.00      0.00         0\n",
            "                                               Klinefelter Syndrome       0.00      0.00      0.00         0\n",
            "                                                    Labor Induction       0.00      0.00      0.00         0\n",
            "                                                         Labor Pain       0.00      0.00      0.00         0\n",
            "                                             Lactation Augmentation       0.00      0.00      0.00         0\n",
            "                                                Lactose Intolerance       0.00      0.00      0.00         0\n",
            "                                       Left Ventricular Dysfunction       0.00      0.00      0.00         0\n",
            "                                               Legionella Pneumonia       0.00      0.00      0.00         0\n",
            "                                            Lennox-Gastaut Syndrome       0.00      0.00      0.00         0\n",
            "                                                           Leukemia       0.00      0.00      0.00         0\n",
            "                                        Leukocytoclastic Vasculitis       0.00      0.00      0.00         0\n",
            "                                                 Lewy Body Dementia       0.00      0.00      0.00         0\n",
            "                                                      Lichen Planus       0.00      0.00      0.00         0\n",
            "                                                   Lichen Sclerosus       0.00      0.00      0.00         0\n",
            "                                                   Light Anesthesia       0.00      0.00      0.00         0\n",
            "                                                     Light Sedation       0.00      0.00      0.00         0\n",
            "                                                 Linear IgA Disease       0.00      0.00      0.00         0\n",
            "                                                      Lipodystrophy       0.00      0.00      0.00         0\n",
            "                                   Liver Magnetic Resonance Imaging       0.00      0.00      0.00         0\n",
            "                                                   Local Anesthesia       0.00      0.00      0.00         0\n",
            "                                                       Lyme Disease       0.00      0.00      0.00         0\n",
            "                                            Lyme Disease, Arthritis       0.00      0.00      0.00         0\n",
            "                                           Lyme Disease, Neurologic       0.00      0.00      0.00         0\n",
            "                                                Lymphocytic Colitis       0.00      0.00      0.00         0\n",
            "                                                           Lymphoma       0.00      0.00      0.00         0\n",
            "                                               Macular Degeneration       0.00      0.00      0.00         0\n",
            "                                                      Macular Edema       0.00      0.00      0.00         0\n",
            "                                           Major Depressive Disorde       0.00      0.00      0.00         0\n",
            "                                                            Malaria       0.00      0.00      0.00         0\n",
            "                                                 Malaria Prevention       0.00      0.00      0.00         0\n",
            "                                                   Malignant Glioma       0.00      0.00      0.00         0\n",
            "                                                              Mania       0.00      0.00      0.00         0\n",
            "                                                    Manscaping Pain       0.00      0.00      0.00         0\n",
            "                                                           Melanoma       0.00      0.00      0.00         0\n",
            "                                               Melanoma, Metastatic       0.00      0.00      0.00         0\n",
            "                                                            Melasma       0.00      0.00      0.00         0\n",
            "                                                  Meniere's Disease       0.00      0.00      0.00         0\n",
            "                                                         Meningitis       0.00      0.00      0.00         0\n",
            "                                          Meningitis, Meningococcal       0.00      0.00      0.00         0\n",
            "                               Meningococcal Meningitis Prophylaxis       0.00      0.00      0.00         0\n",
            "                                               Menopausal Disorders       0.00      0.00      0.00         0\n",
            "                                                        Menorrhagia       0.00      0.00      0.00         0\n",
            "                                                Menstrual Disorders       0.00      0.00      0.00         0\n",
            "              Methicillin-Resistant Staphylococcus Aureus Infection       0.00      0.00      0.00         0\n",
            "                                           Microscopic polyangiitis       0.00      0.00      0.00         0\n",
            "                                                           Migraine       0.00      0.00      0.00         0\n",
            "                                                Migraine Prevention       0.00      0.00      0.00         0\n",
            "                                          Mild Cognitive Impairment       0.00      0.00      0.00         0\n",
            "                                              Mitral Valve Prolapse       0.00      0.00      0.00         0\n",
            "                                    Mixed Connective Tissue Disease       0.00      0.00      0.00         0\n",
            "                                                      Mononucleosis       0.00      0.00      0.00         0\n",
            "                                                    Motion Sickness       0.00      0.00      0.00         0\n",
            "                              Mountain Sickness / Altitude Sickness       0.00      0.00      0.00         0\n",
            "                                                          Mucositis       0.00      0.00      0.00         0\n",
            "                                        Multiple Endocrine Adenomas       0.00      0.00      0.00         0\n",
            "                                                   Multiple Myeloma       0.00      0.00      0.00         0\n",
            "                                                 Multiple Sclerosis       0.00      0.00      0.00         0\n",
            "                                                  Mumps Prophylaxis       0.00      0.00      0.00         0\n",
            "                                                        Muscle Pain       0.00      0.00      0.00         0\n",
            "                                                       Muscle Spasm       0.00      0.00      0.00         0\n",
            "                                                   Muscle Twitching       0.00      0.00      0.00         0\n",
            "                                                  Myasthenia Gravis       0.00      0.00      0.00         0\n",
            "                      Mycobacterium avium-intracellulare, Treatment       0.00      0.00      0.00         0\n",
            "                                               Mycoplasma Pneumonia       0.00      0.00      0.00         0\n",
            "                                           Myelodysplastic Syndrome       0.00      0.00      0.00         0\n",
            "                                                      Myelofibrosis       0.00      0.00      0.00         0\n",
            "                                       Myeloproliferative Disorders       0.00      0.00      0.00         0\n",
            "                                                      Myxedema Coma       0.00      0.00      0.00         0\n",
            "                                         NSAID-Induced Gastric Ulce       0.00      0.00      0.00         0\n",
            "                                    NSAID-Induced Ulcer Prophylaxis       0.00      0.00      0.00         0\n",
            "                                                         Narcolepsy       0.00      0.00      0.00         0\n",
            "                            Nasal Carriage of Staphylococcus aureus       0.00      0.00      0.00         0\n",
            "                                                   Nasal Congestion       0.00      0.00      0.00         0\n",
            "                                                       Nasal Polyps       0.00      0.00      0.00         0\n",
            "                                                    Nausea/Vomiting       0.00      0.00      0.00         0\n",
            "                                       Nausea/Vomiting of Pregnancy       0.00      0.00      0.00         0\n",
            "                              Nausea/Vomiting, Chemotherapy Induced       0.00      0.00      0.00         0\n",
            "                                     Nausea/Vomiting, Postoperative       0.00      0.00      0.00         0\n",
            "                                 Nausea/Vomiting, Radiation Induced       0.00      0.00      0.00         0\n",
            "                                                          Neck Pain       0.00      0.00      0.00         0\n",
            "                                                Neoplastic Diseases       0.00      0.00      0.00         0\n",
            "                                                   Nephrocalcinosis       0.00      0.00      0.00         0\n",
            "                                                 Nephrotic Syndrome       0.00      0.00      0.00         0\n",
            "                                                          Neuralgia       0.00      0.00      0.00         0\n",
            "                                                           Neuritis       0.00      0.00      0.00         0\n",
            "                                                   Neuropathic Pain       0.00      0.00      0.00         0\n",
            "                                                           Neurosis       0.00      0.00      0.00         0\n",
            "                                                       Neurosurgery       0.00      0.00      0.00         0\n",
            "                                                Neurotic Depression       0.00      0.00      0.00         0\n",
            "                                                        Neutropenia       0.00      0.00      0.00         0\n",
            "                           Neutropenia Associated with Chemotherapy       0.00      0.00      0.00         0\n",
            "                                      New Daily Persistent Headache       0.00      0.00      0.00         0\n",
            "                                                  Niacin Deficiency       0.00      0.00      0.00         0\n",
            "                                                      Night Terrors       0.00      0.00      0.00         0\n",
            "                                                         Nightmares       0.00      0.00      0.00         0\n",
            "                                                        Nocardiosis       0.00      0.00      0.00         0\n",
            "                                               Nocturnal Leg Cramps       0.00      0.00      0.00         0\n",
            "                                             Non-Hodgkin's Lymphoma       0.00      0.00      0.00         0\n",
            "                                          Non-Small Cell Lung Cance       0.00      0.00      0.00         0\n",
            "                                   Nonalcoholic Fatty Liver Disease       0.00      0.00      0.00         0\n",
            "                                              Noninfectious Colitis       0.00      0.00      0.00         0\n",
            "                                           Nonoccupational Exposure       0.00      0.00      0.00         0\n",
            "                                                  Not Listed / Othe       0.00      0.00      0.00         0\n",
            "                                                            Obesity       0.00      0.00      0.00         0\n",
            "                                       Obsessive Compulsive Disorde       0.00      0.00      0.00         0\n",
            "                          Obstructive Sleep Apnea/Hypopnea Syndrome       0.00      0.00      0.00         0\n",
            "                                                Occipital Neuralgia       0.00      0.00      0.00         0\n",
            "                                                     Ocular Rosacea       0.00      0.00      0.00         0\n",
            "                                                       Oligospermia       0.00      0.00      0.00         0\n",
            "                                          Onychomycosis, Fingernail       0.00      0.00      0.00         0\n",
            "                                             Onychomycosis, Toenail       0.00      0.00      0.00         0\n",
            "                                                       Oophorectomy       0.00      0.00      0.00         0\n",
            "                                                 Ophthalmic Surgery       0.00      0.00      0.00         0\n",
            "                                                     Opiate Adjunct       0.00      0.00      0.00         0\n",
            "                                                  Opiate Dependence       0.00      0.00      0.00         0\n",
            "                                                  Opiate Withdrawal       0.00      0.00      0.00         0\n",
            "                                                    Opioid Overdose       0.00      0.00      0.00         0\n",
            "                                        Opioid-Induced Constipation       0.00      0.00      0.00         0\n",
            "                                       Oppositional Defiant Disorde       0.00      0.00      0.00         0\n",
            "                                                        Oral Thrush       0.00      0.00      0.00         0\n",
            "                                         Oral and Dental Conditions       0.00      0.00      0.00         0\n",
            "                            Organ Transplant, Rejection Prophylaxis       0.00      0.00      0.00         0\n",
            "                               Organ Transplant, Rejection Reversal       0.00      0.00      0.00         0\n",
            "                                                     Osteoarthritis       0.00      0.00      0.00         0\n",
            "                        Osteolytic Bone Lesions of Multiple Myeloma       0.00      0.00      0.00         0\n",
            "                         Osteolytic Bone Metastases of Solid Tumors       0.00      0.00      0.00         0\n",
            "                                                       Osteoporosis       0.00      0.00      0.00         0\n",
            "                                                     Otitis Externa       0.00      0.00      0.00         0\n",
            "                                                       Otitis Media       0.00      0.00      0.00         0\n",
            "                                                      Ovarian Cance       0.00      0.00      0.00         0\n",
            "                                                      Ovarian Cysts       0.00      0.00      0.00         0\n",
            "                                                  Overactive Bladde       0.00      0.00      0.00         0\n",
            "                                                Ovulation Induction       0.00      0.00      0.00         0\n",
            "                                                    Paget's Disease       0.00      0.00      0.00         0\n",
            "                                                               Pain       0.00      0.00      0.00         0\n",
            "                                                          Pain/Feve       0.00      0.00      0.00         0\n",
            "                                                   Pancreatic Cance       0.00      0.00      0.00         0\n",
            "                                    Pancreatic Exocrine Dysfunction       0.00      0.00      0.00         0\n",
            "                                                      Panic Disorde       0.00      0.00      0.00         0\n",
            "                                 Paragonimus westermani, Lung Fluke       0.00      0.00      0.00         0\n",
            "                                                   Paranoid Disorde       0.00      0.00      0.00         0\n",
            "                                                Parkinson's Disease       0.00      0.00      0.00         0\n",
            "                                                  Parkinsonian Trem       0.00      0.00      0.00         0\n",
            "                                                       Parkinsonism       0.00      0.00      0.00         0\n",
            "                            Paroxysmal Supraventricular Tachycardia       0.00      0.00      0.00         0\n",
            "                                           Patent Ductus Arteriosus       0.00      0.00      0.00         0\n",
            "                             Pathological Hypersecretory Conditions       0.00      0.00      0.00         0\n",
            "                                                                 Pe       0.00      0.00      0.00         0\n",
            "                                Pediatric Growth Hormone Deficiency       0.00      0.00      0.00         0\n",
            "                                        Pelvic Inflammatory Disease       0.00      0.00      0.00         0\n",
            "                                                         Pemphigoid       0.00      0.00      0.00         0\n",
            "                                                          Pemphigus       0.00      0.00      0.00         0\n",
            "                                                        Peptic Ulce       0.00      0.00      0.00         0\n",
            "                                 Percutaneous Coronary Intervention       0.00      0.00      0.00         0\n",
            "                                                Performance Anxiety       0.00      0.00      0.00         0\n",
            "                                            Perimenopausal Symptoms       0.00      0.00      0.00         0\n",
            "                                                        Period Pain       0.00      0.00      0.00         0\n",
            "                                     Periodic Limb Movement Disorde       0.00      0.00      0.00         0\n",
            "                                                      Periodontitis       0.00      0.00      0.00         0\n",
            "                                                Perioral Dermatitis       0.00      0.00      0.00         0\n",
            "                                        Peripheral Arterial Disease       0.00      0.00      0.00         0\n",
            "                                              Peripheral Neuropathy       0.00      0.00      0.00         0\n",
            "                                         Peripheral T-cell Lymphoma       0.00      0.00      0.00         0\n",
            "                                                        Peritonitis       0.00      0.00      0.00         0\n",
            "                                      Persistent Depressive Disorde       0.00      0.00      0.00         0\n",
            "                                                          Pertussis       0.00      0.00      0.00         0\n",
            "                                                 Peyronie's Disease       0.00      0.00      0.00         0\n",
            "                                                        Pharyngitis       0.00      0.00      0.00         0\n",
            "                                             Photoaging of the Skin       0.00      0.00      0.00         0\n",
            "                        Pinworm Infection (Enterobius vermicularis)       0.00      0.00      0.00         0\n",
            "                                           Pityriasis rubra pilaris       0.00      0.00      0.00         0\n",
            "                                                   Plaque Psoriasis       0.00      0.00      0.00         0\n",
            "                                    Platelet Aggregation Inhibition       0.00      0.00      0.00         0\n",
            "                                   Pneumococcal Disease Prophylaxis       0.00      0.00      0.00         0\n",
            "                                                          Pneumonia       0.00      0.00      0.00         0\n",
            "                                          Polycystic Ovary Syndrome       0.00      0.00      0.00         0\n",
            "                                                  Polycythemia Vera       0.00      0.00      0.00         0\n",
            "                                                          Porphyria       0.00      0.00      0.00         0\n",
            "                                                Portal Hypertension       0.00      0.00      0.00         0\n",
            "                                      Post Traumatic Stress Disorde       0.00      0.00      0.00         0\n",
            "                                      Post-Cholecystectomy Diarrhea       0.00      0.00      0.00         0\n",
            "                                             Postherpetic Neuralgia       0.00      0.00      0.00         0\n",
            "                                            Postmenopausal Symptoms       0.00      0.00      0.00         0\n",
            "                       Postoperative Increased Intraocular Pressure       0.00      0.00      0.00         0\n",
            "                                  Postoperative Ocular Inflammation       0.00      0.00      0.00         0\n",
            "                                                 Postoperative Pain       0.00      0.00      0.00         0\n",
            "                                             Postpartum Breast Pain       0.00      0.00      0.00         0\n",
            "                                              Postpartum Depression       0.00      0.00      0.00         0\n",
            "                          Postural Orthostatic Tachycardia Syndrome       0.00      0.00      0.00         0\n",
            "                                           Pre-Exposure Prophylaxis       0.00      0.00      0.00         0\n",
            "                                                 Precocious Puberty       0.00      0.00      0.00         0\n",
            "                                                      Premature Lab       0.00      0.00      0.00         0\n",
            "                              Premature Ventricular Depolarizations       0.00      0.00      0.00         0\n",
            "                                     Premenstrual Dysphoric Disorde       0.00      0.00      0.00         0\n",
            "                                              Premenstrual Syndrome       0.00      0.00      0.00         0\n",
            "                              Prevention of Atherothrombotic Events       0.00      0.00      0.00         0\n",
            "                                    Prevention of Bladder infection       0.00      0.00      0.00         0\n",
            "                               Prevention of Cardiovascular Disease       0.00      0.00      0.00         0\n",
            "                                        Prevention of Dental Caries       0.00      0.00      0.00         0\n",
            "                                          Prevention of Hypokalemia       0.00      0.00      0.00         0\n",
            "                                         Prevention of Osteoporosis       0.00      0.00      0.00         0\n",
            "              Prevention of Perinatal Group B Streptococcal Disease       0.00      0.00      0.00         0\n",
            "               Prevention of Thromboembolism in Atrial Fibrillation       0.00      0.00      0.00         0\n",
            "                                         Primary Hyperaldosteronism       0.00      0.00      0.00         0\n",
            "                               Primary Hyperaldosteronism Diagnosis       0.00      0.00      0.00         0\n",
            "                                  Primary Immunodeficiency Syndrome       0.00      0.00      0.00         0\n",
            "                                         Primary Nocturnal Enuresis       0.00      0.00      0.00         0\n",
            "                                            Primary Ovarian Failure       0.00      0.00      0.00         0\n",
            "                                         Progesterone Insufficiency       0.00      0.00      0.00         0\n",
            "                                                     Prostate Cance       0.00      0.00      0.00         0\n",
            "                                                        Prostatitis       0.00      0.00      0.00         0\n",
            "Prosthetic Heart Valves, Mechanical Valves - Thrombosis Prophylaxis       0.00      0.00      0.00         0\n",
            "    Prosthetic Heart Valves, Tissue Valves - Thrombosis Prophylaxis       0.00      0.00      0.00         0\n",
            "                                                           Pruritus       0.00      0.00      0.00         0\n",
            "                            Pruritus of Partial Biliary Obstruction       0.00      0.00      0.00         0\n",
            "                                                Pseudobulbar Affect       0.00      0.00      0.00         0\n",
            "                                            Pseudogout, Prophylaxis       0.00      0.00      0.00         0\n",
            "                                           Pseudomembranous Colitis       0.00      0.00      0.00         0\n",
            "                                                Pseudotumor Cerebri       0.00      0.00      0.00         0\n",
            "                                                          Psoriasis       0.00      0.00      0.00         0\n",
            "                                                Psoriatic Arthritis       0.00      0.00      0.00         0\n",
            "                                                          Psychosis       0.00      0.00      0.00         0\n",
            "                                                 Pudendal Neuralgia       0.00      0.00      0.00         0\n",
            "                                                 Pulmonary Embolism       0.00      0.00      0.00         0\n",
            "                                    Pulmonary Embolism, First Event       0.00      0.00      0.00         0\n",
            "                                Pulmonary Embolism, Recurrent Event       0.00      0.00      0.00         0\n",
            "                                             Pulmonary Hypertension       0.00      0.00      0.00         0\n",
            "                                                 Pupillary Dilation       0.00      0.00      0.00         0\n",
            "                                                             Q Feve       0.00      0.00      0.00         0\n",
            "                                                 Rabies Prophylaxis       0.00      0.00      0.00         0\n",
            "                            Radionuclide Myocardial Perfusion Study       0.00      0.00      0.00         0\n",
            "                                               Ramsay Hunt Syndrome       0.00      0.00      0.00         0\n",
            "                                                 Raynaud's Syndrome       0.00      0.00      0.00         0\n",
            "                              Reflex Sympathetic Dystrophy Syndrome       0.00      0.00      0.00         0\n",
            "                                                  Reiter's Syndrome       0.00      0.00      0.00         0\n",
            "                                              Rejection Prophylaxis       0.00      0.00      0.00         0\n",
            "                                               Renal Cell Carcinoma       0.00      0.00      0.00         0\n",
            "                                                   Renal Transplant       0.00      0.00      0.00         0\n",
            "                                             Restless Legs Syndrome       0.00      0.00      0.00         0\n",
            "                       Reversal of Nondepolarizing Muscle Relaxants       0.00      0.00      0.00         0\n",
            "                                        Reversal of Opioid Sedation       0.00      0.00      0.00         0\n",
            "                                               Rheumatoid Arthritis       0.00      0.00      0.00         0\n",
            "                                                           Rhinitis       0.00      0.00      0.00         0\n",
            "                                                         Rhinorrhea       0.00      0.00      0.00         0\n",
            "                                                            Rosacea       0.00      0.00      0.00         0\n",
            "                                                              SIADH       0.00      0.00      0.00         0\n",
            "                                                    STD Prophylaxis       0.00      0.00      0.00         0\n",
            "                                               Salivary Gland Cance       0.00      0.00      0.00         0\n",
            "                                                        Sarcoidosis       0.00      0.00      0.00         0\n",
            "                                                            Scabies       0.00      0.00      0.00         0\n",
            "                                                     Schilling Test       0.00      0.00      0.00         0\n",
            "                                              Schistosoma japonicum       0.00      0.00      0.00         0\n",
            "                                            Schizoaffective Disorde       0.00      0.00      0.00         0\n",
            "                                                      Schizophrenia       0.00      0.00      0.00         0\n",
            "                                                Schnitzler Syndrome       0.00      0.00      0.00         0\n",
            "                                                           Sciatica       0.00      0.00      0.00         0\n",
            "                                                        Scleroderma       0.00      0.00      0.00         0\n",
            "                                         Seasonal Affective Disorde       0.00      0.00      0.00         0\n",
            "                                   Seasonal Allergic Conjunctivitis       0.00      0.00      0.00         0\n",
            "                                              Seborrheic Dermatitis       0.00      0.00      0.00         0\n",
            "                           Secondary Cutaneous Bacterial Infections       0.00      0.00      0.00         0\n",
            "                                      Secondary Hyperparathyroidism       0.00      0.00      0.00         0\n",
            "                                                           Sedation       0.00      0.00      0.00         0\n",
            "                                                 Seizure Prevention       0.00      0.00      0.00         0\n",
            "                                                           Seizures       0.00      0.00      0.00         0\n",
            "                                                             Sepsis       0.00      0.00      0.00         0\n",
            "                                          Severe Mood Dysregulation       0.00      0.00      0.00         0\n",
            "                                   Sexual Dysfunction, SSRI Induced       0.00      0.00      0.00         0\n",
            "                                           Shift Work Sleep Disorde       0.00      0.00      0.00         0\n",
            "                                                      Short Stature       0.00      0.00      0.00         0\n",
            "                                              Short Stature for Age       0.00      0.00      0.00         0\n",
            "                                                     Sinus Symptoms       0.00      0.00      0.00         0\n",
            "                                                          Sinusitis       0.00      0.00      0.00         0\n",
            "                                                 Sjogren's Syndrome       0.00      0.00      0.00         0\n",
            "                                                         Skin Cance       0.00      0.00      0.00         0\n",
            "                                    Skin Disinfection, Preoperative       0.00      0.00      0.00         0\n",
            "                                                          Skin Rash       0.00      0.00      0.00         0\n",
            "                                       Skin and Structure Infection       0.00      0.00      0.00         0\n",
            "                                      Skin or Soft Tissue Infection       0.00      0.00      0.00         0\n",
            "                                                    Sleep Paralysis       0.00      0.00      0.00         0\n",
            "                                   Small Bowel Bacterial Overgrowth       0.00      0.00      0.00         0\n",
            "                                  Small Bowel or Pancreatic Fistula       0.00      0.00      0.00         0\n",
            "                                             Small Fiber Neuropathy       0.00      0.00      0.00         0\n",
            "                                                  Smoking Cessation       0.00      0.00      0.00         0\n",
            "                                             Social Anxiety Disorde       0.00      0.00      0.00         0\n",
            "                                                Soft Tissue Sarcoma       0.00      0.00      0.00         0\n",
            "                                                       Solid Tumors       0.00      0.00      0.00         0\n",
            "                                            Somatoform Pain Disorde       0.00      0.00      0.00         0\n",
            "                                                        Sore Throat       0.00      0.00      0.00         0\n",
            "                                                  Spondyloarthritis       0.00      0.00      0.00         0\n",
            "                                                  Spondylolisthesis       0.00      0.00      0.00         0\n",
            "                                                     Sporotrichosis       0.00      0.00      0.00         0\n",
            "                                            Squamous Cell Carcinoma       0.00      0.00      0.00         0\n",
            "                                                 Status Epilepticus       0.00      0.00      0.00         0\n",
            "                                                    Still's Disease       0.00      0.00      0.00         0\n",
            "                                                      Stomach Cance       0.00      0.00      0.00         0\n",
            "                                                       Stomach Ulce       0.00      0.00      0.00         0\n",
            "                                                         Strabismus       0.00      0.00      0.00         0\n",
            "                                                       Strep Throat       0.00      0.00      0.00         0\n",
            "                                            Streptococcal Infection       0.00      0.00      0.00         0\n",
            "                                           Stress Ulcer Prophylaxis       0.00      0.00      0.00         0\n",
            "                                                   Strongyloidiasis       0.00      0.00      0.00         0\n",
            "                                            Subarachnoid Hemorrhage       0.00      0.00      0.00         0\n",
            "                                                 Submental Fullness       0.00      0.00      0.00         0\n",
            "                                                            Sunburn       0.00      0.00      0.00         0\n",
            "                                       Supraventricular Tachycardia       0.00      0.00      0.00         0\n",
            "                                               Surgical Prophylaxis       0.00      0.00      0.00         0\n",
            "                                                          Swine Flu       0.00      0.00      0.00         0\n",
            "                                                      Syringomyelia       0.00      0.00      0.00         0\n",
            "                                               Systemic Candidiasis       0.00      0.00      0.00         0\n",
            "                                       Systemic Lupus Erythematosus       0.00      0.00      0.00         0\n",
            "                                              Systemic Mastocytosis       0.00      0.00      0.00         0\n",
            "                                                 Systemic Sclerosis       0.00      0.00      0.00         0\n",
            "                                                    TSH Suppression       0.00      0.00      0.00         0\n",
            "                                                 Tardive Dyskinesia       0.00      0.00      0.00         0\n",
            "                                    Temporomandibular Joint Disorde       0.00      0.00      0.00         0\n",
            "                                                         Tendonitis       0.00      0.00      0.00         0\n",
            "                                                   Testicular Cance       0.00      0.00      0.00         0\n",
            "                                                            Tetanus       0.00      0.00      0.00         0\n",
            "                                                    Thrombocythemia       0.00      0.00      0.00         0\n",
            "                                                   Thrombocytopenia       0.00      0.00      0.00         0\n",
            "                                  Thromboembolic Stroke Prophylaxis       0.00      0.00      0.00         0\n",
            "                                                      Thyroid Cance       0.00      0.00      0.00         0\n",
            "                                           Thyroid Suppression Test       0.00      0.00      0.00         0\n",
            "                                                     Thyrotoxicosis       0.00      0.00      0.00         0\n",
            "                                                        Tic Disorde       0.00      0.00      0.00         0\n",
            "                                                       Tinea Barbae       0.00      0.00      0.00         0\n",
            "                                                      Tinea Capitis       0.00      0.00      0.00         0\n",
            "                                                     Tinea Corporis       0.00      0.00      0.00         0\n",
            "                                                       Tinea Cruris       0.00      0.00      0.00         0\n",
            "                                                        Tinea Pedis       0.00      0.00      0.00         0\n",
            "                                                     Tinea Versicol       0.00      0.00      0.00         0\n",
            "                                                           Tinnitus       0.00      0.00      0.00         0\n",
            "                                            Tonsillitis/Pharyngitis       0.00      0.00      0.00         0\n",
            "                                                          Toothache       0.00      0.00      0.00         0\n",
            "                                               Topical Disinfection       0.00      0.00      0.00         0\n",
            "                                                Tourette's Syndrome       0.00      0.00      0.00         0\n",
            "                                          Transient Ischemic Attack       0.00      0.00      0.00         0\n",
            "                                                Transverse Myelitis       0.00      0.00      0.00         0\n",
            "                                                Traveler's Diarrhea       0.00      0.00      0.00         0\n",
            "                                                     Trichomoniasis       0.00      0.00      0.00         0\n",
            "                                                   Trichotillomania       0.00      0.00      0.00         0\n",
            "                                               Trigeminal Neuralgia       0.00      0.00      0.00         0\n",
            "                                               Tuberculosis, Active       0.00      0.00      0.00         0\n",
            "                                               Tuberculosis, Latent       0.00      0.00      0.00         0\n",
            "                                          Tuberculosis, Prophylaxis       0.00      0.00      0.00         0\n",
            "                                                  Turner's Syndrome       0.00      0.00      0.00         0\n",
            "                                                       Typhoid Feve       0.00      0.00      0.00         0\n",
            "                                                 Ulcerative Colitis       0.00      0.00      0.00         0\n",
            "                                         Ulcerative Colitis, Active       0.00      0.00      0.00         0\n",
            "                                    Ulcerative Colitis, Maintenance       0.00      0.00      0.00         0\n",
            "                                               Ulcerative Proctitis       0.00      0.00      0.00         0\n",
            "                                                Underactive Thyroid       0.00      0.00      0.00         0\n",
            "                         Undifferentiated Connective Tissue Disease       0.00      0.00      0.00         0\n",
            "                                              Upper Limb Spasticity       0.00      0.00      0.00         0\n",
            "                                  Upper Respiratory Tract Infection       0.00      0.00      0.00         0\n",
            "                                               Urinary Incontinence       0.00      0.00      0.00         0\n",
            "                                                  Urinary Retention       0.00      0.00      0.00         0\n",
            "                                            Urinary Tract Infection       0.00      0.00      0.00         0\n",
            "                                               Urinary Tract Stones       0.00      0.00      0.00         0\n",
            "                                                          Urticaria       0.00      0.00      0.00         0\n",
            "                                                   Uterine Bleeding       0.00      0.00      0.00         0\n",
            "                                                   Uterine Fibroids       0.00      0.00      0.00         0\n",
            "                                                            Uveitis       0.00      0.00      0.00         0\n",
            "                                            Vaginal Yeast Infection       0.00      0.00      0.00         0\n",
            "                                                    Varicella-Zoste       0.00      0.00      0.00         0\n",
            "                                                     Varicose Veins       0.00      0.00      0.00         0\n",
            "                                             Ventricular Arrhythmia       0.00      0.00      0.00         0\n",
            "                                           Ventricular Fibrillation       0.00      0.00      0.00         0\n",
            "                                            Ventricular Tachycardia       0.00      0.00      0.00         0\n",
            "                                                             Vertig       0.00      0.00      0.00         0\n",
            "                                             Vitamin B12 Deficiency       0.00      0.00      0.00         0\n",
            "                                               Vitamin D Deficiency       0.00      0.00      0.00         0\n",
            "                                               Vitamin K Deficiency       0.00      0.00      0.00         0\n",
            "                     Vitamin/Mineral Supplementation and Deficiency       0.00      0.00      0.00         0\n",
            "         Vitamin/Mineral Supplementation during Pregnancy/Lactation       0.00      0.00      0.00         0\n",
            "                                                         Vulvodynia       0.00      0.00      0.00         0\n",
            "                                                              Warts       0.00      0.00      0.00         0\n",
            "                                           Wegener's Granulomatosis       0.00      0.00      0.00         0\n",
            "                                                        Weight Loss       0.00      0.00      0.00         0\n",
            "                                                   Wilson's Disease       0.00      0.00      0.00         0\n",
            "                                     Wolff-Parkinson-White Syndrome       0.00      0.00      0.00         0\n",
            "                                                  Women (minoxidil)       0.00      0.00      0.00         0\n",
            "                                                 Women (oxybutynin)       0.00      0.00      0.00         0\n",
            "                                                    Wound Cleansing       0.00      0.00      0.00         0\n",
            "                                                         Xerostomia       0.00      0.00      0.00         0\n",
            "                                         Zollinger-Ellison Syndrome       0.00      0.00      0.00         0\n",
            "                                                  acial Lipoatrophy       0.00      0.00      0.00         0\n",
            "                                                     acial Wrinkles       0.00      0.00      0.00         0\n",
            "                                                actor IX Deficiency       0.00      0.00      0.00         0\n",
            "                                                   ailure to Thrive       0.00      0.00      0.00         0\n",
            "                             amilial Cold Autoinflammatory Syndrome       0.00      0.00      0.00         0\n",
            "                                         amilial Mediterranean Feve       0.00      0.00      0.00         0\n",
            "                                                             atigue       0.00      0.00      0.00         0\n",
            "                                   cal Segmental Glomerulosclerosis       0.00      0.00      0.00         0\n",
            "                                                  emale Infertility       0.00      0.00      0.00         0\n",
            "                                                                eve       0.00      0.00      0.00         0\n",
            "                                        ge (amlodipine / valsartan)       0.00      0.00      0.00         0\n",
            "              ge HCT (amlodipine / hydrochlorothiazide / valsartan)       0.00      0.00      0.00         0\n",
            "                                          ibrocystic Breast Disease       0.00      0.00      0.00         0\n",
            "                                                        ibromyalgia       0.00      0.00      0.00         0\n",
            "                                                lic Acid Deficiency       0.00      0.00      0.00         0\n",
            "                                                  llicular Lymphoma       0.00      0.00      0.00         0\n",
            "                                                     m Pain Disorde       0.00      0.00      0.00         0\n",
            "                                                      mance Anxiety       0.00      0.00      0.00         0\n",
            "                                                                 me       0.00      0.00      0.00         0\n",
            "                                                min / pioglitazone)       0.00      0.00      0.00         0\n",
            "                                               min / rosiglitazone)       0.00      0.00      0.00         0\n",
            "                                                 min / saxagliptin)       0.00      0.00      0.00         0\n",
            "                                                 min / sitagliptin)       0.00      0.00      0.00         0\n",
            "                                                               min)       0.00      0.00      0.00         0\n",
            "                                                                mis       0.00      0.00      0.00         0\n",
            "                                                             mist (       0.00      0.00      0.00         0\n",
            "                                              moterol / mometasone)       0.00      0.00      0.00         0\n",
            "                                                           moterol)       0.00      0.00      0.00         0\n",
            "                                          mulation) (phenylephrine)       0.00      0.00      0.00         0\n",
            "                                                             t Care       0.00      0.00      0.00         0\n",
            "                       t Pac with Cyclobenzaprine (cyclobenzaprine)       0.00      0.00      0.00         0\n",
            "                                            tic (mycophenolic acid)       0.00      0.00      0.00         0\n",
            "                                          unctional Gastric Disorde       0.00      0.00      0.00         0\n",
            "                                        ungal Infection Prophylaxis       0.00      0.00      0.00         0\n",
            "                                                    ungal Pneumonia       0.00      0.00      0.00         0\n",
            "                                           von Willebrand's Disease       0.00      0.00      0.00         0\n",
            "                                                        zen Shoulde       0.00      0.00      0.00         0\n",
            "\n",
            "                                                          micro avg       0.00      0.00      0.00         0\n",
            "                                                          macro avg       0.00      0.00      0.00         0\n",
            "                                                       weighted avg       0.00      0.00      0.00         0\n",
            "\n"
          ],
          "name": "stdout"
        }
      ]
    }
  ]
}