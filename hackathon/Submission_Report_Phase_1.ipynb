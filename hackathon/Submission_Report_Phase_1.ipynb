{
  "nbformat": 4,
  "nbformat_minor": 0,
  "metadata": {
    "colab": {
      "name": "Submission_Report_Phase_1.ipynb",
      "provenance": [],
      "include_colab_link": true
    },
    "kernelspec": {
      "name": "python3",
      "display_name": "Python 3"
    }
  },
  "cells": [
    {
      "cell_type": "markdown",
      "metadata": {
        "id": "view-in-github",
        "colab_type": "text"
      },
      "source": [
        "<a href=\"https://colab.research.google.com/github/dhirajsuvarna/nlp_text_classification/blob/master/hackathon/Submission_Report_Phase_1.ipynb\" target=\"_parent\"><img src=\"https://colab.research.google.com/assets/colab-badge.svg\" alt=\"Open In Colab\"/></a>"
      ]
    },
    {
      "cell_type": "markdown",
      "metadata": {
        "id": "GoHCMDw09aLz",
        "colab_type": "text"
      },
      "source": [
        "# Phase-1 Submission Report: Predicting Patient Condition based on the Review Comments\n",
        "\n",
        "\n",
        "---\n",
        "\n"
      ]
    },
    {
      "cell_type": "markdown",
      "metadata": {
        "id": "n8SFwdVl9-W_",
        "colab_type": "text"
      },
      "source": [
        "#Challenge description\n",
        "\n",
        "Multi class classification:\n",
        "Using the given dataset, can you predict patient condition\n",
        "based on reviews? \n",
        "\n",
        ">### Constraints \n",
        "Use Latest NLP Model with transfer learning [DL only]\n",
        "\n",
        "> ### Evaluation\n",
        "Performance Metrics = Prediction/True Label > 85%"
      ]
    },
    {
      "cell_type": "markdown",
      "metadata": {
        "id": "OHhJXvFH-ywi",
        "colab_type": "text"
      },
      "source": [
        "#Understanding of Problem Statement\n",
        "\n",
        "Following were the conclusions after going throught the dataset\n",
        "*  The dataset is of Drug Reviews from some online drug selling site\n",
        "*  It consisted of Reviews regarding the drug along with the condition the patient was using the drug for\n",
        "* It also had the Drug Name along with Date of Review, Rating of Review and Number of people who found this review useful (Usefull Count)\n",
        "* It consited of unique id which I guess is the id each user who has logged in\n",
        "\n",
        "So from this, the problem statement becomes more clear. <br/>\n",
        "The idea here is to predict which condition is the user or his/her loved ones suffering from, from the reviews he/she has given for the corresponding drug.\n",
        "\n",
        "As this problem involved understanding the review of the user to a particular drug, it comes under the field of Natural Language Processing(NLP) and hence NLP should be used to identify and classify the **condition** of the user from the **reviews**.\n"
      ]
    },
    {
      "cell_type": "markdown",
      "metadata": {
        "id": "EsxKWXkq-F4P",
        "colab_type": "text"
      },
      "source": [
        "#Research Work\n",
        "\n",
        "My Research Work included understanding the field of Natural Language Processing and its evolution to the present state. \n",
        "\n",
        "NLP evolution can be broadly classifed into a Modern NLP which is the present era of NLP with Machine Learning and a Traditional NLP which was a pre Machine Learning era. \n",
        "\n",
        "The main goal of NLP is to make sense of the data mainly the unstructured data, which makes up like majority of the data present in the world. \n",
        "\n",
        "To do this, during the Pre Machine Learning era, the NLP pipleline consisted of different components which were used to make sense of the data. \n",
        "* Sentence Segmentation\n",
        "* Tokenization \n",
        "* Parts of Speech Tagging \n",
        "* Lemmatization \n",
        "* Stop Words\n",
        "* Dependency Parsing \n",
        "* Noun Phrases \n",
        "* Named Entity Recognition \n",
        "* Corefernce Resolution \n",
        "\n"
      ]
    },
    {
      "cell_type": "markdown",
      "metadata": {
        "id": "lgHSc9IZ-8Tx",
        "colab_type": "text"
      },
      "source": [
        "#Proposed Solution\n",
        "\n",
        "Propose Solution include to use ULMFit Transfer Learning technique to use a pretrained model which was trained on WikiText and fine tune it to classify the drug reviews. \n",
        "\n",
        "The below link following contains the example of ULMFit Model retrained to do Sentiment Classification of IMDB Movie Reviews, by the fastai team which developed the ULMFit Model. \n",
        "\n",
        "https://github.com/fastai/course-nlp/blob/master/review-nlp-transfer.ipynb \n"
      ]
    },
    {
      "cell_type": "markdown",
      "metadata": {
        "id": "POQ3AJ8r_GvR",
        "colab_type": "text"
      },
      "source": [
        "# Rationale of using models and tuning parameters\n",
        "\n",
        "Most of the parameters are default as used by the Creator of ULMFit.\n",
        "\n",
        "Learning Rate is determined by plotting the learning rate curve. "
      ]
    },
    {
      "cell_type": "markdown",
      "metadata": {
        "id": "FVzff0VI_WOx",
        "colab_type": "text"
      },
      "source": [
        "#GitHub link with code documentation "
      ]
    },
    {
      "cell_type": "markdown",
      "metadata": {
        "id": "_2ed0oj__ajo",
        "colab_type": "text"
      },
      "source": [
        "Below is the link to the python notebook (colab notebook), implementing the above model along with the results.\n",
        "> [Text Classification using UMLFit](https://github.com/dhirajsuvarna/nlp_text_classification/blob/master/hackathon/ULMFit_Drug_Review_Classification.ipynb)"
      ]
    }
  ]
}