{
  "nbformat": 4,
  "nbformat_minor": 0,
  "metadata": {
    "colab": {
      "name": "Submission_Report_Phase_1.ipynb",
      "provenance": [],
      "include_colab_link": true
    },
    "kernelspec": {
      "name": "python3",
      "display_name": "Python 3"
    }
  },
  "cells": [
    {
      "cell_type": "markdown",
      "metadata": {
        "id": "view-in-github",
        "colab_type": "text"
      },
      "source": [
        "<a href=\"https://colab.research.google.com/github/dhirajsuvarna/nlp_text_classification/blob/master/hackathon/Submission_Report_Phase_1.ipynb\" target=\"_parent\"><img src=\"https://colab.research.google.com/assets/colab-badge.svg\" alt=\"Open In Colab\"/></a>"
      ]
    },
    {
      "cell_type": "markdown",
      "metadata": {
        "id": "GoHCMDw09aLz",
        "colab_type": "text"
      },
      "source": [
        "# Phase-1 Submission Report: Predicting Patient Condition based on the Review Comments"
      ]
    },
    {
      "cell_type": "markdown",
      "metadata": {
        "id": "n8SFwdVl9-W_",
        "colab_type": "text"
      },
      "source": [
        "#Challenge description"
      ]
    },
    {
      "cell_type": "markdown",
      "metadata": {
        "id": "EsxKWXkq-F4P",
        "colab_type": "text"
      },
      "source": [
        "#Research Work"
      ]
    },
    {
      "cell_type": "markdown",
      "metadata": {
        "id": "OHhJXvFH-ywi",
        "colab_type": "text"
      },
      "source": [
        "#Understanding of Problem Statement"
      ]
    },
    {
      "cell_type": "markdown",
      "metadata": {
        "id": "lgHSc9IZ-8Tx",
        "colab_type": "text"
      },
      "source": [
        "#Proposed Solution"
      ]
    },
    {
      "cell_type": "markdown",
      "metadata": {
        "id": "POQ3AJ8r_GvR",
        "colab_type": "text"
      },
      "source": [
        "# Rationale of using models and tuning parameters"
      ]
    },
    {
      "cell_type": "markdown",
      "metadata": {
        "id": "FVzff0VI_WOx",
        "colab_type": "text"
      },
      "source": [
        "#GitHub link with code documentation "
      ]
    },
    {
      "cell_type": "markdown",
      "metadata": {
        "id": "_2ed0oj__ajo",
        "colab_type": "text"
      },
      "source": [
        "Below is the link to the python notebook (colab notebook), implementing the above model along with the results.\n",
        "> [Text Classification using UMLFit](https://github.com/dhirajsuvarna/nlp_text_classification/blob/master/hackathon/ULMFit_Drug_Review_Classification.ipynb)"
      ]
    }
  ]
}