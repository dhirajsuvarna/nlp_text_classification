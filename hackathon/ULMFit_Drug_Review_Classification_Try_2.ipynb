{
  "nbformat": 4,
  "nbformat_minor": 0,
  "metadata": {
    "colab": {
      "name": "ULMFit-Drug-Review-Classification-Try-2.ipynb",
      "provenance": [],
      "collapsed_sections": [],
      "toc_visible": true,
      "include_colab_link": true
    },
    "kernelspec": {
      "name": "python3",
      "display_name": "Python 3"
    },
    "accelerator": "GPU"
  },
  "cells": [
    {
      "cell_type": "markdown",
      "metadata": {
        "id": "view-in-github",
        "colab_type": "text"
      },
      "source": [
        "<a href=\"https://colab.research.google.com/github/dhirajsuvarna/nlp_text_classification/blob/master/hackathon/ULMFit_Drug_Review_Classification_Try_2.ipynb\" target=\"_parent\"><img src=\"https://colab.research.google.com/assets/colab-badge.svg\" alt=\"Open In Colab\"/></a>"
      ]
    },
    {
      "cell_type": "markdown",
      "metadata": {
        "id": "lgvmVd0Y9FdT",
        "colab_type": "text"
      },
      "source": [
        "#Loading DataSet from Google Drive"
      ]
    },
    {
      "cell_type": "code",
      "metadata": {
        "id": "Lp82UjrL81cv",
        "colab_type": "code",
        "outputId": "261b288e-13c9-487c-cdaf-a82d7852206a",
        "colab": {
          "base_uri": "https://localhost:8080/",
          "height": 80
        }
      },
      "source": [
        "#' ' means CPU whereas '/device:G:0' means GPU\n",
        "import tensorflow as tf\n",
        "tf.test.gpu_device_name()"
      ],
      "execution_count": 1,
      "outputs": [
        {
          "output_type": "display_data",
          "data": {
            "text/html": [
              "<p style=\"color: red;\">\n",
              "The default version of TensorFlow in Colab will soon switch to TensorFlow 2.x.<br>\n",
              "We recommend you <a href=\"https://www.tensorflow.org/guide/migrate\" target=\"_blank\">upgrade</a> now \n",
              "or ensure your notebook will continue to use TensorFlow 1.x via the <code>%tensorflow_version 1.x</code> magic:\n",
              "<a href=\"https://colab.research.google.com/notebooks/tensorflow_version.ipynb\" target=\"_blank\">more info</a>.</p>\n"
            ],
            "text/plain": [
              "<IPython.core.display.HTML object>"
            ]
          },
          "metadata": {
            "tags": []
          }
        },
        {
          "output_type": "execute_result",
          "data": {
            "text/plain": [
              "'/device:GPU:0'"
            ]
          },
          "metadata": {
            "tags": []
          },
          "execution_count": 1
        }
      ]
    },
    {
      "cell_type": "code",
      "metadata": {
        "id": "N7RR4NYKv6Fm",
        "colab_type": "code",
        "outputId": "c075ab99-e746-418a-e1a9-9dc6dd4659a2",
        "colab": {
          "base_uri": "https://localhost:8080/",
          "height": 122
        }
      },
      "source": [
        "#Mount Google Drive\n",
        "from google.colab import drive\n",
        "drive.mount('/content/drive')"
      ],
      "execution_count": 2,
      "outputs": [
        {
          "output_type": "stream",
          "text": [
            "Go to this URL in a browser: https://accounts.google.com/o/oauth2/auth?client_id=947318989803-6bn6qk8qdgf4n4g3pfee6491hc0brc4i.apps.googleusercontent.com&redirect_uri=urn%3aietf%3awg%3aoauth%3a2.0%3aoob&response_type=code&scope=email%20https%3a%2f%2fwww.googleapis.com%2fauth%2fdocs.test%20https%3a%2f%2fwww.googleapis.com%2fauth%2fdrive%20https%3a%2f%2fwww.googleapis.com%2fauth%2fdrive.photos.readonly%20https%3a%2f%2fwww.googleapis.com%2fauth%2fpeopleapi.readonly\n",
            "\n",
            "Enter your authorization code:\n",
            "··········\n",
            "Mounted at /content/drive\n"
          ],
          "name": "stdout"
        }
      ]
    },
    {
      "cell_type": "code",
      "metadata": {
        "id": "rxTHJ7mBxY2Q",
        "colab_type": "code",
        "colab": {}
      },
      "source": [
        "from fastai.text import * \n",
        "\n",
        "#Load the Traning and Validation Dataset\n",
        "df_train = pd.read_csv('/content/drive/My Drive/Projects/AnalyticsHackathon/dataset/drugsComTrain_raw.csv')\n",
        "df_valid = pd.read_csv('/content/drive/My Drive/Projects/AnalyticsHackathon/dataset/drugsComTest_raw.csv')"
      ],
      "execution_count": 0,
      "outputs": []
    },
    {
      "cell_type": "markdown",
      "metadata": {
        "id": "scwbgAtfauob",
        "colab_type": "text"
      },
      "source": [
        "##Removing Empty Cells and Invalid Cells\n",
        "\n",
        "\n",
        "\n"
      ]
    },
    {
      "cell_type": "code",
      "metadata": {
        "id": "SI73jtaGFdwI",
        "colab_type": "code",
        "outputId": "ab44240c-5730-420b-867a-908bb2f52d2c",
        "colab": {
          "base_uri": "https://localhost:8080/",
          "height": 187
        }
      },
      "source": [
        "df_train = df_train[['condition', 'review']]\n",
        "df_valid = df_valid[['condition', 'review']]\n",
        "print (f\"#Train Examples: {df_train.shape}\")\n",
        "print (f\"#Validation Examples: {df_valid.shape}\")\n",
        "\n",
        "#print(df_train[df_train['condition'].isna()])\n",
        "print(f\"#NaN in Train: {df_train[df_train['condition'].isna()].shape}\")\n",
        "print(f\"#NaN in Validation: {df_valid[df_valid['condition'].isna()].shape}\")\n",
        "\n",
        "#Reomve the rows with empty(nan) 'condition' or empty(nan) 'review'\n",
        "print(\"Removing rows with nan values...\")\n",
        "df_train = df_train.dropna()\n",
        "df_valid = df_valid.dropna()\n",
        "\n",
        "#print(df_train[df_train['condition'].str.contains('users found this comment helpful')])\n",
        "print(f\"#'users found this comment useful' in Train: {df_train[df_train['condition'].str.contains('users found this comment helpful')].shape}\")\n",
        "print(f\"#'users found this comment useful'in Validation: {df_valid[df_valid['condition'].str.contains('users found this comment helpful')].shape}\")\n",
        "\n",
        "#Remove the rows where 'condition' is \"users found this comment helpful\"\n",
        "print(\"Removing the rows where condition is 'users found this comment helpful'\")\n",
        "df_train = df_train[~df_train['condition'].str.contains('users found this comment helpful')]\n",
        "df_valid = df_valid[~df_valid['condition'].str.contains('users found this comment helpful')]\n",
        "\n",
        "df_train = df_train[['condition', 'review']]\n",
        "df_valid = df_valid[['condition', 'review']]\n",
        "print (f\"#Train Examples: {df_train.shape}\")\n",
        "print (f\"#Validation Examples: {df_valid.shape}\")"
      ],
      "execution_count": 4,
      "outputs": [
        {
          "output_type": "stream",
          "text": [
            "#Train Examples: (161297, 2)\n",
            "#Validation Examples: (53766, 2)\n",
            "#NaN in Train: (899, 2)\n",
            "#NaN in Validation: (295, 2)\n",
            "Removing rows with nan values...\n",
            "#'users found this comment useful' in Train: (900, 2)\n",
            "#'users found this comment useful'in Validation: (271, 2)\n",
            "Removing the rows where condition is 'users found this comment helpful'\n",
            "#Train Examples: (159498, 2)\n",
            "#Validation Examples: (53200, 2)\n"
          ],
          "name": "stdout"
        }
      ]
    },
    {
      "cell_type": "markdown",
      "metadata": {
        "id": "qrQZioKFalyy",
        "colab_type": "text"
      },
      "source": [
        "##Making the Traning Set Smaller for Quick Experiments"
      ]
    },
    {
      "cell_type": "code",
      "metadata": {
        "id": "s4_ZHp6UhtR1",
        "colab_type": "code",
        "colab": {}
      },
      "source": [
        "# #Creating a smaller version of dataset for quick setup of framework\n",
        "# df_train = df_train.sample(frac=1).reset_index(drop=True)\n",
        "# df_valid = df_valid.sample(frac=1).reset_index(drop=True)\n",
        "\n",
        "# df_train = df_train[:1000]\n",
        "# df_valid = df_valid[:200]\n",
        "# print(df_train.shape)\n",
        "# print(df_valid.shape)\n"
      ],
      "execution_count": 0,
      "outputs": []
    },
    {
      "cell_type": "markdown",
      "metadata": {
        "id": "cplWwIu5ackf",
        "colab_type": "text"
      },
      "source": [
        "##Remove Mismatch of Classes between Validation and Training Set"
      ]
    },
    {
      "cell_type": "code",
      "metadata": {
        "id": "ea_DqJhzptPh",
        "colab_type": "code",
        "outputId": "fa45b4d0-6b76-43e6-b88f-6171f3666650",
        "colab": {
          "base_uri": "https://localhost:8080/",
          "height": 68
        }
      },
      "source": [
        "#Number of classes present in the training and validation set\n",
        "targets_train = df_train['condition'].unique()\n",
        "targets_valid = df_valid['condition'].unique()\n",
        "print(f\"#Target Classes in Train: {len(targets_train)}\")\n",
        "print(f\"#Target Classes in Validation: {len(targets_valid)}\")\n",
        "\n",
        "targets_only_in_valid = [item for item in targets_valid if item not in targets_train]\n",
        "print(f\"#Targets in Validation but not in Training: {len(targets_only_in_valid)}\")\n"
      ],
      "execution_count": 5,
      "outputs": [
        {
          "output_type": "stream",
          "text": [
            "#Target Classes in Train: 811\n",
            "#Target Classes in Validation: 664\n",
            "#Targets in Validation but not in Training: 25\n"
          ],
          "name": "stdout"
        }
      ]
    },
    {
      "cell_type": "code",
      "metadata": {
        "id": "3G6Zc2dRdV85",
        "colab_type": "code",
        "outputId": "0f757dd1-d496-4eaa-df74-111237ab6110",
        "colab": {
          "base_uri": "https://localhost:8080/",
          "height": 68
        }
      },
      "source": [
        "#Remove the items from Validation Set for which classes are present in Validation but not present in the Training Set\n",
        "print(f\"#Invalid Validation examples: {df_valid[df_valid['condition'].isin(targets_only_in_valid)].shape}\")\n",
        "\n",
        "df_valid = df_valid[~df_valid['condition'].isin(targets_only_in_valid)]\n",
        "\n",
        "df_train = df_train[['condition', 'review']]\n",
        "df_valid = df_valid[['condition', 'review']]\n",
        "print (f\"#Train Examples: {df_train.shape}\")\n",
        "print (f\"#Validation Examples: {df_valid.shape}\")"
      ],
      "execution_count": 6,
      "outputs": [
        {
          "output_type": "stream",
          "text": [
            "#Invalid Validation examples: (39, 2)\n",
            "#Train Examples: (159498, 2)\n",
            "#Validation Examples: (53161, 2)\n"
          ],
          "name": "stdout"
        }
      ]
    },
    {
      "cell_type": "code",
      "metadata": {
        "id": "sZJIPO4AivZ5",
        "colab_type": "code",
        "outputId": "ec1f6491-9e4a-45a0-f9b8-ac2abad0725f",
        "colab": {
          "base_uri": "https://localhost:8080/",
          "height": 51
        }
      },
      "source": [
        "#Check the Classes which are present in the Training Set but not present in the Validation Set\n",
        "targets_only_in_train = [item for item in targets_train if item not in targets_valid]\n",
        "print(f\"#Targets in Training but not in Validation: {len(targets_only_in_train)}\")\n",
        "\n",
        "df_only_in_train = df_train[df_train['condition'].isin(targets_only_in_train)]\n",
        "print(f\"Training Examples only in Training Set: {df_only_in_train.shape}\")\n",
        "\n",
        "#print(df_only_in_train['condition'].value_counts())"
      ],
      "execution_count": 7,
      "outputs": [
        {
          "output_type": "stream",
          "text": [
            "#Targets in Training but not in Validation: 172\n",
            "Training Examples only in Training Set: (419, 2)\n"
          ],
          "name": "stdout"
        }
      ]
    },
    {
      "cell_type": "code",
      "metadata": {
        "id": "yUGGJa9OiQY7",
        "colab_type": "code",
        "outputId": "03f7dcd2-36bc-45af-d196-8a73f4a00984",
        "colab": {
          "base_uri": "https://localhost:8080/",
          "height": 51
        }
      },
      "source": [
        "#We can see that there are 419 Training examples for which 172 classes are present in Traning set but not the validation set\n",
        "#To make the Traning and Validation Set Balanced, removing those 419 Traning Examples \n",
        "df_train = df_train[~df_train['condition'].isin(targets_only_in_train)]\n",
        "\n",
        "df_train = df_train[['condition', 'review']]\n",
        "df_valid = df_valid[['condition', 'review']]\n",
        "print (f\"#Train Examples: {df_train.shape}\")\n",
        "print (f\"#Validation Examples: {df_valid.shape}\")"
      ],
      "execution_count": 8,
      "outputs": [
        {
          "output_type": "stream",
          "text": [
            "#Train Examples: (159079, 2)\n",
            "#Validation Examples: (53161, 2)\n"
          ],
          "name": "stdout"
        }
      ]
    },
    {
      "cell_type": "markdown",
      "metadata": {
        "id": "KlAVKnIEbOSd",
        "colab_type": "text"
      },
      "source": [
        "##Cleaning up Review Comments"
      ]
    },
    {
      "cell_type": "code",
      "metadata": {
        "id": "oBNsLJF6hfIL",
        "colab_type": "code",
        "colab": {}
      },
      "source": [
        "#Perform basic cleaning operation on the review comments \n",
        "#mainly to convert the HTML Code Characters to the actual charcters\n",
        "import html\n",
        "\n",
        "# #SAVE TO CSV to see the changes with ur naked eyes\n",
        "# df_train['clean_review'] = df_train['review'].apply(html.unescape)\n",
        "# df_valid['clean_review'] = df_valid['review'].apply(html.unescape)\n",
        "# df_train.to_csv('./drugsComTrainClean_raw.csv')\n",
        "# df_train.to_csv('./drugsComTestClean_raw.csv')\n",
        "\n",
        "df_train['review'] = df_train['review'].apply(html.unescape)\n",
        "df_valid['review'] = df_valid['review'].apply(html.unescape)\n",
        "\n",
        "#print(df_train[df_train['condition'] == \"Depression\"])\n"
      ],
      "execution_count": 0,
      "outputs": []
    },
    {
      "cell_type": "markdown",
      "metadata": {
        "id": "qS_clfqP6hmf",
        "colab_type": "text"
      },
      "source": [
        "##Summary of the Data"
      ]
    },
    {
      "cell_type": "code",
      "metadata": {
        "id": "-o4dvoCRgSP_",
        "colab_type": "code",
        "outputId": "5433e1a6-82c8-4f21-a751-f8f91c2b0d7f",
        "colab": {
          "base_uri": "https://localhost:8080/",
          "height": 85
        }
      },
      "source": [
        "print (f\"Shape of Cleaned up Train Set: {df_train.shape}\")\n",
        "print (f\"Shape of Cleaned up  Validation Set: {df_valid.shape}\")\n",
        "\n",
        "#Number of classes present in the training and validation set\n",
        "targets_train = df_train['condition'].unique()\n",
        "targets_valid = df_valid['condition'].unique()\n",
        "print(f\"#Target Classes in Train: {len(targets_train)}\")\n",
        "print(f\"#Target Classes in Validation: {len(targets_valid)}\")\n"
      ],
      "execution_count": 10,
      "outputs": [
        {
          "output_type": "stream",
          "text": [
            "Shape of Cleaned up Train Set: (159079, 2)\n",
            "Shape of Cleaned up  Validation Set: (53161, 2)\n",
            "#Target Classes in Train: 639\n",
            "#Target Classes in Validation: 639\n"
          ],
          "name": "stdout"
        }
      ]
    },
    {
      "cell_type": "code",
      "metadata": {
        "id": "HaQnojpt_xYa",
        "colab_type": "code",
        "colab": {}
      },
      "source": [
        ""
      ],
      "execution_count": 0,
      "outputs": []
    },
    {
      "cell_type": "markdown",
      "metadata": {
        "id": "TIwy2ylYbbKQ",
        "colab_type": "text"
      },
      "source": [
        "##Visualizing the Data\n",
        "(not so visual for now)"
      ]
    },
    {
      "cell_type": "code",
      "metadata": {
        "id": "xwBCv9p1vPqv",
        "colab_type": "code",
        "outputId": "abccc99c-39a8-4523-9760-3b76f81b797c",
        "colab": {
          "base_uri": "https://localhost:8080/",
          "height": 425
        }
      },
      "source": [
        "#Visualize the dataspread for each of the classes \n",
        "#print(df_train.groupby(['condition']).size().reset_index(name='count').sort_values(['count'], ascending=False))\n",
        "print(df_train['condition'].value_counts())\n",
        "print(df_valid['condition'].value_counts())"
      ],
      "execution_count": 11,
      "outputs": [
        {
          "output_type": "stream",
          "text": [
            "Birth Control                           28788\n",
            "Depression                               9069\n",
            "Pain                                     6145\n",
            "Anxiety                                  5904\n",
            "Acne                                     5588\n",
            "                                        ...  \n",
            "Acute Nonlymphocytic Leukemia               1\n",
            "Upper Limb Spasticity                       1\n",
            "Mycoplasma Pneumonia                        1\n",
            "Neutropenia                                 1\n",
            "Organ Transplant, Rejection Reversal        1\n",
            "Name: condition, Length: 639, dtype: int64\n",
            "Birth Control                           9648\n",
            "Depression                              3095\n",
            "Pain                                    2100\n",
            "Anxiety                                 1908\n",
            "Acne                                    1847\n",
            "                                        ... \n",
            "Wegener's Granulomatosis                   1\n",
            "Nonoccupational Exposure                   1\n",
            "Topical Disinfection                       1\n",
            "Enterocolitis                              1\n",
            "Organ Transplant, Rejection Reversal       1\n",
            "Name: condition, Length: 639, dtype: int64\n"
          ],
          "name": "stdout"
        }
      ]
    },
    {
      "cell_type": "markdown",
      "metadata": {
        "id": "Wdeu9Jk-bBec",
        "colab_type": "text"
      },
      "source": [
        "##Start ULMFit Stuff"
      ]
    },
    {
      "cell_type": "code",
      "metadata": {
        "id": "1GxJbPNU9Aog",
        "colab_type": "code",
        "outputId": "49703b03-012c-4f5b-f3b1-0bc24067fd11",
        "colab": {
          "base_uri": "https://localhost:8080/",
          "height": 34
        }
      },
      "source": [
        "#Adding a column \"is_valid\" to determine example belongs to validation set of not\n",
        "df_train['is_valid'] = 0\n",
        "df_valid['is_valid'] = 1\n",
        "\n",
        "#combine two dataframe into one\n",
        "df_combine = pd.concat([df_train, df_valid], axis=0)\n",
        "\n",
        "print(df_combine.shape)"
      ],
      "execution_count": 12,
      "outputs": [
        {
          "output_type": "stream",
          "text": [
            "(212240, 3)\n"
          ],
          "name": "stdout"
        }
      ]
    },
    {
      "cell_type": "code",
      "metadata": {
        "id": "5dz9PsfxBrBC",
        "colab_type": "code",
        "colab": {}
      },
      "source": [
        "\n",
        "bs,bptt=64,80"
      ],
      "execution_count": 0,
      "outputs": []
    },
    {
      "cell_type": "code",
      "metadata": {
        "id": "8ieLnFZU_pWM",
        "colab_type": "code",
        "colab": {}
      },
      "source": [
        "#Prepare for training the language model\n",
        "#todo: i have not specified batch size(bs)\n",
        "#data_lm = TextLMDataBunch.from_df(path='/', train_df=df_train, valid_df=df_valid)\n",
        "#learn_lm = language_model_learner(data_lm, AWD_LSTM, drop_mult=0.5)\n",
        "\n",
        "data_lm = (TextList.from_df(df_combine, cols='review')\n",
        "            .split_from_df(col='is_valid')\n",
        "            .label_for_lm()\n",
        "            .databunch(bs=bs, bptt=bptt))\n",
        "data_lm.save('data_lm.pkl')\n"
      ],
      "execution_count": 0,
      "outputs": []
    },
    {
      "cell_type": "code",
      "metadata": {
        "id": "Fc7TBokKBofa",
        "colab_type": "code",
        "colab": {}
      },
      "source": [
        "path = '.'\n",
        "data_lm = load_data(path, 'data_lm.pkl', bs=bs, bptt=bptt)"
      ],
      "execution_count": 0,
      "outputs": []
    },
    {
      "cell_type": "code",
      "metadata": {
        "id": "dew2ycetCDI6",
        "colab_type": "code",
        "outputId": "fc5fdf65-0fb2-460b-9846-50c197b8a645",
        "colab": {
          "base_uri": "https://localhost:8080/",
          "height": 306
        }
      },
      "source": [
        "data_lm.show_batch()"
      ],
      "execution_count": 16,
      "outputs": [
        {
          "output_type": "display_data",
          "data": {
            "text/html": [
              "<table border=\"1\" class=\"dataframe\">\n",
              "  <thead>\n",
              "    <tr style=\"text-align: right;\">\n",
              "      <th>idx</th>\n",
              "      <th>text</th>\n",
              "    </tr>\n",
              "  </thead>\n",
              "  <tbody>\n",
              "    <tr>\n",
              "      <td>0</td>\n",
              "      <td>, and slept for nearly 8 hours on a drive home from school vacation ( very unusual for him . ) i called his doctor on xxmaj monday morning and she said to stick it out a few days . xxmaj see how he did at school , and with getting up in the morning . xxmaj the last two days have been problem free . xxmaj he is xxup</td>\n",
              "    </tr>\n",
              "    <tr>\n",
              "      <td>1</td>\n",
              "      <td>30 minutes i was in emergency room with anaphylactic shock . i do n't remember much of anything till i woke up the next morning and was told how bad it almost was for me . i take 8 statins to maintain a cholesterol of 200 . \" xxbos \" i went 5 miserable years with undiagnosed , xxmaj hashimoto disease for which i was told it was all in</td>\n",
              "    </tr>\n",
              "    <tr>\n",
              "      <td>2</td>\n",
              "      <td>baggy . xxmaj lots of energy . i slightly started to want to eat . 3rd month . xxmaj total xxunk 28 lbs . \" xxbos \" xxmaj prescribed 500 mg 3x a day for xxup bv . xxmaj day 1 i took two doses 8 hours apart . xxmaj awful , chalky taste that you ca n't get rid of . xxmaj slight dizzyness and slight headache day 1</td>\n",
              "    </tr>\n",
              "    <tr>\n",
              "      <td>3</td>\n",
              "      <td>\" i love this birth control . i switched from xxmaj lo loestrin xxup fe because i would get two periods on that ( one in week 2 of active pills and one during the placebos ) and my doctor said i needed to up my estrogen dose . i was so nervous to start this because of various negative reviews , but i 'm almost finished with my first</td>\n",
              "    </tr>\n",
              "    <tr>\n",
              "      <td>4</td>\n",
              "      <td>amitriptyline for 2 months and i have only one side effect - dry cough occasionally . i suffered from migraines from childhood and first my doctor tried a blood pressure medicine that also treats migraines . xxmaj while somewhat effective , i still had headaches and migraines after 1 - 2 months , up to 3 - 5 per week . xxmaj once he put me on xxmaj amitriptyline ,</td>\n",
              "    </tr>\n",
              "  </tbody>\n",
              "</table>"
            ],
            "text/plain": [
              "<IPython.core.display.HTML object>"
            ]
          },
          "metadata": {
            "tags": []
          }
        }
      ]
    },
    {
      "cell_type": "code",
      "metadata": {
        "id": "SN9H3-OzCK2h",
        "colab_type": "code",
        "colab": {}
      },
      "source": [
        "data_lm_bwd = load_data(path, 'data_lm.pkl', bs=bs, bptt=bptt, backwards=True)"
      ],
      "execution_count": 0,
      "outputs": []
    },
    {
      "cell_type": "code",
      "metadata": {
        "id": "RvG-QdX-Czz8",
        "colab_type": "code",
        "colab": {}
      },
      "source": [
        "learn_fwd = language_model_learner(data_lm, AWD_LSTM).to_fp16(clip=0.1)"
      ],
      "execution_count": 0,
      "outputs": []
    },
    {
      "cell_type": "code",
      "metadata": {
        "id": "Ek7oRAXf0_21",
        "colab_type": "code",
        "outputId": "57fe27d8-203a-441f-d4ce-16d39398a975",
        "colab": {
          "base_uri": "https://localhost:8080/",
          "height": 296
        }
      },
      "source": [
        "#find the learning rate \n",
        "learn_fwd.lr_find(start_lr=1e-8, end_lr=1e2)\n",
        "learn_fwd.recorder.plot()"
      ],
      "execution_count": 19,
      "outputs": [
        {
          "output_type": "display_data",
          "data": {
            "text/html": [
              ""
            ],
            "text/plain": [
              "<IPython.core.display.HTML object>"
            ]
          },
          "metadata": {
            "tags": []
          }
        },
        {
          "output_type": "stream",
          "text": [
            "LR Finder is complete, type {learner_name}.recorder.plot() to see the graph.\n"
          ],
          "name": "stdout"
        },
        {
          "output_type": "display_data",
          "data": {
            "image/png": "[encoded data removed]",
            "text/plain": [
              "<Figure size 432x288 with 1 Axes>"
            ]
          },
          "metadata": {
            "tags": []
          }
        }
      ]
    },
    {
      "cell_type": "code",
      "metadata": {
        "id": "0c_EqdfMDJbT",
        "colab_type": "code",
        "outputId": "bfb69ddd-03f9-4985-9180-6a9310246e95",
        "colab": {
          "base_uri": "https://localhost:8080/",
          "height": 80
        }
      },
      "source": [
        "#The above plot tells us that loss is minimum at the learning rate of \n",
        "#approx 1e0, so we need to choose the learning rate as one level before\n",
        "\n",
        "#Start training the language model\n",
        "learn_fwd.fit_one_cycle(1, 1e-3, moms=(0.8, 0.7))\n",
        "\n"
      ],
      "execution_count": 20,
      "outputs": [
        {
          "output_type": "display_data",
          "data": {
            "text/html": [
              "<table border=\"1\" class=\"dataframe\">\n",
              "  <thead>\n",
              "    <tr style=\"text-align: left;\">\n",
              "      <th>epoch</th>\n",
              "      <th>train_loss</th>\n",
              "      <th>valid_loss</th>\n",
              "      <th>accuracy</th>\n",
              "      <th>time</th>\n",
              "    </tr>\n",
              "  </thead>\n",
              "  <tbody>\n",
              "    <tr>\n",
              "      <td>0</td>\n",
              "      <td>3.881236</td>\n",
              "      <td>3.584732</td>\n",
              "      <td>0.299774</td>\n",
              "      <td>09:34</td>\n",
              "    </tr>\n",
              "  </tbody>\n",
              "</table>"
            ],
            "text/plain": [
              "<IPython.core.display.HTML object>"
            ]
          },
          "metadata": {
            "tags": []
          }
        }
      ]
    },
    {
      "cell_type": "code",
      "metadata": {
        "id": "O2OxVSiHmXWP",
        "colab_type": "code",
        "outputId": "4e1c88d6-5b4c-4716-a91e-60cd2ad0678d",
        "colab": {
          "base_uri": "https://localhost:8080/",
          "height": 142
        }
      },
      "source": [
        "learn_fwd.unfreeze()\n",
        "learn_fwd.fit_one_cycle(3, 1e-3, moms=(0.8, 0.7))"
      ],
      "execution_count": 21,
      "outputs": [
        {
          "output_type": "display_data",
          "data": {
            "text/html": [
              "<table border=\"1\" class=\"dataframe\">\n",
              "  <thead>\n",
              "    <tr style=\"text-align: left;\">\n",
              "      <th>epoch</th>\n",
              "      <th>train_loss</th>\n",
              "      <th>valid_loss</th>\n",
              "      <th>accuracy</th>\n",
              "      <th>time</th>\n",
              "    </tr>\n",
              "  </thead>\n",
              "  <tbody>\n",
              "    <tr>\n",
              "      <td>0</td>\n",
              "      <td>3.342804</td>\n",
              "      <td>3.179006</td>\n",
              "      <td>0.349228</td>\n",
              "      <td>11:28</td>\n",
              "    </tr>\n",
              "    <tr>\n",
              "      <td>1</td>\n",
              "      <td>3.212288</td>\n",
              "      <td>3.039812</td>\n",
              "      <td>0.365898</td>\n",
              "      <td>11:25</td>\n",
              "    </tr>\n",
              "    <tr>\n",
              "      <td>2</td>\n",
              "      <td>3.141053</td>\n",
              "      <td>3.002268</td>\n",
              "      <td>0.371048</td>\n",
              "      <td>11:26</td>\n",
              "    </tr>\n",
              "  </tbody>\n",
              "</table>"
            ],
            "text/plain": [
              "<IPython.core.display.HTML object>"
            ]
          },
          "metadata": {
            "tags": []
          }
        }
      ]
    },
    {
      "cell_type": "code",
      "metadata": {
        "id": "HWZh5kpnF2Nt",
        "colab_type": "code",
        "colab": {}
      },
      "source": [
        "#Plot the curves for language model - if necessary\n"
      ],
      "execution_count": 0,
      "outputs": []
    },
    {
      "cell_type": "code",
      "metadata": {
        "id": "N4sV4tIkGSCq",
        "colab_type": "code",
        "outputId": "780fc55d-cddc-489d-a5fe-767976dfab90",
        "colab": {
          "base_uri": "https://localhost:8080/",
          "height": 34
        }
      },
      "source": [
        "#See how the language model is doing on the statement of medical review \n",
        "#write some string\n",
        "medical_review = \"I have been continuing this medicine for the last couple of months but\"\n",
        "learn_fwd.predict(medical_review, n_words=10)"
      ],
      "execution_count": 22,
      "outputs": [
        {
          "output_type": "execute_result",
          "data": {
            "text/plain": [
              "\"I have been continuing this medicine for the last couple of months but it 's far better than the depression attacks that i\""
            ]
          },
          "metadata": {
            "tags": []
          },
          "execution_count": 22
        }
      ]
    },
    {
      "cell_type": "code",
      "metadata": {
        "id": "1qxs7mFGGmfI",
        "colab_type": "code",
        "colab": {}
      },
      "source": [
        "#fine tuned language model is called as encoder - we need to save it\n",
        "learn_fwd.save_encoder('/content/drive/My Drive/Projects/AnalyticsHackathon/fwd_enc')"
      ],
      "execution_count": 0,
      "outputs": []
    },
    {
      "cell_type": "code",
      "metadata": {
        "id": "vm9n5TRXEBXZ",
        "colab_type": "code",
        "colab": {}
      },
      "source": [
        "learn_bwd = language_model_learner(data_lm_bwd, AWD_LSTM).to_fp16(clip=0.1)"
      ],
      "execution_count": 0,
      "outputs": []
    },
    {
      "cell_type": "code",
      "metadata": {
        "id": "MD4lxF5wEOlb",
        "colab_type": "code",
        "outputId": "104de1b2-acd6-4686-de9d-5d8549b6f19f",
        "colab": {
          "base_uri": "https://localhost:8080/",
          "height": 296
        }
      },
      "source": [
        "#find the learning rate \n",
        "learn_bwd.lr_find(start_lr=1e-8, end_lr=1e2)\n",
        "learn_bwd.recorder.plot()"
      ],
      "execution_count": 26,
      "outputs": [
        {
          "output_type": "display_data",
          "data": {
            "text/html": [
              ""
            ],
            "text/plain": [
              "<IPython.core.display.HTML object>"
            ]
          },
          "metadata": {
            "tags": []
          }
        },
        {
          "output_type": "stream",
          "text": [
            "LR Finder is complete, type {learner_name}.recorder.plot() to see the graph.\n"
          ],
          "name": "stdout"
        },
        {
          "output_type": "display_data",
          "data": {
            "image/png": "[encoded data removed]",
            "text/plain": [
              "<Figure size 432x288 with 1 Axes>"
            ]
          },
          "metadata": {
            "tags": []
          }
        }
      ]
    },
    {
      "cell_type": "code",
      "metadata": {
        "id": "AJ8_5KtmEgCi",
        "colab_type": "code",
        "outputId": "9745b653-6ca7-40ae-862e-f8d1890d466a",
        "colab": {
          "base_uri": "https://localhost:8080/",
          "height": 80
        }
      },
      "source": [
        "learn_bwd.fit_one_cycle(1, 1e-3, moms=(0.8, 0.7))"
      ],
      "execution_count": 27,
      "outputs": [
        {
          "output_type": "display_data",
          "data": {
            "text/html": [
              "<table border=\"1\" class=\"dataframe\">\n",
              "  <thead>\n",
              "    <tr style=\"text-align: left;\">\n",
              "      <th>epoch</th>\n",
              "      <th>train_loss</th>\n",
              "      <th>valid_loss</th>\n",
              "      <th>accuracy</th>\n",
              "      <th>time</th>\n",
              "    </tr>\n",
              "  </thead>\n",
              "  <tbody>\n",
              "    <tr>\n",
              "      <td>0</td>\n",
              "      <td>3.876015</td>\n",
              "      <td>3.584811</td>\n",
              "      <td>0.350852</td>\n",
              "      <td>09:35</td>\n",
              "    </tr>\n",
              "  </tbody>\n",
              "</table>"
            ],
            "text/plain": [
              "<IPython.core.display.HTML object>"
            ]
          },
          "metadata": {
            "tags": []
          }
        }
      ]
    },
    {
      "cell_type": "code",
      "metadata": {
        "id": "0qmB9hVwEr67",
        "colab_type": "code",
        "outputId": "8bf811d7-01c6-4fc2-9da6-ff132568b9b4",
        "colab": {
          "base_uri": "https://localhost:8080/",
          "height": 142
        }
      },
      "source": [
        "learn_bwd.unfreeze()\n",
        "learn_bwd.fit_one_cycle(3, 1e-3, moms=(0.8, 0.7))"
      ],
      "execution_count": 28,
      "outputs": [
        {
          "output_type": "display_data",
          "data": {
            "text/html": [
              "<table border=\"1\" class=\"dataframe\">\n",
              "  <thead>\n",
              "    <tr style=\"text-align: left;\">\n",
              "      <th>epoch</th>\n",
              "      <th>train_loss</th>\n",
              "      <th>valid_loss</th>\n",
              "      <th>accuracy</th>\n",
              "      <th>time</th>\n",
              "    </tr>\n",
              "  </thead>\n",
              "  <tbody>\n",
              "    <tr>\n",
              "      <td>0</td>\n",
              "      <td>3.362913</td>\n",
              "      <td>3.186897</td>\n",
              "      <td>0.394696</td>\n",
              "      <td>11:25</td>\n",
              "    </tr>\n",
              "    <tr>\n",
              "      <td>1</td>\n",
              "      <td>3.201937</td>\n",
              "      <td>3.046236</td>\n",
              "      <td>0.410803</td>\n",
              "      <td>11:26</td>\n",
              "    </tr>\n",
              "    <tr>\n",
              "      <td>2</td>\n",
              "      <td>3.147338</td>\n",
              "      <td>3.008260</td>\n",
              "      <td>0.415475</td>\n",
              "      <td>11:26</td>\n",
              "    </tr>\n",
              "  </tbody>\n",
              "</table>"
            ],
            "text/plain": [
              "<IPython.core.display.HTML object>"
            ]
          },
          "metadata": {
            "tags": []
          }
        }
      ]
    },
    {
      "cell_type": "code",
      "metadata": {
        "id": "uyVWoslaFKtn",
        "colab_type": "code",
        "colab": {}
      },
      "source": [
        "learn_bwd.save_encoder('/content/drive/My Drive/Projects/AnalyticsHackathon/bwd_enc')"
      ],
      "execution_count": 0,
      "outputs": []
    },
    {
      "cell_type": "code",
      "metadata": {
        "id": "T4Y5MH0Fbzgk",
        "colab_type": "code",
        "outputId": "f57a9c56-dfc4-455b-e271-5f44f3f42d15",
        "colab": {
          "base_uri": "https://localhost:8080/",
          "height": 34
        }
      },
      "source": [
        "#See how the language model is doing on the statement of medical review \n",
        "#write some string\n",
        "medical_review = \"I have been continuing this medicine for the last couple of months but\"\n",
        "learn_bwd.predict(medical_review, n_words=10)"
      ],
      "execution_count": 32,
      "outputs": [
        {
          "output_type": "execute_result",
          "data": {
            "text/plain": [
              "'I have been continuing this medicine for the last couple of months but forever helped has hoping only is who ect of face'"
            ]
          },
          "metadata": {
            "tags": []
          },
          "execution_count": 32
        }
      ]
    },
    {
      "cell_type": "markdown",
      "metadata": {
        "id": "pf_6OqCPEcqZ",
        "colab_type": "text"
      },
      "source": [
        "#Classifer"
      ]
    },
    {
      "cell_type": "code",
      "metadata": {
        "id": "h0Sl_y7YGM_q",
        "colab_type": "code",
        "colab": {}
      },
      "source": [
        "#Prepare for training the classifier\n",
        "bs = 64\n",
        "data_clas = (TextList.from_df(df_combine, cols='review')\n",
        "              .split_from_df(col='is_valid')\n",
        "              .label_from_df(cols='condition')\n",
        "              .databunch(bs=bs))\n",
        "data_clas.save('data_clas.pkl')\n"
      ],
      "execution_count": 0,
      "outputs": []
    },
    {
      "cell_type": "code",
      "metadata": {
        "id": "qJSw98vQG5KP",
        "colab_type": "code",
        "colab": {}
      },
      "source": [
        "data_clas = load_data(path, 'data_clas.pkl', bs=bs)\n",
        "#data_clas.show_batch()"
      ],
      "execution_count": 0,
      "outputs": []
    },
    {
      "cell_type": "code",
      "metadata": {
        "id": "jE7SM0vqG_EX",
        "colab_type": "code",
        "colab": {}
      },
      "source": [
        "\n",
        "#data_clas_bwd.show_batch()"
      ],
      "execution_count": 0,
      "outputs": []
    },
    {
      "cell_type": "code",
      "metadata": {
        "id": "nef9YpGQHeQI",
        "colab_type": "code",
        "outputId": "c28132a4-e04b-4103-85c0-63de9246fc1f",
        "colab": {
          "base_uri": "https://localhost:8080/",
          "height": 1000
        }
      },
      "source": [
        "learn_clas_fwd = text_classifier_learner(data_clas, AWD_LSTM, drop_mult=0.5, pretrained=False)\n",
        "learn_clas_fwd.load_encoder('fwd_enc')"
      ],
      "execution_count": 35,
      "outputs": [
        {
          "output_type": "execute_result",
          "data": {
            "text/plain": [
              "RNNLearner(data=TextClasDataBunch;\n",
              "\n",
              "Train: LabelList (159079 items)\n",
              "x: TextList\n",
              "xxbos \" xxmaj it has no side effect , i take it in combination of xxmaj bystolic 5 xxmaj mg and xxmaj fish xxmaj oil \",xxbos \" xxmaj my son is halfway through his fourth week of xxmaj intuniv . xxmaj we became concerned when he began this last week , when he started taking the highest dose he will be on . xxmaj for two days , he could hardly get out of bed , was very cranky , and slept for nearly 8 hours on a drive home from school vacation ( very unusual for him . ) i called his doctor on xxmaj monday morning and she said to stick it out a few days . xxmaj see how he did at school , and with getting up in the morning . xxmaj the last two days have been problem free . xxmaj he is xxup much more agreeable than ever . xxmaj he is less emotional ( a good thing ) , less cranky . xxmaj he is remembering all the things he should . xxmaj overall his behavior is better . \n",
              " \n",
              "  xxmaj we have tried many different medications and so far this is the most effective . \",xxbos \" i used to take another oral contraceptive , which had 21 pill cycle , and was very happy- very light periods , max 5 days , no other side effects . xxmaj but it contained hormone xxunk , which is not available in xxup us , so i switched to xxmaj lybrel , because the ingredients are similar . xxmaj when my other pills ended , i started xxmaj lybrel immediately , on my first day of period , as the instructions said . xxmaj and the period lasted for two weeks . xxmaj when taking the second pack- same two weeks . xxmaj and now , with third pack things got even worse- my third period lasted for two weeks and now it 's the end of the third week- i still have daily brown discharge . \n",
              " \n",
              "  xxmaj the positive side is that i did n't have any other side effects . xxmaj the idea of being period free was so tempting ... xxmaj alas . \",xxbos \" xxmaj this is my first time using any form of birth control . i 'm glad i went with the patch , i have been on it for 8 months . xxmaj at first xxmaj it decreased my libido but that subsided . xxmaj the only downside is that it made my periods longer ( 5 - 6 days to be exact ) i used to only have periods for 3 - 4 days max also made my cramps intense for the first two days of my period , i never had cramps before using birth control . xxmaj other than that in happy with the patch \",xxbos \" xxmaj suboxone has completely turned my life around . i feel healthier , i 'm excelling at my job and i always have money in my pocket and my savings account . i had none of those before xxmaj suboxone and spent years abusing oxycontin . xxmaj my paycheck was already spent by the time i got it and i started resorting to scheming and stealing to fund my addiction . xxmaj all that is history . xxmaj if you 're ready to stop , there 's a good chance that suboxone will put you on the path of great life again . i have found the side - effects to be minimal compared to oxycontin . i 'm actually sleeping better . xxmaj slight constipation is about it for me . xxmaj it truly is amazing . xxmaj the cost pales in comparison to what i spent on oxycontin . \"\n",
              "y: CategoryList\n",
              "Left Ventricular Dysfunction,ADHD,Birth Control,Birth Control,Opiate Dependence\n",
              "Path: .;\n",
              "\n",
              "Valid: LabelList (53161 items)\n",
              "x: TextList\n",
              "xxbos \" i 've tried a few antidepressants over the years ( citalopram , fluoxetine , amitriptyline ) , but none of those helped with my depression , insomnia & anxiety . xxmaj my doctor suggested and changed me onto 45 mg mirtazapine and this medicine has saved my life . xxmaj thankfully i have had no side effects especially the most common - weight gain , i 've actually lost alot of weight . i still have suicidal thoughts but mirtazapine has saved me . \",xxbos \" xxmaj my son has xxmaj crohn 's disease and has done very well on the xxmaj asacol . xxmaj he has no complaints and shows no side effects . xxmaj he has taken as many as nine tablets per day at one time . i 've been very happy with the results , reducing his bouts of diarrhea drastically . \",xxbos \" xxmaj quick reduction of symptoms \",xxbos \" xxmaj contrave combines drugs that were used for alcohol , smoking , and opioid cessation . xxmaj people lose weight on it because it also helps control over - eating . i have no doubt that most obesity is caused from sugar / carb addiction , which is just as powerful as any drug . i have been taking it for five days , and the good news is , it seems to go to work immediately . i feel hungry before i want food now . i really do n't care to eat ; it 's just to fill my stomach . xxmaj since i have only been on it a few days , i do n't know if i 've lost weight ( i do n't have a scale ) , but my clothes do feel a little looser , so maybe a pound or two . i 'm hoping that after a few months on this medication , i will develop healthier habits that i can continue without the aid of xxmaj contrave . \",xxbos \" i have been on this birth control for one cycle . xxmaj after reading some of the reviews on this type and similar birth controls i was a bit apprehensive to start . i m giving this birth control a 9 out of 10 as i have not been on it long enough for a 10 . xxmaj so far i love this birth control ! xxmaj my side effects have been so minimal its like i m not even on birth control ! i have experienced mild headaches here and there and some nausea but other than that i ve been feeling great ! i got my period on cue on the third day of the inactive pills and i had no idea it was coming because i had zero pms ! xxmaj my period was very light and i barely had any cramping ! i had unprotected sex the first month and obviously did n't get pregnant so i 'm very pleased ! xxmaj highly recommend \"\n",
              "y: CategoryList\n",
              "Depression,Crohn's Disease, Maintenance,Urinary Tract Infection,Weight Loss,Birth Control\n",
              "Path: .;\n",
              "\n",
              "Test: None, model=SequentialRNN(\n",
              "  (0): MultiBatchEncoder(\n",
              "    (module): AWD_LSTM(\n",
              "      (encoder): Embedding(26448, 400, padding_idx=1)\n",
              "      (encoder_dp): EmbeddingDropout(\n",
              "        (emb): Embedding(26448, 400, padding_idx=1)\n",
              "      )\n",
              "      (rnns): ModuleList(\n",
              "        (0): WeightDropout(\n",
              "          (module): LSTM(400, 1152, batch_first=True)\n",
              "        )\n",
              "        (1): WeightDropout(\n",
              "          (module): LSTM(1152, 1152, batch_first=True)\n",
              "        )\n",
              "        (2): WeightDropout(\n",
              "          (module): LSTM(1152, 400, batch_first=True)\n",
              "        )\n",
              "      )\n",
              "      (input_dp): RNNDropout()\n",
              "      (hidden_dps): ModuleList(\n",
              "        (0): RNNDropout()\n",
              "        (1): RNNDropout()\n",
              "        (2): RNNDropout()\n",
              "      )\n",
              "    )\n",
              "  )\n",
              "  (1): PoolingLinearClassifier(\n",
              "    (layers): Sequential(\n",
              "      (0): BatchNorm1d(1200, eps=1e-05, momentum=0.1, affine=True, track_running_stats=True)\n",
              "      (1): Dropout(p=0.2, inplace=False)\n",
              "      (2): Linear(in_features=1200, out_features=50, bias=True)\n",
              "      (3): ReLU(inplace=True)\n",
              "      (4): BatchNorm1d(50, eps=1e-05, momentum=0.1, affine=True, track_running_stats=True)\n",
              "      (5): Dropout(p=0.1, inplace=False)\n",
              "      (6): Linear(in_features=50, out_features=639, bias=True)\n",
              "    )\n",
              "  )\n",
              "), opt_func=functools.partial(<class 'torch.optim.adam.Adam'>, betas=(0.9, 0.99)), loss_func=FlattenedLoss of CrossEntropyLoss(), metrics=[<function accuracy at 0x7f99db9b52f0>], true_wd=True, bn_wd=True, wd=0.01, train_bn=True, path=PosixPath('.'), model_dir='models', callback_fns=[functools.partial(<class 'fastai.basic_train.Recorder'>, add_time=True, silent=False)], callbacks=[RNNTrainer\n",
              "learn: RNNLearner(data=TextClasDataBunch;\n",
              "\n",
              "Train: LabelList (159079 items)\n",
              "x: TextList\n",
              "xxbos \" xxmaj it has no side effect , i take it in combination of xxmaj bystolic 5 xxmaj mg and xxmaj fish xxmaj oil \",xxbos \" xxmaj my son is halfway through his fourth week of xxmaj intuniv . xxmaj we became concerned when he began this last week , when he started taking the highest dose he will be on . xxmaj for two days , he could hardly get out of bed , was very cranky , and slept for nearly 8 hours on a drive home from school vacation ( very unusual for him . ) i called his doctor on xxmaj monday morning and she said to stick it out a few days . xxmaj see how he did at school , and with getting up in the morning . xxmaj the last two days have been problem free . xxmaj he is xxup much more agreeable than ever . xxmaj he is less emotional ( a good thing ) , less cranky . xxmaj he is remembering all the things he should . xxmaj overall his behavior is better . \n",
              " \n",
              "  xxmaj we have tried many different medications and so far this is the most effective . \",xxbos \" i used to take another oral contraceptive , which had 21 pill cycle , and was very happy- very light periods , max 5 days , no other side effects . xxmaj but it contained hormone xxunk , which is not available in xxup us , so i switched to xxmaj lybrel , because the ingredients are similar . xxmaj when my other pills ended , i started xxmaj lybrel immediately , on my first day of period , as the instructions said . xxmaj and the period lasted for two weeks . xxmaj when taking the second pack- same two weeks . xxmaj and now , with third pack things got even worse- my third period lasted for two weeks and now it 's the end of the third week- i still have daily brown discharge . \n",
              " \n",
              "  xxmaj the positive side is that i did n't have any other side effects . xxmaj the idea of being period free was so tempting ... xxmaj alas . \",xxbos \" xxmaj this is my first time using any form of birth control . i 'm glad i went with the patch , i have been on it for 8 months . xxmaj at first xxmaj it decreased my libido but that subsided . xxmaj the only downside is that it made my periods longer ( 5 - 6 days to be exact ) i used to only have periods for 3 - 4 days max also made my cramps intense for the first two days of my period , i never had cramps before using birth control . xxmaj other than that in happy with the patch \",xxbos \" xxmaj suboxone has completely turned my life around . i feel healthier , i 'm excelling at my job and i always have money in my pocket and my savings account . i had none of those before xxmaj suboxone and spent years abusing oxycontin . xxmaj my paycheck was already spent by the time i got it and i started resorting to scheming and stealing to fund my addiction . xxmaj all that is history . xxmaj if you 're ready to stop , there 's a good chance that suboxone will put you on the path of great life again . i have found the side - effects to be minimal compared to oxycontin . i 'm actually sleeping better . xxmaj slight constipation is about it for me . xxmaj it truly is amazing . xxmaj the cost pales in comparison to what i spent on oxycontin . \"\n",
              "y: CategoryList\n",
              "Left Ventricular Dysfunction,ADHD,Birth Control,Birth Control,Opiate Dependence\n",
              "Path: .;\n",
              "\n",
              "Valid: LabelList (53161 items)\n",
              "x: TextList\n",
              "xxbos \" i 've tried a few antidepressants over the years ( citalopram , fluoxetine , amitriptyline ) , but none of those helped with my depression , insomnia & anxiety . xxmaj my doctor suggested and changed me onto 45 mg mirtazapine and this medicine has saved my life . xxmaj thankfully i have had no side effects especially the most common - weight gain , i 've actually lost alot of weight . i still have suicidal thoughts but mirtazapine has saved me . \",xxbos \" xxmaj my son has xxmaj crohn 's disease and has done very well on the xxmaj asacol . xxmaj he has no complaints and shows no side effects . xxmaj he has taken as many as nine tablets per day at one time . i 've been very happy with the results , reducing his bouts of diarrhea drastically . \",xxbos \" xxmaj quick reduction of symptoms \",xxbos \" xxmaj contrave combines drugs that were used for alcohol , smoking , and opioid cessation . xxmaj people lose weight on it because it also helps control over - eating . i have no doubt that most obesity is caused from sugar / carb addiction , which is just as powerful as any drug . i have been taking it for five days , and the good news is , it seems to go to work immediately . i feel hungry before i want food now . i really do n't care to eat ; it 's just to fill my stomach . xxmaj since i have only been on it a few days , i do n't know if i 've lost weight ( i do n't have a scale ) , but my clothes do feel a little looser , so maybe a pound or two . i 'm hoping that after a few months on this medication , i will develop healthier habits that i can continue without the aid of xxmaj contrave . \",xxbos \" i have been on this birth control for one cycle . xxmaj after reading some of the reviews on this type and similar birth controls i was a bit apprehensive to start . i m giving this birth control a 9 out of 10 as i have not been on it long enough for a 10 . xxmaj so far i love this birth control ! xxmaj my side effects have been so minimal its like i m not even on birth control ! i have experienced mild headaches here and there and some nausea but other than that i ve been feeling great ! i got my period on cue on the third day of the inactive pills and i had no idea it was coming because i had zero pms ! xxmaj my period was very light and i barely had any cramping ! i had unprotected sex the first month and obviously did n't get pregnant so i 'm very pleased ! xxmaj highly recommend \"\n",
              "y: CategoryList\n",
              "Depression,Crohn's Disease, Maintenance,Urinary Tract Infection,Weight Loss,Birth Control\n",
              "Path: .;\n",
              "\n",
              "Test: None, model=SequentialRNN(\n",
              "  (0): MultiBatchEncoder(\n",
              "    (module): AWD_LSTM(\n",
              "      (encoder): Embedding(26448, 400, padding_idx=1)\n",
              "      (encoder_dp): EmbeddingDropout(\n",
              "        (emb): Embedding(26448, 400, padding_idx=1)\n",
              "      )\n",
              "      (rnns): ModuleList(\n",
              "        (0): WeightDropout(\n",
              "          (module): LSTM(400, 1152, batch_first=True)\n",
              "        )\n",
              "        (1): WeightDropout(\n",
              "          (module): LSTM(1152, 1152, batch_first=True)\n",
              "        )\n",
              "        (2): WeightDropout(\n",
              "          (module): LSTM(1152, 400, batch_first=True)\n",
              "        )\n",
              "      )\n",
              "      (input_dp): RNNDropout()\n",
              "      (hidden_dps): ModuleList(\n",
              "        (0): RNNDropout()\n",
              "        (1): RNNDropout()\n",
              "        (2): RNNDropout()\n",
              "      )\n",
              "    )\n",
              "  )\n",
              "  (1): PoolingLinearClassifier(\n",
              "    (layers): Sequential(\n",
              "      (0): BatchNorm1d(1200, eps=1e-05, momentum=0.1, affine=True, track_running_stats=True)\n",
              "      (1): Dropout(p=0.2, inplace=False)\n",
              "      (2): Linear(in_features=1200, out_features=50, bias=True)\n",
              "      (3): ReLU(inplace=True)\n",
              "      (4): BatchNorm1d(50, eps=1e-05, momentum=0.1, affine=True, track_running_stats=True)\n",
              "      (5): Dropout(p=0.1, inplace=False)\n",
              "      (6): Linear(in_features=50, out_features=639, bias=True)\n",
              "    )\n",
              "  )\n",
              "), opt_func=functools.partial(<class 'torch.optim.adam.Adam'>, betas=(0.9, 0.99)), loss_func=FlattenedLoss of CrossEntropyLoss(), metrics=[<function accuracy at 0x7f99db9b52f0>], true_wd=True, bn_wd=True, wd=0.01, train_bn=True, path=PosixPath('.'), model_dir='models', callback_fns=[functools.partial(<class 'fastai.basic_train.Recorder'>, add_time=True, silent=False)], callbacks=[...], layer_groups=[Sequential(\n",
              "  (0): Embedding(26448, 400, padding_idx=1)\n",
              "  (1): EmbeddingDropout(\n",
              "    (emb): Embedding(26448, 400, padding_idx=1)\n",
              "  )\n",
              "), Sequential(\n",
              "  (0): WeightDropout(\n",
              "    (module): LSTM(400, 1152, batch_first=True)\n",
              "  )\n",
              "  (1): RNNDropout()\n",
              "), Sequential(\n",
              "  (0): WeightDropout(\n",
              "    (module): LSTM(1152, 1152, batch_first=True)\n",
              "  )\n",
              "  (1): RNNDropout()\n",
              "), Sequential(\n",
              "  (0): WeightDropout(\n",
              "    (module): LSTM(1152, 400, batch_first=True)\n",
              "  )\n",
              "  (1): RNNDropout()\n",
              "), Sequential(\n",
              "  (0): PoolingLinearClassifier(\n",
              "    (layers): Sequential(\n",
              "      (0): BatchNorm1d(1200, eps=1e-05, momentum=0.1, affine=True, track_running_stats=True)\n",
              "      (1): Dropout(p=0.2, inplace=False)\n",
              "      (2): Linear(in_features=1200, out_features=50, bias=True)\n",
              "      (3): ReLU(inplace=True)\n",
              "      (4): BatchNorm1d(50, eps=1e-05, momentum=0.1, affine=True, track_running_stats=True)\n",
              "      (5): Dropout(p=0.1, inplace=False)\n",
              "      (6): Linear(in_features=50, out_features=639, bias=True)\n",
              "    )\n",
              "  )\n",
              ")], add_time=True, silent=False)\n",
              "alpha: 2.0\n",
              "beta: 1.0], layer_groups=[Sequential(\n",
              "  (0): Embedding(26448, 400, padding_idx=1)\n",
              "  (1): EmbeddingDropout(\n",
              "    (emb): Embedding(26448, 400, padding_idx=1)\n",
              "  )\n",
              "), Sequential(\n",
              "  (0): WeightDropout(\n",
              "    (module): LSTM(400, 1152, batch_first=True)\n",
              "  )\n",
              "  (1): RNNDropout()\n",
              "), Sequential(\n",
              "  (0): WeightDropout(\n",
              "    (module): LSTM(1152, 1152, batch_first=True)\n",
              "  )\n",
              "  (1): RNNDropout()\n",
              "), Sequential(\n",
              "  (0): WeightDropout(\n",
              "    (module): LSTM(1152, 400, batch_first=True)\n",
              "  )\n",
              "  (1): RNNDropout()\n",
              "), Sequential(\n",
              "  (0): PoolingLinearClassifier(\n",
              "    (layers): Sequential(\n",
              "      (0): BatchNorm1d(1200, eps=1e-05, momentum=0.1, affine=True, track_running_stats=True)\n",
              "      (1): Dropout(p=0.2, inplace=False)\n",
              "      (2): Linear(in_features=1200, out_features=50, bias=True)\n",
              "      (3): ReLU(inplace=True)\n",
              "      (4): BatchNorm1d(50, eps=1e-05, momentum=0.1, affine=True, track_running_stats=True)\n",
              "      (5): Dropout(p=0.1, inplace=False)\n",
              "      (6): Linear(in_features=50, out_features=639, bias=True)\n",
              "    )\n",
              "  )\n",
              ")], add_time=True, silent=False)"
            ]
          },
          "metadata": {
            "tags": []
          },
          "execution_count": 35
        }
      ]
    },
    {
      "cell_type": "code",
      "metadata": {
        "id": "lmrw3W-eKcJL",
        "colab_type": "code",
        "outputId": "b7bdc7e9-3df7-4b4c-d6d0-7925c2b422eb",
        "colab": {
          "base_uri": "https://localhost:8080/",
          "height": 296
        }
      },
      "source": [
        "#find learning rate before starting the training of classifier\n",
        "learn_clas_fwd.lr_find(start_lr=1e-8, end_lr=1e2)\n",
        "learn_clas_fwd.recorder.plot()"
      ],
      "execution_count": 36,
      "outputs": [
        {
          "output_type": "display_data",
          "data": {
            "text/html": [
              ""
            ],
            "text/plain": [
              "<IPython.core.display.HTML object>"
            ]
          },
          "metadata": {
            "tags": []
          }
        },
        {
          "output_type": "stream",
          "text": [
            "LR Finder is complete, type {learner_name}.recorder.plot() to see the graph.\n"
          ],
          "name": "stdout"
        },
        {
          "output_type": "display_data",
          "data": {
            "image/png": "[encoded data removed]",
            "text/plain": [
              "<Figure size 432x288 with 1 Axes>"
            ]
          },
          "metadata": {
            "tags": []
          }
        }
      ]
    },
    {
      "cell_type": "code",
      "metadata": {
        "id": "EC6f1gHrHc4h",
        "colab_type": "code",
        "outputId": "faf16425-4ff9-4c13-e6e5-1836a1e504f5",
        "colab": {
          "base_uri": "https://localhost:8080/",
          "height": 80
        }
      },
      "source": [
        "#Start Training of the classifier \n",
        "# For training the classifier, \"gradual unfreezing\" should be applied to avoid \"catastrophic forgetting\"\n",
        "# as explained in section 3.3 of Howard and Ruder's paper - https://arxiv.org/pdf/1801.06146.pdf \n",
        "\n",
        "learn_clas_fwd.fit_one_cycle(1, 1e-3, moms=(0.8, 0.7))\n"
      ],
      "execution_count": 37,
      "outputs": [
        {
          "output_type": "display_data",
          "data": {
            "text/html": [
              "<table border=\"1\" class=\"dataframe\">\n",
              "  <thead>\n",
              "    <tr style=\"text-align: left;\">\n",
              "      <th>epoch</th>\n",
              "      <th>train_loss</th>\n",
              "      <th>valid_loss</th>\n",
              "      <th>accuracy</th>\n",
              "      <th>time</th>\n",
              "    </tr>\n",
              "  </thead>\n",
              "  <tbody>\n",
              "    <tr>\n",
              "      <td>0</td>\n",
              "      <td>1.919467</td>\n",
              "      <td>1.735148</td>\n",
              "      <td>0.606817</td>\n",
              "      <td>04:29</td>\n",
              "    </tr>\n",
              "  </tbody>\n",
              "</table>"
            ],
            "text/plain": [
              "<IPython.core.display.HTML object>"
            ]
          },
          "metadata": {
            "tags": []
          }
        }
      ]
    },
    {
      "cell_type": "code",
      "metadata": {
        "id": "_McHZvL2zdwU",
        "colab_type": "code",
        "outputId": "798903c5-291f-4f2d-c1b2-da79f31e88ac",
        "colab": {
          "base_uri": "https://localhost:8080/",
          "height": 80
        }
      },
      "source": [
        "learn_clas_fwd.freeze_to(-2)\n",
        "learn_clas_fwd.fit_one_cycle(1, slice(1e-4,1e-2), moms=(0.8,0.7))\n"
      ],
      "execution_count": 38,
      "outputs": [
        {
          "output_type": "display_data",
          "data": {
            "text/html": [
              "<table border=\"1\" class=\"dataframe\">\n",
              "  <thead>\n",
              "    <tr style=\"text-align: left;\">\n",
              "      <th>epoch</th>\n",
              "      <th>train_loss</th>\n",
              "      <th>valid_loss</th>\n",
              "      <th>accuracy</th>\n",
              "      <th>time</th>\n",
              "    </tr>\n",
              "  </thead>\n",
              "  <tbody>\n",
              "    <tr>\n",
              "      <td>0</td>\n",
              "      <td>1.448263</td>\n",
              "      <td>1.386988</td>\n",
              "      <td>0.661349</td>\n",
              "      <td>05:19</td>\n",
              "    </tr>\n",
              "  </tbody>\n",
              "</table>"
            ],
            "text/plain": [
              "<IPython.core.display.HTML object>"
            ]
          },
          "metadata": {
            "tags": []
          }
        }
      ]
    },
    {
      "cell_type": "code",
      "metadata": {
        "id": "88NsMggvzhZc",
        "colab_type": "code",
        "outputId": "23eaeef6-323e-47f4-d8ee-1f52a91c0308",
        "colab": {
          "base_uri": "https://localhost:8080/",
          "height": 80
        }
      },
      "source": [
        "learn_clas_fwd.freeze_to(-3)\n",
        "learn_clas_fwd.fit_one_cycle(1, slice(1e-5,5e-3), moms=(0.8,0.7))\n"
      ],
      "execution_count": 39,
      "outputs": [
        {
          "output_type": "display_data",
          "data": {
            "text/html": [
              "<table border=\"1\" class=\"dataframe\">\n",
              "  <thead>\n",
              "    <tr style=\"text-align: left;\">\n",
              "      <th>epoch</th>\n",
              "      <th>train_loss</th>\n",
              "      <th>valid_loss</th>\n",
              "      <th>accuracy</th>\n",
              "      <th>time</th>\n",
              "    </tr>\n",
              "  </thead>\n",
              "  <tbody>\n",
              "    <tr>\n",
              "      <td>0</td>\n",
              "      <td>1.405226</td>\n",
              "      <td>1.267882</td>\n",
              "      <td>0.686857</td>\n",
              "      <td>08:14</td>\n",
              "    </tr>\n",
              "  </tbody>\n",
              "</table>"
            ],
            "text/plain": [
              "<IPython.core.display.HTML object>"
            ]
          },
          "metadata": {
            "tags": []
          }
        }
      ]
    },
    {
      "cell_type": "code",
      "metadata": {
        "id": "WFWYfG5bzjCs",
        "colab_type": "code",
        "outputId": "9de6cc54-79b9-4b17-ac71-d34c800e1664",
        "colab": {
          "base_uri": "https://localhost:8080/",
          "height": 80
        }
      },
      "source": [
        "learn_clas_fwd.unfreeze()\n",
        "learn_clas_fwd.fit_one_cycle(1, slice(1e-5,1e-3), moms=(0.8,0.7))"
      ],
      "execution_count": 40,
      "outputs": [
        {
          "output_type": "display_data",
          "data": {
            "text/html": [
              "<table border=\"1\" class=\"dataframe\">\n",
              "  <thead>\n",
              "    <tr style=\"text-align: left;\">\n",
              "      <th>epoch</th>\n",
              "      <th>train_loss</th>\n",
              "      <th>valid_loss</th>\n",
              "      <th>accuracy</th>\n",
              "      <th>time</th>\n",
              "    </tr>\n",
              "  </thead>\n",
              "  <tbody>\n",
              "    <tr>\n",
              "      <td>0</td>\n",
              "      <td>1.265482</td>\n",
              "      <td>1.218013</td>\n",
              "      <td>0.697654</td>\n",
              "      <td>09:35</td>\n",
              "    </tr>\n",
              "  </tbody>\n",
              "</table>"
            ],
            "text/plain": [
              "<IPython.core.display.HTML object>"
            ]
          },
          "metadata": {
            "tags": []
          }
        }
      ]
    },
    {
      "cell_type": "code",
      "metadata": {
        "id": "K5Y8Co97wT9-",
        "colab_type": "code",
        "outputId": "5db0a4aa-cd63-4e1a-bcbc-3a3ba1c67b98",
        "colab": {
          "base_uri": "https://localhost:8080/",
          "height": 204
        }
      },
      "source": [
        "learn_clas_fwd.fit_one_cycle(5, 1e-3, moms=(0.8,0.7))"
      ],
      "execution_count": 41,
      "outputs": [
        {
          "output_type": "display_data",
          "data": {
            "text/html": [
              "<table border=\"1\" class=\"dataframe\">\n",
              "  <thead>\n",
              "    <tr style=\"text-align: left;\">\n",
              "      <th>epoch</th>\n",
              "      <th>train_loss</th>\n",
              "      <th>valid_loss</th>\n",
              "      <th>accuracy</th>\n",
              "      <th>time</th>\n",
              "    </tr>\n",
              "  </thead>\n",
              "  <tbody>\n",
              "    <tr>\n",
              "      <td>0</td>\n",
              "      <td>1.235806</td>\n",
              "      <td>1.182334</td>\n",
              "      <td>0.708828</td>\n",
              "      <td>09:30</td>\n",
              "    </tr>\n",
              "    <tr>\n",
              "      <td>1</td>\n",
              "      <td>1.100412</td>\n",
              "      <td>1.088050</td>\n",
              "      <td>0.732247</td>\n",
              "      <td>09:08</td>\n",
              "    </tr>\n",
              "    <tr>\n",
              "      <td>2</td>\n",
              "      <td>0.988571</td>\n",
              "      <td>0.972063</td>\n",
              "      <td>0.762777</td>\n",
              "      <td>08:53</td>\n",
              "    </tr>\n",
              "    <tr>\n",
              "      <td>3</td>\n",
              "      <td>0.741706</td>\n",
              "      <td>0.880992</td>\n",
              "      <td>0.790504</td>\n",
              "      <td>10:31</td>\n",
              "    </tr>\n",
              "    <tr>\n",
              "      <td>4</td>\n",
              "      <td>0.603340</td>\n",
              "      <td>0.869338</td>\n",
              "      <td>0.796655</td>\n",
              "      <td>09:29</td>\n",
              "    </tr>\n",
              "  </tbody>\n",
              "</table>"
            ],
            "text/plain": [
              "<IPython.core.display.HTML object>"
            ]
          },
          "metadata": {
            "tags": []
          }
        }
      ]
    },
    {
      "cell_type": "code",
      "metadata": {
        "id": "wvvFtx2FdVme",
        "colab_type": "code",
        "colab": {
          "base_uri": "https://localhost:8080/",
          "height": 204
        },
        "outputId": "a665f7a3-dab4-4551-e4ba-e5e79a9a097b"
      },
      "source": [
        "learn_clas_fwd.fit_one_cycle(5, 1e-3, moms=(0.8,0.7))"
      ],
      "execution_count": 42,
      "outputs": [
        {
          "output_type": "display_data",
          "data": {
            "text/html": [
              "<table border=\"1\" class=\"dataframe\">\n",
              "  <thead>\n",
              "    <tr style=\"text-align: left;\">\n",
              "      <th>epoch</th>\n",
              "      <th>train_loss</th>\n",
              "      <th>valid_loss</th>\n",
              "      <th>accuracy</th>\n",
              "      <th>time</th>\n",
              "    </tr>\n",
              "  </thead>\n",
              "  <tbody>\n",
              "    <tr>\n",
              "      <td>0</td>\n",
              "      <td>0.709958</td>\n",
              "      <td>0.905373</td>\n",
              "      <td>0.793495</td>\n",
              "      <td>09:06</td>\n",
              "    </tr>\n",
              "    <tr>\n",
              "      <td>1</td>\n",
              "      <td>0.791706</td>\n",
              "      <td>0.921094</td>\n",
              "      <td>0.787100</td>\n",
              "      <td>09:40</td>\n",
              "    </tr>\n",
              "    <tr>\n",
              "      <td>2</td>\n",
              "      <td>0.682017</td>\n",
              "      <td>0.846608</td>\n",
              "      <td>0.814620</td>\n",
              "      <td>09:06</td>\n",
              "    </tr>\n",
              "    <tr>\n",
              "      <td>3</td>\n",
              "      <td>0.454664</td>\n",
              "      <td>0.821455</td>\n",
              "      <td>0.833299</td>\n",
              "      <td>10:41</td>\n",
              "    </tr>\n",
              "    <tr>\n",
              "      <td>4</td>\n",
              "      <td>0.365086</td>\n",
              "      <td>0.812953</td>\n",
              "      <td>0.838077</td>\n",
              "      <td>09:16</td>\n",
              "    </tr>\n",
              "  </tbody>\n",
              "</table>"
            ],
            "text/plain": [
              "<IPython.core.display.HTML object>"
            ]
          },
          "metadata": {
            "tags": []
          }
        }
      ]
    },
    {
      "cell_type": "code",
      "metadata": {
        "id": "0GSexu49reyl",
        "colab_type": "code",
        "colab": {}
      },
      "source": [
        "#Export the Learned Model\n",
        "learn_clas_fwd.export('/content/drive/My Drive/Projects/AnalyticsHackathon/learned_classifer_try_2_fwd.pkl')"
      ],
      "execution_count": 0,
      "outputs": []
    },
    {
      "cell_type": "code",
      "metadata": {
        "id": "LWM_oSYHHraa",
        "colab_type": "code",
        "outputId": "c060f19c-d89b-4ca6-f2fc-a32c44e50bd5",
        "colab": {
          "base_uri": "https://localhost:8080/",
          "height": 279
        }
      },
      "source": [
        "#Plot the curves for classifer model - should be done\n",
        "learn_clas_fwd.recorder.plot_losses()"
      ],
      "execution_count": 44,
      "outputs": [
        {
          "output_type": "display_data",
          "data": {
            "image/png": "[encoded data removed]",
            "text/plain": [
              "<Figure size 432x288 with 1 Axes>"
            ]
          },
          "metadata": {
            "tags": []
          }
        }
      ]
    },
    {
      "cell_type": "code",
      "metadata": {
        "id": "c9SwezA7jzRq",
        "colab_type": "code",
        "colab": {}
      },
      "source": [
        "#Show Results: Acutal and Predicted \n",
        "learn_clas_fwd.show_results(rows=10 )\n"
      ],
      "execution_count": 0,
      "outputs": []
    },
    {
      "cell_type": "markdown",
      "metadata": {
        "id": "Ut2zGNy0KfNP",
        "colab_type": "text"
      },
      "source": [
        "#Train backward classifer"
      ]
    },
    {
      "cell_type": "code",
      "metadata": {
        "id": "JtPaQv2nMvVR",
        "colab_type": "code",
        "colab": {}
      },
      "source": [
        "data_clas_bwd = load_data(path, 'data_clas.pkl', bs=32, backwards=True)"
      ],
      "execution_count": 0,
      "outputs": []
    },
    {
      "cell_type": "code",
      "metadata": {
        "id": "dfc45WwIKi9e",
        "colab_type": "code",
        "outputId": "c63f15cf-c538-46b5-8d58-465e3e7d80ab",
        "colab": {
          "base_uri": "https://localhost:8080/",
          "height": 1000
        }
      },
      "source": [
        "learn_clas_bwd = text_classifier_learner(data_clas_bwd, AWD_LSTM, drop_mult=0.5, pretrained=False)\n",
        "learn_clas_bwd.load_encoder('bwd_enc')"
      ],
      "execution_count": 46,
      "outputs": [
        {
          "output_type": "execute_result",
          "data": {
            "text/plain": [
              "RNNLearner(data=TextClasDataBunch;\n",
              "\n",
              "Train: LabelList (159079 items)\n",
              "x: TextList\n",
              "xxbos \" xxmaj it has no side effect , i take it in combination of xxmaj bystolic 5 xxmaj mg and xxmaj fish xxmaj oil \",xxbos \" xxmaj my son is halfway through his fourth week of xxmaj intuniv . xxmaj we became concerned when he began this last week , when he started taking the highest dose he will be on . xxmaj for two days , he could hardly get out of bed , was very cranky , and slept for nearly 8 hours on a drive home from school vacation ( very unusual for him . ) i called his doctor on xxmaj monday morning and she said to stick it out a few days . xxmaj see how he did at school , and with getting up in the morning . xxmaj the last two days have been problem free . xxmaj he is xxup much more agreeable than ever . xxmaj he is less emotional ( a good thing ) , less cranky . xxmaj he is remembering all the things he should . xxmaj overall his behavior is better . \n",
              " \n",
              "  xxmaj we have tried many different medications and so far this is the most effective . \",xxbos \" i used to take another oral contraceptive , which had 21 pill cycle , and was very happy- very light periods , max 5 days , no other side effects . xxmaj but it contained hormone xxunk , which is not available in xxup us , so i switched to xxmaj lybrel , because the ingredients are similar . xxmaj when my other pills ended , i started xxmaj lybrel immediately , on my first day of period , as the instructions said . xxmaj and the period lasted for two weeks . xxmaj when taking the second pack- same two weeks . xxmaj and now , with third pack things got even worse- my third period lasted for two weeks and now it 's the end of the third week- i still have daily brown discharge . \n",
              " \n",
              "  xxmaj the positive side is that i did n't have any other side effects . xxmaj the idea of being period free was so tempting ... xxmaj alas . \",xxbos \" xxmaj this is my first time using any form of birth control . i 'm glad i went with the patch , i have been on it for 8 months . xxmaj at first xxmaj it decreased my libido but that subsided . xxmaj the only downside is that it made my periods longer ( 5 - 6 days to be exact ) i used to only have periods for 3 - 4 days max also made my cramps intense for the first two days of my period , i never had cramps before using birth control . xxmaj other than that in happy with the patch \",xxbos \" xxmaj suboxone has completely turned my life around . i feel healthier , i 'm excelling at my job and i always have money in my pocket and my savings account . i had none of those before xxmaj suboxone and spent years abusing oxycontin . xxmaj my paycheck was already spent by the time i got it and i started resorting to scheming and stealing to fund my addiction . xxmaj all that is history . xxmaj if you 're ready to stop , there 's a good chance that suboxone will put you on the path of great life again . i have found the side - effects to be minimal compared to oxycontin . i 'm actually sleeping better . xxmaj slight constipation is about it for me . xxmaj it truly is amazing . xxmaj the cost pales in comparison to what i spent on oxycontin . \"\n",
              "y: CategoryList\n",
              "Left Ventricular Dysfunction,ADHD,Birth Control,Birth Control,Opiate Dependence\n",
              "Path: .;\n",
              "\n",
              "Valid: LabelList (53161 items)\n",
              "x: TextList\n",
              "xxbos \" i 've tried a few antidepressants over the years ( citalopram , fluoxetine , amitriptyline ) , but none of those helped with my depression , insomnia & anxiety . xxmaj my doctor suggested and changed me onto 45 mg mirtazapine and this medicine has saved my life . xxmaj thankfully i have had no side effects especially the most common - weight gain , i 've actually lost alot of weight . i still have suicidal thoughts but mirtazapine has saved me . \",xxbos \" xxmaj my son has xxmaj crohn 's disease and has done very well on the xxmaj asacol . xxmaj he has no complaints and shows no side effects . xxmaj he has taken as many as nine tablets per day at one time . i 've been very happy with the results , reducing his bouts of diarrhea drastically . \",xxbos \" xxmaj quick reduction of symptoms \",xxbos \" xxmaj contrave combines drugs that were used for alcohol , smoking , and opioid cessation . xxmaj people lose weight on it because it also helps control over - eating . i have no doubt that most obesity is caused from sugar / carb addiction , which is just as powerful as any drug . i have been taking it for five days , and the good news is , it seems to go to work immediately . i feel hungry before i want food now . i really do n't care to eat ; it 's just to fill my stomach . xxmaj since i have only been on it a few days , i do n't know if i 've lost weight ( i do n't have a scale ) , but my clothes do feel a little looser , so maybe a pound or two . i 'm hoping that after a few months on this medication , i will develop healthier habits that i can continue without the aid of xxmaj contrave . \",xxbos \" i have been on this birth control for one cycle . xxmaj after reading some of the reviews on this type and similar birth controls i was a bit apprehensive to start . i m giving this birth control a 9 out of 10 as i have not been on it long enough for a 10 . xxmaj so far i love this birth control ! xxmaj my side effects have been so minimal its like i m not even on birth control ! i have experienced mild headaches here and there and some nausea but other than that i ve been feeling great ! i got my period on cue on the third day of the inactive pills and i had no idea it was coming because i had zero pms ! xxmaj my period was very light and i barely had any cramping ! i had unprotected sex the first month and obviously did n't get pregnant so i 'm very pleased ! xxmaj highly recommend \"\n",
              "y: CategoryList\n",
              "Depression,Crohn's Disease, Maintenance,Urinary Tract Infection,Weight Loss,Birth Control\n",
              "Path: .;\n",
              "\n",
              "Test: None, model=SequentialRNN(\n",
              "  (0): MultiBatchEncoder(\n",
              "    (module): AWD_LSTM(\n",
              "      (encoder): Embedding(26448, 400, padding_idx=1)\n",
              "      (encoder_dp): EmbeddingDropout(\n",
              "        (emb): Embedding(26448, 400, padding_idx=1)\n",
              "      )\n",
              "      (rnns): ModuleList(\n",
              "        (0): WeightDropout(\n",
              "          (module): LSTM(400, 1152, batch_first=True)\n",
              "        )\n",
              "        (1): WeightDropout(\n",
              "          (module): LSTM(1152, 1152, batch_first=True)\n",
              "        )\n",
              "        (2): WeightDropout(\n",
              "          (module): LSTM(1152, 400, batch_first=True)\n",
              "        )\n",
              "      )\n",
              "      (input_dp): RNNDropout()\n",
              "      (hidden_dps): ModuleList(\n",
              "        (0): RNNDropout()\n",
              "        (1): RNNDropout()\n",
              "        (2): RNNDropout()\n",
              "      )\n",
              "    )\n",
              "  )\n",
              "  (1): PoolingLinearClassifier(\n",
              "    (layers): Sequential(\n",
              "      (0): BatchNorm1d(1200, eps=1e-05, momentum=0.1, affine=True, track_running_stats=True)\n",
              "      (1): Dropout(p=0.2, inplace=False)\n",
              "      (2): Linear(in_features=1200, out_features=50, bias=True)\n",
              "      (3): ReLU(inplace=True)\n",
              "      (4): BatchNorm1d(50, eps=1e-05, momentum=0.1, affine=True, track_running_stats=True)\n",
              "      (5): Dropout(p=0.1, inplace=False)\n",
              "      (6): Linear(in_features=50, out_features=639, bias=True)\n",
              "    )\n",
              "  )\n",
              "), opt_func=functools.partial(<class 'torch.optim.adam.Adam'>, betas=(0.9, 0.99)), loss_func=FlattenedLoss of CrossEntropyLoss(), metrics=[<function accuracy at 0x7f99db9b52f0>], true_wd=True, bn_wd=True, wd=0.01, train_bn=True, path=PosixPath('.'), model_dir='models', callback_fns=[functools.partial(<class 'fastai.basic_train.Recorder'>, add_time=True, silent=False)], callbacks=[RNNTrainer\n",
              "learn: RNNLearner(data=TextClasDataBunch;\n",
              "\n",
              "Train: LabelList (159079 items)\n",
              "x: TextList\n",
              "xxbos \" xxmaj it has no side effect , i take it in combination of xxmaj bystolic 5 xxmaj mg and xxmaj fish xxmaj oil \",xxbos \" xxmaj my son is halfway through his fourth week of xxmaj intuniv . xxmaj we became concerned when he began this last week , when he started taking the highest dose he will be on . xxmaj for two days , he could hardly get out of bed , was very cranky , and slept for nearly 8 hours on a drive home from school vacation ( very unusual for him . ) i called his doctor on xxmaj monday morning and she said to stick it out a few days . xxmaj see how he did at school , and with getting up in the morning . xxmaj the last two days have been problem free . xxmaj he is xxup much more agreeable than ever . xxmaj he is less emotional ( a good thing ) , less cranky . xxmaj he is remembering all the things he should . xxmaj overall his behavior is better . \n",
              " \n",
              "  xxmaj we have tried many different medications and so far this is the most effective . \",xxbos \" i used to take another oral contraceptive , which had 21 pill cycle , and was very happy- very light periods , max 5 days , no other side effects . xxmaj but it contained hormone xxunk , which is not available in xxup us , so i switched to xxmaj lybrel , because the ingredients are similar . xxmaj when my other pills ended , i started xxmaj lybrel immediately , on my first day of period , as the instructions said . xxmaj and the period lasted for two weeks . xxmaj when taking the second pack- same two weeks . xxmaj and now , with third pack things got even worse- my third period lasted for two weeks and now it 's the end of the third week- i still have daily brown discharge . \n",
              " \n",
              "  xxmaj the positive side is that i did n't have any other side effects . xxmaj the idea of being period free was so tempting ... xxmaj alas . \",xxbos \" xxmaj this is my first time using any form of birth control . i 'm glad i went with the patch , i have been on it for 8 months . xxmaj at first xxmaj it decreased my libido but that subsided . xxmaj the only downside is that it made my periods longer ( 5 - 6 days to be exact ) i used to only have periods for 3 - 4 days max also made my cramps intense for the first two days of my period , i never had cramps before using birth control . xxmaj other than that in happy with the patch \",xxbos \" xxmaj suboxone has completely turned my life around . i feel healthier , i 'm excelling at my job and i always have money in my pocket and my savings account . i had none of those before xxmaj suboxone and spent years abusing oxycontin . xxmaj my paycheck was already spent by the time i got it and i started resorting to scheming and stealing to fund my addiction . xxmaj all that is history . xxmaj if you 're ready to stop , there 's a good chance that suboxone will put you on the path of great life again . i have found the side - effects to be minimal compared to oxycontin . i 'm actually sleeping better . xxmaj slight constipation is about it for me . xxmaj it truly is amazing . xxmaj the cost pales in comparison to what i spent on oxycontin . \"\n",
              "y: CategoryList\n",
              "Left Ventricular Dysfunction,ADHD,Birth Control,Birth Control,Opiate Dependence\n",
              "Path: .;\n",
              "\n",
              "Valid: LabelList (53161 items)\n",
              "x: TextList\n",
              "xxbos \" i 've tried a few antidepressants over the years ( citalopram , fluoxetine , amitriptyline ) , but none of those helped with my depression , insomnia & anxiety . xxmaj my doctor suggested and changed me onto 45 mg mirtazapine and this medicine has saved my life . xxmaj thankfully i have had no side effects especially the most common - weight gain , i 've actually lost alot of weight . i still have suicidal thoughts but mirtazapine has saved me . \",xxbos \" xxmaj my son has xxmaj crohn 's disease and has done very well on the xxmaj asacol . xxmaj he has no complaints and shows no side effects . xxmaj he has taken as many as nine tablets per day at one time . i 've been very happy with the results , reducing his bouts of diarrhea drastically . \",xxbos \" xxmaj quick reduction of symptoms \",xxbos \" xxmaj contrave combines drugs that were used for alcohol , smoking , and opioid cessation . xxmaj people lose weight on it because it also helps control over - eating . i have no doubt that most obesity is caused from sugar / carb addiction , which is just as powerful as any drug . i have been taking it for five days , and the good news is , it seems to go to work immediately . i feel hungry before i want food now . i really do n't care to eat ; it 's just to fill my stomach . xxmaj since i have only been on it a few days , i do n't know if i 've lost weight ( i do n't have a scale ) , but my clothes do feel a little looser , so maybe a pound or two . i 'm hoping that after a few months on this medication , i will develop healthier habits that i can continue without the aid of xxmaj contrave . \",xxbos \" i have been on this birth control for one cycle . xxmaj after reading some of the reviews on this type and similar birth controls i was a bit apprehensive to start . i m giving this birth control a 9 out of 10 as i have not been on it long enough for a 10 . xxmaj so far i love this birth control ! xxmaj my side effects have been so minimal its like i m not even on birth control ! i have experienced mild headaches here and there and some nausea but other than that i ve been feeling great ! i got my period on cue on the third day of the inactive pills and i had no idea it was coming because i had zero pms ! xxmaj my period was very light and i barely had any cramping ! i had unprotected sex the first month and obviously did n't get pregnant so i 'm very pleased ! xxmaj highly recommend \"\n",
              "y: CategoryList\n",
              "Depression,Crohn's Disease, Maintenance,Urinary Tract Infection,Weight Loss,Birth Control\n",
              "Path: .;\n",
              "\n",
              "Test: None, model=SequentialRNN(\n",
              "  (0): MultiBatchEncoder(\n",
              "    (module): AWD_LSTM(\n",
              "      (encoder): Embedding(26448, 400, padding_idx=1)\n",
              "      (encoder_dp): EmbeddingDropout(\n",
              "        (emb): Embedding(26448, 400, padding_idx=1)\n",
              "      )\n",
              "      (rnns): ModuleList(\n",
              "        (0): WeightDropout(\n",
              "          (module): LSTM(400, 1152, batch_first=True)\n",
              "        )\n",
              "        (1): WeightDropout(\n",
              "          (module): LSTM(1152, 1152, batch_first=True)\n",
              "        )\n",
              "        (2): WeightDropout(\n",
              "          (module): LSTM(1152, 400, batch_first=True)\n",
              "        )\n",
              "      )\n",
              "      (input_dp): RNNDropout()\n",
              "      (hidden_dps): ModuleList(\n",
              "        (0): RNNDropout()\n",
              "        (1): RNNDropout()\n",
              "        (2): RNNDropout()\n",
              "      )\n",
              "    )\n",
              "  )\n",
              "  (1): PoolingLinearClassifier(\n",
              "    (layers): Sequential(\n",
              "      (0): BatchNorm1d(1200, eps=1e-05, momentum=0.1, affine=True, track_running_stats=True)\n",
              "      (1): Dropout(p=0.2, inplace=False)\n",
              "      (2): Linear(in_features=1200, out_features=50, bias=True)\n",
              "      (3): ReLU(inplace=True)\n",
              "      (4): BatchNorm1d(50, eps=1e-05, momentum=0.1, affine=True, track_running_stats=True)\n",
              "      (5): Dropout(p=0.1, inplace=False)\n",
              "      (6): Linear(in_features=50, out_features=639, bias=True)\n",
              "    )\n",
              "  )\n",
              "), opt_func=functools.partial(<class 'torch.optim.adam.Adam'>, betas=(0.9, 0.99)), loss_func=FlattenedLoss of CrossEntropyLoss(), metrics=[<function accuracy at 0x7f99db9b52f0>], true_wd=True, bn_wd=True, wd=0.01, train_bn=True, path=PosixPath('.'), model_dir='models', callback_fns=[functools.partial(<class 'fastai.basic_train.Recorder'>, add_time=True, silent=False)], callbacks=[...], layer_groups=[Sequential(\n",
              "  (0): Embedding(26448, 400, padding_idx=1)\n",
              "  (1): EmbeddingDropout(\n",
              "    (emb): Embedding(26448, 400, padding_idx=1)\n",
              "  )\n",
              "), Sequential(\n",
              "  (0): WeightDropout(\n",
              "    (module): LSTM(400, 1152, batch_first=True)\n",
              "  )\n",
              "  (1): RNNDropout()\n",
              "), Sequential(\n",
              "  (0): WeightDropout(\n",
              "    (module): LSTM(1152, 1152, batch_first=True)\n",
              "  )\n",
              "  (1): RNNDropout()\n",
              "), Sequential(\n",
              "  (0): WeightDropout(\n",
              "    (module): LSTM(1152, 400, batch_first=True)\n",
              "  )\n",
              "  (1): RNNDropout()\n",
              "), Sequential(\n",
              "  (0): PoolingLinearClassifier(\n",
              "    (layers): Sequential(\n",
              "      (0): BatchNorm1d(1200, eps=1e-05, momentum=0.1, affine=True, track_running_stats=True)\n",
              "      (1): Dropout(p=0.2, inplace=False)\n",
              "      (2): Linear(in_features=1200, out_features=50, bias=True)\n",
              "      (3): ReLU(inplace=True)\n",
              "      (4): BatchNorm1d(50, eps=1e-05, momentum=0.1, affine=True, track_running_stats=True)\n",
              "      (5): Dropout(p=0.1, inplace=False)\n",
              "      (6): Linear(in_features=50, out_features=639, bias=True)\n",
              "    )\n",
              "  )\n",
              ")], add_time=True, silent=False)\n",
              "alpha: 2.0\n",
              "beta: 1.0], layer_groups=[Sequential(\n",
              "  (0): Embedding(26448, 400, padding_idx=1)\n",
              "  (1): EmbeddingDropout(\n",
              "    (emb): Embedding(26448, 400, padding_idx=1)\n",
              "  )\n",
              "), Sequential(\n",
              "  (0): WeightDropout(\n",
              "    (module): LSTM(400, 1152, batch_first=True)\n",
              "  )\n",
              "  (1): RNNDropout()\n",
              "), Sequential(\n",
              "  (0): WeightDropout(\n",
              "    (module): LSTM(1152, 1152, batch_first=True)\n",
              "  )\n",
              "  (1): RNNDropout()\n",
              "), Sequential(\n",
              "  (0): WeightDropout(\n",
              "    (module): LSTM(1152, 400, batch_first=True)\n",
              "  )\n",
              "  (1): RNNDropout()\n",
              "), Sequential(\n",
              "  (0): PoolingLinearClassifier(\n",
              "    (layers): Sequential(\n",
              "      (0): BatchNorm1d(1200, eps=1e-05, momentum=0.1, affine=True, track_running_stats=True)\n",
              "      (1): Dropout(p=0.2, inplace=False)\n",
              "      (2): Linear(in_features=1200, out_features=50, bias=True)\n",
              "      (3): ReLU(inplace=True)\n",
              "      (4): BatchNorm1d(50, eps=1e-05, momentum=0.1, affine=True, track_running_stats=True)\n",
              "      (5): Dropout(p=0.1, inplace=False)\n",
              "      (6): Linear(in_features=50, out_features=639, bias=True)\n",
              "    )\n",
              "  )\n",
              ")], add_time=True, silent=False)"
            ]
          },
          "metadata": {
            "tags": []
          },
          "execution_count": 46
        }
      ]
    },
    {
      "cell_type": "code",
      "metadata": {
        "id": "aBCmMwCYKz03",
        "colab_type": "code",
        "outputId": "aa9f8381-ff8b-4503-9f32-dccee327d585",
        "colab": {
          "base_uri": "https://localhost:8080/",
          "height": 296
        }
      },
      "source": [
        "#find learning rate before starting the training of classifier\n",
        "learn_clas_bwd.lr_find(start_lr=1e-8, end_lr=1e2)\n",
        "learn_clas_bwd.recorder.plot()"
      ],
      "execution_count": 47,
      "outputs": [
        {
          "output_type": "display_data",
          "data": {
            "text/html": [
              ""
            ],
            "text/plain": [
              "<IPython.core.display.HTML object>"
            ]
          },
          "metadata": {
            "tags": []
          }
        },
        {
          "output_type": "stream",
          "text": [
            "LR Finder is complete, type {learner_name}.recorder.plot() to see the graph.\n"
          ],
          "name": "stdout"
        },
        {
          "output_type": "display_data",
          "data": {
            "image/png": "[encoded data removed]",
            "text/plain": [
              "<Figure size 432x288 with 1 Axes>"
            ]
          },
          "metadata": {
            "tags": []
          }
        }
      ]
    },
    {
      "cell_type": "code",
      "metadata": {
        "id": "aqYsAUCDK9eP",
        "colab_type": "code",
        "outputId": "b81bb6f2-edcc-4312-f32f-b464a334a433",
        "colab": {
          "base_uri": "https://localhost:8080/",
          "height": 80
        }
      },
      "source": [
        "learn_clas_bwd.fit_one_cycle(1, 1e-3, moms=(0.8, 0.7))"
      ],
      "execution_count": 48,
      "outputs": [
        {
          "output_type": "display_data",
          "data": {
            "text/html": [
              "<table border=\"1\" class=\"dataframe\">\n",
              "  <thead>\n",
              "    <tr style=\"text-align: left;\">\n",
              "      <th>epoch</th>\n",
              "      <th>train_loss</th>\n",
              "      <th>valid_loss</th>\n",
              "      <th>accuracy</th>\n",
              "      <th>time</th>\n",
              "    </tr>\n",
              "  </thead>\n",
              "  <tbody>\n",
              "    <tr>\n",
              "      <td>0</td>\n",
              "      <td>2.156245</td>\n",
              "      <td>1.928550</td>\n",
              "      <td>0.566355</td>\n",
              "      <td>05:24</td>\n",
              "    </tr>\n",
              "  </tbody>\n",
              "</table>"
            ],
            "text/plain": [
              "<IPython.core.display.HTML object>"
            ]
          },
          "metadata": {
            "tags": []
          }
        }
      ]
    },
    {
      "cell_type": "code",
      "metadata": {
        "id": "LjR1HDRQLEn_",
        "colab_type": "code",
        "colab": {
          "base_uri": "https://localhost:8080/",
          "height": 80
        },
        "outputId": "0b9bdce5-210b-4ba9-e2af-c125132bcb2a"
      },
      "source": [
        "learn_clas_bwd.freeze_to(-2)\n",
        "learn_clas_bwd.fit_one_cycle(1, slice(1e-4,1e-2), moms=(0.8,0.7))"
      ],
      "execution_count": 49,
      "outputs": [
        {
          "output_type": "display_data",
          "data": {
            "text/html": [
              "<table border=\"1\" class=\"dataframe\">\n",
              "  <thead>\n",
              "    <tr style=\"text-align: left;\">\n",
              "      <th>epoch</th>\n",
              "      <th>train_loss</th>\n",
              "      <th>valid_loss</th>\n",
              "      <th>accuracy</th>\n",
              "      <th>time</th>\n",
              "    </tr>\n",
              "  </thead>\n",
              "  <tbody>\n",
              "    <tr>\n",
              "      <td>0</td>\n",
              "      <td>1.808344</td>\n",
              "      <td>1.482786</td>\n",
              "      <td>0.648615</td>\n",
              "      <td>06:10</td>\n",
              "    </tr>\n",
              "  </tbody>\n",
              "</table>"
            ],
            "text/plain": [
              "<IPython.core.display.HTML object>"
            ]
          },
          "metadata": {
            "tags": []
          }
        }
      ]
    },
    {
      "cell_type": "code",
      "metadata": {
        "id": "vTpBKFIbLOj6",
        "colab_type": "code",
        "outputId": "82000acd-c434-4cd7-ccdb-2a041be5e999",
        "colab": {
          "base_uri": "https://localhost:8080/",
          "height": 80
        }
      },
      "source": [
        "learn_clas_bwd.freeze_to(-3)\n",
        "learn_clas_bwd.fit_one_cycle(1, slice(1e-5,5e-3), moms=(0.8,0.7))"
      ],
      "execution_count": 50,
      "outputs": [
        {
          "output_type": "display_data",
          "data": {
            "text/html": [
              "<table border=\"1\" class=\"dataframe\">\n",
              "  <thead>\n",
              "    <tr style=\"text-align: left;\">\n",
              "      <th>epoch</th>\n",
              "      <th>train_loss</th>\n",
              "      <th>valid_loss</th>\n",
              "      <th>accuracy</th>\n",
              "      <th>time</th>\n",
              "    </tr>\n",
              "  </thead>\n",
              "  <tbody>\n",
              "    <tr>\n",
              "      <td>0</td>\n",
              "      <td>1.454183</td>\n",
              "      <td>1.331714</td>\n",
              "      <td>0.682305</td>\n",
              "      <td>09:25</td>\n",
              "    </tr>\n",
              "  </tbody>\n",
              "</table>"
            ],
            "text/plain": [
              "<IPython.core.display.HTML object>"
            ]
          },
          "metadata": {
            "tags": []
          }
        }
      ]
    },
    {
      "cell_type": "code",
      "metadata": {
        "id": "lIlvaTq4Ldom",
        "colab_type": "code",
        "outputId": "1a92d5b5-e9ee-4926-cf72-a102a7e02956",
        "colab": {
          "base_uri": "https://localhost:8080/",
          "height": 80
        }
      },
      "source": [
        "learn_clas_bwd.unfreeze()\n",
        "learn_clas_bwd.fit_one_cycle(1, slice(1e-5,1e-3), moms=(0.8,0.7))"
      ],
      "execution_count": 51,
      "outputs": [
        {
          "output_type": "display_data",
          "data": {
            "text/html": [
              "<table border=\"1\" class=\"dataframe\">\n",
              "  <thead>\n",
              "    <tr style=\"text-align: left;\">\n",
              "      <th>epoch</th>\n",
              "      <th>train_loss</th>\n",
              "      <th>valid_loss</th>\n",
              "      <th>accuracy</th>\n",
              "      <th>time</th>\n",
              "    </tr>\n",
              "  </thead>\n",
              "  <tbody>\n",
              "    <tr>\n",
              "      <td>0</td>\n",
              "      <td>1.276734</td>\n",
              "      <td>1.286984</td>\n",
              "      <td>0.692632</td>\n",
              "      <td>12:35</td>\n",
              "    </tr>\n",
              "  </tbody>\n",
              "</table>"
            ],
            "text/plain": [
              "<IPython.core.display.HTML object>"
            ]
          },
          "metadata": {
            "tags": []
          }
        }
      ]
    },
    {
      "cell_type": "code",
      "metadata": {
        "id": "w_3v95AsHfHV",
        "colab_type": "code",
        "colab": {
          "base_uri": "https://localhost:8080/",
          "height": 204
        },
        "outputId": "2b95f236-5fc7-47a7-8677-f8a0059f775e"
      },
      "source": [
        "learn_clas_bwd.fit_one_cycle(5, 1e-3, moms=(0.8,0.7))"
      ],
      "execution_count": 52,
      "outputs": [
        {
          "output_type": "display_data",
          "data": {
            "text/html": [
              "<table border=\"1\" class=\"dataframe\">\n",
              "  <thead>\n",
              "    <tr style=\"text-align: left;\">\n",
              "      <th>epoch</th>\n",
              "      <th>train_loss</th>\n",
              "      <th>valid_loss</th>\n",
              "      <th>accuracy</th>\n",
              "      <th>time</th>\n",
              "    </tr>\n",
              "  </thead>\n",
              "  <tbody>\n",
              "    <tr>\n",
              "      <td>0</td>\n",
              "      <td>1.420562</td>\n",
              "      <td>1.261514</td>\n",
              "      <td>0.702902</td>\n",
              "      <td>13:41</td>\n",
              "    </tr>\n",
              "    <tr>\n",
              "      <td>1</td>\n",
              "      <td>1.297201</td>\n",
              "      <td>1.195632</td>\n",
              "      <td>0.716089</td>\n",
              "      <td>13:33</td>\n",
              "    </tr>\n",
              "    <tr>\n",
              "      <td>2</td>\n",
              "      <td>1.133214</td>\n",
              "      <td>1.095095</td>\n",
              "      <td>0.742480</td>\n",
              "      <td>12:31</td>\n",
              "    </tr>\n",
              "    <tr>\n",
              "      <td>3</td>\n",
              "      <td>0.900723</td>\n",
              "      <td>0.989327</td>\n",
              "      <td>0.771562</td>\n",
              "      <td>12:44</td>\n",
              "    </tr>\n",
              "    <tr>\n",
              "      <td>4</td>\n",
              "      <td>0.720529</td>\n",
              "      <td>0.968597</td>\n",
              "      <td>0.781870</td>\n",
              "      <td>12:42</td>\n",
              "    </tr>\n",
              "  </tbody>\n",
              "</table>"
            ],
            "text/plain": [
              "<IPython.core.display.HTML object>"
            ]
          },
          "metadata": {
            "tags": []
          }
        }
      ]
    },
    {
      "cell_type": "code",
      "metadata": {
        "id": "tjirzoI2Bre_",
        "colab_type": "code",
        "colab": {
          "base_uri": "https://localhost:8080/",
          "height": 205
        },
        "outputId": "bfd5b3fc-17fb-41d5-8a1c-d5a0022cc3e5"
      },
      "source": [
        "learn_clas_bwd.fit_one_cycle(5, 1e-3, moms=(0.8,0.7))"
      ],
      "execution_count": 53,
      "outputs": [
        {
          "output_type": "display_data",
          "data": {
            "text/html": [
              "\n",
              "    <div>\n",
              "        <style>\n",
              "            /* Turns off some styling */\n",
              "            progress {\n",
              "                /* gets rid of default border in Firefox and Opera. */\n",
              "                border: none;\n",
              "                /* Needs to be in here for Safari polyfill so background images work as expected. */\n",
              "                background-size: auto;\n",
              "            }\n",
              "            .progress-bar-interrupted, .progress-bar-interrupted::-webkit-progress-bar {\n",
              "                background: #F44336;\n",
              "            }\n",
              "        </style>\n",
              "      <progress value='3' class='' max='5', style='width:300px; height:20px; vertical-align: middle;'></progress>\n",
              "      60.00% [3/5 38:30<25:40]\n",
              "    </div>\n",
              "    \n",
              "<table border=\"1\" class=\"dataframe\">\n",
              "  <thead>\n",
              "    <tr style=\"text-align: left;\">\n",
              "      <th>epoch</th>\n",
              "      <th>train_loss</th>\n",
              "      <th>valid_loss</th>\n",
              "      <th>accuracy</th>\n",
              "      <th>time</th>\n",
              "    </tr>\n",
              "  </thead>\n",
              "  <tbody>\n",
              "    <tr>\n",
              "      <td>0</td>\n",
              "      <td>0.855724</td>\n",
              "      <td>1.017726</td>\n",
              "      <td>0.770038</td>\n",
              "      <td>12:20</td>\n",
              "    </tr>\n",
              "    <tr>\n",
              "      <td>1</td>\n",
              "      <td>1.087865</td>\n",
              "      <td>1.060355</td>\n",
              "      <td>0.756683</td>\n",
              "      <td>13:34</td>\n",
              "    </tr>\n",
              "    <tr>\n",
              "      <td>2</td>\n",
              "      <td>0.988478</td>\n",
              "      <td>0.987042</td>\n",
              "      <td>0.780647</td>\n",
              "      <td>12:36</td>\n",
              "    </tr>\n",
              "  </tbody>\n",
              "</table><p>\n",
              "\n",
              "    <div>\n",
              "        <style>\n",
              "            /* Turns off some styling */\n",
              "            progress {\n",
              "                /* gets rid of default border in Firefox and Opera. */\n",
              "                border: none;\n",
              "                /* Needs to be in here for Safari polyfill so background images work as expected. */\n",
              "                background-size: auto;\n",
              "            }\n",
              "            .progress-bar-interrupted, .progress-bar-interrupted::-webkit-progress-bar {\n",
              "                background: #F44336;\n",
              "            }\n",
              "        </style>\n",
              "      <progress value='2884' class='' max='4971', style='width:300px; height:20px; vertical-align: middle;'></progress>\n",
              "      58.02% [2884/4971 06:25<04:39 0.7259]\n",
              "    </div>\n",
              "    "
            ],
            "text/plain": [
              "<IPython.core.display.HTML object>"
            ]
          },
          "metadata": {
            "tags": []
          }
        },
        {
          "output_type": "stream",
          "text": [
            "Buffered data was truncated after reaching the output size limit."
          ],
          "name": "stdout"
        }
      ]
    },
    {
      "cell_type": "code",
      "metadata": {
        "id": "n91UwHpALoVU",
        "colab_type": "code",
        "colab": {}
      },
      "source": [
        "#Export the Learned Model\n",
        "learn_clas_bwd.export('/content/drive/My Drive/Projects/AnalyticsHackathon/learned_classifer_try_2_bwd.pkl')"
      ],
      "execution_count": 0,
      "outputs": []
    },
    {
      "cell_type": "code",
      "metadata": {
        "id": "wlg7tUDefd5g",
        "colab_type": "code",
        "colab": {
          "base_uri": "https://localhost:8080/",
          "height": 279
        },
        "outputId": "881ebb14-1621-417d-b85c-d177a10e3505"
      },
      "source": [
        "learn_clas_bwd.recorder.plot_losses()"
      ],
      "execution_count": 55,
      "outputs": [
        {
          "output_type": "display_data",
          "data": {
            "image/png": "[encoded data removed]",
            "text/plain": [
              "<Figure size 432x288 with 1 Axes>"
            ]
          },
          "metadata": {
            "tags": []
          }
        }
      ]
    },
    {
      "cell_type": "markdown",
      "metadata": {
        "id": "39O2XmH9L4Gf",
        "colab_type": "text"
      },
      "source": [
        "#Ensembling"
      ]
    },
    {
      "cell_type": "code",
      "metadata": {
        "id": "vw1VZWMKL6tc",
        "colab_type": "code",
        "colab": {}
      },
      "source": [
        "pred_fwd,lbl_fwd = learn_clas_fwd.get_preds(ordered=True)\n",
        "pred_bwd,lbl_bwd = learn_clas_bwd.get_preds(ordered=True)\n",
        "final_pred = (pred_fwd+pred_bwd)/2"
      ],
      "execution_count": 0,
      "outputs": []
    },
    {
      "cell_type": "code",
      "metadata": {
        "id": "rp9IsfYWMPU8",
        "colab_type": "code",
        "outputId": "f89f18cf-ede9-4237-bdd8-23a003b3fa65",
        "colab": {
          "base_uri": "https://localhost:8080/",
          "height": 34
        }
      },
      "source": [
        "accuracy(final_pred, lbl_fwd)"
      ],
      "execution_count": 57,
      "outputs": [
        {
          "output_type": "execute_result",
          "data": {
            "text/plain": [
              "tensor(0.8459)"
            ]
          },
          "metadata": {
            "tags": []
          },
          "execution_count": 57
        }
      ]
    },
    {
      "cell_type": "markdown",
      "metadata": {
        "id": "ErbX7UvgMTyQ",
        "colab_type": "text"
      },
      "source": [
        "#Analysis"
      ]
    },
    {
      "cell_type": "code",
      "metadata": {
        "id": "QUs8MadzMX1i",
        "colab_type": "code",
        "colab": {}
      },
      "source": [
        "learn_clas_fwd.data.classes"
      ],
      "execution_count": 0,
      "outputs": []
    },
    {
      "cell_type": "code",
      "metadata": {
        "id": "2low6mHF5yrb",
        "colab_type": "code",
        "outputId": "89773472-c0de-4555-d530-3796d3694d74",
        "colab": {
          "base_uri": "https://localhost:8080/",
          "height": 51
        }
      },
      "source": [
        "from sklearn import metrics\n",
        "\n",
        "predictions_clas = np.argmax(pred_fwd, axis = 1) \n",
        "print(predictions_clas)\n",
        "print(lbl_fwd)\n"
      ],
      "execution_count": 58,
      "outputs": [
        {
          "output_type": "stream",
          "text": [
            "tensor([153, 137, 590,  ...,  75, 422, 342])\n",
            "tensor([153, 137, 590,  ...,  75, 422, 514])\n"
          ],
          "name": "stdout"
        }
      ]
    },
    {
      "cell_type": "code",
      "metadata": {
        "id": "mOsm8NGFjW7G",
        "colab_type": "code",
        "outputId": "46083bb2-6f44-47a5-fe43-414d3635b049",
        "colab": {
          "base_uri": "https://localhost:8080/",
          "height": 170
        }
      },
      "source": [
        "#Generate Confusion Matrix\n",
        "confusion_matrix = metrics.confusion_matrix(lbl_fwd, predictions_clas)\n",
        "print(confusion_matrix)\n",
        "\n",
        "#Export Confustion Matrix\n",
        "df_confusion_matrix = pd.DataFrame(confusion_matrix)\n",
        "# df_confusion_matrix.to_csv('/content/drive/My Drive/Projects/AnalyticsHackathon/ULMFit_Drug_Review_Confusion_Matrix_try1.csv')"
      ],
      "execution_count": 62,
      "outputs": [
        {
          "output_type": "stream",
          "text": [
            "[[1050    0    0    0 ...    0    0    0    0]\n",
            " [   0    0    0    0 ...    0    0    0    0]\n",
            " [   0    0  521    0 ...    0    0    0    0]\n",
            " [   0    0    0    0 ...    0    0    0    0]\n",
            " ...\n",
            " [   0    0    0    0 ...    0    0    0    0]\n",
            " [   0    0    0    0 ...    0    0    0    0]\n",
            " [   0    0    0    0 ...    0    0    0    0]\n",
            " [   0    0    0    0 ...    0    0    0    0]]\n"
          ],
          "name": "stdout"
        }
      ]
    },
    {
      "cell_type": "code",
      "metadata": {
        "id": "CUOT1Jbmyy9x",
        "colab_type": "code",
        "outputId": "ce783e65-ac13-4915-902a-d4f5980a56c8",
        "colab": {
          "base_uri": "https://localhost:8080/",
          "height": 68
        }
      },
      "source": [
        "#From the confusion matrix, take diagnal elements\n",
        "\n",
        "diag = np.diag(df_confusion_matrix)\n",
        "correct_predictions = sum(diag)\n",
        "total_validation_examples = np.sum(df_confusion_matrix, axis=1).sum()\n",
        "pred_acc_percent = (correct_predictions/total_validation_examples) * 100\n",
        "print(f\"Sum of diagonal elements of the confusion matrix: {correct_predictions}\")\n",
        "print(f\"Total number of vaildation examples: {total_validation_examples}\")\n",
        "print(f\"Prediction Accuracy of the model: {pred_acc_percent}\")\n"
      ],
      "execution_count": 63,
      "outputs": [
        {
          "output_type": "stream",
          "text": [
            "Sum of diagonal elements of the confusion matrix: 44553\n",
            "Total number of vaildation examples: 53161\n",
            "Prediction Accuracy of the model: 83.80767856135137\n"
          ],
          "name": "stdout"
        }
      ]
    },
    {
      "cell_type": "code",
      "metadata": {
        "id": "kt55COPSDC5B",
        "colab_type": "code",
        "outputId": "99140140-9f8d-49cb-e3f7-b14f7141c38f",
        "colab": {
          "base_uri": "https://localhost:8080/",
          "height": 1000
        }
      },
      "source": [
        "target_names = learn_clas_fwd.data.classes\n",
        "print(metrics.classification_report(lbl_fwd, predictions_clas, target_names=target_names))\n"
      ],
      "execution_count": 65,
      "outputs": [
        {
          "output_type": "stream",
          "text": [
            "                                                                precision    recall  f1-score   support\n",
            "\n",
            "                                                          ADHD       0.93      0.93      0.93      1126\n",
            "                                          AIDS Related Wasting       0.00      0.00      0.00         2\n",
            "                                     Abnormal Uterine Bleeding       0.87      0.80      0.83       648\n",
            "                                                      Abortion       0.00      0.00      0.00         2\n",
            "                                        Acetaminophen Overdose       0.00      0.00      0.00         1\n",
            "                                                          Acne       0.95      0.96      0.96      1847\n",
            "                                             Actinic Keratosis       0.50      0.12      0.20         8\n",
            "                                       Acute Coronary Syndrome       0.90      0.82      0.86        11\n",
            "                                  Acute Lymphoblastic Leukemia       0.00      0.00      0.00         2\n",
            "                                 Acute Nonlymphocytic Leukemia       0.00      0.00      0.00         1\n",
            "                                  Acute Promyelocytic Leukemia       0.00      0.00      0.00         1\n",
            "                                             Addison's Disease       0.00      0.00      0.00         2\n",
            "                                  Adrenocortical Insufficiency       0.00      0.00      0.00         3\n",
            "                         Adult Human Growth Hormone Deficiency       1.00      1.00      1.00         1\n",
            "                                                Agitated State       1.00      0.62      0.77         8\n",
            "                                                     Agitation       0.00      0.00      0.00         6\n",
            "                                            Alcohol Dependence       0.91      0.91      0.91       130\n",
            "                                            Alcohol Withdrawal       0.84      0.75      0.79        68\n",
            "                                            Allergic Reactions       0.74      0.57      0.64        30\n",
            "                                             Allergic Rhinitis       0.76      0.86      0.81       350\n",
            "                                            Allergic Urticaria       0.00      0.00      0.00         6\n",
            "                                                     Allergies       0.76      0.69      0.72        49\n",
            "                                                      Alopecia       0.71      0.89      0.79        36\n",
            "                       Alpha-1 Proteinase Inhibitor Deficiency       0.00      0.00      0.00         2\n",
            "                                           Alzheimer's Disease       0.76      0.78      0.77        32\n",
            "                                                     Amebiasis       0.00      0.00      0.00         3\n",
            "                                                    Amenorrhea       0.70      0.62      0.65        26\n",
            "                                      Anal Fissure and Fistula       1.00      0.80      0.89         5\n",
            "                                                  Anal Itching       0.00      0.00      0.00         4\n",
            "                                        Anaplastic Astrocytoma       0.00      0.00      0.00         1\n",
            "                                         Androgenetic Alopecia       0.88      0.41      0.56        17\n",
            "                                                        Anemia       0.50      0.10      0.17        10\n",
            "                  Anemia Associated with Chronic Renal Failure       0.00      0.00      0.00         8\n",
            "                                  Anemia, Chemotherapy Induced       0.00      0.00      0.00         1\n",
            "                                           Anemia, Sickle Cell       0.00      0.00      0.00         4\n",
            "                                                    Anesthesia       0.91      0.86      0.89        86\n",
            "                                                        Angina       0.81      0.87      0.84        30\n",
            "                                   Angina Pectoris Prophylaxis       1.00      0.11      0.20         9\n",
            "                                        Ankylosing Spondylitis       0.75      0.84      0.79        61\n",
            "                                                      Anorexia       0.83      0.48      0.61        31\n",
            "                                                       Anthrax       0.00      0.00      0.00         1\n",
            "                                     Antiphospholipid Syndrome       0.00      0.00      0.00         2\n",
            "                                                       Anxiety       0.74      0.80      0.77      1908\n",
            "                                            Anxiety and Stress       0.68      0.64      0.66       573\n",
            "                                                 Aphthous Ulce       0.00      0.00      0.00         3\n",
            "                                                    Arrhythmia       0.80      0.67      0.73        42\n",
            "                                             Asperger Syndrome       0.00      0.00      0.00         7\n",
            "                                   Aspergillosis, Aspergilloma       0.00      0.00      0.00         1\n",
            "                                                        Asthma       0.64      0.62      0.63        77\n",
            "                                           Asthma, Maintenance       0.66      0.76      0.70       158\n",
            "                                                 Asthma, acute       0.89      0.74      0.81        34\n",
            "                                             Atopic Dermatitis       0.81      0.63      0.71        54\n",
            "                                           Atrial Fibrillation       0.57      0.79      0.66        75\n",
            "                                                 Atrial Flutte       1.00      0.12      0.22         8\n",
            "                                           Atrophic Urethritis       1.00      0.75      0.86         4\n",
            "                                            Atrophic Vaginitis       0.86      0.91      0.88        53\n",
            "                                   Auditory Processing Disorde       0.00      0.00      0.00         4\n",
            "                                                        Autism       0.57      0.52      0.54        31\n",
            "                                   Autoimmune Hemolytic Anemia       0.00      0.00      0.00         1\n",
            "                                          Autoimmune Hepatitis       1.00      0.67      0.80         6\n",
            "                                    B12 Nutritional Deficiency       0.00      0.00      0.00         1\n",
            "                                                     Back Pain       0.64      0.53      0.58       192\n",
            "                             Bacterial Endocarditis Prevention       0.00      0.00      0.00         3\n",
            "                                           Bacterial Infection       0.49      0.55      0.52       307\n",
            "                                      Bacterial Skin Infection       0.80      0.78      0.79        45\n",
            "                                           Bacterial Vaginitis       0.67      0.73      0.70       153\n",
            "                                           Barrett's Esophagus       0.55      0.61      0.58        18\n",
            "                                          Basal Cell Carcinoma       0.78      0.74      0.76        19\n",
            "                                              Behcet's Disease       0.00      0.00      0.00         2\n",
            "                                         Benign Essential Trem       0.75      0.86      0.80        28\n",
            "                                  Benign Prostatic Hyperplasia       0.84      0.90      0.87       165\n",
            "                                     Benzodiazepine Withdrawal       1.00      0.14      0.25         7\n",
            "                                             Biliary Cirrhosis       0.00      0.00      0.00         5\n",
            "                                          Binge Eating Disorde       0.85      0.76      0.80        29\n",
            "                                               Bipolar Disorde       0.85      0.87      0.86      1380\n",
            "                                                 Birth Control       0.97      0.99      0.98      9648\n",
            "                                             Bladder Infection       0.61      0.50      0.55       130\n",
            "                                              Bleeding Disorde       0.00      0.00      0.00         2\n",
            "                                                   Blepharitis       0.00      0.00      0.00         1\n",
            "                                       Body Dysmorphic Disorde       0.00      0.00      0.00         1\n",
            "                                                Bone infection       0.00      0.00      0.00         4\n",
            "                                Borderline Personality Disorde       0.59      0.34      0.43        50\n",
            "                                             Bowel Preparation       0.97      0.97      0.97       639\n",
            "                                             Breakthrough Pain       1.00      0.64      0.78        14\n",
            "                                                  Breast Cance       0.76      0.92      0.83        99\n",
            "                                       Breast Cancer, Adjuvant       1.00      0.33      0.50         6\n",
            "                                     Breast Cancer, Metastatic       0.63      0.92      0.75        26\n",
            "                                     Breast Cancer, Palliative       0.00      0.00      0.00         2\n",
            "                                     Breast Cancer, Prevention       0.00      0.00      0.00         5\n",
            "                                                    Bronchitis       0.62      0.78      0.69       157\n",
            "                                      Bronchospasm Prophylaxis       0.00      0.00      0.00         7\n",
            "                                                       Bulimia       0.93      0.88      0.90        16\n",
            "                                            Bullous Pemphigoid       0.00      0.00      0.00         4\n",
            "                                        Burning Mouth Syndrome       1.00      0.80      0.89         5\n",
            "                                               Burns, External       0.64      0.69      0.67        13\n",
            "                                                      Bursitis       1.00      0.33      0.50         3\n",
            "                                               CMV Prophylaxis       0.00      0.00      0.00         1\n",
            "                                                          COPD       0.61      0.67      0.64        45\n",
            "                                                   COPD, Acute       0.75      0.60      0.67         5\n",
            "                                             COPD, Maintenance       0.72      0.71      0.71        78\n",
            "                                                      Cachexia       0.00      0.00      0.00         1\n",
            "                                                         Cance       0.00      0.00      0.00         2\n",
            "                                                     Cataplexy       0.00      0.00      0.00         2\n",
            "                                                Cerebral Edema       0.00      0.00      0.00         1\n",
            "                                           Cerebral Spasticity       0.00      0.00      0.00         2\n",
            "                                             Cervical Dystonia       0.65      0.71      0.68        21\n",
            "                                           Chlamydia Infection       0.80      0.76      0.78        98\n",
            "                                      Chronic Fatigue Syndrome       0.70      0.57      0.63        28\n",
            "                               Chronic Idiopathic Constipation       0.81      0.59      0.68        22\n",
            "     Chronic Inflammatory Demyelinating Polyradiculoneuropathy       0.00      0.00      0.00         1\n",
            "                                  Chronic Lymphocytic Leukemia       0.64      0.64      0.64        11\n",
            "                                  Chronic Myelogenous Leukemia       0.84      1.00      0.91        26\n",
            "                                       Chronic Myofascial Pain       0.00      0.00      0.00         2\n",
            "                                                  Chronic Pain       0.69      0.64      0.66       485\n",
            "                                          Chronic Pancreatitis       0.50      0.60      0.55         5\n",
            "                                            Chronic Spasticity       0.00      0.00      0.00         2\n",
            "                                         Clostridial Infection       0.80      0.50      0.62         8\n",
            "                                             Cluster Headaches       0.72      0.67      0.70        46\n",
            "                                            Coccidioidomycosis       0.00      0.00      0.00         1\n",
            "                                                    Cold Sores       0.83      0.90      0.87       105\n",
            "                                                 Cold Symptoms       0.65      0.63      0.64        35\n",
            "                                              Colorectal Cance       0.29      1.00      0.44         2\n",
            "                                           Computed Tomography       1.00      0.25      0.40         4\n",
            "                                         Condylomata Acuminata       0.33      0.20      0.25         5\n",
            "                                                Conjunctivitis       0.00      0.00      0.00         7\n",
            "                                      Conjunctivitis, Allergic       0.75      0.71      0.73        21\n",
            "                                     Conjunctivitis, Bacterial       0.67      0.56      0.61        18\n",
            "                                                  Constipation       0.87      0.92      0.90       525\n",
            "                                           Constipation, Acute       1.00      0.32      0.48        19\n",
            "                                         Constipation, Chronic       0.80      0.85      0.82       179\n",
            "                                    Constipation, Drug Induced       0.83      0.88      0.86        77\n",
            "                                       Coronary Artery Disease       0.00      0.00      0.00         1\n",
            "                                               Costochondritis       0.00      0.00      0.00         2\n",
            "                                                         Cough       0.80      0.87      0.83       297\n",
            "                                    Cough and Nasal Congestion       0.79      0.76      0.77       113\n",
            "                                               Crohn's Disease       0.65      0.66      0.65        53\n",
            "                                        Crohn's Disease, Acute       0.86      0.55      0.67        11\n",
            "                                  Crohn's Disease, Maintenance       0.75      0.73      0.74        74\n",
            "                                         Cutaneous Candidiasis       0.00      0.00      0.00        10\n",
            "                                     Cutaneous T-cell Lymphoma       0.00      0.00      0.00         1\n",
            "                                      Cyclic Vomiting Syndrome       0.67      0.40      0.50         5\n",
            "                                                      Cyclitis       0.00      0.00      0.00         1\n",
            "                                           Cyclothymic Disorde       0.00      0.00      0.00         1\n",
            "                                               Cystic Fibrosis       1.00      0.43      0.60         7\n",
            "                                                      Dandruff       0.00      0.00      0.00         2\n",
            "                                           Deep Neck Infection       0.00      0.00      0.00         3\n",
            "                                          Deep Vein Thrombosis       0.68      0.88      0.76        24\n",
            "Deep Vein Thrombosis Prophylaxis after Hip Replacement Surgery       0.00      0.00      0.00         3\n",
            "                             Deep Vein Thrombosis, First Event       0.00      0.00      0.00         2\n",
            "                             Deep Vein Thrombosis, Prophylaxis       1.00      0.17      0.29         6\n",
            "                         Deep Vein Thrombosis, Recurrent Event       0.00      0.00      0.00         2\n",
            "                                                      Dementia       0.00      0.00      0.00         1\n",
            "                                                Dental Abscess       0.32      0.35      0.33        23\n",
            "                                                    Depression       0.78      0.86      0.82      3095\n",
            "                                              Dercum's Disease       0.00      0.00      0.00         3\n",
            "                                                    Dermatitis       0.47      0.54      0.51        35\n",
            "                                           Dermatologic Lesion       0.00      0.00      0.00         6\n",
            "                                      Dermatological Disorders       0.62      0.62      0.62        13\n",
            "                                               Dermatomyositis       0.00      0.00      0.00         1\n",
            "                                               Dermatophytosis       0.00      0.00      0.00         1\n",
            "                                            Diabetes Insipidus       1.00      0.29      0.44         7\n",
            "                                              Diabetes, Type 1       0.76      0.82      0.79        45\n",
            "                                              Diabetes, Type 2       0.89      0.91      0.90       808\n",
            "                                       Diabetic Kidney Disease       1.00      0.20      0.33         5\n",
            "                                        Diabetic Macular Edema       1.00      1.00      1.00         3\n",
            "                                Diabetic Peripheral Neuropathy       0.70      0.56      0.62        54\n",
            "                                   Diagnosis and Investigation       1.00      0.43      0.60         7\n",
            "                                                   Diaper Rash       0.62      0.83      0.71         6\n",
            "                                                      Diarrhea       0.73      0.65      0.69        69\n",
            "                                               Diarrhea, Acute       0.00      0.00      0.00         4\n",
            "                                             Diarrhea, Chronic       0.76      0.79      0.78        24\n",
            "                                 Dietary Fiber Supplementation       0.00      0.00      0.00         3\n",
            "                                       Dietary Supplementation       0.33      0.23      0.27        22\n",
            "                                 Dissociative Identity Disorde       0.00      0.00      0.00         1\n",
            "                                                Diverticulitis       0.79      0.86      0.82        43\n",
            "                                               Dry Eye Disease       0.92      0.91      0.92        54\n",
            "                                                      Dry Skin       0.62      0.68      0.65        22\n",
            "                                              Dumping Syndrome       0.00      0.00      0.00         2\n",
            "                                                 Duodenal Ulce       0.17      0.14      0.15         7\n",
            "                                       Dupuytren's contracture       0.00      0.00      0.00         1\n",
            "                                                  Dysautonomia       0.75      0.60      0.67         5\n",
            "                                                   Dyspareunia       1.00      0.60      0.75         5\n",
            "                                                      Dystonia       0.00      0.00      0.00         4\n",
            "                                                       Dysuria       0.94      0.61      0.74        28\n",
            "                                             Ear Wax Impaction       0.00      0.00      0.00         3\n",
            "                                                        Eczema       0.74      0.83      0.78        52\n",
            "                                                         Edema       0.85      0.85      0.85        41\n",
            "                                                  Ehrlichiosis       0.00      0.00      0.00         1\n",
            "                                       Emergency Contraception       0.98      0.99      0.99       827\n",
            "                                             Endometrial Cance       1.00      0.33      0.50         3\n",
            "                                       Endometrial Hyperplasia       0.00      0.00      0.00         3\n",
            "                                                 Endometriosis       0.86      0.78      0.82       192\n",
            "                                                 Enterocolitis       0.00      0.00      0.00         1\n",
            "                                      Eosinophilic Esophagitis       0.00      0.00      0.00         1\n",
            "                            Epididymitis, Sexually Transmitted       0.00      0.00      0.00         1\n",
            "                                                      Epilepsy       0.82      0.81      0.82       120\n",
            "                                          Erectile Dysfunction       0.91      0.94      0.93       381\n",
            "                                           Erosive Esophagitis       0.60      0.30      0.40        20\n",
            "                    Esophageal Variceal Hemorrhage Prophylaxis       0.00      0.00      0.00         1\n",
            "                                                 Expectoration       0.00      0.00      0.00         2\n",
            "                                       Extrapyramidal Reaction       1.00      0.30      0.46        10\n",
            "                                                   Eye Redness       0.57      0.80      0.67        15\n",
            "                                           Eye Redness/Itching       0.46      0.60      0.52        10\n",
            "                                         Eyelash Hypotrichosis       0.00      0.00      0.00         3\n",
            "                                                          GERD       0.72      0.85      0.78       246\n",
            "                                           Gallbladder Disease       0.00      0.00      0.00         2\n",
            "                                                           Gas       1.00      1.00      1.00         7\n",
            "                           Gastric Ulcer Maintenance Treatment       0.00      0.00      0.00         3\n",
            "                                          Gastritis/Duodenitis       0.00      0.00      0.00         3\n",
            "                                               Gastroenteritis       1.00      0.60      0.75        10\n",
            "                              Gastrointestinal Decontamination       0.00      0.00      0.00         4\n",
            "                                  Gastrointestinal Stromal Tum       0.00      0.00      0.00         4\n",
            "                                                 Gastroparesis       1.00      0.79      0.88        14\n",
            "                                              Gender Dysphoria       0.00      0.00      0.00         1\n",
            "                                   Generalized Anxiety Disorde       0.65      0.55      0.59       378\n",
            "                                      Giant Cell Tumor of Bone       0.00      0.00      0.00         1\n",
            "                                                    Giardiasis       0.67      0.29      0.40         7\n",
            "                                                    Gingivitis       0.00      0.00      0.00         5\n",
            "                                                      Glaucoma       1.00      0.67      0.80         9\n",
            "                                          Glaucoma, Open Angle       0.56      0.83      0.67        18\n",
            "                                            Glioblastoma Multi       0.00      0.00      0.00         1\n",
            "                                       Glioblastoma Multiforme       0.00      0.00      0.00         2\n",
            "                                       Gonadotropin Inhibition       0.00      0.00      0.00         1\n",
            "                           Gonococcal Infection, Uncomplicated       0.00      0.00      0.00         2\n",
            "                                                          Gout       0.96      0.96      0.96        26\n",
            "                                                   Gout, Acute       0.71      0.86      0.77        56\n",
            "                                               Gouty Arthritis       0.50      0.11      0.18         9\n",
            "                                                 HIV Infection       0.97      0.95      0.96       202\n",
            "                                           Hashimoto's disease       0.84      0.80      0.82        71\n",
            "                                                   Head Injury       0.00      0.00      0.00         1\n",
            "                                                     Head Lice       1.00      0.94      0.97        32\n",
            "                                           Head and Neck Cance       1.00      1.00      1.00         1\n",
            "                                                      Headache       0.80      0.87      0.83       153\n",
            "                                                  Heart Attack       0.65      0.68      0.67        19\n",
            "                                                 Heart Failure       0.41      0.44      0.43        27\n",
            "                                 Helicobacter Pylori Infection       0.76      0.84      0.80        77\n",
            "                                                  Hemophilia A       0.00      0.00      0.00         1\n",
            "                                                  Hemophilia B       0.00      0.00      0.00         1\n",
            "                                                   Hemorrhoids       0.65      0.80      0.72        30\n",
            "                                        Hepatic Encephalopathy       1.00      0.25      0.40         8\n",
            "                                                   Hepatitis B       1.00      0.43      0.60         7\n",
            "                                                   Hepatitis C       0.96      0.96      0.96       245\n",
            "                                      Hepatocellular Carcinoma       0.00      0.00      0.00         2\n",
            "                                        Herbal Supplementation       0.00      0.00      0.00         5\n",
            "                                         Hereditary Angioedema       1.00      0.86      0.92         7\n",
            "                                                Herpes Simplex       0.85      0.86      0.85       129\n",
            "                            Herpes Simplex Dendritic Keratitis       0.00      0.00      0.00         1\n",
            "            Herpes Simplex, Mucocutaneous/Immunocompetent Host       0.00      0.00      0.00         6\n",
            "          Herpes Simplex, Mucocutaneous/Immunocompromised Host       0.00      0.00      0.00         1\n",
            "                                   Herpes Simplex, Suppression       0.71      0.77      0.74        44\n",
            "                                                  Herpes Zoste       0.70      0.70      0.70        10\n",
            "                                    Herpes Zoster, Prophylaxis       0.00      0.00      0.00         1\n",
            "                                                       Hiccups       0.83      0.83      0.83         6\n",
            "                                      Hidradenitis Suppurativa       0.00      0.00      0.00         3\n",
            "                                           High Blood Pressure       0.83      0.89      0.86       783\n",
            "                                              High Cholesterol       0.78      0.88      0.83       206\n",
            "                       High Cholesterol, Familial Heterozygous       0.67      0.56      0.61        18\n",
            "                         High Cholesterol, Familial Homozygous       0.00      0.00      0.00         3\n",
            "                                                     Hirsutism       0.98      0.83      0.90        48\n",
            "                                                Histoplasmosis       0.00      0.00      0.00         1\n",
            "                                                   Hot Flashes       0.84      0.84      0.84        67\n",
            "                                         Human Papilloma Virus       0.90      0.92      0.91        39\n",
            "                              Human Papillomavirus Prophylaxis       0.89      1.00      0.94         8\n",
            "                                   Hypercalcemia of Malignancy       0.00      0.00      0.00         2\n",
            "                                                 Hyperekplexia       0.00      0.00      0.00         2\n",
            "                                                 Hyperhidrosis       0.95      0.97      0.96       240\n",
            "                                                  Hyperkalemia       0.00      0.00      0.00         1\n",
            "                                          Hyperlipoproteinemia       0.00      0.00      0.00         2\n",
            "                   Hyperlipoproteinemia Type IIa, Elevated LDL       1.00      0.40      0.57         5\n",
            "                                             Hyperphosphatemia       0.00      0.00      0.00         1\n",
            "                            Hyperphosphatemia of Renal Failure       0.60      0.60      0.60         5\n",
            "                                            Hyperprolactinemia       0.73      0.79      0.76        14\n",
            "                                                   Hypersomnia       0.76      0.64      0.70        25\n",
            "                                        Hypertensive Emergency       0.00      0.00      0.00         1\n",
            "                                               Hyperthyroidism       0.00      0.00      0.00         3\n",
            "                                          Hypertriglyceridemia       0.88      0.85      0.86        26\n",
            "                              Hypoactive Sexual Desire Disorde       0.00      0.00      0.00         1\n",
            "                                                  Hypocalcemia       0.00      0.00      0.00         3\n",
            "                                               Hypodermoclysis       0.00      0.00      0.00         1\n",
            "                                               Hypoestrogenism       0.83      0.56      0.67         9\n",
            "                                            Hypogonadism, Male       0.94      0.92      0.93       195\n",
            "                                Hypokalemic Periodic Paralysis       0.00      0.00      0.00         1\n",
            "                                                Hypomagnesemia       0.00      0.00      0.00         3\n",
            "                                            Hypoparathyroidism       0.00      0.00      0.00         2\n",
            "                                                   Hypotension       0.00      0.00      0.00         4\n",
            "                         Hypothyroidism, After Thyroid Removal       0.80      0.65      0.72        37\n",
            "                                                 ICU Agitation       0.00      0.00      0.00         2\n",
            "                                                    Ichthyosis       0.00      0.00      0.00         1\n",
            "                           Idiopathic Thrombocytopenic Purpura       1.00      0.14      0.25         7\n",
            "                                             Immunosuppression       0.00      0.00      0.00         1\n",
            "                                                       Impetig       0.00      0.00      0.00         3\n",
            "                                                   Indigestion       0.86      0.60      0.71        20\n",
            "                                         Infection Prophylaxis       0.00      0.00      0.00         5\n",
            "                                    Inflammatory Bowel Disease       1.00      0.33      0.50         9\n",
            "                                       Inflammatory Conditions       0.48      0.41      0.44       103\n",
            "                                                     Influenza       0.88      0.97      0.92       117\n",
            "                                         Influenza Prophylaxis       0.60      0.60      0.60         5\n",
            "                                                      Insomnia       0.85      0.88      0.87      1231\n",
            "                                Insomnia, Stimulant-Associated       0.50      0.33      0.40         3\n",
            "                                   Insulin Resistance Syndrome       0.00      0.00      0.00         8\n",
            "                                     Intermittent Claudication       1.00      0.33      0.50         3\n",
            "                                         Interstitial Cystitis       0.85      0.87      0.86        45\n",
            "                                      Intraabdominal Infection       0.00      0.00      0.00         2\n",
            "                                      Intraocular Hypertension       1.00      0.22      0.36         9\n",
            "                                                        Iritis       0.00      0.00      0.00         3\n",
            "                                        Iron Deficiency Anemia       0.73      0.53      0.62        15\n",
            "                                      Irritable Bowel Syndrome       0.85      0.87      0.86       325\n",
            "                                               Ischemic Stroke       0.00      0.00      0.00         2\n",
            "                                  Ischemic Stroke, Prophylaxis       1.00      1.00      1.00         8\n",
            "                                               Joint Infection       0.00      0.00      0.00         1\n",
            "                                 Juvenile Idiopathic Arthritis       1.00      0.14      0.25         7\n",
            "                                 Juvenile Rheumatoid Arthritis       0.75      0.38      0.50         8\n",
            "                                                     Keratitis       0.00      0.00      0.00         1\n",
            "                                    Keratoconjunctivitis Sicca       0.92      0.85      0.88        26\n",
            "                                                     Keratosis       0.73      0.82      0.77        45\n",
            "                                             Kidney Infections       0.76      0.69      0.72        32\n",
            "                                               Labor Induction       1.00      0.40      0.57         5\n",
            "                                                    Labor Pain       0.71      1.00      0.83         5\n",
            "                                        Lactation Augmentation       1.00      0.25      0.40         4\n",
            "                                           Lactose Intolerance       1.00      1.00      1.00         2\n",
            "                                  Left Ventricular Dysfunction       0.00      0.00      0.00         7\n",
            "                                       Lennox-Gastaut Syndrome       0.17      0.20      0.18         5\n",
            "                                                      Leukemia       0.00      0.00      0.00         1\n",
            "                                                 Lichen Planus       0.00      0.00      0.00         3\n",
            "                                              Lichen Sclerosus       0.00      0.00      0.00         2\n",
            "                                              Light Anesthesia       0.60      0.46      0.52        13\n",
            "                                                Light Sedation       0.54      0.57      0.55        23\n",
            "                                                 Lipodystrophy       0.00      0.00      0.00         3\n",
            "                              Liver Magnetic Resonance Imaging       0.00      0.00      0.00         2\n",
            "                                              Local Anesthesia       0.00      0.00      0.00         3\n",
            "                                                  Lyme Disease       0.67      0.60      0.63        10\n",
            "                                      Lyme Disease, Neurologic       1.00      0.25      0.40         4\n",
            "                                           Lymphocytic Colitis       0.00      0.00      0.00         2\n",
            "                                                      Lymphoma       0.00      0.00      0.00         3\n",
            "                                          Macular Degeneration       0.77      1.00      0.87        10\n",
            "                                                 Macular Edema       0.00      0.00      0.00         3\n",
            "                                      Major Depressive Disorde       0.75      0.60      0.67       524\n",
            "                                                       Malaria       0.50      0.14      0.22         7\n",
            "                                            Malaria Prevention       0.80      0.86      0.83        14\n",
            "                                                         Mania       1.00      0.45      0.62        20\n",
            "                                                      Melanoma       0.00      0.00      0.00         1\n",
            "                                          Melanoma, Metastatic       0.50      1.00      0.67         3\n",
            "                                                       Melasma       0.93      0.96      0.95        28\n",
            "                                             Meniere's Disease       0.86      0.75      0.80         8\n",
            "                          Meningococcal Meningitis Prophylaxis       0.00      0.00      0.00         1\n",
            "                                          Menopausal Disorders       0.00      0.00      0.00         4\n",
            "                                                   Menorrhagia       0.59      0.62      0.61        16\n",
            "                                           Menstrual Disorders       0.75      0.63      0.69       127\n",
            "         Methicillin-Resistant Staphylococcus Aureus Infection       0.71      0.62      0.67         8\n",
            "                                                      Migraine       0.87      0.91      0.89       583\n",
            "                                           Migraine Prevention       0.88      0.90      0.89       454\n",
            "                                     Mild Cognitive Impairment       0.00      0.00      0.00         3\n",
            "                                         Mitral Valve Prolapse       0.88      0.78      0.82         9\n",
            "                               Mixed Connective Tissue Disease       0.00      0.00      0.00         1\n",
            "                                                 Mononucleosis       0.00      0.00      0.00         1\n",
            "                                               Motion Sickness       0.91      0.94      0.93        72\n",
            "                         Mountain Sickness / Altitude Sickness       1.00      0.75      0.86         4\n",
            "                                                     Mucositis       0.00      0.00      0.00         5\n",
            "                                              Multiple Myeloma       0.60      1.00      0.75         3\n",
            "                                            Multiple Sclerosis       0.92      0.97      0.94       215\n",
            "                                                   Muscle Pain       0.46      0.19      0.27        31\n",
            "                                                  Muscle Spasm       0.81      0.84      0.82       387\n",
            "                                             Myasthenia Gravis       0.62      0.77      0.69        13\n",
            "                 Mycobacterium avium-intracellulare, Treatment       0.00      0.00      0.00         4\n",
            "                                          Mycoplasma Pneumonia       0.00      0.00      0.00         2\n",
            "                                      Myelodysplastic Syndrome       0.50      0.50      0.50         6\n",
            "                                                 Myelofibrosis       0.00      0.00      0.00         1\n",
            "                                  Myeloproliferative Disorders       0.00      0.00      0.00         1\n",
            "                                    NSAID-Induced Gastric Ulce       0.00      0.00      0.00         3\n",
            "                                                    Narcolepsy       0.87      0.90      0.88       152\n",
            "                       Nasal Carriage of Staphylococcus aureus       0.00      0.00      0.00         1\n",
            "                                              Nasal Congestion       0.73      0.82      0.77       100\n",
            "                                                  Nasal Polyps       1.00      0.60      0.75         5\n",
            "                                               Nausea/Vomiting       0.78      0.91      0.84       266\n",
            "                                  Nausea/Vomiting of Pregnancy       0.97      0.82      0.89        38\n",
            "                         Nausea/Vomiting, Chemotherapy Induced       0.75      0.60      0.67        15\n",
            "                                Nausea/Vomiting, Postoperative       1.00      0.33      0.50         6\n",
            "                                                     Neck Pain       0.00      0.00      0.00         2\n",
            "                                            Nephrotic Syndrome       0.00      0.00      0.00         1\n",
            "                                                     Neuralgia       0.67      0.52      0.58        31\n",
            "                                              Neuropathic Pain       0.64      0.56      0.60        96\n",
            "                                                   Neutropenia       0.00      0.00      0.00         1\n",
            "                      Neutropenia Associated with Chemotherapy       0.82      0.82      0.82        11\n",
            "                                 New Daily Persistent Headache       0.00      0.00      0.00         2\n",
            "                                                 Night Terrors       1.00      0.67      0.80         6\n",
            "                                                    Nightmares       0.00      0.00      0.00         7\n",
            "                                          Nocturnal Leg Cramps       0.75      0.75      0.75         8\n",
            "                                        Non-Hodgkin's Lymphoma       0.67      0.80      0.73         5\n",
            "                                     Non-Small Cell Lung Cance       0.92      0.88      0.90        40\n",
            "                                         Noninfectious Colitis       0.00      0.00      0.00         5\n",
            "                                      Nonoccupational Exposure       0.00      0.00      0.00         1\n",
            "                                             Not Listed / Othe       0.03      0.01      0.01       153\n",
            "                                                       Obesity       0.81      0.76      0.79      1189\n",
            "                                  Obsessive Compulsive Disorde       0.75      0.80      0.78       173\n",
            "                     Obstructive Sleep Apnea/Hypopnea Syndrome       0.69      0.73      0.71        37\n",
            "                                           Occipital Neuralgia       0.00      0.00      0.00         4\n",
            "                                                  Oligospermia       0.00      0.00      0.00         2\n",
            "                                     Onychomycosis, Fingernail       1.00      0.14      0.25         7\n",
            "                                        Onychomycosis, Toenail       0.86      0.96      0.91       137\n",
            "                                                  Oophorectomy       1.00      1.00      1.00         3\n",
            "                                            Ophthalmic Surgery       1.00      0.33      0.50         3\n",
            "                                                Opiate Adjunct       0.00      0.00      0.00         2\n",
            "                                             Opiate Dependence       0.93      0.91      0.92       398\n",
            "                                             Opiate Withdrawal       0.78      0.71      0.75       107\n",
            "                                               Opioid Overdose       1.00      0.20      0.33         5\n",
            "                                   Opioid-Induced Constipation       0.67      0.44      0.53        18\n",
            "                                  Oppositional Defiant Disorde       0.00      0.00      0.00         1\n",
            "                                                   Oral Thrush       0.25      0.25      0.25         4\n",
            "                                    Oral and Dental Conditions       0.00      0.00      0.00         1\n",
            "                       Organ Transplant, Rejection Prophylaxis       0.92      1.00      0.96        12\n",
            "                          Organ Transplant, Rejection Reversal       0.00      0.00      0.00         1\n",
            "                                                Osteoarthritis       0.84      0.87      0.85       387\n",
            "                   Osteolytic Bone Lesions of Multiple Myeloma       0.00      0.00      0.00         4\n",
            "                    Osteolytic Bone Metastases of Solid Tumors       1.00      0.33      0.50         3\n",
            "                                                  Osteoporosis       0.80      0.88      0.84        86\n",
            "                                                Otitis Externa       0.67      0.36      0.47        11\n",
            "                                                  Otitis Media       0.72      0.65      0.69        55\n",
            "                                                 Ovarian Cance       0.33      1.00      0.50         1\n",
            "                                                 Ovarian Cysts       0.79      0.55      0.65        55\n",
            "                                             Overactive Bladde       0.74      0.87      0.80       234\n",
            "                                           Ovulation Induction       0.00      0.00      0.00         8\n",
            "                                               Paget's Disease       0.00      0.00      0.00         2\n",
            "                                                          Pain       0.76      0.87      0.81      2100\n",
            "                                                     Pain/Feve       1.00      1.00      1.00         1\n",
            "                                              Pancreatic Cance       1.00      1.00      1.00         1\n",
            "                               Pancreatic Exocrine Dysfunction       0.00      0.00      0.00         7\n",
            "                                                 Panic Disorde       0.72      0.66      0.69       469\n",
            "                                              Paranoid Disorde       0.40      0.20      0.27        10\n",
            "                                           Parkinson's Disease       0.89      0.64      0.74        50\n",
            "                                                  Parkinsonism       0.00      0.00      0.00         1\n",
            "                                                            Pe       0.00      0.00      0.00         4\n",
            "                           Pediatric Growth Hormone Deficiency       0.67      0.50      0.57         4\n",
            "                                   Pelvic Inflammatory Disease       0.00      0.00      0.00         4\n",
            "                                                    Pemphigoid       0.00      0.00      0.00         1\n",
            "                                                     Pemphigus       0.00      0.00      0.00         1\n",
            "                                                   Peptic Ulce       0.00      0.00      0.00         5\n",
            "                            Percutaneous Coronary Intervention       0.00      0.00      0.00         3\n",
            "                                           Performance Anxiety       0.00      0.00      0.00         2\n",
            "                                       Perimenopausal Symptoms       0.80      0.53      0.64        15\n",
            "                                                   Period Pain       0.83      0.81      0.82        48\n",
            "                                Periodic Limb Movement Disorde       0.83      0.29      0.43        17\n",
            "                                                 Periodontitis       0.00      0.00      0.00         2\n",
            "                                           Perioral Dermatitis       0.00      0.00      0.00         3\n",
            "                                   Peripheral Arterial Disease       0.00      0.00      0.00         1\n",
            "                                         Peripheral Neuropathy       0.60      0.48      0.54        60\n",
            "                                                   Peritonitis       0.00      0.00      0.00         3\n",
            "                                 Persistent Depressive Disorde       0.00      0.00      0.00         3\n",
            "                                                     Pertussis       0.00      0.00      0.00         1\n",
            "                                                   Pharyngitis       0.00      0.00      0.00         2\n",
            "                                        Photoaging of the Skin       0.43      0.38      0.40         8\n",
            "                   Pinworm Infection (Enterobius vermicularis)       0.00      0.00      0.00         6\n",
            "                                      Pityriasis rubra pilaris       0.00      0.00      0.00         1\n",
            "                                              Plaque Psoriasis       0.83      0.87      0.85        98\n",
            "                               Platelet Aggregation Inhibition       0.00      0.00      0.00         2\n",
            "                              Pneumococcal Disease Prophylaxis       0.80      0.73      0.76        11\n",
            "                                                     Pneumonia       0.76      0.76      0.76        88\n",
            "                                     Polycystic Ovary Syndrome       0.77      0.72      0.74        78\n",
            "                                             Polycythemia Vera       0.33      1.00      0.50         1\n",
            "                                 Post Traumatic Stress Disorde       0.62      0.60      0.61       118\n",
            "                                 Post-Cholecystectomy Diarrhea       0.00      0.00      0.00         2\n",
            "                                        Postherpetic Neuralgia       0.91      0.49      0.64        43\n",
            "                                       Postmenopausal Symptoms       0.83      0.76      0.80       136\n",
            "                  Postoperative Increased Intraocular Pressure       0.00      0.00      0.00         1\n",
            "                             Postoperative Ocular Inflammation       0.33      0.38      0.35         8\n",
            "                                            Postoperative Pain       1.00      0.62      0.76        13\n",
            "                                         Postpartum Depression       0.90      0.60      0.72        30\n",
            "                     Postural Orthostatic Tachycardia Syndrome       0.82      0.90      0.86        10\n",
            "                                      Pre-Exposure Prophylaxis       0.00      0.00      0.00         1\n",
            "                                            Precocious Puberty       0.75      1.00      0.86         6\n",
            "                                                 Premature Lab       0.82      0.92      0.87        36\n",
            "                         Premature Ventricular Depolarizations       0.00      0.00      0.00         2\n",
            "                                Premenstrual Dysphoric Disorde       0.86      0.84      0.85        98\n",
            "                                         Premenstrual Syndrome       0.00      0.00      0.00         7\n",
            "                               Prevention of Bladder infection       0.71      0.67      0.69        18\n",
            "                          Prevention of Cardiovascular Disease       0.00      0.00      0.00         3\n",
            "                                   Prevention of Dental Caries       0.00      0.00      0.00         2\n",
            "                                     Prevention of Hypokalemia       0.00      0.00      0.00         1\n",
            "                                    Prevention of Osteoporosis       0.50      0.09      0.15        11\n",
            "          Prevention of Thromboembolism in Atrial Fibrillation       0.80      0.91      0.85        44\n",
            "                                    Primary Hyperaldosteronism       0.00      0.00      0.00         1\n",
            "                             Primary Immunodeficiency Syndrome       1.00      0.58      0.74        12\n",
            "                                    Primary Nocturnal Enuresis       1.00      0.33      0.50         3\n",
            "                                       Primary Ovarian Failure       1.00      0.25      0.40         4\n",
            "                                    Progesterone Insufficiency       0.50      0.67      0.57         3\n",
            "                                                Prostate Cance       0.82      0.89      0.86        47\n",
            "                                                   Prostatitis       0.88      0.88      0.88        24\n",
            "                                                      Pruritus       0.64      0.53      0.58        17\n",
            "                                           Pseudobulbar Affect       1.00      0.43      0.60         7\n",
            "                                           Pseudotumor Cerebri       0.93      0.93      0.93        28\n",
            "                                                     Psoriasis       0.87      0.84      0.85       198\n",
            "                                           Psoriatic Arthritis       0.84      0.77      0.80       112\n",
            "                                                     Psychosis       0.58      0.44      0.50        25\n",
            "                                            Pudendal Neuralgia       0.00      0.00      0.00         1\n",
            "                                            Pulmonary Embolism       0.70      0.80      0.74        20\n",
            "                               Pulmonary Embolism, First Event       0.00      0.00      0.00         2\n",
            "                                        Pulmonary Hypertension       0.76      0.73      0.75        26\n",
            "                                            Pupillary Dilation       0.00      0.00      0.00         2\n",
            "                       Radionuclide Myocardial Perfusion Study       0.00      0.00      0.00         1\n",
            "                                            Raynaud's Syndrome       0.64      0.54      0.58        13\n",
            "                         Reflex Sympathetic Dystrophy Syndrome       0.60      0.46      0.52        13\n",
            "                                          Renal Cell Carcinoma       0.71      0.97      0.82        30\n",
            "                                        Restless Legs Syndrome       0.85      0.95      0.90       240\n",
            "                  Reversal of Nondepolarizing Muscle Relaxants       0.00      0.00      0.00         1\n",
            "                                   Reversal of Opioid Sedation       0.00      0.00      0.00         4\n",
            "                                          Rheumatoid Arthritis       0.76      0.83      0.80       320\n",
            "                                                      Rhinitis       0.93      0.45      0.61        31\n",
            "                                                    Rhinorrhea       0.00      0.00      0.00         3\n",
            "                                                       Rosacea       0.96      0.92      0.94       175\n",
            "                                                   Sarcoidosis       0.00      0.00      0.00         4\n",
            "                                                       Scabies       1.00      0.50      0.67         2\n",
            "                                                Schilling Test       0.00      0.00      0.00         1\n",
            "                                       Schizoaffective Disorde       0.64      0.65      0.64       127\n",
            "                                                 Schizophrenia       0.78      0.71      0.74       195\n",
            "                                           Schnitzler Syndrome       0.00      0.00      0.00         2\n",
            "                                                      Sciatica       0.71      0.50      0.59        40\n",
            "                                    Seasonal Affective Disorde       0.00      0.00      0.00         3\n",
            "                              Seasonal Allergic Conjunctivitis       0.52      0.71      0.60        21\n",
            "                                         Seborrheic Dermatitis       0.67      0.60      0.63        10\n",
            "                                 Secondary Hyperparathyroidism       0.50      0.33      0.40         3\n",
            "                                                      Sedation       0.58      0.22      0.32        63\n",
            "                                            Seizure Prevention       0.78      0.63      0.70        71\n",
            "                                                      Seizures       0.81      0.84      0.82       176\n",
            "                              Sexual Dysfunction, SSRI Induced       0.77      0.34      0.48        29\n",
            "                                      Shift Work Sleep Disorde       0.72      0.54      0.62        24\n",
            "                                                Sinus Symptoms       0.62      0.38      0.47        21\n",
            "                                                     Sinusitis       0.73      0.79      0.76       289\n",
            "                                            Sjogren's Syndrome       0.72      0.72      0.72        18\n",
            "                                                    Skin Cance       0.25      0.50      0.33         4\n",
            "                               Skin Disinfection, Preoperative       0.00      0.00      0.00         4\n",
            "                                                     Skin Rash       0.00      0.00      0.00         3\n",
            "                                  Skin and Structure Infection       0.47      0.42      0.44        19\n",
            "                                 Skin or Soft Tissue Infection       0.53      0.50      0.51        56\n",
            "                             Small Bowel or Pancreatic Fistula       0.00      0.00      0.00         1\n",
            "                                             Smoking Cessation       0.96      0.97      0.97       660\n",
            "                                        Social Anxiety Disorde       0.75      0.74      0.74       133\n",
            "                                           Soft Tissue Sarcoma       1.00      0.15      0.27        13\n",
            "                                                   Sore Throat       0.00      0.00      0.00         1\n",
            "                                             Spondyloarthritis       0.00      0.00      0.00         4\n",
            "                                             Spondylolisthesis       0.00      0.00      0.00         1\n",
            "                                       Squamous Cell Carcinoma       0.00      0.00      0.00         1\n",
            "                                            Status Epilepticus       0.00      0.00      0.00         1\n",
            "                                               Still's Disease       0.00      0.00      0.00         2\n",
            "                                                 Stomach Cance       0.00      0.00      0.00         1\n",
            "                                                  Stomach Ulce       0.38      0.43      0.40        21\n",
            "                                                    Strabismus       0.00      0.00      0.00         1\n",
            "                                                  Strep Throat       0.69      0.55      0.61        49\n",
            "                                       Streptococcal Infection       0.00      0.00      0.00         2\n",
            "                                      Stress Ulcer Prophylaxis       0.00      0.00      0.00         1\n",
            "                                              Strongyloidiasis       0.00      0.00      0.00         1\n",
            "                                       Subarachnoid Hemorrhage       0.00      0.00      0.00         1\n",
            "                                            Submental Fullness       0.00      0.00      0.00         2\n",
            "                                                       Sunburn       0.00      0.00      0.00         1\n",
            "                                  Supraventricular Tachycardia       0.67      0.51      0.58        35\n",
            "                                          Surgical Prophylaxis       0.00      0.00      0.00         7\n",
            "                                                     Swine Flu       0.67      0.29      0.40         7\n",
            "                                                 Syringomyelia       0.00      0.00      0.00         1\n",
            "                                  Systemic Lupus Erythematosus       0.81      0.70      0.75        37\n",
            "                                         Systemic Mastocytosis       0.00      0.00      0.00         2\n",
            "                                            Systemic Sclerosis       0.00      0.00      0.00         2\n",
            "                                               TSH Suppression       0.00      0.00      0.00         6\n",
            "                               Temporomandibular Joint Disorde       0.71      0.50      0.59        10\n",
            "                                                    Tendonitis       0.83      0.24      0.37        21\n",
            "                                               Thrombocythemia       0.00      0.00      0.00         2\n",
            "                             Thromboembolic Stroke Prophylaxis       0.00      0.00      0.00         2\n",
            "                                                 Thyroid Cance       0.00      0.00      0.00         4\n",
            "                                                Thyrotoxicosis       0.00      0.00      0.00         1\n",
            "                                                Tinea Corporis       0.40      0.33      0.36         6\n",
            "                                                  Tinea Cruris       0.00      0.00      0.00         9\n",
            "                                                   Tinea Pedis       0.80      0.33      0.47        12\n",
            "                                                Tinea Versicol       0.57      0.73      0.64        11\n",
            "                                                      Tinnitus       0.86      0.75      0.80         8\n",
            "                                       Tonsillitis/Pharyngitis       0.23      0.30      0.26        23\n",
            "                                          Topical Disinfection       0.00      0.00      0.00         1\n",
            "                                           Tourette's Syndrome       0.88      1.00      0.93        21\n",
            "                                     Transient Ischemic Attack       0.00      0.00      0.00         1\n",
            "                                           Traveler's Diarrhea       0.00      0.00      0.00         2\n",
            "                                                Trichomoniasis       0.50      0.42      0.46        19\n",
            "                                              Trichotillomania       1.00      0.50      0.67         2\n",
            "                                          Trigeminal Neuralgia       0.83      0.84      0.83        51\n",
            "                                          Tuberculosis, Latent       0.00      0.00      0.00         3\n",
            "                                            Ulcerative Colitis       0.64      0.77      0.70        75\n",
            "                                    Ulcerative Colitis, Active       0.74      0.74      0.74        43\n",
            "                               Ulcerative Colitis, Maintenance       0.71      0.83      0.77        12\n",
            "                                          Ulcerative Proctitis       0.00      0.00      0.00         3\n",
            "                                           Underactive Thyroid       0.81      0.88      0.84       118\n",
            "                    Undifferentiated Connective Tissue Disease       1.00      0.29      0.44         7\n",
            "                                         Upper Limb Spasticity       0.00      0.00      0.00         1\n",
            "                             Upper Respiratory Tract Infection       0.51      0.42      0.46        64\n",
            "                                          Urinary Incontinence       0.71      0.47      0.57        64\n",
            "                                             Urinary Retention       0.00      0.00      0.00         1\n",
            "                                       Urinary Tract Infection       0.75      0.85      0.80       431\n",
            "                                          Urinary Tract Stones       0.93      0.95      0.94        43\n",
            "                                                     Urticaria       0.84      0.78      0.81        80\n",
            "                                              Uterine Bleeding       0.00      0.00      0.00         2\n",
            "                                              Uterine Fibroids       0.64      0.82      0.72        17\n",
            "                                                       Uveitis       1.00      0.38      0.55         8\n",
            "                                       Vaginal Yeast Infection       0.96      0.96      0.96       811\n",
            "                                               Varicella-Zoste       0.00      0.00      0.00         2\n",
            "                                        Ventricular Arrhythmia       0.00      0.00      0.00         1\n",
            "                                      Ventricular Fibrillation       0.00      0.00      0.00         2\n",
            "                                       Ventricular Tachycardia       0.29      0.50      0.36         4\n",
            "                                                        Vertig       0.76      0.70      0.73        23\n",
            "                                        Vitamin B12 Deficiency       0.00      0.00      0.00         5\n",
            "                                          Vitamin D Deficiency       0.67      1.00      0.80         6\n",
            "                Vitamin/Mineral Supplementation and Deficiency       1.00      0.14      0.25         7\n",
            "    Vitamin/Mineral Supplementation during Pregnancy/Lactation       0.83      0.96      0.89        25\n",
            "                                                    Vulvodynia       0.91      1.00      0.95        10\n",
            "                                                         Warts       0.00      0.00      0.00         2\n",
            "                                      Wegener's Granulomatosis       0.00      0.00      0.00         1\n",
            "                                                   Weight Loss       0.79      0.82      0.80      1248\n",
            "                                Wolff-Parkinson-White Syndrome       0.00      0.00      0.00         1\n",
            "                                            Women (oxybutynin)       0.00      0.00      0.00         3\n",
            "                                                    Xerostomia       0.89      1.00      0.94         8\n",
            "                                    Zollinger-Ellison Syndrome       0.00      0.00      0.00         1\n",
            "                                             acial Lipoatrophy       0.00      0.00      0.00         1\n",
            "                                                acial Wrinkles       0.60      0.55      0.57        11\n",
            "                                           actor IX Deficiency       0.00      0.00      0.00         1\n",
            "                        amilial Cold Autoinflammatory Syndrome       0.00      0.00      0.00         1\n",
            "                                                        atigue       0.57      0.19      0.29        21\n",
            "                              cal Segmental Glomerulosclerosis       0.00      0.00      0.00         1\n",
            "                                             emale Infertility       0.66      0.86      0.75        22\n",
            "                                                           eve       1.00      0.50      0.67         4\n",
            "                                   ge (amlodipine / valsartan)       0.27      0.50      0.35         6\n",
            "                                     ibrocystic Breast Disease       0.00      0.00      0.00         1\n",
            "                                                   ibromyalgia       0.83      0.82      0.82       579\n",
            "                                           lic Acid Deficiency       1.00      0.33      0.50         3\n",
            "                                                m Pain Disorde       0.00      0.00      0.00         2\n",
            "                                                 mance Anxiety       0.95      0.75      0.84        72\n",
            "                                                            me       0.00      0.00      0.00         1\n",
            "                                            min / saxagliptin)       0.00      0.00      0.00         4\n",
            "                                            min / sitagliptin)       0.14      0.12      0.13         8\n",
            "                                                          min)       0.00      0.00      0.00        15\n",
            "                                                        mist (       0.00      0.00      0.00         1\n",
            "                                         moterol / mometasone)       0.12      0.14      0.13         7\n",
            "                                                      moterol)       0.15      0.06      0.09        34\n",
            "                                     mulation) (phenylephrine)       0.00      0.00      0.00         3\n",
            "                                       tic (mycophenolic acid)       0.00      0.00      0.00         1\n",
            "                                      von Willebrand's Disease       0.00      0.00      0.00         3\n",
            "                                                   zen Shoulde       0.00      0.00      0.00         7\n",
            "\n",
            "                                                      accuracy                           0.84     53161\n",
            "                                                     macro avg       0.45      0.39      0.40     53161\n",
            "                                                  weighted avg       0.83      0.84      0.83     53161\n",
            "\n"
          ],
          "name": "stdout"
        },
        {
          "output_type": "stream",
          "text": [
            "/usr/local/lib/python3.6/dist-packages/sklearn/metrics/classification.py:1437: UndefinedMetricWarning: Precision and F-score are ill-defined and being set to 0.0 in labels with no predicted samples.\n",
            "  'precision', 'predicted', average, warn_for)\n"
          ],
          "name": "stderr"
        }
      ]
    }
  ]
}