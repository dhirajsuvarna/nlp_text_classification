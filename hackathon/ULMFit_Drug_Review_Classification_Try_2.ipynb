{
  "nbformat": 4,
  "nbformat_minor": 0,
  "metadata": {
    "colab": {
      "name": "ULMFit-Drug-Review-Classification-Try-2.ipynb",
      "provenance": [],
      "collapsed_sections": [],
      "toc_visible": true,
      "include_colab_link": true
    },
    "kernelspec": {
      "name": "python3",
      "display_name": "Python 3"
    },
    "accelerator": "GPU"
  },
  "cells": [
    {
      "cell_type": "markdown",
      "metadata": {
        "id": "view-in-github",
        "colab_type": "text"
      },
      "source": [
        "<a href=\"https://colab.research.google.com/github/dhirajsuvarna/nlp_text_classification/blob/master/hackathon/ULMFit_Drug_Review_Classification_Try_2.ipynb\" target=\"_parent\"><img src=\"https://colab.research.google.com/assets/colab-badge.svg\" alt=\"Open In Colab\"/></a>"
      ]
    },
    {
      "cell_type": "markdown",
      "metadata": {
        "id": "lgvmVd0Y9FdT",
        "colab_type": "text"
      },
      "source": [
        "#Loading DataSet from Google Drive"
      ]
    },
    {
      "cell_type": "code",
      "metadata": {
        "id": "Lp82UjrL81cv",
        "colab_type": "code",
        "outputId": "6bd8ffa8-129d-42dd-89f9-359735f3b50a",
        "colab": {
          "base_uri": "https://localhost:8080/",
          "height": 97
        }
      },
      "source": [
        "#' ' means CPU whereas '/device:G:0' means GPU\n",
        "import tensorflow as tf\n",
        "tf.test.gpu_device_name()"
      ],
      "execution_count": 1,
      "outputs": [
        {
          "output_type": "display_data",
          "data": {
            "text/html": [
              "<p style=\"color: red;\">\n",
              "The default version of TensorFlow in Colab will soon switch to TensorFlow 2.x.<br>\n",
              "We recommend you <a href=\"https://www.tensorflow.org/guide/migrate\" target=\"_blank\">upgrade</a> now \n",
              "or ensure your notebook will continue to use TensorFlow 1.x via the <code>%tensorflow_version 1.x</code> magic:\n",
              "<a href=\"https://colab.research.google.com/notebooks/tensorflow_version.ipynb\" target=\"_blank\">more info</a>.</p>\n"
            ],
            "text/plain": [
              "<IPython.core.display.HTML object>"
            ]
          },
          "metadata": {
            "tags": []
          }
        },
        {
          "output_type": "execute_result",
          "data": {
            "text/plain": [
              "'/device:GPU:0'"
            ]
          },
          "metadata": {
            "tags": []
          },
          "execution_count": 1
        }
      ]
    },
    {
      "cell_type": "code",
      "metadata": {
        "id": "N7RR4NYKv6Fm",
        "colab_type": "code",
        "outputId": "f8e07d23-ed7f-4346-9cce-8d1b96e0b914",
        "colab": {
          "base_uri": "https://localhost:8080/",
          "height": 122
        }
      },
      "source": [
        "#Mount Google Drive\n",
        "from google.colab import drive\n",
        "drive.mount('/content/drive')"
      ],
      "execution_count": 2,
      "outputs": [
        {
          "output_type": "stream",
          "text": [
            "Go to this URL in a browser: https://accounts.google.com/o/oauth2/auth?client_id=947318989803-6bn6qk8qdgf4n4g3pfee6491hc0brc4i.apps.googleusercontent.com&redirect_uri=urn%3aietf%3awg%3aoauth%3a2.0%3aoob&response_type=code&scope=email%20https%3a%2f%2fwww.googleapis.com%2fauth%2fdocs.test%20https%3a%2f%2fwww.googleapis.com%2fauth%2fdrive%20https%3a%2f%2fwww.googleapis.com%2fauth%2fdrive.photos.readonly%20https%3a%2f%2fwww.googleapis.com%2fauth%2fpeopleapi.readonly\n",
            "\n",
            "Enter your authorization code:\n",
            "··········\n",
            "Mounted at /content/drive\n"
          ],
          "name": "stdout"
        }
      ]
    },
    {
      "cell_type": "code",
      "metadata": {
        "id": "rxTHJ7mBxY2Q",
        "colab_type": "code",
        "colab": {}
      },
      "source": [
        "from fastai.text import * \n",
        "\n",
        "#Load the Traning and Validation Dataset\n",
        "df_train = pd.read_csv('/content/drive/My Drive/Projects/AnalyticsHackathon/dataset/drugsComTrain_raw.csv')\n",
        "df_valid = pd.read_csv('/content/drive/My Drive/Projects/AnalyticsHackathon/dataset/drugsComTest_raw.csv')"
      ],
      "execution_count": 0,
      "outputs": []
    },
    {
      "cell_type": "markdown",
      "metadata": {
        "id": "scwbgAtfauob",
        "colab_type": "text"
      },
      "source": [
        "##Removing Empty Cells and Invalid Cells\n",
        "\n",
        "\n",
        "\n"
      ]
    },
    {
      "cell_type": "code",
      "metadata": {
        "id": "SI73jtaGFdwI",
        "colab_type": "code",
        "outputId": "1028824a-3ea0-41b0-c736-0754aee72ea6",
        "colab": {
          "base_uri": "https://localhost:8080/",
          "height": 187
        }
      },
      "source": [
        "df_train = df_train[['condition', 'review']]\n",
        "df_valid = df_valid[['condition', 'review']]\n",
        "print (f\"#Train Examples: {df_train.shape}\")\n",
        "print (f\"#Validation Examples: {df_valid.shape}\")\n",
        "\n",
        "#print(df_train[df_train['condition'].isna()])\n",
        "print(f\"#NaN in Train: {df_train[df_train['condition'].isna()].shape}\")\n",
        "print(f\"#NaN in Validation: {df_valid[df_valid['condition'].isna()].shape}\")\n",
        "\n",
        "#Reomve the rows with empty(nan) 'condition' or empty(nan) 'review'\n",
        "print(\"Removing rows with nan values...\")\n",
        "df_train = df_train.dropna()\n",
        "df_valid = df_valid.dropna()\n",
        "\n",
        "#print(df_train[df_train['condition'].str.contains('users found this comment helpful')])\n",
        "print(f\"#'users found this comment useful' in Train: {df_train[df_train['condition'].str.contains('users found this comment helpful')].shape}\")\n",
        "print(f\"#'users found this comment useful'in Validation: {df_valid[df_valid['condition'].str.contains('users found this comment helpful')].shape}\")\n",
        "\n",
        "#Remove the rows where 'condition' is \"users found this comment helpful\"\n",
        "print(\"Removing the rows where condition is 'users found this comment helpful'\")\n",
        "df_train = df_train[~df_train['condition'].str.contains('users found this comment helpful')]\n",
        "df_valid = df_valid[~df_valid['condition'].str.contains('users found this comment helpful')]\n",
        "\n",
        "df_train = df_train[['condition', 'review']]\n",
        "df_valid = df_valid[['condition', 'review']]\n",
        "print (f\"#Train Examples: {df_train.shape}\")\n",
        "print (f\"#Validation Examples: {df_valid.shape}\")"
      ],
      "execution_count": 4,
      "outputs": [
        {
          "output_type": "stream",
          "text": [
            "#Train Examples: (161297, 2)\n",
            "#Validation Examples: (53766, 2)\n",
            "#NaN in Train: (899, 2)\n",
            "#NaN in Validation: (295, 2)\n",
            "Removing rows with nan values...\n",
            "#'users found this comment useful' in Train: (900, 2)\n",
            "#'users found this comment useful'in Validation: (271, 2)\n",
            "Removing the rows where condition is 'users found this comment helpful'\n",
            "#Train Examples: (159498, 2)\n",
            "#Validation Examples: (53200, 2)\n"
          ],
          "name": "stdout"
        }
      ]
    },
    {
      "cell_type": "markdown",
      "metadata": {
        "id": "qrQZioKFalyy",
        "colab_type": "text"
      },
      "source": [
        "##Making the Traning Set Smaller for Quick Experiments"
      ]
    },
    {
      "cell_type": "code",
      "metadata": {
        "id": "s4_ZHp6UhtR1",
        "colab_type": "code",
        "colab": {}
      },
      "source": [
        "# #Creating a smaller version of dataset for quick setup of framework\n",
        "# df_train = df_train.sample(frac=1).reset_index(drop=True)\n",
        "# df_valid = df_valid.sample(frac=1).reset_index(drop=True)\n",
        "\n",
        "# df_train = df_train[:1000]\n",
        "# df_valid = df_valid[:200]\n",
        "# print(df_train.shape)\n",
        "# print(df_valid.shape)\n"
      ],
      "execution_count": 0,
      "outputs": []
    },
    {
      "cell_type": "markdown",
      "metadata": {
        "id": "cplWwIu5ackf",
        "colab_type": "text"
      },
      "source": [
        "##Remove Mismatch of Classes between Validation and Training Set"
      ]
    },
    {
      "cell_type": "code",
      "metadata": {
        "id": "ea_DqJhzptPh",
        "colab_type": "code",
        "outputId": "61f4ab2a-219c-44fc-bbee-20f23a4de38e",
        "colab": {
          "base_uri": "https://localhost:8080/",
          "height": 68
        }
      },
      "source": [
        "#Number of classes present in the training and validation set\n",
        "targets_train = df_train['condition'].unique()\n",
        "targets_valid = df_valid['condition'].unique()\n",
        "print(f\"#Target Classes in Train: {len(targets_train)}\")\n",
        "print(f\"#Target Classes in Validation: {len(targets_valid)}\")\n",
        "\n",
        "targets_only_in_valid = [item for item in targets_valid if item not in targets_train]\n",
        "print(f\"#Targets in Validation but not in Training: {len(targets_only_in_valid)}\")\n"
      ],
      "execution_count": 5,
      "outputs": [
        {
          "output_type": "stream",
          "text": [
            "#Target Classes in Train: 811\n",
            "#Target Classes in Validation: 664\n",
            "#Targets in Validation but not in Training: 25\n"
          ],
          "name": "stdout"
        }
      ]
    },
    {
      "cell_type": "code",
      "metadata": {
        "id": "3G6Zc2dRdV85",
        "colab_type": "code",
        "outputId": "347a05c7-5c43-48d1-9306-742438c2ce68",
        "colab": {
          "base_uri": "https://localhost:8080/",
          "height": 68
        }
      },
      "source": [
        "#Remove the items from Validation Set for which classes are present in Validation but not present in the Training Set\n",
        "print(f\"#Invalid Validation examples: {df_valid[df_valid['condition'].isin(targets_only_in_valid)].shape}\")\n",
        "\n",
        "df_valid = df_valid[~df_valid['condition'].isin(targets_only_in_valid)]\n",
        "\n",
        "df_train = df_train[['condition', 'review']]\n",
        "df_valid = df_valid[['condition', 'review']]\n",
        "print (f\"#Train Examples: {df_train.shape}\")\n",
        "print (f\"#Validation Examples: {df_valid.shape}\")"
      ],
      "execution_count": 6,
      "outputs": [
        {
          "output_type": "stream",
          "text": [
            "#Invalid Validation examples: (39, 2)\n",
            "#Train Examples: (159498, 2)\n",
            "#Validation Examples: (53161, 2)\n"
          ],
          "name": "stdout"
        }
      ]
    },
    {
      "cell_type": "code",
      "metadata": {
        "id": "sZJIPO4AivZ5",
        "colab_type": "code",
        "outputId": "1b55faca-3387-44e1-bd75-770d76899205",
        "colab": {
          "base_uri": "https://localhost:8080/",
          "height": 51
        }
      },
      "source": [
        "#Check the Classes which are present in the Training Set but not present in the Validation Set\n",
        "targets_only_in_train = [item for item in targets_train if item not in targets_valid]\n",
        "print(f\"#Targets in Training but not in Validation: {len(targets_only_in_train)}\")\n",
        "\n",
        "df_only_in_train = df_train[df_train['condition'].isin(targets_only_in_train)]\n",
        "print(f\"Training Examples only in Training Set: {df_only_in_train.shape}\")\n",
        "\n",
        "#print(df_only_in_train['condition'].value_counts())"
      ],
      "execution_count": 7,
      "outputs": [
        {
          "output_type": "stream",
          "text": [
            "#Targets in Training but not in Validation: 172\n",
            "Training Examples only in Training Set: (419, 2)\n"
          ],
          "name": "stdout"
        }
      ]
    },
    {
      "cell_type": "code",
      "metadata": {
        "id": "yUGGJa9OiQY7",
        "colab_type": "code",
        "outputId": "485e07e8-b6ad-45ce-b664-680af6834db1",
        "colab": {
          "base_uri": "https://localhost:8080/",
          "height": 51
        }
      },
      "source": [
        "#We can see that there are 419 Training examples for which 172 classes are present in Traning set but not the validation set\n",
        "#To make the Traning and Validation Set Balanced, removing those 419 Traning Examples \n",
        "df_train = df_train[~df_train['condition'].isin(targets_only_in_train)]\n",
        "\n",
        "df_train = df_train[['condition', 'review']]\n",
        "df_valid = df_valid[['condition', 'review']]\n",
        "print (f\"#Train Examples: {df_train.shape}\")\n",
        "print (f\"#Validation Examples: {df_valid.shape}\")"
      ],
      "execution_count": 8,
      "outputs": [
        {
          "output_type": "stream",
          "text": [
            "#Train Examples: (159079, 2)\n",
            "#Validation Examples: (53161, 2)\n"
          ],
          "name": "stdout"
        }
      ]
    },
    {
      "cell_type": "markdown",
      "metadata": {
        "id": "KlAVKnIEbOSd",
        "colab_type": "text"
      },
      "source": [
        "##Cleaning up Review Comments"
      ]
    },
    {
      "cell_type": "code",
      "metadata": {
        "id": "oBNsLJF6hfIL",
        "colab_type": "code",
        "colab": {}
      },
      "source": [
        "#Perform basic cleaning operation on the review comments \n",
        "#mainly to convert the HTML Code Characters to the actual charcters\n",
        "import html\n",
        "\n",
        "# #SAVE TO CSV to see the changes with ur naked eyes\n",
        "# df_train['clean_review'] = df_train['review'].apply(html.unescape)\n",
        "# df_valid['clean_review'] = df_valid['review'].apply(html.unescape)\n",
        "# df_train.to_csv('./drugsComTrainClean_raw.csv')\n",
        "# df_train.to_csv('./drugsComTestClean_raw.csv')\n",
        "\n",
        "df_train['review'] = df_train['review'].apply(html.unescape)\n",
        "df_valid['review'] = df_valid['review'].apply(html.unescape)\n",
        "\n",
        "#print(df_train[df_train['condition'] == \"Depression\"])\n"
      ],
      "execution_count": 0,
      "outputs": []
    },
    {
      "cell_type": "markdown",
      "metadata": {
        "id": "qS_clfqP6hmf",
        "colab_type": "text"
      },
      "source": [
        "##Summary of the Data"
      ]
    },
    {
      "cell_type": "code",
      "metadata": {
        "id": "-o4dvoCRgSP_",
        "colab_type": "code",
        "outputId": "e524c3dc-f184-4123-c8c0-f4543324d431",
        "colab": {
          "base_uri": "https://localhost:8080/",
          "height": 85
        }
      },
      "source": [
        "print (f\"Shape of Cleaned up Train Set: {df_train.shape}\")\n",
        "print (f\"Shape of Cleaned up  Validation Set: {df_valid.shape}\")\n",
        "\n",
        "#Number of classes present in the training and validation set\n",
        "targets_train = df_train['condition'].unique()\n",
        "targets_valid = df_valid['condition'].unique()\n",
        "print(f\"#Target Classes in Train: {len(targets_train)}\")\n",
        "print(f\"#Target Classes in Validation: {len(targets_valid)}\")\n"
      ],
      "execution_count": 10,
      "outputs": [
        {
          "output_type": "stream",
          "text": [
            "Shape of Cleaned up Train Set: (159079, 2)\n",
            "Shape of Cleaned up  Validation Set: (53161, 2)\n",
            "#Target Classes in Train: 639\n",
            "#Target Classes in Validation: 639\n"
          ],
          "name": "stdout"
        }
      ]
    },
    {
      "cell_type": "code",
      "metadata": {
        "id": "HaQnojpt_xYa",
        "colab_type": "code",
        "colab": {}
      },
      "source": [
        ""
      ],
      "execution_count": 0,
      "outputs": []
    },
    {
      "cell_type": "markdown",
      "metadata": {
        "id": "TIwy2ylYbbKQ",
        "colab_type": "text"
      },
      "source": [
        "##Visualizing the Data\n",
        "(not so visual for now)"
      ]
    },
    {
      "cell_type": "code",
      "metadata": {
        "id": "xwBCv9p1vPqv",
        "colab_type": "code",
        "outputId": "76b45c26-b593-41cc-ba7e-e5c10555be66",
        "colab": {
          "base_uri": "https://localhost:8080/",
          "height": 425
        }
      },
      "source": [
        "#Visualize the dataspread for each of the classes \n",
        "#print(df_train.groupby(['condition']).size().reset_index(name='count').sort_values(['count'], ascending=False))\n",
        "print(df_train['condition'].value_counts())\n",
        "print(df_valid['condition'].value_counts())"
      ],
      "execution_count": 11,
      "outputs": [
        {
          "output_type": "stream",
          "text": [
            "Birth Control                         28788\n",
            "Depression                             9069\n",
            "Pain                                   6145\n",
            "Anxiety                                5904\n",
            "Acne                                   5588\n",
            "                                      ...  \n",
            "Acetaminophen Overdose                    1\n",
            "Epididymitis, Sexually Transmitted        1\n",
            "Gonadotropin Inhibition                   1\n",
            "Acute Nonlymphocytic Leukemia             1\n",
            "Subarachnoid Hemorrhage                   1\n",
            "Name: condition, Length: 639, dtype: int64\n",
            "Birth Control                                   9648\n",
            "Depression                                      3095\n",
            "Pain                                            2100\n",
            "Anxiety                                         1908\n",
            "Acne                                            1847\n",
            "                                                ... \n",
            "Stress Ulcer Prophylaxis                           1\n",
            "Urinary Retention                                  1\n",
            "Reversal of Nondepolarizing Muscle Relaxants       1\n",
            "me                                                 1\n",
            "Schilling Test                                     1\n",
            "Name: condition, Length: 639, dtype: int64\n"
          ],
          "name": "stdout"
        }
      ]
    },
    {
      "cell_type": "markdown",
      "metadata": {
        "id": "Wdeu9Jk-bBec",
        "colab_type": "text"
      },
      "source": [
        "##Start ULMFit Stuff"
      ]
    },
    {
      "cell_type": "code",
      "metadata": {
        "id": "1GxJbPNU9Aog",
        "colab_type": "code",
        "outputId": "59dc9e35-3864-4331-e86d-55b3f312cfdb",
        "colab": {
          "base_uri": "https://localhost:8080/",
          "height": 34
        }
      },
      "source": [
        "#Adding a column \"is_valid\" to determine example belongs to validation set of not\n",
        "df_train['is_valid'] = 0\n",
        "df_valid['is_valid'] = 1\n",
        "\n",
        "#combine two dataframe into one\n",
        "df_combine = pd.concat([df_train, df_valid], axis=0)\n",
        "\n",
        "print(df_combine.shape)"
      ],
      "execution_count": 12,
      "outputs": [
        {
          "output_type": "stream",
          "text": [
            "(212240, 3)\n"
          ],
          "name": "stdout"
        }
      ]
    },
    {
      "cell_type": "code",
      "metadata": {
        "id": "5dz9PsfxBrBC",
        "colab_type": "code",
        "colab": {}
      },
      "source": [
        "\n",
        "bs,bptt=64,80"
      ],
      "execution_count": 0,
      "outputs": []
    },
    {
      "cell_type": "code",
      "metadata": {
        "id": "8ieLnFZU_pWM",
        "colab_type": "code",
        "colab": {}
      },
      "source": [
        "#Prepare for training the language model\n",
        "#todo: i have not specified batch size(bs)\n",
        "#data_lm = TextLMDataBunch.from_df(path='/', train_df=df_train, valid_df=df_valid)\n",
        "#learn_lm = language_model_learner(data_lm, AWD_LSTM, drop_mult=0.5)\n",
        "\n",
        "data_lm = (TextList.from_df(df_combine, cols='review')\n",
        "            .split_from_df(col='is_valid')\n",
        "            .label_for_lm()\n",
        "            .databunch(bs=bs, bptt=bptt))\n",
        "data_lm.save('data_lm.pkl')\n"
      ],
      "execution_count": 0,
      "outputs": []
    },
    {
      "cell_type": "code",
      "metadata": {
        "id": "Fc7TBokKBofa",
        "colab_type": "code",
        "colab": {}
      },
      "source": [
        "path = '.'\n",
        "data_lm = load_data(path, 'data_lm.pkl', bs=bs, bptt=bptt)"
      ],
      "execution_count": 0,
      "outputs": []
    },
    {
      "cell_type": "code",
      "metadata": {
        "id": "dew2ycetCDI6",
        "colab_type": "code",
        "colab": {
          "base_uri": "https://localhost:8080/",
          "height": 374
        },
        "outputId": "6e01e3ce-7f2b-4f4c-ec37-a10903f92dce"
      },
      "source": [
        "data_lm.show_batch()"
      ],
      "execution_count": 16,
      "outputs": [
        {
          "output_type": "display_data",
          "data": {
            "text/html": [
              "<table border=\"1\" class=\"dataframe\">\n",
              "  <thead>\n",
              "    <tr style=\"text-align: right;\">\n",
              "      <th>idx</th>\n",
              "      <th>text</th>\n",
              "    </tr>\n",
              "  </thead>\n",
              "  <tbody>\n",
              "    <tr>\n",
              "      <td>0</td>\n",
              "      <td>, and slept for nearly 8 hours on a drive home from school vacation ( very unusual for him . ) i called his doctor on xxmaj monday morning and she said to stick it out a few days . xxmaj see how he did at school , and with getting up in the morning . xxmaj the last two days have been problem free . xxmaj he is xxup</td>\n",
              "    </tr>\n",
              "    <tr>\n",
              "      <td>1</td>\n",
              "      <td>30 minutes i was in emergency room with anaphylactic shock . i do n't remember much of anything till i woke up the next morning and was told how bad it almost was for me . i take 8 statins to maintain a cholesterol of 200 . \" xxbos \" i went 5 miserable years with undiagnosed , xxmaj hashimoto disease for which i was told it was all in</td>\n",
              "    </tr>\n",
              "    <tr>\n",
              "      <td>2</td>\n",
              "      <td>baggy . xxmaj lots of energy . i slightly started to want to eat . 3rd month . xxmaj total xxunk 28 lbs . \" xxbos \" xxmaj prescribed 500 mg 3x a day for xxup bv . xxmaj day 1 i took two doses 8 hours apart . xxmaj awful , chalky taste that you ca n't get rid of . xxmaj slight dizzyness and slight headache day 1</td>\n",
              "    </tr>\n",
              "    <tr>\n",
              "      <td>3</td>\n",
              "      <td>\" i love this birth control . i switched from xxmaj lo loestrin xxup fe because i would get two periods on that ( one in week 2 of active pills and one during the placebos ) and my doctor said i needed to up my estrogen dose . i was so nervous to start this because of various negative reviews , but i 'm almost finished with my first</td>\n",
              "    </tr>\n",
              "    <tr>\n",
              "      <td>4</td>\n",
              "      <td>amitriptyline for 2 months and i have only one side effect - dry cough occasionally . i suffered from migraines from childhood and first my doctor tried a blood pressure medicine that also treats migraines . xxmaj while somewhat effective , i still had headaches and migraines after 1 - 2 months , up to 3 - 5 per week . xxmaj once he put me on xxmaj amitriptyline ,</td>\n",
              "    </tr>\n",
              "  </tbody>\n",
              "</table>"
            ],
            "text/plain": [
              "<IPython.core.display.HTML object>"
            ]
          },
          "metadata": {
            "tags": []
          }
        }
      ]
    },
    {
      "cell_type": "code",
      "metadata": {
        "id": "SN9H3-OzCK2h",
        "colab_type": "code",
        "colab": {}
      },
      "source": [
        "data_lm_bwd = load_data(path, 'data_lm.pkl', bs=bs, bptt=bptt, backwards=True)"
      ],
      "execution_count": 0,
      "outputs": []
    },
    {
      "cell_type": "code",
      "metadata": {
        "id": "RvG-QdX-Czz8",
        "colab_type": "code",
        "colab": {}
      },
      "source": [
        "learn_fwd = language_model_learner(data_lm, AWD_LSTM).to_fp16(clip=0.1)"
      ],
      "execution_count": 0,
      "outputs": []
    },
    {
      "cell_type": "code",
      "metadata": {
        "id": "Ek7oRAXf0_21",
        "colab_type": "code",
        "outputId": "cd6fa295-4df1-4f2d-f6a9-4a7d1154e49a",
        "colab": {
          "base_uri": "https://localhost:8080/",
          "height": 296
        }
      },
      "source": [
        "#find the learning rate \n",
        "learn_fwd.lr_find(start_lr=1e-8, end_lr=1e2)\n",
        "learn_fwd.recorder.plot()"
      ],
      "execution_count": 19,
      "outputs": [
        {
          "output_type": "display_data",
          "data": {
            "text/html": [
              ""
            ],
            "text/plain": [
              "<IPython.core.display.HTML object>"
            ]
          },
          "metadata": {
            "tags": []
          }
        },
        {
          "output_type": "stream",
          "text": [
            "LR Finder is complete, type {learner_name}.recorder.plot() to see the graph.\n"
          ],
          "name": "stdout"
        },
        {
          "output_type": "display_data",
          "data": {
            "image/png": "[encoded data removed]",
            "text/plain": [
              "<Figure size 432x288 with 1 Axes>"
            ]
          },
          "metadata": {
            "tags": []
          }
        }
      ]
    },
    {
      "cell_type": "code",
      "metadata": {
        "id": "0c_EqdfMDJbT",
        "colab_type": "code",
        "outputId": "cfbd29ed-07c1-441f-daf6-b0fc62b24bad",
        "colab": {
          "base_uri": "https://localhost:8080/",
          "height": 80
        }
      },
      "source": [
        "#The above plot tells us that loss is minimum at the learning rate of \n",
        "#approx 1e0, so we need to choose the learning rate as one level before\n",
        "\n",
        "#Start training the language model\n",
        "learn_fwd.fit_one_cycle(1, 1e-3, moms=(0.8, 0.7))\n",
        "\n"
      ],
      "execution_count": 20,
      "outputs": [
        {
          "output_type": "display_data",
          "data": {
            "text/html": [
              "<table border=\"1\" class=\"dataframe\">\n",
              "  <thead>\n",
              "    <tr style=\"text-align: left;\">\n",
              "      <th>epoch</th>\n",
              "      <th>train_loss</th>\n",
              "      <th>valid_loss</th>\n",
              "      <th>accuracy</th>\n",
              "      <th>time</th>\n",
              "    </tr>\n",
              "  </thead>\n",
              "  <tbody>\n",
              "    <tr>\n",
              "      <td>0</td>\n",
              "      <td>3.876233</td>\n",
              "      <td>3.584221</td>\n",
              "      <td>0.299675</td>\n",
              "      <td>09:27</td>\n",
              "    </tr>\n",
              "  </tbody>\n",
              "</table>"
            ],
            "text/plain": [
              "<IPython.core.display.HTML object>"
            ]
          },
          "metadata": {
            "tags": []
          }
        }
      ]
    },
    {
      "cell_type": "code",
      "metadata": {
        "id": "O2OxVSiHmXWP",
        "colab_type": "code",
        "outputId": "d17e11e3-6c06-49a6-f873-9d359aa54a93",
        "colab": {
          "base_uri": "https://localhost:8080/",
          "height": 142
        }
      },
      "source": [
        "learn_fwd.unfreeze()\n",
        "learn_fwd.fit_one_cycle(3, 1e-3, moms=(0.8, 0.7))"
      ],
      "execution_count": 21,
      "outputs": [
        {
          "output_type": "display_data",
          "data": {
            "text/html": [
              "<table border=\"1\" class=\"dataframe\">\n",
              "  <thead>\n",
              "    <tr style=\"text-align: left;\">\n",
              "      <th>epoch</th>\n",
              "      <th>train_loss</th>\n",
              "      <th>valid_loss</th>\n",
              "      <th>accuracy</th>\n",
              "      <th>time</th>\n",
              "    </tr>\n",
              "  </thead>\n",
              "  <tbody>\n",
              "    <tr>\n",
              "      <td>0</td>\n",
              "      <td>3.350721</td>\n",
              "      <td>3.181236</td>\n",
              "      <td>0.348771</td>\n",
              "      <td>11:17</td>\n",
              "    </tr>\n",
              "    <tr>\n",
              "      <td>1</td>\n",
              "      <td>3.207137</td>\n",
              "      <td>3.039823</td>\n",
              "      <td>0.365956</td>\n",
              "      <td>11:15</td>\n",
              "    </tr>\n",
              "    <tr>\n",
              "      <td>2</td>\n",
              "      <td>3.129826</td>\n",
              "      <td>3.001792</td>\n",
              "      <td>0.371102</td>\n",
              "      <td>11:15</td>\n",
              "    </tr>\n",
              "  </tbody>\n",
              "</table>"
            ],
            "text/plain": [
              "<IPython.core.display.HTML object>"
            ]
          },
          "metadata": {
            "tags": []
          }
        }
      ]
    },
    {
      "cell_type": "code",
      "metadata": {
        "id": "HWZh5kpnF2Nt",
        "colab_type": "code",
        "colab": {}
      },
      "source": [
        "#Plot the curves for language model - if necessary\n"
      ],
      "execution_count": 0,
      "outputs": []
    },
    {
      "cell_type": "code",
      "metadata": {
        "id": "N4sV4tIkGSCq",
        "colab_type": "code",
        "outputId": "1561f9fd-ed40-4ae4-c493-2d9a38754617",
        "colab": {
          "base_uri": "https://localhost:8080/",
          "height": 34
        }
      },
      "source": [
        "#See how the language model is doing on the statement of medical review \n",
        "#write some string\n",
        "medical_review = \"I have been continuing this medicine for the last couple of months but\"\n",
        "learn_fwd.predict(medical_review, n_words=10)"
      ],
      "execution_count": 22,
      "outputs": [
        {
          "output_type": "execute_result",
          "data": {
            "text/plain": [
              "'I have been continuing this medicine for the last couple of months but i had a terrible time with the medication .'"
            ]
          },
          "metadata": {
            "tags": []
          },
          "execution_count": 22
        }
      ]
    },
    {
      "cell_type": "code",
      "metadata": {
        "id": "1qxs7mFGGmfI",
        "colab_type": "code",
        "colab": {}
      },
      "source": [
        "#fine tuned language model is called as encoder - we need to save it\n",
        "learn_fwd.save_encoder('fwd_enc')"
      ],
      "execution_count": 0,
      "outputs": []
    },
    {
      "cell_type": "code",
      "metadata": {
        "id": "vm9n5TRXEBXZ",
        "colab_type": "code",
        "colab": {}
      },
      "source": [
        "learn_bwd = language_model_learner(data_lm_bwd, AWD_LSTM).to_fp16(clip=0.1)"
      ],
      "execution_count": 0,
      "outputs": []
    },
    {
      "cell_type": "code",
      "metadata": {
        "id": "MD4lxF5wEOlb",
        "colab_type": "code",
        "outputId": "9ebd637b-6900-48b8-e7f1-051f891b2057",
        "colab": {
          "base_uri": "https://localhost:8080/",
          "height": 296
        }
      },
      "source": [
        "#find the learning rate \n",
        "learn_bwd.lr_find(start_lr=1e-8, end_lr=1e2)\n",
        "learn_bwd.recorder.plot()"
      ],
      "execution_count": 25,
      "outputs": [
        {
          "output_type": "display_data",
          "data": {
            "text/html": [
              ""
            ],
            "text/plain": [
              "<IPython.core.display.HTML object>"
            ]
          },
          "metadata": {
            "tags": []
          }
        },
        {
          "output_type": "stream",
          "text": [
            "LR Finder is complete, type {learner_name}.recorder.plot() to see the graph.\n"
          ],
          "name": "stdout"
        },
        {
          "output_type": "display_data",
          "data": {
            "image/png": "[encoded data removed]",
            "text/plain": [
              "<Figure size 432x288 with 1 Axes>"
            ]
          },
          "metadata": {
            "tags": []
          }
        }
      ]
    },
    {
      "cell_type": "code",
      "metadata": {
        "id": "AJ8_5KtmEgCi",
        "colab_type": "code",
        "outputId": "e76bc260-5b5f-4d59-bb00-d0a27c00b562",
        "colab": {
          "base_uri": "https://localhost:8080/",
          "height": 80
        }
      },
      "source": [
        "learn_bwd.fit_one_cycle(1, 1e-3, moms=(0.8, 0.7))"
      ],
      "execution_count": 26,
      "outputs": [
        {
          "output_type": "display_data",
          "data": {
            "text/html": [
              "<table border=\"1\" class=\"dataframe\">\n",
              "  <thead>\n",
              "    <tr style=\"text-align: left;\">\n",
              "      <th>epoch</th>\n",
              "      <th>train_loss</th>\n",
              "      <th>valid_loss</th>\n",
              "      <th>accuracy</th>\n",
              "      <th>time</th>\n",
              "    </tr>\n",
              "  </thead>\n",
              "  <tbody>\n",
              "    <tr>\n",
              "      <td>0</td>\n",
              "      <td>3.866795</td>\n",
              "      <td>3.584870</td>\n",
              "      <td>0.350893</td>\n",
              "      <td>09:26</td>\n",
              "    </tr>\n",
              "  </tbody>\n",
              "</table>"
            ],
            "text/plain": [
              "<IPython.core.display.HTML object>"
            ]
          },
          "metadata": {
            "tags": []
          }
        }
      ]
    },
    {
      "cell_type": "code",
      "metadata": {
        "id": "0qmB9hVwEr67",
        "colab_type": "code",
        "outputId": "052a9e89-6f7f-4708-f0ac-e8a626c846d6",
        "colab": {
          "base_uri": "https://localhost:8080/",
          "height": 142
        }
      },
      "source": [
        "learn_bwd.unfreeze()\n",
        "learn_bwd.fit_one_cycle(3, 1e-3, moms=(0.8, 0.7))"
      ],
      "execution_count": 27,
      "outputs": [
        {
          "output_type": "display_data",
          "data": {
            "text/html": [
              "<table border=\"1\" class=\"dataframe\">\n",
              "  <thead>\n",
              "    <tr style=\"text-align: left;\">\n",
              "      <th>epoch</th>\n",
              "      <th>train_loss</th>\n",
              "      <th>valid_loss</th>\n",
              "      <th>accuracy</th>\n",
              "      <th>time</th>\n",
              "    </tr>\n",
              "  </thead>\n",
              "  <tbody>\n",
              "    <tr>\n",
              "      <td>0</td>\n",
              "      <td>3.375104</td>\n",
              "      <td>3.187178</td>\n",
              "      <td>0.394815</td>\n",
              "      <td>11:17</td>\n",
              "    </tr>\n",
              "    <tr>\n",
              "      <td>1</td>\n",
              "      <td>3.216107</td>\n",
              "      <td>3.045416</td>\n",
              "      <td>0.410675</td>\n",
              "      <td>11:17</td>\n",
              "    </tr>\n",
              "    <tr>\n",
              "      <td>2</td>\n",
              "      <td>3.126726</td>\n",
              "      <td>3.008050</td>\n",
              "      <td>0.415447</td>\n",
              "      <td>11:18</td>\n",
              "    </tr>\n",
              "  </tbody>\n",
              "</table>"
            ],
            "text/plain": [
              "<IPython.core.display.HTML object>"
            ]
          },
          "metadata": {
            "tags": []
          }
        }
      ]
    },
    {
      "cell_type": "code",
      "metadata": {
        "id": "uyVWoslaFKtn",
        "colab_type": "code",
        "colab": {}
      },
      "source": [
        "learn_bwd.save_encoder('bwd_enc')"
      ],
      "execution_count": 0,
      "outputs": []
    },
    {
      "cell_type": "code",
      "metadata": {
        "id": "T4Y5MH0Fbzgk",
        "colab_type": "code",
        "colab": {
          "base_uri": "https://localhost:8080/",
          "height": 54
        },
        "outputId": "0cf393dd-e78d-47f5-ec2f-7136b9cddad6"
      },
      "source": [
        "#See how the language model is doing on the statement of medical review \n",
        "#write some string\n",
        "medical_review = \"I have been continuing this medicine for the last couple of months but\"\n",
        "learn_bwd.predict(medical_review, n_words=10)"
      ],
      "execution_count": 29,
      "outputs": [
        {
          "output_type": "execute_result",
          "data": {
            "text/plain": [
              "'I have been continuing this medicine for the last couple of months but yet for account to effects side apparent no noticed'"
            ]
          },
          "metadata": {
            "tags": []
          },
          "execution_count": 29
        }
      ]
    },
    {
      "cell_type": "markdown",
      "metadata": {
        "id": "pf_6OqCPEcqZ",
        "colab_type": "text"
      },
      "source": [
        "#Classifer"
      ]
    },
    {
      "cell_type": "code",
      "metadata": {
        "id": "h0Sl_y7YGM_q",
        "colab_type": "code",
        "colab": {}
      },
      "source": [
        "#Prepare for training the classifier\n",
        "bs = 64\n",
        "data_clas = (TextList.from_df(df_combine, cols='review')\n",
        "              .split_from_df(col='is_valid')\n",
        "              .label_from_df(cols='condition')\n",
        "              .databunch(bs=bs))\n",
        "data_clas.save('data_clas.pkl')\n"
      ],
      "execution_count": 0,
      "outputs": []
    },
    {
      "cell_type": "code",
      "metadata": {
        "id": "qJSw98vQG5KP",
        "colab_type": "code",
        "colab": {}
      },
      "source": [
        "data_clas = load_data(path, 'data_clas.pkl', bs=bs)\n",
        "#data_clas.show_batch()"
      ],
      "execution_count": 0,
      "outputs": []
    },
    {
      "cell_type": "code",
      "metadata": {
        "id": "jE7SM0vqG_EX",
        "colab_type": "code",
        "colab": {}
      },
      "source": [
        "\n",
        "#data_clas_bwd.show_batch()"
      ],
      "execution_count": 0,
      "outputs": []
    },
    {
      "cell_type": "code",
      "metadata": {
        "id": "nef9YpGQHeQI",
        "colab_type": "code",
        "outputId": "ba2d5f6c-dbb7-4b53-bea8-cc61c71972e7",
        "colab": {
          "base_uri": "https://localhost:8080/",
          "height": 1000
        }
      },
      "source": [
        "learn_clas_fwd = text_classifier_learner(data_clas, AWD_LSTM, drop_mult=0.5, pretrained=False)\n",
        "learn_clas_fwd.load_encoder('fwd_enc')"
      ],
      "execution_count": 33,
      "outputs": [
        {
          "output_type": "execute_result",
          "data": {
            "text/plain": [
              "RNNLearner(data=TextClasDataBunch;\n",
              "\n",
              "Train: LabelList (159079 items)\n",
              "x: TextList\n",
              "xxbos \" xxmaj it has no side effect , i take it in combination of xxmaj bystolic 5 xxmaj mg and xxmaj fish xxmaj oil \",xxbos \" xxmaj my son is halfway through his fourth week of xxmaj intuniv . xxmaj we became concerned when he began this last week , when he started taking the highest dose he will be on . xxmaj for two days , he could hardly get out of bed , was very cranky , and slept for nearly 8 hours on a drive home from school vacation ( very unusual for him . ) i called his doctor on xxmaj monday morning and she said to stick it out a few days . xxmaj see how he did at school , and with getting up in the morning . xxmaj the last two days have been problem free . xxmaj he is xxup much more agreeable than ever . xxmaj he is less emotional ( a good thing ) , less cranky . xxmaj he is remembering all the things he should . xxmaj overall his behavior is better . \n",
              " \n",
              "  xxmaj we have tried many different medications and so far this is the most effective . \",xxbos \" i used to take another oral contraceptive , which had 21 pill cycle , and was very happy- very light periods , max 5 days , no other side effects . xxmaj but it contained hormone xxunk , which is not available in xxup us , so i switched to xxmaj lybrel , because the ingredients are similar . xxmaj when my other pills ended , i started xxmaj lybrel immediately , on my first day of period , as the instructions said . xxmaj and the period lasted for two weeks . xxmaj when taking the second pack- same two weeks . xxmaj and now , with third pack things got even worse- my third period lasted for two weeks and now it 's the end of the third week- i still have daily brown discharge . \n",
              " \n",
              "  xxmaj the positive side is that i did n't have any other side effects . xxmaj the idea of being period free was so tempting ... xxmaj alas . \",xxbos \" xxmaj this is my first time using any form of birth control . i 'm glad i went with the patch , i have been on it for 8 months . xxmaj at first xxmaj it decreased my libido but that subsided . xxmaj the only downside is that it made my periods longer ( 5 - 6 days to be exact ) i used to only have periods for 3 - 4 days max also made my cramps intense for the first two days of my period , i never had cramps before using birth control . xxmaj other than that in happy with the patch \",xxbos \" xxmaj suboxone has completely turned my life around . i feel healthier , i 'm excelling at my job and i always have money in my pocket and my savings account . i had none of those before xxmaj suboxone and spent years abusing oxycontin . xxmaj my paycheck was already spent by the time i got it and i started resorting to scheming and stealing to fund my addiction . xxmaj all that is history . xxmaj if you 're ready to stop , there 's a good chance that suboxone will put you on the path of great life again . i have found the side - effects to be minimal compared to oxycontin . i 'm actually sleeping better . xxmaj slight constipation is about it for me . xxmaj it truly is amazing . xxmaj the cost pales in comparison to what i spent on oxycontin . \"\n",
              "y: CategoryList\n",
              "Left Ventricular Dysfunction,ADHD,Birth Control,Birth Control,Opiate Dependence\n",
              "Path: .;\n",
              "\n",
              "Valid: LabelList (53161 items)\n",
              "x: TextList\n",
              "xxbos \" i 've tried a few antidepressants over the years ( citalopram , fluoxetine , amitriptyline ) , but none of those helped with my depression , insomnia & anxiety . xxmaj my doctor suggested and changed me onto 45 mg mirtazapine and this medicine has saved my life . xxmaj thankfully i have had no side effects especially the most common - weight gain , i 've actually lost alot of weight . i still have suicidal thoughts but mirtazapine has saved me . \",xxbos \" xxmaj my son has xxmaj crohn 's disease and has done very well on the xxmaj asacol . xxmaj he has no complaints and shows no side effects . xxmaj he has taken as many as nine tablets per day at one time . i 've been very happy with the results , reducing his bouts of diarrhea drastically . \",xxbos \" xxmaj quick reduction of symptoms \",xxbos \" xxmaj contrave combines drugs that were used for alcohol , smoking , and opioid cessation . xxmaj people lose weight on it because it also helps control over - eating . i have no doubt that most obesity is caused from sugar / carb addiction , which is just as powerful as any drug . i have been taking it for five days , and the good news is , it seems to go to work immediately . i feel hungry before i want food now . i really do n't care to eat ; it 's just to fill my stomach . xxmaj since i have only been on it a few days , i do n't know if i 've lost weight ( i do n't have a scale ) , but my clothes do feel a little looser , so maybe a pound or two . i 'm hoping that after a few months on this medication , i will develop healthier habits that i can continue without the aid of xxmaj contrave . \",xxbos \" i have been on this birth control for one cycle . xxmaj after reading some of the reviews on this type and similar birth controls i was a bit apprehensive to start . i m giving this birth control a 9 out of 10 as i have not been on it long enough for a 10 . xxmaj so far i love this birth control ! xxmaj my side effects have been so minimal its like i m not even on birth control ! i have experienced mild headaches here and there and some nausea but other than that i ve been feeling great ! i got my period on cue on the third day of the inactive pills and i had no idea it was coming because i had zero pms ! xxmaj my period was very light and i barely had any cramping ! i had unprotected sex the first month and obviously did n't get pregnant so i 'm very pleased ! xxmaj highly recommend \"\n",
              "y: CategoryList\n",
              "Depression,Crohn's Disease, Maintenance,Urinary Tract Infection,Weight Loss,Birth Control\n",
              "Path: .;\n",
              "\n",
              "Test: None, model=SequentialRNN(\n",
              "  (0): MultiBatchEncoder(\n",
              "    (module): AWD_LSTM(\n",
              "      (encoder): Embedding(26448, 400, padding_idx=1)\n",
              "      (encoder_dp): EmbeddingDropout(\n",
              "        (emb): Embedding(26448, 400, padding_idx=1)\n",
              "      )\n",
              "      (rnns): ModuleList(\n",
              "        (0): WeightDropout(\n",
              "          (module): LSTM(400, 1152, batch_first=True)\n",
              "        )\n",
              "        (1): WeightDropout(\n",
              "          (module): LSTM(1152, 1152, batch_first=True)\n",
              "        )\n",
              "        (2): WeightDropout(\n",
              "          (module): LSTM(1152, 400, batch_first=True)\n",
              "        )\n",
              "      )\n",
              "      (input_dp): RNNDropout()\n",
              "      (hidden_dps): ModuleList(\n",
              "        (0): RNNDropout()\n",
              "        (1): RNNDropout()\n",
              "        (2): RNNDropout()\n",
              "      )\n",
              "    )\n",
              "  )\n",
              "  (1): PoolingLinearClassifier(\n",
              "    (layers): Sequential(\n",
              "      (0): BatchNorm1d(1200, eps=1e-05, momentum=0.1, affine=True, track_running_stats=True)\n",
              "      (1): Dropout(p=0.2, inplace=False)\n",
              "      (2): Linear(in_features=1200, out_features=50, bias=True)\n",
              "      (3): ReLU(inplace=True)\n",
              "      (4): BatchNorm1d(50, eps=1e-05, momentum=0.1, affine=True, track_running_stats=True)\n",
              "      (5): Dropout(p=0.1, inplace=False)\n",
              "      (6): Linear(in_features=50, out_features=639, bias=True)\n",
              "    )\n",
              "  )\n",
              "), opt_func=functools.partial(<class 'torch.optim.adam.Adam'>, betas=(0.9, 0.99)), loss_func=FlattenedLoss of CrossEntropyLoss(), metrics=[<function accuracy at 0x7f5fd0bd22f0>], true_wd=True, bn_wd=True, wd=0.01, train_bn=True, path=PosixPath('.'), model_dir='models', callback_fns=[functools.partial(<class 'fastai.basic_train.Recorder'>, add_time=True, silent=False)], callbacks=[RNNTrainer\n",
              "learn: RNNLearner(data=TextClasDataBunch;\n",
              "\n",
              "Train: LabelList (159079 items)\n",
              "x: TextList\n",
              "xxbos \" xxmaj it has no side effect , i take it in combination of xxmaj bystolic 5 xxmaj mg and xxmaj fish xxmaj oil \",xxbos \" xxmaj my son is halfway through his fourth week of xxmaj intuniv . xxmaj we became concerned when he began this last week , when he started taking the highest dose he will be on . xxmaj for two days , he could hardly get out of bed , was very cranky , and slept for nearly 8 hours on a drive home from school vacation ( very unusual for him . ) i called his doctor on xxmaj monday morning and she said to stick it out a few days . xxmaj see how he did at school , and with getting up in the morning . xxmaj the last two days have been problem free . xxmaj he is xxup much more agreeable than ever . xxmaj he is less emotional ( a good thing ) , less cranky . xxmaj he is remembering all the things he should . xxmaj overall his behavior is better . \n",
              " \n",
              "  xxmaj we have tried many different medications and so far this is the most effective . \",xxbos \" i used to take another oral contraceptive , which had 21 pill cycle , and was very happy- very light periods , max 5 days , no other side effects . xxmaj but it contained hormone xxunk , which is not available in xxup us , so i switched to xxmaj lybrel , because the ingredients are similar . xxmaj when my other pills ended , i started xxmaj lybrel immediately , on my first day of period , as the instructions said . xxmaj and the period lasted for two weeks . xxmaj when taking the second pack- same two weeks . xxmaj and now , with third pack things got even worse- my third period lasted for two weeks and now it 's the end of the third week- i still have daily brown discharge . \n",
              " \n",
              "  xxmaj the positive side is that i did n't have any other side effects . xxmaj the idea of being period free was so tempting ... xxmaj alas . \",xxbos \" xxmaj this is my first time using any form of birth control . i 'm glad i went with the patch , i have been on it for 8 months . xxmaj at first xxmaj it decreased my libido but that subsided . xxmaj the only downside is that it made my periods longer ( 5 - 6 days to be exact ) i used to only have periods for 3 - 4 days max also made my cramps intense for the first two days of my period , i never had cramps before using birth control . xxmaj other than that in happy with the patch \",xxbos \" xxmaj suboxone has completely turned my life around . i feel healthier , i 'm excelling at my job and i always have money in my pocket and my savings account . i had none of those before xxmaj suboxone and spent years abusing oxycontin . xxmaj my paycheck was already spent by the time i got it and i started resorting to scheming and stealing to fund my addiction . xxmaj all that is history . xxmaj if you 're ready to stop , there 's a good chance that suboxone will put you on the path of great life again . i have found the side - effects to be minimal compared to oxycontin . i 'm actually sleeping better . xxmaj slight constipation is about it for me . xxmaj it truly is amazing . xxmaj the cost pales in comparison to what i spent on oxycontin . \"\n",
              "y: CategoryList\n",
              "Left Ventricular Dysfunction,ADHD,Birth Control,Birth Control,Opiate Dependence\n",
              "Path: .;\n",
              "\n",
              "Valid: LabelList (53161 items)\n",
              "x: TextList\n",
              "xxbos \" i 've tried a few antidepressants over the years ( citalopram , fluoxetine , amitriptyline ) , but none of those helped with my depression , insomnia & anxiety . xxmaj my doctor suggested and changed me onto 45 mg mirtazapine and this medicine has saved my life . xxmaj thankfully i have had no side effects especially the most common - weight gain , i 've actually lost alot of weight . i still have suicidal thoughts but mirtazapine has saved me . \",xxbos \" xxmaj my son has xxmaj crohn 's disease and has done very well on the xxmaj asacol . xxmaj he has no complaints and shows no side effects . xxmaj he has taken as many as nine tablets per day at one time . i 've been very happy with the results , reducing his bouts of diarrhea drastically . \",xxbos \" xxmaj quick reduction of symptoms \",xxbos \" xxmaj contrave combines drugs that were used for alcohol , smoking , and opioid cessation . xxmaj people lose weight on it because it also helps control over - eating . i have no doubt that most obesity is caused from sugar / carb addiction , which is just as powerful as any drug . i have been taking it for five days , and the good news is , it seems to go to work immediately . i feel hungry before i want food now . i really do n't care to eat ; it 's just to fill my stomach . xxmaj since i have only been on it a few days , i do n't know if i 've lost weight ( i do n't have a scale ) , but my clothes do feel a little looser , so maybe a pound or two . i 'm hoping that after a few months on this medication , i will develop healthier habits that i can continue without the aid of xxmaj contrave . \",xxbos \" i have been on this birth control for one cycle . xxmaj after reading some of the reviews on this type and similar birth controls i was a bit apprehensive to start . i m giving this birth control a 9 out of 10 as i have not been on it long enough for a 10 . xxmaj so far i love this birth control ! xxmaj my side effects have been so minimal its like i m not even on birth control ! i have experienced mild headaches here and there and some nausea but other than that i ve been feeling great ! i got my period on cue on the third day of the inactive pills and i had no idea it was coming because i had zero pms ! xxmaj my period was very light and i barely had any cramping ! i had unprotected sex the first month and obviously did n't get pregnant so i 'm very pleased ! xxmaj highly recommend \"\n",
              "y: CategoryList\n",
              "Depression,Crohn's Disease, Maintenance,Urinary Tract Infection,Weight Loss,Birth Control\n",
              "Path: .;\n",
              "\n",
              "Test: None, model=SequentialRNN(\n",
              "  (0): MultiBatchEncoder(\n",
              "    (module): AWD_LSTM(\n",
              "      (encoder): Embedding(26448, 400, padding_idx=1)\n",
              "      (encoder_dp): EmbeddingDropout(\n",
              "        (emb): Embedding(26448, 400, padding_idx=1)\n",
              "      )\n",
              "      (rnns): ModuleList(\n",
              "        (0): WeightDropout(\n",
              "          (module): LSTM(400, 1152, batch_first=True)\n",
              "        )\n",
              "        (1): WeightDropout(\n",
              "          (module): LSTM(1152, 1152, batch_first=True)\n",
              "        )\n",
              "        (2): WeightDropout(\n",
              "          (module): LSTM(1152, 400, batch_first=True)\n",
              "        )\n",
              "      )\n",
              "      (input_dp): RNNDropout()\n",
              "      (hidden_dps): ModuleList(\n",
              "        (0): RNNDropout()\n",
              "        (1): RNNDropout()\n",
              "        (2): RNNDropout()\n",
              "      )\n",
              "    )\n",
              "  )\n",
              "  (1): PoolingLinearClassifier(\n",
              "    (layers): Sequential(\n",
              "      (0): BatchNorm1d(1200, eps=1e-05, momentum=0.1, affine=True, track_running_stats=True)\n",
              "      (1): Dropout(p=0.2, inplace=False)\n",
              "      (2): Linear(in_features=1200, out_features=50, bias=True)\n",
              "      (3): ReLU(inplace=True)\n",
              "      (4): BatchNorm1d(50, eps=1e-05, momentum=0.1, affine=True, track_running_stats=True)\n",
              "      (5): Dropout(p=0.1, inplace=False)\n",
              "      (6): Linear(in_features=50, out_features=639, bias=True)\n",
              "    )\n",
              "  )\n",
              "), opt_func=functools.partial(<class 'torch.optim.adam.Adam'>, betas=(0.9, 0.99)), loss_func=FlattenedLoss of CrossEntropyLoss(), metrics=[<function accuracy at 0x7f5fd0bd22f0>], true_wd=True, bn_wd=True, wd=0.01, train_bn=True, path=PosixPath('.'), model_dir='models', callback_fns=[functools.partial(<class 'fastai.basic_train.Recorder'>, add_time=True, silent=False)], callbacks=[...], layer_groups=[Sequential(\n",
              "  (0): Embedding(26448, 400, padding_idx=1)\n",
              "  (1): EmbeddingDropout(\n",
              "    (emb): Embedding(26448, 400, padding_idx=1)\n",
              "  )\n",
              "), Sequential(\n",
              "  (0): WeightDropout(\n",
              "    (module): LSTM(400, 1152, batch_first=True)\n",
              "  )\n",
              "  (1): RNNDropout()\n",
              "), Sequential(\n",
              "  (0): WeightDropout(\n",
              "    (module): LSTM(1152, 1152, batch_first=True)\n",
              "  )\n",
              "  (1): RNNDropout()\n",
              "), Sequential(\n",
              "  (0): WeightDropout(\n",
              "    (module): LSTM(1152, 400, batch_first=True)\n",
              "  )\n",
              "  (1): RNNDropout()\n",
              "), Sequential(\n",
              "  (0): PoolingLinearClassifier(\n",
              "    (layers): Sequential(\n",
              "      (0): BatchNorm1d(1200, eps=1e-05, momentum=0.1, affine=True, track_running_stats=True)\n",
              "      (1): Dropout(p=0.2, inplace=False)\n",
              "      (2): Linear(in_features=1200, out_features=50, bias=True)\n",
              "      (3): ReLU(inplace=True)\n",
              "      (4): BatchNorm1d(50, eps=1e-05, momentum=0.1, affine=True, track_running_stats=True)\n",
              "      (5): Dropout(p=0.1, inplace=False)\n",
              "      (6): Linear(in_features=50, out_features=639, bias=True)\n",
              "    )\n",
              "  )\n",
              ")], add_time=True, silent=False)\n",
              "alpha: 2.0\n",
              "beta: 1.0], layer_groups=[Sequential(\n",
              "  (0): Embedding(26448, 400, padding_idx=1)\n",
              "  (1): EmbeddingDropout(\n",
              "    (emb): Embedding(26448, 400, padding_idx=1)\n",
              "  )\n",
              "), Sequential(\n",
              "  (0): WeightDropout(\n",
              "    (module): LSTM(400, 1152, batch_first=True)\n",
              "  )\n",
              "  (1): RNNDropout()\n",
              "), Sequential(\n",
              "  (0): WeightDropout(\n",
              "    (module): LSTM(1152, 1152, batch_first=True)\n",
              "  )\n",
              "  (1): RNNDropout()\n",
              "), Sequential(\n",
              "  (0): WeightDropout(\n",
              "    (module): LSTM(1152, 400, batch_first=True)\n",
              "  )\n",
              "  (1): RNNDropout()\n",
              "), Sequential(\n",
              "  (0): PoolingLinearClassifier(\n",
              "    (layers): Sequential(\n",
              "      (0): BatchNorm1d(1200, eps=1e-05, momentum=0.1, affine=True, track_running_stats=True)\n",
              "      (1): Dropout(p=0.2, inplace=False)\n",
              "      (2): Linear(in_features=1200, out_features=50, bias=True)\n",
              "      (3): ReLU(inplace=True)\n",
              "      (4): BatchNorm1d(50, eps=1e-05, momentum=0.1, affine=True, track_running_stats=True)\n",
              "      (5): Dropout(p=0.1, inplace=False)\n",
              "      (6): Linear(in_features=50, out_features=639, bias=True)\n",
              "    )\n",
              "  )\n",
              ")], add_time=True, silent=False)"
            ]
          },
          "metadata": {
            "tags": []
          },
          "execution_count": 33
        }
      ]
    },
    {
      "cell_type": "code",
      "metadata": {
        "id": "lmrw3W-eKcJL",
        "colab_type": "code",
        "outputId": "7bf9097c-8cd6-4d2b-9703-49d94edef6cb",
        "colab": {
          "base_uri": "https://localhost:8080/",
          "height": 296
        }
      },
      "source": [
        "#find learning rate before starting the training of classifier\n",
        "learn_clas_fwd.lr_find(start_lr=1e-8, end_lr=1e2)\n",
        "learn_clas_fwd.recorder.plot()"
      ],
      "execution_count": 34,
      "outputs": [
        {
          "output_type": "display_data",
          "data": {
            "text/html": [
              ""
            ],
            "text/plain": [
              "<IPython.core.display.HTML object>"
            ]
          },
          "metadata": {
            "tags": []
          }
        },
        {
          "output_type": "stream",
          "text": [
            "LR Finder is complete, type {learner_name}.recorder.plot() to see the graph.\n"
          ],
          "name": "stdout"
        },
        {
          "output_type": "display_data",
          "data": {
            "image/png": "[encoded data removed]",
            "text/plain": [
              "<Figure size 432x288 with 1 Axes>"
            ]
          },
          "metadata": {
            "tags": []
          }
        }
      ]
    },
    {
      "cell_type": "code",
      "metadata": {
        "id": "EC6f1gHrHc4h",
        "colab_type": "code",
        "outputId": "d8f9edf3-b234-4956-d270-296d58b41047",
        "colab": {
          "base_uri": "https://localhost:8080/",
          "height": 80
        }
      },
      "source": [
        "#Start Training of the classifier \n",
        "# For training the classifier, \"gradual unfreezing\" should be applied to avoid \"catastrophic forgetting\"\n",
        "# as explained in section 3.3 of Howard and Ruder's paper - https://arxiv.org/pdf/1801.06146.pdf \n",
        "\n",
        "learn_clas_fwd.fit_one_cycle(1, 1e-3, moms=(0.8, 0.7))\n"
      ],
      "execution_count": 35,
      "outputs": [
        {
          "output_type": "display_data",
          "data": {
            "text/html": [
              "<table border=\"1\" class=\"dataframe\">\n",
              "  <thead>\n",
              "    <tr style=\"text-align: left;\">\n",
              "      <th>epoch</th>\n",
              "      <th>train_loss</th>\n",
              "      <th>valid_loss</th>\n",
              "      <th>accuracy</th>\n",
              "      <th>time</th>\n",
              "    </tr>\n",
              "  </thead>\n",
              "  <tbody>\n",
              "    <tr>\n",
              "      <td>0</td>\n",
              "      <td>1.944084</td>\n",
              "      <td>1.727961</td>\n",
              "      <td>0.606196</td>\n",
              "      <td>03:56</td>\n",
              "    </tr>\n",
              "  </tbody>\n",
              "</table>"
            ],
            "text/plain": [
              "<IPython.core.display.HTML object>"
            ]
          },
          "metadata": {
            "tags": []
          }
        }
      ]
    },
    {
      "cell_type": "code",
      "metadata": {
        "id": "_McHZvL2zdwU",
        "colab_type": "code",
        "outputId": "63823f10-c2cf-43fd-8698-11e8020a1a94",
        "colab": {
          "base_uri": "https://localhost:8080/",
          "height": 80
        }
      },
      "source": [
        "learn_clas_fwd.freeze_to(-2)\n",
        "learn_clas_fwd.fit_one_cycle(1, slice(1e-4,1e-2), moms=(0.8,0.7))\n"
      ],
      "execution_count": 36,
      "outputs": [
        {
          "output_type": "display_data",
          "data": {
            "text/html": [
              "<table border=\"1\" class=\"dataframe\">\n",
              "  <thead>\n",
              "    <tr style=\"text-align: left;\">\n",
              "      <th>epoch</th>\n",
              "      <th>train_loss</th>\n",
              "      <th>valid_loss</th>\n",
              "      <th>accuracy</th>\n",
              "      <th>time</th>\n",
              "    </tr>\n",
              "  </thead>\n",
              "  <tbody>\n",
              "    <tr>\n",
              "      <td>0</td>\n",
              "      <td>1.518614</td>\n",
              "      <td>1.386487</td>\n",
              "      <td>0.659149</td>\n",
              "      <td>04:52</td>\n",
              "    </tr>\n",
              "  </tbody>\n",
              "</table>"
            ],
            "text/plain": [
              "<IPython.core.display.HTML object>"
            ]
          },
          "metadata": {
            "tags": []
          }
        }
      ]
    },
    {
      "cell_type": "code",
      "metadata": {
        "id": "88NsMggvzhZc",
        "colab_type": "code",
        "outputId": "01d9a980-f4fa-4d23-f11d-83907986f645",
        "colab": {
          "base_uri": "https://localhost:8080/",
          "height": 80
        }
      },
      "source": [
        "learn_clas_fwd.freeze_to(-3)\n",
        "learn_clas_fwd.fit_one_cycle(1, slice(1e-5,5e-3), moms=(0.8,0.7))\n"
      ],
      "execution_count": 37,
      "outputs": [
        {
          "output_type": "display_data",
          "data": {
            "text/html": [
              "<table border=\"1\" class=\"dataframe\">\n",
              "  <thead>\n",
              "    <tr style=\"text-align: left;\">\n",
              "      <th>epoch</th>\n",
              "      <th>train_loss</th>\n",
              "      <th>valid_loss</th>\n",
              "      <th>accuracy</th>\n",
              "      <th>time</th>\n",
              "    </tr>\n",
              "  </thead>\n",
              "  <tbody>\n",
              "    <tr>\n",
              "      <td>0</td>\n",
              "      <td>1.560958</td>\n",
              "      <td>1.260370</td>\n",
              "      <td>0.686481</td>\n",
              "      <td>07:58</td>\n",
              "    </tr>\n",
              "  </tbody>\n",
              "</table>"
            ],
            "text/plain": [
              "<IPython.core.display.HTML object>"
            ]
          },
          "metadata": {
            "tags": []
          }
        }
      ]
    },
    {
      "cell_type": "code",
      "metadata": {
        "id": "WFWYfG5bzjCs",
        "colab_type": "code",
        "outputId": "7219ef6b-ccc9-4173-b409-404153903b54",
        "colab": {
          "base_uri": "https://localhost:8080/",
          "height": 173
        }
      },
      "source": [
        "learn_clas_fwd.unfreeze()\n",
        "learn_clas_fwd.fit_one_cycle(4, slice(1e-5,1e-3), moms=(0.8,0.7))"
      ],
      "execution_count": 38,
      "outputs": [
        {
          "output_type": "display_data",
          "data": {
            "text/html": [
              "<table border=\"1\" class=\"dataframe\">\n",
              "  <thead>\n",
              "    <tr style=\"text-align: left;\">\n",
              "      <th>epoch</th>\n",
              "      <th>train_loss</th>\n",
              "      <th>valid_loss</th>\n",
              "      <th>accuracy</th>\n",
              "      <th>time</th>\n",
              "    </tr>\n",
              "  </thead>\n",
              "  <tbody>\n",
              "    <tr>\n",
              "      <td>0</td>\n",
              "      <td>1.424356</td>\n",
              "      <td>1.234510</td>\n",
              "      <td>0.692613</td>\n",
              "      <td>09:48</td>\n",
              "    </tr>\n",
              "    <tr>\n",
              "      <td>1</td>\n",
              "      <td>1.262495</td>\n",
              "      <td>1.176599</td>\n",
              "      <td>0.706928</td>\n",
              "      <td>10:03</td>\n",
              "    </tr>\n",
              "    <tr>\n",
              "      <td>2</td>\n",
              "      <td>1.264239</td>\n",
              "      <td>1.144952</td>\n",
              "      <td>0.714866</td>\n",
              "      <td>09:53</td>\n",
              "    </tr>\n",
              "    <tr>\n",
              "      <td>3</td>\n",
              "      <td>1.083277</td>\n",
              "      <td>1.133738</td>\n",
              "      <td>0.716390</td>\n",
              "      <td>10:22</td>\n",
              "    </tr>\n",
              "  </tbody>\n",
              "</table>"
            ],
            "text/plain": [
              "<IPython.core.display.HTML object>"
            ]
          },
          "metadata": {
            "tags": []
          }
        }
      ]
    },
    {
      "cell_type": "code",
      "metadata": {
        "id": "K5Y8Co97wT9-",
        "colab_type": "code",
        "colab": {
          "base_uri": "https://localhost:8080/",
          "height": 235
        },
        "outputId": "829cb02b-fb9c-442c-83e6-27c570e2b299"
      },
      "source": [
        "learn_clas_fwd.fit_one_cycle(6, 1e-3, moms=(0.8,0.7))"
      ],
      "execution_count": 40,
      "outputs": [
        {
          "output_type": "display_data",
          "data": {
            "text/html": [
              "<table border=\"1\" class=\"dataframe\">\n",
              "  <thead>\n",
              "    <tr style=\"text-align: left;\">\n",
              "      <th>epoch</th>\n",
              "      <th>train_loss</th>\n",
              "      <th>valid_loss</th>\n",
              "      <th>accuracy</th>\n",
              "      <th>time</th>\n",
              "    </tr>\n",
              "  </thead>\n",
              "  <tbody>\n",
              "    <tr>\n",
              "      <td>0</td>\n",
              "      <td>1.174745</td>\n",
              "      <td>1.109200</td>\n",
              "      <td>0.724610</td>\n",
              "      <td>09:10</td>\n",
              "    </tr>\n",
              "    <tr>\n",
              "      <td>1</td>\n",
              "      <td>1.091042</td>\n",
              "      <td>1.077634</td>\n",
              "      <td>0.731156</td>\n",
              "      <td>10:30</td>\n",
              "    </tr>\n",
              "    <tr>\n",
              "      <td>2</td>\n",
              "      <td>0.928951</td>\n",
              "      <td>0.978015</td>\n",
              "      <td>0.759410</td>\n",
              "      <td>09:43</td>\n",
              "    </tr>\n",
              "    <tr>\n",
              "      <td>3</td>\n",
              "      <td>0.775227</td>\n",
              "      <td>0.892272</td>\n",
              "      <td>0.786592</td>\n",
              "      <td>08:50</td>\n",
              "    </tr>\n",
              "    <tr>\n",
              "      <td>4</td>\n",
              "      <td>0.606248</td>\n",
              "      <td>0.836694</td>\n",
              "      <td>0.811836</td>\n",
              "      <td>10:20</td>\n",
              "    </tr>\n",
              "    <tr>\n",
              "      <td>5</td>\n",
              "      <td>0.520911</td>\n",
              "      <td>0.834858</td>\n",
              "      <td>0.816200</td>\n",
              "      <td>09:43</td>\n",
              "    </tr>\n",
              "  </tbody>\n",
              "</table>"
            ],
            "text/plain": [
              "<IPython.core.display.HTML object>"
            ]
          },
          "metadata": {
            "tags": []
          }
        }
      ]
    },
    {
      "cell_type": "code",
      "metadata": {
        "id": "ESnKJBQa-Eu3",
        "colab_type": "code",
        "colab": {
          "base_uri": "https://localhost:8080/",
          "height": 111
        },
        "outputId": "4c878078-b497-4a68-b5d8-ad8dbe3a19e4"
      },
      "source": [
        "learn_clas_fwd.fit_one_cycle(2, 1e-3, moms=(0.8,0.7))"
      ],
      "execution_count": 41,
      "outputs": [
        {
          "output_type": "display_data",
          "data": {
            "text/html": [
              "<table border=\"1\" class=\"dataframe\">\n",
              "  <thead>\n",
              "    <tr style=\"text-align: left;\">\n",
              "      <th>epoch</th>\n",
              "      <th>train_loss</th>\n",
              "      <th>valid_loss</th>\n",
              "      <th>accuracy</th>\n",
              "      <th>time</th>\n",
              "    </tr>\n",
              "  </thead>\n",
              "  <tbody>\n",
              "    <tr>\n",
              "      <td>0</td>\n",
              "      <td>0.664672</td>\n",
              "      <td>0.892523</td>\n",
              "      <td>0.796881</td>\n",
              "      <td>09:41</td>\n",
              "    </tr>\n",
              "    <tr>\n",
              "      <td>1</td>\n",
              "      <td>0.543265</td>\n",
              "      <td>0.821861</td>\n",
              "      <td>0.823367</td>\n",
              "      <td>09:23</td>\n",
              "    </tr>\n",
              "  </tbody>\n",
              "</table>"
            ],
            "text/plain": [
              "<IPython.core.display.HTML object>"
            ]
          },
          "metadata": {
            "tags": []
          }
        }
      ]
    },
    {
      "cell_type": "code",
      "metadata": {
        "id": "6yUqg2wXCmyh",
        "colab_type": "code",
        "colab": {
          "base_uri": "https://localhost:8080/",
          "height": 111
        },
        "outputId": "a6f0d485-8a10-4d49-9dd6-afde443ff3fb"
      },
      "source": [
        "learn_clas_fwd.fit_one_cycle(2, 1e-3, moms=(0.8,0.7))"
      ],
      "execution_count": 42,
      "outputs": [
        {
          "output_type": "display_data",
          "data": {
            "text/html": [
              "<table border=\"1\" class=\"dataframe\">\n",
              "  <thead>\n",
              "    <tr style=\"text-align: left;\">\n",
              "      <th>epoch</th>\n",
              "      <th>train_loss</th>\n",
              "      <th>valid_loss</th>\n",
              "      <th>accuracy</th>\n",
              "      <th>time</th>\n",
              "    </tr>\n",
              "  </thead>\n",
              "  <tbody>\n",
              "    <tr>\n",
              "      <td>0</td>\n",
              "      <td>0.649799</td>\n",
              "      <td>0.863744</td>\n",
              "      <td>0.810575</td>\n",
              "      <td>09:25</td>\n",
              "    </tr>\n",
              "    <tr>\n",
              "      <td>1</td>\n",
              "      <td>0.501957</td>\n",
              "      <td>0.800210</td>\n",
              "      <td>0.834653</td>\n",
              "      <td>09:46</td>\n",
              "    </tr>\n",
              "  </tbody>\n",
              "</table>"
            ],
            "text/plain": [
              "<IPython.core.display.HTML object>"
            ]
          },
          "metadata": {
            "tags": []
          }
        }
      ]
    },
    {
      "cell_type": "code",
      "metadata": {
        "id": "0GSexu49reyl",
        "colab_type": "code",
        "colab": {}
      },
      "source": [
        "#Export the Learned Model\n",
        "learn_clas_fwd.export('/content/drive/My Drive/Projects/AnalyticsHackathon/learned_classifer_try_2_fwd.pkl')"
      ],
      "execution_count": 0,
      "outputs": []
    },
    {
      "cell_type": "code",
      "metadata": {
        "id": "LWM_oSYHHraa",
        "colab_type": "code",
        "outputId": "2adf46cc-2458-48de-a5d1-09c2c5090cf4",
        "colab": {
          "base_uri": "https://localhost:8080/",
          "height": 279
        }
      },
      "source": [
        "#Plot the curves for classifer model - should be done\n",
        "learn_clas_fwd.recorder.plot_losses()"
      ],
      "execution_count": 44,
      "outputs": [
        {
          "output_type": "display_data",
          "data": {
            "image/png": "[encoded data removed]",
            "text/plain": [
              "<Figure size 432x288 with 1 Axes>"
            ]
          },
          "metadata": {
            "tags": []
          }
        }
      ]
    },
    {
      "cell_type": "code",
      "metadata": {
        "id": "c9SwezA7jzRq",
        "colab_type": "code",
        "colab": {
          "base_uri": "https://localhost:8080/",
          "height": 733
        },
        "outputId": "c02b1980-d9f4-47f1-8dbd-bea1ef84ecc5"
      },
      "source": [
        "#Show Results: Acutal and Predicted \n",
        "learn_clas_fwd.show_results(rows=10 )\n"
      ],
      "execution_count": 45,
      "outputs": [
        {
          "output_type": "display_data",
          "data": {
            "text/html": [
              "<table border=\"1\" class=\"dataframe\">\n",
              "  <thead>\n",
              "    <tr style=\"text-align: right;\">\n",
              "      <th>text</th>\n",
              "      <th>target</th>\n",
              "      <th>prediction</th>\n",
              "    </tr>\n",
              "  </thead>\n",
              "  <tbody>\n",
              "    <tr>\n",
              "      <td>xxbos \" i do n’t find a lot of positive stories about antidepressants , or i find stories where people are taking the antidepressant the wrong way . \\r \\n \\r \\n  i wanted to share my experience . a positive one . \\r \\n \\r \\n  i ’ve had generalized anxiety disorder , xxup severe xxup ocd , and panic disorder for as long as i can</td>\n",
              "      <td>Obsessive Compulsive Disorde</td>\n",
              "      <td>Obsessive Compulsive Disorde</td>\n",
              "    </tr>\n",
              "    <tr>\n",
              "      <td>xxbos \" • \\t 19 xxmaj apr. 2016 \\r\\r \\n \\r\\r \\n  xxmaj began initial dose at xxunk hours . xxmaj felt the medicine working within a ½ hour . xxmaj was in a good mood as i had been taken off of xxmaj warfarin this date . xxmaj before drifting off to sleep , i xxunk at the clock . xxmaj it was approx . xxunk hrs .</td>\n",
              "      <td>Depression</td>\n",
              "      <td>Constipation</td>\n",
              "    </tr>\n",
              "    <tr>\n",
              "      <td>xxbos \" xxmaj my personal experience with suboxone is good so far . i have been on prescribed xxmaj fentanyl xxmaj patch 25 much / 48 hrs . i have dropped to this dose over the last year . ( i also left the old patch on ) . i have been on opiates for 12 years full time prescribed . xxmaj at my highest prescription i was using 180</td>\n",
              "      <td>Opiate Dependence</td>\n",
              "      <td>Opiate Dependence</td>\n",
              "    </tr>\n",
              "    <tr>\n",
              "      <td>xxbos \" xxmaj my personal experience with suboxone is good so far . i have been on prescribed xxmaj fentanyl xxmaj patch 25 much / 48 hrs . i have dropped to this dose over the last year . ( i also left the old patch on ) . i have been on opiates for 12 years full time prescribed . xxmaj at my highest prescription i was using 180</td>\n",
              "      <td>Opiate Dependence</td>\n",
              "      <td>Opiate Dependence</td>\n",
              "    </tr>\n",
              "    <tr>\n",
              "      <td>xxbos \" xxmaj my colonoscopy was booked in for late afternoon on a xxmaj thursday . xxmaj the hospital said to stop eating anything from 1 pm on the xxmaj wednesday and recommended ( giving some detail ) a non fibre diet from xxmaj tuesday evening until xxmaj wednesday noon - avoiding dark drinks and jelly ( like xxunk flavour ) . xxmaj avoid red meat , sausages and pies</td>\n",
              "      <td>Bowel Preparation</td>\n",
              "      <td>Bowel Preparation</td>\n",
              "    </tr>\n",
              "    <tr>\n",
              "      <td>xxbos \" xxmaj holy xxunk xxmaj batman it worked ! xxmaj but boy it was a xxmaj journey lol for 4 days i had n't pooped ! i had already taken laxatives , stool softener , a bucket of prunes , fiber pills , other fiber pills and still no poop over the last 4 days ! xxmaj so i called friend that has xxmaj gastroparesis and asked her what</td>\n",
              "      <td>Constipation</td>\n",
              "      <td>Constipation</td>\n",
              "    </tr>\n",
              "    <tr>\n",
              "      <td>xxbos \" i just started this medicine 3 days ago and i can not express how much of an effect it has had on me already . i just graduated high school and became depressed soon after , severe anxiety where i could n't go out to eat without having to vomit . i also could n't keep focus on anything , especially when trying to talk to people ,</td>\n",
              "      <td>Depression</td>\n",
              "      <td>Depression</td>\n",
              "    </tr>\n",
              "    <tr>\n",
              "      <td>xxbos \" i felt compelled to write a review , as i was on topamax ( or should i say dopamax ? ! ) for about 2 years . i started this medication when i was 21 and was so desperate to find something that would actually help my on - going migraines . xxmaj personally , the side effect symptoms xxup far outweighed the benefits . i started out</td>\n",
              "      <td>Migraine Prevention</td>\n",
              "      <td>Migraine Prevention</td>\n",
              "    </tr>\n",
              "    <tr>\n",
              "      <td>xxbos \" i have dealt with ups and downs , anxiety , social anxiety , depression etc . etc . for years . xxmaj my life overall is normal and i managed the episodes but i always knew they were there and did n't like feeling that way . i am married we have children combine that with everything else and it times it was just too much . xxmaj</td>\n",
              "      <td>Social Anxiety Disorde</td>\n",
              "      <td>Social Anxiety Disorde</td>\n",
              "    </tr>\n",
              "    <tr>\n",
              "      <td>xxbos \" xxmaj yes , this medication works . xxmaj it works very well for chronic anxiety disorder and sudden xxunk of severe panic attacks . xxmaj knowing what i know now , i wish with all my being it had never ever been prescribed to me , and without the absurd xxunk dozens of practitioners have portrayed . \\r\\r \\n  i 'm 32 and have been prescribed clonazopam</td>\n",
              "      <td>Anxiety</td>\n",
              "      <td>Anxiety</td>\n",
              "    </tr>\n",
              "  </tbody>\n",
              "</table>"
            ],
            "text/plain": [
              "<IPython.core.display.HTML object>"
            ]
          },
          "metadata": {
            "tags": []
          }
        }
      ]
    },
    {
      "cell_type": "markdown",
      "metadata": {
        "id": "Ut2zGNy0KfNP",
        "colab_type": "text"
      },
      "source": [
        "#Train backward classifer"
      ]
    },
    {
      "cell_type": "code",
      "metadata": {
        "id": "JtPaQv2nMvVR",
        "colab_type": "code",
        "colab": {}
      },
      "source": [
        "data_clas_bwd = load_data(path, 'data_clas.pkl', bs=32, backwards=True)"
      ],
      "execution_count": 0,
      "outputs": []
    },
    {
      "cell_type": "code",
      "metadata": {
        "id": "dfc45WwIKi9e",
        "colab_type": "code",
        "outputId": "c3f78260-59cd-44b0-b59c-4467f77b4f20",
        "colab": {
          "base_uri": "https://localhost:8080/",
          "height": 1000
        }
      },
      "source": [
        "learn_clas_bwd = text_classifier_learner(data_clas_bwd, AWD_LSTM, drop_mult=0.5, pretrained=False)\n",
        "learn_clas_bwd.load_encoder('bwd_enc')"
      ],
      "execution_count": 55,
      "outputs": [
        {
          "output_type": "execute_result",
          "data": {
            "text/plain": [
              "RNNLearner(data=TextClasDataBunch;\n",
              "\n",
              "Train: LabelList (159079 items)\n",
              "x: TextList\n",
              "xxbos \" xxmaj it has no side effect , i take it in combination of xxmaj bystolic 5 xxmaj mg and xxmaj fish xxmaj oil \",xxbos \" xxmaj my son is halfway through his fourth week of xxmaj intuniv . xxmaj we became concerned when he began this last week , when he started taking the highest dose he will be on . xxmaj for two days , he could hardly get out of bed , was very cranky , and slept for nearly 8 hours on a drive home from school vacation ( very unusual for him . ) i called his doctor on xxmaj monday morning and she said to stick it out a few days . xxmaj see how he did at school , and with getting up in the morning . xxmaj the last two days have been problem free . xxmaj he is xxup much more agreeable than ever . xxmaj he is less emotional ( a good thing ) , less cranky . xxmaj he is remembering all the things he should . xxmaj overall his behavior is better . \n",
              " \n",
              "  xxmaj we have tried many different medications and so far this is the most effective . \",xxbos \" i used to take another oral contraceptive , which had 21 pill cycle , and was very happy- very light periods , max 5 days , no other side effects . xxmaj but it contained hormone xxunk , which is not available in xxup us , so i switched to xxmaj lybrel , because the ingredients are similar . xxmaj when my other pills ended , i started xxmaj lybrel immediately , on my first day of period , as the instructions said . xxmaj and the period lasted for two weeks . xxmaj when taking the second pack- same two weeks . xxmaj and now , with third pack things got even worse- my third period lasted for two weeks and now it 's the end of the third week- i still have daily brown discharge . \n",
              " \n",
              "  xxmaj the positive side is that i did n't have any other side effects . xxmaj the idea of being period free was so tempting ... xxmaj alas . \",xxbos \" xxmaj this is my first time using any form of birth control . i 'm glad i went with the patch , i have been on it for 8 months . xxmaj at first xxmaj it decreased my libido but that subsided . xxmaj the only downside is that it made my periods longer ( 5 - 6 days to be exact ) i used to only have periods for 3 - 4 days max also made my cramps intense for the first two days of my period , i never had cramps before using birth control . xxmaj other than that in happy with the patch \",xxbos \" xxmaj suboxone has completely turned my life around . i feel healthier , i 'm excelling at my job and i always have money in my pocket and my savings account . i had none of those before xxmaj suboxone and spent years abusing oxycontin . xxmaj my paycheck was already spent by the time i got it and i started resorting to scheming and stealing to fund my addiction . xxmaj all that is history . xxmaj if you 're ready to stop , there 's a good chance that suboxone will put you on the path of great life again . i have found the side - effects to be minimal compared to oxycontin . i 'm actually sleeping better . xxmaj slight constipation is about it for me . xxmaj it truly is amazing . xxmaj the cost pales in comparison to what i spent on oxycontin . \"\n",
              "y: CategoryList\n",
              "Left Ventricular Dysfunction,ADHD,Birth Control,Birth Control,Opiate Dependence\n",
              "Path: .;\n",
              "\n",
              "Valid: LabelList (53161 items)\n",
              "x: TextList\n",
              "xxbos \" i 've tried a few antidepressants over the years ( citalopram , fluoxetine , amitriptyline ) , but none of those helped with my depression , insomnia & anxiety . xxmaj my doctor suggested and changed me onto 45 mg mirtazapine and this medicine has saved my life . xxmaj thankfully i have had no side effects especially the most common - weight gain , i 've actually lost alot of weight . i still have suicidal thoughts but mirtazapine has saved me . \",xxbos \" xxmaj my son has xxmaj crohn 's disease and has done very well on the xxmaj asacol . xxmaj he has no complaints and shows no side effects . xxmaj he has taken as many as nine tablets per day at one time . i 've been very happy with the results , reducing his bouts of diarrhea drastically . \",xxbos \" xxmaj quick reduction of symptoms \",xxbos \" xxmaj contrave combines drugs that were used for alcohol , smoking , and opioid cessation . xxmaj people lose weight on it because it also helps control over - eating . i have no doubt that most obesity is caused from sugar / carb addiction , which is just as powerful as any drug . i have been taking it for five days , and the good news is , it seems to go to work immediately . i feel hungry before i want food now . i really do n't care to eat ; it 's just to fill my stomach . xxmaj since i have only been on it a few days , i do n't know if i 've lost weight ( i do n't have a scale ) , but my clothes do feel a little looser , so maybe a pound or two . i 'm hoping that after a few months on this medication , i will develop healthier habits that i can continue without the aid of xxmaj contrave . \",xxbos \" i have been on this birth control for one cycle . xxmaj after reading some of the reviews on this type and similar birth controls i was a bit apprehensive to start . i m giving this birth control a 9 out of 10 as i have not been on it long enough for a 10 . xxmaj so far i love this birth control ! xxmaj my side effects have been so minimal its like i m not even on birth control ! i have experienced mild headaches here and there and some nausea but other than that i ve been feeling great ! i got my period on cue on the third day of the inactive pills and i had no idea it was coming because i had zero pms ! xxmaj my period was very light and i barely had any cramping ! i had unprotected sex the first month and obviously did n't get pregnant so i 'm very pleased ! xxmaj highly recommend \"\n",
              "y: CategoryList\n",
              "Depression,Crohn's Disease, Maintenance,Urinary Tract Infection,Weight Loss,Birth Control\n",
              "Path: .;\n",
              "\n",
              "Test: None, model=SequentialRNN(\n",
              "  (0): MultiBatchEncoder(\n",
              "    (module): AWD_LSTM(\n",
              "      (encoder): Embedding(26448, 400, padding_idx=1)\n",
              "      (encoder_dp): EmbeddingDropout(\n",
              "        (emb): Embedding(26448, 400, padding_idx=1)\n",
              "      )\n",
              "      (rnns): ModuleList(\n",
              "        (0): WeightDropout(\n",
              "          (module): LSTM(400, 1152, batch_first=True)\n",
              "        )\n",
              "        (1): WeightDropout(\n",
              "          (module): LSTM(1152, 1152, batch_first=True)\n",
              "        )\n",
              "        (2): WeightDropout(\n",
              "          (module): LSTM(1152, 400, batch_first=True)\n",
              "        )\n",
              "      )\n",
              "      (input_dp): RNNDropout()\n",
              "      (hidden_dps): ModuleList(\n",
              "        (0): RNNDropout()\n",
              "        (1): RNNDropout()\n",
              "        (2): RNNDropout()\n",
              "      )\n",
              "    )\n",
              "  )\n",
              "  (1): PoolingLinearClassifier(\n",
              "    (layers): Sequential(\n",
              "      (0): BatchNorm1d(1200, eps=1e-05, momentum=0.1, affine=True, track_running_stats=True)\n",
              "      (1): Dropout(p=0.2, inplace=False)\n",
              "      (2): Linear(in_features=1200, out_features=50, bias=True)\n",
              "      (3): ReLU(inplace=True)\n",
              "      (4): BatchNorm1d(50, eps=1e-05, momentum=0.1, affine=True, track_running_stats=True)\n",
              "      (5): Dropout(p=0.1, inplace=False)\n",
              "      (6): Linear(in_features=50, out_features=639, bias=True)\n",
              "    )\n",
              "  )\n",
              "), opt_func=functools.partial(<class 'torch.optim.adam.Adam'>, betas=(0.9, 0.99)), loss_func=FlattenedLoss of CrossEntropyLoss(), metrics=[<function accuracy at 0x7f5fd0bd22f0>], true_wd=True, bn_wd=True, wd=0.01, train_bn=True, path=PosixPath('.'), model_dir='models', callback_fns=[functools.partial(<class 'fastai.basic_train.Recorder'>, add_time=True, silent=False)], callbacks=[RNNTrainer\n",
              "learn: RNNLearner(data=TextClasDataBunch;\n",
              "\n",
              "Train: LabelList (159079 items)\n",
              "x: TextList\n",
              "xxbos \" xxmaj it has no side effect , i take it in combination of xxmaj bystolic 5 xxmaj mg and xxmaj fish xxmaj oil \",xxbos \" xxmaj my son is halfway through his fourth week of xxmaj intuniv . xxmaj we became concerned when he began this last week , when he started taking the highest dose he will be on . xxmaj for two days , he could hardly get out of bed , was very cranky , and slept for nearly 8 hours on a drive home from school vacation ( very unusual for him . ) i called his doctor on xxmaj monday morning and she said to stick it out a few days . xxmaj see how he did at school , and with getting up in the morning . xxmaj the last two days have been problem free . xxmaj he is xxup much more agreeable than ever . xxmaj he is less emotional ( a good thing ) , less cranky . xxmaj he is remembering all the things he should . xxmaj overall his behavior is better . \n",
              " \n",
              "  xxmaj we have tried many different medications and so far this is the most effective . \",xxbos \" i used to take another oral contraceptive , which had 21 pill cycle , and was very happy- very light periods , max 5 days , no other side effects . xxmaj but it contained hormone xxunk , which is not available in xxup us , so i switched to xxmaj lybrel , because the ingredients are similar . xxmaj when my other pills ended , i started xxmaj lybrel immediately , on my first day of period , as the instructions said . xxmaj and the period lasted for two weeks . xxmaj when taking the second pack- same two weeks . xxmaj and now , with third pack things got even worse- my third period lasted for two weeks and now it 's the end of the third week- i still have daily brown discharge . \n",
              " \n",
              "  xxmaj the positive side is that i did n't have any other side effects . xxmaj the idea of being period free was so tempting ... xxmaj alas . \",xxbos \" xxmaj this is my first time using any form of birth control . i 'm glad i went with the patch , i have been on it for 8 months . xxmaj at first xxmaj it decreased my libido but that subsided . xxmaj the only downside is that it made my periods longer ( 5 - 6 days to be exact ) i used to only have periods for 3 - 4 days max also made my cramps intense for the first two days of my period , i never had cramps before using birth control . xxmaj other than that in happy with the patch \",xxbos \" xxmaj suboxone has completely turned my life around . i feel healthier , i 'm excelling at my job and i always have money in my pocket and my savings account . i had none of those before xxmaj suboxone and spent years abusing oxycontin . xxmaj my paycheck was already spent by the time i got it and i started resorting to scheming and stealing to fund my addiction . xxmaj all that is history . xxmaj if you 're ready to stop , there 's a good chance that suboxone will put you on the path of great life again . i have found the side - effects to be minimal compared to oxycontin . i 'm actually sleeping better . xxmaj slight constipation is about it for me . xxmaj it truly is amazing . xxmaj the cost pales in comparison to what i spent on oxycontin . \"\n",
              "y: CategoryList\n",
              "Left Ventricular Dysfunction,ADHD,Birth Control,Birth Control,Opiate Dependence\n",
              "Path: .;\n",
              "\n",
              "Valid: LabelList (53161 items)\n",
              "x: TextList\n",
              "xxbos \" i 've tried a few antidepressants over the years ( citalopram , fluoxetine , amitriptyline ) , but none of those helped with my depression , insomnia & anxiety . xxmaj my doctor suggested and changed me onto 45 mg mirtazapine and this medicine has saved my life . xxmaj thankfully i have had no side effects especially the most common - weight gain , i 've actually lost alot of weight . i still have suicidal thoughts but mirtazapine has saved me . \",xxbos \" xxmaj my son has xxmaj crohn 's disease and has done very well on the xxmaj asacol . xxmaj he has no complaints and shows no side effects . xxmaj he has taken as many as nine tablets per day at one time . i 've been very happy with the results , reducing his bouts of diarrhea drastically . \",xxbos \" xxmaj quick reduction of symptoms \",xxbos \" xxmaj contrave combines drugs that were used for alcohol , smoking , and opioid cessation . xxmaj people lose weight on it because it also helps control over - eating . i have no doubt that most obesity is caused from sugar / carb addiction , which is just as powerful as any drug . i have been taking it for five days , and the good news is , it seems to go to work immediately . i feel hungry before i want food now . i really do n't care to eat ; it 's just to fill my stomach . xxmaj since i have only been on it a few days , i do n't know if i 've lost weight ( i do n't have a scale ) , but my clothes do feel a little looser , so maybe a pound or two . i 'm hoping that after a few months on this medication , i will develop healthier habits that i can continue without the aid of xxmaj contrave . \",xxbos \" i have been on this birth control for one cycle . xxmaj after reading some of the reviews on this type and similar birth controls i was a bit apprehensive to start . i m giving this birth control a 9 out of 10 as i have not been on it long enough for a 10 . xxmaj so far i love this birth control ! xxmaj my side effects have been so minimal its like i m not even on birth control ! i have experienced mild headaches here and there and some nausea but other than that i ve been feeling great ! i got my period on cue on the third day of the inactive pills and i had no idea it was coming because i had zero pms ! xxmaj my period was very light and i barely had any cramping ! i had unprotected sex the first month and obviously did n't get pregnant so i 'm very pleased ! xxmaj highly recommend \"\n",
              "y: CategoryList\n",
              "Depression,Crohn's Disease, Maintenance,Urinary Tract Infection,Weight Loss,Birth Control\n",
              "Path: .;\n",
              "\n",
              "Test: None, model=SequentialRNN(\n",
              "  (0): MultiBatchEncoder(\n",
              "    (module): AWD_LSTM(\n",
              "      (encoder): Embedding(26448, 400, padding_idx=1)\n",
              "      (encoder_dp): EmbeddingDropout(\n",
              "        (emb): Embedding(26448, 400, padding_idx=1)\n",
              "      )\n",
              "      (rnns): ModuleList(\n",
              "        (0): WeightDropout(\n",
              "          (module): LSTM(400, 1152, batch_first=True)\n",
              "        )\n",
              "        (1): WeightDropout(\n",
              "          (module): LSTM(1152, 1152, batch_first=True)\n",
              "        )\n",
              "        (2): WeightDropout(\n",
              "          (module): LSTM(1152, 400, batch_first=True)\n",
              "        )\n",
              "      )\n",
              "      (input_dp): RNNDropout()\n",
              "      (hidden_dps): ModuleList(\n",
              "        (0): RNNDropout()\n",
              "        (1): RNNDropout()\n",
              "        (2): RNNDropout()\n",
              "      )\n",
              "    )\n",
              "  )\n",
              "  (1): PoolingLinearClassifier(\n",
              "    (layers): Sequential(\n",
              "      (0): BatchNorm1d(1200, eps=1e-05, momentum=0.1, affine=True, track_running_stats=True)\n",
              "      (1): Dropout(p=0.2, inplace=False)\n",
              "      (2): Linear(in_features=1200, out_features=50, bias=True)\n",
              "      (3): ReLU(inplace=True)\n",
              "      (4): BatchNorm1d(50, eps=1e-05, momentum=0.1, affine=True, track_running_stats=True)\n",
              "      (5): Dropout(p=0.1, inplace=False)\n",
              "      (6): Linear(in_features=50, out_features=639, bias=True)\n",
              "    )\n",
              "  )\n",
              "), opt_func=functools.partial(<class 'torch.optim.adam.Adam'>, betas=(0.9, 0.99)), loss_func=FlattenedLoss of CrossEntropyLoss(), metrics=[<function accuracy at 0x7f5fd0bd22f0>], true_wd=True, bn_wd=True, wd=0.01, train_bn=True, path=PosixPath('.'), model_dir='models', callback_fns=[functools.partial(<class 'fastai.basic_train.Recorder'>, add_time=True, silent=False)], callbacks=[...], layer_groups=[Sequential(\n",
              "  (0): Embedding(26448, 400, padding_idx=1)\n",
              "  (1): EmbeddingDropout(\n",
              "    (emb): Embedding(26448, 400, padding_idx=1)\n",
              "  )\n",
              "), Sequential(\n",
              "  (0): WeightDropout(\n",
              "    (module): LSTM(400, 1152, batch_first=True)\n",
              "  )\n",
              "  (1): RNNDropout()\n",
              "), Sequential(\n",
              "  (0): WeightDropout(\n",
              "    (module): LSTM(1152, 1152, batch_first=True)\n",
              "  )\n",
              "  (1): RNNDropout()\n",
              "), Sequential(\n",
              "  (0): WeightDropout(\n",
              "    (module): LSTM(1152, 400, batch_first=True)\n",
              "  )\n",
              "  (1): RNNDropout()\n",
              "), Sequential(\n",
              "  (0): PoolingLinearClassifier(\n",
              "    (layers): Sequential(\n",
              "      (0): BatchNorm1d(1200, eps=1e-05, momentum=0.1, affine=True, track_running_stats=True)\n",
              "      (1): Dropout(p=0.2, inplace=False)\n",
              "      (2): Linear(in_features=1200, out_features=50, bias=True)\n",
              "      (3): ReLU(inplace=True)\n",
              "      (4): BatchNorm1d(50, eps=1e-05, momentum=0.1, affine=True, track_running_stats=True)\n",
              "      (5): Dropout(p=0.1, inplace=False)\n",
              "      (6): Linear(in_features=50, out_features=639, bias=True)\n",
              "    )\n",
              "  )\n",
              ")], add_time=True, silent=False)\n",
              "alpha: 2.0\n",
              "beta: 1.0], layer_groups=[Sequential(\n",
              "  (0): Embedding(26448, 400, padding_idx=1)\n",
              "  (1): EmbeddingDropout(\n",
              "    (emb): Embedding(26448, 400, padding_idx=1)\n",
              "  )\n",
              "), Sequential(\n",
              "  (0): WeightDropout(\n",
              "    (module): LSTM(400, 1152, batch_first=True)\n",
              "  )\n",
              "  (1): RNNDropout()\n",
              "), Sequential(\n",
              "  (0): WeightDropout(\n",
              "    (module): LSTM(1152, 1152, batch_first=True)\n",
              "  )\n",
              "  (1): RNNDropout()\n",
              "), Sequential(\n",
              "  (0): WeightDropout(\n",
              "    (module): LSTM(1152, 400, batch_first=True)\n",
              "  )\n",
              "  (1): RNNDropout()\n",
              "), Sequential(\n",
              "  (0): PoolingLinearClassifier(\n",
              "    (layers): Sequential(\n",
              "      (0): BatchNorm1d(1200, eps=1e-05, momentum=0.1, affine=True, track_running_stats=True)\n",
              "      (1): Dropout(p=0.2, inplace=False)\n",
              "      (2): Linear(in_features=1200, out_features=50, bias=True)\n",
              "      (3): ReLU(inplace=True)\n",
              "      (4): BatchNorm1d(50, eps=1e-05, momentum=0.1, affine=True, track_running_stats=True)\n",
              "      (5): Dropout(p=0.1, inplace=False)\n",
              "      (6): Linear(in_features=50, out_features=639, bias=True)\n",
              "    )\n",
              "  )\n",
              ")], add_time=True, silent=False)"
            ]
          },
          "metadata": {
            "tags": []
          },
          "execution_count": 55
        }
      ]
    },
    {
      "cell_type": "code",
      "metadata": {
        "id": "aBCmMwCYKz03",
        "colab_type": "code",
        "outputId": "35c7e520-174f-41e8-c558-14364b1e33ed",
        "colab": {
          "base_uri": "https://localhost:8080/",
          "height": 296
        }
      },
      "source": [
        "#find learning rate before starting the training of classifier\n",
        "learn_clas_bwd.lr_find(start_lr=1e-8, end_lr=1e2)\n",
        "learn_clas_bwd.recorder.plot()"
      ],
      "execution_count": 47,
      "outputs": [
        {
          "output_type": "display_data",
          "data": {
            "text/html": [
              ""
            ],
            "text/plain": [
              "<IPython.core.display.HTML object>"
            ]
          },
          "metadata": {
            "tags": []
          }
        },
        {
          "output_type": "stream",
          "text": [
            "LR Finder is complete, type {learner_name}.recorder.plot() to see the graph.\n"
          ],
          "name": "stdout"
        },
        {
          "output_type": "display_data",
          "data": {
            "image/png": "[encoded data removed]",
            "text/plain": [
              "<Figure size 432x288 with 1 Axes>"
            ]
          },
          "metadata": {
            "tags": []
          }
        }
      ]
    },
    {
      "cell_type": "code",
      "metadata": {
        "id": "aqYsAUCDK9eP",
        "colab_type": "code",
        "outputId": "e3a1907a-7ba8-4954-9788-37108b290f13",
        "colab": {
          "base_uri": "https://localhost:8080/",
          "height": 404
        }
      },
      "source": [
        "learn_clas_bwd.fit_one_cycle(1, 1e-3, moms=(0.8, 0.7))"
      ],
      "execution_count": 56,
      "outputs": [
        {
          "output_type": "display_data",
          "data": {
            "text/html": [
              "\n",
              "    <div>\n",
              "        <style>\n",
              "            /* Turns off some styling */\n",
              "            progress {\n",
              "                /* gets rid of default border in Firefox and Opera. */\n",
              "                border: none;\n",
              "                /* Needs to be in here for Safari polyfill so background images work as expected. */\n",
              "                background-size: auto;\n",
              "            }\n",
              "            .progress-bar-interrupted, .progress-bar-interrupted::-webkit-progress-bar {\n",
              "                background: #F44336;\n",
              "            }\n",
              "        </style>\n",
              "      <progress value='0' class='' max='1', style='width:300px; height:20px; vertical-align: middle;'></progress>\n",
              "      0.00% [0/1 00:00<00:00]\n",
              "    </div>\n",
              "    \n",
              "<table border=\"1\" class=\"dataframe\">\n",
              "  <thead>\n",
              "    <tr style=\"text-align: left;\">\n",
              "      <th>epoch</th>\n",
              "      <th>train_loss</th>\n",
              "      <th>valid_loss</th>\n",
              "      <th>accuracy</th>\n",
              "      <th>time</th>\n",
              "    </tr>\n",
              "  </thead>\n",
              "  <tbody>\n",
              "  </tbody>\n",
              "</table><p>\n",
              "\n",
              "    <div>\n",
              "        <style>\n",
              "            /* Turns off some styling */\n",
              "            progress {\n",
              "                /* gets rid of default border in Firefox and Opera. */\n",
              "                border: none;\n",
              "                /* Needs to be in here for Safari polyfill so background images work as expected. */\n",
              "                background-size: auto;\n",
              "            }\n",
              "            .progress-bar-interrupted, .progress-bar-interrupted::-webkit-progress-bar {\n",
              "                background: #F44336;\n",
              "            }\n",
              "        </style>\n",
              "      <progress value='0' class='progress-bar-interrupted' max='4971', style='width:300px; height:20px; vertical-align: middle;'></progress>\n",
              "      Interrupted\n",
              "    </div>\n",
              "    "
            ],
            "text/plain": [
              "<IPython.core.display.HTML object>"
            ]
          },
          "metadata": {
            "tags": []
          }
        },
        {
          "output_type": "error",
          "ename": "RuntimeError",
          "evalue": "ignored",
          "traceback": [
            "\u001b[0;31m---------------------------------------------------------------------------\u001b[0m",
            "\u001b[0;31mRuntimeError\u001b[0m                              Traceback (most recent call last)",
            "\u001b[0;32m<ipython-input-56-dfbb2338579d>\u001b[0m in \u001b[0;36m<module>\u001b[0;34m()\u001b[0m\n\u001b[0;32m----> 1\u001b[0;31m \u001b[0mlearn_clas_bwd\u001b[0m\u001b[0;34m.\u001b[0m\u001b[0mfit_one_cycle\u001b[0m\u001b[0;34m(\u001b[0m\u001b[0;36m1\u001b[0m\u001b[0;34m,\u001b[0m \u001b[0;36m1e-3\u001b[0m\u001b[0;34m,\u001b[0m \u001b[0mmoms\u001b[0m\u001b[0;34m=\u001b[0m\u001b[0;34m(\u001b[0m\u001b[0;36m0.8\u001b[0m\u001b[0;34m,\u001b[0m \u001b[0;36m0.7\u001b[0m\u001b[0;34m)\u001b[0m\u001b[0;34m)\u001b[0m\u001b[0;34m\u001b[0m\u001b[0;34m\u001b[0m\u001b[0m\n\u001b[0m",
            "\u001b[0;32m/usr/local/lib/python3.6/dist-packages/fastai/train.py\u001b[0m in \u001b[0;36mfit_one_cycle\u001b[0;34m(learn, cyc_len, max_lr, moms, div_factor, pct_start, final_div, wd, callbacks, tot_epochs, start_epoch)\u001b[0m\n\u001b[1;32m     21\u001b[0m     callbacks.append(OneCycleScheduler(learn, max_lr, moms=moms, div_factor=div_factor, pct_start=pct_start,\n\u001b[1;32m     22\u001b[0m                                        final_div=final_div, tot_epochs=tot_epochs, start_epoch=start_epoch))\n\u001b[0;32m---> 23\u001b[0;31m     \u001b[0mlearn\u001b[0m\u001b[0;34m.\u001b[0m\u001b[0mfit\u001b[0m\u001b[0;34m(\u001b[0m\u001b[0mcyc_len\u001b[0m\u001b[0;34m,\u001b[0m \u001b[0mmax_lr\u001b[0m\u001b[0;34m,\u001b[0m \u001b[0mwd\u001b[0m\u001b[0;34m=\u001b[0m\u001b[0mwd\u001b[0m\u001b[0;34m,\u001b[0m \u001b[0mcallbacks\u001b[0m\u001b[0;34m=\u001b[0m\u001b[0mcallbacks\u001b[0m\u001b[0;34m)\u001b[0m\u001b[0;34m\u001b[0m\u001b[0;34m\u001b[0m\u001b[0m\n\u001b[0m\u001b[1;32m     24\u001b[0m \u001b[0;34m\u001b[0m\u001b[0m\n\u001b[1;32m     25\u001b[0m def fit_fc(learn:Learner, tot_epochs:int=1, lr:float=defaults.lr,  moms:Tuple[float,float]=(0.95,0.85), start_pct:float=0.72,\n",
            "\u001b[0;32m/usr/local/lib/python3.6/dist-packages/fastai/basic_train.py\u001b[0m in \u001b[0;36mfit\u001b[0;34m(self, epochs, lr, wd, callbacks)\u001b[0m\n\u001b[1;32m    198\u001b[0m         \u001b[0;32melse\u001b[0m\u001b[0;34m:\u001b[0m \u001b[0mself\u001b[0m\u001b[0;34m.\u001b[0m\u001b[0mopt\u001b[0m\u001b[0;34m.\u001b[0m\u001b[0mlr\u001b[0m\u001b[0;34m,\u001b[0m\u001b[0mself\u001b[0m\u001b[0;34m.\u001b[0m\u001b[0mopt\u001b[0m\u001b[0;34m.\u001b[0m\u001b[0mwd\u001b[0m \u001b[0;34m=\u001b[0m \u001b[0mlr\u001b[0m\u001b[0;34m,\u001b[0m\u001b[0mwd\u001b[0m\u001b[0;34m\u001b[0m\u001b[0;34m\u001b[0m\u001b[0m\n\u001b[1;32m    199\u001b[0m         \u001b[0mcallbacks\u001b[0m \u001b[0;34m=\u001b[0m \u001b[0;34m[\u001b[0m\u001b[0mcb\u001b[0m\u001b[0;34m(\u001b[0m\u001b[0mself\u001b[0m\u001b[0;34m)\u001b[0m \u001b[0;32mfor\u001b[0m \u001b[0mcb\u001b[0m \u001b[0;32min\u001b[0m \u001b[0mself\u001b[0m\u001b[0;34m.\u001b[0m\u001b[0mcallback_fns\u001b[0m \u001b[0;34m+\u001b[0m \u001b[0mlistify\u001b[0m\u001b[0;34m(\u001b[0m\u001b[0mdefaults\u001b[0m\u001b[0;34m.\u001b[0m\u001b[0mextra_callback_fns\u001b[0m\u001b[0;34m)\u001b[0m\u001b[0;34m]\u001b[0m \u001b[0;34m+\u001b[0m \u001b[0mlistify\u001b[0m\u001b[0;34m(\u001b[0m\u001b[0mcallbacks\u001b[0m\u001b[0;34m)\u001b[0m\u001b[0;34m\u001b[0m\u001b[0;34m\u001b[0m\u001b[0m\n\u001b[0;32m--> 200\u001b[0;31m         \u001b[0mfit\u001b[0m\u001b[0;34m(\u001b[0m\u001b[0mepochs\u001b[0m\u001b[0;34m,\u001b[0m \u001b[0mself\u001b[0m\u001b[0;34m,\u001b[0m \u001b[0mmetrics\u001b[0m\u001b[0;34m=\u001b[0m\u001b[0mself\u001b[0m\u001b[0;34m.\u001b[0m\u001b[0mmetrics\u001b[0m\u001b[0;34m,\u001b[0m \u001b[0mcallbacks\u001b[0m\u001b[0;34m=\u001b[0m\u001b[0mself\u001b[0m\u001b[0;34m.\u001b[0m\u001b[0mcallbacks\u001b[0m\u001b[0;34m+\u001b[0m\u001b[0mcallbacks\u001b[0m\u001b[0;34m)\u001b[0m\u001b[0;34m\u001b[0m\u001b[0;34m\u001b[0m\u001b[0m\n\u001b[0m\u001b[1;32m    201\u001b[0m \u001b[0;34m\u001b[0m\u001b[0m\n\u001b[1;32m    202\u001b[0m     \u001b[0;32mdef\u001b[0m \u001b[0mcreate_opt\u001b[0m\u001b[0;34m(\u001b[0m\u001b[0mself\u001b[0m\u001b[0;34m,\u001b[0m \u001b[0mlr\u001b[0m\u001b[0;34m:\u001b[0m\u001b[0mFloats\u001b[0m\u001b[0;34m,\u001b[0m \u001b[0mwd\u001b[0m\u001b[0;34m:\u001b[0m\u001b[0mFloats\u001b[0m\u001b[0;34m=\u001b[0m\u001b[0;36m0.\u001b[0m\u001b[0;34m)\u001b[0m\u001b[0;34m->\u001b[0m\u001b[0;32mNone\u001b[0m\u001b[0;34m:\u001b[0m\u001b[0;34m\u001b[0m\u001b[0;34m\u001b[0m\u001b[0m\n",
            "\u001b[0;32m/usr/local/lib/python3.6/dist-packages/fastai/basic_train.py\u001b[0m in \u001b[0;36mfit\u001b[0;34m(epochs, learn, callbacks, metrics)\u001b[0m\n\u001b[1;32m     99\u001b[0m             \u001b[0;32mfor\u001b[0m \u001b[0mxb\u001b[0m\u001b[0;34m,\u001b[0m\u001b[0myb\u001b[0m \u001b[0;32min\u001b[0m \u001b[0mprogress_bar\u001b[0m\u001b[0;34m(\u001b[0m\u001b[0mlearn\u001b[0m\u001b[0;34m.\u001b[0m\u001b[0mdata\u001b[0m\u001b[0;34m.\u001b[0m\u001b[0mtrain_dl\u001b[0m\u001b[0;34m,\u001b[0m \u001b[0mparent\u001b[0m\u001b[0;34m=\u001b[0m\u001b[0mpbar\u001b[0m\u001b[0;34m)\u001b[0m\u001b[0;34m:\u001b[0m\u001b[0;34m\u001b[0m\u001b[0;34m\u001b[0m\u001b[0m\n\u001b[1;32m    100\u001b[0m                 \u001b[0mxb\u001b[0m\u001b[0;34m,\u001b[0m \u001b[0myb\u001b[0m \u001b[0;34m=\u001b[0m \u001b[0mcb_handler\u001b[0m\u001b[0;34m.\u001b[0m\u001b[0mon_batch_begin\u001b[0m\u001b[0;34m(\u001b[0m\u001b[0mxb\u001b[0m\u001b[0;34m,\u001b[0m \u001b[0myb\u001b[0m\u001b[0;34m)\u001b[0m\u001b[0;34m\u001b[0m\u001b[0;34m\u001b[0m\u001b[0m\n\u001b[0;32m--> 101\u001b[0;31m                 \u001b[0mloss\u001b[0m \u001b[0;34m=\u001b[0m \u001b[0mloss_batch\u001b[0m\u001b[0;34m(\u001b[0m\u001b[0mlearn\u001b[0m\u001b[0;34m.\u001b[0m\u001b[0mmodel\u001b[0m\u001b[0;34m,\u001b[0m \u001b[0mxb\u001b[0m\u001b[0;34m,\u001b[0m \u001b[0myb\u001b[0m\u001b[0;34m,\u001b[0m \u001b[0mlearn\u001b[0m\u001b[0;34m.\u001b[0m\u001b[0mloss_func\u001b[0m\u001b[0;34m,\u001b[0m \u001b[0mlearn\u001b[0m\u001b[0;34m.\u001b[0m\u001b[0mopt\u001b[0m\u001b[0;34m,\u001b[0m \u001b[0mcb_handler\u001b[0m\u001b[0;34m)\u001b[0m\u001b[0;34m\u001b[0m\u001b[0;34m\u001b[0m\u001b[0m\n\u001b[0m\u001b[1;32m    102\u001b[0m                 \u001b[0;32mif\u001b[0m \u001b[0mcb_handler\u001b[0m\u001b[0;34m.\u001b[0m\u001b[0mon_batch_end\u001b[0m\u001b[0;34m(\u001b[0m\u001b[0mloss\u001b[0m\u001b[0;34m)\u001b[0m\u001b[0;34m:\u001b[0m \u001b[0;32mbreak\u001b[0m\u001b[0;34m\u001b[0m\u001b[0;34m\u001b[0m\u001b[0m\n\u001b[1;32m    103\u001b[0m \u001b[0;34m\u001b[0m\u001b[0m\n",
            "\u001b[0;32m/usr/local/lib/python3.6/dist-packages/fastai/basic_train.py\u001b[0m in \u001b[0;36mloss_batch\u001b[0;34m(model, xb, yb, loss_func, opt, cb_handler)\u001b[0m\n\u001b[1;32m     24\u001b[0m     \u001b[0;32mif\u001b[0m \u001b[0;32mnot\u001b[0m \u001b[0mis_listy\u001b[0m\u001b[0;34m(\u001b[0m\u001b[0mxb\u001b[0m\u001b[0;34m)\u001b[0m\u001b[0;34m:\u001b[0m \u001b[0mxb\u001b[0m \u001b[0;34m=\u001b[0m \u001b[0;34m[\u001b[0m\u001b[0mxb\u001b[0m\u001b[0;34m]\u001b[0m\u001b[0;34m\u001b[0m\u001b[0;34m\u001b[0m\u001b[0m\n\u001b[1;32m     25\u001b[0m     \u001b[0;32mif\u001b[0m \u001b[0;32mnot\u001b[0m \u001b[0mis_listy\u001b[0m\u001b[0;34m(\u001b[0m\u001b[0myb\u001b[0m\u001b[0;34m)\u001b[0m\u001b[0;34m:\u001b[0m \u001b[0myb\u001b[0m \u001b[0;34m=\u001b[0m \u001b[0;34m[\u001b[0m\u001b[0myb\u001b[0m\u001b[0;34m]\u001b[0m\u001b[0;34m\u001b[0m\u001b[0;34m\u001b[0m\u001b[0m\n\u001b[0;32m---> 26\u001b[0;31m     \u001b[0mout\u001b[0m \u001b[0;34m=\u001b[0m \u001b[0mmodel\u001b[0m\u001b[0;34m(\u001b[0m\u001b[0;34m*\u001b[0m\u001b[0mxb\u001b[0m\u001b[0;34m)\u001b[0m\u001b[0;34m\u001b[0m\u001b[0;34m\u001b[0m\u001b[0m\n\u001b[0m\u001b[1;32m     27\u001b[0m     \u001b[0mout\u001b[0m \u001b[0;34m=\u001b[0m \u001b[0mcb_handler\u001b[0m\u001b[0;34m.\u001b[0m\u001b[0mon_loss_begin\u001b[0m\u001b[0;34m(\u001b[0m\u001b[0mout\u001b[0m\u001b[0;34m)\u001b[0m\u001b[0;34m\u001b[0m\u001b[0;34m\u001b[0m\u001b[0m\n\u001b[1;32m     28\u001b[0m \u001b[0;34m\u001b[0m\u001b[0m\n",
            "\u001b[0;32m/usr/local/lib/python3.6/dist-packages/torch/nn/modules/module.py\u001b[0m in \u001b[0;36m__call__\u001b[0;34m(self, *input, **kwargs)\u001b[0m\n\u001b[1;32m    539\u001b[0m             \u001b[0mresult\u001b[0m \u001b[0;34m=\u001b[0m \u001b[0mself\u001b[0m\u001b[0;34m.\u001b[0m\u001b[0m_slow_forward\u001b[0m\u001b[0;34m(\u001b[0m\u001b[0;34m*\u001b[0m\u001b[0minput\u001b[0m\u001b[0;34m,\u001b[0m \u001b[0;34m**\u001b[0m\u001b[0mkwargs\u001b[0m\u001b[0;34m)\u001b[0m\u001b[0;34m\u001b[0m\u001b[0;34m\u001b[0m\u001b[0m\n\u001b[1;32m    540\u001b[0m         \u001b[0;32melse\u001b[0m\u001b[0;34m:\u001b[0m\u001b[0;34m\u001b[0m\u001b[0;34m\u001b[0m\u001b[0m\n\u001b[0;32m--> 541\u001b[0;31m             \u001b[0mresult\u001b[0m \u001b[0;34m=\u001b[0m \u001b[0mself\u001b[0m\u001b[0;34m.\u001b[0m\u001b[0mforward\u001b[0m\u001b[0;34m(\u001b[0m\u001b[0;34m*\u001b[0m\u001b[0minput\u001b[0m\u001b[0;34m,\u001b[0m \u001b[0;34m**\u001b[0m\u001b[0mkwargs\u001b[0m\u001b[0;34m)\u001b[0m\u001b[0;34m\u001b[0m\u001b[0;34m\u001b[0m\u001b[0m\n\u001b[0m\u001b[1;32m    542\u001b[0m         \u001b[0;32mfor\u001b[0m \u001b[0mhook\u001b[0m \u001b[0;32min\u001b[0m \u001b[0mself\u001b[0m\u001b[0;34m.\u001b[0m\u001b[0m_forward_hooks\u001b[0m\u001b[0;34m.\u001b[0m\u001b[0mvalues\u001b[0m\u001b[0;34m(\u001b[0m\u001b[0;34m)\u001b[0m\u001b[0;34m:\u001b[0m\u001b[0;34m\u001b[0m\u001b[0;34m\u001b[0m\u001b[0m\n\u001b[1;32m    543\u001b[0m             \u001b[0mhook_result\u001b[0m \u001b[0;34m=\u001b[0m \u001b[0mhook\u001b[0m\u001b[0;34m(\u001b[0m\u001b[0mself\u001b[0m\u001b[0;34m,\u001b[0m \u001b[0minput\u001b[0m\u001b[0;34m,\u001b[0m \u001b[0mresult\u001b[0m\u001b[0;34m)\u001b[0m\u001b[0;34m\u001b[0m\u001b[0;34m\u001b[0m\u001b[0m\n",
            "\u001b[0;32m/usr/local/lib/python3.6/dist-packages/torch/nn/modules/container.py\u001b[0m in \u001b[0;36mforward\u001b[0;34m(self, input)\u001b[0m\n\u001b[1;32m     90\u001b[0m     \u001b[0;32mdef\u001b[0m \u001b[0mforward\u001b[0m\u001b[0;34m(\u001b[0m\u001b[0mself\u001b[0m\u001b[0;34m,\u001b[0m \u001b[0minput\u001b[0m\u001b[0;34m)\u001b[0m\u001b[0;34m:\u001b[0m\u001b[0;34m\u001b[0m\u001b[0;34m\u001b[0m\u001b[0m\n\u001b[1;32m     91\u001b[0m         \u001b[0;32mfor\u001b[0m \u001b[0mmodule\u001b[0m \u001b[0;32min\u001b[0m \u001b[0mself\u001b[0m\u001b[0;34m.\u001b[0m\u001b[0m_modules\u001b[0m\u001b[0;34m.\u001b[0m\u001b[0mvalues\u001b[0m\u001b[0;34m(\u001b[0m\u001b[0;34m)\u001b[0m\u001b[0;34m:\u001b[0m\u001b[0;34m\u001b[0m\u001b[0;34m\u001b[0m\u001b[0m\n\u001b[0;32m---> 92\u001b[0;31m             \u001b[0minput\u001b[0m \u001b[0;34m=\u001b[0m \u001b[0mmodule\u001b[0m\u001b[0;34m(\u001b[0m\u001b[0minput\u001b[0m\u001b[0;34m)\u001b[0m\u001b[0;34m\u001b[0m\u001b[0;34m\u001b[0m\u001b[0m\n\u001b[0m\u001b[1;32m     93\u001b[0m         \u001b[0;32mreturn\u001b[0m \u001b[0minput\u001b[0m\u001b[0;34m\u001b[0m\u001b[0;34m\u001b[0m\u001b[0m\n\u001b[1;32m     94\u001b[0m \u001b[0;34m\u001b[0m\u001b[0m\n",
            "\u001b[0;32m/usr/local/lib/python3.6/dist-packages/torch/nn/modules/module.py\u001b[0m in \u001b[0;36m__call__\u001b[0;34m(self, *input, **kwargs)\u001b[0m\n\u001b[1;32m    539\u001b[0m             \u001b[0mresult\u001b[0m \u001b[0;34m=\u001b[0m \u001b[0mself\u001b[0m\u001b[0;34m.\u001b[0m\u001b[0m_slow_forward\u001b[0m\u001b[0;34m(\u001b[0m\u001b[0;34m*\u001b[0m\u001b[0minput\u001b[0m\u001b[0;34m,\u001b[0m \u001b[0;34m**\u001b[0m\u001b[0mkwargs\u001b[0m\u001b[0;34m)\u001b[0m\u001b[0;34m\u001b[0m\u001b[0;34m\u001b[0m\u001b[0m\n\u001b[1;32m    540\u001b[0m         \u001b[0;32melse\u001b[0m\u001b[0;34m:\u001b[0m\u001b[0;34m\u001b[0m\u001b[0;34m\u001b[0m\u001b[0m\n\u001b[0;32m--> 541\u001b[0;31m             \u001b[0mresult\u001b[0m \u001b[0;34m=\u001b[0m \u001b[0mself\u001b[0m\u001b[0;34m.\u001b[0m\u001b[0mforward\u001b[0m\u001b[0;34m(\u001b[0m\u001b[0;34m*\u001b[0m\u001b[0minput\u001b[0m\u001b[0;34m,\u001b[0m \u001b[0;34m**\u001b[0m\u001b[0mkwargs\u001b[0m\u001b[0;34m)\u001b[0m\u001b[0;34m\u001b[0m\u001b[0;34m\u001b[0m\u001b[0m\n\u001b[0m\u001b[1;32m    542\u001b[0m         \u001b[0;32mfor\u001b[0m \u001b[0mhook\u001b[0m \u001b[0;32min\u001b[0m \u001b[0mself\u001b[0m\u001b[0;34m.\u001b[0m\u001b[0m_forward_hooks\u001b[0m\u001b[0;34m.\u001b[0m\u001b[0mvalues\u001b[0m\u001b[0;34m(\u001b[0m\u001b[0;34m)\u001b[0m\u001b[0;34m:\u001b[0m\u001b[0;34m\u001b[0m\u001b[0;34m\u001b[0m\u001b[0m\n\u001b[1;32m    543\u001b[0m             \u001b[0mhook_result\u001b[0m \u001b[0;34m=\u001b[0m \u001b[0mhook\u001b[0m\u001b[0;34m(\u001b[0m\u001b[0mself\u001b[0m\u001b[0;34m,\u001b[0m \u001b[0minput\u001b[0m\u001b[0;34m,\u001b[0m \u001b[0mresult\u001b[0m\u001b[0;34m)\u001b[0m\u001b[0;34m\u001b[0m\u001b[0;34m\u001b[0m\u001b[0m\n",
            "\u001b[0;32m/usr/local/lib/python3.6/dist-packages/fastai/text/learner.py\u001b[0m in \u001b[0;36mforward\u001b[0;34m(self, input)\u001b[0m\n\u001b[1;32m    261\u001b[0m         \u001b[0mraw_outputs\u001b[0m\u001b[0;34m,\u001b[0m\u001b[0moutputs\u001b[0m\u001b[0;34m,\u001b[0m\u001b[0mmasks\u001b[0m \u001b[0;34m=\u001b[0m \u001b[0;34m[\u001b[0m\u001b[0;34m]\u001b[0m\u001b[0;34m,\u001b[0m\u001b[0;34m[\u001b[0m\u001b[0;34m]\u001b[0m\u001b[0;34m,\u001b[0m\u001b[0;34m[\u001b[0m\u001b[0;34m]\u001b[0m\u001b[0;34m\u001b[0m\u001b[0;34m\u001b[0m\u001b[0m\n\u001b[1;32m    262\u001b[0m         \u001b[0;32mfor\u001b[0m \u001b[0mi\u001b[0m \u001b[0;32min\u001b[0m \u001b[0mrange\u001b[0m\u001b[0;34m(\u001b[0m\u001b[0;36m0\u001b[0m\u001b[0;34m,\u001b[0m \u001b[0msl\u001b[0m\u001b[0;34m,\u001b[0m \u001b[0mself\u001b[0m\u001b[0;34m.\u001b[0m\u001b[0mbptt\u001b[0m\u001b[0;34m)\u001b[0m\u001b[0;34m:\u001b[0m\u001b[0;34m\u001b[0m\u001b[0;34m\u001b[0m\u001b[0m\n\u001b[0;32m--> 263\u001b[0;31m             \u001b[0mr\u001b[0m\u001b[0;34m,\u001b[0m \u001b[0mo\u001b[0m \u001b[0;34m=\u001b[0m \u001b[0mself\u001b[0m\u001b[0;34m.\u001b[0m\u001b[0mmodule\u001b[0m\u001b[0;34m(\u001b[0m\u001b[0minput\u001b[0m\u001b[0;34m[\u001b[0m\u001b[0;34m:\u001b[0m\u001b[0;34m,\u001b[0m\u001b[0mi\u001b[0m\u001b[0;34m:\u001b[0m \u001b[0mmin\u001b[0m\u001b[0;34m(\u001b[0m\u001b[0mi\u001b[0m\u001b[0;34m+\u001b[0m\u001b[0mself\u001b[0m\u001b[0;34m.\u001b[0m\u001b[0mbptt\u001b[0m\u001b[0;34m,\u001b[0m \u001b[0msl\u001b[0m\u001b[0;34m)\u001b[0m\u001b[0;34m]\u001b[0m\u001b[0;34m)\u001b[0m\u001b[0;34m\u001b[0m\u001b[0;34m\u001b[0m\u001b[0m\n\u001b[0m\u001b[1;32m    264\u001b[0m             \u001b[0;32mif\u001b[0m \u001b[0mi\u001b[0m\u001b[0;34m>\u001b[0m\u001b[0;34m(\u001b[0m\u001b[0msl\u001b[0m\u001b[0;34m-\u001b[0m\u001b[0mself\u001b[0m\u001b[0;34m.\u001b[0m\u001b[0mmax_len\u001b[0m\u001b[0;34m)\u001b[0m\u001b[0;34m:\u001b[0m\u001b[0;34m\u001b[0m\u001b[0;34m\u001b[0m\u001b[0m\n\u001b[1;32m    265\u001b[0m                 \u001b[0mmasks\u001b[0m\u001b[0;34m.\u001b[0m\u001b[0mappend\u001b[0m\u001b[0;34m(\u001b[0m\u001b[0minput\u001b[0m\u001b[0;34m[\u001b[0m\u001b[0;34m:\u001b[0m\u001b[0;34m,\u001b[0m\u001b[0mi\u001b[0m\u001b[0;34m:\u001b[0m \u001b[0mmin\u001b[0m\u001b[0;34m(\u001b[0m\u001b[0mi\u001b[0m\u001b[0;34m+\u001b[0m\u001b[0mself\u001b[0m\u001b[0;34m.\u001b[0m\u001b[0mbptt\u001b[0m\u001b[0;34m,\u001b[0m \u001b[0msl\u001b[0m\u001b[0;34m)\u001b[0m\u001b[0;34m]\u001b[0m \u001b[0;34m==\u001b[0m \u001b[0mself\u001b[0m\u001b[0;34m.\u001b[0m\u001b[0mpad_idx\u001b[0m\u001b[0;34m)\u001b[0m\u001b[0;34m\u001b[0m\u001b[0;34m\u001b[0m\u001b[0m\n",
            "\u001b[0;32m/usr/local/lib/python3.6/dist-packages/torch/nn/modules/module.py\u001b[0m in \u001b[0;36m__call__\u001b[0;34m(self, *input, **kwargs)\u001b[0m\n\u001b[1;32m    539\u001b[0m             \u001b[0mresult\u001b[0m \u001b[0;34m=\u001b[0m \u001b[0mself\u001b[0m\u001b[0;34m.\u001b[0m\u001b[0m_slow_forward\u001b[0m\u001b[0;34m(\u001b[0m\u001b[0;34m*\u001b[0m\u001b[0minput\u001b[0m\u001b[0;34m,\u001b[0m \u001b[0;34m**\u001b[0m\u001b[0mkwargs\u001b[0m\u001b[0;34m)\u001b[0m\u001b[0;34m\u001b[0m\u001b[0;34m\u001b[0m\u001b[0m\n\u001b[1;32m    540\u001b[0m         \u001b[0;32melse\u001b[0m\u001b[0;34m:\u001b[0m\u001b[0;34m\u001b[0m\u001b[0;34m\u001b[0m\u001b[0m\n\u001b[0;32m--> 541\u001b[0;31m             \u001b[0mresult\u001b[0m \u001b[0;34m=\u001b[0m \u001b[0mself\u001b[0m\u001b[0;34m.\u001b[0m\u001b[0mforward\u001b[0m\u001b[0;34m(\u001b[0m\u001b[0;34m*\u001b[0m\u001b[0minput\u001b[0m\u001b[0;34m,\u001b[0m \u001b[0;34m**\u001b[0m\u001b[0mkwargs\u001b[0m\u001b[0;34m)\u001b[0m\u001b[0;34m\u001b[0m\u001b[0;34m\u001b[0m\u001b[0m\n\u001b[0m\u001b[1;32m    542\u001b[0m         \u001b[0;32mfor\u001b[0m \u001b[0mhook\u001b[0m \u001b[0;32min\u001b[0m \u001b[0mself\u001b[0m\u001b[0;34m.\u001b[0m\u001b[0m_forward_hooks\u001b[0m\u001b[0;34m.\u001b[0m\u001b[0mvalues\u001b[0m\u001b[0;34m(\u001b[0m\u001b[0;34m)\u001b[0m\u001b[0;34m:\u001b[0m\u001b[0;34m\u001b[0m\u001b[0;34m\u001b[0m\u001b[0m\n\u001b[1;32m    543\u001b[0m             \u001b[0mhook_result\u001b[0m \u001b[0;34m=\u001b[0m \u001b[0mhook\u001b[0m\u001b[0;34m(\u001b[0m\u001b[0mself\u001b[0m\u001b[0;34m,\u001b[0m \u001b[0minput\u001b[0m\u001b[0;34m,\u001b[0m \u001b[0mresult\u001b[0m\u001b[0;34m)\u001b[0m\u001b[0;34m\u001b[0m\u001b[0;34m\u001b[0m\u001b[0m\n",
            "\u001b[0;32m/usr/local/lib/python3.6/dist-packages/fastai/text/models/awd_lstm.py\u001b[0m in \u001b[0;36mforward\u001b[0;34m(self, input, from_embeddings)\u001b[0m\n\u001b[1;32m    110\u001b[0m         \u001b[0mnew_hidden\u001b[0m\u001b[0;34m,\u001b[0m\u001b[0mraw_outputs\u001b[0m\u001b[0;34m,\u001b[0m\u001b[0moutputs\u001b[0m \u001b[0;34m=\u001b[0m \u001b[0;34m[\u001b[0m\u001b[0;34m]\u001b[0m\u001b[0;34m,\u001b[0m\u001b[0;34m[\u001b[0m\u001b[0;34m]\u001b[0m\u001b[0;34m,\u001b[0m\u001b[0;34m[\u001b[0m\u001b[0;34m]\u001b[0m\u001b[0;34m\u001b[0m\u001b[0;34m\u001b[0m\u001b[0m\n\u001b[1;32m    111\u001b[0m         \u001b[0;32mfor\u001b[0m \u001b[0ml\u001b[0m\u001b[0;34m,\u001b[0m \u001b[0;34m(\u001b[0m\u001b[0mrnn\u001b[0m\u001b[0;34m,\u001b[0m\u001b[0mhid_dp\u001b[0m\u001b[0;34m)\u001b[0m \u001b[0;32min\u001b[0m \u001b[0menumerate\u001b[0m\u001b[0;34m(\u001b[0m\u001b[0mzip\u001b[0m\u001b[0;34m(\u001b[0m\u001b[0mself\u001b[0m\u001b[0;34m.\u001b[0m\u001b[0mrnns\u001b[0m\u001b[0;34m,\u001b[0m \u001b[0mself\u001b[0m\u001b[0;34m.\u001b[0m\u001b[0mhidden_dps\u001b[0m\u001b[0;34m)\u001b[0m\u001b[0;34m)\u001b[0m\u001b[0;34m:\u001b[0m\u001b[0;34m\u001b[0m\u001b[0;34m\u001b[0m\u001b[0m\n\u001b[0;32m--> 112\u001b[0;31m             \u001b[0mraw_output\u001b[0m\u001b[0;34m,\u001b[0m \u001b[0mnew_h\u001b[0m \u001b[0;34m=\u001b[0m \u001b[0mrnn\u001b[0m\u001b[0;34m(\u001b[0m\u001b[0mraw_output\u001b[0m\u001b[0;34m,\u001b[0m \u001b[0mself\u001b[0m\u001b[0;34m.\u001b[0m\u001b[0mhidden\u001b[0m\u001b[0;34m[\u001b[0m\u001b[0ml\u001b[0m\u001b[0;34m]\u001b[0m\u001b[0;34m)\u001b[0m\u001b[0;34m\u001b[0m\u001b[0;34m\u001b[0m\u001b[0m\n\u001b[0m\u001b[1;32m    113\u001b[0m             \u001b[0mnew_hidden\u001b[0m\u001b[0;34m.\u001b[0m\u001b[0mappend\u001b[0m\u001b[0;34m(\u001b[0m\u001b[0mnew_h\u001b[0m\u001b[0;34m)\u001b[0m\u001b[0;34m\u001b[0m\u001b[0;34m\u001b[0m\u001b[0m\n\u001b[1;32m    114\u001b[0m             \u001b[0mraw_outputs\u001b[0m\u001b[0;34m.\u001b[0m\u001b[0mappend\u001b[0m\u001b[0;34m(\u001b[0m\u001b[0mraw_output\u001b[0m\u001b[0;34m)\u001b[0m\u001b[0;34m\u001b[0m\u001b[0;34m\u001b[0m\u001b[0m\n",
            "\u001b[0;32m/usr/local/lib/python3.6/dist-packages/torch/nn/modules/module.py\u001b[0m in \u001b[0;36m__call__\u001b[0;34m(self, *input, **kwargs)\u001b[0m\n\u001b[1;32m    539\u001b[0m             \u001b[0mresult\u001b[0m \u001b[0;34m=\u001b[0m \u001b[0mself\u001b[0m\u001b[0;34m.\u001b[0m\u001b[0m_slow_forward\u001b[0m\u001b[0;34m(\u001b[0m\u001b[0;34m*\u001b[0m\u001b[0minput\u001b[0m\u001b[0;34m,\u001b[0m \u001b[0;34m**\u001b[0m\u001b[0mkwargs\u001b[0m\u001b[0;34m)\u001b[0m\u001b[0;34m\u001b[0m\u001b[0;34m\u001b[0m\u001b[0m\n\u001b[1;32m    540\u001b[0m         \u001b[0;32melse\u001b[0m\u001b[0;34m:\u001b[0m\u001b[0;34m\u001b[0m\u001b[0;34m\u001b[0m\u001b[0m\n\u001b[0;32m--> 541\u001b[0;31m             \u001b[0mresult\u001b[0m \u001b[0;34m=\u001b[0m \u001b[0mself\u001b[0m\u001b[0;34m.\u001b[0m\u001b[0mforward\u001b[0m\u001b[0;34m(\u001b[0m\u001b[0;34m*\u001b[0m\u001b[0minput\u001b[0m\u001b[0;34m,\u001b[0m \u001b[0;34m**\u001b[0m\u001b[0mkwargs\u001b[0m\u001b[0;34m)\u001b[0m\u001b[0;34m\u001b[0m\u001b[0;34m\u001b[0m\u001b[0m\n\u001b[0m\u001b[1;32m    542\u001b[0m         \u001b[0;32mfor\u001b[0m \u001b[0mhook\u001b[0m \u001b[0;32min\u001b[0m \u001b[0mself\u001b[0m\u001b[0;34m.\u001b[0m\u001b[0m_forward_hooks\u001b[0m\u001b[0;34m.\u001b[0m\u001b[0mvalues\u001b[0m\u001b[0;34m(\u001b[0m\u001b[0;34m)\u001b[0m\u001b[0;34m:\u001b[0m\u001b[0;34m\u001b[0m\u001b[0;34m\u001b[0m\u001b[0m\n\u001b[1;32m    543\u001b[0m             \u001b[0mhook_result\u001b[0m \u001b[0;34m=\u001b[0m \u001b[0mhook\u001b[0m\u001b[0;34m(\u001b[0m\u001b[0mself\u001b[0m\u001b[0;34m,\u001b[0m \u001b[0minput\u001b[0m\u001b[0;34m,\u001b[0m \u001b[0mresult\u001b[0m\u001b[0;34m)\u001b[0m\u001b[0;34m\u001b[0m\u001b[0;34m\u001b[0m\u001b[0m\n",
            "\u001b[0;32m/usr/local/lib/python3.6/dist-packages/fastai/text/models/awd_lstm.py\u001b[0m in \u001b[0;36mforward\u001b[0;34m(self, *args)\u001b[0m\n\u001b[1;32m     47\u001b[0m             \u001b[0;31m#To avoid the warning that comes because the weights aren't flattened.\u001b[0m\u001b[0;34m\u001b[0m\u001b[0;34m\u001b[0m\u001b[0;34m\u001b[0m\u001b[0m\n\u001b[1;32m     48\u001b[0m             \u001b[0mwarnings\u001b[0m\u001b[0;34m.\u001b[0m\u001b[0msimplefilter\u001b[0m\u001b[0;34m(\u001b[0m\u001b[0;34m\"ignore\"\u001b[0m\u001b[0;34m)\u001b[0m\u001b[0;34m\u001b[0m\u001b[0;34m\u001b[0m\u001b[0m\n\u001b[0;32m---> 49\u001b[0;31m             \u001b[0;32mreturn\u001b[0m \u001b[0mself\u001b[0m\u001b[0;34m.\u001b[0m\u001b[0mmodule\u001b[0m\u001b[0;34m.\u001b[0m\u001b[0mforward\u001b[0m\u001b[0;34m(\u001b[0m\u001b[0;34m*\u001b[0m\u001b[0margs\u001b[0m\u001b[0;34m)\u001b[0m\u001b[0;34m\u001b[0m\u001b[0;34m\u001b[0m\u001b[0m\n\u001b[0m\u001b[1;32m     50\u001b[0m \u001b[0;34m\u001b[0m\u001b[0m\n\u001b[1;32m     51\u001b[0m     \u001b[0;32mdef\u001b[0m \u001b[0mreset\u001b[0m\u001b[0;34m(\u001b[0m\u001b[0mself\u001b[0m\u001b[0;34m)\u001b[0m\u001b[0;34m:\u001b[0m\u001b[0;34m\u001b[0m\u001b[0;34m\u001b[0m\u001b[0m\n",
            "\u001b[0;32m/usr/local/lib/python3.6/dist-packages/torch/nn/modules/rnn.py\u001b[0m in \u001b[0;36mforward\u001b[0;34m(self, input, hx)\u001b[0m\n\u001b[1;32m    562\u001b[0m             \u001b[0;32mreturn\u001b[0m \u001b[0mself\u001b[0m\u001b[0;34m.\u001b[0m\u001b[0mforward_packed\u001b[0m\u001b[0;34m(\u001b[0m\u001b[0minput\u001b[0m\u001b[0;34m,\u001b[0m \u001b[0mhx\u001b[0m\u001b[0;34m)\u001b[0m\u001b[0;34m\u001b[0m\u001b[0;34m\u001b[0m\u001b[0m\n\u001b[1;32m    563\u001b[0m         \u001b[0;32melse\u001b[0m\u001b[0;34m:\u001b[0m\u001b[0;34m\u001b[0m\u001b[0;34m\u001b[0m\u001b[0m\n\u001b[0;32m--> 564\u001b[0;31m             \u001b[0;32mreturn\u001b[0m \u001b[0mself\u001b[0m\u001b[0;34m.\u001b[0m\u001b[0mforward_tensor\u001b[0m\u001b[0;34m(\u001b[0m\u001b[0minput\u001b[0m\u001b[0;34m,\u001b[0m \u001b[0mhx\u001b[0m\u001b[0;34m)\u001b[0m\u001b[0;34m\u001b[0m\u001b[0;34m\u001b[0m\u001b[0m\n\u001b[0m\u001b[1;32m    565\u001b[0m \u001b[0;34m\u001b[0m\u001b[0m\n\u001b[1;32m    566\u001b[0m \u001b[0;34m\u001b[0m\u001b[0m\n",
            "\u001b[0;32m/usr/local/lib/python3.6/dist-packages/torch/nn/modules/rnn.py\u001b[0m in \u001b[0;36mforward_tensor\u001b[0;34m(self, input, hx)\u001b[0m\n\u001b[1;32m    541\u001b[0m         \u001b[0munsorted_indices\u001b[0m \u001b[0;34m=\u001b[0m \u001b[0;32mNone\u001b[0m\u001b[0;34m\u001b[0m\u001b[0;34m\u001b[0m\u001b[0m\n\u001b[1;32m    542\u001b[0m \u001b[0;34m\u001b[0m\u001b[0m\n\u001b[0;32m--> 543\u001b[0;31m         \u001b[0moutput\u001b[0m\u001b[0;34m,\u001b[0m \u001b[0mhidden\u001b[0m \u001b[0;34m=\u001b[0m \u001b[0mself\u001b[0m\u001b[0;34m.\u001b[0m\u001b[0mforward_impl\u001b[0m\u001b[0;34m(\u001b[0m\u001b[0minput\u001b[0m\u001b[0;34m,\u001b[0m \u001b[0mhx\u001b[0m\u001b[0;34m,\u001b[0m \u001b[0mbatch_sizes\u001b[0m\u001b[0;34m,\u001b[0m \u001b[0mmax_batch_size\u001b[0m\u001b[0;34m,\u001b[0m \u001b[0msorted_indices\u001b[0m\u001b[0;34m)\u001b[0m\u001b[0;34m\u001b[0m\u001b[0;34m\u001b[0m\u001b[0m\n\u001b[0m\u001b[1;32m    544\u001b[0m \u001b[0;34m\u001b[0m\u001b[0m\n\u001b[1;32m    545\u001b[0m         \u001b[0;32mreturn\u001b[0m \u001b[0moutput\u001b[0m\u001b[0;34m,\u001b[0m \u001b[0mself\u001b[0m\u001b[0;34m.\u001b[0m\u001b[0mpermute_hidden\u001b[0m\u001b[0;34m(\u001b[0m\u001b[0mhidden\u001b[0m\u001b[0;34m,\u001b[0m \u001b[0munsorted_indices\u001b[0m\u001b[0;34m)\u001b[0m\u001b[0;34m\u001b[0m\u001b[0;34m\u001b[0m\u001b[0m\n",
            "\u001b[0;32m/usr/local/lib/python3.6/dist-packages/torch/nn/modules/rnn.py\u001b[0m in \u001b[0;36mforward_impl\u001b[0;34m(self, input, hx, batch_sizes, max_batch_size, sorted_indices)\u001b[0m\n\u001b[1;32m    524\u001b[0m         \u001b[0;32mif\u001b[0m \u001b[0mbatch_sizes\u001b[0m \u001b[0;32mis\u001b[0m \u001b[0;32mNone\u001b[0m\u001b[0;34m:\u001b[0m\u001b[0;34m\u001b[0m\u001b[0;34m\u001b[0m\u001b[0m\n\u001b[1;32m    525\u001b[0m             result = _VF.lstm(input, hx, self._get_flat_weights(), self.bias, self.num_layers,\n\u001b[0;32m--> 526\u001b[0;31m                               self.dropout, self.training, self.bidirectional, self.batch_first)\n\u001b[0m\u001b[1;32m    527\u001b[0m         \u001b[0;32melse\u001b[0m\u001b[0;34m:\u001b[0m\u001b[0;34m\u001b[0m\u001b[0;34m\u001b[0m\u001b[0m\n\u001b[1;32m    528\u001b[0m             result = _VF.lstm(input, batch_sizes, hx, self._get_flat_weights(), self.bias,\n",
            "\u001b[0;31mRuntimeError\u001b[0m: CUDA out of memory. Tried to allocate 50.00 MiB (GPU 0; 15.90 GiB total capacity; 14.99 GiB already allocated; 12.88 MiB free; 195.04 MiB cached)"
          ]
        }
      ]
    },
    {
      "cell_type": "code",
      "metadata": {
        "id": "LjR1HDRQLEn_",
        "colab_type": "code",
        "colab": {}
      },
      "source": [
        "learn_clas_bwd.freeze_to(-2)\n",
        "learn_clas_bwd.fit_one_cycle(1, slice(1e-4,1e-2), moms=(0.8,0.7))"
      ],
      "execution_count": 0,
      "outputs": []
    },
    {
      "cell_type": "code",
      "metadata": {
        "id": "vTpBKFIbLOj6",
        "colab_type": "code",
        "outputId": "e4b428e1-513e-4dd2-dd63-554861f2ca9f",
        "colab": {
          "base_uri": "https://localhost:8080/",
          "height": 421
        }
      },
      "source": [
        "learn_clas_bwd.freeze_to(-3)\n",
        "learn_clas_bwd.fit_one_cycle(1, slice(1e-5,5e-3), moms=(0.8,0.7))"
      ],
      "execution_count": 57,
      "outputs": [
        {
          "output_type": "display_data",
          "data": {
            "text/html": [
              "\n",
              "    <div>\n",
              "        <style>\n",
              "            /* Turns off some styling */\n",
              "            progress {\n",
              "                /* gets rid of default border in Firefox and Opera. */\n",
              "                border: none;\n",
              "                /* Needs to be in here for Safari polyfill so background images work as expected. */\n",
              "                background-size: auto;\n",
              "            }\n",
              "            .progress-bar-interrupted, .progress-bar-interrupted::-webkit-progress-bar {\n",
              "                background: #F44336;\n",
              "            }\n",
              "        </style>\n",
              "      <progress value='0' class='' max='1', style='width:300px; height:20px; vertical-align: middle;'></progress>\n",
              "      0.00% [0/1 00:00<00:00]\n",
              "    </div>\n",
              "    \n",
              "<table border=\"1\" class=\"dataframe\">\n",
              "  <thead>\n",
              "    <tr style=\"text-align: left;\">\n",
              "      <th>epoch</th>\n",
              "      <th>train_loss</th>\n",
              "      <th>valid_loss</th>\n",
              "      <th>accuracy</th>\n",
              "      <th>time</th>\n",
              "    </tr>\n",
              "  </thead>\n",
              "  <tbody>\n",
              "  </tbody>\n",
              "</table><p>\n",
              "\n",
              "    <div>\n",
              "        <style>\n",
              "            /* Turns off some styling */\n",
              "            progress {\n",
              "                /* gets rid of default border in Firefox and Opera. */\n",
              "                border: none;\n",
              "                /* Needs to be in here for Safari polyfill so background images work as expected. */\n",
              "                background-size: auto;\n",
              "            }\n",
              "            .progress-bar-interrupted, .progress-bar-interrupted::-webkit-progress-bar {\n",
              "                background: #F44336;\n",
              "            }\n",
              "        </style>\n",
              "      <progress value='0' class='progress-bar-interrupted' max='4971', style='width:300px; height:20px; vertical-align: middle;'></progress>\n",
              "      Interrupted\n",
              "    </div>\n",
              "    "
            ],
            "text/plain": [
              "<IPython.core.display.HTML object>"
            ]
          },
          "metadata": {
            "tags": []
          }
        },
        {
          "output_type": "error",
          "ename": "RuntimeError",
          "evalue": "ignored",
          "traceback": [
            "\u001b[0;31m---------------------------------------------------------------------------\u001b[0m",
            "\u001b[0;31mRuntimeError\u001b[0m                              Traceback (most recent call last)",
            "\u001b[0;32m<ipython-input-57-dabc8fdf48cd>\u001b[0m in \u001b[0;36m<module>\u001b[0;34m()\u001b[0m\n\u001b[1;32m      1\u001b[0m \u001b[0mlearn_clas_bwd\u001b[0m\u001b[0;34m.\u001b[0m\u001b[0mfreeze_to\u001b[0m\u001b[0;34m(\u001b[0m\u001b[0;34m-\u001b[0m\u001b[0;36m3\u001b[0m\u001b[0;34m)\u001b[0m\u001b[0;34m\u001b[0m\u001b[0;34m\u001b[0m\u001b[0m\n\u001b[0;32m----> 2\u001b[0;31m \u001b[0mlearn_clas_bwd\u001b[0m\u001b[0;34m.\u001b[0m\u001b[0mfit_one_cycle\u001b[0m\u001b[0;34m(\u001b[0m\u001b[0;36m1\u001b[0m\u001b[0;34m,\u001b[0m \u001b[0mslice\u001b[0m\u001b[0;34m(\u001b[0m\u001b[0;36m1e-5\u001b[0m\u001b[0;34m,\u001b[0m\u001b[0;36m5e-3\u001b[0m\u001b[0;34m)\u001b[0m\u001b[0;34m,\u001b[0m \u001b[0mmoms\u001b[0m\u001b[0;34m=\u001b[0m\u001b[0;34m(\u001b[0m\u001b[0;36m0.8\u001b[0m\u001b[0;34m,\u001b[0m\u001b[0;36m0.7\u001b[0m\u001b[0;34m)\u001b[0m\u001b[0;34m)\u001b[0m\u001b[0;34m\u001b[0m\u001b[0;34m\u001b[0m\u001b[0m\n\u001b[0m",
            "\u001b[0;32m/usr/local/lib/python3.6/dist-packages/fastai/train.py\u001b[0m in \u001b[0;36mfit_one_cycle\u001b[0;34m(learn, cyc_len, max_lr, moms, div_factor, pct_start, final_div, wd, callbacks, tot_epochs, start_epoch)\u001b[0m\n\u001b[1;32m     21\u001b[0m     callbacks.append(OneCycleScheduler(learn, max_lr, moms=moms, div_factor=div_factor, pct_start=pct_start,\n\u001b[1;32m     22\u001b[0m                                        final_div=final_div, tot_epochs=tot_epochs, start_epoch=start_epoch))\n\u001b[0;32m---> 23\u001b[0;31m     \u001b[0mlearn\u001b[0m\u001b[0;34m.\u001b[0m\u001b[0mfit\u001b[0m\u001b[0;34m(\u001b[0m\u001b[0mcyc_len\u001b[0m\u001b[0;34m,\u001b[0m \u001b[0mmax_lr\u001b[0m\u001b[0;34m,\u001b[0m \u001b[0mwd\u001b[0m\u001b[0;34m=\u001b[0m\u001b[0mwd\u001b[0m\u001b[0;34m,\u001b[0m \u001b[0mcallbacks\u001b[0m\u001b[0;34m=\u001b[0m\u001b[0mcallbacks\u001b[0m\u001b[0;34m)\u001b[0m\u001b[0;34m\u001b[0m\u001b[0;34m\u001b[0m\u001b[0m\n\u001b[0m\u001b[1;32m     24\u001b[0m \u001b[0;34m\u001b[0m\u001b[0m\n\u001b[1;32m     25\u001b[0m def fit_fc(learn:Learner, tot_epochs:int=1, lr:float=defaults.lr,  moms:Tuple[float,float]=(0.95,0.85), start_pct:float=0.72,\n",
            "\u001b[0;32m/usr/local/lib/python3.6/dist-packages/fastai/basic_train.py\u001b[0m in \u001b[0;36mfit\u001b[0;34m(self, epochs, lr, wd, callbacks)\u001b[0m\n\u001b[1;32m    198\u001b[0m         \u001b[0;32melse\u001b[0m\u001b[0;34m:\u001b[0m \u001b[0mself\u001b[0m\u001b[0;34m.\u001b[0m\u001b[0mopt\u001b[0m\u001b[0;34m.\u001b[0m\u001b[0mlr\u001b[0m\u001b[0;34m,\u001b[0m\u001b[0mself\u001b[0m\u001b[0;34m.\u001b[0m\u001b[0mopt\u001b[0m\u001b[0;34m.\u001b[0m\u001b[0mwd\u001b[0m \u001b[0;34m=\u001b[0m \u001b[0mlr\u001b[0m\u001b[0;34m,\u001b[0m\u001b[0mwd\u001b[0m\u001b[0;34m\u001b[0m\u001b[0;34m\u001b[0m\u001b[0m\n\u001b[1;32m    199\u001b[0m         \u001b[0mcallbacks\u001b[0m \u001b[0;34m=\u001b[0m \u001b[0;34m[\u001b[0m\u001b[0mcb\u001b[0m\u001b[0;34m(\u001b[0m\u001b[0mself\u001b[0m\u001b[0;34m)\u001b[0m \u001b[0;32mfor\u001b[0m \u001b[0mcb\u001b[0m \u001b[0;32min\u001b[0m \u001b[0mself\u001b[0m\u001b[0;34m.\u001b[0m\u001b[0mcallback_fns\u001b[0m \u001b[0;34m+\u001b[0m \u001b[0mlistify\u001b[0m\u001b[0;34m(\u001b[0m\u001b[0mdefaults\u001b[0m\u001b[0;34m.\u001b[0m\u001b[0mextra_callback_fns\u001b[0m\u001b[0;34m)\u001b[0m\u001b[0;34m]\u001b[0m \u001b[0;34m+\u001b[0m \u001b[0mlistify\u001b[0m\u001b[0;34m(\u001b[0m\u001b[0mcallbacks\u001b[0m\u001b[0;34m)\u001b[0m\u001b[0;34m\u001b[0m\u001b[0;34m\u001b[0m\u001b[0m\n\u001b[0;32m--> 200\u001b[0;31m         \u001b[0mfit\u001b[0m\u001b[0;34m(\u001b[0m\u001b[0mepochs\u001b[0m\u001b[0;34m,\u001b[0m \u001b[0mself\u001b[0m\u001b[0;34m,\u001b[0m \u001b[0mmetrics\u001b[0m\u001b[0;34m=\u001b[0m\u001b[0mself\u001b[0m\u001b[0;34m.\u001b[0m\u001b[0mmetrics\u001b[0m\u001b[0;34m,\u001b[0m \u001b[0mcallbacks\u001b[0m\u001b[0;34m=\u001b[0m\u001b[0mself\u001b[0m\u001b[0;34m.\u001b[0m\u001b[0mcallbacks\u001b[0m\u001b[0;34m+\u001b[0m\u001b[0mcallbacks\u001b[0m\u001b[0;34m)\u001b[0m\u001b[0;34m\u001b[0m\u001b[0;34m\u001b[0m\u001b[0m\n\u001b[0m\u001b[1;32m    201\u001b[0m \u001b[0;34m\u001b[0m\u001b[0m\n\u001b[1;32m    202\u001b[0m     \u001b[0;32mdef\u001b[0m \u001b[0mcreate_opt\u001b[0m\u001b[0;34m(\u001b[0m\u001b[0mself\u001b[0m\u001b[0;34m,\u001b[0m \u001b[0mlr\u001b[0m\u001b[0;34m:\u001b[0m\u001b[0mFloats\u001b[0m\u001b[0;34m,\u001b[0m \u001b[0mwd\u001b[0m\u001b[0;34m:\u001b[0m\u001b[0mFloats\u001b[0m\u001b[0;34m=\u001b[0m\u001b[0;36m0.\u001b[0m\u001b[0;34m)\u001b[0m\u001b[0;34m->\u001b[0m\u001b[0;32mNone\u001b[0m\u001b[0;34m:\u001b[0m\u001b[0;34m\u001b[0m\u001b[0;34m\u001b[0m\u001b[0m\n",
            "\u001b[0;32m/usr/local/lib/python3.6/dist-packages/fastai/basic_train.py\u001b[0m in \u001b[0;36mfit\u001b[0;34m(epochs, learn, callbacks, metrics)\u001b[0m\n\u001b[1;32m     99\u001b[0m             \u001b[0;32mfor\u001b[0m \u001b[0mxb\u001b[0m\u001b[0;34m,\u001b[0m\u001b[0myb\u001b[0m \u001b[0;32min\u001b[0m \u001b[0mprogress_bar\u001b[0m\u001b[0;34m(\u001b[0m\u001b[0mlearn\u001b[0m\u001b[0;34m.\u001b[0m\u001b[0mdata\u001b[0m\u001b[0;34m.\u001b[0m\u001b[0mtrain_dl\u001b[0m\u001b[0;34m,\u001b[0m \u001b[0mparent\u001b[0m\u001b[0;34m=\u001b[0m\u001b[0mpbar\u001b[0m\u001b[0;34m)\u001b[0m\u001b[0;34m:\u001b[0m\u001b[0;34m\u001b[0m\u001b[0;34m\u001b[0m\u001b[0m\n\u001b[1;32m    100\u001b[0m                 \u001b[0mxb\u001b[0m\u001b[0;34m,\u001b[0m \u001b[0myb\u001b[0m \u001b[0;34m=\u001b[0m \u001b[0mcb_handler\u001b[0m\u001b[0;34m.\u001b[0m\u001b[0mon_batch_begin\u001b[0m\u001b[0;34m(\u001b[0m\u001b[0mxb\u001b[0m\u001b[0;34m,\u001b[0m \u001b[0myb\u001b[0m\u001b[0;34m)\u001b[0m\u001b[0;34m\u001b[0m\u001b[0;34m\u001b[0m\u001b[0m\n\u001b[0;32m--> 101\u001b[0;31m                 \u001b[0mloss\u001b[0m \u001b[0;34m=\u001b[0m \u001b[0mloss_batch\u001b[0m\u001b[0;34m(\u001b[0m\u001b[0mlearn\u001b[0m\u001b[0;34m.\u001b[0m\u001b[0mmodel\u001b[0m\u001b[0;34m,\u001b[0m \u001b[0mxb\u001b[0m\u001b[0;34m,\u001b[0m \u001b[0myb\u001b[0m\u001b[0;34m,\u001b[0m \u001b[0mlearn\u001b[0m\u001b[0;34m.\u001b[0m\u001b[0mloss_func\u001b[0m\u001b[0;34m,\u001b[0m \u001b[0mlearn\u001b[0m\u001b[0;34m.\u001b[0m\u001b[0mopt\u001b[0m\u001b[0;34m,\u001b[0m \u001b[0mcb_handler\u001b[0m\u001b[0;34m)\u001b[0m\u001b[0;34m\u001b[0m\u001b[0;34m\u001b[0m\u001b[0m\n\u001b[0m\u001b[1;32m    102\u001b[0m                 \u001b[0;32mif\u001b[0m \u001b[0mcb_handler\u001b[0m\u001b[0;34m.\u001b[0m\u001b[0mon_batch_end\u001b[0m\u001b[0;34m(\u001b[0m\u001b[0mloss\u001b[0m\u001b[0;34m)\u001b[0m\u001b[0;34m:\u001b[0m \u001b[0;32mbreak\u001b[0m\u001b[0;34m\u001b[0m\u001b[0;34m\u001b[0m\u001b[0m\n\u001b[1;32m    103\u001b[0m \u001b[0;34m\u001b[0m\u001b[0m\n",
            "\u001b[0;32m/usr/local/lib/python3.6/dist-packages/fastai/basic_train.py\u001b[0m in \u001b[0;36mloss_batch\u001b[0;34m(model, xb, yb, loss_func, opt, cb_handler)\u001b[0m\n\u001b[1;32m     24\u001b[0m     \u001b[0;32mif\u001b[0m \u001b[0;32mnot\u001b[0m \u001b[0mis_listy\u001b[0m\u001b[0;34m(\u001b[0m\u001b[0mxb\u001b[0m\u001b[0;34m)\u001b[0m\u001b[0;34m:\u001b[0m \u001b[0mxb\u001b[0m \u001b[0;34m=\u001b[0m \u001b[0;34m[\u001b[0m\u001b[0mxb\u001b[0m\u001b[0;34m]\u001b[0m\u001b[0;34m\u001b[0m\u001b[0;34m\u001b[0m\u001b[0m\n\u001b[1;32m     25\u001b[0m     \u001b[0;32mif\u001b[0m \u001b[0;32mnot\u001b[0m \u001b[0mis_listy\u001b[0m\u001b[0;34m(\u001b[0m\u001b[0myb\u001b[0m\u001b[0;34m)\u001b[0m\u001b[0;34m:\u001b[0m \u001b[0myb\u001b[0m \u001b[0;34m=\u001b[0m \u001b[0;34m[\u001b[0m\u001b[0myb\u001b[0m\u001b[0;34m]\u001b[0m\u001b[0;34m\u001b[0m\u001b[0;34m\u001b[0m\u001b[0m\n\u001b[0;32m---> 26\u001b[0;31m     \u001b[0mout\u001b[0m \u001b[0;34m=\u001b[0m \u001b[0mmodel\u001b[0m\u001b[0;34m(\u001b[0m\u001b[0;34m*\u001b[0m\u001b[0mxb\u001b[0m\u001b[0;34m)\u001b[0m\u001b[0;34m\u001b[0m\u001b[0;34m\u001b[0m\u001b[0m\n\u001b[0m\u001b[1;32m     27\u001b[0m     \u001b[0mout\u001b[0m \u001b[0;34m=\u001b[0m \u001b[0mcb_handler\u001b[0m\u001b[0;34m.\u001b[0m\u001b[0mon_loss_begin\u001b[0m\u001b[0;34m(\u001b[0m\u001b[0mout\u001b[0m\u001b[0;34m)\u001b[0m\u001b[0;34m\u001b[0m\u001b[0;34m\u001b[0m\u001b[0m\n\u001b[1;32m     28\u001b[0m \u001b[0;34m\u001b[0m\u001b[0m\n",
            "\u001b[0;32m/usr/local/lib/python3.6/dist-packages/torch/nn/modules/module.py\u001b[0m in \u001b[0;36m__call__\u001b[0;34m(self, *input, **kwargs)\u001b[0m\n\u001b[1;32m    539\u001b[0m             \u001b[0mresult\u001b[0m \u001b[0;34m=\u001b[0m \u001b[0mself\u001b[0m\u001b[0;34m.\u001b[0m\u001b[0m_slow_forward\u001b[0m\u001b[0;34m(\u001b[0m\u001b[0;34m*\u001b[0m\u001b[0minput\u001b[0m\u001b[0;34m,\u001b[0m \u001b[0;34m**\u001b[0m\u001b[0mkwargs\u001b[0m\u001b[0;34m)\u001b[0m\u001b[0;34m\u001b[0m\u001b[0;34m\u001b[0m\u001b[0m\n\u001b[1;32m    540\u001b[0m         \u001b[0;32melse\u001b[0m\u001b[0;34m:\u001b[0m\u001b[0;34m\u001b[0m\u001b[0;34m\u001b[0m\u001b[0m\n\u001b[0;32m--> 541\u001b[0;31m             \u001b[0mresult\u001b[0m \u001b[0;34m=\u001b[0m \u001b[0mself\u001b[0m\u001b[0;34m.\u001b[0m\u001b[0mforward\u001b[0m\u001b[0;34m(\u001b[0m\u001b[0;34m*\u001b[0m\u001b[0minput\u001b[0m\u001b[0;34m,\u001b[0m \u001b[0;34m**\u001b[0m\u001b[0mkwargs\u001b[0m\u001b[0;34m)\u001b[0m\u001b[0;34m\u001b[0m\u001b[0;34m\u001b[0m\u001b[0m\n\u001b[0m\u001b[1;32m    542\u001b[0m         \u001b[0;32mfor\u001b[0m \u001b[0mhook\u001b[0m \u001b[0;32min\u001b[0m \u001b[0mself\u001b[0m\u001b[0;34m.\u001b[0m\u001b[0m_forward_hooks\u001b[0m\u001b[0;34m.\u001b[0m\u001b[0mvalues\u001b[0m\u001b[0;34m(\u001b[0m\u001b[0;34m)\u001b[0m\u001b[0;34m:\u001b[0m\u001b[0;34m\u001b[0m\u001b[0;34m\u001b[0m\u001b[0m\n\u001b[1;32m    543\u001b[0m             \u001b[0mhook_result\u001b[0m \u001b[0;34m=\u001b[0m \u001b[0mhook\u001b[0m\u001b[0;34m(\u001b[0m\u001b[0mself\u001b[0m\u001b[0;34m,\u001b[0m \u001b[0minput\u001b[0m\u001b[0;34m,\u001b[0m \u001b[0mresult\u001b[0m\u001b[0;34m)\u001b[0m\u001b[0;34m\u001b[0m\u001b[0;34m\u001b[0m\u001b[0m\n",
            "\u001b[0;32m/usr/local/lib/python3.6/dist-packages/torch/nn/modules/container.py\u001b[0m in \u001b[0;36mforward\u001b[0;34m(self, input)\u001b[0m\n\u001b[1;32m     90\u001b[0m     \u001b[0;32mdef\u001b[0m \u001b[0mforward\u001b[0m\u001b[0;34m(\u001b[0m\u001b[0mself\u001b[0m\u001b[0;34m,\u001b[0m \u001b[0minput\u001b[0m\u001b[0;34m)\u001b[0m\u001b[0;34m:\u001b[0m\u001b[0;34m\u001b[0m\u001b[0;34m\u001b[0m\u001b[0m\n\u001b[1;32m     91\u001b[0m         \u001b[0;32mfor\u001b[0m \u001b[0mmodule\u001b[0m \u001b[0;32min\u001b[0m \u001b[0mself\u001b[0m\u001b[0;34m.\u001b[0m\u001b[0m_modules\u001b[0m\u001b[0;34m.\u001b[0m\u001b[0mvalues\u001b[0m\u001b[0;34m(\u001b[0m\u001b[0;34m)\u001b[0m\u001b[0;34m:\u001b[0m\u001b[0;34m\u001b[0m\u001b[0;34m\u001b[0m\u001b[0m\n\u001b[0;32m---> 92\u001b[0;31m             \u001b[0minput\u001b[0m \u001b[0;34m=\u001b[0m \u001b[0mmodule\u001b[0m\u001b[0;34m(\u001b[0m\u001b[0minput\u001b[0m\u001b[0;34m)\u001b[0m\u001b[0;34m\u001b[0m\u001b[0;34m\u001b[0m\u001b[0m\n\u001b[0m\u001b[1;32m     93\u001b[0m         \u001b[0;32mreturn\u001b[0m \u001b[0minput\u001b[0m\u001b[0;34m\u001b[0m\u001b[0;34m\u001b[0m\u001b[0m\n\u001b[1;32m     94\u001b[0m \u001b[0;34m\u001b[0m\u001b[0m\n",
            "\u001b[0;32m/usr/local/lib/python3.6/dist-packages/torch/nn/modules/module.py\u001b[0m in \u001b[0;36m__call__\u001b[0;34m(self, *input, **kwargs)\u001b[0m\n\u001b[1;32m    539\u001b[0m             \u001b[0mresult\u001b[0m \u001b[0;34m=\u001b[0m \u001b[0mself\u001b[0m\u001b[0;34m.\u001b[0m\u001b[0m_slow_forward\u001b[0m\u001b[0;34m(\u001b[0m\u001b[0;34m*\u001b[0m\u001b[0minput\u001b[0m\u001b[0;34m,\u001b[0m \u001b[0;34m**\u001b[0m\u001b[0mkwargs\u001b[0m\u001b[0;34m)\u001b[0m\u001b[0;34m\u001b[0m\u001b[0;34m\u001b[0m\u001b[0m\n\u001b[1;32m    540\u001b[0m         \u001b[0;32melse\u001b[0m\u001b[0;34m:\u001b[0m\u001b[0;34m\u001b[0m\u001b[0;34m\u001b[0m\u001b[0m\n\u001b[0;32m--> 541\u001b[0;31m             \u001b[0mresult\u001b[0m \u001b[0;34m=\u001b[0m \u001b[0mself\u001b[0m\u001b[0;34m.\u001b[0m\u001b[0mforward\u001b[0m\u001b[0;34m(\u001b[0m\u001b[0;34m*\u001b[0m\u001b[0minput\u001b[0m\u001b[0;34m,\u001b[0m \u001b[0;34m**\u001b[0m\u001b[0mkwargs\u001b[0m\u001b[0;34m)\u001b[0m\u001b[0;34m\u001b[0m\u001b[0;34m\u001b[0m\u001b[0m\n\u001b[0m\u001b[1;32m    542\u001b[0m         \u001b[0;32mfor\u001b[0m \u001b[0mhook\u001b[0m \u001b[0;32min\u001b[0m \u001b[0mself\u001b[0m\u001b[0;34m.\u001b[0m\u001b[0m_forward_hooks\u001b[0m\u001b[0;34m.\u001b[0m\u001b[0mvalues\u001b[0m\u001b[0;34m(\u001b[0m\u001b[0;34m)\u001b[0m\u001b[0;34m:\u001b[0m\u001b[0;34m\u001b[0m\u001b[0;34m\u001b[0m\u001b[0m\n\u001b[1;32m    543\u001b[0m             \u001b[0mhook_result\u001b[0m \u001b[0;34m=\u001b[0m \u001b[0mhook\u001b[0m\u001b[0;34m(\u001b[0m\u001b[0mself\u001b[0m\u001b[0;34m,\u001b[0m \u001b[0minput\u001b[0m\u001b[0;34m,\u001b[0m \u001b[0mresult\u001b[0m\u001b[0;34m)\u001b[0m\u001b[0;34m\u001b[0m\u001b[0;34m\u001b[0m\u001b[0m\n",
            "\u001b[0;32m/usr/local/lib/python3.6/dist-packages/fastai/text/learner.py\u001b[0m in \u001b[0;36mforward\u001b[0;34m(self, input)\u001b[0m\n\u001b[1;32m    261\u001b[0m         \u001b[0mraw_outputs\u001b[0m\u001b[0;34m,\u001b[0m\u001b[0moutputs\u001b[0m\u001b[0;34m,\u001b[0m\u001b[0mmasks\u001b[0m \u001b[0;34m=\u001b[0m \u001b[0;34m[\u001b[0m\u001b[0;34m]\u001b[0m\u001b[0;34m,\u001b[0m\u001b[0;34m[\u001b[0m\u001b[0;34m]\u001b[0m\u001b[0;34m,\u001b[0m\u001b[0;34m[\u001b[0m\u001b[0;34m]\u001b[0m\u001b[0;34m\u001b[0m\u001b[0;34m\u001b[0m\u001b[0m\n\u001b[1;32m    262\u001b[0m         \u001b[0;32mfor\u001b[0m \u001b[0mi\u001b[0m \u001b[0;32min\u001b[0m \u001b[0mrange\u001b[0m\u001b[0;34m(\u001b[0m\u001b[0;36m0\u001b[0m\u001b[0;34m,\u001b[0m \u001b[0msl\u001b[0m\u001b[0;34m,\u001b[0m \u001b[0mself\u001b[0m\u001b[0;34m.\u001b[0m\u001b[0mbptt\u001b[0m\u001b[0;34m)\u001b[0m\u001b[0;34m:\u001b[0m\u001b[0;34m\u001b[0m\u001b[0;34m\u001b[0m\u001b[0m\n\u001b[0;32m--> 263\u001b[0;31m             \u001b[0mr\u001b[0m\u001b[0;34m,\u001b[0m \u001b[0mo\u001b[0m \u001b[0;34m=\u001b[0m \u001b[0mself\u001b[0m\u001b[0;34m.\u001b[0m\u001b[0mmodule\u001b[0m\u001b[0;34m(\u001b[0m\u001b[0minput\u001b[0m\u001b[0;34m[\u001b[0m\u001b[0;34m:\u001b[0m\u001b[0;34m,\u001b[0m\u001b[0mi\u001b[0m\u001b[0;34m:\u001b[0m \u001b[0mmin\u001b[0m\u001b[0;34m(\u001b[0m\u001b[0mi\u001b[0m\u001b[0;34m+\u001b[0m\u001b[0mself\u001b[0m\u001b[0;34m.\u001b[0m\u001b[0mbptt\u001b[0m\u001b[0;34m,\u001b[0m \u001b[0msl\u001b[0m\u001b[0;34m)\u001b[0m\u001b[0;34m]\u001b[0m\u001b[0;34m)\u001b[0m\u001b[0;34m\u001b[0m\u001b[0;34m\u001b[0m\u001b[0m\n\u001b[0m\u001b[1;32m    264\u001b[0m             \u001b[0;32mif\u001b[0m \u001b[0mi\u001b[0m\u001b[0;34m>\u001b[0m\u001b[0;34m(\u001b[0m\u001b[0msl\u001b[0m\u001b[0;34m-\u001b[0m\u001b[0mself\u001b[0m\u001b[0;34m.\u001b[0m\u001b[0mmax_len\u001b[0m\u001b[0;34m)\u001b[0m\u001b[0;34m:\u001b[0m\u001b[0;34m\u001b[0m\u001b[0;34m\u001b[0m\u001b[0m\n\u001b[1;32m    265\u001b[0m                 \u001b[0mmasks\u001b[0m\u001b[0;34m.\u001b[0m\u001b[0mappend\u001b[0m\u001b[0;34m(\u001b[0m\u001b[0minput\u001b[0m\u001b[0;34m[\u001b[0m\u001b[0;34m:\u001b[0m\u001b[0;34m,\u001b[0m\u001b[0mi\u001b[0m\u001b[0;34m:\u001b[0m \u001b[0mmin\u001b[0m\u001b[0;34m(\u001b[0m\u001b[0mi\u001b[0m\u001b[0;34m+\u001b[0m\u001b[0mself\u001b[0m\u001b[0;34m.\u001b[0m\u001b[0mbptt\u001b[0m\u001b[0;34m,\u001b[0m \u001b[0msl\u001b[0m\u001b[0;34m)\u001b[0m\u001b[0;34m]\u001b[0m \u001b[0;34m==\u001b[0m \u001b[0mself\u001b[0m\u001b[0;34m.\u001b[0m\u001b[0mpad_idx\u001b[0m\u001b[0;34m)\u001b[0m\u001b[0;34m\u001b[0m\u001b[0;34m\u001b[0m\u001b[0m\n",
            "\u001b[0;32m/usr/local/lib/python3.6/dist-packages/torch/nn/modules/module.py\u001b[0m in \u001b[0;36m__call__\u001b[0;34m(self, *input, **kwargs)\u001b[0m\n\u001b[1;32m    539\u001b[0m             \u001b[0mresult\u001b[0m \u001b[0;34m=\u001b[0m \u001b[0mself\u001b[0m\u001b[0;34m.\u001b[0m\u001b[0m_slow_forward\u001b[0m\u001b[0;34m(\u001b[0m\u001b[0;34m*\u001b[0m\u001b[0minput\u001b[0m\u001b[0;34m,\u001b[0m \u001b[0;34m**\u001b[0m\u001b[0mkwargs\u001b[0m\u001b[0;34m)\u001b[0m\u001b[0;34m\u001b[0m\u001b[0;34m\u001b[0m\u001b[0m\n\u001b[1;32m    540\u001b[0m         \u001b[0;32melse\u001b[0m\u001b[0;34m:\u001b[0m\u001b[0;34m\u001b[0m\u001b[0;34m\u001b[0m\u001b[0m\n\u001b[0;32m--> 541\u001b[0;31m             \u001b[0mresult\u001b[0m \u001b[0;34m=\u001b[0m \u001b[0mself\u001b[0m\u001b[0;34m.\u001b[0m\u001b[0mforward\u001b[0m\u001b[0;34m(\u001b[0m\u001b[0;34m*\u001b[0m\u001b[0minput\u001b[0m\u001b[0;34m,\u001b[0m \u001b[0;34m**\u001b[0m\u001b[0mkwargs\u001b[0m\u001b[0;34m)\u001b[0m\u001b[0;34m\u001b[0m\u001b[0;34m\u001b[0m\u001b[0m\n\u001b[0m\u001b[1;32m    542\u001b[0m         \u001b[0;32mfor\u001b[0m \u001b[0mhook\u001b[0m \u001b[0;32min\u001b[0m \u001b[0mself\u001b[0m\u001b[0;34m.\u001b[0m\u001b[0m_forward_hooks\u001b[0m\u001b[0;34m.\u001b[0m\u001b[0mvalues\u001b[0m\u001b[0;34m(\u001b[0m\u001b[0;34m)\u001b[0m\u001b[0;34m:\u001b[0m\u001b[0;34m\u001b[0m\u001b[0;34m\u001b[0m\u001b[0m\n\u001b[1;32m    543\u001b[0m             \u001b[0mhook_result\u001b[0m \u001b[0;34m=\u001b[0m \u001b[0mhook\u001b[0m\u001b[0;34m(\u001b[0m\u001b[0mself\u001b[0m\u001b[0;34m,\u001b[0m \u001b[0minput\u001b[0m\u001b[0;34m,\u001b[0m \u001b[0mresult\u001b[0m\u001b[0;34m)\u001b[0m\u001b[0;34m\u001b[0m\u001b[0;34m\u001b[0m\u001b[0m\n",
            "\u001b[0;32m/usr/local/lib/python3.6/dist-packages/fastai/text/models/awd_lstm.py\u001b[0m in \u001b[0;36mforward\u001b[0;34m(self, input, from_embeddings)\u001b[0m\n\u001b[1;32m    110\u001b[0m         \u001b[0mnew_hidden\u001b[0m\u001b[0;34m,\u001b[0m\u001b[0mraw_outputs\u001b[0m\u001b[0;34m,\u001b[0m\u001b[0moutputs\u001b[0m \u001b[0;34m=\u001b[0m \u001b[0;34m[\u001b[0m\u001b[0;34m]\u001b[0m\u001b[0;34m,\u001b[0m\u001b[0;34m[\u001b[0m\u001b[0;34m]\u001b[0m\u001b[0;34m,\u001b[0m\u001b[0;34m[\u001b[0m\u001b[0;34m]\u001b[0m\u001b[0;34m\u001b[0m\u001b[0;34m\u001b[0m\u001b[0m\n\u001b[1;32m    111\u001b[0m         \u001b[0;32mfor\u001b[0m \u001b[0ml\u001b[0m\u001b[0;34m,\u001b[0m \u001b[0;34m(\u001b[0m\u001b[0mrnn\u001b[0m\u001b[0;34m,\u001b[0m\u001b[0mhid_dp\u001b[0m\u001b[0;34m)\u001b[0m \u001b[0;32min\u001b[0m \u001b[0menumerate\u001b[0m\u001b[0;34m(\u001b[0m\u001b[0mzip\u001b[0m\u001b[0;34m(\u001b[0m\u001b[0mself\u001b[0m\u001b[0;34m.\u001b[0m\u001b[0mrnns\u001b[0m\u001b[0;34m,\u001b[0m \u001b[0mself\u001b[0m\u001b[0;34m.\u001b[0m\u001b[0mhidden_dps\u001b[0m\u001b[0;34m)\u001b[0m\u001b[0;34m)\u001b[0m\u001b[0;34m:\u001b[0m\u001b[0;34m\u001b[0m\u001b[0;34m\u001b[0m\u001b[0m\n\u001b[0;32m--> 112\u001b[0;31m             \u001b[0mraw_output\u001b[0m\u001b[0;34m,\u001b[0m \u001b[0mnew_h\u001b[0m \u001b[0;34m=\u001b[0m \u001b[0mrnn\u001b[0m\u001b[0;34m(\u001b[0m\u001b[0mraw_output\u001b[0m\u001b[0;34m,\u001b[0m \u001b[0mself\u001b[0m\u001b[0;34m.\u001b[0m\u001b[0mhidden\u001b[0m\u001b[0;34m[\u001b[0m\u001b[0ml\u001b[0m\u001b[0;34m]\u001b[0m\u001b[0;34m)\u001b[0m\u001b[0;34m\u001b[0m\u001b[0;34m\u001b[0m\u001b[0m\n\u001b[0m\u001b[1;32m    113\u001b[0m             \u001b[0mnew_hidden\u001b[0m\u001b[0;34m.\u001b[0m\u001b[0mappend\u001b[0m\u001b[0;34m(\u001b[0m\u001b[0mnew_h\u001b[0m\u001b[0;34m)\u001b[0m\u001b[0;34m\u001b[0m\u001b[0;34m\u001b[0m\u001b[0m\n\u001b[1;32m    114\u001b[0m             \u001b[0mraw_outputs\u001b[0m\u001b[0;34m.\u001b[0m\u001b[0mappend\u001b[0m\u001b[0;34m(\u001b[0m\u001b[0mraw_output\u001b[0m\u001b[0;34m)\u001b[0m\u001b[0;34m\u001b[0m\u001b[0;34m\u001b[0m\u001b[0m\n",
            "\u001b[0;32m/usr/local/lib/python3.6/dist-packages/torch/nn/modules/module.py\u001b[0m in \u001b[0;36m__call__\u001b[0;34m(self, *input, **kwargs)\u001b[0m\n\u001b[1;32m    539\u001b[0m             \u001b[0mresult\u001b[0m \u001b[0;34m=\u001b[0m \u001b[0mself\u001b[0m\u001b[0;34m.\u001b[0m\u001b[0m_slow_forward\u001b[0m\u001b[0;34m(\u001b[0m\u001b[0;34m*\u001b[0m\u001b[0minput\u001b[0m\u001b[0;34m,\u001b[0m \u001b[0;34m**\u001b[0m\u001b[0mkwargs\u001b[0m\u001b[0;34m)\u001b[0m\u001b[0;34m\u001b[0m\u001b[0;34m\u001b[0m\u001b[0m\n\u001b[1;32m    540\u001b[0m         \u001b[0;32melse\u001b[0m\u001b[0;34m:\u001b[0m\u001b[0;34m\u001b[0m\u001b[0;34m\u001b[0m\u001b[0m\n\u001b[0;32m--> 541\u001b[0;31m             \u001b[0mresult\u001b[0m \u001b[0;34m=\u001b[0m \u001b[0mself\u001b[0m\u001b[0;34m.\u001b[0m\u001b[0mforward\u001b[0m\u001b[0;34m(\u001b[0m\u001b[0;34m*\u001b[0m\u001b[0minput\u001b[0m\u001b[0;34m,\u001b[0m \u001b[0;34m**\u001b[0m\u001b[0mkwargs\u001b[0m\u001b[0;34m)\u001b[0m\u001b[0;34m\u001b[0m\u001b[0;34m\u001b[0m\u001b[0m\n\u001b[0m\u001b[1;32m    542\u001b[0m         \u001b[0;32mfor\u001b[0m \u001b[0mhook\u001b[0m \u001b[0;32min\u001b[0m \u001b[0mself\u001b[0m\u001b[0;34m.\u001b[0m\u001b[0m_forward_hooks\u001b[0m\u001b[0;34m.\u001b[0m\u001b[0mvalues\u001b[0m\u001b[0;34m(\u001b[0m\u001b[0;34m)\u001b[0m\u001b[0;34m:\u001b[0m\u001b[0;34m\u001b[0m\u001b[0;34m\u001b[0m\u001b[0m\n\u001b[1;32m    543\u001b[0m             \u001b[0mhook_result\u001b[0m \u001b[0;34m=\u001b[0m \u001b[0mhook\u001b[0m\u001b[0;34m(\u001b[0m\u001b[0mself\u001b[0m\u001b[0;34m,\u001b[0m \u001b[0minput\u001b[0m\u001b[0;34m,\u001b[0m \u001b[0mresult\u001b[0m\u001b[0;34m)\u001b[0m\u001b[0;34m\u001b[0m\u001b[0;34m\u001b[0m\u001b[0m\n",
            "\u001b[0;32m/usr/local/lib/python3.6/dist-packages/fastai/text/models/awd_lstm.py\u001b[0m in \u001b[0;36mforward\u001b[0;34m(self, *args)\u001b[0m\n\u001b[1;32m     47\u001b[0m             \u001b[0;31m#To avoid the warning that comes because the weights aren't flattened.\u001b[0m\u001b[0;34m\u001b[0m\u001b[0;34m\u001b[0m\u001b[0;34m\u001b[0m\u001b[0m\n\u001b[1;32m     48\u001b[0m             \u001b[0mwarnings\u001b[0m\u001b[0;34m.\u001b[0m\u001b[0msimplefilter\u001b[0m\u001b[0;34m(\u001b[0m\u001b[0;34m\"ignore\"\u001b[0m\u001b[0;34m)\u001b[0m\u001b[0;34m\u001b[0m\u001b[0;34m\u001b[0m\u001b[0m\n\u001b[0;32m---> 49\u001b[0;31m             \u001b[0;32mreturn\u001b[0m \u001b[0mself\u001b[0m\u001b[0;34m.\u001b[0m\u001b[0mmodule\u001b[0m\u001b[0;34m.\u001b[0m\u001b[0mforward\u001b[0m\u001b[0;34m(\u001b[0m\u001b[0;34m*\u001b[0m\u001b[0margs\u001b[0m\u001b[0;34m)\u001b[0m\u001b[0;34m\u001b[0m\u001b[0;34m\u001b[0m\u001b[0m\n\u001b[0m\u001b[1;32m     50\u001b[0m \u001b[0;34m\u001b[0m\u001b[0m\n\u001b[1;32m     51\u001b[0m     \u001b[0;32mdef\u001b[0m \u001b[0mreset\u001b[0m\u001b[0;34m(\u001b[0m\u001b[0mself\u001b[0m\u001b[0;34m)\u001b[0m\u001b[0;34m:\u001b[0m\u001b[0;34m\u001b[0m\u001b[0;34m\u001b[0m\u001b[0m\n",
            "\u001b[0;32m/usr/local/lib/python3.6/dist-packages/torch/nn/modules/rnn.py\u001b[0m in \u001b[0;36mforward\u001b[0;34m(self, input, hx)\u001b[0m\n\u001b[1;32m    562\u001b[0m             \u001b[0;32mreturn\u001b[0m \u001b[0mself\u001b[0m\u001b[0;34m.\u001b[0m\u001b[0mforward_packed\u001b[0m\u001b[0;34m(\u001b[0m\u001b[0minput\u001b[0m\u001b[0;34m,\u001b[0m \u001b[0mhx\u001b[0m\u001b[0;34m)\u001b[0m\u001b[0;34m\u001b[0m\u001b[0;34m\u001b[0m\u001b[0m\n\u001b[1;32m    563\u001b[0m         \u001b[0;32melse\u001b[0m\u001b[0;34m:\u001b[0m\u001b[0;34m\u001b[0m\u001b[0;34m\u001b[0m\u001b[0m\n\u001b[0;32m--> 564\u001b[0;31m             \u001b[0;32mreturn\u001b[0m \u001b[0mself\u001b[0m\u001b[0;34m.\u001b[0m\u001b[0mforward_tensor\u001b[0m\u001b[0;34m(\u001b[0m\u001b[0minput\u001b[0m\u001b[0;34m,\u001b[0m \u001b[0mhx\u001b[0m\u001b[0;34m)\u001b[0m\u001b[0;34m\u001b[0m\u001b[0;34m\u001b[0m\u001b[0m\n\u001b[0m\u001b[1;32m    565\u001b[0m \u001b[0;34m\u001b[0m\u001b[0m\n\u001b[1;32m    566\u001b[0m \u001b[0;34m\u001b[0m\u001b[0m\n",
            "\u001b[0;32m/usr/local/lib/python3.6/dist-packages/torch/nn/modules/rnn.py\u001b[0m in \u001b[0;36mforward_tensor\u001b[0;34m(self, input, hx)\u001b[0m\n\u001b[1;32m    541\u001b[0m         \u001b[0munsorted_indices\u001b[0m \u001b[0;34m=\u001b[0m \u001b[0;32mNone\u001b[0m\u001b[0;34m\u001b[0m\u001b[0;34m\u001b[0m\u001b[0m\n\u001b[1;32m    542\u001b[0m \u001b[0;34m\u001b[0m\u001b[0m\n\u001b[0;32m--> 543\u001b[0;31m         \u001b[0moutput\u001b[0m\u001b[0;34m,\u001b[0m \u001b[0mhidden\u001b[0m \u001b[0;34m=\u001b[0m \u001b[0mself\u001b[0m\u001b[0;34m.\u001b[0m\u001b[0mforward_impl\u001b[0m\u001b[0;34m(\u001b[0m\u001b[0minput\u001b[0m\u001b[0;34m,\u001b[0m \u001b[0mhx\u001b[0m\u001b[0;34m,\u001b[0m \u001b[0mbatch_sizes\u001b[0m\u001b[0;34m,\u001b[0m \u001b[0mmax_batch_size\u001b[0m\u001b[0;34m,\u001b[0m \u001b[0msorted_indices\u001b[0m\u001b[0;34m)\u001b[0m\u001b[0;34m\u001b[0m\u001b[0;34m\u001b[0m\u001b[0m\n\u001b[0m\u001b[1;32m    544\u001b[0m \u001b[0;34m\u001b[0m\u001b[0m\n\u001b[1;32m    545\u001b[0m         \u001b[0;32mreturn\u001b[0m \u001b[0moutput\u001b[0m\u001b[0;34m,\u001b[0m \u001b[0mself\u001b[0m\u001b[0;34m.\u001b[0m\u001b[0mpermute_hidden\u001b[0m\u001b[0;34m(\u001b[0m\u001b[0mhidden\u001b[0m\u001b[0;34m,\u001b[0m \u001b[0munsorted_indices\u001b[0m\u001b[0;34m)\u001b[0m\u001b[0;34m\u001b[0m\u001b[0;34m\u001b[0m\u001b[0m\n",
            "\u001b[0;32m/usr/local/lib/python3.6/dist-packages/torch/nn/modules/rnn.py\u001b[0m in \u001b[0;36mforward_impl\u001b[0;34m(self, input, hx, batch_sizes, max_batch_size, sorted_indices)\u001b[0m\n\u001b[1;32m    524\u001b[0m         \u001b[0;32mif\u001b[0m \u001b[0mbatch_sizes\u001b[0m \u001b[0;32mis\u001b[0m \u001b[0;32mNone\u001b[0m\u001b[0;34m:\u001b[0m\u001b[0;34m\u001b[0m\u001b[0;34m\u001b[0m\u001b[0m\n\u001b[1;32m    525\u001b[0m             result = _VF.lstm(input, hx, self._get_flat_weights(), self.bias, self.num_layers,\n\u001b[0;32m--> 526\u001b[0;31m                               self.dropout, self.training, self.bidirectional, self.batch_first)\n\u001b[0m\u001b[1;32m    527\u001b[0m         \u001b[0;32melse\u001b[0m\u001b[0;34m:\u001b[0m\u001b[0;34m\u001b[0m\u001b[0;34m\u001b[0m\u001b[0m\n\u001b[1;32m    528\u001b[0m             result = _VF.lstm(input, batch_sizes, hx, self._get_flat_weights(), self.bias,\n",
            "\u001b[0;31mRuntimeError\u001b[0m: CUDA out of memory. Tried to allocate 50.00 MiB (GPU 0; 15.90 GiB total capacity; 14.99 GiB already allocated; 12.88 MiB free; 190.38 MiB cached)"
          ]
        }
      ]
    },
    {
      "cell_type": "code",
      "metadata": {
        "id": "lIlvaTq4Ldom",
        "colab_type": "code",
        "outputId": "21579041-0a01-4594-fe42-370eaadd3660",
        "colab": {
          "base_uri": "https://localhost:8080/",
          "height": 561
        }
      },
      "source": [
        "learn_clas_bwd.unfreeze()\n",
        "learn_clas_bwd.fit_one_cycle(1, slice(1e-5,1e-3), moms=(0.8,0.7))"
      ],
      "execution_count": 53,
      "outputs": [
        {
          "output_type": "error",
          "ename": "RuntimeError",
          "evalue": "ignored",
          "traceback": [
            "\u001b[0;31m---------------------------------------------------------------------------\u001b[0m",
            "\u001b[0;31mRuntimeError\u001b[0m                              Traceback (most recent call last)",
            "\u001b[0;32m<ipython-input-53-18c94b460777>\u001b[0m in \u001b[0;36m<module>\u001b[0;34m()\u001b[0m\n\u001b[0;32m----> 1\u001b[0;31m \u001b[0mlearn_clas_bwd\u001b[0m\u001b[0;34m.\u001b[0m\u001b[0munfreeze\u001b[0m\u001b[0;34m(\u001b[0m\u001b[0;34m)\u001b[0m\u001b[0;34m\u001b[0m\u001b[0;34m\u001b[0m\u001b[0m\n\u001b[0m\u001b[1;32m      2\u001b[0m \u001b[0mlearn_clas_bwd\u001b[0m\u001b[0;34m.\u001b[0m\u001b[0mfit_one_cycle\u001b[0m\u001b[0;34m(\u001b[0m\u001b[0;36m1\u001b[0m\u001b[0;34m,\u001b[0m \u001b[0mslice\u001b[0m\u001b[0;34m(\u001b[0m\u001b[0;36m1e-5\u001b[0m\u001b[0;34m,\u001b[0m\u001b[0;36m1e-3\u001b[0m\u001b[0;34m)\u001b[0m\u001b[0;34m,\u001b[0m \u001b[0mmoms\u001b[0m\u001b[0;34m=\u001b[0m\u001b[0;34m(\u001b[0m\u001b[0;36m0.8\u001b[0m\u001b[0;34m,\u001b[0m\u001b[0;36m0.7\u001b[0m\u001b[0;34m)\u001b[0m\u001b[0;34m)\u001b[0m\u001b[0;34m\u001b[0m\u001b[0;34m\u001b[0m\u001b[0m\n",
            "\u001b[0;32m/usr/local/lib/python3.6/dist-packages/fastai/basic_train.py\u001b[0m in \u001b[0;36munfreeze\u001b[0;34m(self)\u001b[0m\n\u001b[1;32m    225\u001b[0m     \u001b[0;32mdef\u001b[0m \u001b[0munfreeze\u001b[0m\u001b[0;34m(\u001b[0m\u001b[0mself\u001b[0m\u001b[0;34m)\u001b[0m\u001b[0;34m:\u001b[0m\u001b[0;34m\u001b[0m\u001b[0;34m\u001b[0m\u001b[0m\n\u001b[1;32m    226\u001b[0m         \u001b[0;34m\"Unfreeze entire model.\"\u001b[0m\u001b[0;34m\u001b[0m\u001b[0;34m\u001b[0m\u001b[0m\n\u001b[0;32m--> 227\u001b[0;31m         \u001b[0mself\u001b[0m\u001b[0;34m.\u001b[0m\u001b[0mfreeze_to\u001b[0m\u001b[0;34m(\u001b[0m\u001b[0;36m0\u001b[0m\u001b[0;34m)\u001b[0m\u001b[0;34m\u001b[0m\u001b[0;34m\u001b[0m\u001b[0m\n\u001b[0m\u001b[1;32m    228\u001b[0m \u001b[0;34m\u001b[0m\u001b[0m\n\u001b[1;32m    229\u001b[0m     \u001b[0;32mdef\u001b[0m \u001b[0mexport\u001b[0m\u001b[0;34m(\u001b[0m\u001b[0mself\u001b[0m\u001b[0;34m,\u001b[0m \u001b[0mfile\u001b[0m\u001b[0;34m:\u001b[0m\u001b[0mPathLikeOrBinaryStream\u001b[0m\u001b[0;34m=\u001b[0m\u001b[0;34m'export.pkl'\u001b[0m\u001b[0;34m,\u001b[0m \u001b[0mdestroy\u001b[0m\u001b[0;34m=\u001b[0m\u001b[0;32mFalse\u001b[0m\u001b[0;34m)\u001b[0m\u001b[0;34m:\u001b[0m\u001b[0;34m\u001b[0m\u001b[0;34m\u001b[0m\u001b[0m\n",
            "\u001b[0;32m/usr/local/lib/python3.6/dist-packages/fastai/basic_train.py\u001b[0m in \u001b[0;36mfreeze_to\u001b[0;34m(self, n)\u001b[0m\n\u001b[1;32m    215\u001b[0m             \u001b[0;32mfor\u001b[0m \u001b[0ml\u001b[0m \u001b[0;32min\u001b[0m \u001b[0mg\u001b[0m\u001b[0;34m:\u001b[0m\u001b[0;34m\u001b[0m\u001b[0;34m\u001b[0m\u001b[0m\n\u001b[1;32m    216\u001b[0m                 \u001b[0;32mif\u001b[0m \u001b[0;32mnot\u001b[0m \u001b[0mself\u001b[0m\u001b[0;34m.\u001b[0m\u001b[0mtrain_bn\u001b[0m \u001b[0;32mor\u001b[0m \u001b[0;32mnot\u001b[0m \u001b[0misinstance\u001b[0m\u001b[0;34m(\u001b[0m\u001b[0ml\u001b[0m\u001b[0;34m,\u001b[0m \u001b[0mbn_types\u001b[0m\u001b[0;34m)\u001b[0m\u001b[0;34m:\u001b[0m \u001b[0mrequires_grad\u001b[0m\u001b[0;34m(\u001b[0m\u001b[0ml\u001b[0m\u001b[0;34m,\u001b[0m \u001b[0;32mFalse\u001b[0m\u001b[0;34m)\u001b[0m\u001b[0;34m\u001b[0m\u001b[0;34m\u001b[0m\u001b[0m\n\u001b[0;32m--> 217\u001b[0;31m         \u001b[0;32mfor\u001b[0m \u001b[0mg\u001b[0m \u001b[0;32min\u001b[0m \u001b[0mself\u001b[0m\u001b[0;34m.\u001b[0m\u001b[0mlayer_groups\u001b[0m\u001b[0;34m[\u001b[0m\u001b[0mn\u001b[0m\u001b[0;34m:\u001b[0m\u001b[0;34m]\u001b[0m\u001b[0;34m:\u001b[0m \u001b[0mrequires_grad\u001b[0m\u001b[0;34m(\u001b[0m\u001b[0mg\u001b[0m\u001b[0;34m,\u001b[0m \u001b[0;32mTrue\u001b[0m\u001b[0;34m)\u001b[0m\u001b[0;34m\u001b[0m\u001b[0;34m\u001b[0m\u001b[0m\n\u001b[0m\u001b[1;32m    218\u001b[0m         \u001b[0mself\u001b[0m\u001b[0;34m.\u001b[0m\u001b[0mcreate_opt\u001b[0m\u001b[0;34m(\u001b[0m\u001b[0mdefaults\u001b[0m\u001b[0;34m.\u001b[0m\u001b[0mlr\u001b[0m\u001b[0;34m)\u001b[0m\u001b[0;34m\u001b[0m\u001b[0;34m\u001b[0m\u001b[0m\n\u001b[1;32m    219\u001b[0m \u001b[0;34m\u001b[0m\u001b[0m\n",
            "\u001b[0;32m/usr/local/lib/python3.6/dist-packages/fastai/torch_core.py\u001b[0m in \u001b[0;36mrequires_grad\u001b[0;34m(m, b)\u001b[0m\n\u001b[1;32m    132\u001b[0m     \u001b[0;32mif\u001b[0m \u001b[0;32mnot\u001b[0m \u001b[0mps\u001b[0m\u001b[0;34m:\u001b[0m \u001b[0;32mreturn\u001b[0m \u001b[0;32mNone\u001b[0m\u001b[0;34m\u001b[0m\u001b[0;34m\u001b[0m\u001b[0m\n\u001b[1;32m    133\u001b[0m     \u001b[0;32mif\u001b[0m \u001b[0mb\u001b[0m \u001b[0;32mis\u001b[0m \u001b[0;32mNone\u001b[0m\u001b[0;34m:\u001b[0m \u001b[0;32mreturn\u001b[0m \u001b[0mps\u001b[0m\u001b[0;34m[\u001b[0m\u001b[0;36m0\u001b[0m\u001b[0;34m]\u001b[0m\u001b[0;34m.\u001b[0m\u001b[0mrequires_grad\u001b[0m\u001b[0;34m\u001b[0m\u001b[0;34m\u001b[0m\u001b[0m\n\u001b[0;32m--> 134\u001b[0;31m     \u001b[0;32mfor\u001b[0m \u001b[0mp\u001b[0m \u001b[0;32min\u001b[0m \u001b[0mps\u001b[0m\u001b[0;34m:\u001b[0m \u001b[0mp\u001b[0m\u001b[0;34m.\u001b[0m\u001b[0mrequires_grad\u001b[0m\u001b[0;34m=\u001b[0m\u001b[0mb\u001b[0m\u001b[0;34m\u001b[0m\u001b[0;34m\u001b[0m\u001b[0m\n\u001b[0m\u001b[1;32m    135\u001b[0m \u001b[0;34m\u001b[0m\u001b[0m\n\u001b[1;32m    136\u001b[0m \u001b[0;32mdef\u001b[0m \u001b[0mhas_params\u001b[0m\u001b[0;34m(\u001b[0m\u001b[0mm\u001b[0m\u001b[0;34m:\u001b[0m\u001b[0mnn\u001b[0m\u001b[0;34m.\u001b[0m\u001b[0mModule\u001b[0m\u001b[0;34m)\u001b[0m\u001b[0;34m->\u001b[0m\u001b[0mbool\u001b[0m\u001b[0;34m:\u001b[0m\u001b[0;34m\u001b[0m\u001b[0;34m\u001b[0m\u001b[0m\n",
            "\u001b[0;31mRuntimeError\u001b[0m: you can only change requires_grad flags of leaf variables."
          ]
        }
      ]
    },
    {
      "cell_type": "code",
      "metadata": {
        "id": "w_3v95AsHfHV",
        "colab_type": "code",
        "colab": {}
      },
      "source": [
        "learn_clas_bwd.fit_one_cycle(10, 1e-3, moms=(0.8,0.7))"
      ],
      "execution_count": 0,
      "outputs": []
    },
    {
      "cell_type": "code",
      "metadata": {
        "id": "n91UwHpALoVU",
        "colab_type": "code",
        "colab": {}
      },
      "source": [
        "#Export the Learned Model\n",
        "learn_clas_bwd.export('/content/drive/My Drive/Projects/AnalyticsHackathon/learned_classifer_try_2_bwd.pkl')"
      ],
      "execution_count": 0,
      "outputs": []
    },
    {
      "cell_type": "markdown",
      "metadata": {
        "id": "39O2XmH9L4Gf",
        "colab_type": "text"
      },
      "source": [
        "#Ensembling"
      ]
    },
    {
      "cell_type": "code",
      "metadata": {
        "id": "vw1VZWMKL6tc",
        "colab_type": "code",
        "colab": {}
      },
      "source": [
        "pred_fwd,lbl_fwd = learn_clas_fwd.get_preds(ordered=True)\n",
        "pred_bwd,lbl_bwd = learn_clas_bwd.get_preds(ordered=True)\n",
        "final_pred = (pred_fwd+pred_bwd)/2"
      ],
      "execution_count": 0,
      "outputs": []
    },
    {
      "cell_type": "code",
      "metadata": {
        "id": "rp9IsfYWMPU8",
        "colab_type": "code",
        "outputId": "74bbbb42-a840-490d-9600-6ba03c77c9db",
        "colab": {
          "base_uri": "https://localhost:8080/",
          "height": 34
        }
      },
      "source": [
        "accuracy(final_pred, lbl_fwd)"
      ],
      "execution_count": 0,
      "outputs": [
        {
          "output_type": "execute_result",
          "data": {
            "text/plain": [
              "tensor(0.9955)"
            ]
          },
          "metadata": {
            "tags": []
          },
          "execution_count": 64
        }
      ]
    },
    {
      "cell_type": "markdown",
      "metadata": {
        "id": "ErbX7UvgMTyQ",
        "colab_type": "text"
      },
      "source": [
        "#Analysis"
      ]
    },
    {
      "cell_type": "code",
      "metadata": {
        "id": "QUs8MadzMX1i",
        "colab_type": "code",
        "colab": {}
      },
      "source": [
        "learn_clas_fwd.data.classes"
      ],
      "execution_count": 0,
      "outputs": []
    },
    {
      "cell_type": "code",
      "metadata": {
        "id": "z74YDcK0Hj15",
        "colab_type": "code",
        "colab": {}
      },
      "source": [
        "#Get the accuracy matrix \n",
        "predictions, targets = learn_clas_fwd.get_preds()"
      ],
      "execution_count": 0,
      "outputs": []
    },
    {
      "cell_type": "code",
      "metadata": {
        "id": "2low6mHF5yrb",
        "colab_type": "code",
        "outputId": "eb2e3bf1-7d8c-45ef-e276-62d18a113f99",
        "colab": {
          "base_uri": "https://localhost:8080/",
          "height": 51
        }
      },
      "source": [
        "from sklearn import metrics\n",
        "\n",
        "predictions_clas = np.argmax(predictions, axis = 1) \n",
        "print(predictions_clas)\n",
        "print(targets)\n",
        "predictions_clas_str = [ learn_clas_fwd.data.classes[thisPrediction] for thisPrediction in predictions_clas ]\n",
        "targets_str = [ learn_clas_fwd.data.classes[thistarget] for thistarget in targets ]\n"
      ],
      "execution_count": 0,
      "outputs": [
        {
          "output_type": "stream",
          "text": [
            "tensor([149, 149, 149,  ..., 624, 624, 624])\n",
            "tensor([147, 147, 147,  ..., 624, 624, 624])\n"
          ],
          "name": "stdout"
        }
      ]
    },
    {
      "cell_type": "code",
      "metadata": {
        "id": "mOsm8NGFjW7G",
        "colab_type": "code",
        "outputId": "52a4a8a6-4afe-4c94-b70f-69d89a9253ea",
        "colab": {
          "base_uri": "https://localhost:8080/",
          "height": 170
        }
      },
      "source": [
        "#Generate Confusion Matrix\n",
        "confusion_matrix = metrics.confusion_matrix(targets, predictions_clas)\n",
        "print(confusion_matrix)\n",
        "\n",
        "#Export Confustion Matrix\n",
        "# df_confusion_matrix = pd.DataFrame(confusion_matrix)\n",
        "# df_confusion_matrix.to_csv('/content/drive/My Drive/Projects/AnalyticsHackathon/ULMFit_Drug_Review_Confusion_Matrix_try1.csv')"
      ],
      "execution_count": 0,
      "outputs": [
        {
          "output_type": "stream",
          "text": [
            "[[1126    0    0    0 ...    0    0    0    0]\n",
            " [   0    2    0    0 ...    0    0    0    0]\n",
            " [   0    0  648    0 ...    0    0    0    0]\n",
            " [   0    0    0    2 ...    0    0    0    0]\n",
            " ...\n",
            " [   0    0    0    0 ...    3    0    0    0]\n",
            " [   0    0    0    0 ...    0    0    0    0]\n",
            " [   0    0    0    0 ...    0    0    3    0]\n",
            " [   0    0    0    0 ...    0    0    0    7]]\n"
          ],
          "name": "stdout"
        }
      ]
    },
    {
      "cell_type": "code",
      "metadata": {
        "id": "CUOT1Jbmyy9x",
        "colab_type": "code",
        "outputId": "68b60da4-4744-48e7-95e7-4c566c35c56b",
        "colab": {
          "base_uri": "https://localhost:8080/",
          "height": 68
        }
      },
      "source": [
        "#From the confusion matrix, take diagnal elements\n",
        "\n",
        "diag = np.diag(df_confusion_matrix)\n",
        "correct_predictions = sum(diag)\n",
        "total_validation_examples = np.sum(df_confusion_matrix, axis=1).sum()\n",
        "pred_acc_percent = (correct_predictions/total_validation_examples) * 100\n",
        "print(f\"Sum of diagonal elements of the confusion matrix: {correct_predictions}\")\n",
        "print(f\"Total number of vaildation examples: {total_validation_examples}\")\n",
        "print(f\"Prediction Accuracy of the model: {pred_acc_percent}\")\n"
      ],
      "execution_count": 0,
      "outputs": [
        {
          "output_type": "stream",
          "text": [
            "Sum of diagonal elements of the confusion matrix: 52906\n",
            "Total number of vaildation examples: 53161\n",
            "Prediction Accuracy of the model: 99.52032505031885\n"
          ],
          "name": "stdout"
        }
      ]
    },
    {
      "cell_type": "code",
      "metadata": {
        "id": "kt55COPSDC5B",
        "colab_type": "code",
        "outputId": "a45f7936-5f65-465c-83cb-970faf87f030",
        "colab": {
          "base_uri": "https://localhost:8080/",
          "height": 1000
        }
      },
      "source": [
        "target_names = learn_clas_fwd.data.classes\n",
        "print(metrics.classification_report(targets, predictions_clas, target_names=target_names))\n"
      ],
      "execution_count": 0,
      "outputs": [
        {
          "output_type": "stream",
          "text": [
            "                                                                precision    recall  f1-score   support\n",
            "\n",
            "                                                          ADHD       1.00      1.00      1.00      1126\n",
            "                                          AIDS Related Wasting       1.00      1.00      1.00         2\n",
            "                                     Abnormal Uterine Bleeding       1.00      1.00      1.00       648\n",
            "                                                      Abortion       1.00      1.00      1.00         2\n",
            "                                        Acetaminophen Overdose       0.00      0.00      0.00         1\n",
            "                                                          Acne       1.00      1.00      1.00      1847\n",
            "                                             Actinic Keratosis       1.00      1.00      1.00         8\n",
            "                                       Acute Coronary Syndrome       0.69      1.00      0.81        11\n",
            "                                  Acute Lymphoblastic Leukemia       0.67      1.00      0.80         2\n",
            "                                 Acute Nonlymphocytic Leukemia       0.00      0.00      0.00         1\n",
            "                                  Acute Promyelocytic Leukemia       0.00      0.00      0.00         1\n",
            "                                             Addison's Disease       1.00      1.00      1.00         2\n",
            "                                  Adrenocortical Insufficiency       1.00      1.00      1.00         3\n",
            "                         Adult Human Growth Hormone Deficiency       1.00      1.00      1.00         1\n",
            "                                                Agitated State       1.00      1.00      1.00         8\n",
            "                                                     Agitation       1.00      1.00      1.00         6\n",
            "                                            Alcohol Dependence       1.00      1.00      1.00       130\n",
            "                                            Alcohol Withdrawal       1.00      1.00      1.00        68\n",
            "                                            Allergic Reactions       1.00      1.00      1.00        30\n",
            "                                             Allergic Rhinitis       1.00      1.00      1.00       350\n",
            "                                            Allergic Urticaria       1.00      1.00      1.00         6\n",
            "                                                     Allergies       1.00      1.00      1.00        49\n",
            "                                                      Alopecia       1.00      1.00      1.00        36\n",
            "                       Alpha-1 Proteinase Inhibitor Deficiency       0.67      1.00      0.80         2\n",
            "                                           Alzheimer's Disease       1.00      1.00      1.00        32\n",
            "                                                     Amebiasis       0.00      0.00      0.00         3\n",
            "                                                    Amenorrhea       1.00      1.00      1.00        26\n",
            "                                      Anal Fissure and Fistula       1.00      1.00      1.00         5\n",
            "                                                  Anal Itching       1.00      1.00      1.00         4\n",
            "                                        Anaplastic Astrocytoma       1.00      1.00      1.00         1\n",
            "                                         Androgenetic Alopecia       1.00      1.00      1.00        17\n",
            "                                                        Anemia       1.00      1.00      1.00        10\n",
            "                  Anemia Associated with Chronic Renal Failure       1.00      1.00      1.00         8\n",
            "                                  Anemia, Chemotherapy Induced       0.00      0.00      0.00         1\n",
            "                                           Anemia, Sickle Cell       1.00      1.00      1.00         4\n",
            "                                                    Anesthesia       1.00      1.00      1.00        86\n",
            "                                                        Angina       1.00      1.00      1.00        30\n",
            "                                   Angina Pectoris Prophylaxis       1.00      1.00      1.00         9\n",
            "                                        Ankylosing Spondylitis       1.00      1.00      1.00        61\n",
            "                                                      Anorexia       1.00      1.00      1.00        31\n",
            "                                                       Anthrax       0.00      0.00      0.00         1\n",
            "                                     Antiphospholipid Syndrome       0.00      0.00      0.00         2\n",
            "                                                       Anxiety       1.00      1.00      1.00      1908\n",
            "                                            Anxiety and Stress       1.00      1.00      1.00       573\n",
            "                                                 Aphthous Ulce       1.00      1.00      1.00         3\n",
            "                                                    Arrhythmia       1.00      1.00      1.00        42\n",
            "                                             Asperger Syndrome       1.00      1.00      1.00         7\n",
            "                                   Aspergillosis, Aspergilloma       0.00      0.00      0.00         1\n",
            "                                                        Asthma       1.00      1.00      1.00        77\n",
            "                                           Asthma, Maintenance       1.00      1.00      1.00       158\n",
            "                                                 Asthma, acute       1.00      1.00      1.00        34\n",
            "                                             Atopic Dermatitis       1.00      1.00      1.00        54\n",
            "                                           Atrial Fibrillation       1.00      1.00      1.00        75\n",
            "                                                 Atrial Flutte       0.89      1.00      0.94         8\n",
            "                                           Atrophic Urethritis       1.00      1.00      1.00         4\n",
            "                                            Atrophic Vaginitis       1.00      1.00      1.00        53\n",
            "                                   Auditory Processing Disorde       1.00      1.00      1.00         4\n",
            "                                                        Autism       1.00      1.00      1.00        31\n",
            "                                   Autoimmune Hemolytic Anemia       1.00      1.00      1.00         1\n",
            "                                          Autoimmune Hepatitis       1.00      1.00      1.00         6\n",
            "                                    B12 Nutritional Deficiency       1.00      1.00      1.00         1\n",
            "                                                     Back Pain       0.89      1.00      0.94       192\n",
            "                             Bacterial Endocarditis Prevention       1.00      1.00      1.00         3\n",
            "                                           Bacterial Infection       1.00      1.00      1.00       307\n",
            "                                      Bacterial Skin Infection       1.00      1.00      1.00        45\n",
            "                                           Bacterial Vaginitis       0.84      1.00      0.91       153\n",
            "                                           Barrett's Esophagus       1.00      1.00      1.00        18\n",
            "                                          Basal Cell Carcinoma       1.00      1.00      1.00        19\n",
            "                                              Behcet's Disease       0.00      0.00      0.00         2\n",
            "                                         Benign Essential Trem       1.00      1.00      1.00        28\n",
            "                                  Benign Prostatic Hyperplasia       1.00      1.00      1.00       165\n",
            "                                     Benzodiazepine Withdrawal       1.00      1.00      1.00         7\n",
            "                                             Biliary Cirrhosis       1.00      1.00      1.00         5\n",
            "                                          Binge Eating Disorde       1.00      1.00      1.00        29\n",
            "                                               Bipolar Disorde       1.00      1.00      1.00      1380\n",
            "                                                 Birth Control       1.00      1.00      1.00      9648\n",
            "                                             Bladder Infection       1.00      1.00      1.00       130\n",
            "                                              Bleeding Disorde       1.00      1.00      1.00         2\n",
            "                                                   Blepharitis       0.00      0.00      0.00         1\n",
            "                                       Body Dysmorphic Disorde       1.00      1.00      1.00         1\n",
            "                                                Bone infection       0.80      1.00      0.89         4\n",
            "                                Borderline Personality Disorde       1.00      1.00      1.00        50\n",
            "                                             Bowel Preparation       1.00      1.00      1.00       639\n",
            "                                             Breakthrough Pain       1.00      1.00      1.00        14\n",
            "                                                  Breast Cance       0.98      1.00      0.99        99\n",
            "                                       Breast Cancer, Adjuvant       0.75      1.00      0.86         6\n",
            "                                     Breast Cancer, Metastatic       1.00      1.00      1.00        26\n",
            "                                     Breast Cancer, Palliative       0.00      0.00      0.00         2\n",
            "                                     Breast Cancer, Prevention       0.00      0.00      0.00         5\n",
            "                                                    Bronchitis       1.00      1.00      1.00       157\n",
            "                                      Bronchospasm Prophylaxis       1.00      1.00      1.00         7\n",
            "                                                       Bulimia       1.00      1.00      1.00        16\n",
            "                                            Bullous Pemphigoid       0.00      0.00      0.00         4\n",
            "                                        Burning Mouth Syndrome       1.00      1.00      1.00         5\n",
            "                                               Burns, External       1.00      1.00      1.00        13\n",
            "                                                      Bursitis       1.00      1.00      1.00         3\n",
            "                                               CMV Prophylaxis       1.00      1.00      1.00         1\n",
            "                                                          COPD       1.00      1.00      1.00        45\n",
            "                                                   COPD, Acute       1.00      1.00      1.00         5\n",
            "                                             COPD, Maintenance       1.00      1.00      1.00        78\n",
            "                                                      Cachexia       0.00      0.00      0.00         1\n",
            "                                                         Cance       1.00      1.00      1.00         2\n",
            "                                                     Cataplexy       0.00      0.00      0.00         2\n",
            "                                                Cerebral Edema       0.00      0.00      0.00         1\n",
            "                                           Cerebral Spasticity       0.67      1.00      0.80         2\n",
            "                                             Cervical Dystonia       1.00      1.00      1.00        21\n",
            "                                           Chlamydia Infection       1.00      1.00      1.00        98\n",
            "                                      Chronic Fatigue Syndrome       1.00      1.00      1.00        28\n",
            "                               Chronic Idiopathic Constipation       1.00      1.00      1.00        22\n",
            "     Chronic Inflammatory Demyelinating Polyradiculoneuropathy       0.00      0.00      0.00         1\n",
            "                                  Chronic Lymphocytic Leukemia       1.00      1.00      1.00        11\n",
            "                                  Chronic Myelogenous Leukemia       1.00      1.00      1.00        26\n",
            "                                       Chronic Myofascial Pain       1.00      1.00      1.00         2\n",
            "                                                  Chronic Pain       1.00      1.00      1.00       485\n",
            "                                          Chronic Pancreatitis       1.00      1.00      1.00         5\n",
            "                                            Chronic Spasticity       1.00      1.00      1.00         2\n",
            "                                         Clostridial Infection       1.00      1.00      1.00         8\n",
            "                                             Cluster Headaches       1.00      1.00      1.00        46\n",
            "                                            Coccidioidomycosis       0.00      0.00      0.00         1\n",
            "                                                    Cold Sores       1.00      1.00      1.00       105\n",
            "                                                 Cold Symptoms       1.00      1.00      1.00        35\n",
            "                                              Colorectal Cance       1.00      1.00      1.00         2\n",
            "                                           Computed Tomography       1.00      1.00      1.00         4\n",
            "                                         Condylomata Acuminata       1.00      1.00      1.00         5\n",
            "                                                Conjunctivitis       1.00      1.00      1.00         7\n",
            "                                      Conjunctivitis, Allergic       1.00      1.00      1.00        21\n",
            "                                     Conjunctivitis, Bacterial       1.00      1.00      1.00        18\n",
            "                                                  Constipation       1.00      1.00      1.00       525\n",
            "                                           Constipation, Acute       1.00      1.00      1.00        19\n",
            "                                         Constipation, Chronic       1.00      1.00      1.00       179\n",
            "                                    Constipation, Drug Induced       1.00      1.00      1.00        77\n",
            "                                       Coronary Artery Disease       0.00      0.00      0.00         1\n",
            "                                               Costochondritis       0.00      0.00      0.00         2\n",
            "                                                         Cough       1.00      1.00      1.00       297\n",
            "                                    Cough and Nasal Congestion       1.00      1.00      1.00       113\n",
            "                                               Crohn's Disease       1.00      1.00      1.00        53\n",
            "                                        Crohn's Disease, Acute       1.00      1.00      1.00        11\n",
            "                                  Crohn's Disease, Maintenance       1.00      1.00      1.00        74\n",
            "                                         Cutaneous Candidiasis       1.00      1.00      1.00        10\n",
            "                                     Cutaneous T-cell Lymphoma       0.00      0.00      0.00         1\n",
            "                                      Cyclic Vomiting Syndrome       1.00      1.00      1.00         5\n",
            "                                                      Cyclitis       0.00      0.00      0.00         1\n",
            "                                           Cyclothymic Disorde       1.00      1.00      1.00         1\n",
            "                                               Cystic Fibrosis       1.00      1.00      1.00         7\n",
            "                                                      Dandruff       0.17      1.00      0.29         2\n",
            "                                           Deep Neck Infection       1.00      1.00      1.00         3\n",
            "                                          Deep Vein Thrombosis       1.00      1.00      1.00        24\n",
            "Deep Vein Thrombosis Prophylaxis after Hip Replacement Surgery       0.00      0.00      0.00         3\n",
            "                             Deep Vein Thrombosis, First Event       1.00      1.00      1.00         2\n",
            "                             Deep Vein Thrombosis, Prophylaxis       0.67      1.00      0.80         6\n",
            "                         Deep Vein Thrombosis, Recurrent Event       1.00      1.00      1.00         2\n",
            "                                                      Dementia       0.00      0.00      0.00         1\n",
            "                                                Dental Abscess       1.00      1.00      1.00        23\n",
            "                                                    Depression       1.00      1.00      1.00      3095\n",
            "                                              Dercum's Disease       0.00      0.00      0.00         3\n",
            "                                                    Dermatitis       1.00      1.00      1.00        35\n",
            "                                           Dermatologic Lesion       1.00      1.00      1.00         6\n",
            "                                      Dermatological Disorders       1.00      1.00      1.00        13\n",
            "                                               Dermatomyositis       0.03      1.00      0.07         1\n",
            "                                               Dermatophytosis       0.00      0.00      0.00         1\n",
            "                                            Diabetes Insipidus       1.00      1.00      1.00         7\n",
            "                                              Diabetes, Type 1       1.00      1.00      1.00        45\n",
            "                                              Diabetes, Type 2       1.00      1.00      1.00       808\n",
            "                                       Diabetic Kidney Disease       1.00      1.00      1.00         5\n",
            "                                        Diabetic Macular Edema       1.00      1.00      1.00         3\n",
            "                                Diabetic Peripheral Neuropathy       1.00      1.00      1.00        54\n",
            "                                   Diagnosis and Investigation       1.00      1.00      1.00         7\n",
            "                                                   Diaper Rash       1.00      1.00      1.00         6\n",
            "                                                      Diarrhea       1.00      1.00      1.00        69\n",
            "                                               Diarrhea, Acute       1.00      1.00      1.00         4\n",
            "                                             Diarrhea, Chronic       0.96      1.00      0.98        24\n",
            "                                 Dietary Fiber Supplementation       1.00      1.00      1.00         3\n",
            "                                       Dietary Supplementation       1.00      1.00      1.00        22\n",
            "                                 Dissociative Identity Disorde       0.00      0.00      0.00         1\n",
            "                                                Diverticulitis       1.00      1.00      1.00        43\n",
            "                                               Dry Eye Disease       1.00      1.00      1.00        54\n",
            "                                                      Dry Skin       1.00      1.00      1.00        22\n",
            "                                              Dumping Syndrome       1.00      1.00      1.00         2\n",
            "                                                 Duodenal Ulce       1.00      1.00      1.00         7\n",
            "                                       Dupuytren's contracture       0.00      0.00      0.00         1\n",
            "                                                  Dysautonomia       1.00      1.00      1.00         5\n",
            "                                                   Dyspareunia       0.83      1.00      0.91         5\n",
            "                                                      Dystonia       1.00      1.00      1.00         4\n",
            "                                                       Dysuria       1.00      1.00      1.00        28\n",
            "                                             Ear Wax Impaction       1.00      1.00      1.00         3\n",
            "                                                        Eczema       1.00      1.00      1.00        52\n",
            "                                                         Edema       1.00      1.00      1.00        41\n",
            "                                                  Ehrlichiosis       0.00      0.00      0.00         1\n",
            "                                       Emergency Contraception       1.00      1.00      1.00       827\n",
            "                                             Endometrial Cance       0.50      1.00      0.67         3\n",
            "                                       Endometrial Hyperplasia       0.00      0.00      0.00         3\n",
            "                                                 Endometriosis       0.99      1.00      1.00       192\n",
            "                                                 Enterocolitis       0.00      0.00      0.00         1\n",
            "                                      Eosinophilic Esophagitis       0.50      1.00      0.67         1\n",
            "                            Epididymitis, Sexually Transmitted       0.00      0.00      0.00         1\n",
            "                                                      Epilepsy       1.00      1.00      1.00       120\n",
            "                                          Erectile Dysfunction       1.00      1.00      1.00       381\n",
            "                                           Erosive Esophagitis       1.00      1.00      1.00        20\n",
            "                    Esophageal Variceal Hemorrhage Prophylaxis       0.00      0.00      0.00         1\n",
            "                                                 Expectoration       0.00      0.00      0.00         2\n",
            "                                       Extrapyramidal Reaction       1.00      1.00      1.00        10\n",
            "                                                   Eye Redness       1.00      1.00      1.00        15\n",
            "                                           Eye Redness/Itching       1.00      1.00      1.00        10\n",
            "                                         Eyelash Hypotrichosis       0.00      0.00      0.00         3\n",
            "                                                          GERD       1.00      1.00      1.00       246\n",
            "                                           Gallbladder Disease       0.00      0.00      0.00         2\n",
            "                                                           Gas       1.00      1.00      1.00         7\n",
            "                           Gastric Ulcer Maintenance Treatment       1.00      1.00      1.00         3\n",
            "                                          Gastritis/Duodenitis       1.00      1.00      1.00         3\n",
            "                                               Gastroenteritis       1.00      1.00      1.00        10\n",
            "                              Gastrointestinal Decontamination       0.00      0.00      0.00         4\n",
            "                                  Gastrointestinal Stromal Tum       1.00      1.00      1.00         4\n",
            "                                                 Gastroparesis       1.00      1.00      1.00        14\n",
            "                                              Gender Dysphoria       1.00      1.00      1.00         1\n",
            "                                   Generalized Anxiety Disorde       0.99      1.00      1.00       378\n",
            "                                      Giant Cell Tumor of Bone       0.00      0.00      0.00         1\n",
            "                                                    Giardiasis       0.58      1.00      0.74         7\n",
            "                                                    Gingivitis       0.00      0.00      0.00         5\n",
            "                                                      Glaucoma       1.00      1.00      1.00         9\n",
            "                                          Glaucoma, Open Angle       1.00      1.00      1.00        18\n",
            "                                            Glioblastoma Multi       0.25      1.00      0.40         1\n",
            "                                       Glioblastoma Multiforme       0.00      0.00      0.00         2\n",
            "                                       Gonadotropin Inhibition       0.00      0.00      0.00         1\n",
            "                           Gonococcal Infection, Uncomplicated       1.00      1.00      1.00         2\n",
            "                                                          Gout       1.00      1.00      1.00        26\n",
            "                                                   Gout, Acute       1.00      1.00      1.00        56\n",
            "                                               Gouty Arthritis       1.00      1.00      1.00         9\n",
            "                                                 HIV Infection       0.98      1.00      0.99       202\n",
            "                                           Hashimoto's disease       1.00      1.00      1.00        71\n",
            "                                                   Head Injury       1.00      1.00      1.00         1\n",
            "                                                     Head Lice       0.94      1.00      0.97        32\n",
            "                                           Head and Neck Cance       1.00      1.00      1.00         1\n",
            "                                                      Headache       1.00      1.00      1.00       153\n",
            "                                                  Heart Attack       1.00      1.00      1.00        19\n",
            "                                                 Heart Failure       1.00      1.00      1.00        27\n",
            "                                 Helicobacter Pylori Infection       1.00      1.00      1.00        77\n",
            "                                                  Hemophilia A       0.00      0.00      0.00         1\n",
            "                                                  Hemophilia B       0.00      0.00      0.00         1\n",
            "                                                   Hemorrhoids       1.00      1.00      1.00        30\n",
            "                                        Hepatic Encephalopathy       1.00      1.00      1.00         8\n",
            "                                                   Hepatitis B       0.00      0.00      0.00         7\n",
            "                                                   Hepatitis C       0.97      1.00      0.99       245\n",
            "                                      Hepatocellular Carcinoma       0.50      1.00      0.67         2\n",
            "                                        Herbal Supplementation       1.00      1.00      1.00         5\n",
            "                                         Hereditary Angioedema       1.00      1.00      1.00         7\n",
            "                                                Herpes Simplex       1.00      1.00      1.00       129\n",
            "                            Herpes Simplex Dendritic Keratitis       1.00      1.00      1.00         1\n",
            "            Herpes Simplex, Mucocutaneous/Immunocompetent Host       0.86      1.00      0.92         6\n",
            "          Herpes Simplex, Mucocutaneous/Immunocompromised Host       0.00      0.00      0.00         1\n",
            "                                   Herpes Simplex, Suppression       1.00      1.00      1.00        44\n",
            "                                                  Herpes Zoste       1.00      1.00      1.00        10\n",
            "                                    Herpes Zoster, Prophylaxis       1.00      1.00      1.00         1\n",
            "                                                       Hiccups       1.00      1.00      1.00         6\n",
            "                                      Hidradenitis Suppurativa       0.00      0.00      0.00         3\n",
            "                                           High Blood Pressure       1.00      1.00      1.00       783\n",
            "                                              High Cholesterol       1.00      1.00      1.00       206\n",
            "                       High Cholesterol, Familial Heterozygous       1.00      1.00      1.00        18\n",
            "                         High Cholesterol, Familial Homozygous       1.00      1.00      1.00         3\n",
            "                                                     Hirsutism       1.00      1.00      1.00        48\n",
            "                                                Histoplasmosis       0.00      0.00      0.00         1\n",
            "                                                   Hot Flashes       1.00      1.00      1.00        67\n",
            "                                         Human Papilloma Virus       1.00      1.00      1.00        39\n",
            "                              Human Papillomavirus Prophylaxis       1.00      1.00      1.00         8\n",
            "                                   Hypercalcemia of Malignancy       1.00      1.00      1.00         2\n",
            "                                                 Hyperekplexia       0.00      0.00      0.00         2\n",
            "                                                 Hyperhidrosis       1.00      1.00      1.00       240\n",
            "                                                  Hyperkalemia       0.00      0.00      0.00         1\n",
            "                                          Hyperlipoproteinemia       1.00      1.00      1.00         2\n",
            "                   Hyperlipoproteinemia Type IIa, Elevated LDL       1.00      1.00      1.00         5\n",
            "                                             Hyperphosphatemia       0.00      0.00      0.00         1\n",
            "                            Hyperphosphatemia of Renal Failure       1.00      1.00      1.00         5\n",
            "                                            Hyperprolactinemia       1.00      1.00      1.00        14\n",
            "                                                   Hypersomnia       1.00      1.00      1.00        25\n",
            "                                        Hypertensive Emergency       1.00      1.00      1.00         1\n",
            "                                               Hyperthyroidism       0.00      0.00      0.00         3\n",
            "                                          Hypertriglyceridemia       1.00      1.00      1.00        26\n",
            "                              Hypoactive Sexual Desire Disorde       1.00      1.00      1.00         1\n",
            "                                                  Hypocalcemia       0.00      0.00      0.00         3\n",
            "                                               Hypodermoclysis       0.00      0.00      0.00         1\n",
            "                                               Hypoestrogenism       0.82      1.00      0.90         9\n",
            "                                            Hypogonadism, Male       1.00      1.00      1.00       195\n",
            "                                Hypokalemic Periodic Paralysis       0.00      0.00      0.00         1\n",
            "                                                Hypomagnesemia       0.00      0.00      0.00         3\n",
            "                                            Hypoparathyroidism       0.40      1.00      0.57         2\n",
            "                                                   Hypotension       0.00      0.00      0.00         4\n",
            "                         Hypothyroidism, After Thyroid Removal       1.00      1.00      1.00        37\n",
            "                                                 ICU Agitation       1.00      1.00      1.00         2\n",
            "                                                    Ichthyosis       0.00      0.00      0.00         1\n",
            "                           Idiopathic Thrombocytopenic Purpura       1.00      1.00      1.00         7\n",
            "                                             Immunosuppression       0.00      0.00      0.00         1\n",
            "                                                       Impetig       0.00      0.00      0.00         3\n",
            "                                                   Indigestion       1.00      1.00      1.00        20\n",
            "                                         Infection Prophylaxis       1.00      1.00      1.00         5\n",
            "                                    Inflammatory Bowel Disease       1.00      1.00      1.00         9\n",
            "                                       Inflammatory Conditions       1.00      1.00      1.00       103\n",
            "                                                     Influenza       1.00      1.00      1.00       117\n",
            "                                         Influenza Prophylaxis       1.00      1.00      1.00         5\n",
            "                                                      Insomnia       1.00      1.00      1.00      1231\n",
            "                                Insomnia, Stimulant-Associated       1.00      1.00      1.00         3\n",
            "                                   Insulin Resistance Syndrome       1.00      1.00      1.00         8\n",
            "                                     Intermittent Claudication       1.00      1.00      1.00         3\n",
            "                                         Interstitial Cystitis       1.00      1.00      1.00        45\n",
            "                                      Intraabdominal Infection       1.00      1.00      1.00         2\n",
            "                                      Intraocular Hypertension       1.00      1.00      1.00         9\n",
            "                                                        Iritis       0.00      0.00      0.00         3\n",
            "                                        Iron Deficiency Anemia       1.00      1.00      1.00        15\n",
            "                                      Irritable Bowel Syndrome       1.00      1.00      1.00       325\n",
            "                                               Ischemic Stroke       1.00      1.00      1.00         2\n",
            "                                  Ischemic Stroke, Prophylaxis       1.00      1.00      1.00         8\n",
            "                                               Joint Infection       0.00      0.00      0.00         1\n",
            "                                 Juvenile Idiopathic Arthritis       1.00      1.00      1.00         7\n",
            "                                 Juvenile Rheumatoid Arthritis       1.00      1.00      1.00         8\n",
            "                                                     Keratitis       0.00      0.00      0.00         1\n",
            "                                    Keratoconjunctivitis Sicca       1.00      1.00      1.00        26\n",
            "                                                     Keratosis       1.00      1.00      1.00        45\n",
            "                                             Kidney Infections       1.00      1.00      1.00        32\n",
            "                                               Labor Induction       1.00      1.00      1.00         5\n",
            "                                                    Labor Pain       1.00      1.00      1.00         5\n",
            "                                        Lactation Augmentation       1.00      1.00      1.00         4\n",
            "                                           Lactose Intolerance       1.00      1.00      1.00         2\n",
            "                                  Left Ventricular Dysfunction       1.00      1.00      1.00         7\n",
            "                                       Lennox-Gastaut Syndrome       1.00      1.00      1.00         5\n",
            "                                                      Leukemia       1.00      1.00      1.00         1\n",
            "                                                 Lichen Planus       0.00      0.00      0.00         3\n",
            "                                              Lichen Sclerosus       0.40      1.00      0.57         2\n",
            "                                              Light Anesthesia       1.00      1.00      1.00        13\n",
            "                                                Light Sedation       1.00      1.00      1.00        23\n",
            "                                                 Lipodystrophy       1.00      0.33      0.50         3\n",
            "                              Liver Magnetic Resonance Imaging       0.00      0.00      0.00         2\n",
            "                                              Local Anesthesia       1.00      1.00      1.00         3\n",
            "                                                  Lyme Disease       1.00      1.00      1.00        10\n",
            "                                      Lyme Disease, Neurologic       1.00      1.00      1.00         4\n",
            "                                           Lymphocytic Colitis       1.00      1.00      1.00         2\n",
            "                                                      Lymphoma       1.00      1.00      1.00         3\n",
            "                                          Macular Degeneration       1.00      1.00      1.00        10\n",
            "                                                 Macular Edema       1.00      1.00      1.00         3\n",
            "                                      Major Depressive Disorde       1.00      1.00      1.00       524\n",
            "                                                       Malaria       1.00      1.00      1.00         7\n",
            "                                            Malaria Prevention       1.00      1.00      1.00        14\n",
            "                                                         Mania       1.00      1.00      1.00        20\n",
            "                                                      Melanoma       1.00      1.00      1.00         1\n",
            "                                          Melanoma, Metastatic       1.00      1.00      1.00         3\n",
            "                                                       Melasma       1.00      1.00      1.00        28\n",
            "                                             Meniere's Disease       0.80      1.00      0.89         8\n",
            "                          Meningococcal Meningitis Prophylaxis       0.00      0.00      0.00         1\n",
            "                                          Menopausal Disorders       1.00      1.00      1.00         4\n",
            "                                                   Menorrhagia       1.00      1.00      1.00        16\n",
            "                                           Menstrual Disorders       1.00      1.00      1.00       127\n",
            "         Methicillin-Resistant Staphylococcus Aureus Infection       1.00      1.00      1.00         8\n",
            "                                                      Migraine       1.00      1.00      1.00       583\n",
            "                                           Migraine Prevention       1.00      1.00      1.00       454\n",
            "                                     Mild Cognitive Impairment       1.00      1.00      1.00         3\n",
            "                                         Mitral Valve Prolapse       1.00      1.00      1.00         9\n",
            "                               Mixed Connective Tissue Disease       0.00      0.00      0.00         1\n",
            "                                                 Mononucleosis       0.00      0.00      0.00         1\n",
            "                                               Motion Sickness       1.00      1.00      1.00        72\n",
            "                         Mountain Sickness / Altitude Sickness       1.00      1.00      1.00         4\n",
            "                                                     Mucositis       0.00      0.00      0.00         5\n",
            "                                              Multiple Myeloma       1.00      1.00      1.00         3\n",
            "                                            Multiple Sclerosis       1.00      1.00      1.00       215\n",
            "                                                   Muscle Pain       1.00      1.00      1.00        31\n",
            "                                                  Muscle Spasm       1.00      1.00      1.00       387\n",
            "                                             Myasthenia Gravis       1.00      1.00      1.00        13\n",
            "                 Mycobacterium avium-intracellulare, Treatment       1.00      1.00      1.00         4\n",
            "                                          Mycoplasma Pneumonia       0.00      0.00      0.00         2\n",
            "                                      Myelodysplastic Syndrome       1.00      1.00      1.00         6\n",
            "                                                 Myelofibrosis       0.00      0.00      0.00         1\n",
            "                                  Myeloproliferative Disorders       0.00      0.00      0.00         1\n",
            "                                    NSAID-Induced Gastric Ulce       1.00      1.00      1.00         3\n",
            "                                                    Narcolepsy       1.00      1.00      1.00       152\n",
            "                       Nasal Carriage of Staphylococcus aureus       1.00      1.00      1.00         1\n",
            "                                              Nasal Congestion       1.00      1.00      1.00       100\n",
            "                                                  Nasal Polyps       1.00      1.00      1.00         5\n",
            "                                               Nausea/Vomiting       1.00      1.00      1.00       266\n",
            "                                  Nausea/Vomiting of Pregnancy       1.00      1.00      1.00        38\n",
            "                         Nausea/Vomiting, Chemotherapy Induced       0.94      1.00      0.97        15\n",
            "                                Nausea/Vomiting, Postoperative       1.00      1.00      1.00         6\n",
            "                                                     Neck Pain       0.00      0.00      0.00         2\n",
            "                                            Nephrotic Syndrome       0.33      1.00      0.50         1\n",
            "                                                     Neuralgia       1.00      1.00      1.00        31\n",
            "                                              Neuropathic Pain       1.00      1.00      1.00        96\n",
            "                                                   Neutropenia       0.00      0.00      0.00         1\n",
            "                      Neutropenia Associated with Chemotherapy       1.00      1.00      1.00        11\n",
            "                                 New Daily Persistent Headache       1.00      1.00      1.00         2\n",
            "                                                 Night Terrors       1.00      1.00      1.00         6\n",
            "                                                    Nightmares       1.00      1.00      1.00         7\n",
            "                                          Nocturnal Leg Cramps       1.00      1.00      1.00         8\n",
            "                                        Non-Hodgkin's Lymphoma       1.00      1.00      1.00         5\n",
            "                                     Non-Small Cell Lung Cance       1.00      1.00      1.00        40\n",
            "                                         Noninfectious Colitis       1.00      1.00      1.00         5\n",
            "                                      Nonoccupational Exposure       1.00      1.00      1.00         1\n",
            "                                             Not Listed / Othe       1.00      1.00      1.00       153\n",
            "                                                       Obesity       1.00      1.00      1.00      1189\n",
            "                                  Obsessive Compulsive Disorde       1.00      1.00      1.00       173\n",
            "                     Obstructive Sleep Apnea/Hypopnea Syndrome       1.00      1.00      1.00        37\n",
            "                                           Occipital Neuralgia       0.00      0.00      0.00         4\n",
            "                                                  Oligospermia       0.00      0.00      0.00         2\n",
            "                                     Onychomycosis, Fingernail       1.00      1.00      1.00         7\n",
            "                                        Onychomycosis, Toenail       1.00      1.00      1.00       137\n",
            "                                                  Oophorectomy       1.00      1.00      1.00         3\n",
            "                                            Ophthalmic Surgery       1.00      1.00      1.00         3\n",
            "                                                Opiate Adjunct       1.00      1.00      1.00         2\n",
            "                                             Opiate Dependence       1.00      1.00      1.00       398\n",
            "                                             Opiate Withdrawal       0.99      1.00      1.00       107\n",
            "                                               Opioid Overdose       1.00      1.00      1.00         5\n",
            "                                   Opioid-Induced Constipation       1.00      1.00      1.00        18\n",
            "                                  Oppositional Defiant Disorde       0.00      0.00      0.00         1\n",
            "                                                   Oral Thrush       1.00      1.00      1.00         4\n",
            "                                    Oral and Dental Conditions       1.00      1.00      1.00         1\n",
            "                       Organ Transplant, Rejection Prophylaxis       0.92      1.00      0.96        12\n",
            "                          Organ Transplant, Rejection Reversal       0.00      0.00      0.00         1\n",
            "                                                Osteoarthritis       1.00      1.00      1.00       387\n",
            "                   Osteolytic Bone Lesions of Multiple Myeloma       1.00      1.00      1.00         4\n",
            "                    Osteolytic Bone Metastases of Solid Tumors       1.00      1.00      1.00         3\n",
            "                                                  Osteoporosis       1.00      1.00      1.00        86\n",
            "                                                Otitis Externa       1.00      1.00      1.00        11\n",
            "                                                  Otitis Media       1.00      1.00      1.00        55\n",
            "                                                 Ovarian Cance       1.00      1.00      1.00         1\n",
            "                                                 Ovarian Cysts       1.00      1.00      1.00        55\n",
            "                                             Overactive Bladde       1.00      1.00      1.00       234\n",
            "                                           Ovulation Induction       1.00      1.00      1.00         8\n",
            "                                               Paget's Disease       0.00      0.00      0.00         2\n",
            "                                                          Pain       1.00      1.00      1.00      2100\n",
            "                                                     Pain/Feve       1.00      1.00      1.00         1\n",
            "                                              Pancreatic Cance       1.00      1.00      1.00         1\n",
            "                               Pancreatic Exocrine Dysfunction       1.00      1.00      1.00         7\n",
            "                                                 Panic Disorde       1.00      1.00      1.00       469\n",
            "                                              Paranoid Disorde       1.00      1.00      1.00        10\n",
            "                                           Parkinson's Disease       1.00      1.00      1.00        50\n",
            "                                                  Parkinsonism       0.00      0.00      0.00         1\n",
            "                                                            Pe       1.00      1.00      1.00         4\n",
            "                           Pediatric Growth Hormone Deficiency       1.00      1.00      1.00         4\n",
            "                                   Pelvic Inflammatory Disease       1.00      1.00      1.00         4\n",
            "                                                    Pemphigoid       0.00      0.00      0.00         1\n",
            "                                                     Pemphigus       0.00      0.00      0.00         1\n",
            "                                                   Peptic Ulce       1.00      1.00      1.00         5\n",
            "                            Percutaneous Coronary Intervention       0.00      0.00      0.00         3\n",
            "                                           Performance Anxiety       1.00      1.00      1.00         2\n",
            "                                       Perimenopausal Symptoms       1.00      1.00      1.00        15\n",
            "                                                   Period Pain       1.00      1.00      1.00        48\n",
            "                                Periodic Limb Movement Disorde       0.94      1.00      0.97        17\n",
            "                                                 Periodontitis       0.00      0.00      0.00         2\n",
            "                                           Perioral Dermatitis       1.00      1.00      1.00         3\n",
            "                                   Peripheral Arterial Disease       1.00      1.00      1.00         1\n",
            "                                         Peripheral Neuropathy       0.98      1.00      0.99        60\n",
            "                                                   Peritonitis       0.00      0.00      0.00         3\n",
            "                                 Persistent Depressive Disorde       1.00      1.00      1.00         3\n",
            "                                                     Pertussis       0.00      0.00      0.00         1\n",
            "                                                   Pharyngitis       1.00      1.00      1.00         2\n",
            "                                        Photoaging of the Skin       1.00      1.00      1.00         8\n",
            "                   Pinworm Infection (Enterobius vermicularis)       1.00      1.00      1.00         6\n",
            "                                      Pityriasis rubra pilaris       0.00      0.00      0.00         1\n",
            "                                              Plaque Psoriasis       1.00      1.00      1.00        98\n",
            "                               Platelet Aggregation Inhibition       0.00      0.00      0.00         2\n",
            "                              Pneumococcal Disease Prophylaxis       1.00      1.00      1.00        11\n",
            "                                                     Pneumonia       1.00      1.00      1.00        88\n",
            "                                     Polycystic Ovary Syndrome       1.00      1.00      1.00        78\n",
            "                                             Polycythemia Vera       1.00      1.00      1.00         1\n",
            "                                 Post Traumatic Stress Disorde       1.00      1.00      1.00       118\n",
            "                                 Post-Cholecystectomy Diarrhea       1.00      1.00      1.00         2\n",
            "                                        Postherpetic Neuralgia       1.00      1.00      1.00        43\n",
            "                                       Postmenopausal Symptoms       1.00      1.00      1.00       136\n",
            "                  Postoperative Increased Intraocular Pressure       0.00      0.00      0.00         1\n",
            "                             Postoperative Ocular Inflammation       0.89      1.00      0.94         8\n",
            "                                            Postoperative Pain       1.00      1.00      1.00        13\n",
            "                                         Postpartum Depression       1.00      1.00      1.00        30\n",
            "                     Postural Orthostatic Tachycardia Syndrome       1.00      1.00      1.00        10\n",
            "                                      Pre-Exposure Prophylaxis       1.00      1.00      1.00         1\n",
            "                                            Precocious Puberty       1.00      1.00      1.00         6\n",
            "                                                 Premature Lab       1.00      1.00      1.00        36\n",
            "                         Premature Ventricular Depolarizations       1.00      1.00      1.00         2\n",
            "                                Premenstrual Dysphoric Disorde       1.00      1.00      1.00        98\n",
            "                                         Premenstrual Syndrome       1.00      1.00      1.00         7\n",
            "                               Prevention of Bladder infection       1.00      1.00      1.00        18\n",
            "                          Prevention of Cardiovascular Disease       1.00      1.00      1.00         3\n",
            "                                   Prevention of Dental Caries       1.00      1.00      1.00         2\n",
            "                                     Prevention of Hypokalemia       1.00      1.00      1.00         1\n",
            "                                    Prevention of Osteoporosis       1.00      1.00      1.00        11\n",
            "          Prevention of Thromboembolism in Atrial Fibrillation       1.00      1.00      1.00        44\n",
            "                                    Primary Hyperaldosteronism       1.00      1.00      1.00         1\n",
            "                             Primary Immunodeficiency Syndrome       1.00      1.00      1.00        12\n",
            "                                    Primary Nocturnal Enuresis       1.00      1.00      1.00         3\n",
            "                                       Primary Ovarian Failure       1.00      1.00      1.00         4\n",
            "                                    Progesterone Insufficiency       1.00      1.00      1.00         3\n",
            "                                                Prostate Cance       1.00      1.00      1.00        47\n",
            "                                                   Prostatitis       1.00      1.00      1.00        24\n",
            "                                                      Pruritus       1.00      1.00      1.00        17\n",
            "                                           Pseudobulbar Affect       1.00      1.00      1.00         7\n",
            "                                           Pseudotumor Cerebri       1.00      1.00      1.00        28\n",
            "                                                     Psoriasis       1.00      1.00      1.00       198\n",
            "                                           Psoriatic Arthritis       1.00      1.00      1.00       112\n",
            "                                                     Psychosis       1.00      1.00      1.00        25\n",
            "                                            Pudendal Neuralgia       0.00      0.00      0.00         1\n",
            "                                            Pulmonary Embolism       1.00      1.00      1.00        20\n",
            "                               Pulmonary Embolism, First Event       1.00      1.00      1.00         2\n",
            "                                        Pulmonary Hypertension       1.00      1.00      1.00        26\n",
            "                                            Pupillary Dilation       1.00      1.00      1.00         2\n",
            "                       Radionuclide Myocardial Perfusion Study       0.00      0.00      0.00         1\n",
            "                                            Raynaud's Syndrome       1.00      1.00      1.00        13\n",
            "                         Reflex Sympathetic Dystrophy Syndrome       0.93      1.00      0.96        13\n",
            "                                          Renal Cell Carcinoma       1.00      1.00      1.00        30\n",
            "                                        Restless Legs Syndrome       1.00      1.00      1.00       240\n",
            "                  Reversal of Nondepolarizing Muscle Relaxants       0.00      0.00      0.00         1\n",
            "                                   Reversal of Opioid Sedation       1.00      1.00      1.00         4\n",
            "                                          Rheumatoid Arthritis       1.00      1.00      1.00       320\n",
            "                                                      Rhinitis       1.00      1.00      1.00        31\n",
            "                                                    Rhinorrhea       0.00      0.00      0.00         3\n",
            "                                                       Rosacea       1.00      1.00      1.00       175\n",
            "                                                   Sarcoidosis       0.00      0.00      0.00         4\n",
            "                                                       Scabies       0.50      1.00      0.67         2\n",
            "                                                Schilling Test       0.00      0.00      0.00         1\n",
            "                                       Schizoaffective Disorde       0.95      1.00      0.98       127\n",
            "                                                 Schizophrenia       1.00      1.00      1.00       195\n",
            "                                           Schnitzler Syndrome       0.00      0.00      0.00         2\n",
            "                                                      Sciatica       1.00      1.00      1.00        40\n",
            "                                    Seasonal Affective Disorde       1.00      1.00      1.00         3\n",
            "                              Seasonal Allergic Conjunctivitis       1.00      1.00      1.00        21\n",
            "                                         Seborrheic Dermatitis       1.00      1.00      1.00        10\n",
            "                                 Secondary Hyperparathyroidism       1.00      1.00      1.00         3\n",
            "                                                      Sedation       1.00      1.00      1.00        63\n",
            "                                            Seizure Prevention       1.00      1.00      1.00        71\n",
            "                                                      Seizures       1.00      1.00      1.00       176\n",
            "                              Sexual Dysfunction, SSRI Induced       1.00      1.00      1.00        29\n",
            "                                      Shift Work Sleep Disorde       1.00      1.00      1.00        24\n",
            "                                                Sinus Symptoms       1.00      1.00      1.00        21\n",
            "                                                     Sinusitis       1.00      1.00      1.00       289\n",
            "                                            Sjogren's Syndrome       0.78      1.00      0.88        18\n",
            "                                                    Skin Cance       1.00      1.00      1.00         4\n",
            "                               Skin Disinfection, Preoperative       0.00      0.00      0.00         4\n",
            "                                                     Skin Rash       0.43      1.00      0.60         3\n",
            "                                  Skin and Structure Infection       1.00      1.00      1.00        19\n",
            "                                 Skin or Soft Tissue Infection       0.98      1.00      0.99        56\n",
            "                             Small Bowel or Pancreatic Fistula       0.00      0.00      0.00         1\n",
            "                                             Smoking Cessation       1.00      1.00      1.00       660\n",
            "                                        Social Anxiety Disorde       1.00      1.00      1.00       133\n",
            "                                           Soft Tissue Sarcoma       1.00      1.00      1.00        13\n",
            "                                                   Sore Throat       1.00      1.00      1.00         1\n",
            "                                             Spondyloarthritis       0.00      0.00      0.00         4\n",
            "                                             Spondylolisthesis       0.00      0.00      0.00         1\n",
            "                                       Squamous Cell Carcinoma       0.00      0.00      0.00         1\n",
            "                                            Status Epilepticus       1.00      1.00      1.00         1\n",
            "                                               Still's Disease       1.00      1.00      1.00         2\n",
            "                                                 Stomach Cance       0.00      0.00      0.00         1\n",
            "                                                  Stomach Ulce       0.81      1.00      0.89        21\n",
            "                                                    Strabismus       0.00      0.00      0.00         1\n",
            "                                                  Strep Throat       1.00      1.00      1.00        49\n",
            "                                       Streptococcal Infection       1.00      1.00      1.00         2\n",
            "                                      Stress Ulcer Prophylaxis       1.00      1.00      1.00         1\n",
            "                                              Strongyloidiasis       0.00      0.00      0.00         1\n",
            "                                       Subarachnoid Hemorrhage       0.00      0.00      0.00         1\n",
            "                                            Submental Fullness       0.00      0.00      0.00         2\n",
            "                                                       Sunburn       0.00      0.00      0.00         1\n",
            "                                  Supraventricular Tachycardia       1.00      1.00      1.00        35\n",
            "                                          Surgical Prophylaxis       1.00      1.00      1.00         7\n",
            "                                                     Swine Flu       1.00      1.00      1.00         7\n",
            "                                                 Syringomyelia       0.00      0.00      0.00         1\n",
            "                                  Systemic Lupus Erythematosus       1.00      1.00      1.00        37\n",
            "                                         Systemic Mastocytosis       0.50      1.00      0.67         2\n",
            "                                            Systemic Sclerosis       0.00      0.00      0.00         2\n",
            "                                               TSH Suppression       1.00      1.00      1.00         6\n",
            "                               Temporomandibular Joint Disorde       1.00      1.00      1.00        10\n",
            "                                                    Tendonitis       1.00      1.00      1.00        21\n",
            "                                               Thrombocythemia       0.00      0.00      0.00         2\n",
            "                             Thromboembolic Stroke Prophylaxis       1.00      1.00      1.00         2\n",
            "                                                 Thyroid Cance       1.00      1.00      1.00         4\n",
            "                                                Thyrotoxicosis       0.00      0.00      0.00         1\n",
            "                                                Tinea Corporis       0.15      1.00      0.27         6\n",
            "                                                  Tinea Cruris       0.00      0.00      0.00         9\n",
            "                                                   Tinea Pedis       0.00      0.00      0.00        12\n",
            "                                                Tinea Versicol       0.00      0.00      0.00        11\n",
            "                                                      Tinnitus       1.00      1.00      1.00         8\n",
            "                                       Tonsillitis/Pharyngitis       1.00      1.00      1.00        23\n",
            "                                          Topical Disinfection       1.00      1.00      1.00         1\n",
            "                                           Tourette's Syndrome       1.00      1.00      1.00        21\n",
            "                                     Transient Ischemic Attack       1.00      1.00      1.00         1\n",
            "                                           Traveler's Diarrhea       1.00      1.00      1.00         2\n",
            "                                                Trichomoniasis       1.00      1.00      1.00        19\n",
            "                                              Trichotillomania       0.29      1.00      0.44         2\n",
            "                                          Trigeminal Neuralgia       1.00      1.00      1.00        51\n",
            "                                          Tuberculosis, Latent       1.00      1.00      1.00         3\n",
            "                                            Ulcerative Colitis       1.00      1.00      1.00        75\n",
            "                                    Ulcerative Colitis, Active       1.00      1.00      1.00        43\n",
            "                               Ulcerative Colitis, Maintenance       1.00      1.00      1.00        12\n",
            "                                          Ulcerative Proctitis       1.00      1.00      1.00         3\n",
            "                                           Underactive Thyroid       1.00      1.00      1.00       118\n",
            "                    Undifferentiated Connective Tissue Disease       0.88      1.00      0.93         7\n",
            "                                         Upper Limb Spasticity       0.00      0.00      0.00         1\n",
            "                             Upper Respiratory Tract Infection       0.98      1.00      0.99        64\n",
            "                                          Urinary Incontinence       0.98      1.00      0.99        64\n",
            "                                             Urinary Retention       0.00      0.00      0.00         1\n",
            "                                       Urinary Tract Infection       1.00      1.00      1.00       431\n",
            "                                          Urinary Tract Stones       1.00      1.00      1.00        43\n",
            "                                                     Urticaria       1.00      1.00      1.00        80\n",
            "                                              Uterine Bleeding       0.00      0.00      0.00         2\n",
            "                                              Uterine Fibroids       0.89      1.00      0.94        17\n",
            "                                                       Uveitis       0.62      1.00      0.76         8\n",
            "                                       Vaginal Yeast Infection       1.00      1.00      1.00       811\n",
            "                                               Varicella-Zoste       1.00      1.00      1.00         2\n",
            "                                        Ventricular Arrhythmia       0.00      0.00      0.00         1\n",
            "                                      Ventricular Fibrillation       0.00      0.00      0.00         2\n",
            "                                       Ventricular Tachycardia       0.57      1.00      0.73         4\n",
            "                                                        Vertig       1.00      1.00      1.00        23\n",
            "                                        Vitamin B12 Deficiency       1.00      1.00      1.00         5\n",
            "                                          Vitamin D Deficiency       1.00      1.00      1.00         6\n",
            "                Vitamin/Mineral Supplementation and Deficiency       1.00      1.00      1.00         7\n",
            "    Vitamin/Mineral Supplementation during Pregnancy/Lactation       1.00      1.00      1.00        25\n",
            "                                                    Vulvodynia       1.00      1.00      1.00        10\n",
            "                                                         Warts       0.00      0.00      0.00         2\n",
            "                                      Wegener's Granulomatosis       0.50      1.00      0.67         1\n",
            "                                                   Weight Loss       1.00      1.00      1.00      1248\n",
            "                                Wolff-Parkinson-White Syndrome       1.00      1.00      1.00         1\n",
            "                                            Women (oxybutynin)       1.00      1.00      1.00         3\n",
            "                                                    Xerostomia       1.00      1.00      1.00         8\n",
            "                                    Zollinger-Ellison Syndrome       0.00      0.00      0.00         1\n",
            "                                             acial Lipoatrophy       0.00      0.00      0.00         1\n",
            "                                                acial Wrinkles       0.92      1.00      0.96        11\n",
            "                                           actor IX Deficiency       1.00      1.00      1.00         1\n",
            "                        amilial Cold Autoinflammatory Syndrome       1.00      1.00      1.00         1\n",
            "                                                        atigue       0.95      0.95      0.95        21\n",
            "                              cal Segmental Glomerulosclerosis       1.00      1.00      1.00         1\n",
            "                                             emale Infertility       1.00      1.00      1.00        22\n",
            "                                                           eve       1.00      1.00      1.00         4\n",
            "                                   ge (amlodipine / valsartan)       1.00      1.00      1.00         6\n",
            "                                     ibrocystic Breast Disease       0.00      0.00      0.00         1\n",
            "                                                   ibromyalgia       1.00      1.00      1.00       579\n",
            "                                           lic Acid Deficiency       1.00      1.00      1.00         3\n",
            "                                                m Pain Disorde       0.00      0.00      0.00         2\n",
            "                                                 mance Anxiety       1.00      1.00      1.00        72\n",
            "                                                            me       0.00      0.00      0.00         1\n",
            "                                            min / saxagliptin)       0.00      0.00      0.00         4\n",
            "                                            min / sitagliptin)       0.67      1.00      0.80         8\n",
            "                                                          min)       1.00      1.00      1.00        15\n",
            "                                                        mist (       0.00      0.00      0.00         1\n",
            "                                         moterol / mometasone)       1.00      1.00      1.00         7\n",
            "                                                      moterol)       1.00      1.00      1.00        34\n",
            "                                     mulation) (phenylephrine)       1.00      1.00      1.00         3\n",
            "                                       tic (mycophenolic acid)       0.00      0.00      0.00         1\n",
            "                                      von Willebrand's Disease       1.00      1.00      1.00         3\n",
            "                                                   zen Shoulde       1.00      1.00      1.00         7\n",
            "\n",
            "                                                      accuracy                           1.00     53161\n",
            "                                                     macro avg       0.78      0.80      0.78     53161\n",
            "                                                  weighted avg       0.99      1.00      0.99     53161\n",
            "\n"
          ],
          "name": "stdout"
        },
        {
          "output_type": "stream",
          "text": [
            "/usr/local/lib/python3.6/dist-packages/sklearn/metrics/classification.py:1437: UndefinedMetricWarning: Precision and F-score are ill-defined and being set to 0.0 in labels with no predicted samples.\n",
            "  'precision', 'predicted', average, warn_for)\n"
          ],
          "name": "stderr"
        }
      ]
    }
  ]
}